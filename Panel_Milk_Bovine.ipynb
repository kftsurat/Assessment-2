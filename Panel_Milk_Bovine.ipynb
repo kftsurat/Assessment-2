{
 "cells": [
  {
   "cell_type": "markdown",
   "metadata": {},
   "source": [
    "# Panel"
   ]
  },
  {
   "cell_type": "markdown",
   "metadata": {},
   "source": [
    "https://panel.holoviz.org/index.html"
   ]
  },
  {
   "cell_type": "code",
   "execution_count": 1,
   "metadata": {},
   "outputs": [
    {
     "name": "stdout",
     "output_type": "stream",
     "text": [
      "Requirement already satisfied: panel in c:\\users\\kftsu\\anaconda3\\lib\\site-packages (0.13.0)\n",
      "Requirement already satisfied: bleach in c:\\users\\kftsu\\anaconda3\\lib\\site-packages (from panel) (4.1.0)\n",
      "Requirement already satisfied: requests in c:\\users\\kftsu\\anaconda3\\lib\\site-packages (from panel) (2.25.0)\n",
      "Requirement already satisfied: pyviz-comms>=0.7.4 in c:\\users\\kftsu\\anaconda3\\lib\\site-packages (from panel) (2.0.2)\n",
      "Requirement already satisfied: param>=1.12.0 in c:\\users\\kftsu\\anaconda3\\lib\\site-packages (from panel) (1.12.0)\n",
      "Requirement already satisfied: bokeh<2.5.0,>=2.4.0 in c:\\users\\kftsu\\anaconda3\\lib\\site-packages (from panel) (2.4.2)\n",
      "Requirement already satisfied: pyct>=0.4.4 in c:\\users\\kftsu\\anaconda3\\lib\\site-packages (from panel) (0.4.6)\n",
      "Requirement already satisfied: tqdm>=4.48.0 in c:\\users\\kftsu\\anaconda3\\lib\\site-packages (from panel) (4.64.0)\n",
      "Requirement already satisfied: markdown in c:\\users\\kftsu\\anaconda3\\lib\\site-packages (from panel) (3.3.4)\n",
      "Requirement already satisfied: numpy>=1.11.3 in c:\\users\\kftsu\\anaconda3\\lib\\site-packages (from bokeh<2.5.0,>=2.4.0->panel) (1.21.5)\n",
      "Requirement already satisfied: Jinja2>=2.9 in c:\\users\\kftsu\\anaconda3\\lib\\site-packages (from bokeh<2.5.0,>=2.4.0->panel) (2.11.3)\n",
      "Requirement already satisfied: tornado>=5.1 in c:\\users\\kftsu\\anaconda3\\lib\\site-packages (from bokeh<2.5.0,>=2.4.0->panel) (6.1)\n",
      "Requirement already satisfied: packaging>=16.8 in c:\\users\\kftsu\\anaconda3\\lib\\site-packages (from bokeh<2.5.0,>=2.4.0->panel) (21.3)\n",
      "Requirement already satisfied: typing-extensions>=3.10.0 in c:\\users\\kftsu\\anaconda3\\lib\\site-packages (from bokeh<2.5.0,>=2.4.0->panel) (4.1.1)\n",
      "Requirement already satisfied: PyYAML>=3.10 in c:\\users\\kftsu\\anaconda3\\lib\\site-packages (from bokeh<2.5.0,>=2.4.0->panel) (5.4.1)\n",
      "Requirement already satisfied: pillow>=7.1.0 in c:\\users\\kftsu\\anaconda3\\lib\\site-packages (from bokeh<2.5.0,>=2.4.0->panel) (9.0.1)\n",
      "Requirement already satisfied: MarkupSafe>=0.23 in c:\\users\\kftsu\\anaconda3\\lib\\site-packages (from Jinja2>=2.9->bokeh<2.5.0,>=2.4.0->panel) (2.0.1)\n",
      "Requirement already satisfied: pyparsing!=3.0.5,>=2.0.2 in c:\\users\\kftsu\\anaconda3\\lib\\site-packages (from packaging>=16.8->bokeh<2.5.0,>=2.4.0->panel) (3.0.4)\n",
      "Requirement already satisfied: colorama in c:\\users\\kftsu\\anaconda3\\lib\\site-packages (from tqdm>=4.48.0->panel) (0.4.4)\n",
      "Requirement already satisfied: webencodings in c:\\users\\kftsu\\anaconda3\\lib\\site-packages (from bleach->panel) (0.5.1)\n",
      "Requirement already satisfied: six>=1.9.0 in c:\\users\\kftsu\\anaconda3\\lib\\site-packages (from bleach->panel) (1.16.0)\n",
      "Requirement already satisfied: urllib3<1.27,>=1.21.1 in c:\\users\\kftsu\\anaconda3\\lib\\site-packages (from requests->panel) (1.26.9)\n",
      "Requirement already satisfied: chardet<4,>=3.0.2 in c:\\users\\kftsu\\anaconda3\\lib\\site-packages (from requests->panel) (3.0.4)\n",
      "Requirement already satisfied: idna<3,>=2.5 in c:\\users\\kftsu\\anaconda3\\lib\\site-packages (from requests->panel) (2.10)\n",
      "Requirement already satisfied: certifi>=2017.4.17 in c:\\users\\kftsu\\anaconda3\\lib\\site-packages (from requests->panel) (2021.10.8)\n",
      "Note: you may need to restart the kernel to use updated packages.\n"
     ]
    }
   ],
   "source": [
    "pip install panel"
   ]
  },
  {
   "cell_type": "markdown",
   "metadata": {},
   "source": [
    "Panel lets you add interactive controls for just about anything you can display in Python. Panel can help you build simple interactive apps, complex multi-page dashboards, or anything in between. As a simple example, let’s say we have loaded the UCI ML dataset measuring the environment in a meeting room:"
   ]
  },
  {
   "cell_type": "code",
   "execution_count": 34,
   "metadata": {},
   "outputs": [
    {
     "data": {
      "text/html": [
       "<div>\n",
       "<style scoped>\n",
       "    .dataframe tbody tr th:only-of-type {\n",
       "        vertical-align: middle;\n",
       "    }\n",
       "\n",
       "    .dataframe tbody tr th {\n",
       "        vertical-align: top;\n",
       "    }\n",
       "\n",
       "    .dataframe thead th {\n",
       "        text-align: right;\n",
       "    }\n",
       "</style>\n",
       "<table border=\"1\" class=\"dataframe\">\n",
       "  <thead>\n",
       "    <tr style=\"text-align: right;\">\n",
       "      <th></th>\n",
       "      <th>Country</th>\n",
       "      <th>Year</th>\n",
       "      <th>Milk Produced</th>\n",
       "      <th>Number of Dairy Cows</th>\n",
       "    </tr>\n",
       "  </thead>\n",
       "  <tbody>\n",
       "    <tr>\n",
       "      <th>292</th>\n",
       "      <td>Romania</td>\n",
       "      <td>2021</td>\n",
       "      <td>3637.00</td>\n",
       "      <td>1081.90</td>\n",
       "    </tr>\n",
       "    <tr>\n",
       "      <th>293</th>\n",
       "      <td>Slovenia</td>\n",
       "      <td>2021</td>\n",
       "      <td>639.93</td>\n",
       "      <td>100.92</td>\n",
       "    </tr>\n",
       "    <tr>\n",
       "      <th>294</th>\n",
       "      <td>Slovakia</td>\n",
       "      <td>2021</td>\n",
       "      <td>902.64</td>\n",
       "      <td>120.07</td>\n",
       "    </tr>\n",
       "    <tr>\n",
       "      <th>295</th>\n",
       "      <td>Finland</td>\n",
       "      <td>2021</td>\n",
       "      <td>2161.46</td>\n",
       "      <td>248.53</td>\n",
       "    </tr>\n",
       "    <tr>\n",
       "      <th>296</th>\n",
       "      <td>Sweden</td>\n",
       "      <td>2021</td>\n",
       "      <td>2782.22</td>\n",
       "      <td>299.60</td>\n",
       "    </tr>\n",
       "  </tbody>\n",
       "</table>\n",
       "</div>"
      ],
      "text/plain": [
       "      Country  Year  Milk Produced  Number of Dairy Cows\n",
       "292   Romania  2021        3637.00               1081.90\n",
       "293  Slovenia  2021         639.93                100.92\n",
       "294  Slovakia  2021         902.64                120.07\n",
       "295   Finland  2021        2161.46                248.53\n",
       "296    Sweden  2021        2782.22                299.60"
      ]
     },
     "execution_count": 34,
     "metadata": {},
     "output_type": "execute_result"
    }
   ],
   "source": [
    "import pandas as pd\n",
    "import numpy as np\n",
    "import matplotlib.pyplot as plt\n",
    "\n",
    "data = pd.read_csv('Milk_Bovine.csv')\n",
    "#data['date'] = data.date.astype('datetime64[ns]')\n",
    "#data = data.set_index('date')\n",
    "\n",
    "data.tail()"
   ]
  },
  {
   "cell_type": "markdown",
   "metadata": {},
   "source": [
    "And we’ve written some code that smooths a time series and plots it using Matplotlib with outliers highlighted:"
   ]
  },
  {
   "cell_type": "code",
   "execution_count": 35,
   "metadata": {},
   "outputs": [],
   "source": [
    "from matplotlib.figure import Figure\n",
    "from matplotlib.backends.backend_agg import FigureCanvas\n",
    "\n",
    "%matplotlib inline\n",
    "\n",
    "def mpl_plot(avg, highlight):\n",
    "    fig = Figure()\n",
    "    FigureCanvas(fig) # not needed in mpl >= 3.1\n",
    "    ax = fig.add_subplot()\n",
    "    avg.plot(ax=ax)\n",
    "    if len(highlight): highlight.plot(style='o', ax=ax)\n",
    "    return fig\n",
    "\n",
    "def find_outliers(variable='Milk Produced', window=30, sigma=10, view_fn=mpl_plot):\n",
    "    avg = data[variable].rolling(window=window).mean()\n",
    "    residual = data[variable] - avg\n",
    "    std = residual.rolling(window=window).std()\n",
    "    outliers = (np.abs(residual) > std * sigma)\n",
    "    return view_fn(avg, avg[outliers])"
   ]
  },
  {
   "cell_type": "markdown",
   "metadata": {},
   "source": [
    "We can call the function with parameters and get a plot:"
   ]
  },
  {
   "cell_type": "code",
   "execution_count": 36,
   "metadata": {},
   "outputs": [
    {
     "data": {
      "image/png": "[encoded data removed]",
      "text/plain": [
       "<Figure size 432x288 with 1 Axes>"
      ]
     },
     "execution_count": 36,
     "metadata": {},
     "output_type": "execute_result"
    }
   ],
   "source": [
    "find_outliers(variable='Milk Produced', window=20, sigma=10)"
   ]
  },
  {
   "cell_type": "markdown",
   "metadata": {},
   "source": [
    "It works! But exploring all these parameters by typing Python is slow and tedious. Plus we want our boss, or the boss’s boss, to be able to try it out.\n",
    "\n",
    "If we wanted to try out lots of combinations of these values to understand how the window and sigma affect the plot, we could reevaluate the above cell lots of times, but that would be a slow and painful process, and is only really appropriate for users who are comfortable with editing Python code. In the next few examples we will demonstrate how to use Panel to quickly add some interactive controls to some object and make a simple app.\n",
    "\n",
    "To see an overview of the different APIs Panel offers see the API user guide and for a quick reference for various Panel functionality see the overview.\n",
    "https://panel.holoviz.org/index.html"
   ]
  },
  {
   "cell_type": "markdown",
   "metadata": {},
   "source": [
    "### Interactive Panels"
   ]
  },
  {
   "cell_type": "markdown",
   "metadata": {},
   "source": [
    "Instead of editing code, it’s much quicker and more straightforward to use sliders to adjust the values interactively. You can easily make a Panel app to explore a function’s parameters using pn.interact, which is similar to the ipywidgets interact function:"
   ]
  },
  {
   "cell_type": "code",
   "execution_count": 37,
   "metadata": {},
   "outputs": [
    {
     "data": {},
     "metadata": {},
     "output_type": "display_data"
    },
    {
     "data": {
      "application/vnd.holoviews_exec.v0+json": "",
      "text/html": [
       "<div id='5623'>\n",
       "\n",
       "\n",
       "\n",
       "\n",
       "\n",
       "  <div class=\"bk-root\" id=\"eaf708aa-5db5-4d95-bf0d-3b634fce99a7\" data-root-id=\"5623\"></div>\n",
       "</div>\n",
       "<script type=\"application/javascript\">(function(root) {\n",
       "  function embed_document(root) {\n",
       "    var docs_json = {\"8574f830-50f7-4110-957e-29f076aa57be\":{\"defs\":[{\"extends\":null,\"module\":null,\"name\":\"ReactiveHTML1\",\"overrides\":[],\"properties\":[]},{\"extends\":null,\"module\":null,\"name\":\"FlexBox1\",\"overrides\":[],\"properties\":[{\"default\":\"flex-start\",\"kind\":null,\"name\":\"align_content\"},{\"default\":\"flex-start\",\"kind\":null,\"name\":\"align_items\"},{\"default\":\"row\",\"kind\":null,\"name\":\"flex_direction\"},{\"default\":\"wrap\",\"kind\":null,\"name\":\"flex_wrap\"},{\"default\":\"flex-start\",\"kind\":null,\"name\":\"justify_content\"}]},{\"extends\":null,\"module\":null,\"name\":\"GridStack1\",\"overrides\":[],\"properties\":[{\"default\":\"warn\",\"kind\":null,\"name\":\"mode\"},{\"default\":null,\"kind\":null,\"name\":\"ncols\"},{\"default\":null,\"kind\":null,\"name\":\"nrows\"},{\"default\":true,\"kind\":null,\"name\":\"allow_resize\"},{\"default\":true,\"kind\":null,\"name\":\"allow_drag\"},{\"default\":[],\"kind\":null,\"name\":\"state\"}]},{\"extends\":null,\"module\":null,\"name\":\"click1\",\"overrides\":[],\"properties\":[{\"default\":\"\",\"kind\":null,\"name\":\"terminal_output\"},{\"default\":\"\",\"kind\":null,\"name\":\"debug_name\"},{\"default\":0,\"kind\":null,\"name\":\"clears\"}]},{\"extends\":null,\"module\":null,\"name\":\"TemplateActions1\",\"overrides\":[],\"properties\":[{\"default\":0,\"kind\":null,\"name\":\"open_modal\"},{\"default\":0,\"kind\":null,\"name\":\"close_modal\"}]},{\"extends\":null,\"module\":null,\"name\":\"MaterialTemplateActions1\",\"overrides\":[],\"properties\":[{\"default\":0,\"kind\":null,\"name\":\"open_modal\"},{\"default\":0,\"kind\":null,\"name\":\"close_modal\"}]}],\"roots\":{\"references\":[{\"attributes\":{\"children\":[{\"id\":\"5625\"},{\"id\":\"5626\"}],\"margin\":[0,0,0,0],\"name\":\"Column09063\"},\"id\":\"5624\",\"type\":\"Column\"},{\"attributes\":{\"children\":[{\"id\":\"5624\"},{\"id\":\"5627\"}],\"margin\":[0,0,0,0],\"name\":\"Column09055\"},\"id\":\"5623\",\"type\":\"Column\"},{\"attributes\":{\"children\":[{\"id\":\"5628\"}],\"margin\":[0,0,0,0],\"name\":\"Row09062\"},\"id\":\"5627\",\"type\":\"Row\"},{\"attributes\":{\"end\":90,\"margin\":[5,10,5,10],\"start\":-30,\"title\":\"window\",\"value\":30},\"id\":\"5625\",\"type\":\"Slider\"},{\"attributes\":{\"end\":30,\"margin\":[5,10,5,10],\"start\":-10,\"title\":\"sigma\",\"value\":10},\"id\":\"5626\",\"type\":\"Slider\"},{\"attributes\":{\"height\":288,\"margin\":[5,5,5,5],\"name\":\"interactive09054\",\"text\":\"&lt;img src=&quot;data:image/png;base64,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&quot; width=&quot;432px&quot; height=&quot;288px&quot; alt=&quot;&quot;&gt;&lt;/img&gt;\",\"width\":432},\"id\":\"5628\",\"type\":\"panel.models.markup.HTML\"},{\"attributes\":{\"client_comm_id\":\"8042a28b07a348a4a2e3023dcfc0106b\",\"comm_id\":\"659c0a6fba974af797dac071cc83cf98\",\"plot_id\":\"5623\"},\"id\":\"5629\",\"type\":\"panel.models.comm_manager.CommManager\"}],\"root_ids\":[\"5623\",\"5629\"]},\"title\":\"Bokeh Application\",\"version\":\"2.4.2\"}};\n",
       "    var render_items = [{\"docid\":\"8574f830-50f7-4110-957e-29f076aa57be\",\"root_ids\":[\"5623\"],\"roots\":{\"5623\":\"eaf708aa-5db5-4d95-bf0d-3b634fce99a7\"}}];\n",
       "    root.Bokeh.embed.embed_items_notebook(docs_json, render_items);\n",
       "  }\n",
       "  if (root.Bokeh !== undefined && root.Bokeh.Panel !== undefined) {\n",
       "    embed_document(root);\n",
       "  } else {\n",
       "    var attempts = 0;\n",
       "    var timer = setInterval(function(root) {\n",
       "      if (root.Bokeh !== undefined && root.Bokeh.Panel !== undefined) {\n",
       "        clearInterval(timer);\n",
       "        embed_document(root);\n",
       "      } else if (document.readyState == \"complete\") {\n",
       "        attempts++;\n",
       "        if (attempts > 200) {\n",
       "          clearInterval(timer);\n",
       "          console.log(\"Bokeh: ERROR: Unable to run BokehJS code because BokehJS library is missing\");\n",
       "        }\n",
       "      }\n",
       "    }, 25, root)\n",
       "  }\n",
       "})(window);</script>"
      ],
      "text/plain": [
       "Column\n",
       "    [0] Column\n",
       "        [0] IntSlider(end=90, name='window', start=-30, value=30)\n",
       "        [1] IntSlider(end=30, name='sigma', start=-10, value=10)\n",
       "    [1] Row\n",
       "        [0] Matplotlib(Figure, name='interactive09054')"
      ]
     },
     "execution_count": 37,
     "metadata": {
      "application/vnd.holoviews_exec.v0+json": {
       "id": "5623"
      }
     },
     "output_type": "execute_result"
    }
   ],
   "source": [
    "import panel as pn\n",
    "pn.extension()\n",
    "\n",
    "pn.interact(find_outliers)"
   ]
  },
  {
   "cell_type": "markdown",
   "metadata": {},
   "source": [
    "As long as you have a live Python process running, dragging these widgets will trigger a call to the find_outliers callback function, evaluating it for whatever combination of parameter values you select and displaying the results. A Panel like this makes it very easy to explore any function that produces a visual result of a supported type, such as Matplotlib (as above), Bokeh, Plotly, Altair, or various text and image types."
   ]
  },
  {
   "cell_type": "markdown",
   "metadata": {},
   "source": [
    "### Components of Panels"
   ]
  },
  {
   "cell_type": "markdown",
   "metadata": {},
   "source": [
    "interact is convenient, but what if you want more control over how it looks or works? First, let’s see what interact actually creates, by grabbing that object and displaying its representation:"
   ]
  },
  {
   "cell_type": "code",
   "execution_count": 32,
   "metadata": {},
   "outputs": [
    {
     "name": "stdout",
     "output_type": "stream",
     "text": [
      "Column\n",
      "    [0] Column\n",
      "        [0] Select(name='variable', options=['Country', 'Milk Produced...], value='Milk Produced')\n",
      "        [1] IntSlider(end=60, name='window', start=1, value=30)\n",
      "        [2] IntSlider(end=20, name='sigma', start=1, value=10)\n",
      "    [1] Row\n",
      "        [0] Matplotlib(Figure, name='interactive09037')\n"
     ]
    }
   ],
   "source": [
    "kw = dict(window=(1, 60), variable=sorted(list(data.columns)), sigma=(1, 20))\n",
    "i = pn.interact(find_outliers, **kw)\n",
    "i.pprint()"
   ]
  },
  {
   "cell_type": "markdown",
   "metadata": {},
   "source": [
    "As you can see, the interact call created a pn.Column object consisting of a WidgetBox (with 3 widgets) and a pn.Row with one Matplotlib figure object. Panel is compositional, so you can mix and match these components any way you like, adding other objects as needed:"
   ]
  },
  {
   "cell_type": "code",
   "execution_count": 33,
   "metadata": {},
   "outputs": [
    {
     "data": {
      "text/html": [
       "\n",
       "<pre>Traceback (most recent call last):\n",
       "  File &quot;C:\\Users\\kftsu\\anaconda3\\lib\\site-packages\\pandas\\core\\window\\rolling.py&quot;, line 348, in _prep_values\n",
       "    values = ensure_float64(values)\n",
       "  File &quot;pandas\\_libs\\algos_common_helper.pxi&quot;, line 41, in pandas._libs.algos.ensure_float64\n",
       "ValueError: could not convert string to float: &#x27;Ireland&#x27;\n",
       "\n",
       "The above exception was the direct cause of the following exception:\n",
       "\n",
       "Traceback (most recent call last):\n",
       "  File &quot;C:\\Users\\kftsu\\anaconda3\\lib\\site-packages\\pandas\\core\\window\\rolling.py&quot;, line 427, in _apply_series\n",
       "    values = self._prep_values(obj._values)\n",
       "  File &quot;C:\\Users\\kftsu\\anaconda3\\lib\\site-packages\\pandas\\core\\window\\rolling.py&quot;, line 350, in _prep_values\n",
       "    raise TypeError(f&quot;cannot handle this type -&gt; {values.dtype}&quot;) from err\n",
       "TypeError: cannot handle this type -&gt; object\n",
       "\n",
       "The above exception was the direct cause of the following exception:\n",
       "\n",
       "Traceback (most recent call last):\n",
       "  File &quot;C:\\Users\\kftsu\\anaconda3\\lib\\site-packages\\pyviz_comms\\__init__.py&quot;, line 325, in _handle_msg\n",
       "    self._on_msg(msg)\n",
       "  File &quot;C:\\Users\\kftsu\\anaconda3\\lib\\site-packages\\panel\\viewable.py&quot;, line 274, in _on_msg\n",
       "    doc.unhold()\n",
       "  File &quot;C:\\Users\\kftsu\\anaconda3\\lib\\site-packages\\bokeh\\document\\document.py&quot;, line 799, in unhold\n",
       "    self.callbacks.unhold()\n",
       "  File &quot;C:\\Users\\kftsu\\anaconda3\\lib\\site-packages\\bokeh\\document\\callbacks.py&quot;, line 396, in unhold\n",
       "    self.trigger_on_change(event)\n",
       "  File &quot;C:\\Users\\kftsu\\anaconda3\\lib\\site-packages\\bokeh\\document\\callbacks.py&quot;, line 373, in trigger_on_change\n",
       "    invoke_with_curdoc(doc, event.callback_invoker)\n",
       "  File &quot;C:\\Users\\kftsu\\anaconda3\\lib\\site-packages\\bokeh\\document\\callbacks.py&quot;, line 408, in invoke_with_curdoc\n",
       "    return f()\n",
       "  File &quot;C:\\Users\\kftsu\\anaconda3\\lib\\site-packages\\bokeh\\util\\callback_manager.py&quot;, line 191, in invoke\n",
       "    callback(attr, old, new)\n",
       "  File &quot;C:\\Users\\kftsu\\anaconda3\\lib\\site-packages\\panel\\reactive.py&quot;, line 350, in _comm_change\n",
       "    self._schedule_change(doc, comm)\n",
       "  File &quot;C:\\Users\\kftsu\\anaconda3\\lib\\site-packages\\panel\\reactive.py&quot;, line 337, in _schedule_change\n",
       "    self._change_event(doc)\n",
       "  File &quot;C:\\Users\\kftsu\\anaconda3\\lib\\site-packages\\panel\\reactive.py&quot;, line 331, in _change_event\n",
       "    self._process_events(events)\n",
       "  File &quot;C:\\Users\\kftsu\\anaconda3\\lib\\site-packages\\panel\\reactive.py&quot;, line 276, in _process_events\n",
       "    self.param.update(**self_events)\n",
       "  File &quot;C:\\Users\\kftsu\\anaconda3\\lib\\site-packages\\param\\parameterized.py&quot;, line 1877, in update\n",
       "    self_._batch_call_watchers()\n",
       "  File &quot;C:\\Users\\kftsu\\anaconda3\\lib\\site-packages\\param\\parameterized.py&quot;, line 2038, in _batch_call_watchers\n",
       "    self_._execute_watcher(watcher, events)\n",
       "  File &quot;C:\\Users\\kftsu\\anaconda3\\lib\\site-packages\\param\\parameterized.py&quot;, line 2000, in _execute_watcher\n",
       "    watcher.fn(*args, **kwargs)\n",
       "  File &quot;C:\\Users\\kftsu\\anaconda3\\lib\\site-packages\\panel\\interact.py&quot;, line 188, in update_pane\n",
       "    new_object = self.object(**self.kwargs)\n",
       "  File &quot;C:\\Users\\kftsu\\AppData\\Local\\Temp\\ipykernel_9860\\2752602925.py&quot;, line 15, in find_outliers\n",
       "    avg = data[variable].rolling(window=window).mean()\n",
       "  File &quot;C:\\Users\\kftsu\\anaconda3\\lib\\site-packages\\pandas\\core\\window\\rolling.py&quot;, line 2039, in mean\n",
       "    return super().mean(*args, engine=engine, engine_kwargs=engine_kwargs, **kwargs)\n",
       "  File &quot;C:\\Users\\kftsu\\anaconda3\\lib\\site-packages\\pandas\\core\\window\\rolling.py&quot;, line 1444, in mean\n",
       "    return self._apply(window_func, name=&quot;mean&quot;, **kwargs)\n",
       "  File &quot;C:\\Users\\kftsu\\anaconda3\\lib\\site-packages\\pandas\\core\\window\\rolling.py&quot;, line 590, in _apply\n",
       "    return self._apply_blockwise(homogeneous_func, name)\n",
       "  File &quot;C:\\Users\\kftsu\\anaconda3\\lib\\site-packages\\pandas\\core\\window\\rolling.py&quot;, line 442, in _apply_blockwise\n",
       "    return self._apply_series(homogeneous_func, name)\n",
       "  File &quot;C:\\Users\\kftsu\\anaconda3\\lib\\site-packages\\pandas\\core\\window\\rolling.py&quot;, line 429, in _apply_series\n",
       "    raise DataError(&quot;No numeric types to aggregate&quot;) from err\n",
       "pandas.core.base.DataError: No numeric types to aggregate\n",
       "</pre>\n"
      ]
     },
     "metadata": {},
     "output_type": "display_data"
    },
    {
     "data": {
      "application/vnd.holoviews_exec.v0+json": "",
      "text/html": [
       "<div id='5616'>\n",
       "\n",
       "\n",
       "\n",
       "\n",
       "\n",
       "  <div class=\"bk-root\" id=\"8f5bc0d1-01aa-4c73-98b1-fcf3d14ddab2\" data-root-id=\"5616\"></div>\n",
       "</div>\n",
       "<script type=\"application/javascript\">(function(root) {\n",
       "  function embed_document(root) {\n",
       "    var docs_json = {\"5007d974-8d7e-4460-ae5a-3df8bb22d2de\":{\"defs\":[{\"extends\":null,\"module\":null,\"name\":\"ReactiveHTML1\",\"overrides\":[],\"properties\":[]},{\"extends\":null,\"module\":null,\"name\":\"FlexBox1\",\"overrides\":[],\"properties\":[{\"default\":\"flex-start\",\"kind\":null,\"name\":\"align_content\"},{\"default\":\"flex-start\",\"kind\":null,\"name\":\"align_items\"},{\"default\":\"row\",\"kind\":null,\"name\":\"flex_direction\"},{\"default\":\"wrap\",\"kind\":null,\"name\":\"flex_wrap\"},{\"default\":\"flex-start\",\"kind\":null,\"name\":\"justify_content\"}]},{\"extends\":null,\"module\":null,\"name\":\"GridStack1\",\"overrides\":[],\"properties\":[{\"default\":\"warn\",\"kind\":null,\"name\":\"mode\"},{\"default\":null,\"kind\":null,\"name\":\"ncols\"},{\"default\":null,\"kind\":null,\"name\":\"nrows\"},{\"default\":true,\"kind\":null,\"name\":\"allow_resize\"},{\"default\":true,\"kind\":null,\"name\":\"allow_drag\"},{\"default\":[],\"kind\":null,\"name\":\"state\"}]},{\"extends\":null,\"module\":null,\"name\":\"click1\",\"overrides\":[],\"properties\":[{\"default\":\"\",\"kind\":null,\"name\":\"terminal_output\"},{\"default\":\"\",\"kind\":null,\"name\":\"debug_name\"},{\"default\":0,\"kind\":null,\"name\":\"clears\"}]},{\"extends\":null,\"module\":null,\"name\":\"TemplateActions1\",\"overrides\":[],\"properties\":[{\"default\":0,\"kind\":null,\"name\":\"open_modal\"},{\"default\":0,\"kind\":null,\"name\":\"close_modal\"}]},{\"extends\":null,\"module\":null,\"name\":\"MaterialTemplateActions1\",\"overrides\":[],\"properties\":[{\"default\":0,\"kind\":null,\"name\":\"open_modal\"},{\"default\":0,\"kind\":null,\"name\":\"close_modal\"}]}],\"roots\":{\"references\":[{\"attributes\":{\"height\":288,\"margin\":[5,5,5,5],\"name\":\"interactive09037\",\"text\":\"&lt;img src=&quot;data:image/png;base64,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&quot; width=&quot;432px&quot; height=&quot;288px&quot; alt=&quot;&quot;&gt;&lt;/img&gt;\",\"width\":432},\"id\":\"5617\",\"type\":\"panel.models.markup.HTML\"},{\"attributes\":{\"end\":60,\"margin\":[5,10,5,10],\"start\":1,\"title\":\"window\",\"value\":30},\"id\":\"5621\",\"type\":\"Slider\"},{\"attributes\":{\"children\":[{\"id\":\"5619\"},{\"id\":\"5620\"},{\"id\":\"5621\"}],\"margin\":[0,0,0,0],\"name\":\"Column09049\"},\"id\":\"5618\",\"type\":\"Column\"},{\"attributes\":{\"margin\":[5,10,5,10],\"options\":[\"Country\",\"Milk Produced\",\"Number of Dairy Cows\",\"Year\"],\"title\":\"variable\",\"value\":\"Milk Produced\"},\"id\":\"5620\",\"type\":\"panel.models.widgets.CustomSelect\"},{\"attributes\":{\"css_classes\":[\"markdown\"],\"margin\":[5,5,5,5],\"name\":\"Markdown09047\",\"text\":\"&lt;p&gt;&lt;br&gt;&lt;/p&gt;\\n&lt;h1&gt;Room Occupancy&lt;/h1&gt;\\n&lt;p&gt;Select the variable, and the time window for smoothing&lt;/p&gt;\"},\"id\":\"5619\",\"type\":\"panel.models.markup.HTML\"},{\"attributes\":{\"client_comm_id\":\"b9bf959af3444a0b880ad32f3431cd32\",\"comm_id\":\"eec7e00aec264c54a7bf74d4f379ed46\",\"plot_id\":\"5616\"},\"id\":\"5622\",\"type\":\"panel.models.comm_manager.CommManager\"},{\"attributes\":{\"children\":[{\"id\":\"5617\"},{\"id\":\"5618\"}],\"margin\":[0,0,0,0],\"name\":\"Row09050\"},\"id\":\"5616\",\"type\":\"Row\"}],\"root_ids\":[\"5616\",\"5622\"]},\"title\":\"Bokeh Application\",\"version\":\"2.4.2\"}};\n",
       "    var render_items = [{\"docid\":\"5007d974-8d7e-4460-ae5a-3df8bb22d2de\",\"root_ids\":[\"5616\"],\"roots\":{\"5616\":\"8f5bc0d1-01aa-4c73-98b1-fcf3d14ddab2\"}}];\n",
       "    root.Bokeh.embed.embed_items_notebook(docs_json, render_items);\n",
       "  }\n",
       "  if (root.Bokeh !== undefined && root.Bokeh.Panel !== undefined) {\n",
       "    embed_document(root);\n",
       "  } else {\n",
       "    var attempts = 0;\n",
       "    var timer = setInterval(function(root) {\n",
       "      if (root.Bokeh !== undefined && root.Bokeh.Panel !== undefined) {\n",
       "        clearInterval(timer);\n",
       "        embed_document(root);\n",
       "      } else if (document.readyState == \"complete\") {\n",
       "        attempts++;\n",
       "        if (attempts > 200) {\n",
       "          clearInterval(timer);\n",
       "          console.log(\"Bokeh: ERROR: Unable to run BokehJS code because BokehJS library is missing\");\n",
       "        }\n",
       "      }\n",
       "    }, 25, root)\n",
       "  }\n",
       "})(window);</script>"
      ],
      "text/plain": [
       "Row\n",
       "    [0] Matplotlib(Figure, name='interactive09037')\n",
       "    [1] Column\n",
       "        [0] Markdown(str)\n",
       "        [1] Select(name='variable', options=['Country', 'Milk Produced...], value='Milk Produced')\n",
       "        [2] IntSlider(end=60, name='window', start=1, value=30)"
      ]
     },
     "execution_count": 33,
     "metadata": {
      "application/vnd.holoviews_exec.v0+json": {
       "id": "5616"
      }
     },
     "output_type": "execute_result"
    }
   ],
   "source": [
    "text = \"<br>\\n# Room Occupancy\\nSelect the variable, and the time window for smoothing\"\n",
    "\n",
    "p = pn.Row(i[1][0], pn.Column(text, i[0][0], i[0][1]))\n",
    "p"
   ]
  },
  {
   "cell_type": "markdown",
   "metadata": {},
   "source": [
    "Note that the widgets stay linked to their plot even if they are in a different notebook cell:"
   ]
  },
  {
   "cell_type": "code",
   "execution_count": 9,
   "metadata": {},
   "outputs": [
    {
     "data": {},
     "metadata": {},
     "output_type": "display_data"
    },
    {
     "data": {
      "application/vnd.holoviews_exec.v0+json": "",
      "text/html": [
       "<div id='1017'>\n",
       "\n",
       "\n",
       "\n",
       "\n",
       "\n",
       "  <div class=\"bk-root\" id=\"2284fd65-931d-49bf-b664-c71aac9d7c48\" data-root-id=\"1017\"></div>\n",
       "</div>\n",
       "<script type=\"application/javascript\">(function(root) {\n",
       "  function embed_document(root) {\n",
       "    var docs_json = {\"c95a3bb6-6354-4acc-b8e8-0eb2d503d09f\":{\"defs\":[{\"extends\":null,\"module\":null,\"name\":\"ReactiveHTML1\",\"overrides\":[],\"properties\":[]},{\"extends\":null,\"module\":null,\"name\":\"FlexBox1\",\"overrides\":[],\"properties\":[{\"default\":\"flex-start\",\"kind\":null,\"name\":\"align_content\"},{\"default\":\"flex-start\",\"kind\":null,\"name\":\"align_items\"},{\"default\":\"row\",\"kind\":null,\"name\":\"flex_direction\"},{\"default\":\"wrap\",\"kind\":null,\"name\":\"flex_wrap\"},{\"default\":\"flex-start\",\"kind\":null,\"name\":\"justify_content\"}]},{\"extends\":null,\"module\":null,\"name\":\"GridStack1\",\"overrides\":[],\"properties\":[{\"default\":\"warn\",\"kind\":null,\"name\":\"mode\"},{\"default\":null,\"kind\":null,\"name\":\"ncols\"},{\"default\":null,\"kind\":null,\"name\":\"nrows\"},{\"default\":true,\"kind\":null,\"name\":\"allow_resize\"},{\"default\":true,\"kind\":null,\"name\":\"allow_drag\"},{\"default\":[],\"kind\":null,\"name\":\"state\"}]},{\"extends\":null,\"module\":null,\"name\":\"click1\",\"overrides\":[],\"properties\":[{\"default\":\"\",\"kind\":null,\"name\":\"terminal_output\"},{\"default\":\"\",\"kind\":null,\"name\":\"debug_name\"},{\"default\":0,\"kind\":null,\"name\":\"clears\"}]},{\"extends\":null,\"module\":null,\"name\":\"TemplateActions1\",\"overrides\":[],\"properties\":[{\"default\":0,\"kind\":null,\"name\":\"open_modal\"},{\"default\":0,\"kind\":null,\"name\":\"close_modal\"}]},{\"extends\":null,\"module\":null,\"name\":\"MaterialTemplateActions1\",\"overrides\":[],\"properties\":[{\"default\":0,\"kind\":null,\"name\":\"open_modal\"},{\"default\":0,\"kind\":null,\"name\":\"close_modal\"}]}],\"roots\":{\"references\":[{\"attributes\":{\"client_comm_id\":\"ca86a3f04861460c86fa1a74f242e0c8\",\"comm_id\":\"d161ddbaf1d64cb186bbda102a4eafc4\",\"plot_id\":\"1017\"},\"id\":\"1018\",\"type\":\"panel.models.comm_manager.CommManager\"},{\"attributes\":{\"end\":20,\"margin\":[5,10,5,10],\"start\":1,\"title\":\"sigma\",\"value\":10},\"id\":\"1017\",\"type\":\"Slider\"}],\"root_ids\":[\"1017\",\"1018\"]},\"title\":\"Bokeh Application\",\"version\":\"2.4.2\"}};\n",
       "    var render_items = [{\"docid\":\"c95a3bb6-6354-4acc-b8e8-0eb2d503d09f\",\"root_ids\":[\"1017\"],\"roots\":{\"1017\":\"2284fd65-931d-49bf-b664-c71aac9d7c48\"}}];\n",
       "    root.Bokeh.embed.embed_items_notebook(docs_json, render_items);\n",
       "  }\n",
       "  if (root.Bokeh !== undefined && root.Bokeh.Panel !== undefined) {\n",
       "    embed_document(root);\n",
       "  } else {\n",
       "    var attempts = 0;\n",
       "    var timer = setInterval(function(root) {\n",
       "      if (root.Bokeh !== undefined && root.Bokeh.Panel !== undefined) {\n",
       "        clearInterval(timer);\n",
       "        embed_document(root);\n",
       "      } else if (document.readyState == \"complete\") {\n",
       "        attempts++;\n",
       "        if (attempts > 200) {\n",
       "          clearInterval(timer);\n",
       "          console.log(\"Bokeh: ERROR: Unable to run BokehJS code because BokehJS library is missing\");\n",
       "        }\n",
       "      }\n",
       "    }, 25, root)\n",
       "  }\n",
       "})(window);</script>"
      ],
      "text/plain": [
       "IntSlider(end=20, name='sigma', start=1, value=10)"
      ]
     },
     "execution_count": 9,
     "metadata": {
      "application/vnd.holoviews_exec.v0+json": {
       "id": "1017"
      }
     },
     "output_type": "execute_result"
    }
   ],
   "source": [
    "i[0][2]"
   ]
  },
  {
   "cell_type": "markdown",
   "metadata": {},
   "source": [
    "Also note that Panel widgets are reactive, so they will update even if you set the values by hand:"
   ]
  },
  {
   "cell_type": "code",
   "execution_count": 10,
   "metadata": {},
   "outputs": [],
   "source": [
    "i[0][2].value = 5"
   ]
  },
  {
   "cell_type": "markdown",
   "metadata": {},
   "source": [
    "### Composing new Panels"
   ]
  },
  {
   "cell_type": "markdown",
   "metadata": {},
   "source": [
    "You can use this compositional approach to combine different components such as widgets, plots, text, and other elements needed for an app or dashboard in arbitrary ways. The interact example builds on a reactive programming model, where an input to the function changes and Panel reactively updates the output of the function. interact is a convenient way to create widgets from the arguments to your function automatically, but Panel also provides a more explicit reactive API letting you specifically define connections between widgets and function arguments, and then lets you compose the resulting dashboard manually from scratch.\n",
    "\n",
    "In the example below we explicitly declare each of the components of an app: widgets, a function to return the plot, column and row containers, and the completed occupancy Panel app. Widget objects have multiple “parameters” (current value, allowed ranges, and so on), and here we will use Panel’s bind function to declare that function’s input values should come from the widgets’ value parameters. Now when the function and the widgets are displayed, Panel will automatically update the displayed output whenever any of the inputs change:"
   ]
  },
  {
   "cell_type": "code",
   "execution_count": 9,
   "metadata": {},
   "outputs": [
    {
     "data": {
      "text/html": [
       "\n",
       "<pre>Traceback (most recent call last):\n",
       "  File &quot;C:\\Users\\kftsu\\anaconda3\\lib\\site-packages\\pandas\\core\\window\\rolling.py&quot;, line 348, in _prep_values\n",
       "    values = ensure_float64(values)\n",
       "  File &quot;pandas\\_libs\\algos_common_helper.pxi&quot;, line 41, in pandas._libs.algos.ensure_float64\n",
       "ValueError: could not convert string to float: &#x27;Belgium&#x27;\n",
       "\n",
       "The above exception was the direct cause of the following exception:\n",
       "\n",
       "Traceback (most recent call last):\n",
       "  File &quot;C:\\Users\\kftsu\\anaconda3\\lib\\site-packages\\pandas\\core\\window\\rolling.py&quot;, line 427, in _apply_series\n",
       "    values = self._prep_values(obj._values)\n",
       "  File &quot;C:\\Users\\kftsu\\anaconda3\\lib\\site-packages\\pandas\\core\\window\\rolling.py&quot;, line 350, in _prep_values\n",
       "    raise TypeError(f&quot;cannot handle this type -&gt; {values.dtype}&quot;) from err\n",
       "TypeError: cannot handle this type -&gt; object\n",
       "\n",
       "The above exception was the direct cause of the following exception:\n",
       "\n",
       "Traceback (most recent call last):\n",
       "  File &quot;C:\\Users\\kftsu\\anaconda3\\lib\\site-packages\\pyviz_comms\\__init__.py&quot;, line 325, in _handle_msg\n",
       "    self._on_msg(msg)\n",
       "  File &quot;C:\\Users\\kftsu\\anaconda3\\lib\\site-packages\\panel\\viewable.py&quot;, line 274, in _on_msg\n",
       "    doc.unhold()\n",
       "  File &quot;C:\\Users\\kftsu\\anaconda3\\lib\\site-packages\\bokeh\\document\\document.py&quot;, line 799, in unhold\n",
       "    self.callbacks.unhold()\n",
       "  File &quot;C:\\Users\\kftsu\\anaconda3\\lib\\site-packages\\bokeh\\document\\callbacks.py&quot;, line 396, in unhold\n",
       "    self.trigger_on_change(event)\n",
       "  File &quot;C:\\Users\\kftsu\\anaconda3\\lib\\site-packages\\bokeh\\document\\callbacks.py&quot;, line 373, in trigger_on_change\n",
       "    invoke_with_curdoc(doc, event.callback_invoker)\n",
       "  File &quot;C:\\Users\\kftsu\\anaconda3\\lib\\site-packages\\bokeh\\document\\callbacks.py&quot;, line 408, in invoke_with_curdoc\n",
       "    return f()\n",
       "  File &quot;C:\\Users\\kftsu\\anaconda3\\lib\\site-packages\\bokeh\\util\\callback_manager.py&quot;, line 191, in invoke\n",
       "    callback(attr, old, new)\n",
       "  File &quot;C:\\Users\\kftsu\\anaconda3\\lib\\site-packages\\panel\\reactive.py&quot;, line 350, in _comm_change\n",
       "    self._schedule_change(doc, comm)\n",
       "  File &quot;C:\\Users\\kftsu\\anaconda3\\lib\\site-packages\\panel\\reactive.py&quot;, line 337, in _schedule_change\n",
       "    self._change_event(doc)\n",
       "  File &quot;C:\\Users\\kftsu\\anaconda3\\lib\\site-packages\\panel\\reactive.py&quot;, line 331, in _change_event\n",
       "    self._process_events(events)\n",
       "  File &quot;C:\\Users\\kftsu\\anaconda3\\lib\\site-packages\\panel\\reactive.py&quot;, line 276, in _process_events\n",
       "    self.param.update(**self_events)\n",
       "  File &quot;C:\\Users\\kftsu\\anaconda3\\lib\\site-packages\\param\\parameterized.py&quot;, line 1877, in update\n",
       "    self_._batch_call_watchers()\n",
       "  File &quot;C:\\Users\\kftsu\\anaconda3\\lib\\site-packages\\param\\parameterized.py&quot;, line 2038, in _batch_call_watchers\n",
       "    self_._execute_watcher(watcher, events)\n",
       "  File &quot;C:\\Users\\kftsu\\anaconda3\\lib\\site-packages\\param\\parameterized.py&quot;, line 2000, in _execute_watcher\n",
       "    watcher.fn(*args, **kwargs)\n",
       "  File &quot;C:\\Users\\kftsu\\anaconda3\\lib\\site-packages\\panel\\param.py&quot;, line 790, in _replace_pane\n",
       "    new_object = self.eval(self.object)\n",
       "  File &quot;C:\\Users\\kftsu\\anaconda3\\lib\\site-packages\\panel\\param.py&quot;, line 773, in eval\n",
       "    return function(*args, **kwargs)\n",
       "  File &quot;C:\\Users\\kftsu\\anaconda3\\lib\\site-packages\\param\\parameterized.py&quot;, line 387, in _depends\n",
       "    return func(*args, **kw)\n",
       "  File &quot;C:\\Users\\kftsu\\anaconda3\\lib\\site-packages\\panel\\depends.py&quot;, line 184, in wrapped\n",
       "    return function(*combined_args, **combined_kwargs)\n",
       "  File &quot;C:\\Users\\kftsu\\AppData\\Local\\Temp\\ipykernel_9860\\2752602925.py&quot;, line 15, in find_outliers\n",
       "    avg = data[variable].rolling(window=window).mean()\n",
       "  File &quot;C:\\Users\\kftsu\\anaconda3\\lib\\site-packages\\pandas\\core\\window\\rolling.py&quot;, line 2039, in mean\n",
       "    return super().mean(*args, engine=engine, engine_kwargs=engine_kwargs, **kwargs)\n",
       "  File &quot;C:\\Users\\kftsu\\anaconda3\\lib\\site-packages\\pandas\\core\\window\\rolling.py&quot;, line 1444, in mean\n",
       "    return self._apply(window_func, name=&quot;mean&quot;, **kwargs)\n",
       "  File &quot;C:\\Users\\kftsu\\anaconda3\\lib\\site-packages\\pandas\\core\\window\\rolling.py&quot;, line 590, in _apply\n",
       "    return self._apply_blockwise(homogeneous_func, name)\n",
       "  File &quot;C:\\Users\\kftsu\\anaconda3\\lib\\site-packages\\pandas\\core\\window\\rolling.py&quot;, line 442, in _apply_blockwise\n",
       "    return self._apply_series(homogeneous_func, name)\n",
       "  File &quot;C:\\Users\\kftsu\\anaconda3\\lib\\site-packages\\pandas\\core\\window\\rolling.py&quot;, line 429, in _apply_series\n",
       "    raise DataError(&quot;No numeric types to aggregate&quot;) from err\n",
       "pandas.core.base.DataError: No numeric types to aggregate\n",
       "</pre>\n"
      ]
     },
     "metadata": {},
     "output_type": "display_data"
    },
    {
     "data": {
      "application/vnd.holoviews_exec.v0+json": "",
      "text/html": [
       "<div id='1033'>\n",
       "\n",
       "\n",
       "\n",
       "\n",
       "\n",
       "  <div class=\"bk-root\" id=\"c85f0bfd-7aa1-4760-9870-4b2f623a0390\" data-root-id=\"1033\"></div>\n",
       "</div>\n",
       "<script type=\"application/javascript\">(function(root) {\n",
       "  function embed_document(root) {\n",
       "    var docs_json = {\"7376b621-acc0-4e39-baff-f0e795cec864\":{\"defs\":[{\"extends\":null,\"module\":null,\"name\":\"ReactiveHTML1\",\"overrides\":[],\"properties\":[]},{\"extends\":null,\"module\":null,\"name\":\"FlexBox1\",\"overrides\":[],\"properties\":[{\"default\":\"flex-start\",\"kind\":null,\"name\":\"align_content\"},{\"default\":\"flex-start\",\"kind\":null,\"name\":\"align_items\"},{\"default\":\"row\",\"kind\":null,\"name\":\"flex_direction\"},{\"default\":\"wrap\",\"kind\":null,\"name\":\"flex_wrap\"},{\"default\":\"flex-start\",\"kind\":null,\"name\":\"justify_content\"}]},{\"extends\":null,\"module\":null,\"name\":\"GridStack1\",\"overrides\":[],\"properties\":[{\"default\":\"warn\",\"kind\":null,\"name\":\"mode\"},{\"default\":null,\"kind\":null,\"name\":\"ncols\"},{\"default\":null,\"kind\":null,\"name\":\"nrows\"},{\"default\":true,\"kind\":null,\"name\":\"allow_resize\"},{\"default\":true,\"kind\":null,\"name\":\"allow_drag\"},{\"default\":[],\"kind\":null,\"name\":\"state\"}]},{\"extends\":null,\"module\":null,\"name\":\"click1\",\"overrides\":[],\"properties\":[{\"default\":\"\",\"kind\":null,\"name\":\"terminal_output\"},{\"default\":\"\",\"kind\":null,\"name\":\"debug_name\"},{\"default\":0,\"kind\":null,\"name\":\"clears\"}]},{\"extends\":null,\"module\":null,\"name\":\"TemplateActions1\",\"overrides\":[],\"properties\":[{\"default\":0,\"kind\":null,\"name\":\"open_modal\"},{\"default\":0,\"kind\":null,\"name\":\"close_modal\"}]},{\"extends\":null,\"module\":null,\"name\":\"MaterialTemplateActions1\",\"overrides\":[],\"properties\":[{\"default\":0,\"kind\":null,\"name\":\"open_modal\"},{\"default\":0,\"kind\":null,\"name\":\"close_modal\"}]}],\"roots\":{\"references\":[{\"attributes\":{\"end\":60,\"margin\":[5,10,5,10],\"start\":1,\"title\":\"window\",\"value\":10},\"id\":\"1039\",\"type\":\"Slider\"},{\"attributes\":{\"active\":2,\"labels\":[\"Country\",\"Year\",\"Milk Produced\",\"Number of Dairy Cows\"],\"margin\":[5,10,5,10]},\"id\":\"1038\",\"type\":\"RadioButtonGroup\"},{\"attributes\":{\"children\":[{\"id\":\"1034\"},{\"id\":\"1036\"}],\"margin\":[0,0,0,0],\"name\":\"Row00152\"},\"id\":\"1033\",\"type\":\"Row\"},{\"attributes\":{\"height\":288,\"margin\":[5,5,5,5],\"name\":\"ParamFunction00145\",\"text\":\"&lt;img src=&quot;data:image/png;base64,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&quot; width=&quot;432px&quot; height=&quot;288px&quot; alt=&quot;&quot;&gt;&lt;/img&gt;\",\"width\":432},\"id\":\"1035\",\"type\":\"panel.models.markup.HTML\"},{\"attributes\":{\"children\":[{\"id\":\"1037\"},{\"id\":\"1038\"},{\"id\":\"1039\"}],\"margin\":[0,0,0,0],\"name\":\"Column00144\"},\"id\":\"1036\",\"type\":\"Column\"},{\"attributes\":{\"client_comm_id\":\"7f325524b0374f44b1720b6fdd11f25b\",\"comm_id\":\"dbfa33adc7ac44719f8595781807c203\",\"plot_id\":\"1033\"},\"id\":\"1040\",\"type\":\"panel.models.comm_manager.CommManager\"},{\"attributes\":{\"css_classes\":[\"markdown\"],\"margin\":[5,5,5,5],\"name\":\"Markdown00142\",\"text\":\"&lt;p&gt;&lt;br&gt;&lt;/p&gt;\\n&lt;h1&gt;Room occupancy&lt;/h1&gt;\"},\"id\":\"1037\",\"type\":\"panel.models.markup.HTML\"},{\"attributes\":{\"children\":[{\"id\":\"1035\"}],\"margin\":[0,0,0,0],\"name\":\"Row00149\"},\"id\":\"1034\",\"type\":\"Row\"}],\"root_ids\":[\"1033\",\"1040\"]},\"title\":\"Bokeh Application\",\"version\":\"2.4.2\"}};\n",
       "    var render_items = [{\"docid\":\"7376b621-acc0-4e39-baff-f0e795cec864\",\"root_ids\":[\"1033\"],\"roots\":{\"1033\":\"c85f0bfd-7aa1-4760-9870-4b2f623a0390\"}}];\n",
       "    root.Bokeh.embed.embed_items_notebook(docs_json, render_items);\n",
       "  }\n",
       "  if (root.Bokeh !== undefined && root.Bokeh.Panel !== undefined) {\n",
       "    embed_document(root);\n",
       "  } else {\n",
       "    var attempts = 0;\n",
       "    var timer = setInterval(function(root) {\n",
       "      if (root.Bokeh !== undefined && root.Bokeh.Panel !== undefined) {\n",
       "        clearInterval(timer);\n",
       "        embed_document(root);\n",
       "      } else if (document.readyState == \"complete\") {\n",
       "        attempts++;\n",
       "        if (attempts > 200) {\n",
       "          clearInterval(timer);\n",
       "          console.log(\"Bokeh: ERROR: Unable to run BokehJS code because BokehJS library is missing\");\n",
       "        }\n",
       "      }\n",
       "    }, 25, root)\n",
       "  }\n",
       "})(window);</script>"
      ],
      "text/plain": [
       "Row\n",
       "    [0] ParamFunction(function)\n",
       "    [1] Column\n",
       "        [0] Markdown(str)\n",
       "        [1] RadioButtonGroup(name='variable', options=['Country', 'Year', ...], value='Milk Produced')\n",
       "        [2] IntSlider(end=60, name='window', start=1, value=10)"
      ]
     },
     "execution_count": 9,
     "metadata": {
      "application/vnd.holoviews_exec.v0+json": {
       "id": "1033"
      }
     },
     "output_type": "execute_result"
    }
   ],
   "source": [
    "import panel.widgets as pnw\n",
    "\n",
    "variable  = pnw.RadioButtonGroup(name='variable', value='Milk Produced', \n",
    "                                 options=list(data.columns))\n",
    "window  = pnw.IntSlider(name='window', value=10, start=1, end=60)\n",
    "\n",
    "reactive_outliers = pn.bind(find_outliers, variable, window, 10)\n",
    "\n",
    "widgets   = pn.Column(\"<br>\\n# Room occupancy\", variable, window)\n",
    "occupancy = pn.Row(reactive_outliers, widgets)\n",
    "occupancy"
   ]
  },
  {
   "cell_type": "markdown",
   "metadata": {},
   "source": [
    "### Declarative Panels"
   ]
  },
  {
   "cell_type": "markdown",
   "metadata": {},
   "source": [
    "The above compositional approach is very flexible, but it ties your domain-specific code (the parts about sine waves) with your widget display code. That’s fine for small, quick projects or projects dominated by visualization code, but what about large-scale, long-lived projects, where the code is used in many different contexts over time, such as in large batch runs, one-off command-line usage, notebooks, and deployed dashboards? For larger projects like that, it’s important to be able to separate the parts of the code that are about the underlying domain (i.e. application or research area) from those that are tied to specific display technologies (such as Jupyter notebooks or web servers).\n",
    "\n",
    "For such usages, Panel supports objects declared with the separate Param library, which provides a GUI-independent way of capturing and declaring the parameters of your objects (and dependencies between your code and those parameters), in a way that’s independent of any particular application or dashboard technology. For instance, the above code can be captured in an object that declares the ranges and values of all parameters, as well as how to generate the plot, independently of the Panel library or any other way of interacting with the object:"
   ]
  },
  {
   "cell_type": "code",
   "execution_count": 11,
   "metadata": {},
   "outputs": [
    {
     "data": {
      "text/plain": [
       "MilkProduced(name='MilkProduced00156', sigma=10, variable='Country', window=10)"
      ]
     },
     "execution_count": 11,
     "metadata": {},
     "output_type": "execute_result"
    }
   ],
   "source": [
    "import param\n",
    "\n",
    "class MilkProduced(param.Parameterized):\n",
    "    variable  = param.Selector(objects=list(data.columns))\n",
    "    window    = param.Integer(default=10, bounds=(1, 20))\n",
    "    sigma     = param.Number(default=10, bounds=(0, 20))\n",
    "\n",
    "    def view(self):\n",
    "        return find_outliers(self.variable, self.window, self.sigma)\n",
    "    \n",
    "obj = MilkProduced()\n",
    "obj"
   ]
  },
  {
   "cell_type": "markdown",
   "metadata": {},
   "source": [
    "The RoomOccupancy class and the obj instance have no dependency on Panel, Jupyter, or any other GUI or web toolkit; they simply declare facts about a certain domain (such as that smoothing requires window and sigma parameters, and that window is an integer greater than 0 and sigma is a positive real number). This information is then enough for Panel to create an editable and viewable representation for this object without having to specify anything that depends on the domain-specific details encapsulated in obj:"
   ]
  },
  {
   "cell_type": "code",
   "execution_count": 12,
   "metadata": {},
   "outputs": [
    {
     "ename": "DataError",
     "evalue": "No numeric types to aggregate",
     "output_type": "error",
     "traceback": [
      "\u001b[1;31m---------------------------------------------------------------------------\u001b[0m",
      "\u001b[1;31mValueError\u001b[0m                                Traceback (most recent call last)",
      "File \u001b[1;32m~\\anaconda3\\lib\\site-packages\\pandas\\core\\window\\rolling.py:348\u001b[0m, in \u001b[0;36mBaseWindow._prep_values\u001b[1;34m(self, values)\u001b[0m\n\u001b[0;32m    347\u001b[0m     \u001b[38;5;28;01melse\u001b[39;00m:\n\u001b[1;32m--> 348\u001b[0m         values \u001b[38;5;241m=\u001b[39m \u001b[43mensure_float64\u001b[49m\u001b[43m(\u001b[49m\u001b[43mvalues\u001b[49m\u001b[43m)\u001b[49m\n\u001b[0;32m    349\u001b[0m \u001b[38;5;28;01mexcept\u001b[39;00m (\u001b[38;5;167;01mValueError\u001b[39;00m, \u001b[38;5;167;01mTypeError\u001b[39;00m) \u001b[38;5;28;01mas\u001b[39;00m err:\n",
      "File \u001b[1;32mpandas\\_libs\\algos_common_helper.pxi:41\u001b[0m, in \u001b[0;36mpandas._libs.algos.ensure_float64\u001b[1;34m()\u001b[0m\n",
      "\u001b[1;31mValueError\u001b[0m: could not convert string to float: 'Belgium'",
      "\nThe above exception was the direct cause of the following exception:\n",
      "\u001b[1;31mTypeError\u001b[0m                                 Traceback (most recent call last)",
      "File \u001b[1;32m~\\anaconda3\\lib\\site-packages\\pandas\\core\\window\\rolling.py:427\u001b[0m, in \u001b[0;36mBaseWindow._apply_series\u001b[1;34m(self, homogeneous_func, name)\u001b[0m\n\u001b[0;32m    426\u001b[0m \u001b[38;5;28;01mtry\u001b[39;00m:\n\u001b[1;32m--> 427\u001b[0m     values \u001b[38;5;241m=\u001b[39m \u001b[38;5;28;43mself\u001b[39;49m\u001b[38;5;241;43m.\u001b[39;49m\u001b[43m_prep_values\u001b[49m\u001b[43m(\u001b[49m\u001b[43mobj\u001b[49m\u001b[38;5;241;43m.\u001b[39;49m\u001b[43m_values\u001b[49m\u001b[43m)\u001b[49m\n\u001b[0;32m    428\u001b[0m \u001b[38;5;28;01mexcept\u001b[39;00m (\u001b[38;5;167;01mTypeError\u001b[39;00m, \u001b[38;5;167;01mNotImplementedError\u001b[39;00m) \u001b[38;5;28;01mas\u001b[39;00m err:\n",
      "File \u001b[1;32m~\\anaconda3\\lib\\site-packages\\pandas\\core\\window\\rolling.py:350\u001b[0m, in \u001b[0;36mBaseWindow._prep_values\u001b[1;34m(self, values)\u001b[0m\n\u001b[0;32m    349\u001b[0m     \u001b[38;5;28;01mexcept\u001b[39;00m (\u001b[38;5;167;01mValueError\u001b[39;00m, \u001b[38;5;167;01mTypeError\u001b[39;00m) \u001b[38;5;28;01mas\u001b[39;00m err:\n\u001b[1;32m--> 350\u001b[0m         \u001b[38;5;28;01mraise\u001b[39;00m \u001b[38;5;167;01mTypeError\u001b[39;00m(\u001b[38;5;124mf\u001b[39m\u001b[38;5;124m\"\u001b[39m\u001b[38;5;124mcannot handle this type -> \u001b[39m\u001b[38;5;132;01m{\u001b[39;00mvalues\u001b[38;5;241m.\u001b[39mdtype\u001b[38;5;132;01m}\u001b[39;00m\u001b[38;5;124m\"\u001b[39m) \u001b[38;5;28;01mfrom\u001b[39;00m \u001b[38;5;21;01merr\u001b[39;00m\n\u001b[0;32m    352\u001b[0m \u001b[38;5;66;03m# Convert inf to nan for C funcs\u001b[39;00m\n",
      "\u001b[1;31mTypeError\u001b[0m: cannot handle this type -> object",
      "\nThe above exception was the direct cause of the following exception:\n",
      "\u001b[1;31mDataError\u001b[0m                                 Traceback (most recent call last)",
      "Input \u001b[1;32mIn [12]\u001b[0m, in \u001b[0;36m<cell line: 1>\u001b[1;34m()\u001b[0m\n\u001b[1;32m----> 1\u001b[0m \u001b[43mpn\u001b[49m\u001b[38;5;241;43m.\u001b[39;49m\u001b[43mRow\u001b[49m\u001b[43m(\u001b[49m\u001b[43mobj\u001b[49m\u001b[38;5;241;43m.\u001b[39;49m\u001b[43mparam\u001b[49m\u001b[43m,\u001b[49m\u001b[43m \u001b[49m\u001b[43mobj\u001b[49m\u001b[38;5;241;43m.\u001b[39;49m\u001b[43mview\u001b[49m\u001b[43m)\u001b[49m\n",
      "File \u001b[1;32m~\\anaconda3\\lib\\site-packages\\panel\\layout\\base.py:624\u001b[0m, in \u001b[0;36mListPanel.__init__\u001b[1;34m(self, *objects, **params)\u001b[0m\n\u001b[0;32m    620\u001b[0m     \u001b[38;5;28;01mif\u001b[39;00m \u001b[38;5;124m'\u001b[39m\u001b[38;5;124mobjects\u001b[39m\u001b[38;5;124m'\u001b[39m \u001b[38;5;129;01min\u001b[39;00m params:\n\u001b[0;32m    621\u001b[0m         \u001b[38;5;28;01mraise\u001b[39;00m \u001b[38;5;167;01mValueError\u001b[39;00m(\u001b[38;5;124m\"\u001b[39m\u001b[38;5;124mA \u001b[39m\u001b[38;5;132;01m%s\u001b[39;00m\u001b[38;5;124m'\u001b[39m\u001b[38;5;124ms objects should be supplied either \u001b[39m\u001b[38;5;124m\"\u001b[39m\n\u001b[0;32m    622\u001b[0m                          \u001b[38;5;124m\"\u001b[39m\u001b[38;5;124mas positional arguments or as a keyword, \u001b[39m\u001b[38;5;124m\"\u001b[39m\n\u001b[0;32m    623\u001b[0m                          \u001b[38;5;124m\"\u001b[39m\u001b[38;5;124mnot both.\u001b[39m\u001b[38;5;124m\"\u001b[39m \u001b[38;5;241m%\u001b[39m \u001b[38;5;28mtype\u001b[39m(\u001b[38;5;28mself\u001b[39m)\u001b[38;5;241m.\u001b[39m\u001b[38;5;18m__name__\u001b[39m)\n\u001b[1;32m--> 624\u001b[0m     params[\u001b[38;5;124m'\u001b[39m\u001b[38;5;124mobjects\u001b[39m\u001b[38;5;124m'\u001b[39m] \u001b[38;5;241m=\u001b[39m [panel(pane) \u001b[38;5;28;01mfor\u001b[39;00m pane \u001b[38;5;129;01min\u001b[39;00m objects]\n\u001b[0;32m    625\u001b[0m \u001b[38;5;28;01melif\u001b[39;00m \u001b[38;5;124m'\u001b[39m\u001b[38;5;124mobjects\u001b[39m\u001b[38;5;124m'\u001b[39m \u001b[38;5;129;01min\u001b[39;00m params:\n\u001b[0;32m    626\u001b[0m     params[\u001b[38;5;124m'\u001b[39m\u001b[38;5;124mobjects\u001b[39m\u001b[38;5;124m'\u001b[39m] \u001b[38;5;241m=\u001b[39m [panel(pane) \u001b[38;5;28;01mfor\u001b[39;00m pane \u001b[38;5;129;01min\u001b[39;00m params[\u001b[38;5;124m'\u001b[39m\u001b[38;5;124mobjects\u001b[39m\u001b[38;5;124m'\u001b[39m]]\n",
      "File \u001b[1;32m~\\anaconda3\\lib\\site-packages\\panel\\layout\\base.py:624\u001b[0m, in \u001b[0;36m<listcomp>\u001b[1;34m(.0)\u001b[0m\n\u001b[0;32m    620\u001b[0m     \u001b[38;5;28;01mif\u001b[39;00m \u001b[38;5;124m'\u001b[39m\u001b[38;5;124mobjects\u001b[39m\u001b[38;5;124m'\u001b[39m \u001b[38;5;129;01min\u001b[39;00m params:\n\u001b[0;32m    621\u001b[0m         \u001b[38;5;28;01mraise\u001b[39;00m \u001b[38;5;167;01mValueError\u001b[39;00m(\u001b[38;5;124m\"\u001b[39m\u001b[38;5;124mA \u001b[39m\u001b[38;5;132;01m%s\u001b[39;00m\u001b[38;5;124m'\u001b[39m\u001b[38;5;124ms objects should be supplied either \u001b[39m\u001b[38;5;124m\"\u001b[39m\n\u001b[0;32m    622\u001b[0m                          \u001b[38;5;124m\"\u001b[39m\u001b[38;5;124mas positional arguments or as a keyword, \u001b[39m\u001b[38;5;124m\"\u001b[39m\n\u001b[0;32m    623\u001b[0m                          \u001b[38;5;124m\"\u001b[39m\u001b[38;5;124mnot both.\u001b[39m\u001b[38;5;124m\"\u001b[39m \u001b[38;5;241m%\u001b[39m \u001b[38;5;28mtype\u001b[39m(\u001b[38;5;28mself\u001b[39m)\u001b[38;5;241m.\u001b[39m\u001b[38;5;18m__name__\u001b[39m)\n\u001b[1;32m--> 624\u001b[0m     params[\u001b[38;5;124m'\u001b[39m\u001b[38;5;124mobjects\u001b[39m\u001b[38;5;124m'\u001b[39m] \u001b[38;5;241m=\u001b[39m [\u001b[43mpanel\u001b[49m\u001b[43m(\u001b[49m\u001b[43mpane\u001b[49m\u001b[43m)\u001b[49m \u001b[38;5;28;01mfor\u001b[39;00m pane \u001b[38;5;129;01min\u001b[39;00m objects]\n\u001b[0;32m    625\u001b[0m \u001b[38;5;28;01melif\u001b[39;00m \u001b[38;5;124m'\u001b[39m\u001b[38;5;124mobjects\u001b[39m\u001b[38;5;124m'\u001b[39m \u001b[38;5;129;01min\u001b[39;00m params:\n\u001b[0;32m    626\u001b[0m     params[\u001b[38;5;124m'\u001b[39m\u001b[38;5;124mobjects\u001b[39m\u001b[38;5;124m'\u001b[39m] \u001b[38;5;241m=\u001b[39m [panel(pane) \u001b[38;5;28;01mfor\u001b[39;00m pane \u001b[38;5;129;01min\u001b[39;00m params[\u001b[38;5;124m'\u001b[39m\u001b[38;5;124mobjects\u001b[39m\u001b[38;5;124m'\u001b[39m]]\n",
      "File \u001b[1;32m~\\anaconda3\\lib\\site-packages\\panel\\pane\\base.py:54\u001b[0m, in \u001b[0;36mpanel\u001b[1;34m(obj, **kwargs)\u001b[0m\n\u001b[0;32m     52\u001b[0m \u001b[38;5;28;01mif\u001b[39;00m kwargs\u001b[38;5;241m.\u001b[39mget(\u001b[38;5;124m'\u001b[39m\u001b[38;5;124mname\u001b[39m\u001b[38;5;124m'\u001b[39m, \u001b[38;5;28;01mFalse\u001b[39;00m) \u001b[38;5;129;01mis\u001b[39;00m \u001b[38;5;28;01mNone\u001b[39;00m:\n\u001b[0;32m     53\u001b[0m     kwargs\u001b[38;5;241m.\u001b[39mpop(\u001b[38;5;124m'\u001b[39m\u001b[38;5;124mname\u001b[39m\u001b[38;5;124m'\u001b[39m)\n\u001b[1;32m---> 54\u001b[0m pane \u001b[38;5;241m=\u001b[39m PaneBase\u001b[38;5;241m.\u001b[39mget_pane_type(obj, \u001b[38;5;241m*\u001b[39m\u001b[38;5;241m*\u001b[39mkwargs)(obj, \u001b[38;5;241m*\u001b[39m\u001b[38;5;241m*\u001b[39mkwargs)\n\u001b[0;32m     55\u001b[0m \u001b[38;5;28;01mif\u001b[39;00m \u001b[38;5;28mlen\u001b[39m(pane\u001b[38;5;241m.\u001b[39mlayout) \u001b[38;5;241m==\u001b[39m \u001b[38;5;241m1\u001b[39m \u001b[38;5;129;01mand\u001b[39;00m pane\u001b[38;5;241m.\u001b[39m_unpack:\n\u001b[0;32m     56\u001b[0m     \u001b[38;5;28;01mreturn\u001b[39;00m pane\u001b[38;5;241m.\u001b[39mlayout[\u001b[38;5;241m0\u001b[39m]\n",
      "File \u001b[1;32m~\\anaconda3\\lib\\site-packages\\panel\\param.py:740\u001b[0m, in \u001b[0;36mParamMethod.__init__\u001b[1;34m(self, object, **params)\u001b[0m\n\u001b[0;32m    738\u001b[0m \u001b[38;5;28;01mif\u001b[39;00m \u001b[38;5;28mobject\u001b[39m \u001b[38;5;129;01mis\u001b[39;00m \u001b[38;5;129;01mnot\u001b[39;00m \u001b[38;5;28;01mNone\u001b[39;00m:\n\u001b[0;32m    739\u001b[0m     \u001b[38;5;28mself\u001b[39m\u001b[38;5;241m.\u001b[39m_validate_object()\n\u001b[1;32m--> 740\u001b[0m     \u001b[38;5;28;43mself\u001b[39;49m\u001b[38;5;241;43m.\u001b[39;49m\u001b[43m_replace_pane\u001b[49m\u001b[43m(\u001b[49m\u001b[38;5;129;43;01mnot\u001b[39;49;00m\u001b[43m \u001b[49m\u001b[38;5;28;43mself\u001b[39;49m\u001b[38;5;241;43m.\u001b[39;49m\u001b[43mlazy\u001b[49m\u001b[43m)\u001b[49m\n",
      "File \u001b[1;32m~\\anaconda3\\lib\\site-packages\\panel\\param.py:790\u001b[0m, in \u001b[0;36mParamMethod._replace_pane\u001b[1;34m(self, force, *args)\u001b[0m\n\u001b[0;32m    788\u001b[0m     new_object \u001b[38;5;241m=\u001b[39m Spacer()\n\u001b[0;32m    789\u001b[0m \u001b[38;5;28;01melse\u001b[39;00m:\n\u001b[1;32m--> 790\u001b[0m     new_object \u001b[38;5;241m=\u001b[39m \u001b[38;5;28;43mself\u001b[39;49m\u001b[38;5;241;43m.\u001b[39;49m\u001b[43meval\u001b[49m\u001b[43m(\u001b[49m\u001b[38;5;28;43mself\u001b[39;49m\u001b[38;5;241;43m.\u001b[39;49m\u001b[43mobject\u001b[49m\u001b[43m)\u001b[49m\n\u001b[0;32m    791\u001b[0m \u001b[38;5;28;01mif\u001b[39;00m inspect\u001b[38;5;241m.\u001b[39misawaitable(new_object):\n\u001b[0;32m    792\u001b[0m     param\u001b[38;5;241m.\u001b[39mparameterized\u001b[38;5;241m.\u001b[39masync_executor(partial(\u001b[38;5;28mself\u001b[39m\u001b[38;5;241m.\u001b[39m_eval_async, new_object))\n",
      "File \u001b[1;32m~\\anaconda3\\lib\\site-packages\\panel\\param.py:773\u001b[0m, in \u001b[0;36mParamMethod.eval\u001b[1;34m(self, function)\u001b[0m\n\u001b[0;32m    771\u001b[0m         args \u001b[38;5;241m=\u001b[39m (\u001b[38;5;28mgetattr\u001b[39m(dep\u001b[38;5;241m.\u001b[39mowner, dep\u001b[38;5;241m.\u001b[39mname) \u001b[38;5;28;01mfor\u001b[39;00m dep \u001b[38;5;129;01min\u001b[39;00m arg_deps)\n\u001b[0;32m    772\u001b[0m         kwargs \u001b[38;5;241m=\u001b[39m {n: \u001b[38;5;28mgetattr\u001b[39m(dep\u001b[38;5;241m.\u001b[39mowner, dep\u001b[38;5;241m.\u001b[39mname) \u001b[38;5;28;01mfor\u001b[39;00m n, dep \u001b[38;5;129;01min\u001b[39;00m kw_deps\u001b[38;5;241m.\u001b[39mitems()}\n\u001b[1;32m--> 773\u001b[0m \u001b[38;5;28;01mreturn\u001b[39;00m function(\u001b[38;5;241m*\u001b[39margs, \u001b[38;5;241m*\u001b[39m\u001b[38;5;241m*\u001b[39mkwargs)\n",
      "Input \u001b[1;32mIn [11]\u001b[0m, in \u001b[0;36mMilkProduced.view\u001b[1;34m(self)\u001b[0m\n\u001b[0;32m      8\u001b[0m \u001b[38;5;28;01mdef\u001b[39;00m \u001b[38;5;21mview\u001b[39m(\u001b[38;5;28mself\u001b[39m):\n\u001b[1;32m----> 9\u001b[0m     \u001b[38;5;28;01mreturn\u001b[39;00m \u001b[43mfind_outliers\u001b[49m\u001b[43m(\u001b[49m\u001b[38;5;28;43mself\u001b[39;49m\u001b[38;5;241;43m.\u001b[39;49m\u001b[43mvariable\u001b[49m\u001b[43m,\u001b[49m\u001b[43m \u001b[49m\u001b[38;5;28;43mself\u001b[39;49m\u001b[38;5;241;43m.\u001b[39;49m\u001b[43mwindow\u001b[49m\u001b[43m,\u001b[49m\u001b[43m \u001b[49m\u001b[38;5;28;43mself\u001b[39;49m\u001b[38;5;241;43m.\u001b[39;49m\u001b[43msigma\u001b[49m\u001b[43m)\u001b[49m\n",
      "Input \u001b[1;32mIn [3]\u001b[0m, in \u001b[0;36mfind_outliers\u001b[1;34m(variable, window, sigma, view_fn)\u001b[0m\n\u001b[0;32m     14\u001b[0m \u001b[38;5;28;01mdef\u001b[39;00m \u001b[38;5;21mfind_outliers\u001b[39m(variable\u001b[38;5;241m=\u001b[39m\u001b[38;5;124m'\u001b[39m\u001b[38;5;124mMilk Produced\u001b[39m\u001b[38;5;124m'\u001b[39m, window\u001b[38;5;241m=\u001b[39m\u001b[38;5;241m30\u001b[39m, sigma\u001b[38;5;241m=\u001b[39m\u001b[38;5;241m10\u001b[39m, view_fn\u001b[38;5;241m=\u001b[39mmpl_plot):\n\u001b[1;32m---> 15\u001b[0m     avg \u001b[38;5;241m=\u001b[39m \u001b[43mdata\u001b[49m\u001b[43m[\u001b[49m\u001b[43mvariable\u001b[49m\u001b[43m]\u001b[49m\u001b[38;5;241;43m.\u001b[39;49m\u001b[43mrolling\u001b[49m\u001b[43m(\u001b[49m\u001b[43mwindow\u001b[49m\u001b[38;5;241;43m=\u001b[39;49m\u001b[43mwindow\u001b[49m\u001b[43m)\u001b[49m\u001b[38;5;241;43m.\u001b[39;49m\u001b[43mmean\u001b[49m\u001b[43m(\u001b[49m\u001b[43m)\u001b[49m\n\u001b[0;32m     16\u001b[0m     residual \u001b[38;5;241m=\u001b[39m data[variable] \u001b[38;5;241m-\u001b[39m avg\n\u001b[0;32m     17\u001b[0m     std \u001b[38;5;241m=\u001b[39m residual\u001b[38;5;241m.\u001b[39mrolling(window\u001b[38;5;241m=\u001b[39mwindow)\u001b[38;5;241m.\u001b[39mstd()\n",
      "File \u001b[1;32m~\\anaconda3\\lib\\site-packages\\pandas\\core\\window\\rolling.py:2039\u001b[0m, in \u001b[0;36mRolling.mean\u001b[1;34m(self, engine, engine_kwargs, *args, **kwargs)\u001b[0m\n\u001b[0;32m   1993\u001b[0m \u001b[38;5;129m@doc\u001b[39m(\n\u001b[0;32m   1994\u001b[0m     template_header,\n\u001b[0;32m   1995\u001b[0m     create_section_header(\u001b[38;5;124m\"\u001b[39m\u001b[38;5;124mParameters\u001b[39m\u001b[38;5;124m\"\u001b[39m),\n\u001b[1;32m   (...)\u001b[0m\n\u001b[0;32m   2036\u001b[0m     \u001b[38;5;241m*\u001b[39m\u001b[38;5;241m*\u001b[39mkwargs,\n\u001b[0;32m   2037\u001b[0m ):\n\u001b[0;32m   2038\u001b[0m     nv\u001b[38;5;241m.\u001b[39mvalidate_rolling_func(\u001b[38;5;124m\"\u001b[39m\u001b[38;5;124mmean\u001b[39m\u001b[38;5;124m\"\u001b[39m, args, kwargs)\n\u001b[1;32m-> 2039\u001b[0m     \u001b[38;5;28;01mreturn\u001b[39;00m \u001b[38;5;28msuper\u001b[39m()\u001b[38;5;241m.\u001b[39mmean(\u001b[38;5;241m*\u001b[39margs, engine\u001b[38;5;241m=\u001b[39mengine, engine_kwargs\u001b[38;5;241m=\u001b[39mengine_kwargs, \u001b[38;5;241m*\u001b[39m\u001b[38;5;241m*\u001b[39mkwargs)\n",
      "File \u001b[1;32m~\\anaconda3\\lib\\site-packages\\pandas\\core\\window\\rolling.py:1444\u001b[0m, in \u001b[0;36mRollingAndExpandingMixin.mean\u001b[1;34m(self, engine, engine_kwargs, *args, **kwargs)\u001b[0m\n\u001b[0;32m   1442\u001b[0m         \u001b[38;5;28;01mreturn\u001b[39;00m \u001b[38;5;28mself\u001b[39m\u001b[38;5;241m.\u001b[39m_numba_apply(sliding_mean, \u001b[38;5;124m\"\u001b[39m\u001b[38;5;124mrolling_mean\u001b[39m\u001b[38;5;124m\"\u001b[39m, engine_kwargs)\n\u001b[0;32m   1443\u001b[0m window_func \u001b[38;5;241m=\u001b[39m window_aggregations\u001b[38;5;241m.\u001b[39mroll_mean\n\u001b[1;32m-> 1444\u001b[0m \u001b[38;5;28;01mreturn\u001b[39;00m \u001b[38;5;28mself\u001b[39m\u001b[38;5;241m.\u001b[39m_apply(window_func, name\u001b[38;5;241m=\u001b[39m\u001b[38;5;124m\"\u001b[39m\u001b[38;5;124mmean\u001b[39m\u001b[38;5;124m\"\u001b[39m, \u001b[38;5;241m*\u001b[39m\u001b[38;5;241m*\u001b[39mkwargs)\n",
      "File \u001b[1;32m~\\anaconda3\\lib\\site-packages\\pandas\\core\\window\\rolling.py:590\u001b[0m, in \u001b[0;36mBaseWindow._apply\u001b[1;34m(self, func, name, numba_cache_key, numba_args, **kwargs)\u001b[0m\n\u001b[0;32m    587\u001b[0m     \u001b[38;5;28;01mreturn\u001b[39;00m result\n\u001b[0;32m    589\u001b[0m \u001b[38;5;28;01mif\u001b[39;00m \u001b[38;5;28mself\u001b[39m\u001b[38;5;241m.\u001b[39mmethod \u001b[38;5;241m==\u001b[39m \u001b[38;5;124m\"\u001b[39m\u001b[38;5;124msingle\u001b[39m\u001b[38;5;124m\"\u001b[39m:\n\u001b[1;32m--> 590\u001b[0m     \u001b[38;5;28;01mreturn\u001b[39;00m \u001b[38;5;28;43mself\u001b[39;49m\u001b[38;5;241;43m.\u001b[39;49m\u001b[43m_apply_blockwise\u001b[49m\u001b[43m(\u001b[49m\u001b[43mhomogeneous_func\u001b[49m\u001b[43m,\u001b[49m\u001b[43m \u001b[49m\u001b[43mname\u001b[49m\u001b[43m)\u001b[49m\n\u001b[0;32m    591\u001b[0m \u001b[38;5;28;01melse\u001b[39;00m:\n\u001b[0;32m    592\u001b[0m     \u001b[38;5;28;01mreturn\u001b[39;00m \u001b[38;5;28mself\u001b[39m\u001b[38;5;241m.\u001b[39m_apply_tablewise(homogeneous_func, name)\n",
      "File \u001b[1;32m~\\anaconda3\\lib\\site-packages\\pandas\\core\\window\\rolling.py:442\u001b[0m, in \u001b[0;36mBaseWindow._apply_blockwise\u001b[1;34m(self, homogeneous_func, name)\u001b[0m\n\u001b[0;32m    437\u001b[0m \u001b[38;5;124;03m\"\"\"\u001b[39;00m\n\u001b[0;32m    438\u001b[0m \u001b[38;5;124;03mApply the given function to the DataFrame broken down into homogeneous\u001b[39;00m\n\u001b[0;32m    439\u001b[0m \u001b[38;5;124;03msub-frames.\u001b[39;00m\n\u001b[0;32m    440\u001b[0m \u001b[38;5;124;03m\"\"\"\u001b[39;00m\n\u001b[0;32m    441\u001b[0m \u001b[38;5;28;01mif\u001b[39;00m \u001b[38;5;28mself\u001b[39m\u001b[38;5;241m.\u001b[39m_selected_obj\u001b[38;5;241m.\u001b[39mndim \u001b[38;5;241m==\u001b[39m \u001b[38;5;241m1\u001b[39m:\n\u001b[1;32m--> 442\u001b[0m     \u001b[38;5;28;01mreturn\u001b[39;00m \u001b[38;5;28;43mself\u001b[39;49m\u001b[38;5;241;43m.\u001b[39;49m\u001b[43m_apply_series\u001b[49m\u001b[43m(\u001b[49m\u001b[43mhomogeneous_func\u001b[49m\u001b[43m,\u001b[49m\u001b[43m \u001b[49m\u001b[43mname\u001b[49m\u001b[43m)\u001b[49m\n\u001b[0;32m    444\u001b[0m obj \u001b[38;5;241m=\u001b[39m \u001b[38;5;28mself\u001b[39m\u001b[38;5;241m.\u001b[39m_create_data(\u001b[38;5;28mself\u001b[39m\u001b[38;5;241m.\u001b[39m_selected_obj)\n\u001b[0;32m    445\u001b[0m \u001b[38;5;28;01mif\u001b[39;00m name \u001b[38;5;241m==\u001b[39m \u001b[38;5;124m\"\u001b[39m\u001b[38;5;124mcount\u001b[39m\u001b[38;5;124m\"\u001b[39m:\n\u001b[0;32m    446\u001b[0m     \u001b[38;5;66;03m# GH 12541: Special case for count where we support date-like types\u001b[39;00m\n",
      "File \u001b[1;32m~\\anaconda3\\lib\\site-packages\\pandas\\core\\window\\rolling.py:429\u001b[0m, in \u001b[0;36mBaseWindow._apply_series\u001b[1;34m(self, homogeneous_func, name)\u001b[0m\n\u001b[0;32m    427\u001b[0m     values \u001b[38;5;241m=\u001b[39m \u001b[38;5;28mself\u001b[39m\u001b[38;5;241m.\u001b[39m_prep_values(obj\u001b[38;5;241m.\u001b[39m_values)\n\u001b[0;32m    428\u001b[0m \u001b[38;5;28;01mexcept\u001b[39;00m (\u001b[38;5;167;01mTypeError\u001b[39;00m, \u001b[38;5;167;01mNotImplementedError\u001b[39;00m) \u001b[38;5;28;01mas\u001b[39;00m err:\n\u001b[1;32m--> 429\u001b[0m     \u001b[38;5;28;01mraise\u001b[39;00m DataError(\u001b[38;5;124m\"\u001b[39m\u001b[38;5;124mNo numeric types to aggregate\u001b[39m\u001b[38;5;124m\"\u001b[39m) \u001b[38;5;28;01mfrom\u001b[39;00m \u001b[38;5;21;01merr\u001b[39;00m\n\u001b[0;32m    431\u001b[0m result \u001b[38;5;241m=\u001b[39m homogeneous_func(values)\n\u001b[0;32m    432\u001b[0m \u001b[38;5;28;01mreturn\u001b[39;00m obj\u001b[38;5;241m.\u001b[39m_constructor(result, index\u001b[38;5;241m=\u001b[39mobj\u001b[38;5;241m.\u001b[39mindex, name\u001b[38;5;241m=\u001b[39mobj\u001b[38;5;241m.\u001b[39mname)\n",
      "\u001b[1;31mDataError\u001b[0m: No numeric types to aggregate"
     ]
    }
   ],
   "source": [
    "pn.Row(obj.param, obj.view)"
   ]
  },
  {
   "cell_type": "markdown",
   "metadata": {},
   "source": [
    "To support a particular domain, you can create hierarchies of such classes encapsulating all the parameters and functionality you need across different families of objects, with both parameters and code inheriting across the classes as appropriate, all without any dependency on a particular GUI library or even the presence of a GUI at all. This approach makes it practical to maintain a large codebase, all fully displayable and editable with Panel, in a way that can be maintained and adapted over time."
   ]
  },
  {
   "cell_type": "markdown",
   "metadata": {},
   "source": [
    "### Linking plots and actions between panes"
   ]
  },
  {
   "cell_type": "markdown",
   "metadata": {},
   "source": [
    "he above approaches each work with a very wide variety of displayable objects, including images, equations, tables, and plots. In each case, Panel provides interactive functionality using widgets and updates the displayed objects accordingly, while making very few assumptions about what actually is being displayed. Panel also supports richer, more dynamic interactivity where the displayed object is itself interactive, such as the JavaScript-based plots from Bokeh and Plotly.\n",
    "\n",
    "For instance, if we substitute the Bokeh wrapper hvPlot for the Matplotlib wrapper provided with Pandas, we automatically get interactive plots that allow zooming, panning and hovering:"
   ]
  },
  {
   "cell_type": "code",
   "execution_count": 13,
   "metadata": {},
   "outputs": [
    {
     "name": "stdout",
     "output_type": "stream",
     "text": [
      "Requirement already satisfied: hvplot in c:\\users\\kftsu\\anaconda3\\lib\\site-packages (0.7.3)\n",
      "Requirement already satisfied: numpy>=1.15 in c:\\users\\kftsu\\anaconda3\\lib\\site-packages (from hvplot) (1.21.5)\n",
      "Requirement already satisfied: colorcet>=2 in c:\\users\\kftsu\\anaconda3\\lib\\site-packages (from hvplot) (2.0.6)\n",
      "Requirement already satisfied: bokeh>=1.0.0 in c:\\users\\kftsu\\anaconda3\\lib\\site-packages (from hvplot) (2.4.2)\n",
      "Requirement already satisfied: holoviews>=1.11.0 in c:\\users\\kftsu\\anaconda3\\lib\\site-packages (from hvplot) (1.14.8)\n",
      "Requirement already satisfied: pandas in c:\\users\\kftsu\\anaconda3\\lib\\site-packages (from hvplot) (1.4.2)\n",
      "Requirement already satisfied: tornado>=5.1 in c:\\users\\kftsu\\anaconda3\\lib\\site-packages (from bokeh>=1.0.0->hvplot) (6.1)\n",
      "Requirement already satisfied: Jinja2>=2.9 in c:\\users\\kftsu\\anaconda3\\lib\\site-packages (from bokeh>=1.0.0->hvplot) (2.11.3)\n",
      "Requirement already satisfied: packaging>=16.8 in c:\\users\\kftsu\\anaconda3\\lib\\site-packages (from bokeh>=1.0.0->hvplot) (21.3)\n",
      "Requirement already satisfied: pillow>=7.1.0 in c:\\users\\kftsu\\anaconda3\\lib\\site-packages (from bokeh>=1.0.0->hvplot) (9.0.1)\n",
      "Requirement already satisfied: typing-extensions>=3.10.0 in c:\\users\\kftsu\\anaconda3\\lib\\site-packages (from bokeh>=1.0.0->hvplot) (4.1.1)\n",
      "Requirement already satisfied: PyYAML>=3.10 in c:\\users\\kftsu\\anaconda3\\lib\\site-packages (from bokeh>=1.0.0->hvplot) (5.4.1)\n",
      "Requirement already satisfied: param>=1.7.0 in c:\\users\\kftsu\\anaconda3\\lib\\site-packages (from colorcet>=2->hvplot) (1.12.0)\n",
      "Requirement already satisfied: pyct>=0.4.4 in c:\\users\\kftsu\\anaconda3\\lib\\site-packages (from colorcet>=2->hvplot) (0.4.6)\n",
      "Requirement already satisfied: panel>=0.8.0 in c:\\users\\kftsu\\anaconda3\\lib\\site-packages (from holoviews>=1.11.0->hvplot) (0.13.0)\n",
      "Requirement already satisfied: pyviz-comms>=0.7.4 in c:\\users\\kftsu\\anaconda3\\lib\\site-packages (from holoviews>=1.11.0->hvplot) (2.0.2)\n",
      "Requirement already satisfied: MarkupSafe>=0.23 in c:\\users\\kftsu\\anaconda3\\lib\\site-packages (from Jinja2>=2.9->bokeh>=1.0.0->hvplot) (2.0.1)\n",
      "Requirement already satisfied: pyparsing!=3.0.5,>=2.0.2 in c:\\users\\kftsu\\anaconda3\\lib\\site-packages (from packaging>=16.8->bokeh>=1.0.0->hvplot) (3.0.4)\n",
      "Requirement already satisfied: pytz>=2020.1 in c:\\users\\kftsu\\anaconda3\\lib\\site-packages (from pandas->hvplot) (2021.3)\n",
      "Requirement already satisfied: python-dateutil>=2.8.1 in c:\\users\\kftsu\\anaconda3\\lib\\site-packages (from pandas->hvplot) (2.8.2)\n",
      "Requirement already satisfied: bleach in c:\\users\\kftsu\\anaconda3\\lib\\site-packages (from panel>=0.8.0->holoviews>=1.11.0->hvplot) (4.1.0)\n",
      "Requirement already satisfied: requests in c:\\users\\kftsu\\anaconda3\\lib\\site-packages (from panel>=0.8.0->holoviews>=1.11.0->hvplot) (2.25.0)\n",
      "Requirement already satisfied: tqdm>=4.48.0 in c:\\users\\kftsu\\anaconda3\\lib\\site-packages (from panel>=0.8.0->holoviews>=1.11.0->hvplot) (4.64.0)\n",
      "Requirement already satisfied: markdown in c:\\users\\kftsu\\anaconda3\\lib\\site-packages (from panel>=0.8.0->holoviews>=1.11.0->hvplot) (3.3.4)\n",
      "Requirement already satisfied: six>=1.5 in c:\\users\\kftsu\\anaconda3\\lib\\site-packages (from python-dateutil>=2.8.1->pandas->hvplot) (1.16.0)\n",
      "Requirement already satisfied: colorama in c:\\users\\kftsu\\anaconda3\\lib\\site-packages (from tqdm>=4.48.0->panel>=0.8.0->holoviews>=1.11.0->hvplot) (0.4.4)\n",
      "Requirement already satisfied: webencodings in c:\\users\\kftsu\\anaconda3\\lib\\site-packages (from bleach->panel>=0.8.0->holoviews>=1.11.0->hvplot) (0.5.1)\n",
      "Requirement already satisfied: certifi>=2017.4.17 in c:\\users\\kftsu\\anaconda3\\lib\\site-packages (from requests->panel>=0.8.0->holoviews>=1.11.0->hvplot) (2021.10.8)\n",
      "Requirement already satisfied: chardet<4,>=3.0.2 in c:\\users\\kftsu\\anaconda3\\lib\\site-packages (from requests->panel>=0.8.0->holoviews>=1.11.0->hvplot) (3.0.4)\n",
      "Requirement already satisfied: idna<3,>=2.5 in c:\\users\\kftsu\\anaconda3\\lib\\site-packages (from requests->panel>=0.8.0->holoviews>=1.11.0->hvplot) (2.10)\n",
      "Requirement already satisfied: urllib3<1.27,>=1.21.1 in c:\\users\\kftsu\\anaconda3\\lib\\site-packages (from requests->panel>=0.8.0->holoviews>=1.11.0->hvplot) (1.26.9)\n",
      "Note: you may need to restart the kernel to use updated packages.\n"
     ]
    }
   ],
   "source": [
    "pip install hvplot"
   ]
  },
  {
   "cell_type": "code",
   "execution_count": 17,
   "metadata": {},
   "outputs": [
    {
     "data": {},
     "metadata": {},
     "output_type": "display_data"
    },
    {
     "data": {},
     "metadata": {},
     "output_type": "display_data"
    },
    {
     "data": {
      "application/vnd.holoviews_exec.v0+json": "",
      "text/html": [
       "<div id='2185'>\n",
       "\n",
       "\n",
       "\n",
       "\n",
       "\n",
       "  <div class=\"bk-root\" id=\"4e590916-fabc-4a11-aa52-47f541727c78\" data-root-id=\"2185\"></div>\n",
       "</div>\n",
       "<script type=\"application/javascript\">(function(root) {\n",
       "  function embed_document(root) {\n",
       "    var docs_json = {\"be1a32c0-d3ad-4dcd-8084-efe24326a718\":{\"defs\":[{\"extends\":null,\"module\":null,\"name\":\"ReactiveHTML1\",\"overrides\":[],\"properties\":[]},{\"extends\":null,\"module\":null,\"name\":\"FlexBox1\",\"overrides\":[],\"properties\":[{\"default\":\"flex-start\",\"kind\":null,\"name\":\"align_content\"},{\"default\":\"flex-start\",\"kind\":null,\"name\":\"align_items\"},{\"default\":\"row\",\"kind\":null,\"name\":\"flex_direction\"},{\"default\":\"wrap\",\"kind\":null,\"name\":\"flex_wrap\"},{\"default\":\"flex-start\",\"kind\":null,\"name\":\"justify_content\"}]},{\"extends\":null,\"module\":null,\"name\":\"GridStack1\",\"overrides\":[],\"properties\":[{\"default\":\"warn\",\"kind\":null,\"name\":\"mode\"},{\"default\":null,\"kind\":null,\"name\":\"ncols\"},{\"default\":null,\"kind\":null,\"name\":\"nrows\"},{\"default\":true,\"kind\":null,\"name\":\"allow_resize\"},{\"default\":true,\"kind\":null,\"name\":\"allow_drag\"},{\"default\":[],\"kind\":null,\"name\":\"state\"}]},{\"extends\":null,\"module\":null,\"name\":\"click1\",\"overrides\":[],\"properties\":[{\"default\":\"\",\"kind\":null,\"name\":\"terminal_output\"},{\"default\":\"\",\"kind\":null,\"name\":\"debug_name\"},{\"default\":0,\"kind\":null,\"name\":\"clears\"}]},{\"extends\":null,\"module\":null,\"name\":\"TemplateActions1\",\"overrides\":[],\"properties\":[{\"default\":0,\"kind\":null,\"name\":\"open_modal\"},{\"default\":0,\"kind\":null,\"name\":\"close_modal\"}]},{\"extends\":null,\"module\":null,\"name\":\"MaterialTemplateActions1\",\"overrides\":[],\"properties\":[{\"default\":0,\"kind\":null,\"name\":\"open_modal\"},{\"default\":0,\"kind\":null,\"name\":\"close_modal\"}]}],\"roots\":{\"references\":[{\"attributes\":{\"children\":[{\"id\":\"2186\"},{\"id\":\"2192\"}],\"margin\":[0,0,0,0],\"name\":\"Column03668\"},\"id\":\"2185\",\"type\":\"Column\"},{\"attributes\":{\"below\":[{\"id\":\"2206\"}],\"center\":[{\"id\":\"2209\"},{\"id\":\"2213\"}],\"height\":200,\"left\":[{\"id\":\"2210\"}],\"margin\":[5,5,5,5],\"min_border_bottom\":10,\"min_border_left\":10,\"min_border_right\":10,\"min_border_top\":10,\"renderers\":[{\"id\":\"2239\"},{\"id\":\"2260\"}],\"right\":[{\"id\":\"2251\"}],\"sizing_mode\":\"fixed\",\"title\":{\"id\":\"2198\"},\"toolbar\":{\"id\":\"2220\"},\"width\":700,\"x_range\":{\"id\":\"2193\"},\"x_scale\":{\"id\":\"2202\"},\"y_range\":{\"id\":\"2194\"},\"y_scale\":{\"id\":\"2204\"}},\"id\":\"2197\",\"subtype\":\"Figure\",\"type\":\"Plot\"},{\"attributes\":{\"source\":{\"id\":\"2254\"}},\"id\":\"2261\",\"type\":\"CDSView\"},{\"attributes\":{\"axis_label\":\"\",\"coordinates\":null,\"formatter\":{\"id\":\"2228\"},\"group\":null,\"major_label_policy\":{\"id\":\"2229\"},\"ticker\":{\"id\":\"2207\"}},\"id\":\"2206\",\"type\":\"LinearAxis\"},{\"attributes\":{\"end\":20,\"margin\":[5,10,5,10],\"start\":1,\"title\":\"sigma\",\"value\":10},\"id\":\"2191\",\"type\":\"Slider\"},{\"attributes\":{\"angle\":{\"value\":0.0},\"fill_alpha\":{\"value\":1.0},\"fill_color\":{\"value\":\"orange\"},\"hatch_alpha\":{\"value\":1.0},\"hatch_color\":{\"value\":\"orange\"},\"hatch_scale\":{\"value\":12.0},\"hatch_weight\":{\"value\":1.0},\"line_alpha\":{\"value\":1.0},\"line_cap\":{\"value\":\"butt\"},\"line_color\":{\"value\":\"orange\"},\"line_dash\":{\"value\":[]},\"line_dash_offset\":{\"value\":0},\"line_join\":{\"value\":\"bevel\"},\"line_width\":{\"value\":1},\"marker\":{\"value\":\"circle\"},\"size\":{\"value\":5.477225575051661},\"x\":{\"field\":\"index\"},\"y\":{\"field\":\"Milk Produced\"}},\"id\":\"2274\",\"type\":\"Scatter\"},{\"attributes\":{\"axis\":{\"id\":\"2206\"},\"coordinates\":null,\"grid_line_color\":null,\"group\":null,\"ticker\":null},\"id\":\"2209\",\"type\":\"Grid\"},{\"attributes\":{\"fill_alpha\":{\"value\":0.2},\"fill_color\":{\"value\":\"orange\"},\"hatch_alpha\":{\"value\":0.2},\"hatch_color\":{\"value\":\"orange\"},\"line_alpha\":{\"value\":0.2},\"line_color\":{\"value\":\"orange\"},\"size\":{\"value\":5.477225575051661},\"x\":{\"field\":\"index\"},\"y\":{\"field\":\"Milk Produced\"}},\"id\":\"2259\",\"type\":\"Scatter\"},{\"attributes\":{\"axis\":{\"id\":\"2210\"},\"coordinates\":null,\"dimension\":1,\"grid_line_color\":null,\"group\":null,\"ticker\":null},\"id\":\"2213\",\"type\":\"Grid\"},{\"attributes\":{},\"id\":\"2215\",\"type\":\"PanTool\"},{\"attributes\":{\"coordinates\":null,\"data_source\":{\"id\":\"2254\"},\"glyph\":{\"id\":\"2257\"},\"group\":null,\"hover_glyph\":null,\"muted_glyph\":{\"id\":\"2259\"},\"nonselection_glyph\":{\"id\":\"2258\"},\"selection_glyph\":{\"id\":\"2274\"},\"view\":{\"id\":\"2261\"}},\"id\":\"2260\",\"type\":\"GlyphRenderer\"},{\"attributes\":{},\"id\":\"2207\",\"type\":\"BasicTicker\"},{\"attributes\":{},\"id\":\"2216\",\"type\":\"WheelZoomTool\"},{\"attributes\":{},\"id\":\"2228\",\"type\":\"BasicTickFormatter\"},{\"attributes\":{\"css_classes\":[\"markdown\"],\"margin\":[5,5,5,5],\"name\":\"Markdown03665\",\"text\":\"&lt;h2&gt;Country&lt;/h2&gt;\\n&lt;p&gt;Select the variable and the smoothing values&lt;/p&gt;\",\"width\":400},\"id\":\"2187\",\"type\":\"panel.models.markup.HTML\"},{\"attributes\":{\"axis_label\":\"\",\"coordinates\":null,\"formatter\":{\"id\":\"2231\"},\"group\":null,\"major_label_policy\":{\"id\":\"2232\"},\"ticker\":{\"id\":\"2211\"}},\"id\":\"2210\",\"type\":\"LinearAxis\"},{\"attributes\":{},\"id\":\"2211\",\"type\":\"BasicTicker\"},{\"attributes\":{},\"id\":\"2271\",\"type\":\"UnionRenderers\"},{\"attributes\":{},\"id\":\"2229\",\"type\":\"AllLabels\"},{\"attributes\":{},\"id\":\"2214\",\"type\":\"SaveTool\"},{\"attributes\":{\"overlay\":{\"id\":\"2219\"}},\"id\":\"2217\",\"type\":\"BoxZoomTool\"},{\"attributes\":{\"children\":[{\"id\":\"2189\"},{\"id\":\"2190\"},{\"id\":\"2191\"}],\"margin\":[0,0,0,0],\"name\":\"Column03664\"},\"id\":\"2188\",\"type\":\"Column\"},{\"attributes\":{},\"id\":\"2218\",\"type\":\"ResetTool\"},{\"attributes\":{},\"id\":\"2202\",\"type\":\"LinearScale\"},{\"attributes\":{},\"id\":\"2231\",\"type\":\"BasicTickFormatter\"},{\"attributes\":{\"bottom_units\":\"screen\",\"coordinates\":null,\"fill_alpha\":0.5,\"fill_color\":\"lightgrey\",\"group\":null,\"left_units\":\"screen\",\"level\":\"overlay\",\"line_alpha\":1.0,\"line_color\":\"black\",\"line_dash\":[4,4],\"line_width\":2,\"right_units\":\"screen\",\"syncable\":false,\"top_units\":\"screen\"},\"id\":\"2219\",\"type\":\"BoxAnnotation\"},{\"attributes\":{\"end\":304.45714285714286,\"reset_end\":304.45714285714286,\"reset_start\":-8.457142857142857,\"start\":-8.457142857142857,\"tags\":[[[\"index\",\"index\",null]]]},\"id\":\"2193\",\"type\":\"Range1d\"},{\"attributes\":{\"tools\":[{\"id\":\"2195\"},{\"id\":\"2214\"},{\"id\":\"2215\"},{\"id\":\"2216\"},{\"id\":\"2217\"},{\"id\":\"2218\"}]},\"id\":\"2220\",\"type\":\"Toolbar\"},{\"attributes\":{},\"id\":\"2232\",\"type\":\"AllLabels\"},{\"attributes\":{\"end\":6749.3803333333335,\"reset_end\":6749.3803333333335,\"reset_start\":4489.640333333334,\"start\":4489.640333333334,\"tags\":[[[\"Milk Produced\",\"Milk Produced\",null]]]},\"id\":\"2194\",\"type\":\"Range1d\"},{\"attributes\":{},\"id\":\"2248\",\"type\":\"UnionRenderers\"},{\"attributes\":{\"line_alpha\":0.1,\"line_color\":\"#30a2da\",\"line_width\":2,\"x\":{\"field\":\"index\"},\"y\":{\"field\":\"Milk Produced\"}},\"id\":\"2237\",\"type\":\"Line\"},{\"attributes\":{\"coordinates\":null,\"data_source\":{\"id\":\"2233\"},\"glyph\":{\"id\":\"2236\"},\"group\":null,\"hover_glyph\":null,\"muted_glyph\":{\"id\":\"2238\"},\"nonselection_glyph\":{\"id\":\"2237\"},\"selection_glyph\":{\"id\":\"2253\"},\"view\":{\"id\":\"2240\"}},\"id\":\"2239\",\"type\":\"GlyphRenderer\"},{\"attributes\":{\"line_alpha\":0.2,\"line_color\":\"#30a2da\",\"line_width\":2,\"x\":{\"field\":\"index\"},\"y\":{\"field\":\"Milk Produced\"}},\"id\":\"2238\",\"type\":\"Line\"},{\"attributes\":{\"fill_color\":{\"value\":\"orange\"},\"hatch_color\":{\"value\":\"orange\"},\"line_color\":{\"value\":\"orange\"},\"size\":{\"value\":5.477225575051661},\"x\":{\"field\":\"index\"},\"y\":{\"field\":\"Milk Produced\"}},\"id\":\"2257\",\"type\":\"Scatter\"},{\"attributes\":{\"source\":{\"id\":\"2233\"}},\"id\":\"2240\",\"type\":\"CDSView\"},{\"attributes\":{\"fill_alpha\":{\"value\":0.1},\"fill_color\":{\"value\":\"orange\"},\"hatch_alpha\":{\"value\":0.1},\"hatch_color\":{\"value\":\"orange\"},\"line_alpha\":{\"value\":0.1},\"line_color\":{\"value\":\"orange\"},\"size\":{\"value\":5.477225575051661},\"x\":{\"field\":\"index\"},\"y\":{\"field\":\"Milk Produced\"}},\"id\":\"2258\",\"type\":\"Scatter\"},{\"attributes\":{\"end\":60,\"margin\":[5,10,5,10],\"start\":1,\"title\":\"window\",\"value\":30},\"id\":\"2190\",\"type\":\"Slider\"},{\"attributes\":{\"children\":[{\"id\":\"2197\"}],\"margin\":[0,0,0,0],\"name\":\"Row03663\"},\"id\":\"2192\",\"type\":\"Row\"},{\"attributes\":{\"line_color\":\"#30a2da\",\"line_width\":2,\"x\":{\"field\":\"index\"},\"y\":{\"field\":\"Milk Produced\"}},\"id\":\"2253\",\"type\":\"Line\"},{\"attributes\":{\"line_color\":\"#30a2da\",\"line_width\":2,\"x\":{\"field\":\"index\"},\"y\":{\"field\":\"Milk Produced\"}},\"id\":\"2236\",\"type\":\"Line\"},{\"attributes\":{\"click_policy\":\"mute\",\"coordinates\":null,\"group\":null,\"items\":[{\"id\":\"2252\"}],\"location\":[0,0]},\"id\":\"2251\",\"type\":\"Legend\"},{\"attributes\":{\"margin\":[5,10,5,10],\"options\":[\"Country\",\"Milk Produced\",\"Number of Dairy Cows\",\"Year\"],\"title\":\"variable\",\"value\":\"Milk Produced\"},\"id\":\"2189\",\"type\":\"panel.models.widgets.CustomSelect\"},{\"attributes\":{\"data\":{\"Milk Produced\":{\"__ndarray__\":\"\",\"dtype\":\"float64\",\"order\":\"little\",\"shape\":[0]},\"Milk_Produced\":{\"__ndarray__\":\"\",\"dtype\":\"float64\",\"order\":\"little\",\"shape\":[0]},\"index\":[]},\"selected\":{\"id\":\"2255\"},\"selection_policy\":{\"id\":\"2271\"}},\"id\":\"2254\",\"type\":\"ColumnDataSource\"},{\"attributes\":{\"label\":{\"value\":\"Milk Produced\"},\"renderers\":[{\"id\":\"2239\"},{\"id\":\"2260\"}]},\"id\":\"2252\",\"type\":\"LegendItem\"},{\"attributes\":{},\"id\":\"2204\",\"type\":\"LinearScale\"},{\"attributes\":{},\"id\":\"2234\",\"type\":\"Selection\"},{\"attributes\":{\"children\":[{\"id\":\"2187\"},{\"id\":\"2188\"}],\"margin\":[0,0,0,0],\"name\":\"Row03667\"},\"id\":\"2186\",\"type\":\"Row\"},{\"attributes\":{\"data\":{\"Milk Produced\":{\"__ndarray__\":\"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\",\"dtype\":\"float64\",\"order\":\"little\",\"shape\":[297]},\"Milk_Produced\":{\"__ndarray__\":\"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\",\"dtype\":\"float64\",\"order\":\"little\",\"shape\":[297]},\"index\":[0,1,2,3,4,5,6,7,8,9,10,11,12,13,14,15,16,17,18,19,20,21,22,23,24,25,26,27,28,29,30,31,32,33,34,35,36,37,38,39,40,41,42,43,44,45,46,47,48,49,50,51,52,53,54,55,56,57,58,59,60,61,62,63,64,65,66,67,68,69,70,71,72,73,74,75,76,77,78,79,80,81,82,83,84,85,86,87,88,89,90,91,92,93,94,95,96,97,98,99,100,101,102,103,104,105,106,107,108,109,110,111,112,113,114,115,116,117,118,119,120,121,122,123,124,125,126,127,128,129,130,131,132,133,134,135,136,137,138,139,140,141,142,143,144,145,146,147,148,149,150,151,152,153,154,155,156,157,158,159,160,161,162,163,164,165,166,167,168,169,170,171,172,173,174,175,176,177,178,179,180,181,182,183,184,185,186,187,188,189,190,191,192,193,194,195,196,197,198,199,200,201,202,203,204,205,206,207,208,209,210,211,212,213,214,215,216,217,218,219,220,221,222,223,224,225,226,227,228,229,230,231,232,233,234,235,236,237,238,239,240,241,242,243,244,245,246,247,248,249,250,251,252,253,254,255,256,257,258,259,260,261,262,263,264,265,266,267,268,269,270,271,272,273,274,275,276,277,278,279,280,281,282,283,284,285,286,287,288,289,290,291,292,293,294,295,296]},\"selected\":{\"id\":\"2234\"},\"selection_policy\":{\"id\":\"2248\"}},\"id\":\"2233\",\"type\":\"ColumnDataSource\"},{\"attributes\":{\"callback\":null,\"renderers\":[{\"id\":\"2239\"},{\"id\":\"2260\"}],\"tags\":[\"hv_created\"],\"tooltips\":[[\"index\",\"@{index}\"],[\"Milk Produced\",\"@{Milk_Produced}\"]]},\"id\":\"2195\",\"type\":\"HoverTool\"},{\"attributes\":{\"coordinates\":null,\"group\":null,\"text\":\"Milk Produced\",\"text_color\":\"black\",\"text_font_size\":\"12pt\"},\"id\":\"2198\",\"type\":\"Title\"},{\"attributes\":{},\"id\":\"2255\",\"type\":\"Selection\"},{\"attributes\":{\"client_comm_id\":\"c9918e5e8b7e42b79823c904d7f3f266\",\"comm_id\":\"c17e288ccda640079e612c4dd1cef4c9\",\"plot_id\":\"2185\"},\"id\":\"2419\",\"type\":\"panel.models.comm_manager.CommManager\"}],\"root_ids\":[\"2185\",\"2419\"]},\"title\":\"Bokeh Application\",\"version\":\"2.4.2\"}};\n",
       "    var render_items = [{\"docid\":\"be1a32c0-d3ad-4dcd-8084-efe24326a718\",\"root_ids\":[\"2185\"],\"roots\":{\"2185\":\"4e590916-fabc-4a11-aa52-47f541727c78\"}}];\n",
       "    root.Bokeh.embed.embed_items_notebook(docs_json, render_items);\n",
       "  }\n",
       "  if (root.Bokeh !== undefined && root.Bokeh.Panel !== undefined) {\n",
       "    embed_document(root);\n",
       "  } else {\n",
       "    var attempts = 0;\n",
       "    var timer = setInterval(function(root) {\n",
       "      if (root.Bokeh !== undefined && root.Bokeh.Panel !== undefined) {\n",
       "        clearInterval(timer);\n",
       "        embed_document(root);\n",
       "      } else if (document.readyState == \"complete\") {\n",
       "        attempts++;\n",
       "        if (attempts > 200) {\n",
       "          clearInterval(timer);\n",
       "          console.log(\"Bokeh: ERROR: Unable to run BokehJS code because BokehJS library is missing\");\n",
       "        }\n",
       "      }\n",
       "    }, 25, root)\n",
       "  }\n",
       "})(window);</script>"
      ],
      "text/plain": [
       "Column\n",
       "    [0] Row\n",
       "        [0] Markdown(str, width=400)\n",
       "        [1] Column\n",
       "            [0] Select(name='variable', options=['Country', 'Milk Produced...], value='Milk Produced')\n",
       "            [1] IntSlider(end=60, name='window', start=1, value=30)\n",
       "            [2] IntSlider(end=20, name='sigma', start=1, value=10)\n",
       "    [1] Row\n",
       "        [0] HoloViews(Overlay, name='interactive03503')"
      ]
     },
     "execution_count": 17,
     "metadata": {
      "application/vnd.holoviews_exec.v0+json": {
       "id": "2185"
      }
     },
     "output_type": "execute_result"
    }
   ],
   "source": [
    "import hvplot.pandas\n",
    "\n",
    "def hvplot(avg, highlight):\n",
    "    return avg.hvplot(height=200) * highlight.hvplot.scatter(color='orange', padding=0.1)\n",
    "\n",
    "text2 = \"## Country\\nSelect the variable and the smoothing values\"\n",
    "hvp   = pn.interact(find_outliers, view_fn=hvplot, **kw)\n",
    "pn.Column(pn.Row(pn.panel(text2, width=400), hvp[0]), hvp[1]).servable(\"Year\")"
   ]
  },
  {
   "cell_type": "markdown",
   "metadata": {},
   "source": [
    "These interactive actions can be combined with more complex interactions with a plot (e.g. tap, hover) to make it easy to explore data more deeply and uncover connections. For instance, we can use HoloViews to make a more full-featured version of the hvPlot example that displays a table of the current measurement values at the hover position on the plot:"
   ]
  },
  {
   "cell_type": "code",
   "execution_count": 18,
   "metadata": {},
   "outputs": [
    {
     "name": "stdout",
     "output_type": "stream",
     "text": [
      "Requirement already satisfied: holoviews in c:\\users\\kftsu\\anaconda3\\lib\\site-packages (1.14.8)\n",
      "Note: you may need to restart the kernel to use updated packages.\n",
      "Requirement already satisfied: param<2.0,>=1.9.3 in c:\\users\\kftsu\\anaconda3\\lib\\site-packages (from holoviews) (1.12.0)\n",
      "Requirement already satisfied: pyviz-comms>=0.7.4 in c:\\users\\kftsu\\anaconda3\\lib\\site-packages (from holoviews) (2.0.2)\n",
      "Requirement already satisfied: panel>=0.8.0 in c:\\users\\kftsu\\anaconda3\\lib\\site-packages (from holoviews) (0.13.0)\n",
      "Requirement already satisfied: numpy>=1.0 in c:\\users\\kftsu\\anaconda3\\lib\\site-packages (from holoviews) (1.21.5)\n",
      "Requirement already satisfied: pandas>=0.20.0 in c:\\users\\kftsu\\anaconda3\\lib\\site-packages (from holoviews) (1.4.2)\n",
      "Requirement already satisfied: colorcet in c:\\users\\kftsu\\anaconda3\\lib\\site-packages (from holoviews) (2.0.6)\n",
      "Requirement already satisfied: packaging in c:\\users\\kftsu\\anaconda3\\lib\\site-packages (from holoviews) (21.3)\n",
      "Requirement already satisfied: pytz>=2020.1 in c:\\users\\kftsu\\anaconda3\\lib\\site-packages (from pandas>=0.20.0->holoviews) (2021.3)\n",
      "Requirement already satisfied: python-dateutil>=2.8.1 in c:\\users\\kftsu\\anaconda3\\lib\\site-packages (from pandas>=0.20.0->holoviews) (2.8.2)\n",
      "Requirement already satisfied: tqdm>=4.48.0 in c:\\users\\kftsu\\anaconda3\\lib\\site-packages (from panel>=0.8.0->holoviews) (4.64.0)\n",
      "Requirement already satisfied: bokeh<2.5.0,>=2.4.0 in c:\\users\\kftsu\\anaconda3\\lib\\site-packages (from panel>=0.8.0->holoviews) (2.4.2)\n",
      "Requirement already satisfied: bleach in c:\\users\\kftsu\\anaconda3\\lib\\site-packages (from panel>=0.8.0->holoviews) (4.1.0)\n",
      "Requirement already satisfied: pyct>=0.4.4 in c:\\users\\kftsu\\anaconda3\\lib\\site-packages (from panel>=0.8.0->holoviews) (0.4.6)\n",
      "Requirement already satisfied: requests in c:\\users\\kftsu\\anaconda3\\lib\\site-packages (from panel>=0.8.0->holoviews) (2.25.0)\n",
      "Requirement already satisfied: markdown in c:\\users\\kftsu\\anaconda3\\lib\\site-packages (from panel>=0.8.0->holoviews) (3.3.4)\n",
      "Requirement already satisfied: tornado>=5.1 in c:\\users\\kftsu\\anaconda3\\lib\\site-packages (from bokeh<2.5.0,>=2.4.0->panel>=0.8.0->holoviews) (6.1)\n",
      "Requirement already satisfied: PyYAML>=3.10 in c:\\users\\kftsu\\anaconda3\\lib\\site-packages (from bokeh<2.5.0,>=2.4.0->panel>=0.8.0->holoviews) (5.4.1)\n",
      "Requirement already satisfied: typing-extensions>=3.10.0 in c:\\users\\kftsu\\anaconda3\\lib\\site-packages (from bokeh<2.5.0,>=2.4.0->panel>=0.8.0->holoviews) (4.1.1)\n",
      "Requirement already satisfied: Jinja2>=2.9 in c:\\users\\kftsu\\anaconda3\\lib\\site-packages (from bokeh<2.5.0,>=2.4.0->panel>=0.8.0->holoviews) (2.11.3)\n",
      "Requirement already satisfied: pillow>=7.1.0 in c:\\users\\kftsu\\anaconda3\\lib\\site-packages (from bokeh<2.5.0,>=2.4.0->panel>=0.8.0->holoviews) (9.0.1)\n",
      "Requirement already satisfied: MarkupSafe>=0.23 in c:\\users\\kftsu\\anaconda3\\lib\\site-packages (from Jinja2>=2.9->bokeh<2.5.0,>=2.4.0->panel>=0.8.0->holoviews) (2.0.1)\n",
      "Requirement already satisfied: pyparsing!=3.0.5,>=2.0.2 in c:\\users\\kftsu\\anaconda3\\lib\\site-packages (from packaging->holoviews) (3.0.4)\n",
      "Requirement already satisfied: six>=1.5 in c:\\users\\kftsu\\anaconda3\\lib\\site-packages (from python-dateutil>=2.8.1->pandas>=0.20.0->holoviews) (1.16.0)\n",
      "Requirement already satisfied: colorama in c:\\users\\kftsu\\anaconda3\\lib\\site-packages (from tqdm>=4.48.0->panel>=0.8.0->holoviews) (0.4.4)\n",
      "Requirement already satisfied: webencodings in c:\\users\\kftsu\\anaconda3\\lib\\site-packages (from bleach->panel>=0.8.0->holoviews) (0.5.1)\n",
      "Requirement already satisfied: urllib3<1.27,>=1.21.1 in c:\\users\\kftsu\\anaconda3\\lib\\site-packages (from requests->panel>=0.8.0->holoviews) (1.26.9)\n",
      "Requirement already satisfied: certifi>=2017.4.17 in c:\\users\\kftsu\\anaconda3\\lib\\site-packages (from requests->panel>=0.8.0->holoviews) (2021.10.8)\n",
      "Requirement already satisfied: chardet<4,>=3.0.2 in c:\\users\\kftsu\\anaconda3\\lib\\site-packages (from requests->panel>=0.8.0->holoviews) (3.0.4)\n",
      "Requirement already satisfied: idna<3,>=2.5 in c:\\users\\kftsu\\anaconda3\\lib\\site-packages (from requests->panel>=0.8.0->holoviews) (2.10)\n"
     ]
    }
   ],
   "source": [
    "pip install holoviews"
   ]
  },
  {
   "cell_type": "code",
   "execution_count": 19,
   "metadata": {},
   "outputs": [
    {
     "data": {},
     "metadata": {},
     "output_type": "display_data"
    },
    {
     "data": {
      "text/html": [
       "\n",
       "<pre>Traceback (most recent call last):\n",
       "  File &quot;C:\\Users\\kftsu\\anaconda3\\lib\\site-packages\\pandas\\core\\window\\rolling.py&quot;, line 348, in _prep_values\n",
       "    values = ensure_float64(values)\n",
       "  File &quot;pandas\\_libs\\algos_common_helper.pxi&quot;, line 41, in pandas._libs.algos.ensure_float64\n",
       "ValueError: could not convert string to float: &#x27;Belgium&#x27;\n",
       "\n",
       "The above exception was the direct cause of the following exception:\n",
       "\n",
       "Traceback (most recent call last):\n",
       "  File &quot;C:\\Users\\kftsu\\anaconda3\\lib\\site-packages\\pandas\\core\\window\\rolling.py&quot;, line 427, in _apply_series\n",
       "    values = self._prep_values(obj._values)\n",
       "  File &quot;C:\\Users\\kftsu\\anaconda3\\lib\\site-packages\\pandas\\core\\window\\rolling.py&quot;, line 350, in _prep_values\n",
       "    raise TypeError(f&quot;cannot handle this type -&gt; {values.dtype}&quot;) from err\n",
       "TypeError: cannot handle this type -&gt; object\n",
       "\n",
       "The above exception was the direct cause of the following exception:\n",
       "\n",
       "Traceback (most recent call last):\n",
       "  File &quot;C:\\Users\\kftsu\\anaconda3\\lib\\site-packages\\pyviz_comms\\__init__.py&quot;, line 325, in _handle_msg\n",
       "    self._on_msg(msg)\n",
       "  File &quot;C:\\Users\\kftsu\\anaconda3\\lib\\site-packages\\panel\\viewable.py&quot;, line 274, in _on_msg\n",
       "    doc.unhold()\n",
       "  File &quot;C:\\Users\\kftsu\\anaconda3\\lib\\site-packages\\bokeh\\document\\document.py&quot;, line 799, in unhold\n",
       "    self.callbacks.unhold()\n",
       "  File &quot;C:\\Users\\kftsu\\anaconda3\\lib\\site-packages\\bokeh\\document\\callbacks.py&quot;, line 396, in unhold\n",
       "    self.trigger_on_change(event)\n",
       "  File &quot;C:\\Users\\kftsu\\anaconda3\\lib\\site-packages\\bokeh\\document\\callbacks.py&quot;, line 373, in trigger_on_change\n",
       "    invoke_with_curdoc(doc, event.callback_invoker)\n",
       "  File &quot;C:\\Users\\kftsu\\anaconda3\\lib\\site-packages\\bokeh\\document\\callbacks.py&quot;, line 408, in invoke_with_curdoc\n",
       "    return f()\n",
       "  File &quot;C:\\Users\\kftsu\\anaconda3\\lib\\site-packages\\bokeh\\util\\callback_manager.py&quot;, line 191, in invoke\n",
       "    callback(attr, old, new)\n",
       "  File &quot;C:\\Users\\kftsu\\anaconda3\\lib\\site-packages\\panel\\reactive.py&quot;, line 350, in _comm_change\n",
       "    self._schedule_change(doc, comm)\n",
       "  File &quot;C:\\Users\\kftsu\\anaconda3\\lib\\site-packages\\panel\\reactive.py&quot;, line 337, in _schedule_change\n",
       "    self._change_event(doc)\n",
       "  File &quot;C:\\Users\\kftsu\\anaconda3\\lib\\site-packages\\panel\\reactive.py&quot;, line 331, in _change_event\n",
       "    self._process_events(events)\n",
       "  File &quot;C:\\Users\\kftsu\\anaconda3\\lib\\site-packages\\panel\\reactive.py&quot;, line 276, in _process_events\n",
       "    self.param.update(**self_events)\n",
       "  File &quot;C:\\Users\\kftsu\\anaconda3\\lib\\site-packages\\param\\parameterized.py&quot;, line 1877, in update\n",
       "    self_._batch_call_watchers()\n",
       "  File &quot;C:\\Users\\kftsu\\anaconda3\\lib\\site-packages\\param\\parameterized.py&quot;, line 2038, in _batch_call_watchers\n",
       "    self_._execute_watcher(watcher, events)\n",
       "  File &quot;C:\\Users\\kftsu\\anaconda3\\lib\\site-packages\\param\\parameterized.py&quot;, line 2000, in _execute_watcher\n",
       "    watcher.fn(*args, **kwargs)\n",
       "  File &quot;C:\\Users\\kftsu\\anaconda3\\lib\\site-packages\\panel\\interact.py&quot;, line 188, in update_pane\n",
       "    new_object = self.object(**self.kwargs)\n",
       "  File &quot;C:\\Users\\kftsu\\AppData\\Local\\Temp\\ipykernel_9860\\2752602925.py&quot;, line 15, in find_outliers\n",
       "    avg = data[variable].rolling(window=window).mean()\n",
       "  File &quot;C:\\Users\\kftsu\\anaconda3\\lib\\site-packages\\pandas\\core\\window\\rolling.py&quot;, line 2039, in mean\n",
       "    return super().mean(*args, engine=engine, engine_kwargs=engine_kwargs, **kwargs)\n",
       "  File &quot;C:\\Users\\kftsu\\anaconda3\\lib\\site-packages\\pandas\\core\\window\\rolling.py&quot;, line 1444, in mean\n",
       "    return self._apply(window_func, name=&quot;mean&quot;, **kwargs)\n",
       "  File &quot;C:\\Users\\kftsu\\anaconda3\\lib\\site-packages\\pandas\\core\\window\\rolling.py&quot;, line 590, in _apply\n",
       "    return self._apply_blockwise(homogeneous_func, name)\n",
       "  File &quot;C:\\Users\\kftsu\\anaconda3\\lib\\site-packages\\pandas\\core\\window\\rolling.py&quot;, line 442, in _apply_blockwise\n",
       "    return self._apply_series(homogeneous_func, name)\n",
       "  File &quot;C:\\Users\\kftsu\\anaconda3\\lib\\site-packages\\pandas\\core\\window\\rolling.py&quot;, line 429, in _apply_series\n",
       "    raise DataError(&quot;No numeric types to aggregate&quot;) from err\n",
       "pandas.core.base.DataError: No numeric types to aggregate\n",
       "</pre>\n",
       "\n",
       "\n",
       "<pre>Traceback (most recent call last):\n",
       "  File &quot;C:\\Users\\kftsu\\anaconda3\\lib\\site-packages\\pandas\\core\\window\\rolling.py&quot;, line 348, in _prep_values\n",
       "    values = ensure_float64(values)\n",
       "  File &quot;pandas\\_libs\\algos_common_helper.pxi&quot;, line 41, in pandas._libs.algos.ensure_float64\n",
       "ValueError: could not convert string to float: &#x27;Belgium&#x27;\n",
       "\n",
       "The above exception was the direct cause of the following exception:\n",
       "\n",
       "Traceback (most recent call last):\n",
       "  File &quot;C:\\Users\\kftsu\\anaconda3\\lib\\site-packages\\pandas\\core\\window\\rolling.py&quot;, line 427, in _apply_series\n",
       "    values = self._prep_values(obj._values)\n",
       "  File &quot;C:\\Users\\kftsu\\anaconda3\\lib\\site-packages\\pandas\\core\\window\\rolling.py&quot;, line 350, in _prep_values\n",
       "    raise TypeError(f&quot;cannot handle this type -&gt; {values.dtype}&quot;) from err\n",
       "TypeError: cannot handle this type -&gt; object\n",
       "\n",
       "The above exception was the direct cause of the following exception:\n",
       "\n",
       "Traceback (most recent call last):\n",
       "  File &quot;C:\\Users\\kftsu\\anaconda3\\lib\\site-packages\\pyviz_comms\\__init__.py&quot;, line 325, in _handle_msg\n",
       "    self._on_msg(msg)\n",
       "  File &quot;C:\\Users\\kftsu\\anaconda3\\lib\\site-packages\\panel\\viewable.py&quot;, line 274, in _on_msg\n",
       "    doc.unhold()\n",
       "  File &quot;C:\\Users\\kftsu\\anaconda3\\lib\\site-packages\\bokeh\\document\\document.py&quot;, line 799, in unhold\n",
       "    self.callbacks.unhold()\n",
       "  File &quot;C:\\Users\\kftsu\\anaconda3\\lib\\site-packages\\bokeh\\document\\callbacks.py&quot;, line 396, in unhold\n",
       "    self.trigger_on_change(event)\n",
       "  File &quot;C:\\Users\\kftsu\\anaconda3\\lib\\site-packages\\bokeh\\document\\callbacks.py&quot;, line 373, in trigger_on_change\n",
       "    invoke_with_curdoc(doc, event.callback_invoker)\n",
       "  File &quot;C:\\Users\\kftsu\\anaconda3\\lib\\site-packages\\bokeh\\document\\callbacks.py&quot;, line 408, in invoke_with_curdoc\n",
       "    return f()\n",
       "  File &quot;C:\\Users\\kftsu\\anaconda3\\lib\\site-packages\\bokeh\\util\\callback_manager.py&quot;, line 191, in invoke\n",
       "    callback(attr, old, new)\n",
       "  File &quot;C:\\Users\\kftsu\\anaconda3\\lib\\site-packages\\panel\\reactive.py&quot;, line 350, in _comm_change\n",
       "    self._schedule_change(doc, comm)\n",
       "  File &quot;C:\\Users\\kftsu\\anaconda3\\lib\\site-packages\\panel\\reactive.py&quot;, line 337, in _schedule_change\n",
       "    self._change_event(doc)\n",
       "  File &quot;C:\\Users\\kftsu\\anaconda3\\lib\\site-packages\\panel\\reactive.py&quot;, line 331, in _change_event\n",
       "    self._process_events(events)\n",
       "  File &quot;C:\\Users\\kftsu\\anaconda3\\lib\\site-packages\\panel\\reactive.py&quot;, line 276, in _process_events\n",
       "    self.param.update(**self_events)\n",
       "  File &quot;C:\\Users\\kftsu\\anaconda3\\lib\\site-packages\\param\\parameterized.py&quot;, line 1877, in update\n",
       "    self_._batch_call_watchers()\n",
       "  File &quot;C:\\Users\\kftsu\\anaconda3\\lib\\site-packages\\param\\parameterized.py&quot;, line 2038, in _batch_call_watchers\n",
       "    self_._execute_watcher(watcher, events)\n",
       "  File &quot;C:\\Users\\kftsu\\anaconda3\\lib\\site-packages\\param\\parameterized.py&quot;, line 2000, in _execute_watcher\n",
       "    watcher.fn(*args, **kwargs)\n",
       "  File &quot;C:\\Users\\kftsu\\anaconda3\\lib\\site-packages\\panel\\interact.py&quot;, line 188, in update_pane\n",
       "    new_object = self.object(**self.kwargs)\n",
       "  File &quot;C:\\Users\\kftsu\\AppData\\Local\\Temp\\ipykernel_9860\\2752602925.py&quot;, line 15, in find_outliers\n",
       "    avg = data[variable].rolling(window=window).mean()\n",
       "  File &quot;C:\\Users\\kftsu\\anaconda3\\lib\\site-packages\\pandas\\core\\window\\rolling.py&quot;, line 2039, in mean\n",
       "    return super().mean(*args, engine=engine, engine_kwargs=engine_kwargs, **kwargs)\n",
       "  File &quot;C:\\Users\\kftsu\\anaconda3\\lib\\site-packages\\pandas\\core\\window\\rolling.py&quot;, line 1444, in mean\n",
       "    return self._apply(window_func, name=&quot;mean&quot;, **kwargs)\n",
       "  File &quot;C:\\Users\\kftsu\\anaconda3\\lib\\site-packages\\pandas\\core\\window\\rolling.py&quot;, line 590, in _apply\n",
       "    return self._apply_blockwise(homogeneous_func, name)\n",
       "  File &quot;C:\\Users\\kftsu\\anaconda3\\lib\\site-packages\\pandas\\core\\window\\rolling.py&quot;, line 442, in _apply_blockwise\n",
       "    return self._apply_series(homogeneous_func, name)\n",
       "  File &quot;C:\\Users\\kftsu\\anaconda3\\lib\\site-packages\\pandas\\core\\window\\rolling.py&quot;, line 429, in _apply_series\n",
       "    raise DataError(&quot;No numeric types to aggregate&quot;) from err\n",
       "pandas.core.base.DataError: No numeric types to aggregate\n",
       "</pre>\n"
      ]
     },
     "metadata": {},
     "output_type": "display_data"
    },
    {
     "data": {
      "application/vnd.holoviews_exec.v0+json": "",
      "text/html": [
       "<div id='2719'>\n",
       "\n",
       "\n",
       "\n",
       "\n",
       "\n",
       "  <div class=\"bk-root\" id=\"9e38cc7b-96d5-40c7-a57d-12127c9d648d\" data-root-id=\"2719\"></div>\n",
       "</div>\n",
       "<script type=\"application/javascript\">(function(root) {\n",
       "  function embed_document(root) {\n",
       "    var docs_json = {\"2815faf3-7047-449d-99a0-a4566d0433e0\":{\"defs\":[{\"extends\":null,\"module\":null,\"name\":\"ReactiveHTML1\",\"overrides\":[],\"properties\":[]},{\"extends\":null,\"module\":null,\"name\":\"FlexBox1\",\"overrides\":[],\"properties\":[{\"default\":\"flex-start\",\"kind\":null,\"name\":\"align_content\"},{\"default\":\"flex-start\",\"kind\":null,\"name\":\"align_items\"},{\"default\":\"row\",\"kind\":null,\"name\":\"flex_direction\"},{\"default\":\"wrap\",\"kind\":null,\"name\":\"flex_wrap\"},{\"default\":\"flex-start\",\"kind\":null,\"name\":\"justify_content\"}]},{\"extends\":null,\"module\":null,\"name\":\"GridStack1\",\"overrides\":[],\"properties\":[{\"default\":\"warn\",\"kind\":null,\"name\":\"mode\"},{\"default\":null,\"kind\":null,\"name\":\"ncols\"},{\"default\":null,\"kind\":null,\"name\":\"nrows\"},{\"default\":true,\"kind\":null,\"name\":\"allow_resize\"},{\"default\":true,\"kind\":null,\"name\":\"allow_drag\"},{\"default\":[],\"kind\":null,\"name\":\"state\"}]},{\"extends\":null,\"module\":null,\"name\":\"click1\",\"overrides\":[],\"properties\":[{\"default\":\"\",\"kind\":null,\"name\":\"terminal_output\"},{\"default\":\"\",\"kind\":null,\"name\":\"debug_name\"},{\"default\":0,\"kind\":null,\"name\":\"clears\"}]},{\"extends\":null,\"module\":null,\"name\":\"TemplateActions1\",\"overrides\":[],\"properties\":[{\"default\":0,\"kind\":null,\"name\":\"open_modal\"},{\"default\":0,\"kind\":null,\"name\":\"close_modal\"}]},{\"extends\":null,\"module\":null,\"name\":\"MaterialTemplateActions1\",\"overrides\":[],\"properties\":[{\"default\":0,\"kind\":null,\"name\":\"open_modal\"},{\"default\":0,\"kind\":null,\"name\":\"close_modal\"}]}],\"roots\":{\"references\":[{\"attributes\":{\"fill_color\":{\"value\":\"orange\"},\"hatch_color\":{\"value\":\"orange\"},\"line_color\":{\"value\":\"orange\"},\"size\":{\"value\":5.477225575051661},\"x\":{\"field\":\"index\"},\"y\":{\"field\":\"Milk Produced\"}},\"id\":\"2793\",\"type\":\"Scatter\"},{\"attributes\":{},\"id\":\"2737\",\"type\":\"LinearScale\"},{\"attributes\":{\"coordinates\":null,\"group\":null,\"text\":\"Milk Produced\",\"text_color\":\"black\",\"text_font_size\":\"12pt\"},\"id\":\"2733\",\"type\":\"Title\"},{\"attributes\":{},\"id\":\"2769\",\"type\":\"Selection\"},{\"attributes\":{},\"id\":\"2739\",\"type\":\"LinearScale\"},{\"attributes\":{\"fill_alpha\":{\"value\":0.1},\"fill_color\":{\"value\":\"orange\"},\"hatch_alpha\":{\"value\":0.1},\"hatch_color\":{\"value\":\"orange\"},\"line_alpha\":{\"value\":0.1},\"line_color\":{\"value\":\"orange\"},\"size\":{\"value\":5.477225575051661},\"x\":{\"field\":\"index\"},\"y\":{\"field\":\"Milk Produced\"}},\"id\":\"2794\",\"type\":\"Scatter\"},{\"attributes\":{\"click_policy\":\"mute\",\"coordinates\":null,\"group\":null,\"items\":[{\"id\":\"2787\"}]},\"id\":\"2786\",\"type\":\"Legend\"},{\"attributes\":{\"children\":[{\"id\":\"2732\"}],\"margin\":[0,0,0,0],\"name\":\"Row04704\"},\"id\":\"2727\",\"type\":\"Row\"},{\"attributes\":{\"data\":{\"Milk Produced\":{\"__ndarray__\":\"\",\"dtype\":\"float64\",\"order\":\"little\",\"shape\":[0]},\"Milk_Produced\":{\"__ndarray__\":\"\",\"dtype\":\"float64\",\"order\":\"little\",\"shape\":[0]},\"index\":[]},\"selected\":{\"id\":\"2791\"},\"selection_policy\":{\"id\":\"2807\"}},\"id\":\"2790\",\"type\":\"ColumnDataSource\"},{\"attributes\":{\"callback\":null,\"renderers\":[{\"id\":\"2774\"},{\"id\":\"2796\"}],\"tags\":[\"hv_created\"],\"tooltips\":[[\"index\",\"@{index}\"],[\"Milk Produced\",\"@{Milk_Produced}\"]]},\"id\":\"2730\",\"type\":\"HoverTool\"},{\"attributes\":{\"angle\":{\"value\":0.0},\"fill_alpha\":{\"value\":1.0},\"fill_color\":{\"value\":\"orange\"},\"hatch_alpha\":{\"value\":1.0},\"hatch_color\":{\"value\":\"orange\"},\"hatch_scale\":{\"value\":12.0},\"hatch_weight\":{\"value\":1.0},\"line_alpha\":{\"value\":1.0},\"line_cap\":{\"value\":\"butt\"},\"line_color\":{\"value\":\"orange\"},\"line_dash\":{\"value\":[]},\"line_dash_offset\":{\"value\":0},\"line_join\":{\"value\":\"bevel\"},\"line_width\":{\"value\":1},\"marker\":{\"value\":\"circle\"},\"size\":{\"value\":5.477225575051661},\"x\":{\"field\":\"index\"},\"y\":{\"field\":\"Milk Produced\"}},\"id\":\"2810\",\"type\":\"Scatter\"},{\"attributes\":{\"end\":313.76,\"reset_end\":313.76,\"reset_start\":-17.759999999999998,\"start\":-17.759999999999998,\"tags\":[[[\"index\",\"index\",null]]]},\"id\":\"2728\",\"type\":\"Range1d\"},{\"attributes\":{\"coordinates\":null,\"data_source\":{\"id\":\"2790\"},\"glyph\":{\"id\":\"2793\"},\"group\":null,\"hover_glyph\":null,\"muted_glyph\":{\"id\":\"2795\"},\"nonselection_glyph\":{\"id\":\"2794\"},\"selection_glyph\":{\"id\":\"2810\"},\"view\":{\"id\":\"2797\"}},\"id\":\"2796\",\"type\":\"GlyphRenderer\"},{\"attributes\":{\"source\":{\"id\":\"2790\"}},\"id\":\"2797\",\"type\":\"CDSView\"},{\"attributes\":{\"children\":[{\"id\":\"2920\"}],\"margin\":[0,0,0,0],\"name\":\"Row04713\"},\"id\":\"2919\",\"type\":\"Row\"},{\"attributes\":{\"children\":[{\"id\":\"2720\"},{\"id\":\"2726\"}],\"margin\":[0,0,0,0],\"name\":\"Row04717\"},\"id\":\"2719\",\"type\":\"Row\"},{\"attributes\":{\"fill_alpha\":{\"value\":0.2},\"fill_color\":{\"value\":\"orange\"},\"hatch_alpha\":{\"value\":0.2},\"hatch_color\":{\"value\":\"orange\"},\"line_alpha\":{\"value\":0.2},\"line_color\":{\"value\":\"orange\"},\"size\":{\"value\":5.477225575051661},\"x\":{\"field\":\"index\"},\"y\":{\"field\":\"Milk Produced\"}},\"id\":\"2795\",\"type\":\"Scatter\"},{\"attributes\":{\"children\":[{\"id\":\"2727\"},{\"id\":\"2919\"}],\"margin\":[0,0,0,0],\"name\":\"Row04716\"},\"id\":\"2726\",\"type\":\"Row\"},{\"attributes\":{\"css_classes\":[\"markdown\"],\"margin\":[5,5,5,5],\"name\":\"Markdown04706\",\"text\":\"&lt;h2&gt;Room Occupancy&lt;/h2&gt;\\n&lt;p&gt;Hover over the plot for more information.&lt;/p&gt;\"},\"id\":\"2721\",\"type\":\"panel.models.markup.HTML\"},{\"attributes\":{\"args\":{\"plot\":{\"id\":\"2732\"},\"x_range\":{\"id\":\"2728\"}},\"code\":\"var data = {};\\ndata[\\\"x\\\"] = cb_obj[\\\"x\\\"];\\n\\n    if (x_range.type.endsWith('Range1d')) {\\n      var xstart = x_range.start;\\n      var xend = x_range.end;\\n      if (xstart > xend) {\\n        [xstart, xend] = [xend, xstart]\\n      }\\n      if (cb_obj.x < xstart) {\\n        data['x'] = xstart;\\n      } else if (cb_obj.x > xend) {\\n        data['x'] = xend;\\n      }\\n    }\\n    \\nfunction unique_events(events) {\\n  // Processes the event queue ignoring duplicate events\\n  // of the same type\\n  var unique = [];\\n  var unique_events = [];\\n  for (var i=0; i<events.length; i++) {\\n    var _tmpevent = events[i];\\n    event = _tmpevent[0];\\n    data = _tmpevent[1];\\n    if (unique_events.indexOf(event)===-1) {\\n      unique.unshift(data);\\n      unique_events.push(event);\\n      }\\n  }\\n  return unique;\\n}\\n\\nfunction process_events(comm_status) {\\n  // Iterates over event queue and sends events via Comm\\n  var events = unique_events(comm_status.event_buffer);\\n  for (var i=0; i<events.length; i++) {\\n    var data = events[i];\\n    var comm = window.PyViz.comms[data[\\\"comm_id\\\"]];\\n    comm.send(data);\\n  }\\n  comm_status.event_buffer = [];\\n}\\n\\nfunction on_msg(msg) {\\n  // Receives acknowledgement from Python, processing event\\n  // and unblocking Comm if event queue empty\\n  var metadata = msg.metadata;\\n  var comm_id = metadata.comm_id\\n  var comm_status = window.PyViz.comm_status[comm_id];\\n  if (comm_status.event_buffer.length) {\\n    process_events(comm_status);\\n    comm_status.blocked = true;\\n    comm_status.time = Date.now()+20;\\n  } else {\\n    comm_status.blocked = false;\\n  }\\n  comm_status.event_buffer = [];\\n  if ((metadata.msg_type == \\\"Ready\\\") && metadata.content) {\\n    console.log(\\\"Python callback returned following output:\\\", metadata.content);\\n  } else if (metadata.msg_type == \\\"Error\\\") {\\n    console.log(\\\"Python failed with the following traceback:\\\", metadata.traceback)\\n  }\\n}\\n\\n// Initialize Comm\\nif ((window.PyViz == undefined) || (window.PyViz.comm_manager == undefined)) { return }\\nvar comm = window.PyViz.comm_manager.get_client_comm(\\\"2719\\\", \\\"bcf33fd28658439992aa446ee926f0fd\\\", on_msg);\\nif (!comm) {\\n  return\\n}\\n\\n// Initialize event queue and timeouts for Comm\\nvar comm_status = window.PyViz.comm_status[\\\"bcf33fd28658439992aa446ee926f0fd\\\"];\\nif (comm_status === undefined) {\\n  comm_status = {event_buffer: [], blocked: false, time: Date.now()}\\n  window.PyViz.comm_status[\\\"bcf33fd28658439992aa446ee926f0fd\\\"] = comm_status\\n}\\n\\n// Add current event to queue and process queue if not blocked\\nvar event_name = cb_obj.event_name;\\nif (event_name === undefined) {\\n  // we are a widget not an event... fake a key.\\n  event_name = Object.keys(data).join(',');\\n}\\ndata['comm_id'] = \\\"bcf33fd28658439992aa446ee926f0fd\\\";\\nvar timeout = comm_status.time + 20000;\\nif ((comm_status.blocked && (Date.now() < timeout))) {\\n  comm_status.event_buffer.unshift([event_name, data]);\\n} else {\\n  comm_status.event_buffer.unshift([event_name, data]);\\n  setTimeout(function() { process_events(comm_status); }, 20);\\n  comm_status.blocked = true;\\n  comm_status.time = Date.now()+20;\\n}\\n\"},\"id\":\"2789\",\"type\":\"CustomJS\"},{\"attributes\":{\"children\":[{\"id\":\"2721\"},{\"id\":\"2722\"}],\"margin\":[0,0,0,0],\"name\":\"Column04708\"},\"id\":\"2720\",\"type\":\"Column\"},{\"attributes\":{\"overlay\":{\"id\":\"2754\"}},\"id\":\"2752\",\"type\":\"BoxZoomTool\"},{\"attributes\":{},\"id\":\"2753\",\"type\":\"ResetTool\"},{\"attributes\":{},\"id\":\"2749\",\"type\":\"SaveTool\"},{\"attributes\":{\"axis\":{\"id\":\"2745\"},\"coordinates\":null,\"dimension\":1,\"grid_line_color\":null,\"group\":null,\"ticker\":null},\"id\":\"2748\",\"type\":\"Grid\"},{\"attributes\":{\"client_comm_id\":\"98fd435dacd54891a8a8c01f27a9a558\",\"comm_id\":\"0dc42c202fd24d80afdbb962f67d9375\",\"plot_id\":\"2719\"},\"id\":\"2957\",\"type\":\"panel.models.comm_manager.CommManager\"},{\"attributes\":{},\"id\":\"2746\",\"type\":\"BasicTicker\"},{\"attributes\":{},\"id\":\"2807\",\"type\":\"UnionRenderers\"},{\"attributes\":{},\"id\":\"2766\",\"type\":\"BasicTickFormatter\"},{\"attributes\":{},\"id\":\"2767\",\"type\":\"AllLabels\"},{\"attributes\":{\"end\":6749.3803333333335,\"reset_end\":6749.3803333333335,\"reset_start\":4489.640333333334,\"start\":4489.640333333334,\"tags\":[[[\"Milk Produced\",\"Milk Produced\",null]]]},\"id\":\"2729\",\"type\":\"Range1d\"},{\"attributes\":{\"line_alpha\":0.2,\"line_color\":\"#30a2da\",\"line_width\":2,\"x\":{\"field\":\"index\"},\"y\":{\"field\":\"Milk Produced\"}},\"id\":\"2773\",\"type\":\"Line\"},{\"attributes\":{\"axis\":{\"id\":\"2741\"},\"coordinates\":null,\"grid_line_color\":null,\"group\":null,\"ticker\":null},\"id\":\"2744\",\"type\":\"Grid\"},{\"attributes\":{\"axis_label\":\"\",\"coordinates\":null,\"formatter\":{\"id\":\"2763\"},\"group\":null,\"major_label_policy\":{\"id\":\"2764\"},\"ticker\":{\"id\":\"2742\"}},\"id\":\"2741\",\"type\":\"LinearAxis\"},{\"attributes\":{\"bottom_units\":\"screen\",\"coordinates\":null,\"fill_alpha\":0.5,\"fill_color\":\"lightgrey\",\"group\":null,\"left_units\":\"screen\",\"level\":\"overlay\",\"line_alpha\":1.0,\"line_color\":\"black\",\"line_dash\":[4,4],\"line_width\":2,\"right_units\":\"screen\",\"syncable\":false,\"top_units\":\"screen\"},\"id\":\"2754\",\"type\":\"BoxAnnotation\"},{\"attributes\":{\"below\":[{\"id\":\"2741\"}],\"center\":[{\"id\":\"2744\"},{\"id\":\"2748\"},{\"id\":\"2786\"}],\"height\":300,\"js_event_callbacks\":{\"mousemove\":[{\"id\":\"2789\"}]},\"left\":[{\"id\":\"2745\"}],\"margin\":[5,5,5,5],\"min_border_bottom\":10,\"min_border_left\":10,\"min_border_right\":10,\"min_border_top\":10,\"renderers\":[{\"id\":\"2774\"},{\"id\":\"2796\"}],\"sizing_mode\":\"fixed\",\"title\":{\"id\":\"2733\"},\"toolbar\":{\"id\":\"2755\"},\"width\":500,\"x_range\":{\"id\":\"2728\"},\"x_scale\":{\"id\":\"2737\"},\"y_range\":{\"id\":\"2729\"},\"y_scale\":{\"id\":\"2739\"}},\"id\":\"2732\",\"subtype\":\"Figure\",\"type\":\"Plot\"},{\"attributes\":{\"tools\":[{\"id\":\"2730\"},{\"id\":\"2749\"},{\"id\":\"2750\"},{\"id\":\"2751\"},{\"id\":\"2752\"},{\"id\":\"2753\"}]},\"id\":\"2755\",\"type\":\"Toolbar\"},{\"attributes\":{},\"id\":\"2751\",\"type\":\"WheelZoomTool\"},{\"attributes\":{\"data\":{\"Milk Produced\":{\"__ndarray__\":\"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\",\"dtype\":\"float64\",\"order\":\"little\",\"shape\":[297]},\"Milk_Produced\":{\"__ndarray__\":\"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\",\"dtype\":\"float64\",\"order\":\"little\",\"shape\":[297]},\"index\":[0,1,2,3,4,5,6,7,8,9,10,11,12,13,14,15,16,17,18,19,20,21,22,23,24,25,26,27,28,29,30,31,32,33,34,35,36,37,38,39,40,41,42,43,44,45,46,47,48,49,50,51,52,53,54,55,56,57,58,59,60,61,62,63,64,65,66,67,68,69,70,71,72,73,74,75,76,77,78,79,80,81,82,83,84,85,86,87,88,89,90,91,92,93,94,95,96,97,98,99,100,101,102,103,104,105,106,107,108,109,110,111,112,113,114,115,116,117,118,119,120,121,122,123,124,125,126,127,128,129,130,131,132,133,134,135,136,137,138,139,140,141,142,143,144,145,146,147,148,149,150,151,152,153,154,155,156,157,158,159,160,161,162,163,164,165,166,167,168,169,170,171,172,173,174,175,176,177,178,179,180,181,182,183,184,185,186,187,188,189,190,191,192,193,194,195,196,197,198,199,200,201,202,203,204,205,206,207,208,209,210,211,212,213,214,215,216,217,218,219,220,221,222,223,224,225,226,227,228,229,230,231,232,233,234,235,236,237,238,239,240,241,242,243,244,245,246,247,248,249,250,251,252,253,254,255,256,257,258,259,260,261,262,263,264,265,266,267,268,269,270,271,272,273,274,275,276,277,278,279,280,281,282,283,284,285,286,287,288,289,290,291,292,293,294,295,296]},\"selected\":{\"id\":\"2769\"},\"selection_policy\":{\"id\":\"2783\"}},\"id\":\"2768\",\"type\":\"ColumnDataSource\"},{\"attributes\":{},\"id\":\"2742\",\"type\":\"BasicTicker\"},{\"attributes\":{},\"id\":\"2783\",\"type\":\"UnionRenderers\"},{\"attributes\":{\"margin\":[5,5,5,5],\"name\":\"ParamFunction04709\",\"text\":\"&lt;table border=&quot;0&quot; class=&quot;dataframe panel-df&quot;&gt;\\n  &lt;thead&gt;\\n    &lt;tr style=&quot;text-align: right;&quot;&gt;\\n      &lt;th&gt;&lt;/th&gt;\\n      &lt;th&gt;0&lt;/th&gt;\\n    &lt;/tr&gt;\\n  &lt;/thead&gt;\\n  &lt;tbody&gt;\\n    &lt;tr&gt;\\n      &lt;th&gt;Country&lt;/th&gt;\\n      &lt;td&gt;Belgium&lt;/td&gt;\\n    &lt;/tr&gt;\\n    &lt;tr&gt;\\n      &lt;th&gt;Year&lt;/th&gt;\\n      &lt;td&gt;2011&lt;/td&gt;\\n    &lt;/tr&gt;\\n    &lt;tr&gt;\\n      &lt;th&gt;Milk Produced&lt;/th&gt;\\n      &lt;td&gt;3151.0&lt;/td&gt;\\n    &lt;/tr&gt;\\n    &lt;tr&gt;\\n      &lt;th&gt;Number of Dairy Cows&lt;/th&gt;\\n      &lt;td&gt;510.65&lt;/td&gt;\\n    &lt;/tr&gt;\\n  &lt;/tbody&gt;\\n&lt;/table&gt;\"},\"id\":\"2920\",\"type\":\"panel.models.markup.HTML\"},{\"attributes\":{\"line_color\":\"#30a2da\",\"line_width\":2,\"x\":{\"field\":\"index\"},\"y\":{\"field\":\"Milk Produced\"}},\"id\":\"2788\",\"type\":\"Line\"},{\"attributes\":{},\"id\":\"2750\",\"type\":\"PanTool\"},{\"attributes\":{\"source\":{\"id\":\"2768\"}},\"id\":\"2775\",\"type\":\"CDSView\"},{\"attributes\":{\"line_alpha\":0.1,\"line_color\":\"#30a2da\",\"line_width\":2,\"x\":{\"field\":\"index\"},\"y\":{\"field\":\"Milk Produced\"}},\"id\":\"2772\",\"type\":\"Line\"},{\"attributes\":{\"axis_label\":\"\",\"coordinates\":null,\"formatter\":{\"id\":\"2766\"},\"group\":null,\"major_label_policy\":{\"id\":\"2767\"},\"ticker\":{\"id\":\"2746\"}},\"id\":\"2745\",\"type\":\"LinearAxis\"},{\"attributes\":{\"children\":[{\"id\":\"2723\"},{\"id\":\"2724\"},{\"id\":\"2725\"}],\"margin\":[0,0,0,0],\"name\":\"Column04705\"},\"id\":\"2722\",\"type\":\"Column\"},{\"attributes\":{},\"id\":\"2791\",\"type\":\"Selection\"},{\"attributes\":{\"label\":{\"value\":\"Milk Produced\"},\"renderers\":[{\"id\":\"2774\"},{\"id\":\"2796\"}]},\"id\":\"2787\",\"type\":\"LegendItem\"},{\"attributes\":{},\"id\":\"2764\",\"type\":\"AllLabels\"},{\"attributes\":{\"margin\":[5,10,5,10],\"options\":[\"Country\",\"Milk Produced\",\"Number of Dairy Cows\",\"Year\"],\"title\":\"variable\",\"value\":\"Milk Produced\"},\"id\":\"2723\",\"type\":\"panel.models.widgets.CustomSelect\"},{\"attributes\":{},\"id\":\"2763\",\"type\":\"BasicTickFormatter\"},{\"attributes\":{\"end\":60,\"margin\":[5,10,5,10],\"start\":1,\"title\":\"window\",\"value\":30},\"id\":\"2724\",\"type\":\"Slider\"},{\"attributes\":{\"line_color\":\"#30a2da\",\"line_width\":2,\"x\":{\"field\":\"index\"},\"y\":{\"field\":\"Milk Produced\"}},\"id\":\"2771\",\"type\":\"Line\"},{\"attributes\":{\"end\":20,\"margin\":[5,10,5,10],\"start\":1,\"title\":\"sigma\",\"value\":10},\"id\":\"2725\",\"type\":\"Slider\"},{\"attributes\":{\"coordinates\":null,\"data_source\":{\"id\":\"2768\"},\"glyph\":{\"id\":\"2771\"},\"group\":null,\"hover_glyph\":null,\"muted_glyph\":{\"id\":\"2773\"},\"nonselection_glyph\":{\"id\":\"2772\"},\"selection_glyph\":{\"id\":\"2788\"},\"view\":{\"id\":\"2775\"}},\"id\":\"2774\",\"type\":\"GlyphRenderer\"}],\"root_ids\":[\"2719\",\"2957\"]},\"title\":\"Bokeh Application\",\"version\":\"2.4.2\"}};\n",
       "    var render_items = [{\"docid\":\"2815faf3-7047-449d-99a0-a4566d0433e0\",\"root_ids\":[\"2719\"],\"roots\":{\"2719\":\"9e38cc7b-96d5-40c7-a57d-12127c9d648d\"}}];\n",
       "    root.Bokeh.embed.embed_items_notebook(docs_json, render_items);\n",
       "  }\n",
       "  if (root.Bokeh !== undefined && root.Bokeh.Panel !== undefined) {\n",
       "    embed_document(root);\n",
       "  } else {\n",
       "    var attempts = 0;\n",
       "    var timer = setInterval(function(root) {\n",
       "      if (root.Bokeh !== undefined && root.Bokeh.Panel !== undefined) {\n",
       "        clearInterval(timer);\n",
       "        embed_document(root);\n",
       "      } else if (document.readyState == \"complete\") {\n",
       "        attempts++;\n",
       "        if (attempts > 200) {\n",
       "          clearInterval(timer);\n",
       "          console.log(\"Bokeh: ERROR: Unable to run BokehJS code because BokehJS library is missing\");\n",
       "        }\n",
       "      }\n",
       "    }, 25, root)\n",
       "  }\n",
       "})(window);</script>"
      ],
      "text/plain": [
       "Row\n",
       "    [0] Column\n",
       "        [0] Markdown(str)\n",
       "        [1] Column\n",
       "            [0] Select(name='variable', options=['Country', 'Milk Produced...], value='Milk Produced')\n",
       "            [1] IntSlider(end=60, name='window', start=1, value=30)\n",
       "            [2] IntSlider(end=20, name='sigma', start=1, value=10)\n",
       "    [1] Row\n",
       "        [0] Row\n",
       "            [0] HoloViews(Overlay, name='interactive04436')\n",
       "        [1] ParamFunction(function)"
      ]
     },
     "execution_count": 19,
     "metadata": {
      "application/vnd.holoviews_exec.v0+json": {
       "id": "2719"
      }
     },
     "output_type": "execute_result"
    }
   ],
   "source": [
    "import holoviews as hv\n",
    "\n",
    "tap = hv.streams.PointerX(x=data.index.min())\n",
    "\n",
    "def hvplot2(avg, highlight):\n",
    "    line = avg.hvplot(height=300, width=500)\n",
    "    outliers = highlight.hvplot.scatter(color='orange', padding=0.1)\n",
    "    tap.source = line\n",
    "    return (line * outliers).opts(legend_position='top_right')\n",
    "\n",
    "@pn.depends(tap.param.x)\n",
    "def table(x):\n",
    "    index = np.abs((data.index - x).astype(int)).argmin()\n",
    "    return data.iloc[index]\n",
    "\n",
    "app = pn.interact(find_outliers, view_fn=hvplot2, **kw)\n",
    "\n",
    "pn.Row(\n",
    "    pn.Column(\"## Room Occupancy\\nHover over the plot for more information.\", app[0]),\n",
    "    pn.Row(app[1], table)\n",
    ")"
   ]
  },
  {
   "cell_type": "code",
   "execution_count": null,
   "metadata": {},
   "outputs": [],
   "source": []
  },
  {
   "cell_type": "code",
   "execution_count": null,
   "metadata": {},
   "outputs": [],
   "source": []
  }
 ],
 "metadata": {
  "kernelspec": {
   "display_name": "Python 3 (ipykernel)",
   "language": "python",
   "name": "python3"
  },
  "language_info": {
   "codemirror_mode": {
    "name": "ipython",
    "version": 3
   },
   "file_extension": ".py",
   "mimetype": "text/x-python",
   "name": "python",
   "nbconvert_exporter": "python",
   "pygments_lexer": "ipython3",
   "version": "3.9.12"
  }
 },
 "nbformat": 4,
 "nbformat_minor": 4
}
