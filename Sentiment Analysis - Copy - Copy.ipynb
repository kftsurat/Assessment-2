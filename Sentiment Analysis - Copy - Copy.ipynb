{
 "cells": [
  {
   "cell_type": "markdown",
   "id": "15d4dcba",
   "metadata": {},
   "source": [
    "# Sentiment Analysis"
   ]
  },
  {
   "cell_type": "code",
   "execution_count": 1,
   "id": "98c3b090",
   "metadata": {},
   "outputs": [
    {
     "name": "stdout",
     "output_type": "stream",
     "text": [
      "Requirement already satisfied: python-dotenv in c:\\users\\kftsu\\anaconda3\\lib\\site-packages (0.21.0)\n"
     ]
    }
   ],
   "source": [
    "!pip install python-dotenv"
   ]
  },
  {
   "cell_type": "code",
   "execution_count": 2,
   "id": "839a3569",
   "metadata": {},
   "outputs": [],
   "source": [
    "from dotenv import dotenv_values\n",
    "\n",
    "config = dotenv_values('.env')"
   ]
  },
  {
   "cell_type": "code",
   "execution_count": 3,
   "id": "257b49d3",
   "metadata": {},
   "outputs": [
    {
     "name": "stdout",
     "output_type": "stream",
     "text": [
      "Requirement already satisfied: requests in c:\\users\\kftsu\\anaconda3\\lib\\site-packages (2.25.0)\n",
      "Requirement already satisfied: chardet<4,>=3.0.2 in c:\\users\\kftsu\\anaconda3\\lib\\site-packages (from requests) (3.0.4)\n",
      "Requirement already satisfied: urllib3<1.27,>=1.21.1 in c:\\users\\kftsu\\anaconda3\\lib\\site-packages (from requests) (1.26.9)\n",
      "Requirement already satisfied: idna<3,>=2.5 in c:\\users\\kftsu\\anaconda3\\lib\\site-packages (from requests) (2.10)\n",
      "Requirement already satisfied: certifi>=2017.4.17 in c:\\users\\kftsu\\anaconda3\\lib\\site-packages (from requests) (2021.10.8)\n"
     ]
    }
   ],
   "source": [
    "!pip install requests"
   ]
  },
  {
   "cell_type": "code",
   "execution_count": 4,
   "id": "2ddaa04b",
   "metadata": {},
   "outputs": [],
   "source": [
    "import requests\n",
    "import json"
   ]
  },
  {
   "cell_type": "code",
   "execution_count": 5,
   "id": "820c35d4",
   "metadata": {},
   "outputs": [
    {
     "name": "stdout",
     "output_type": "stream",
     "text": [
      "{\n",
      "   \"data\": [\n",
      "      {\n",
      "         \"text\": \"It is understood a cow was trapped in a slurry pit https://t.co/gU5HZgU3Vt\",\n",
      "         \"id\": \"1607719593497305089\",\n",
      "         \"author_id\": \"20687723\",\n",
      "         \"edit_history_tweet_ids\": [\n",
      "            \"1607719593497305089\"\n",
      "         ]\n",
      "      },\n",
      "      {\n",
      "         \"text\": \"You know you're down home when you're having pints and you end up buying a raffle ticket for the local hurling club where the game is they grid out the pitch and wait for a cow to shite in the winning square. Lovely hurling @Craobh_Rua\\n\\n#GAA #Ireland #Armagh #Greatdayfortheparish\",\n",
      "         \"id\": \"1607698163133038594\",\n",
      "         \"author_id\": \"431813199\",\n",
      "         \"edit_history_tweet_ids\": [\n",
      "            \"1607698163133038594\"\n",
      "         ]\n",
      "      },\n",
      "      {\n",
      "         \"text\": \"Always. In 5th or 6th grade I did a school report on English genocide of Ireland, presenting on unfair laws. E.g. Irish peasants had to sell any cow that became worth more than a certain amount to the Brits, but at a mandated low price so Irish farmers could never accrue wealth. https://t.co/R4i98dOLLM\",\n",
      "         \"id\": \"1606886570044309504\",\n",
      "         \"author_id\": \"17845980\",\n",
      "         \"edit_history_tweet_ids\": [\n",
      "            \"1606886570044309504\"\n",
      "         ]\n",
      "      },\n",
      "      {\n",
      "         \"text\": \"@7YRBitchLasagna @JenCages @MucusMucous @ADouble777 @TomDoubting @fastcow33 @RepublicanRehab @atriana @michellmybell1 @Bruh50347166 @BigBrotherNut @TreatHunterDog @shrekvivre @CivilLost @SnoJusticeCuz @BidenTour @42Gnome @kimmsue70 @RealDoctorT @cl1ntonserver @lemmabarkaloo @NewfMom29 @NotaDorR1 @TruthPyRate @ADirtyRottenDog @pookietooth @odktiger @Evry1H8sGrtzLOL @TastyMorsel6 @MurphyYuiko @theProgEqualist @LeAidan098 @1717mule @Polt223 @Jennie_SC1 @FemmeVoilet @LucaBra66424748 @_Kel_Varnsen_ @JackWhoElse @429jamesowens @instinctnaturel @Timeforfreespe1 @cow_cousin @MyChickenDinner @VtTbQW9s3xjPOow @TwoSides1Truth @SomeSis1 @LadyOfTheOcean1 @SnoJusticeBro @Aimhighffw My clan is in Ireland.  Small world.\",\n",
      "         \"id\": \"1606438931540606978\",\n",
      "         \"author_id\": \"1300278104485756928\",\n",
      "         \"edit_history_tweet_ids\": [\n",
      "            \"1606438931540606978\"\n",
      "         ]\n",
      "      },\n",
      "      {\n",
      "         \"text\": \"@JenCages @MucusMucous @RedStateJimy @ADouble777 @TomDoubting @fastcow33 @RepublicanRehab @atriana @michellmybell1 @Bruh50347166 @BigBrotherNut @TreatHunterDog @shrekvivre @CivilLost @SnoJusticeCuz @BidenTour @42Gnome @kimmsue70 @RealDoctorT @cl1ntonserver @lemmabarkaloo @NewfMom29 @NotaDorR1 @TruthPyRate @ADirtyRottenDog @pookietooth @odktiger @Evry1H8sGrtzLOL @TastyMorsel6 @MurphyYuiko @theProgEqualist @LeAidan098 @1717mule @Polt223 @Jennie_SC1 @FemmeVoilet @LucaBra66424748 @_Kel_Varnsen_ @JackWhoElse @429jamesowens @instinctnaturel @Timeforfreespe1 @cow_cousin @MyChickenDinner @VtTbQW9s3xjPOow @TwoSides1Truth @SomeSis1 @LadyOfTheOcean1 @SnoJusticeBro @Aimhighffw I came here from Ireland.\",\n",
      "         \"id\": \"1606437397582979073\",\n",
      "         \"author_id\": \"1424486237289816064\",\n",
      "         \"edit_history_tweet_ids\": [\n",
      "            \"1606437397582979073\"\n",
      "         ]\n",
      "      },\n",
      "      {\n",
      "         \"text\": \"@xxx_porn_anal_1 kylie reverse cow ireland\",\n",
      "         \"id\": \"1606372480729419794\",\n",
      "         \"author_id\": \"1603056677967826944\",\n",
      "         \"edit_history_tweet_ids\": [\n",
      "            \"1606372480729419794\"\n",
      "         ]\n",
      "      },\n",
      "      {\n",
      "         \"text\": \"\\\"Meat Industry Ireland rejects idea of cow cull and want reduction in emissions to be delivered by magic\\\". https://t.co/VQJyjXeOIB\",\n",
      "         \"id\": \"1606360856463294466\",\n",
      "         \"author_id\": \"451740147\",\n",
      "         \"edit_history_tweet_ids\": [\n",
      "            \"1606360856463294466\"\n",
      "         ]\n",
      "      },\n",
      "      {\n",
      "         \"text\": \"Subscriber-only: Meat Industry Ireland rejects idea of cow cull and want reduction in emissions to be delivered by science. https://t.co/UdWEtq0C1P\",\n",
      "         \"id\": \"1606354951634026502\",\n",
      "         \"author_id\": \"133241378\",\n",
      "         \"edit_history_tweet_ids\": [\n",
      "            \"1606354951634026502\"\n",
      "         ]\n",
      "      },\n",
      "      {\n",
      "         \"text\": \"The \\\"Holee Cow\\\" Burger Challenge | Ireland's Biggest Burger https://t.co/leZF77Mgue via @YouTube\",\n",
      "         \"id\": \"1606070678620278787\",\n",
      "         \"author_id\": \"1147744140\",\n",
      "         \"edit_history_tweet_ids\": [\n",
      "            \"1606070678620278787\"\n",
      "         ]\n",
      "      },\n",
      "      {\n",
      "         \"text\": \"@RoughJustice7 @Noel_Hannan @brexit_sham @GodwinStan Northern Ireland a cash cow !  \\nGive me a break, only if cows eat cash. \\nIt will take £15 billion in 2022 to keep the population of NI in the luxury to which it has become accustomed, whilst the two biggest parties there bicker and drive their talented youth into disgusted exile.\",\n",
      "         \"id\": \"1606046300696285184\",\n",
      "         \"author_id\": \"1348714831453556737\",\n",
      "         \"edit_history_tweet_ids\": [\n",
      "            \"1606046300696285184\"\n",
      "         ]\n",
      "      },\n",
      "      {\n",
      "         \"text\": \"• Cow pregnancy scanning (65%*);\\n• Artificial insemination (53%*);\\n• Freezing branding (53%*).\\n*Of Irish farms surveyed. \\n\\nRead the full report here: https://t.co/9yfAVq8oJT\\n \\n🚜If you are a farmer looking to develop your farm contact us today visit  💻https://t.co/hxvXteSRx0\",\n",
      "         \"id\": \"1605985785781501955\",\n",
      "         \"author_id\": \"1006464769682034688\",\n",
      "         \"edit_history_tweet_ids\": [\n",
      "            \"1605985785781501955\"\n",
      "         ]\n",
      "      },\n",
      "      {\n",
      "         \"text\": \"@Noel_Hannan @brexit_sham @GodwinStan Half of you are ashamed to be British it’s no wonder we shoot ourselves in the foot. As for the EU they block us every step of the way (look at the Northern Ireland border issue!) because they want their cash cow back.\",\n",
      "         \"id\": \"1605985629313056784\",\n",
      "         \"author_id\": \"1140736891404337152\",\n",
      "         \"edit_history_tweet_ids\": [\n",
      "            \"1605985629313056784\"\n",
      "         ]\n",
      "      },\n",
      "      {\n",
      "         \"text\": \"@ANTHONYDELANE40 @Independent_ie Really ?\\n\\nFree money you recon ?\\n\\nWhat's the public debt at the moment ?\\n\\nHow much of EU punlic debt was paid by Ireland  ?\\n\\nHow much EU money Ire got this year ?\\n\\nHow much contributions Ire paid to EU in last 10 years ?\\n\\nWhy cow shit on Irish fields is a problem ?\",\n",
      "         \"id\": \"1605960624751529992\",\n",
      "         \"author_id\": \"1243001951945711616\",\n",
      "         \"edit_history_tweet_ids\": [\n",
      "            \"1605960624751529992\"\n",
      "         ]\n",
      "      },\n",
      "      {\n",
      "         \"text\": \"@DeanoGriff1 Not his fault he was from Northern Ireland…..back then on muddy cow fields where defenders could 2 foot you from behind! Dont get a statue at Old Trafford for being average mate\",\n",
      "         \"id\": \"1605895626708770816\",\n",
      "         \"author_id\": \"302199139\",\n",
      "         \"edit_history_tweet_ids\": [\n",
      "            \"1605895626708770816\"\n",
      "         ]\n",
      "      },\n",
      "      {\n",
      "         \"text\": \"A cow and craggy Cliffs on the Aran Islands.   Photo by @marvelatireland @instaireland\\n******   \\nHow would you like more than 1 Million lovers of Ireland feasting their eyes on your business? - https://t.co/7Od7yFnGwq https://t.co/mKKQvFZp7u\",\n",
      "         \"id\": \"1605825760316428288\",\n",
      "         \"author_id\": \"1181678609095958528\",\n",
      "         \"edit_history_tweet_ids\": [\n",
      "            \"1605825760316428288\"\n",
      "         ]\n",
      "      },\n",
      "      {\n",
      "         \"text\": \"@KarlMartinIrl @rte Even Bolivia OLeary was on with her anecdote of Garrett mixing up Solidarnasc flag &amp; Cork Gaa, an abomination,GAA is sacred cow,no leader can rise without it,gaa banned Garrett from all Ireland final over vat on hurleys,but CJH was back next year &amp; vat still there! @SeanKellyMEP\",\n",
      "         \"id\": \"1605716476568096768\",\n",
      "         \"author_id\": \"194940707\",\n",
      "         \"edit_history_tweet_ids\": [\n",
      "            \"1605716476568096768\"\n",
      "         ]\n",
      "      },\n",
      "      {\n",
      "         \"text\": \"Landscape, Photography, Cow, Wildlife, Ennis, https://t.co/JzOrgGh2lY #photography #landscape #print #wallart #animal #cow #ireland #ennis @etsymktgtool https://t.co/O75hgNE80q\",\n",
      "         \"id\": \"1605597401133228032\",\n",
      "         \"author_id\": \"50731878\",\n",
      "         \"edit_history_tweet_ids\": [\n",
      "            \"1605597401133228032\"\n",
      "         ]\n",
      "      },\n",
      "      {\n",
      "         \"text\": \"Goddess vs Slave dinner 🍽 \\n\\n😂😈 Good, what i like to see. Goddess Xhesi deserves what she want to eat and you can use the loose change to go feed your worthless self. pathetic \\n\\nFindom • Dublin • Ireland • paypig • cash cow • Human ATM • Cashslave • Whalesub • sissy https://t.co/NmwpdNJ51D\",\n",
      "         \"id\": \"1605545774388891648\",\n",
      "         \"author_id\": \"1599932929584537602\",\n",
      "         \"edit_history_tweet_ids\": [\n",
      "            \"1605545774388891648\"\n",
      "         ]\n",
      "      },\n",
      "      {\n",
      "         \"text\": \"Are you going to see @DameStuffy in the Red Cow Inn #Panto? You can also see Dame Stuffy at @TheOutingFest, Valentines weekend 10th - 12th Feb 2023 😍\\n\\n#TheOutingFestival @ILoveGayDrag @Failte_Ireland @TourismIreland\\n\\nGet your tickets NOW! https://t.co/nHeEA38e7A https://t.co/RE3W5cfVMk\",\n",
      "         \"id\": \"1605510270629171201\",\n",
      "         \"author_id\": \"850393619034984449\",\n",
      "         \"edit_history_tweet_ids\": [\n",
      "            \"1605510270629171201\"\n",
      "         ]\n",
      "      },\n",
      "      {\n",
      "         \"text\": \"@wws_ireland What’s the kgs solids &amp; litres milk per cow, what’s the level of meal per cow, and how long does the herd receive buffer-feeding? Context is everything…..\",\n",
      "         \"id\": \"1605313030677749760\",\n",
      "         \"author_id\": \"243330723\",\n",
      "         \"edit_history_tweet_ids\": [\n",
      "            \"1605313030677749760\"\n",
      "         ]\n",
      "      },\n",
      "      {\n",
      "         \"text\": \"Rules: if you twitched you owe me €20. \\nPay up Goon 💰 \\n\\nhttps://t.co/Nl0EqUBwaO\\n😈\\nhttps://t.co/4WRiR2mPNW\\n\\nFindom dublin | irish femdom | Ireland | paypig | cash meet | cash cow | cash slave | whalesub  | cuck | beta | finsub | Goddess | ass worship | drain | debt contract https://t.co/CjQMxxbC0Y\",\n",
      "         \"id\": \"1605300034555334657\",\n",
      "         \"author_id\": \"1599932929584537602\",\n",
      "         \"edit_history_tweet_ids\": [\n",
      "            \"1605300034555334657\"\n",
      "         ]\n",
      "      }\n",
      "   ],\n",
      "   \"meta\": {\n",
      "      \"newest_id\": \"1607719593497305089\",\n",
      "      \"oldest_id\": \"1605300034555334657\",\n",
      "      \"result_count\": 21\n",
      "   }\n",
      "}\n"
     ]
    }
   ],
   "source": [
    "bearer_token = config[\"BEARER_TOKEN\"]\n",
    "\n",
    "search_url = \"https://api.twitter.com/2/tweets/search/recent\"\n",
    "\n",
    "query_params = {\n",
    "    'query' : \"\\\"Cow\\\"Ireland -is:retweet\",\n",
    "    'max_results' : '50',\n",
    "    'tweet.fields': 'author_id',\n",
    "    'user.fields': 'name'\n",
    "}\n",
    "\n",
    "def bearer_oauth(r):\n",
    "    r.headers[\"Authorization\"] = f\"Bearer {bearer_token}\"\n",
    "    r.headers[\"User-Agent\"] = \"v2RecentSearchPython\"\n",
    "    return r\n",
    "\n",
    "def connect_to_endpoint(url, params):\n",
    "    response = requests.get(url, auth=bearer_oauth, params=params)\n",
    "    response.status_code\n",
    "    return response.json()\n",
    "\n",
    "json_response = connect_to_endpoint(search_url, query_params)\n",
    "\n",
    "parsedRes = json.dumps(json_response, indent=3, ensure_ascii=False)\n",
    "print(parsedRes)"
   ]
  },
  {
   "cell_type": "code",
   "execution_count": 6,
   "id": "16cd4045",
   "metadata": {},
   "outputs": [
    {
     "data": {
      "text/plain": [
       "'Rules: if you twitched you owe me €20. \\nPay up Goon 💰 \\n\\nhttps://t.co/Nl0EqUBwaO\\n😈\\nhttps://t.co/4WRiR2mPNW\\n\\nFindom dublin | irish femdom | Ireland | paypig | cash meet | cash cow | cash slave | whalesub  | cuck | beta | finsub | Goddess | ass worship | drain | debt contract https://t.co/CjQMxxbC0Y'"
      ]
     },
     "execution_count": 6,
     "metadata": {},
     "output_type": "execute_result"
    }
   ],
   "source": [
    "json_response['data'][20]['text']"
   ]
  },
  {
   "cell_type": "code",
   "execution_count": 7,
   "id": "e48e8df2",
   "metadata": {},
   "outputs": [
    {
     "name": "stdout",
     "output_type": "stream",
     "text": [
      "Requirement already satisfied: twitter-stream.py in c:\\users\\kftsu\\anaconda3\\lib\\site-packages (0.8.8)\n",
      "Requirement already satisfied: PyYAML==5.4.1 in c:\\users\\kftsu\\anaconda3\\lib\\site-packages (from twitter-stream.py) (5.4.1)\n",
      "Requirement already satisfied: requests-oauthlib==1.3.0 in c:\\users\\kftsu\\anaconda3\\lib\\site-packages (from twitter-stream.py) (1.3.0)\n",
      "Requirement already satisfied: requests==2.25.0 in c:\\users\\kftsu\\anaconda3\\lib\\site-packages (from twitter-stream.py) (2.25.0)\n",
      "Requirement already satisfied: chardet<4,>=3.0.2 in c:\\users\\kftsu\\anaconda3\\lib\\site-packages (from requests==2.25.0->twitter-stream.py) (3.0.4)\n",
      "Requirement already satisfied: certifi>=2017.4.17 in c:\\users\\kftsu\\anaconda3\\lib\\site-packages (from requests==2.25.0->twitter-stream.py) (2021.10.8)\n",
      "Requirement already satisfied: idna<3,>=2.5 in c:\\users\\kftsu\\anaconda3\\lib\\site-packages (from requests==2.25.0->twitter-stream.py) (2.10)\n",
      "Requirement already satisfied: urllib3<1.27,>=1.21.1 in c:\\users\\kftsu\\anaconda3\\lib\\site-packages (from requests==2.25.0->twitter-stream.py) (1.26.9)\n",
      "Requirement already satisfied: oauthlib>=3.0.0 in c:\\users\\kftsu\\anaconda3\\lib\\site-packages (from requests-oauthlib==1.3.0->twitter-stream.py) (3.2.2)\n"
     ]
    }
   ],
   "source": [
    "!pip install twitter-stream.py"
   ]
  },
  {
   "cell_type": "code",
   "execution_count": 8,
   "id": "fa87fd62",
   "metadata": {},
   "outputs": [],
   "source": [
    "twitter_keys=f'''keys:\n",
    "    access_token: {config[\"API_KEY\"]}\n",
    "    access_token_secret: {config[\"API_KEY_SECRET\"]}\n",
    "    bearer_token: {config[\"BEARER_TOKEN\"]}\n",
    "'''\n",
    "with open(\"C:/Users/kftsu/.twitter-keys.yaml\", \"w\") as file:\n",
    "    file.write(twitter_keys)\n",
    "with open(\"C:/Users/kftsu/.twitter_keys.yaml\", \"w\") as file:\n",
    "    file.write(twitter_keys)  "
   ]
  },
  {
   "cell_type": "code",
   "execution_count": 9,
   "id": "8296903c",
   "metadata": {},
   "outputs": [],
   "source": [
    "import pandas as pd\n",
    "#import json\n",
    "import csv"
   ]
  },
  {
   "cell_type": "markdown",
   "id": "5968ab4a",
   "metadata": {},
   "source": [
    "# import json\n",
    "from twitter_stream import FilteredStream\n",
    "from time import time\n",
    "\n",
    "start = time()\n",
    "stream = FilteredStream()\n",
    "rule = {\n",
    "    \"add\" : [\n",
    "        {\n",
    "            \"value\": '\"Ireland\" -is:retweet ', \n",
    "             \"tag\": \"Milk\"\n",
    "        }\n",
    "    ]\n",
    "}\n",
    "\n",
    "stream.add_rule(data=rule)\n",
    "tweetList = []\n",
    "for tweet in stream.connect():\n",
    "    parsedTweet = json.dumps(tweet, indent=4, ensure_ascii=False)\n",
    "    tweetList.append(parsedTweet)\n",
    "    print(parsedTweet)\n",
    "    print(f\"There are: {len(tweetList)} tweets, about {len(tweetList)/(time()-start)} tweets per second.\")"
   ]
  },
  {
   "cell_type": "code",
   "execution_count": null,
   "id": "9ebce624",
   "metadata": {},
   "outputs": [],
   "source": [
    "#with open ('Milk_ie.json', 'r', encoding='utf-8') as f:\n",
    "    data= json.load(f)\n",
    "    data = data['data']\n",
    "\n",
    "#with open ('Milk_ie.csv', 'w', encoding='utf-8') as f:\n",
    "    fieldnames = data[0].keys()\n",
    "    writer= csv.DictWriter(f, fieldnames=fieldnames)\n",
    "    writer.writeheader()\n",
    "    for text in data:\n",
    "        writer.writerow(text)"
   ]
  },
  {
   "cell_type": "code",
   "execution_count": null,
   "id": "66624a6a",
   "metadata": {},
   "outputs": [],
   "source": [
    "#with open ('Cow_ie.json', 'r', encoding='utf-8') as f:\n",
    "    data= json.load(f)\n",
    "    data = data['data']\n",
    "\n",
    "#with open ('Cow_ie.csv', 'w', encoding='utf-8') as f:\n",
    "    fieldnames = data[0].keys()\n",
    "    writer= csv.DictWriter(f, fieldnames=fieldnames)\n",
    "    writer.writeheader()\n",
    "    for text in data:\n",
    "        writer.writerow(text)"
   ]
  },
  {
   "cell_type": "markdown",
   "id": "d703002b",
   "metadata": {},
   "source": [
    "I want to combine tweets about Milk, Dairy, and Cow in In Ireland."
   ]
  },
  {
   "cell_type": "code",
   "execution_count": null,
   "id": "33d2fe99",
   "metadata": {},
   "outputs": [],
   "source": [
    "#import pandas as pd\n",
    "#import seaborn as sns\n",
    "%config InlineBackend.figure_format = 'retina'\n",
    "sns.set_context('talk')\n",
    "#import warnings\n",
    "warnings.filterwarnings('ignore')\n",
    "#from IPython.core.interactiveshell import InteractiveShell\n",
    "InteractiveShell.ast_node_interactivity = 'all' "
   ]
  },
  {
   "cell_type": "code",
   "execution_count": null,
   "id": "f0f88221",
   "metadata": {},
   "outputs": [],
   "source": [
    "#Milk_text_ie = pd.read_csv(\"Milk_ie.csv\")\n",
    "#Cow_text_ie= pd.read_csv(\"Cow_ie.csv\")"
   ]
  },
  {
   "cell_type": "code",
   "execution_count": null,
   "id": "2a2fa4d2",
   "metadata": {},
   "outputs": [],
   "source": [
    "#Milk_text_ie.head()"
   ]
  },
  {
   "cell_type": "code",
   "execution_count": null,
   "id": "e6604aa2",
   "metadata": {},
   "outputs": [],
   "source": [
    "#Cow_text_ie.head()"
   ]
  },
  {
   "cell_type": "code",
   "execution_count": null,
   "id": "3d140ec4",
   "metadata": {},
   "outputs": [],
   "source": [
    "#Milk_text_ie.shape\n",
    "#Cow_text_ie.shape"
   ]
  },
  {
   "cell_type": "code",
   "execution_count": null,
   "id": "6c2f4db2",
   "metadata": {},
   "outputs": [],
   "source": [
    "#Milk_text_ie['Tweet']='Milk'\n",
    "#Milk_text_ie"
   ]
  },
  {
   "cell_type": "code",
   "execution_count": null,
   "id": "7ff45872",
   "metadata": {},
   "outputs": [],
   "source": [
    "#Cow_text_ie['Tweet']='Cow'\n",
    "#Cow_text_ie"
   ]
  },
  {
   "cell_type": "code",
   "execution_count": null,
   "id": "36e15d94",
   "metadata": {},
   "outputs": [],
   "source": [
    "#Milk_Cow_Tweets = pd.merge(Milk_text_ie, Cow_text_ie, how=\"outer\")"
   ]
  },
  {
   "cell_type": "code",
   "execution_count": null,
   "id": "35e83fa5",
   "metadata": {},
   "outputs": [],
   "source": [
    "#Milk_Cow_Tweets.shape"
   ]
  },
  {
   "cell_type": "code",
   "execution_count": null,
   "id": "50713274",
   "metadata": {},
   "outputs": [],
   "source": [
    "#Milk_Cow_Tweets"
   ]
  },
  {
   "cell_type": "code",
   "execution_count": null,
   "id": "d21f9dfc",
   "metadata": {},
   "outputs": [],
   "source": [
    "#Milk_Cow_Tweets.to_excel('Milk_Cow_Tweets.xlsx', index = False)"
   ]
  },
  {
   "cell_type": "code",
   "execution_count": null,
   "id": "2696fd0a",
   "metadata": {},
   "outputs": [],
   "source": []
  }
 ],
 "metadata": {
  "kernelspec": {
   "display_name": "Python 3 (ipykernel)",
   "language": "python",
   "name": "python3"
  },
  "language_info": {
   "codemirror_mode": {
    "name": "ipython",
    "version": 3
   },
   "file_extension": ".py",
   "mimetype": "text/x-python",
   "name": "python",
   "nbconvert_exporter": "python",
   "pygments_lexer": "ipython3",
   "version": "3.9.12"
  }
 },
 "nbformat": 4,
 "nbformat_minor": 5
}
