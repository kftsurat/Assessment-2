{
 "cells": [
  {
   "cell_type": "markdown",
   "id": "79ce3934",
   "metadata": {},
   "source": [
    "# Statistics\n",
    "\n",
    "### <font color=red>(Ireland Milk Statistics [Domestic Milk Intake by creameries and pasteurisers])"
   ]
  },
  {
   "cell_type": "code",
   "execution_count": 1,
   "id": "1b251316",
   "metadata": {},
   "outputs": [],
   "source": [
    "#importing libraries\n",
    "\n",
    "import pandas as pd\n",
    "import statistics as stats\n",
    "import numpy as np\n",
    "import matplotlib.pyplot as plt\n",
    "import seaborn as sns\n",
    "sns.set(color_codes=True)\n",
    "from matplotlib import colors as mcolors\n",
    "import matplotlib.pyplot as mp\n"
   ]
  },
  {
   "cell_type": "code",
   "execution_count": 2,
   "id": "6044d30c",
   "metadata": {},
   "outputs": [],
   "source": [
    "ds_melted=pd.read_csv('Ireland_Milk_melted.csv')\n",
    "df_pivot=pd.read_csv('Ireland_Milk_pivot.csv')"
   ]
  },
  {
   "cell_type": "code",
   "execution_count": 3,
   "id": "ea582b4a",
   "metadata": {},
   "outputs": [
    {
     "data": {
      "text/html": [
       "<div>\n",
       "<style scoped>\n",
       "    .dataframe tbody tr th:only-of-type {\n",
       "        vertical-align: middle;\n",
       "    }\n",
       "\n",
       "    .dataframe tbody tr th {\n",
       "        vertical-align: top;\n",
       "    }\n",
       "\n",
       "    .dataframe thead th {\n",
       "        text-align: right;\n",
       "    }\n",
       "</style>\n",
       "<table border=\"1\" class=\"dataframe\">\n",
       "  <thead>\n",
       "    <tr style=\"text-align: right;\">\n",
       "      <th></th>\n",
       "      <th>Year</th>\n",
       "      <th>January</th>\n",
       "      <th>February</th>\n",
       "      <th>March</th>\n",
       "      <th>April</th>\n",
       "      <th>May</th>\n",
       "      <th>June</th>\n",
       "      <th>July</th>\n",
       "      <th>August</th>\n",
       "      <th>September</th>\n",
       "      <th>October</th>\n",
       "      <th>November</th>\n",
       "      <th>December</th>\n",
       "    </tr>\n",
       "  </thead>\n",
       "  <tbody>\n",
       "    <tr>\n",
       "      <th>0</th>\n",
       "      <td>2020</td>\n",
       "      <td>176.2</td>\n",
       "      <td>331.7</td>\n",
       "      <td>725.7</td>\n",
       "      <td>982.7</td>\n",
       "      <td>1115.3</td>\n",
       "      <td>1031.0</td>\n",
       "      <td>985.0</td>\n",
       "      <td>867.6</td>\n",
       "      <td>725.4</td>\n",
       "      <td>646.8</td>\n",
       "      <td>449.8</td>\n",
       "      <td>258.8</td>\n",
       "    </tr>\n",
       "    <tr>\n",
       "      <th>1</th>\n",
       "      <td>2021</td>\n",
       "      <td>182.2</td>\n",
       "      <td>352.4</td>\n",
       "      <td>829.7</td>\n",
       "      <td>1060.5</td>\n",
       "      <td>1181.0</td>\n",
       "      <td>1067.3</td>\n",
       "      <td>1017.3</td>\n",
       "      <td>917.4</td>\n",
       "      <td>776.7</td>\n",
       "      <td>649.6</td>\n",
       "      <td>465.9</td>\n",
       "      <td>258.5</td>\n",
       "    </tr>\n",
       "    <tr>\n",
       "      <th>2</th>\n",
       "      <td>2022</td>\n",
       "      <td>183.3</td>\n",
       "      <td>367.5</td>\n",
       "      <td>808.6</td>\n",
       "      <td>1054.6</td>\n",
       "      <td>1166.0</td>\n",
       "      <td>1057.6</td>\n",
       "      <td>1022.8</td>\n",
       "      <td>919.0</td>\n",
       "      <td>785.6</td>\n",
       "      <td>698.5</td>\n",
       "      <td>465.9</td>\n",
       "      <td>258.5</td>\n",
       "    </tr>\n",
       "  </tbody>\n",
       "</table>\n",
       "</div>"
      ],
      "text/plain": [
       "   Year  January  February  March   April     May    June    July  August  \\\n",
       "0  2020    176.2     331.7  725.7   982.7  1115.3  1031.0   985.0   867.6   \n",
       "1  2021    182.2     352.4  829.7  1060.5  1181.0  1067.3  1017.3   917.4   \n",
       "2  2022    183.3     367.5  808.6  1054.6  1166.0  1057.6  1022.8   919.0   \n",
       "\n",
       "   September  October  November  December  \n",
       "0      725.4    646.8     449.8     258.8  \n",
       "1      776.7    649.6     465.9     258.5  \n",
       "2      785.6    698.5     465.9     258.5  "
      ]
     },
     "execution_count": 3,
     "metadata": {},
     "output_type": "execute_result"
    }
   ],
   "source": [
    "df_pivot.head(5)"
   ]
  },
  {
   "cell_type": "code",
   "execution_count": 4,
   "id": "f2924365",
   "metadata": {},
   "outputs": [
    {
     "data": {
      "text/html": [
       "<div>\n",
       "<style scoped>\n",
       "    .dataframe tbody tr th:only-of-type {\n",
       "        vertical-align: middle;\n",
       "    }\n",
       "\n",
       "    .dataframe tbody tr th {\n",
       "        vertical-align: top;\n",
       "    }\n",
       "\n",
       "    .dataframe thead th {\n",
       "        text-align: right;\n",
       "    }\n",
       "</style>\n",
       "<table border=\"1\" class=\"dataframe\">\n",
       "  <thead>\n",
       "    <tr style=\"text-align: right;\">\n",
       "      <th></th>\n",
       "      <th>Year</th>\n",
       "      <th>Month</th>\n",
       "      <th>Amount</th>\n",
       "    </tr>\n",
       "  </thead>\n",
       "  <tbody>\n",
       "    <tr>\n",
       "      <th>0</th>\n",
       "      <td>2020</td>\n",
       "      <td>January</td>\n",
       "      <td>176.2</td>\n",
       "    </tr>\n",
       "    <tr>\n",
       "      <th>1</th>\n",
       "      <td>2021</td>\n",
       "      <td>January</td>\n",
       "      <td>182.2</td>\n",
       "    </tr>\n",
       "    <tr>\n",
       "      <th>2</th>\n",
       "      <td>2022</td>\n",
       "      <td>January</td>\n",
       "      <td>183.3</td>\n",
       "    </tr>\n",
       "    <tr>\n",
       "      <th>3</th>\n",
       "      <td>2020</td>\n",
       "      <td>February</td>\n",
       "      <td>331.7</td>\n",
       "    </tr>\n",
       "    <tr>\n",
       "      <th>4</th>\n",
       "      <td>2021</td>\n",
       "      <td>February</td>\n",
       "      <td>352.4</td>\n",
       "    </tr>\n",
       "  </tbody>\n",
       "</table>\n",
       "</div>"
      ],
      "text/plain": [
       "   Year     Month  Amount\n",
       "0  2020   January   176.2\n",
       "1  2021   January   182.2\n",
       "2  2022   January   183.3\n",
       "3  2020  February   331.7\n",
       "4  2021  February   352.4"
      ]
     },
     "execution_count": 4,
     "metadata": {},
     "output_type": "execute_result"
    }
   ],
   "source": [
    "ds_melted.head(5)"
   ]
  },
  {
   "cell_type": "markdown",
   "id": "197c4084",
   "metadata": {},
   "source": [
    " <font color=black>*The unit of the values in the 'Amount' column is in million litres*</font> "
   ]
  },
  {
   "cell_type": "markdown",
   "id": "06f04353",
   "metadata": {},
   "source": [
    "###  <font color=blue>**Descriptive Statistics**</font>"
   ]
  },
  {
   "cell_type": "markdown",
   "id": "1be5478e",
   "metadata": {},
   "source": [
    "#### <font color=red>*Mean, median, and variance values will be calculated*</font> "
   ]
  },
  {
   "cell_type": "code",
   "execution_count": 5,
   "id": "5cf7d322",
   "metadata": {},
   "outputs": [
    {
     "data": {
      "text/html": [
       "<div>\n",
       "<style scoped>\n",
       "    .dataframe tbody tr th:only-of-type {\n",
       "        vertical-align: middle;\n",
       "    }\n",
       "\n",
       "    .dataframe tbody tr th {\n",
       "        vertical-align: top;\n",
       "    }\n",
       "\n",
       "    .dataframe thead th {\n",
       "        text-align: right;\n",
       "    }\n",
       "</style>\n",
       "<table border=\"1\" class=\"dataframe\">\n",
       "  <thead>\n",
       "    <tr style=\"text-align: right;\">\n",
       "      <th></th>\n",
       "      <th>Year</th>\n",
       "      <th>January</th>\n",
       "      <th>February</th>\n",
       "      <th>March</th>\n",
       "      <th>April</th>\n",
       "      <th>May</th>\n",
       "      <th>June</th>\n",
       "      <th>July</th>\n",
       "      <th>August</th>\n",
       "      <th>September</th>\n",
       "      <th>October</th>\n",
       "      <th>November</th>\n",
       "      <th>December</th>\n",
       "      <th>mean_rows</th>\n",
       "    </tr>\n",
       "  </thead>\n",
       "  <tbody>\n",
       "    <tr>\n",
       "      <th>0</th>\n",
       "      <td>2020</td>\n",
       "      <td>176.2</td>\n",
       "      <td>331.7</td>\n",
       "      <td>725.7</td>\n",
       "      <td>982.7</td>\n",
       "      <td>1115.3</td>\n",
       "      <td>1031.0</td>\n",
       "      <td>985.0</td>\n",
       "      <td>867.6</td>\n",
       "      <td>725.4</td>\n",
       "      <td>646.8</td>\n",
       "      <td>449.8</td>\n",
       "      <td>258.8</td>\n",
       "      <td>793.538462</td>\n",
       "    </tr>\n",
       "    <tr>\n",
       "      <th>1</th>\n",
       "      <td>2021</td>\n",
       "      <td>182.2</td>\n",
       "      <td>352.4</td>\n",
       "      <td>829.7</td>\n",
       "      <td>1060.5</td>\n",
       "      <td>1181.0</td>\n",
       "      <td>1067.3</td>\n",
       "      <td>1017.3</td>\n",
       "      <td>917.4</td>\n",
       "      <td>776.7</td>\n",
       "      <td>649.6</td>\n",
       "      <td>465.9</td>\n",
       "      <td>258.5</td>\n",
       "      <td>829.192308</td>\n",
       "    </tr>\n",
       "    <tr>\n",
       "      <th>2</th>\n",
       "      <td>2022</td>\n",
       "      <td>183.3</td>\n",
       "      <td>367.5</td>\n",
       "      <td>808.6</td>\n",
       "      <td>1054.6</td>\n",
       "      <td>1166.0</td>\n",
       "      <td>1057.6</td>\n",
       "      <td>1022.8</td>\n",
       "      <td>919.0</td>\n",
       "      <td>785.6</td>\n",
       "      <td>698.5</td>\n",
       "      <td>465.9</td>\n",
       "      <td>258.5</td>\n",
       "      <td>831.530769</td>\n",
       "    </tr>\n",
       "  </tbody>\n",
       "</table>\n",
       "</div>"
      ],
      "text/plain": [
       "   Year  January  February  March   April     May    June    July  August  \\\n",
       "0  2020    176.2     331.7  725.7   982.7  1115.3  1031.0   985.0   867.6   \n",
       "1  2021    182.2     352.4  829.7  1060.5  1181.0  1067.3  1017.3   917.4   \n",
       "2  2022    183.3     367.5  808.6  1054.6  1166.0  1057.6  1022.8   919.0   \n",
       "\n",
       "   September  October  November  December   mean_rows  \n",
       "0      725.4    646.8     449.8     258.8  793.538462  \n",
       "1      776.7    649.6     465.9     258.5  829.192308  \n",
       "2      785.6    698.5     465.9     258.5  831.530769  "
      ]
     },
     "execution_count": 5,
     "metadata": {},
     "output_type": "execute_result"
    }
   ],
   "source": [
    "# adding a column for mean values for each countr\n",
    "df_pivot['mean_rows'] =df_pivot.mean(axis = 1)\n",
    "df_pivot"
   ]
  },
  {
   "cell_type": "code",
   "execution_count": 6,
   "id": "07bd8bcd",
   "metadata": {},
   "outputs": [
    {
     "data": {
      "text/html": [
       "<div>\n",
       "<style scoped>\n",
       "    .dataframe tbody tr th:only-of-type {\n",
       "        vertical-align: middle;\n",
       "    }\n",
       "\n",
       "    .dataframe tbody tr th {\n",
       "        vertical-align: top;\n",
       "    }\n",
       "\n",
       "    .dataframe thead th {\n",
       "        text-align: right;\n",
       "    }\n",
       "</style>\n",
       "<table border=\"1\" class=\"dataframe\">\n",
       "  <thead>\n",
       "    <tr style=\"text-align: right;\">\n",
       "      <th></th>\n",
       "      <th>Year</th>\n",
       "      <th>January</th>\n",
       "      <th>February</th>\n",
       "      <th>March</th>\n",
       "      <th>April</th>\n",
       "      <th>May</th>\n",
       "      <th>June</th>\n",
       "      <th>July</th>\n",
       "      <th>August</th>\n",
       "      <th>September</th>\n",
       "      <th>October</th>\n",
       "      <th>November</th>\n",
       "      <th>December</th>\n",
       "      <th>mean_rows</th>\n",
       "      <th>median_rows</th>\n",
       "    </tr>\n",
       "  </thead>\n",
       "  <tbody>\n",
       "    <tr>\n",
       "      <th>0</th>\n",
       "      <td>2020</td>\n",
       "      <td>176.2</td>\n",
       "      <td>331.7</td>\n",
       "      <td>725.7</td>\n",
       "      <td>982.7</td>\n",
       "      <td>1115.3</td>\n",
       "      <td>1031.0</td>\n",
       "      <td>985.0</td>\n",
       "      <td>867.6</td>\n",
       "      <td>725.4</td>\n",
       "      <td>646.8</td>\n",
       "      <td>449.8</td>\n",
       "      <td>258.8</td>\n",
       "      <td>793.538462</td>\n",
       "      <td>759.619231</td>\n",
       "    </tr>\n",
       "    <tr>\n",
       "      <th>1</th>\n",
       "      <td>2021</td>\n",
       "      <td>182.2</td>\n",
       "      <td>352.4</td>\n",
       "      <td>829.7</td>\n",
       "      <td>1060.5</td>\n",
       "      <td>1181.0</td>\n",
       "      <td>1067.3</td>\n",
       "      <td>1017.3</td>\n",
       "      <td>917.4</td>\n",
       "      <td>776.7</td>\n",
       "      <td>649.6</td>\n",
       "      <td>465.9</td>\n",
       "      <td>258.5</td>\n",
       "      <td>829.192308</td>\n",
       "      <td>829.446154</td>\n",
       "    </tr>\n",
       "    <tr>\n",
       "      <th>2</th>\n",
       "      <td>2022</td>\n",
       "      <td>183.3</td>\n",
       "      <td>367.5</td>\n",
       "      <td>808.6</td>\n",
       "      <td>1054.6</td>\n",
       "      <td>1166.0</td>\n",
       "      <td>1057.6</td>\n",
       "      <td>1022.8</td>\n",
       "      <td>919.0</td>\n",
       "      <td>785.6</td>\n",
       "      <td>698.5</td>\n",
       "      <td>465.9</td>\n",
       "      <td>258.5</td>\n",
       "      <td>831.530769</td>\n",
       "      <td>820.065385</td>\n",
       "    </tr>\n",
       "  </tbody>\n",
       "</table>\n",
       "</div>"
      ],
      "text/plain": [
       "   Year  January  February  March   April     May    June    July  August  \\\n",
       "0  2020    176.2     331.7  725.7   982.7  1115.3  1031.0   985.0   867.6   \n",
       "1  2021    182.2     352.4  829.7  1060.5  1181.0  1067.3  1017.3   917.4   \n",
       "2  2022    183.3     367.5  808.6  1054.6  1166.0  1057.6  1022.8   919.0   \n",
       "\n",
       "   September  October  November  December   mean_rows  median_rows  \n",
       "0      725.4    646.8     449.8     258.8  793.538462   759.619231  \n",
       "1      776.7    649.6     465.9     258.5  829.192308   829.446154  \n",
       "2      785.6    698.5     465.9     258.5  831.530769   820.065385  "
      ]
     },
     "execution_count": 6,
     "metadata": {},
     "output_type": "execute_result"
    }
   ],
   "source": [
    "# adding a column for median values for each country\n",
    "df_pivot['median_rows'] = df_pivot.median(axis = 1)\n",
    "df_pivot"
   ]
  },
  {
   "cell_type": "code",
   "execution_count": 7,
   "id": "8c3aee04",
   "metadata": {},
   "outputs": [
    {
     "data": {
      "text/html": [
       "<div>\n",
       "<style scoped>\n",
       "    .dataframe tbody tr th:only-of-type {\n",
       "        vertical-align: middle;\n",
       "    }\n",
       "\n",
       "    .dataframe tbody tr th {\n",
       "        vertical-align: top;\n",
       "    }\n",
       "\n",
       "    .dataframe thead th {\n",
       "        text-align: right;\n",
       "    }\n",
       "</style>\n",
       "<table border=\"1\" class=\"dataframe\">\n",
       "  <thead>\n",
       "    <tr style=\"text-align: right;\">\n",
       "      <th></th>\n",
       "      <th>Year</th>\n",
       "      <th>January</th>\n",
       "      <th>February</th>\n",
       "      <th>March</th>\n",
       "      <th>April</th>\n",
       "      <th>May</th>\n",
       "      <th>June</th>\n",
       "      <th>July</th>\n",
       "      <th>August</th>\n",
       "      <th>September</th>\n",
       "      <th>October</th>\n",
       "      <th>November</th>\n",
       "      <th>December</th>\n",
       "      <th>mean_rows</th>\n",
       "      <th>median_rows</th>\n",
       "      <th>variance_rows</th>\n",
       "    </tr>\n",
       "  </thead>\n",
       "  <tbody>\n",
       "    <tr>\n",
       "      <th>0</th>\n",
       "      <td>2020</td>\n",
       "      <td>176.2</td>\n",
       "      <td>331.7</td>\n",
       "      <td>725.7</td>\n",
       "      <td>982.7</td>\n",
       "      <td>1115.3</td>\n",
       "      <td>1031.0</td>\n",
       "      <td>985.0</td>\n",
       "      <td>867.6</td>\n",
       "      <td>725.4</td>\n",
       "      <td>646.8</td>\n",
       "      <td>449.8</td>\n",
       "      <td>258.8</td>\n",
       "      <td>793.538462</td>\n",
       "      <td>759.619231</td>\n",
       "      <td>198028.920288</td>\n",
       "    </tr>\n",
       "    <tr>\n",
       "      <th>1</th>\n",
       "      <td>2021</td>\n",
       "      <td>182.2</td>\n",
       "      <td>352.4</td>\n",
       "      <td>829.7</td>\n",
       "      <td>1060.5</td>\n",
       "      <td>1181.0</td>\n",
       "      <td>1067.3</td>\n",
       "      <td>1017.3</td>\n",
       "      <td>917.4</td>\n",
       "      <td>776.7</td>\n",
       "      <td>649.6</td>\n",
       "      <td>465.9</td>\n",
       "      <td>258.5</td>\n",
       "      <td>829.192308</td>\n",
       "      <td>829.446154</td>\n",
       "      <td>202581.997812</td>\n",
       "    </tr>\n",
       "    <tr>\n",
       "      <th>2</th>\n",
       "      <td>2022</td>\n",
       "      <td>183.3</td>\n",
       "      <td>367.5</td>\n",
       "      <td>808.6</td>\n",
       "      <td>1054.6</td>\n",
       "      <td>1166.0</td>\n",
       "      <td>1057.6</td>\n",
       "      <td>1022.8</td>\n",
       "      <td>919.0</td>\n",
       "      <td>785.6</td>\n",
       "      <td>698.5</td>\n",
       "      <td>465.9</td>\n",
       "      <td>258.5</td>\n",
       "      <td>831.530769</td>\n",
       "      <td>820.065385</td>\n",
       "      <td>199444.411362</td>\n",
       "    </tr>\n",
       "  </tbody>\n",
       "</table>\n",
       "</div>"
      ],
      "text/plain": [
       "   Year  January  February  March   April     May    June    July  August  \\\n",
       "0  2020    176.2     331.7  725.7   982.7  1115.3  1031.0   985.0   867.6   \n",
       "1  2021    182.2     352.4  829.7  1060.5  1181.0  1067.3  1017.3   917.4   \n",
       "2  2022    183.3     367.5  808.6  1054.6  1166.0  1057.6  1022.8   919.0   \n",
       "\n",
       "   September  October  November  December   mean_rows  median_rows  \\\n",
       "0      725.4    646.8     449.8     258.8  793.538462   759.619231   \n",
       "1      776.7    649.6     465.9     258.5  829.192308   829.446154   \n",
       "2      785.6    698.5     465.9     258.5  831.530769   820.065385   \n",
       "\n",
       "   variance_rows  \n",
       "0  198028.920288  \n",
       "1  202581.997812  \n",
       "2  199444.411362  "
      ]
     },
     "execution_count": 7,
     "metadata": {},
     "output_type": "execute_result"
    }
   ],
   "source": [
    "# adding a column for variance values for each country\n",
    "df_pivot['variance_rows'] = df_pivot.var(axis = 1)\n",
    "df_pivot"
   ]
  },
  {
   "cell_type": "code",
   "execution_count": 8,
   "id": "4dbb3e0c",
   "metadata": {},
   "outputs": [
    {
     "data": {
      "text/html": [
       "<div>\n",
       "<style scoped>\n",
       "    .dataframe tbody tr th:only-of-type {\n",
       "        vertical-align: middle;\n",
       "    }\n",
       "\n",
       "    .dataframe tbody tr th {\n",
       "        vertical-align: top;\n",
       "    }\n",
       "\n",
       "    .dataframe thead th {\n",
       "        text-align: right;\n",
       "    }\n",
       "</style>\n",
       "<table border=\"1\" class=\"dataframe\">\n",
       "  <thead>\n",
       "    <tr style=\"text-align: right;\">\n",
       "      <th></th>\n",
       "      <th>index</th>\n",
       "      <th>Year</th>\n",
       "      <th>January</th>\n",
       "      <th>February</th>\n",
       "      <th>March</th>\n",
       "      <th>April</th>\n",
       "      <th>May</th>\n",
       "      <th>June</th>\n",
       "      <th>July</th>\n",
       "      <th>August</th>\n",
       "      <th>September</th>\n",
       "      <th>October</th>\n",
       "      <th>November</th>\n",
       "      <th>December</th>\n",
       "      <th>mean_rows</th>\n",
       "      <th>median_rows</th>\n",
       "      <th>variance_rows</th>\n",
       "    </tr>\n",
       "  </thead>\n",
       "  <tbody>\n",
       "    <tr>\n",
       "      <th>0</th>\n",
       "      <td>0</td>\n",
       "      <td>2020</td>\n",
       "      <td>176.2</td>\n",
       "      <td>331.7</td>\n",
       "      <td>725.7</td>\n",
       "      <td>982.7</td>\n",
       "      <td>1115.3</td>\n",
       "      <td>1031.0</td>\n",
       "      <td>985.0</td>\n",
       "      <td>867.6</td>\n",
       "      <td>725.4</td>\n",
       "      <td>646.8</td>\n",
       "      <td>449.8</td>\n",
       "      <td>258.8</td>\n",
       "      <td>793.538462</td>\n",
       "      <td>759.619231</td>\n",
       "      <td>198028.920288</td>\n",
       "    </tr>\n",
       "    <tr>\n",
       "      <th>1</th>\n",
       "      <td>1</td>\n",
       "      <td>2021</td>\n",
       "      <td>182.2</td>\n",
       "      <td>352.4</td>\n",
       "      <td>829.7</td>\n",
       "      <td>1060.5</td>\n",
       "      <td>1181.0</td>\n",
       "      <td>1067.3</td>\n",
       "      <td>1017.3</td>\n",
       "      <td>917.4</td>\n",
       "      <td>776.7</td>\n",
       "      <td>649.6</td>\n",
       "      <td>465.9</td>\n",
       "      <td>258.5</td>\n",
       "      <td>829.192308</td>\n",
       "      <td>829.446154</td>\n",
       "      <td>202581.997812</td>\n",
       "    </tr>\n",
       "    <tr>\n",
       "      <th>2</th>\n",
       "      <td>2</td>\n",
       "      <td>2022</td>\n",
       "      <td>183.3</td>\n",
       "      <td>367.5</td>\n",
       "      <td>808.6</td>\n",
       "      <td>1054.6</td>\n",
       "      <td>1166.0</td>\n",
       "      <td>1057.6</td>\n",
       "      <td>1022.8</td>\n",
       "      <td>919.0</td>\n",
       "      <td>785.6</td>\n",
       "      <td>698.5</td>\n",
       "      <td>465.9</td>\n",
       "      <td>258.5</td>\n",
       "      <td>831.530769</td>\n",
       "      <td>820.065385</td>\n",
       "      <td>199444.411362</td>\n",
       "    </tr>\n",
       "  </tbody>\n",
       "</table>\n",
       "</div>"
      ],
      "text/plain": [
       "   index  Year  January  February  March   April     May    June    July  \\\n",
       "0      0  2020    176.2     331.7  725.7   982.7  1115.3  1031.0   985.0   \n",
       "1      1  2021    182.2     352.4  829.7  1060.5  1181.0  1067.3  1017.3   \n",
       "2      2  2022    183.3     367.5  808.6  1054.6  1166.0  1057.6  1022.8   \n",
       "\n",
       "   August  September  October  November  December   mean_rows  median_rows  \\\n",
       "0   867.6      725.4    646.8     449.8     258.8  793.538462   759.619231   \n",
       "1   917.4      776.7    649.6     465.9     258.5  829.192308   829.446154   \n",
       "2   919.0      785.6    698.5     465.9     258.5  831.530769   820.065385   \n",
       "\n",
       "   variance_rows  \n",
       "0  198028.920288  \n",
       "1  202581.997812  \n",
       "2  199444.411362  "
      ]
     },
     "execution_count": 8,
     "metadata": {},
     "output_type": "execute_result"
    }
   ],
   "source": [
    "#reseting index\n",
    "df_pivot_reset=df_pivot.reset_index()\n",
    "df_pivot_reset"
   ]
  },
  {
   "cell_type": "code",
   "execution_count": 9,
   "id": "e720666c",
   "metadata": {},
   "outputs": [
    {
     "data": {
      "text/html": [
       "<div>\n",
       "<style scoped>\n",
       "    .dataframe tbody tr th:only-of-type {\n",
       "        vertical-align: middle;\n",
       "    }\n",
       "\n",
       "    .dataframe tbody tr th {\n",
       "        vertical-align: top;\n",
       "    }\n",
       "\n",
       "    .dataframe thead th {\n",
       "        text-align: right;\n",
       "    }\n",
       "</style>\n",
       "<table border=\"1\" class=\"dataframe\">\n",
       "  <thead>\n",
       "    <tr style=\"text-align: right;\">\n",
       "      <th></th>\n",
       "      <th>Year</th>\n",
       "      <th>January</th>\n",
       "      <th>February</th>\n",
       "      <th>March</th>\n",
       "      <th>April</th>\n",
       "      <th>May</th>\n",
       "      <th>June</th>\n",
       "      <th>July</th>\n",
       "      <th>August</th>\n",
       "      <th>September</th>\n",
       "      <th>October</th>\n",
       "      <th>November</th>\n",
       "      <th>December</th>\n",
       "      <th>mean_rows</th>\n",
       "      <th>median_rows</th>\n",
       "      <th>variance_rows</th>\n",
       "    </tr>\n",
       "  </thead>\n",
       "  <tbody>\n",
       "    <tr>\n",
       "      <th>0</th>\n",
       "      <td>2020</td>\n",
       "      <td>176.2</td>\n",
       "      <td>331.7</td>\n",
       "      <td>725.7</td>\n",
       "      <td>982.7</td>\n",
       "      <td>1115.3</td>\n",
       "      <td>1031.0</td>\n",
       "      <td>985.0</td>\n",
       "      <td>867.6</td>\n",
       "      <td>725.4</td>\n",
       "      <td>646.8</td>\n",
       "      <td>449.8</td>\n",
       "      <td>258.8</td>\n",
       "      <td>793.538462</td>\n",
       "      <td>759.619231</td>\n",
       "      <td>198028.920288</td>\n",
       "    </tr>\n",
       "    <tr>\n",
       "      <th>1</th>\n",
       "      <td>2021</td>\n",
       "      <td>182.2</td>\n",
       "      <td>352.4</td>\n",
       "      <td>829.7</td>\n",
       "      <td>1060.5</td>\n",
       "      <td>1181.0</td>\n",
       "      <td>1067.3</td>\n",
       "      <td>1017.3</td>\n",
       "      <td>917.4</td>\n",
       "      <td>776.7</td>\n",
       "      <td>649.6</td>\n",
       "      <td>465.9</td>\n",
       "      <td>258.5</td>\n",
       "      <td>829.192308</td>\n",
       "      <td>829.446154</td>\n",
       "      <td>202581.997812</td>\n",
       "    </tr>\n",
       "    <tr>\n",
       "      <th>2</th>\n",
       "      <td>2022</td>\n",
       "      <td>183.3</td>\n",
       "      <td>367.5</td>\n",
       "      <td>808.6</td>\n",
       "      <td>1054.6</td>\n",
       "      <td>1166.0</td>\n",
       "      <td>1057.6</td>\n",
       "      <td>1022.8</td>\n",
       "      <td>919.0</td>\n",
       "      <td>785.6</td>\n",
       "      <td>698.5</td>\n",
       "      <td>465.9</td>\n",
       "      <td>258.5</td>\n",
       "      <td>831.530769</td>\n",
       "      <td>820.065385</td>\n",
       "      <td>199444.411362</td>\n",
       "    </tr>\n",
       "  </tbody>\n",
       "</table>\n",
       "</div>"
      ],
      "text/plain": [
       "   Year  January  February  March   April     May    June    July  August  \\\n",
       "0  2020    176.2     331.7  725.7   982.7  1115.3  1031.0   985.0   867.6   \n",
       "1  2021    182.2     352.4  829.7  1060.5  1181.0  1067.3  1017.3   917.4   \n",
       "2  2022    183.3     367.5  808.6  1054.6  1166.0  1057.6  1022.8   919.0   \n",
       "\n",
       "   September  October  November  December   mean_rows  median_rows  \\\n",
       "0      725.4    646.8     449.8     258.8  793.538462   759.619231   \n",
       "1      776.7    649.6     465.9     258.5  829.192308   829.446154   \n",
       "2      785.6    698.5     465.9     258.5  831.530769   820.065385   \n",
       "\n",
       "   variance_rows  \n",
       "0  198028.920288  \n",
       "1  202581.997812  \n",
       "2  199444.411362  "
      ]
     },
     "execution_count": 9,
     "metadata": {},
     "output_type": "execute_result"
    }
   ],
   "source": [
    "to_drop = ['index']\n",
    "df_pivot_reset.drop(to_drop, inplace=True, axis=1)\n",
    "df_pivot_reset"
   ]
  },
  {
   "cell_type": "markdown",
   "id": "32485d45",
   "metadata": {},
   "source": [
    "###  <font color=blue>**Visualisations**</font>"
   ]
  },
  {
   "cell_type": "code",
   "execution_count": 10,
   "id": "3b32d0b2",
   "metadata": {},
   "outputs": [],
   "source": [
    "%matplotlib inline"
   ]
  },
  {
   "cell_type": "code",
   "execution_count": 11,
   "id": "54ac3dcb",
   "metadata": {},
   "outputs": [],
   "source": [
    "import matplotlib.pyplot as plt\n",
    "import matplotlib.colors as mcolors"
   ]
  },
  {
   "cell_type": "markdown",
   "id": "c2bb3944",
   "metadata": {},
   "source": [
    "#### <div class=\"alert alert-warning\"> Average Milk Production in Ireland</div>"
   ]
  },
  {
   "cell_type": "code",
   "execution_count": 12,
   "id": "99d3e4fe",
   "metadata": {},
   "outputs": [
    {
     "data": {
      "image/png": "[encoded data removed]",
      "text/plain": [
       "<Figure size 432x288 with 1 Axes>"
      ]
     },
     "metadata": {
      "needs_background": "light"
     },
     "output_type": "display_data"
    }
   ],
   "source": [
    "x = list(df_pivot_reset.Year)\n",
    "y = list(df_pivot_reset.mean_rows)\n",
    "plt.bar(x,y, color='blue')\n",
    "plt.title('Average Milk Production in Ireland for 2020-2022', color='red')\n",
    "plt.xlabel('Year', color='red')\n",
    "plt.ylabel('Mean', color='red')\n",
    "plt.show()"
   ]
  },
  {
   "cell_type": "markdown",
   "id": "ec9a347e",
   "metadata": {},
   "source": [
    "#### <div class=\"alert alert-warning\"> Median of Milk Production in Ireland for 2020-2022</div>"
   ]
  },
  {
   "cell_type": "code",
   "execution_count": 13,
   "id": "acd23c8b",
   "metadata": {},
   "outputs": [
    {
     "data": {
      "image/png": "[encoded data removed]",
      "text/plain": [
       "<Figure size 432x288 with 1 Axes>"
      ]
     },
     "metadata": {
      "needs_background": "light"
     },
     "output_type": "display_data"
    }
   ],
   "source": [
    "x = list(df_pivot_reset.Year)\n",
    "y = list(df_pivot_reset.median_rows)\n",
    "plt.bar(x,y, color='green')\n",
    "plt.title('Milk Production in Ireland Median for 2020-2022', color='red')\n",
    "plt.xlabel('Year', color='red')\n",
    "plt.xticks(rotation=90)\n",
    "plt.ylabel('Median', color='red')\n",
    "plt.show()"
   ]
  },
  {
   "cell_type": "markdown",
   "id": "40167b8a",
   "metadata": {},
   "source": [
    "#### <div class=\"alert alert-warning\"> Variance of Milk Production in Ireland for 2020-2022</div>\n"
   ]
  },
  {
   "cell_type": "code",
   "execution_count": 14,
   "id": "fb45529f",
   "metadata": {},
   "outputs": [
    {
     "data": {
      "image/png": "[encoded data removed]",
      "text/plain": [
       "<Figure size 432x288 with 1 Axes>"
      ]
     },
     "metadata": {
      "needs_background": "light"
     },
     "output_type": "display_data"
    }
   ],
   "source": [
    "x = list(df_pivot_reset.Year)\n",
    "y = list(df_pivot_reset.variance_rows)\n",
    "plt.bar(x,y, color='purple')\n",
    "plt.title('Milk Production Variance in Ireland  for 2020-2022', color='red')\n",
    "plt.xlabel('Year', color='red')\n",
    "plt.xticks(rotation=90)\n",
    "plt.ylabel('Variance', color='red')\n",
    "plt.show()"
   ]
  },
  {
   "cell_type": "code",
   "execution_count": 15,
   "id": "b61d772f",
   "metadata": {},
   "outputs": [
    {
     "data": {
      "image/png": "[encoded data removed]",
      "text/plain": [
       "<Figure size 1080x360 with 1 Axes>"
      ]
     },
     "metadata": {},
     "output_type": "display_data"
    }
   ],
   "source": [
    "plot = df_pivot_reset.plot.pie(y='mean_rows', figsize=(15, 5), fontsize=9, legend=False, rotatelabels=True, autopct='%1.1f%%', colors=mcolors.TABLEAU_COLORS)\n",
    "plt.title('Average Milk Production in Ireland for 2020-2022', weight='bold', size=15, color= 'red')\n",
    "plt.subplots_adjust(left=0.0, bottom=0.1, right=0.85)\n",
    "plt.legend(['2020', '2021', '2022']);\n",
    "\n",
    "plt.show()\n",
    "plt.clf()\n",
    "plt.close()"
   ]
  },
  {
   "cell_type": "code",
   "execution_count": 16,
   "id": "e8bf3373",
   "metadata": {},
   "outputs": [
    {
     "data": {
      "image/png": "[encoded data removed]",
      "text/plain": [
       "<Figure size 432x288 with 1 Axes>"
      ]
     },
     "metadata": {
      "needs_background": "light"
     },
     "output_type": "display_data"
    }
   ],
   "source": [
    "#scaterplot\n",
    "sns.scatterplot(data=ds_melted, x='Month', y='Amount', alpha=0.7, hue='Year')\n",
    "plt.xticks(rotation=90)\n",
    "plt.title('Box plot Ireland Milk Production 2020-2022', fontsize=15, color='red'); "
   ]
  },
  {
   "cell_type": "code",
   "execution_count": 17,
   "id": "a2c70959",
   "metadata": {},
   "outputs": [
    {
     "data": {
      "image/png": "[encoded data removed]",
      "text/plain": [
       "<Figure size 432x288 with 1 Axes>"
      ]
     },
     "metadata": {
      "needs_background": "light"
     },
     "output_type": "display_data"
    }
   ],
   "source": [
    "## trying to create a box plot\n",
    "sns.boxplot(x='Year', y='Amount', data=ds_melted, hue = 'Year')\n",
    "plt.title('Box plot Ireland Milk Production 2020-2022', fontsize=15, color='red')\n",
    "plt.legend(bbox_to_anchor=(1.05, 1), loc='upper left', borderaxespad=0);"
   ]
  },
  {
   "cell_type": "code",
   "execution_count": 18,
   "id": "8828220d",
   "metadata": {},
   "outputs": [
    {
     "data": {
      "image/png": "[encoded data removed]",
      "text/plain": [
       "<Figure size 1080x1080 with 16 Axes>"
      ]
     },
     "metadata": {
      "needs_background": "light"
     },
     "output_type": "display_data"
    }
   ],
   "source": [
    "df_pivot_reset.hist(bins=10, figsize=(15,15))\n",
    "plt.show()"
   ]
  },
  {
   "cell_type": "markdown",
   "id": "d1ba6f64",
   "metadata": {},
   "source": [
    "###  <font color=blue>**Inferential Statistics**</font>"
   ]
  },
  {
   "cell_type": "markdown",
   "id": "3aad62ab",
   "metadata": {},
   "source": [
    "#### **T-Test, one population"
   ]
  },
  {
   "cell_type": "markdown",
   "id": "ad5aa928",
   "metadata": {},
   "source": [
    "I am interested to test the average Milk produced in million litres or Tonnes in Ireland using T-Test. The mean of the amount of milk produced in Ireland for 2011 to 2021 was 7003 million litres from Eurostat data (Statistics EU Milk Production - IPNYB file). I want to compare and verify if the mean of the dataset I used above will give the same value. At a 5% significance level, I want to test amounts from 2021."
   ]
  },
  {
   "cell_type": "code",
   "execution_count": 19,
   "id": "dbd213fe",
   "metadata": {},
   "outputs": [],
   "source": [
    "import statsmodels.api as sm\n",
    "from statsmodels.formula.api import ols\n",
    "from scipy import stats\n",
    "import scipy as scipy\n",
    "import pandas as pd\n",
    "\n",
    "import scipy.stats as stats\n",
    "from statsmodels.stats import weightstats\n",
    "\n",
    "from scipy.stats import levene"
   ]
  },
  {
   "cell_type": "code",
   "execution_count": 49,
   "id": "951c016d",
   "metadata": {},
   "outputs": [],
   "source": [
    "ds_melted=pd.read_csv('Ireland_Milk_melted.csv')"
   ]
  },
  {
   "cell_type": "code",
   "execution_count": 50,
   "id": "410b117b",
   "metadata": {},
   "outputs": [
    {
     "data": {
      "text/html": [
       "<div>\n",
       "<style scoped>\n",
       "    .dataframe tbody tr th:only-of-type {\n",
       "        vertical-align: middle;\n",
       "    }\n",
       "\n",
       "    .dataframe tbody tr th {\n",
       "        vertical-align: top;\n",
       "    }\n",
       "\n",
       "    .dataframe thead th {\n",
       "        text-align: right;\n",
       "    }\n",
       "</style>\n",
       "<table border=\"1\" class=\"dataframe\">\n",
       "  <thead>\n",
       "    <tr style=\"text-align: right;\">\n",
       "      <th></th>\n",
       "      <th>Year</th>\n",
       "      <th>Month</th>\n",
       "      <th>Amount</th>\n",
       "    </tr>\n",
       "  </thead>\n",
       "  <tbody>\n",
       "    <tr>\n",
       "      <th>0</th>\n",
       "      <td>2020</td>\n",
       "      <td>January</td>\n",
       "      <td>176.2</td>\n",
       "    </tr>\n",
       "    <tr>\n",
       "      <th>1</th>\n",
       "      <td>2021</td>\n",
       "      <td>January</td>\n",
       "      <td>182.2</td>\n",
       "    </tr>\n",
       "    <tr>\n",
       "      <th>2</th>\n",
       "      <td>2022</td>\n",
       "      <td>January</td>\n",
       "      <td>183.3</td>\n",
       "    </tr>\n",
       "    <tr>\n",
       "      <th>3</th>\n",
       "      <td>2020</td>\n",
       "      <td>February</td>\n",
       "      <td>331.7</td>\n",
       "    </tr>\n",
       "    <tr>\n",
       "      <th>4</th>\n",
       "      <td>2021</td>\n",
       "      <td>February</td>\n",
       "      <td>352.4</td>\n",
       "    </tr>\n",
       "    <tr>\n",
       "      <th>5</th>\n",
       "      <td>2022</td>\n",
       "      <td>February</td>\n",
       "      <td>367.5</td>\n",
       "    </tr>\n",
       "    <tr>\n",
       "      <th>6</th>\n",
       "      <td>2020</td>\n",
       "      <td>March</td>\n",
       "      <td>725.7</td>\n",
       "    </tr>\n",
       "    <tr>\n",
       "      <th>7</th>\n",
       "      <td>2021</td>\n",
       "      <td>March</td>\n",
       "      <td>829.7</td>\n",
       "    </tr>\n",
       "    <tr>\n",
       "      <th>8</th>\n",
       "      <td>2022</td>\n",
       "      <td>March</td>\n",
       "      <td>808.6</td>\n",
       "    </tr>\n",
       "    <tr>\n",
       "      <th>9</th>\n",
       "      <td>2020</td>\n",
       "      <td>April</td>\n",
       "      <td>982.7</td>\n",
       "    </tr>\n",
       "    <tr>\n",
       "      <th>10</th>\n",
       "      <td>2021</td>\n",
       "      <td>April</td>\n",
       "      <td>1060.5</td>\n",
       "    </tr>\n",
       "    <tr>\n",
       "      <th>11</th>\n",
       "      <td>2022</td>\n",
       "      <td>April</td>\n",
       "      <td>1054.6</td>\n",
       "    </tr>\n",
       "    <tr>\n",
       "      <th>12</th>\n",
       "      <td>2020</td>\n",
       "      <td>May</td>\n",
       "      <td>1115.3</td>\n",
       "    </tr>\n",
       "    <tr>\n",
       "      <th>13</th>\n",
       "      <td>2021</td>\n",
       "      <td>May</td>\n",
       "      <td>1181.0</td>\n",
       "    </tr>\n",
       "    <tr>\n",
       "      <th>14</th>\n",
       "      <td>2022</td>\n",
       "      <td>May</td>\n",
       "      <td>1166.0</td>\n",
       "    </tr>\n",
       "    <tr>\n",
       "      <th>15</th>\n",
       "      <td>2020</td>\n",
       "      <td>June</td>\n",
       "      <td>1031.0</td>\n",
       "    </tr>\n",
       "    <tr>\n",
       "      <th>16</th>\n",
       "      <td>2021</td>\n",
       "      <td>June</td>\n",
       "      <td>1067.3</td>\n",
       "    </tr>\n",
       "    <tr>\n",
       "      <th>17</th>\n",
       "      <td>2022</td>\n",
       "      <td>June</td>\n",
       "      <td>1057.6</td>\n",
       "    </tr>\n",
       "    <tr>\n",
       "      <th>18</th>\n",
       "      <td>2020</td>\n",
       "      <td>July</td>\n",
       "      <td>985.0</td>\n",
       "    </tr>\n",
       "    <tr>\n",
       "      <th>19</th>\n",
       "      <td>2021</td>\n",
       "      <td>July</td>\n",
       "      <td>1017.3</td>\n",
       "    </tr>\n",
       "    <tr>\n",
       "      <th>20</th>\n",
       "      <td>2022</td>\n",
       "      <td>July</td>\n",
       "      <td>1022.8</td>\n",
       "    </tr>\n",
       "    <tr>\n",
       "      <th>21</th>\n",
       "      <td>2020</td>\n",
       "      <td>August</td>\n",
       "      <td>867.6</td>\n",
       "    </tr>\n",
       "    <tr>\n",
       "      <th>22</th>\n",
       "      <td>2021</td>\n",
       "      <td>August</td>\n",
       "      <td>917.4</td>\n",
       "    </tr>\n",
       "    <tr>\n",
       "      <th>23</th>\n",
       "      <td>2022</td>\n",
       "      <td>August</td>\n",
       "      <td>919.0</td>\n",
       "    </tr>\n",
       "    <tr>\n",
       "      <th>24</th>\n",
       "      <td>2020</td>\n",
       "      <td>September</td>\n",
       "      <td>725.4</td>\n",
       "    </tr>\n",
       "    <tr>\n",
       "      <th>25</th>\n",
       "      <td>2021</td>\n",
       "      <td>September</td>\n",
       "      <td>776.7</td>\n",
       "    </tr>\n",
       "    <tr>\n",
       "      <th>26</th>\n",
       "      <td>2022</td>\n",
       "      <td>September</td>\n",
       "      <td>785.6</td>\n",
       "    </tr>\n",
       "    <tr>\n",
       "      <th>27</th>\n",
       "      <td>2020</td>\n",
       "      <td>October</td>\n",
       "      <td>646.8</td>\n",
       "    </tr>\n",
       "    <tr>\n",
       "      <th>28</th>\n",
       "      <td>2021</td>\n",
       "      <td>October</td>\n",
       "      <td>649.6</td>\n",
       "    </tr>\n",
       "    <tr>\n",
       "      <th>29</th>\n",
       "      <td>2022</td>\n",
       "      <td>October</td>\n",
       "      <td>698.5</td>\n",
       "    </tr>\n",
       "    <tr>\n",
       "      <th>30</th>\n",
       "      <td>2020</td>\n",
       "      <td>November</td>\n",
       "      <td>449.8</td>\n",
       "    </tr>\n",
       "    <tr>\n",
       "      <th>31</th>\n",
       "      <td>2021</td>\n",
       "      <td>November</td>\n",
       "      <td>465.9</td>\n",
       "    </tr>\n",
       "    <tr>\n",
       "      <th>32</th>\n",
       "      <td>2022</td>\n",
       "      <td>November</td>\n",
       "      <td>465.9</td>\n",
       "    </tr>\n",
       "    <tr>\n",
       "      <th>33</th>\n",
       "      <td>2020</td>\n",
       "      <td>December</td>\n",
       "      <td>258.8</td>\n",
       "    </tr>\n",
       "    <tr>\n",
       "      <th>34</th>\n",
       "      <td>2021</td>\n",
       "      <td>December</td>\n",
       "      <td>258.5</td>\n",
       "    </tr>\n",
       "    <tr>\n",
       "      <th>35</th>\n",
       "      <td>2022</td>\n",
       "      <td>December</td>\n",
       "      <td>258.5</td>\n",
       "    </tr>\n",
       "  </tbody>\n",
       "</table>\n",
       "</div>"
      ],
      "text/plain": [
       "    Year      Month  Amount\n",
       "0   2020    January   176.2\n",
       "1   2021    January   182.2\n",
       "2   2022    January   183.3\n",
       "3   2020   February   331.7\n",
       "4   2021   February   352.4\n",
       "5   2022   February   367.5\n",
       "6   2020      March   725.7\n",
       "7   2021      March   829.7\n",
       "8   2022      March   808.6\n",
       "9   2020      April   982.7\n",
       "10  2021      April  1060.5\n",
       "11  2022      April  1054.6\n",
       "12  2020        May  1115.3\n",
       "13  2021        May  1181.0\n",
       "14  2022        May  1166.0\n",
       "15  2020       June  1031.0\n",
       "16  2021       June  1067.3\n",
       "17  2022       June  1057.6\n",
       "18  2020       July   985.0\n",
       "19  2021       July  1017.3\n",
       "20  2022       July  1022.8\n",
       "21  2020     August   867.6\n",
       "22  2021     August   917.4\n",
       "23  2022     August   919.0\n",
       "24  2020  September   725.4\n",
       "25  2021  September   776.7\n",
       "26  2022  September   785.6\n",
       "27  2020    October   646.8\n",
       "28  2021    October   649.6\n",
       "29  2022    October   698.5\n",
       "30  2020   November   449.8\n",
       "31  2021   November   465.9\n",
       "32  2022   November   465.9\n",
       "33  2020   December   258.8\n",
       "34  2021   December   258.5\n",
       "35  2022   December   258.5"
      ]
     },
     "execution_count": 50,
     "metadata": {},
     "output_type": "execute_result"
    }
   ],
   "source": [
    "ds_melted"
   ]
  },
  {
   "cell_type": "code",
   "execution_count": 51,
   "id": "5b7476e7",
   "metadata": {},
   "outputs": [
    {
     "data": {
      "text/html": [
       "<div>\n",
       "<style scoped>\n",
       "    .dataframe tbody tr th:only-of-type {\n",
       "        vertical-align: middle;\n",
       "    }\n",
       "\n",
       "    .dataframe tbody tr th {\n",
       "        vertical-align: top;\n",
       "    }\n",
       "\n",
       "    .dataframe thead th {\n",
       "        text-align: right;\n",
       "    }\n",
       "</style>\n",
       "<table border=\"1\" class=\"dataframe\">\n",
       "  <thead>\n",
       "    <tr style=\"text-align: right;\">\n",
       "      <th></th>\n",
       "      <th>Year</th>\n",
       "      <th>Month</th>\n",
       "      <th>Amount</th>\n",
       "    </tr>\n",
       "  </thead>\n",
       "  <tbody>\n",
       "  </tbody>\n",
       "</table>\n",
       "</div>"
      ],
      "text/plain": [
       "Empty DataFrame\n",
       "Columns: [Year, Month, Amount]\n",
       "Index: []"
      ]
     },
     "execution_count": 51,
     "metadata": {},
     "output_type": "execute_result"
    }
   ],
   "source": [
    "DS_Ireland= ds_melted[ds_melted['Year']=='2021']\n",
    "DS_Ireland"
   ]
  },
  {
   "cell_type": "code",
   "execution_count": 52,
   "id": "4c8e1767",
   "metadata": {},
   "outputs": [
    {
     "name": "stdout",
     "output_type": "stream",
     "text": [
      "<class 'pandas.core.frame.DataFrame'>\n",
      "RangeIndex: 36 entries, 0 to 35\n",
      "Data columns (total 3 columns):\n",
      " #   Column  Non-Null Count  Dtype  \n",
      "---  ------  --------------  -----  \n",
      " 0   Year    36 non-null     int64  \n",
      " 1   Month   36 non-null     object \n",
      " 2   Amount  36 non-null     float64\n",
      "dtypes: float64(1), int64(1), object(1)\n",
      "memory usage: 992.0+ bytes\n"
     ]
    }
   ],
   "source": [
    "ds_melted.info()"
   ]
  },
  {
   "cell_type": "markdown",
   "id": "a08a061c",
   "metadata": {},
   "source": [
    "Output was not giving me any data when I tried to locate data for year 2021 because 2021 is an integer. I will have to convert 'Year' from integer to string"
   ]
  },
  {
   "cell_type": "code",
   "execution_count": 53,
   "id": "b490eb8c",
   "metadata": {},
   "outputs": [],
   "source": [
    "ds_melted['Year']=ds_melted['Year'].astype(str)"
   ]
  },
  {
   "cell_type": "code",
   "execution_count": 54,
   "id": "6081865f",
   "metadata": {},
   "outputs": [
    {
     "name": "stdout",
     "output_type": "stream",
     "text": [
      "<class 'pandas.core.frame.DataFrame'>\n",
      "RangeIndex: 36 entries, 0 to 35\n",
      "Data columns (total 3 columns):\n",
      " #   Column  Non-Null Count  Dtype  \n",
      "---  ------  --------------  -----  \n",
      " 0   Year    36 non-null     object \n",
      " 1   Month   36 non-null     object \n",
      " 2   Amount  36 non-null     float64\n",
      "dtypes: float64(1), object(2)\n",
      "memory usage: 992.0+ bytes\n"
     ]
    }
   ],
   "source": [
    "ds_melted.info()"
   ]
  },
  {
   "cell_type": "code",
   "execution_count": 55,
   "id": "06eaf220",
   "metadata": {},
   "outputs": [
    {
     "data": {
      "text/html": [
       "<div>\n",
       "<style scoped>\n",
       "    .dataframe tbody tr th:only-of-type {\n",
       "        vertical-align: middle;\n",
       "    }\n",
       "\n",
       "    .dataframe tbody tr th {\n",
       "        vertical-align: top;\n",
       "    }\n",
       "\n",
       "    .dataframe thead th {\n",
       "        text-align: right;\n",
       "    }\n",
       "</style>\n",
       "<table border=\"1\" class=\"dataframe\">\n",
       "  <thead>\n",
       "    <tr style=\"text-align: right;\">\n",
       "      <th></th>\n",
       "      <th>Year</th>\n",
       "      <th>Month</th>\n",
       "      <th>Amount</th>\n",
       "    </tr>\n",
       "  </thead>\n",
       "  <tbody>\n",
       "    <tr>\n",
       "      <th>1</th>\n",
       "      <td>2021</td>\n",
       "      <td>January</td>\n",
       "      <td>182.2</td>\n",
       "    </tr>\n",
       "    <tr>\n",
       "      <th>4</th>\n",
       "      <td>2021</td>\n",
       "      <td>February</td>\n",
       "      <td>352.4</td>\n",
       "    </tr>\n",
       "    <tr>\n",
       "      <th>7</th>\n",
       "      <td>2021</td>\n",
       "      <td>March</td>\n",
       "      <td>829.7</td>\n",
       "    </tr>\n",
       "    <tr>\n",
       "      <th>10</th>\n",
       "      <td>2021</td>\n",
       "      <td>April</td>\n",
       "      <td>1060.5</td>\n",
       "    </tr>\n",
       "    <tr>\n",
       "      <th>13</th>\n",
       "      <td>2021</td>\n",
       "      <td>May</td>\n",
       "      <td>1181.0</td>\n",
       "    </tr>\n",
       "    <tr>\n",
       "      <th>16</th>\n",
       "      <td>2021</td>\n",
       "      <td>June</td>\n",
       "      <td>1067.3</td>\n",
       "    </tr>\n",
       "    <tr>\n",
       "      <th>19</th>\n",
       "      <td>2021</td>\n",
       "      <td>July</td>\n",
       "      <td>1017.3</td>\n",
       "    </tr>\n",
       "    <tr>\n",
       "      <th>22</th>\n",
       "      <td>2021</td>\n",
       "      <td>August</td>\n",
       "      <td>917.4</td>\n",
       "    </tr>\n",
       "    <tr>\n",
       "      <th>25</th>\n",
       "      <td>2021</td>\n",
       "      <td>September</td>\n",
       "      <td>776.7</td>\n",
       "    </tr>\n",
       "    <tr>\n",
       "      <th>28</th>\n",
       "      <td>2021</td>\n",
       "      <td>October</td>\n",
       "      <td>649.6</td>\n",
       "    </tr>\n",
       "    <tr>\n",
       "      <th>31</th>\n",
       "      <td>2021</td>\n",
       "      <td>November</td>\n",
       "      <td>465.9</td>\n",
       "    </tr>\n",
       "    <tr>\n",
       "      <th>34</th>\n",
       "      <td>2021</td>\n",
       "      <td>December</td>\n",
       "      <td>258.5</td>\n",
       "    </tr>\n",
       "  </tbody>\n",
       "</table>\n",
       "</div>"
      ],
      "text/plain": [
       "    Year      Month  Amount\n",
       "1   2021    January   182.2\n",
       "4   2021   February   352.4\n",
       "7   2021      March   829.7\n",
       "10  2021      April  1060.5\n",
       "13  2021        May  1181.0\n",
       "16  2021       June  1067.3\n",
       "19  2021       July  1017.3\n",
       "22  2021     August   917.4\n",
       "25  2021  September   776.7\n",
       "28  2021    October   649.6\n",
       "31  2021   November   465.9\n",
       "34  2021   December   258.5"
      ]
     },
     "execution_count": 55,
     "metadata": {},
     "output_type": "execute_result"
    }
   ],
   "source": [
    "DS_Ireland= ds_melted[ds_melted['Year']=='2021']\n",
    "DS_Ireland"
   ]
  },
  {
   "cell_type": "code",
   "execution_count": 56,
   "id": "658044e0",
   "metadata": {},
   "outputs": [
    {
     "data": {
      "text/plain": [
       "1      182.2\n",
       "4      352.4\n",
       "7      829.7\n",
       "10    1060.5\n",
       "13    1181.0\n",
       "16    1067.3\n",
       "19    1017.3\n",
       "22     917.4\n",
       "25     776.7\n",
       "28     649.6\n",
       "31     465.9\n",
       "34     258.5\n",
       "Name: Amount, dtype: float64"
      ]
     },
     "execution_count": 56,
     "metadata": {},
     "output_type": "execute_result"
    }
   ],
   "source": [
    "# x is the amount (in million litres) of milk produced and utilised in Ireland\n",
    "\n",
    "X= DS_Ireland['Amount']; X"
   ]
  },
  {
   "cell_type": "code",
   "execution_count": 58,
   "id": "9f5f8673",
   "metadata": {},
   "outputs": [
    {
     "data": {
      "text/plain": [
       "Ttest_1sampResult(statistic=-63.27586790192863, pvalue=1.902733717881739e-15)"
      ]
     },
     "execution_count": 58,
     "metadata": {},
     "output_type": "execute_result"
    }
   ],
   "source": [
    "#H0 : u = 7003\n",
    "#H1 : u =! 7003\n",
    "#stats.ttest_1samp(X,mu of H0)\n",
    "\n",
    "stats.ttest_1samp(X,7003)"
   ]
  },
  {
   "cell_type": "markdown",
   "id": "70d750fb",
   "metadata": {},
   "source": [
    "The P-value is less than 0.05, therefore, the null hypothesis is  rejected and the alternative hypothesis is accepted. There is enough evidence to say that the mean amount of milk produced in Ireland per year is not equal to 7003 Tonnes."
   ]
  },
  {
   "cell_type": "markdown",
   "id": "ee73b8f5",
   "metadata": {},
   "source": [
    "Now, I want to test if the mean amount of milk produced and utilised in Ireland per year is less than 7003 Tonnes. (n=12)"
   ]
  },
  {
   "cell_type": "code",
   "execution_count": 59,
   "id": "37af9895",
   "metadata": {},
   "outputs": [
    {
     "data": {
      "text/plain": [
       "0.9999999999999991"
      ]
     },
     "execution_count": 59,
     "metadata": {},
     "output_type": "execute_result"
    }
   ],
   "source": [
    "#H0 : u < 7003\n",
    "#H1 : u > 7003\n",
    "stats.t.sf(-63.27586790192863, 11)"
   ]
  },
  {
   "cell_type": "markdown",
   "id": "92bee7d5",
   "metadata": {},
   "source": [
    "The p-value I got is more than 0.05, therefore, I accept the null hypothesis. There is enough evidence to say that the mean amount of milk produced and utilised in Ireland is less than 7003 million litres."
   ]
  },
  {
   "cell_type": "markdown",
   "id": "38432440",
   "metadata": {},
   "source": [
    "#### **ANOVA_oneway"
   ]
  },
  {
   "cell_type": "code",
   "execution_count": 60,
   "id": "d04dea2f",
   "metadata": {},
   "outputs": [
    {
     "data": {
      "image/png": "[encoded data removed]",
      "text/plain": [
       "<Figure size 432x288 with 1 Axes>"
      ]
     },
     "metadata": {
      "needs_background": "light"
     },
     "output_type": "display_data"
    },
    {
     "data": {
      "text/plain": [
       "<Figure size 432x288 with 0 Axes>"
      ]
     },
     "metadata": {},
     "output_type": "display_data"
    }
   ],
   "source": [
    "#Normality plot. The variable is \"Amount\"\n",
    "\n",
    "stats.probplot(DS_Ireland.Amount, plot=plt)\n",
    "plt.figure();"
   ]
  },
  {
   "cell_type": "code",
   "execution_count": 61,
   "id": "ae6f3dd4",
   "metadata": {},
   "outputs": [
    {
     "data": {
      "text/plain": [
       "ShapiroResult(statistic=0.9255388379096985, pvalue=0.33521193265914917)"
      ]
     },
     "execution_count": 61,
     "metadata": {},
     "output_type": "execute_result"
    }
   ],
   "source": [
    "#Shapiro wilk test to test Normality\n",
    "\n",
    "stats.shapiro(DS_Ireland.Amount)"
   ]
  },
  {
   "cell_type": "markdown",
   "id": "2603dff6",
   "metadata": {},
   "source": [
    "The p-value is greater than 0.05,therefore, the null hypothesis cannot be rejected. There is enough evidence that the data came from a normally distributed population."
   ]
  },
  {
   "cell_type": "code",
   "execution_count": 64,
   "id": "d0f8b9f4",
   "metadata": {},
   "outputs": [
    {
     "data": {
      "text/plain": [
       "182.2     1\n",
       "352.4     1\n",
       "829.7     1\n",
       "1060.5    1\n",
       "1181.0    1\n",
       "1067.3    1\n",
       "1017.3    1\n",
       "917.4     1\n",
       "776.7     1\n",
       "649.6     1\n",
       "465.9     1\n",
       "258.5     1\n",
       "Name: Amount, dtype: int64"
      ]
     },
     "execution_count": 64,
     "metadata": {},
     "output_type": "execute_result"
    }
   ],
   "source": [
    "DS_Ireland['Amount'].value_counts()"
   ]
  },
  {
   "cell_type": "code",
   "execution_count": 75,
   "id": "66bd104c",
   "metadata": {},
   "outputs": [],
   "source": [
    "ds_ire_amount= DS_Ireland['Amount']"
   ]
  },
  {
   "cell_type": "code",
   "execution_count": 76,
   "id": "58e59a26",
   "metadata": {},
   "outputs": [
    {
     "data": {
      "text/plain": [
       "343.4285955293658"
      ]
     },
     "execution_count": 76,
     "metadata": {},
     "output_type": "execute_result"
    }
   ],
   "source": [
    "#Standard Deviation\n",
    "IE_sd = ds_ire_amount.std()\n",
    "IE_sd"
   ]
  },
  {
   "cell_type": "code",
   "execution_count": 71,
   "id": "d050135b",
   "metadata": {},
   "outputs": [],
   "source": [
    "\n"
   ]
  },
  {
   "cell_type": "code",
   "execution_count": 79,
   "id": "fcef0669",
   "metadata": {},
   "outputs": [
    {
     "ename": "ValueError",
     "evalue": "Must enter at least two input sample vectors.",
     "output_type": "error",
     "traceback": [
      "\u001b[1;31m---------------------------------------------------------------------------\u001b[0m",
      "\u001b[1;31mValueError\u001b[0m                                Traceback (most recent call last)",
      "Input \u001b[1;32mIn [79]\u001b[0m, in \u001b[0;36m<cell line: 1>\u001b[1;34m()\u001b[0m\n\u001b[1;32m----> 1\u001b[0m \u001b[43mlevene\u001b[49m\u001b[43m(\u001b[49m\u001b[43mds_ire_amount\u001b[49m\u001b[43m)\u001b[49m\n",
      "File \u001b[1;32m~\\anaconda3\\lib\\site-packages\\scipy\\stats\\morestats.py:2558\u001b[0m, in \u001b[0;36mlevene\u001b[1;34m(center, proportiontocut, *args)\u001b[0m\n\u001b[0;32m   2556\u001b[0m k \u001b[38;5;241m=\u001b[39m \u001b[38;5;28mlen\u001b[39m(args)\n\u001b[0;32m   2557\u001b[0m \u001b[38;5;28;01mif\u001b[39;00m k \u001b[38;5;241m<\u001b[39m \u001b[38;5;241m2\u001b[39m:\n\u001b[1;32m-> 2558\u001b[0m     \u001b[38;5;28;01mraise\u001b[39;00m \u001b[38;5;167;01mValueError\u001b[39;00m(\u001b[38;5;124m\"\u001b[39m\u001b[38;5;124mMust enter at least two input sample vectors.\u001b[39m\u001b[38;5;124m\"\u001b[39m)\n\u001b[0;32m   2559\u001b[0m \u001b[38;5;66;03m# check for 1d input\u001b[39;00m\n\u001b[0;32m   2560\u001b[0m \u001b[38;5;28;01mfor\u001b[39;00m j \u001b[38;5;129;01min\u001b[39;00m \u001b[38;5;28mrange\u001b[39m(k):\n",
      "\u001b[1;31mValueError\u001b[0m: Must enter at least two input sample vectors."
     ]
    }
   ],
   "source": []
  },
  {
   "cell_type": "code",
   "execution_count": null,
   "id": "9ed81ab0",
   "metadata": {},
   "outputs": [],
   "source": []
  }
 ],
 "metadata": {
  "kernelspec": {
   "display_name": "Python 3 (ipykernel)",
   "language": "python",
   "name": "python3"
  },
  "language_info": {
   "codemirror_mode": {
    "name": "ipython",
    "version": 3
   },
   "file_extension": ".py",
   "mimetype": "text/x-python",
   "name": "python",
   "nbconvert_exporter": "python",
   "pygments_lexer": "ipython3",
   "version": "3.9.12"
  }
 },
 "nbformat": 4,
 "nbformat_minor": 5
}
