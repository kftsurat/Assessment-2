{
 "cells": [
  {
   "cell_type": "markdown",
   "metadata": {},
   "source": [
    "# INTERACTIVE VISUALIZATION"
   ]
  },
  {
   "cell_type": "markdown",
   "metadata": {},
   "source": [
    "## Getting Started with Interactive Data Visualizations"
   ]
  },
  {
   "cell_type": "code",
   "execution_count": 1,
   "metadata": {},
   "outputs": [],
   "source": [
    "import pandas as pd\n",
    "import numpy as np"
   ]
  },
  {
   "cell_type": "code",
   "execution_count": 2,
   "metadata": {
    "scrolled": true
   },
   "outputs": [
    {
     "data": {
      "text/html": [
       "<div>\n",
       "<style scoped>\n",
       "    .dataframe tbody tr th:only-of-type {\n",
       "        vertical-align: middle;\n",
       "    }\n",
       "\n",
       "    .dataframe tbody tr th {\n",
       "        vertical-align: top;\n",
       "    }\n",
       "\n",
       "    .dataframe thead th {\n",
       "        text-align: right;\n",
       "    }\n",
       "</style>\n",
       "<table border=\"1\" class=\"dataframe\">\n",
       "  <thead>\n",
       "    <tr style=\"text-align: right;\">\n",
       "      <th></th>\n",
       "      <th>Country</th>\n",
       "      <th>Year</th>\n",
       "      <th>Milk Produced</th>\n",
       "      <th>Number of Dairy Cows</th>\n",
       "    </tr>\n",
       "  </thead>\n",
       "  <tbody>\n",
       "    <tr>\n",
       "      <th>0</th>\n",
       "      <td>Belgium</td>\n",
       "      <td>2011</td>\n",
       "      <td>3151.00</td>\n",
       "      <td>510.65</td>\n",
       "    </tr>\n",
       "    <tr>\n",
       "      <th>1</th>\n",
       "      <td>Bulgaria</td>\n",
       "      <td>2011</td>\n",
       "      <td>1126.00</td>\n",
       "      <td>313.18</td>\n",
       "    </tr>\n",
       "    <tr>\n",
       "      <th>2</th>\n",
       "      <td>Czechia</td>\n",
       "      <td>2011</td>\n",
       "      <td>2735.93</td>\n",
       "      <td>374.07</td>\n",
       "    </tr>\n",
       "    <tr>\n",
       "      <th>3</th>\n",
       "      <td>Denmark</td>\n",
       "      <td>2011</td>\n",
       "      <td>4879.50</td>\n",
       "      <td>579.00</td>\n",
       "    </tr>\n",
       "    <tr>\n",
       "      <th>4</th>\n",
       "      <td>Germany</td>\n",
       "      <td>2011</td>\n",
       "      <td>30301.36</td>\n",
       "      <td>4190.10</td>\n",
       "    </tr>\n",
       "  </tbody>\n",
       "</table>\n",
       "</div>"
      ],
      "text/plain": [
       "    Country  Year  Milk Produced  Number of Dairy Cows\n",
       "0   Belgium  2011        3151.00                510.65\n",
       "1  Bulgaria  2011        1126.00                313.18\n",
       "2   Czechia  2011        2735.93                374.07\n",
       "3   Denmark  2011        4879.50                579.00\n",
       "4   Germany  2011       30301.36               4190.10"
      ]
     },
     "execution_count": 2,
     "metadata": {},
     "output_type": "execute_result"
    }
   ],
   "source": [
    "data = pd.read_csv('Milk_Bovine.csv')\n",
    "data.head()"
   ]
  },
  {
   "cell_type": "code",
   "execution_count": 3,
   "metadata": {},
   "outputs": [
    {
     "data": {
      "text/plain": [
       "array([[1.        , 0.98177007],\n",
       "       [0.98177007, 1.        ]])"
      ]
     },
     "execution_count": 3,
     "metadata": {},
     "output_type": "execute_result"
    }
   ],
   "source": [
    "np_cow = np.array(data['Number of Dairy Cows'])\n",
    "np_milk = np.array(data['Milk Produced'])\n",
    "np.corrcoef(np_cow, np_milk)"
   ]
  },
  {
   "cell_type": "code",
   "execution_count": 4,
   "metadata": {},
   "outputs": [],
   "source": [
    "from bokeh.io import curdoc, output_notebook\n",
    "from bokeh.plotting import figure, show\n",
    "from bokeh.models import HoverTool, ColumnDataSource, CategoricalColorMapper, Slider\n",
    "from bokeh.palettes import Spectral6\n",
    "from bokeh.layouts import widgetbox, row"
   ]
  },
  {
   "cell_type": "code",
   "execution_count": 5,
   "metadata": {},
   "outputs": [
    {
     "data": {
      "text/html": [
       "\n",
       "    <div class=\"bk-root\">\n",
       "        <a href=\"https://bokeh.org\" target=\"_blank\" class=\"bk-logo bk-logo-small bk-logo-notebook\"></a>\n",
       "        <span id=\"1002\">Loading BokehJS ...</span>\n",
       "    </div>"
      ]
     },
     "metadata": {},
     "output_type": "display_data"
    },
    {
     "data": {
      "application/javascript": [
       "\n",
       "(function(root) {\n",
       "  function now() {\n",
       "    return new Date();\n",
       "  }\n",
       "\n",
       "  const force = true;\n",
       "\n",
       "  if (typeof root._bokeh_onload_callbacks === \"undefined\" || force === true) {\n",
       "    root._bokeh_onload_callbacks = [];\n",
       "    root._bokeh_is_loading = undefined;\n",
       "  }\n",
       "\n",
       "  const JS_MIME_TYPE = 'application/javascript';\n",
       "  const HTML_MIME_TYPE = 'text/html';\n",
       "  const EXEC_MIME_TYPE = 'application/vnd.bokehjs_exec.v0+json';\n",
       "  const CLASS_NAME = 'output_bokeh rendered_html';\n",
       "\n",
       "  /**\n",
       "   * Render data to the DOM node\n",
       "   */\n",
       "  function render(props, node) {\n",
       "    const script = document.createElement(\"script\");\n",
       "    node.appendChild(script);\n",
       "  }\n",
       "\n",
       "  /**\n",
       "   * Handle when an output is cleared or removed\n",
       "   */\n",
       "  function handleClearOutput(event, handle) {\n",
       "    const cell = handle.cell;\n",
       "\n",
       "    const id = cell.output_area._bokeh_element_id;\n",
       "    const server_id = cell.output_area._bokeh_server_id;\n",
       "    // Clean up Bokeh references\n",
       "    if (id != null && id in Bokeh.index) {\n",
       "      Bokeh.index[id].model.document.clear();\n",
       "      delete Bokeh.index[id];\n",
       "    }\n",
       "\n",
       "    if (server_id !== undefined) {\n",
       "      // Clean up Bokeh references\n",
       "      const cmd_clean = \"from bokeh.io.state import curstate; print(curstate().uuid_to_server['\" + server_id + \"'].get_sessions()[0].document.roots[0]._id)\";\n",
       "      cell.notebook.kernel.execute(cmd_clean, {\n",
       "        iopub: {\n",
       "          output: function(msg) {\n",
       "            const id = msg.content.text.trim();\n",
       "            if (id in Bokeh.index) {\n",
       "              Bokeh.index[id].model.document.clear();\n",
       "              delete Bokeh.index[id];\n",
       "            }\n",
       "          }\n",
       "        }\n",
       "      });\n",
       "      // Destroy server and session\n",
       "      const cmd_destroy = \"import bokeh.io.notebook as ion; ion.destroy_server('\" + server_id + \"')\";\n",
       "      cell.notebook.kernel.execute(cmd_destroy);\n",
       "    }\n",
       "  }\n",
       "\n",
       "  /**\n",
       "   * Handle when a new output is added\n",
       "   */\n",
       "  function handleAddOutput(event, handle) {\n",
       "    const output_area = handle.output_area;\n",
       "    const output = handle.output;\n",
       "\n",
       "    // limit handleAddOutput to display_data with EXEC_MIME_TYPE content only\n",
       "    if ((output.output_type != \"display_data\") || (!Object.prototype.hasOwnProperty.call(output.data, EXEC_MIME_TYPE))) {\n",
       "      return\n",
       "    }\n",
       "\n",
       "    const toinsert = output_area.element.find(\".\" + CLASS_NAME.split(' ')[0]);\n",
       "\n",
       "    if (output.metadata[EXEC_MIME_TYPE][\"id\"] !== undefined) {\n",
       "      toinsert[toinsert.length - 1].firstChild.textContent = output.data[JS_MIME_TYPE];\n",
       "      // store reference to embed id on output_area\n",
       "      output_area._bokeh_element_id = output.metadata[EXEC_MIME_TYPE][\"id\"];\n",
       "    }\n",
       "    if (output.metadata[EXEC_MIME_TYPE][\"server_id\"] !== undefined) {\n",
       "      const bk_div = document.createElement(\"div\");\n",
       "      bk_div.innerHTML = output.data[HTML_MIME_TYPE];\n",
       "      const script_attrs = bk_div.children[0].attributes;\n",
       "      for (let i = 0; i < script_attrs.length; i++) {\n",
       "        toinsert[toinsert.length - 1].firstChild.setAttribute(script_attrs[i].name, script_attrs[i].value);\n",
       "        toinsert[toinsert.length - 1].firstChild.textContent = bk_div.children[0].textContent\n",
       "      }\n",
       "      // store reference to server id on output_area\n",
       "      output_area._bokeh_server_id = output.metadata[EXEC_MIME_TYPE][\"server_id\"];\n",
       "    }\n",
       "  }\n",
       "\n",
       "  function register_renderer(events, OutputArea) {\n",
       "\n",
       "    function append_mime(data, metadata, element) {\n",
       "      // create a DOM node to render to\n",
       "      const toinsert = this.create_output_subarea(\n",
       "        metadata,\n",
       "        CLASS_NAME,\n",
       "        EXEC_MIME_TYPE\n",
       "      );\n",
       "      this.keyboard_manager.register_events(toinsert);\n",
       "      // Render to node\n",
       "      const props = {data: data, metadata: metadata[EXEC_MIME_TYPE]};\n",
       "      render(props, toinsert[toinsert.length - 1]);\n",
       "      element.append(toinsert);\n",
       "      return toinsert\n",
       "    }\n",
       "\n",
       "    /* Handle when an output is cleared or removed */\n",
       "    events.on('clear_output.CodeCell', handleClearOutput);\n",
       "    events.on('delete.Cell', handleClearOutput);\n",
       "\n",
       "    /* Handle when a new output is added */\n",
       "    events.on('output_added.OutputArea', handleAddOutput);\n",
       "\n",
       "    /**\n",
       "     * Register the mime type and append_mime function with output_area\n",
       "     */\n",
       "    OutputArea.prototype.register_mime_type(EXEC_MIME_TYPE, append_mime, {\n",
       "      /* Is output safe? */\n",
       "      safe: true,\n",
       "      /* Index of renderer in `output_area.display_order` */\n",
       "      index: 0\n",
       "    });\n",
       "  }\n",
       "\n",
       "  // register the mime type if in Jupyter Notebook environment and previously unregistered\n",
       "  if (root.Jupyter !== undefined) {\n",
       "    const events = require('base/js/events');\n",
       "    const OutputArea = require('notebook/js/outputarea').OutputArea;\n",
       "\n",
       "    if (OutputArea.prototype.mime_types().indexOf(EXEC_MIME_TYPE) == -1) {\n",
       "      register_renderer(events, OutputArea);\n",
       "    }\n",
       "  }\n",
       "\n",
       "  \n",
       "  if (typeof (root._bokeh_timeout) === \"undefined\" || force === true) {\n",
       "    root._bokeh_timeout = Date.now() + 5000;\n",
       "    root._bokeh_failed_load = false;\n",
       "  }\n",
       "\n",
       "  const NB_LOAD_WARNING = {'data': {'text/html':\n",
       "     \"<div style='background-color: #fdd'>\\n\"+\n",
       "     \"<p>\\n\"+\n",
       "     \"BokehJS does not appear to have successfully loaded. If loading BokehJS from CDN, this \\n\"+\n",
       "     \"may be due to a slow or bad network connection. Possible fixes:\\n\"+\n",
       "     \"</p>\\n\"+\n",
       "     \"<ul>\\n\"+\n",
       "     \"<li>re-rerun `output_notebook()` to attempt to load from CDN again, or</li>\\n\"+\n",
       "     \"<li>use INLINE resources instead, as so:</li>\\n\"+\n",
       "     \"</ul>\\n\"+\n",
       "     \"<code>\\n\"+\n",
       "     \"from bokeh.resources import INLINE\\n\"+\n",
       "     \"output_notebook(resources=INLINE)\\n\"+\n",
       "     \"</code>\\n\"+\n",
       "     \"</div>\"}};\n",
       "\n",
       "  function display_loaded() {\n",
       "    const el = document.getElementById(\"1002\");\n",
       "    if (el != null) {\n",
       "      el.textContent = \"BokehJS is loading...\";\n",
       "    }\n",
       "    if (root.Bokeh !== undefined) {\n",
       "      if (el != null) {\n",
       "        el.textContent = \"BokehJS \" + root.Bokeh.version + \" successfully loaded.\";\n",
       "      }\n",
       "    } else if (Date.now() < root._bokeh_timeout) {\n",
       "      setTimeout(display_loaded, 100)\n",
       "    }\n",
       "  }\n",
       "\n",
       "\n",
       "  function run_callbacks() {\n",
       "    try {\n",
       "      root._bokeh_onload_callbacks.forEach(function(callback) {\n",
       "        if (callback != null)\n",
       "          callback();\n",
       "      });\n",
       "    } finally {\n",
       "      delete root._bokeh_onload_callbacks\n",
       "    }\n",
       "    console.debug(\"Bokeh: all callbacks have finished\");\n",
       "  }\n",
       "\n",
       "  function load_libs(css_urls, js_urls, callback) {\n",
       "    if (css_urls == null) css_urls = [];\n",
       "    if (js_urls == null) js_urls = [];\n",
       "\n",
       "    root._bokeh_onload_callbacks.push(callback);\n",
       "    if (root._bokeh_is_loading > 0) {\n",
       "      console.debug(\"Bokeh: BokehJS is being loaded, scheduling callback at\", now());\n",
       "      return null;\n",
       "    }\n",
       "    if (js_urls == null || js_urls.length === 0) {\n",
       "      run_callbacks();\n",
       "      return null;\n",
       "    }\n",
       "    console.debug(\"Bokeh: BokehJS not loaded, scheduling load and callback at\", now());\n",
       "    root._bokeh_is_loading = css_urls.length + js_urls.length;\n",
       "\n",
       "    function on_load() {\n",
       "      root._bokeh_is_loading--;\n",
       "      if (root._bokeh_is_loading === 0) {\n",
       "        console.debug(\"Bokeh: all BokehJS libraries/stylesheets loaded\");\n",
       "        run_callbacks()\n",
       "      }\n",
       "    }\n",
       "\n",
       "    function on_error(url) {\n",
       "      console.error(\"failed to load \" + url);\n",
       "    }\n",
       "\n",
       "    for (let i = 0; i < css_urls.length; i++) {\n",
       "      const url = css_urls[i];\n",
       "      const element = document.createElement(\"link\");\n",
       "      element.onload = on_load;\n",
       "      element.onerror = on_error.bind(null, url);\n",
       "      element.rel = \"stylesheet\";\n",
       "      element.type = \"text/css\";\n",
       "      element.href = url;\n",
       "      console.debug(\"Bokeh: injecting link tag for BokehJS stylesheet: \", url);\n",
       "      document.body.appendChild(element);\n",
       "    }\n",
       "\n",
       "    for (let i = 0; i < js_urls.length; i++) {\n",
       "      const url = js_urls[i];\n",
       "      const element = document.createElement('script');\n",
       "      element.onload = on_load;\n",
       "      element.onerror = on_error.bind(null, url);\n",
       "      element.async = false;\n",
       "      element.src = url;\n",
       "      console.debug(\"Bokeh: injecting script tag for BokehJS library: \", url);\n",
       "      document.head.appendChild(element);\n",
       "    }\n",
       "  };\n",
       "\n",
       "  function inject_raw_css(css) {\n",
       "    const element = document.createElement(\"style\");\n",
       "    element.appendChild(document.createTextNode(css));\n",
       "    document.body.appendChild(element);\n",
       "  }\n",
       "\n",
       "  \n",
       "  const js_urls = [\"https://cdn.bokeh.org/bokeh/release/bokeh-2.4.2.min.js\", \"https://cdn.bokeh.org/bokeh/release/bokeh-gl-2.4.2.min.js\", \"https://cdn.bokeh.org/bokeh/release/bokeh-widgets-2.4.2.min.js\", \"https://cdn.bokeh.org/bokeh/release/bokeh-tables-2.4.2.min.js\", \"https://cdn.bokeh.org/bokeh/release/bokeh-mathjax-2.4.2.min.js\"];\n",
       "  const css_urls = [];\n",
       "  \n",
       "\n",
       "  const inline_js = [\n",
       "    function(Bokeh) {\n",
       "      Bokeh.set_log_level(\"info\");\n",
       "    },\n",
       "    function(Bokeh) {\n",
       "    \n",
       "    \n",
       "    }\n",
       "  ];\n",
       "\n",
       "  function run_inline_js() {\n",
       "    \n",
       "    if (root.Bokeh !== undefined || force === true) {\n",
       "      \n",
       "    for (let i = 0; i < inline_js.length; i++) {\n",
       "      inline_js[i].call(root, root.Bokeh);\n",
       "    }\n",
       "    if (force === true) {\n",
       "        display_loaded();\n",
       "      }} else if (Date.now() < root._bokeh_timeout) {\n",
       "      setTimeout(run_inline_js, 100);\n",
       "    } else if (!root._bokeh_failed_load) {\n",
       "      console.log(\"Bokeh: BokehJS failed to load within specified timeout.\");\n",
       "      root._bokeh_failed_load = true;\n",
       "    } else if (force !== true) {\n",
       "      const cell = $(document.getElementById(\"1002\")).parents('.cell').data().cell;\n",
       "      cell.output_area.append_execute_result(NB_LOAD_WARNING)\n",
       "    }\n",
       "\n",
       "  }\n",
       "\n",
       "  if (root._bokeh_is_loading === 0) {\n",
       "    console.debug(\"Bokeh: BokehJS loaded, going straight to plotting\");\n",
       "    run_inline_js();\n",
       "  } else {\n",
       "    load_libs(css_urls, js_urls, function() {\n",
       "      console.debug(\"Bokeh: BokehJS plotting callback run at\", now());\n",
       "      run_inline_js();\n",
       "    });\n",
       "  }\n",
       "}(window));"
      ],
      "application/vnd.bokehjs_load.v0+json": "\n(function(root) {\n  function now() {\n    return new Date();\n  }\n\n  const force = true;\n\n  if (typeof root._bokeh_onload_callbacks === \"undefined\" || force === true) {\n    root._bokeh_onload_callbacks = [];\n    root._bokeh_is_loading = undefined;\n  }\n\n  \n\n  \n  if (typeof (root._bokeh_timeout) === \"undefined\" || force === true) {\n    root._bokeh_timeout = Date.now() + 5000;\n    root._bokeh_failed_load = false;\n  }\n\n  const NB_LOAD_WARNING = {'data': {'text/html':\n     \"<div style='background-color: #fdd'>\\n\"+\n     \"<p>\\n\"+\n     \"BokehJS does not appear to have successfully loaded. If loading BokehJS from CDN, this \\n\"+\n     \"may be due to a slow or bad network connection. Possible fixes:\\n\"+\n     \"</p>\\n\"+\n     \"<ul>\\n\"+\n     \"<li>re-rerun `output_notebook()` to attempt to load from CDN again, or</li>\\n\"+\n     \"<li>use INLINE resources instead, as so:</li>\\n\"+\n     \"</ul>\\n\"+\n     \"<code>\\n\"+\n     \"from bokeh.resources import INLINE\\n\"+\n     \"output_notebook(resources=INLINE)\\n\"+\n     \"</code>\\n\"+\n     \"</div>\"}};\n\n  function display_loaded() {\n    const el = document.getElementById(\"1002\");\n    if (el != null) {\n      el.textContent = \"BokehJS is loading...\";\n    }\n    if (root.Bokeh !== undefined) {\n      if (el != null) {\n        el.textContent = \"BokehJS \" + root.Bokeh.version + \" successfully loaded.\";\n      }\n    } else if (Date.now() < root._bokeh_timeout) {\n      setTimeout(display_loaded, 100)\n    }\n  }\n\n\n  function run_callbacks() {\n    try {\n      root._bokeh_onload_callbacks.forEach(function(callback) {\n        if (callback != null)\n          callback();\n      });\n    } finally {\n      delete root._bokeh_onload_callbacks\n    }\n    console.debug(\"Bokeh: all callbacks have finished\");\n  }\n\n  function load_libs(css_urls, js_urls, callback) {\n    if (css_urls == null) css_urls = [];\n    if (js_urls == null) js_urls = [];\n\n    root._bokeh_onload_callbacks.push(callback);\n    if (root._bokeh_is_loading > 0) {\n      console.debug(\"Bokeh: BokehJS is being loaded, scheduling callback at\", now());\n      return null;\n    }\n    if (js_urls == null || js_urls.length === 0) {\n      run_callbacks();\n      return null;\n    }\n    console.debug(\"Bokeh: BokehJS not loaded, scheduling load and callback at\", now());\n    root._bokeh_is_loading = css_urls.length + js_urls.length;\n\n    function on_load() {\n      root._bokeh_is_loading--;\n      if (root._bokeh_is_loading === 0) {\n        console.debug(\"Bokeh: all BokehJS libraries/stylesheets loaded\");\n        run_callbacks()\n      }\n    }\n\n    function on_error(url) {\n      console.error(\"failed to load \" + url);\n    }\n\n    for (let i = 0; i < css_urls.length; i++) {\n      const url = css_urls[i];\n      const element = document.createElement(\"link\");\n      element.onload = on_load;\n      element.onerror = on_error.bind(null, url);\n      element.rel = \"stylesheet\";\n      element.type = \"text/css\";\n      element.href = url;\n      console.debug(\"Bokeh: injecting link tag for BokehJS stylesheet: \", url);\n      document.body.appendChild(element);\n    }\n\n    for (let i = 0; i < js_urls.length; i++) {\n      const url = js_urls[i];\n      const element = document.createElement('script');\n      element.onload = on_load;\n      element.onerror = on_error.bind(null, url);\n      element.async = false;\n      element.src = url;\n      console.debug(\"Bokeh: injecting script tag for BokehJS library: \", url);\n      document.head.appendChild(element);\n    }\n  };\n\n  function inject_raw_css(css) {\n    const element = document.createElement(\"style\");\n    element.appendChild(document.createTextNode(css));\n    document.body.appendChild(element);\n  }\n\n  \n  const js_urls = [\"https://cdn.bokeh.org/bokeh/release/bokeh-2.4.2.min.js\", \"https://cdn.bokeh.org/bokeh/release/bokeh-gl-2.4.2.min.js\", \"https://cdn.bokeh.org/bokeh/release/bokeh-widgets-2.4.2.min.js\", \"https://cdn.bokeh.org/bokeh/release/bokeh-tables-2.4.2.min.js\", \"https://cdn.bokeh.org/bokeh/release/bokeh-mathjax-2.4.2.min.js\"];\n  const css_urls = [];\n  \n\n  const inline_js = [\n    function(Bokeh) {\n      Bokeh.set_log_level(\"info\");\n    },\n    function(Bokeh) {\n    \n    \n    }\n  ];\n\n  function run_inline_js() {\n    \n    if (root.Bokeh !== undefined || force === true) {\n      \n    for (let i = 0; i < inline_js.length; i++) {\n      inline_js[i].call(root, root.Bokeh);\n    }\n    if (force === true) {\n        display_loaded();\n      }} else if (Date.now() < root._bokeh_timeout) {\n      setTimeout(run_inline_js, 100);\n    } else if (!root._bokeh_failed_load) {\n      console.log(\"Bokeh: BokehJS failed to load within specified timeout.\");\n      root._bokeh_failed_load = true;\n    } else if (force !== true) {\n      const cell = $(document.getElementById(\"1002\")).parents('.cell').data().cell;\n      cell.output_area.append_execute_result(NB_LOAD_WARNING)\n    }\n\n  }\n\n  if (root._bokeh_is_loading === 0) {\n    console.debug(\"Bokeh: BokehJS loaded, going straight to plotting\");\n    run_inline_js();\n  } else {\n    load_libs(css_urls, js_urls, function() {\n      console.debug(\"Bokeh: BokehJS plotting callback run at\", now());\n      run_inline_js();\n    });\n  }\n}(window));"
     },
     "metadata": {},
     "output_type": "display_data"
    }
   ],
   "source": [
    "output_notebook()"
   ]
  },
  {
   "cell_type": "code",
   "execution_count": 6,
   "metadata": {},
   "outputs": [],
   "source": [
    "country_list = data.Country.unique().tolist()\n",
    "color_mapper = CategoricalColorMapper(factors=country_list, palette=Spectral6)"
   ]
  },
  {
   "cell_type": "markdown",
   "metadata": {},
   "source": [
    "Make the ColumnDataSource: source"
   ]
  },
  {
   "cell_type": "code",
   "execution_count": 7,
   "metadata": {},
   "outputs": [
    {
     "name": "stdout",
     "output_type": "stream",
     "text": [
      "<class 'pandas.core.frame.DataFrame'>\n",
      "RangeIndex: 297 entries, 0 to 296\n",
      "Data columns (total 4 columns):\n",
      " #   Column                Non-Null Count  Dtype  \n",
      "---  ------                --------------  -----  \n",
      " 0   Country               297 non-null    object \n",
      " 1   Year                  297 non-null    int64  \n",
      " 2   Milk Produced         297 non-null    float64\n",
      " 3   Number of Dairy Cows  297 non-null    float64\n",
      "dtypes: float64(2), int64(1), object(1)\n",
      "memory usage: 9.4+ KB\n"
     ]
    }
   ],
   "source": [
    "data.info()"
   ]
  },
  {
   "cell_type": "code",
   "execution_count": 8,
   "metadata": {},
   "outputs": [
    {
     "data": {
      "text/html": [
       "<div>\n",
       "<style scoped>\n",
       "    .dataframe tbody tr th:only-of-type {\n",
       "        vertical-align: middle;\n",
       "    }\n",
       "\n",
       "    .dataframe tbody tr th {\n",
       "        vertical-align: top;\n",
       "    }\n",
       "\n",
       "    .dataframe thead th {\n",
       "        text-align: right;\n",
       "    }\n",
       "</style>\n",
       "<table border=\"1\" class=\"dataframe\">\n",
       "  <thead>\n",
       "    <tr style=\"text-align: right;\">\n",
       "      <th></th>\n",
       "      <th>Country</th>\n",
       "      <th>Year</th>\n",
       "      <th>Milk</th>\n",
       "      <th>Cows</th>\n",
       "    </tr>\n",
       "  </thead>\n",
       "  <tbody>\n",
       "    <tr>\n",
       "      <th>0</th>\n",
       "      <td>Belgium</td>\n",
       "      <td>2011</td>\n",
       "      <td>3151.00</td>\n",
       "      <td>510.65</td>\n",
       "    </tr>\n",
       "    <tr>\n",
       "      <th>1</th>\n",
       "      <td>Bulgaria</td>\n",
       "      <td>2011</td>\n",
       "      <td>1126.00</td>\n",
       "      <td>313.18</td>\n",
       "    </tr>\n",
       "    <tr>\n",
       "      <th>2</th>\n",
       "      <td>Czechia</td>\n",
       "      <td>2011</td>\n",
       "      <td>2735.93</td>\n",
       "      <td>374.07</td>\n",
       "    </tr>\n",
       "    <tr>\n",
       "      <th>3</th>\n",
       "      <td>Denmark</td>\n",
       "      <td>2011</td>\n",
       "      <td>4879.50</td>\n",
       "      <td>579.00</td>\n",
       "    </tr>\n",
       "    <tr>\n",
       "      <th>4</th>\n",
       "      <td>Germany</td>\n",
       "      <td>2011</td>\n",
       "      <td>30301.36</td>\n",
       "      <td>4190.10</td>\n",
       "    </tr>\n",
       "    <tr>\n",
       "      <th>...</th>\n",
       "      <td>...</td>\n",
       "      <td>...</td>\n",
       "      <td>...</td>\n",
       "      <td>...</td>\n",
       "    </tr>\n",
       "    <tr>\n",
       "      <th>292</th>\n",
       "      <td>Romania</td>\n",
       "      <td>2021</td>\n",
       "      <td>3637.00</td>\n",
       "      <td>1081.90</td>\n",
       "    </tr>\n",
       "    <tr>\n",
       "      <th>293</th>\n",
       "      <td>Slovenia</td>\n",
       "      <td>2021</td>\n",
       "      <td>639.93</td>\n",
       "      <td>100.92</td>\n",
       "    </tr>\n",
       "    <tr>\n",
       "      <th>294</th>\n",
       "      <td>Slovakia</td>\n",
       "      <td>2021</td>\n",
       "      <td>902.64</td>\n",
       "      <td>120.07</td>\n",
       "    </tr>\n",
       "    <tr>\n",
       "      <th>295</th>\n",
       "      <td>Finland</td>\n",
       "      <td>2021</td>\n",
       "      <td>2161.46</td>\n",
       "      <td>248.53</td>\n",
       "    </tr>\n",
       "    <tr>\n",
       "      <th>296</th>\n",
       "      <td>Sweden</td>\n",
       "      <td>2021</td>\n",
       "      <td>2782.22</td>\n",
       "      <td>299.60</td>\n",
       "    </tr>\n",
       "  </tbody>\n",
       "</table>\n",
       "<p>297 rows × 4 columns</p>\n",
       "</div>"
      ],
      "text/plain": [
       "      Country  Year      Milk     Cows\n",
       "0     Belgium  2011   3151.00   510.65\n",
       "1    Bulgaria  2011   1126.00   313.18\n",
       "2     Czechia  2011   2735.93   374.07\n",
       "3     Denmark  2011   4879.50   579.00\n",
       "4     Germany  2011  30301.36  4190.10\n",
       "..        ...   ...       ...      ...\n",
       "292   Romania  2021   3637.00  1081.90\n",
       "293  Slovenia  2021    639.93   100.92\n",
       "294  Slovakia  2021    902.64   120.07\n",
       "295   Finland  2021   2161.46   248.53\n",
       "296    Sweden  2021   2782.22   299.60\n",
       "\n",
       "[297 rows x 4 columns]"
      ]
     },
     "execution_count": 8,
     "metadata": {},
     "output_type": "execute_result"
    }
   ],
   "source": [
    "data1 = data.rename(columns={'Milk Produced' : 'Milk', 'Number of Dairy Cows': 'Cows'})\n",
    "data1"
   ]
  },
  {
   "cell_type": "code",
   "execution_count": 9,
   "metadata": {},
   "outputs": [],
   "source": [
    "source = ColumnDataSource(data={\n",
    "    'x': data1.Milk[data1['Year'] == 2021],\n",
    "    'y': data1.Cows[data1['Year'] == 2021],\n",
    "    'country': data1.Country[data1['Year'] == 2021],\n",
    "})"
   ]
  },
  {
   "cell_type": "markdown",
   "metadata": {},
   "source": [
    "Save the minimum and maximum values of the gdp column: xmin, xmax"
   ]
  },
  {
   "cell_type": "code",
   "execution_count": 10,
   "metadata": {},
   "outputs": [],
   "source": [
    "xmin, xmax = min(data1.Milk), max(data1.Milk)"
   ]
  },
  {
   "cell_type": "markdown",
   "metadata": {},
   "source": [
    "Save the minimum and maximum values of the co2 column: ymin, ymax"
   ]
  },
  {
   "cell_type": "code",
   "execution_count": 11,
   "metadata": {},
   "outputs": [],
   "source": [
    "ymin, ymax = min(data1.Cows), max(data1.Cows)"
   ]
  },
  {
   "cell_type": "markdown",
   "metadata": {},
   "source": [
    "Create the figure: plot"
   ]
  },
  {
   "cell_type": "code",
   "execution_count": 12,
   "metadata": {},
   "outputs": [
    {
     "data": {
      "text/html": [
       "<div style=\"display: table;\"><div style=\"display: table-row;\"><div style=\"display: table-cell;\"><b title=\"bokeh.plotting.figure.Figure\">Figure</b>(</div><div style=\"display: table-cell;\">id&nbsp;=&nbsp;'1005', <span id=\"1039\" style=\"cursor: pointer;\">&hellip;)</span></div></div><div class=\"1038\" style=\"display: none;\"><div style=\"display: table-cell;\"></div><div style=\"display: table-cell;\">above&nbsp;=&nbsp;[],</div></div><div class=\"1038\" style=\"display: none;\"><div style=\"display: table-cell;\"></div><div style=\"display: table-cell;\">align&nbsp;=&nbsp;'start',</div></div><div class=\"1038\" style=\"display: none;\"><div style=\"display: table-cell;\"></div><div style=\"display: table-cell;\">aspect_ratio&nbsp;=&nbsp;None,</div></div><div class=\"1038\" style=\"display: none;\"><div style=\"display: table-cell;\"></div><div style=\"display: table-cell;\">aspect_scale&nbsp;=&nbsp;1,</div></div><div class=\"1038\" style=\"display: none;\"><div style=\"display: table-cell;\"></div><div style=\"display: table-cell;\">background&nbsp;=&nbsp;None,</div></div><div class=\"1038\" style=\"display: none;\"><div style=\"display: table-cell;\"></div><div style=\"display: table-cell;\">background_fill_alpha&nbsp;=&nbsp;1.0,</div></div><div class=\"1038\" style=\"display: none;\"><div style=\"display: table-cell;\"></div><div style=\"display: table-cell;\">background_fill_color&nbsp;=&nbsp;'#ffffff',</div></div><div class=\"1038\" style=\"display: none;\"><div style=\"display: table-cell;\"></div><div style=\"display: table-cell;\">below&nbsp;=&nbsp;[LinearAxis(id='1016', ...)],</div></div><div class=\"1038\" style=\"display: none;\"><div style=\"display: table-cell;\"></div><div style=\"display: table-cell;\">border_fill_alpha&nbsp;=&nbsp;1.0,</div></div><div class=\"1038\" style=\"display: none;\"><div style=\"display: table-cell;\"></div><div style=\"display: table-cell;\">border_fill_color&nbsp;=&nbsp;'#ffffff',</div></div><div class=\"1038\" style=\"display: none;\"><div style=\"display: table-cell;\"></div><div style=\"display: table-cell;\">center&nbsp;=&nbsp;[Grid(id='1019', ...), Grid(id='1023', ...)],</div></div><div class=\"1038\" style=\"display: none;\"><div style=\"display: table-cell;\"></div><div style=\"display: table-cell;\">css_classes&nbsp;=&nbsp;[],</div></div><div class=\"1038\" style=\"display: none;\"><div style=\"display: table-cell;\"></div><div style=\"display: table-cell;\">disabled&nbsp;=&nbsp;False,</div></div><div class=\"1038\" style=\"display: none;\"><div style=\"display: table-cell;\"></div><div style=\"display: table-cell;\">extra_x_ranges&nbsp;=&nbsp;{},</div></div><div class=\"1038\" style=\"display: none;\"><div style=\"display: table-cell;\"></div><div style=\"display: table-cell;\">extra_x_scales&nbsp;=&nbsp;{},</div></div><div class=\"1038\" style=\"display: none;\"><div style=\"display: table-cell;\"></div><div style=\"display: table-cell;\">extra_y_ranges&nbsp;=&nbsp;{},</div></div><div class=\"1038\" style=\"display: none;\"><div style=\"display: table-cell;\"></div><div style=\"display: table-cell;\">extra_y_scales&nbsp;=&nbsp;{},</div></div><div class=\"1038\" style=\"display: none;\"><div style=\"display: table-cell;\"></div><div style=\"display: table-cell;\">frame_height&nbsp;=&nbsp;None,</div></div><div class=\"1038\" style=\"display: none;\"><div style=\"display: table-cell;\"></div><div style=\"display: table-cell;\">frame_width&nbsp;=&nbsp;None,</div></div><div class=\"1038\" style=\"display: none;\"><div style=\"display: table-cell;\"></div><div style=\"display: table-cell;\">height&nbsp;=&nbsp;500,</div></div><div class=\"1038\" style=\"display: none;\"><div style=\"display: table-cell;\"></div><div style=\"display: table-cell;\">height_policy&nbsp;=&nbsp;'auto',</div></div><div class=\"1038\" style=\"display: none;\"><div style=\"display: table-cell;\"></div><div style=\"display: table-cell;\">hidpi&nbsp;=&nbsp;True,</div></div><div class=\"1038\" style=\"display: none;\"><div style=\"display: table-cell;\"></div><div style=\"display: table-cell;\">inner_height&nbsp;=&nbsp;0,</div></div><div class=\"1038\" style=\"display: none;\"><div style=\"display: table-cell;\"></div><div style=\"display: table-cell;\">inner_width&nbsp;=&nbsp;0,</div></div><div class=\"1038\" style=\"display: none;\"><div style=\"display: table-cell;\"></div><div style=\"display: table-cell;\">js_event_callbacks&nbsp;=&nbsp;{},</div></div><div class=\"1038\" style=\"display: none;\"><div style=\"display: table-cell;\"></div><div style=\"display: table-cell;\">js_property_callbacks&nbsp;=&nbsp;{},</div></div><div class=\"1038\" style=\"display: none;\"><div style=\"display: table-cell;\"></div><div style=\"display: table-cell;\">left&nbsp;=&nbsp;[LinearAxis(id='1020', ...)],</div></div><div class=\"1038\" style=\"display: none;\"><div style=\"display: table-cell;\"></div><div style=\"display: table-cell;\">lod_factor&nbsp;=&nbsp;10,</div></div><div class=\"1038\" style=\"display: none;\"><div style=\"display: table-cell;\"></div><div style=\"display: table-cell;\">lod_interval&nbsp;=&nbsp;300,</div></div><div class=\"1038\" style=\"display: none;\"><div style=\"display: table-cell;\"></div><div style=\"display: table-cell;\">lod_threshold&nbsp;=&nbsp;2000,</div></div><div class=\"1038\" style=\"display: none;\"><div style=\"display: table-cell;\"></div><div style=\"display: table-cell;\">lod_timeout&nbsp;=&nbsp;500,</div></div><div class=\"1038\" style=\"display: none;\"><div style=\"display: table-cell;\"></div><div style=\"display: table-cell;\">margin&nbsp;=&nbsp;(0, 0, 0, 0),</div></div><div class=\"1038\" style=\"display: none;\"><div style=\"display: table-cell;\"></div><div style=\"display: table-cell;\">match_aspect&nbsp;=&nbsp;False,</div></div><div class=\"1038\" style=\"display: none;\"><div style=\"display: table-cell;\"></div><div style=\"display: table-cell;\">max_height&nbsp;=&nbsp;None,</div></div><div class=\"1038\" style=\"display: none;\"><div style=\"display: table-cell;\"></div><div style=\"display: table-cell;\">max_width&nbsp;=&nbsp;None,</div></div><div class=\"1038\" style=\"display: none;\"><div style=\"display: table-cell;\"></div><div style=\"display: table-cell;\">min_border&nbsp;=&nbsp;5,</div></div><div class=\"1038\" style=\"display: none;\"><div style=\"display: table-cell;\"></div><div style=\"display: table-cell;\">min_border_bottom&nbsp;=&nbsp;None,</div></div><div class=\"1038\" style=\"display: none;\"><div style=\"display: table-cell;\"></div><div style=\"display: table-cell;\">min_border_left&nbsp;=&nbsp;None,</div></div><div class=\"1038\" style=\"display: none;\"><div style=\"display: table-cell;\"></div><div style=\"display: table-cell;\">min_border_right&nbsp;=&nbsp;None,</div></div><div class=\"1038\" style=\"display: none;\"><div style=\"display: table-cell;\"></div><div style=\"display: table-cell;\">min_border_top&nbsp;=&nbsp;None,</div></div><div class=\"1038\" style=\"display: none;\"><div style=\"display: table-cell;\"></div><div style=\"display: table-cell;\">min_height&nbsp;=&nbsp;None,</div></div><div class=\"1038\" style=\"display: none;\"><div style=\"display: table-cell;\"></div><div style=\"display: table-cell;\">min_width&nbsp;=&nbsp;None,</div></div><div class=\"1038\" style=\"display: none;\"><div style=\"display: table-cell;\"></div><div style=\"display: table-cell;\">name&nbsp;=&nbsp;None,</div></div><div class=\"1038\" style=\"display: none;\"><div style=\"display: table-cell;\"></div><div style=\"display: table-cell;\">outer_height&nbsp;=&nbsp;0,</div></div><div class=\"1038\" style=\"display: none;\"><div style=\"display: table-cell;\"></div><div style=\"display: table-cell;\">outer_width&nbsp;=&nbsp;0,</div></div><div class=\"1038\" style=\"display: none;\"><div style=\"display: table-cell;\"></div><div style=\"display: table-cell;\">outline_line_alpha&nbsp;=&nbsp;1.0,</div></div><div class=\"1038\" style=\"display: none;\"><div style=\"display: table-cell;\"></div><div style=\"display: table-cell;\">outline_line_cap&nbsp;=&nbsp;'butt',</div></div><div class=\"1038\" style=\"display: none;\"><div style=\"display: table-cell;\"></div><div style=\"display: table-cell;\">outline_line_color&nbsp;=&nbsp;'#e5e5e5',</div></div><div class=\"1038\" style=\"display: none;\"><div style=\"display: table-cell;\"></div><div style=\"display: table-cell;\">outline_line_dash&nbsp;=&nbsp;[],</div></div><div class=\"1038\" style=\"display: none;\"><div style=\"display: table-cell;\"></div><div style=\"display: table-cell;\">outline_line_dash_offset&nbsp;=&nbsp;0,</div></div><div class=\"1038\" style=\"display: none;\"><div style=\"display: table-cell;\"></div><div style=\"display: table-cell;\">outline_line_join&nbsp;=&nbsp;'bevel',</div></div><div class=\"1038\" style=\"display: none;\"><div style=\"display: table-cell;\"></div><div style=\"display: table-cell;\">outline_line_width&nbsp;=&nbsp;1,</div></div><div class=\"1038\" style=\"display: none;\"><div style=\"display: table-cell;\"></div><div style=\"display: table-cell;\">output_backend&nbsp;=&nbsp;'canvas',</div></div><div class=\"1038\" style=\"display: none;\"><div style=\"display: table-cell;\"></div><div style=\"display: table-cell;\">renderers&nbsp;=&nbsp;[],</div></div><div class=\"1038\" style=\"display: none;\"><div style=\"display: table-cell;\"></div><div style=\"display: table-cell;\">reset_policy&nbsp;=&nbsp;'standard',</div></div><div class=\"1038\" style=\"display: none;\"><div style=\"display: table-cell;\"></div><div style=\"display: table-cell;\">right&nbsp;=&nbsp;[],</div></div><div class=\"1038\" style=\"display: none;\"><div style=\"display: table-cell;\"></div><div style=\"display: table-cell;\">sizing_mode&nbsp;=&nbsp;None,</div></div><div class=\"1038\" style=\"display: none;\"><div style=\"display: table-cell;\"></div><div style=\"display: table-cell;\">subscribed_events&nbsp;=&nbsp;[],</div></div><div class=\"1038\" style=\"display: none;\"><div style=\"display: table-cell;\"></div><div style=\"display: table-cell;\">syncable&nbsp;=&nbsp;True,</div></div><div class=\"1038\" style=\"display: none;\"><div style=\"display: table-cell;\"></div><div style=\"display: table-cell;\">tags&nbsp;=&nbsp;[],</div></div><div class=\"1038\" style=\"display: none;\"><div style=\"display: table-cell;\"></div><div style=\"display: table-cell;\">title&nbsp;=&nbsp;Title(id='1006', ...),</div></div><div class=\"1038\" style=\"display: none;\"><div style=\"display: table-cell;\"></div><div style=\"display: table-cell;\">title_location&nbsp;=&nbsp;'above',</div></div><div class=\"1038\" style=\"display: none;\"><div style=\"display: table-cell;\"></div><div style=\"display: table-cell;\">toolbar&nbsp;=&nbsp;Toolbar(id='1031', ...),</div></div><div class=\"1038\" style=\"display: none;\"><div style=\"display: table-cell;\"></div><div style=\"display: table-cell;\">toolbar_location&nbsp;=&nbsp;'right',</div></div><div class=\"1038\" style=\"display: none;\"><div style=\"display: table-cell;\"></div><div style=\"display: table-cell;\">toolbar_sticky&nbsp;=&nbsp;True,</div></div><div class=\"1038\" style=\"display: none;\"><div style=\"display: table-cell;\"></div><div style=\"display: table-cell;\">visible&nbsp;=&nbsp;True,</div></div><div class=\"1038\" style=\"display: none;\"><div style=\"display: table-cell;\"></div><div style=\"display: table-cell;\">width&nbsp;=&nbsp;500,</div></div><div class=\"1038\" style=\"display: none;\"><div style=\"display: table-cell;\"></div><div style=\"display: table-cell;\">width_policy&nbsp;=&nbsp;'auto',</div></div><div class=\"1038\" style=\"display: none;\"><div style=\"display: table-cell;\"></div><div style=\"display: table-cell;\">x_range&nbsp;=&nbsp;Range1d(id='1008', ...),</div></div><div class=\"1038\" style=\"display: none;\"><div style=\"display: table-cell;\"></div><div style=\"display: table-cell;\">x_scale&nbsp;=&nbsp;LinearScale(id='1012', ...),</div></div><div class=\"1038\" style=\"display: none;\"><div style=\"display: table-cell;\"></div><div style=\"display: table-cell;\">y_range&nbsp;=&nbsp;Range1d(id='1010', ...),</div></div><div class=\"1038\" style=\"display: none;\"><div style=\"display: table-cell;\"></div><div style=\"display: table-cell;\">y_scale&nbsp;=&nbsp;LinearScale(id='1014', ...))</div></div></div>\n",
       "<script>\n",
       "(function() {\n",
       "  let expanded = false;\n",
       "  const ellipsis = document.getElementById(\"1039\");\n",
       "  ellipsis.addEventListener(\"click\", function() {\n",
       "    const rows = document.getElementsByClassName(\"1038\");\n",
       "    for (let i = 0; i < rows.length; i++) {\n",
       "      const el = rows[i];\n",
       "      el.style.display = expanded ? \"none\" : \"table-row\";\n",
       "    }\n",
       "    ellipsis.innerHTML = expanded ? \"&hellip;)\" : \"&lsaquo;&lsaquo;&lsaquo;\";\n",
       "    expanded = !expanded;\n",
       "  });\n",
       "})();\n",
       "</script>\n"
      ],
      "text/plain": [
       "Figure(id='1005', ...)"
      ]
     },
     "execution_count": 12,
     "metadata": {},
     "output_type": "execute_result"
    }
   ],
   "source": [
    "\n",
    "plot = figure(title='Milk_Bovine', \n",
    "              plot_height=500, plot_width=500,\n",
    "              x_range=(xmin, xmax),\n",
    "              y_range=(ymin, ymax),)\n",
    "plot"
   ]
  },
  {
   "cell_type": "markdown",
   "metadata": {},
   "source": [
    "Add circle glyphs to the plot"
   ]
  },
  {
   "cell_type": "code",
   "execution_count": 13,
   "metadata": {},
   "outputs": [
    {
     "data": {
      "text/html": [
       "<div style=\"display: table;\"><div style=\"display: table-row;\"><div style=\"display: table-cell;\"><b title=\"bokeh.models.renderers.GlyphRenderer\">GlyphRenderer</b>(</div><div style=\"display: table-cell;\">id&nbsp;=&nbsp;'1045', <span id=\"1060\" style=\"cursor: pointer;\">&hellip;)</span></div></div><div class=\"1059\" style=\"display: none;\"><div style=\"display: table-cell;\"></div><div style=\"display: table-cell;\">coordinates&nbsp;=&nbsp;None,</div></div><div class=\"1059\" style=\"display: none;\"><div style=\"display: table-cell;\"></div><div style=\"display: table-cell;\">data_source&nbsp;=&nbsp;ColumnDataSource(id='1004', ...),</div></div><div class=\"1059\" style=\"display: none;\"><div style=\"display: table-cell;\"></div><div style=\"display: table-cell;\">glyph&nbsp;=&nbsp;Circle(id='1042', ...),</div></div><div class=\"1059\" style=\"display: none;\"><div style=\"display: table-cell;\"></div><div style=\"display: table-cell;\">group&nbsp;=&nbsp;None,</div></div><div class=\"1059\" style=\"display: none;\"><div style=\"display: table-cell;\"></div><div style=\"display: table-cell;\">hover_glyph&nbsp;=&nbsp;None,</div></div><div class=\"1059\" style=\"display: none;\"><div style=\"display: table-cell;\"></div><div style=\"display: table-cell;\">js_event_callbacks&nbsp;=&nbsp;{},</div></div><div class=\"1059\" style=\"display: none;\"><div style=\"display: table-cell;\"></div><div style=\"display: table-cell;\">js_property_callbacks&nbsp;=&nbsp;{},</div></div><div class=\"1059\" style=\"display: none;\"><div style=\"display: table-cell;\"></div><div style=\"display: table-cell;\">level&nbsp;=&nbsp;'glyph',</div></div><div class=\"1059\" style=\"display: none;\"><div style=\"display: table-cell;\"></div><div style=\"display: table-cell;\">muted&nbsp;=&nbsp;False,</div></div><div class=\"1059\" style=\"display: none;\"><div style=\"display: table-cell;\"></div><div style=\"display: table-cell;\">muted_glyph&nbsp;=&nbsp;Circle(id='1044', ...),</div></div><div class=\"1059\" style=\"display: none;\"><div style=\"display: table-cell;\"></div><div style=\"display: table-cell;\">name&nbsp;=&nbsp;None,</div></div><div class=\"1059\" style=\"display: none;\"><div style=\"display: table-cell;\"></div><div style=\"display: table-cell;\">nonselection_glyph&nbsp;=&nbsp;Circle(id='1043', ...),</div></div><div class=\"1059\" style=\"display: none;\"><div style=\"display: table-cell;\"></div><div style=\"display: table-cell;\">selection_glyph&nbsp;=&nbsp;'auto',</div></div><div class=\"1059\" style=\"display: none;\"><div style=\"display: table-cell;\"></div><div style=\"display: table-cell;\">subscribed_events&nbsp;=&nbsp;[],</div></div><div class=\"1059\" style=\"display: none;\"><div style=\"display: table-cell;\"></div><div style=\"display: table-cell;\">syncable&nbsp;=&nbsp;True,</div></div><div class=\"1059\" style=\"display: none;\"><div style=\"display: table-cell;\"></div><div style=\"display: table-cell;\">tags&nbsp;=&nbsp;[],</div></div><div class=\"1059\" style=\"display: none;\"><div style=\"display: table-cell;\"></div><div style=\"display: table-cell;\">view&nbsp;=&nbsp;CDSView(id='1046', ...),</div></div><div class=\"1059\" style=\"display: none;\"><div style=\"display: table-cell;\"></div><div style=\"display: table-cell;\">visible&nbsp;=&nbsp;True,</div></div><div class=\"1059\" style=\"display: none;\"><div style=\"display: table-cell;\"></div><div style=\"display: table-cell;\">x_range_name&nbsp;=&nbsp;'default',</div></div><div class=\"1059\" style=\"display: none;\"><div style=\"display: table-cell;\"></div><div style=\"display: table-cell;\">y_range_name&nbsp;=&nbsp;'default')</div></div></div>\n",
       "<script>\n",
       "(function() {\n",
       "  let expanded = false;\n",
       "  const ellipsis = document.getElementById(\"1060\");\n",
       "  ellipsis.addEventListener(\"click\", function() {\n",
       "    const rows = document.getElementsByClassName(\"1059\");\n",
       "    for (let i = 0; i < rows.length; i++) {\n",
       "      const el = rows[i];\n",
       "      el.style.display = expanded ? \"none\" : \"table-row\";\n",
       "    }\n",
       "    ellipsis.innerHTML = expanded ? \"&hellip;)\" : \"&lsaquo;&lsaquo;&lsaquo;\";\n",
       "    expanded = !expanded;\n",
       "  });\n",
       "})();\n",
       "</script>\n"
      ],
      "text/plain": [
       "GlyphRenderer(id='1045', ...)"
      ]
     },
     "execution_count": 13,
     "metadata": {},
     "output_type": "execute_result"
    }
   ],
   "source": [
    "plot.circle(x='x', y='y', fill_alpha=0.1, source=source, legend_label='country',\n",
    "            color=dict(field='country', transform=color_mapper),\n",
    "            size=7)"
   ]
  },
  {
   "cell_type": "code",
   "execution_count": 14,
   "metadata": {},
   "outputs": [],
   "source": [
    "# Set the legend.location attribute of the plot\n",
    "plot.legend.location = 'bottom_right'\n",
    "\n",
    "# Set the x-axis label\n",
    "plot.xaxis.axis_label = 'Milk'\n",
    "\n",
    "# Set the y-axis label\n",
    "plot.yaxis.axis_label = 'Cows'"
   ]
  },
  {
   "cell_type": "code",
   "execution_count": 15,
   "metadata": {},
   "outputs": [
    {
     "name": "stderr",
     "output_type": "stream",
     "text": [
      "WARNING:bokeh.core.validation.check:W-1008 (PALETTE_LENGTH_FACTORS_MISMATCH): Palette length does not match number of factors: ['Ireland', 'Greece', 'Spain', 'France', 'Croatia', 'Italy', 'Cyprus', 'Latvia', 'Lithuania', 'Luxembourg', 'Hungary', 'Malta', 'Netherlands', 'Austria', 'Poland', 'Portugal', 'Romania', 'Slovenia', 'Slovakia', 'Finland', 'Sweden'] will be assigned to `nan_color` gray\n"
     ]
    },
    {
     "data": {
      "text/html": [
       "\n",
       "\n",
       "\n",
       "\n",
       "\n",
       "\n",
       "  <div class=\"bk-root\" id=\"d9e018e9-485b-4dc1-9820-1b0b018ce568\" data-root-id=\"1005\"></div>\n"
      ]
     },
     "metadata": {},
     "output_type": "display_data"
    },
    {
     "data": {
      "application/javascript": [
       "(function(root) {\n",
       "  function embed_document(root) {\n",
       "    \n",
       "  const docs_json = {\"28f31b6b-d8d4-4f27-bd17-0d6dc7b37f62\":{\"defs\":[],\"roots\":{\"references\":[{\"attributes\":{\"below\":[{\"id\":\"1016\"}],\"center\":[{\"id\":\"1019\"},{\"id\":\"1023\"},{\"id\":\"1057\"}],\"height\":500,\"left\":[{\"id\":\"1020\"}],\"margin\":[0,0,0,0],\"renderers\":[{\"id\":\"1045\"}],\"title\":{\"id\":\"1006\"},\"toolbar\":{\"id\":\"1031\"},\"width\":500,\"x_range\":{\"id\":\"1008\"},\"x_scale\":{\"id\":\"1012\"},\"y_range\":{\"id\":\"1010\"},\"y_scale\":{\"id\":\"1014\"}},\"id\":\"1005\",\"subtype\":\"Figure\",\"type\":\"Plot\"},{\"attributes\":{},\"id\":\"1049\",\"type\":\"BasicTickFormatter\"},{\"attributes\":{\"fill_alpha\":{\"value\":0.1},\"fill_color\":{\"field\":\"country\",\"transform\":{\"id\":\"1003\"}},\"hatch_alpha\":{\"value\":0.1},\"hatch_color\":{\"field\":\"country\",\"transform\":{\"id\":\"1003\"}},\"line_alpha\":{\"value\":0.1},\"line_color\":{\"field\":\"country\",\"transform\":{\"id\":\"1003\"}},\"size\":{\"value\":7},\"x\":{\"field\":\"x\"},\"y\":{\"field\":\"y\"}},\"id\":\"1043\",\"type\":\"Circle\"},{\"attributes\":{},\"id\":\"1052\",\"type\":\"BasicTickFormatter\"},{\"attributes\":{\"fill_alpha\":{\"value\":0.2},\"fill_color\":{\"field\":\"country\",\"transform\":{\"id\":\"1003\"}},\"hatch_alpha\":{\"value\":0.2},\"hatch_color\":{\"field\":\"country\",\"transform\":{\"id\":\"1003\"}},\"line_alpha\":{\"value\":0.2},\"line_color\":{\"field\":\"country\",\"transform\":{\"id\":\"1003\"}},\"size\":{\"value\":7},\"x\":{\"field\":\"x\"},\"y\":{\"field\":\"y\"}},\"id\":\"1044\",\"type\":\"Circle\"},{\"attributes\":{\"axis_label\":\"Milk\",\"coordinates\":null,\"formatter\":{\"id\":\"1052\"},\"group\":null,\"major_label_policy\":{\"id\":\"1053\"},\"ticker\":{\"id\":\"1017\"}},\"id\":\"1016\",\"type\":\"LinearAxis\"},{\"attributes\":{},\"id\":\"1014\",\"type\":\"LinearScale\"},{\"attributes\":{},\"id\":\"1053\",\"type\":\"AllLabels\"},{\"attributes\":{\"coordinates\":null,\"group\":null,\"items\":[{\"id\":\"1058\"}],\"location\":\"bottom_right\"},\"id\":\"1057\",\"type\":\"Legend\"},{\"attributes\":{\"fill_alpha\":{\"value\":0.1},\"fill_color\":{\"field\":\"country\",\"transform\":{\"id\":\"1003\"}},\"hatch_color\":{\"field\":\"country\",\"transform\":{\"id\":\"1003\"}},\"line_color\":{\"field\":\"country\",\"transform\":{\"id\":\"1003\"}},\"size\":{\"value\":7},\"x\":{\"field\":\"x\"},\"y\":{\"field\":\"y\"}},\"id\":\"1042\",\"type\":\"Circle\"},{\"attributes\":{\"coordinates\":null,\"data_source\":{\"id\":\"1004\"},\"glyph\":{\"id\":\"1042\"},\"group\":null,\"hover_glyph\":null,\"muted_glyph\":{\"id\":\"1044\"},\"nonselection_glyph\":{\"id\":\"1043\"},\"view\":{\"id\":\"1046\"}},\"id\":\"1045\",\"type\":\"GlyphRenderer\"},{\"attributes\":{\"data\":{\"country\":[\"Belgium\",\"Bulgaria\",\"Czechia\",\"Denmark\",\"Germany\",\"Estonia\",\"Ireland\",\"Greece\",\"Spain\",\"France\",\"Croatia\",\"Italy\",\"Cyprus\",\"Latvia\",\"Lithuania\",\"Luxembourg\",\"Hungary\",\"Malta\",\"Netherlands\",\"Austria\",\"Poland\",\"Portugal\",\"Romania\",\"Slovenia\",\"Slovakia\",\"Finland\",\"Sweden\"],\"x\":{\"__ndarray__\":\"AAAAAABSsUAK16NwPR6KQLgehevR26lAAAAAAAAMtkDXo3A9ur7fQJqZmZmZNYpAhetRuP6nwUA9CtejcDeGQKRwPQoXx71AKVyPwrUy2EAAAAAAAHCBQJqZmZk5yclACtejcD2ickAUrkfhevKOQIXrUbgeBZdAFK5H4Xq0e0ApXI/CdUCgQIXrUbgexUNAAAAAAKDEy0DhehSuR+ytQEjhehSOEM1AMzMzMzMun0AAAAAAAGqsQD0K16Nw/4NAhetRuB41jEBSuB6F6+KgQD0K16NwvKVA\",\"dtype\":\"float64\",\"order\":\"little\",\"shape\":[27]},\"y\":{\"__ndarray__\":\"AAAAAADKgEB7FK5H4cpsQJqZmZmZpXZAAAAAAAB4gUA9CtejcPGtQM3MzMzM7FRArkfhehSFl0AAAAAAAMBUQHsUrkfhRolAw/UoXA/0qUAAAAAAAIBZQBSuR+F60ZxA9ihcj8J1Q0BmZmZmZmZgQGZmZmZmJmxAKVyPwvVIS0BmZmZmZo5xQHsUrkfhehdAAAAAAABImEBI4XoUrnOAQM3MzMzMzJ9AcT0K16PAbECamZmZmeeQQHsUrkfhOllAFK5H4XoEXkApXI/C9RBvQJqZmZmZuXJA\",\"dtype\":\"float64\",\"order\":\"little\",\"shape\":[27]}},\"selected\":{\"id\":\"1055\"},\"selection_policy\":{\"id\":\"1054\"}},\"id\":\"1004\",\"type\":\"ColumnDataSource\"},{\"attributes\":{\"source\":{\"id\":\"1004\"}},\"id\":\"1046\",\"type\":\"CDSView\"},{\"attributes\":{},\"id\":\"1029\",\"type\":\"HelpTool\"},{\"attributes\":{},\"id\":\"1050\",\"type\":\"AllLabels\"},{\"attributes\":{\"axis_label\":\"Cows\",\"coordinates\":null,\"formatter\":{\"id\":\"1049\"},\"group\":null,\"major_label_policy\":{\"id\":\"1050\"},\"ticker\":{\"id\":\"1021\"}},\"id\":\"1020\",\"type\":\"LinearAxis\"},{\"attributes\":{\"coordinates\":null,\"group\":null,\"text\":\"Milk_Bovine\"},\"id\":\"1006\",\"type\":\"Title\"},{\"attributes\":{},\"id\":\"1012\",\"type\":\"LinearScale\"},{\"attributes\":{},\"id\":\"1017\",\"type\":\"BasicTicker\"},{\"attributes\":{},\"id\":\"1054\",\"type\":\"UnionRenderers\"},{\"attributes\":{\"axis\":{\"id\":\"1016\"},\"coordinates\":null,\"group\":null,\"ticker\":null},\"id\":\"1019\",\"type\":\"Grid\"},{\"attributes\":{},\"id\":\"1055\",\"type\":\"Selection\"},{\"attributes\":{\"factors\":[\"Belgium\",\"Bulgaria\",\"Czechia\",\"Denmark\",\"Germany\",\"Estonia\",\"Ireland\",\"Greece\",\"Spain\",\"France\",\"Croatia\",\"Italy\",\"Cyprus\",\"Latvia\",\"Lithuania\",\"Luxembourg\",\"Hungary\",\"Malta\",\"Netherlands\",\"Austria\",\"Poland\",\"Portugal\",\"Romania\",\"Slovenia\",\"Slovakia\",\"Finland\",\"Sweden\"],\"palette\":[\"#3288bd\",\"#99d594\",\"#e6f598\",\"#fee08b\",\"#fc8d59\",\"#d53e4f\"]},\"id\":\"1003\",\"type\":\"CategoricalColorMapper\"},{\"attributes\":{\"bottom_units\":\"screen\",\"coordinates\":null,\"fill_alpha\":0.5,\"fill_color\":\"lightgrey\",\"group\":null,\"left_units\":\"screen\",\"level\":\"overlay\",\"line_alpha\":1.0,\"line_color\":\"black\",\"line_dash\":[4,4],\"line_width\":2,\"right_units\":\"screen\",\"syncable\":false,\"top_units\":\"screen\"},\"id\":\"1030\",\"type\":\"BoxAnnotation\"},{\"attributes\":{},\"id\":\"1028\",\"type\":\"ResetTool\"},{\"attributes\":{},\"id\":\"1027\",\"type\":\"SaveTool\"},{\"attributes\":{\"overlay\":{\"id\":\"1030\"}},\"id\":\"1026\",\"type\":\"BoxZoomTool\"},{\"attributes\":{},\"id\":\"1024\",\"type\":\"PanTool\"},{\"attributes\":{\"end\":4295.68,\"start\":5.87},\"id\":\"1010\",\"type\":\"Range1d\"},{\"attributes\":{},\"id\":\"1025\",\"type\":\"WheelZoomTool\"},{\"attributes\":{\"label\":{\"value\":\"country\"},\"renderers\":[{\"id\":\"1045\"}]},\"id\":\"1058\",\"type\":\"LegendItem\"},{\"attributes\":{\"end\":33164.91,\"start\":33.89},\"id\":\"1008\",\"type\":\"Range1d\"},{\"attributes\":{},\"id\":\"1021\",\"type\":\"BasicTicker\"},{\"attributes\":{\"tools\":[{\"id\":\"1024\"},{\"id\":\"1025\"},{\"id\":\"1026\"},{\"id\":\"1027\"},{\"id\":\"1028\"},{\"id\":\"1029\"}]},\"id\":\"1031\",\"type\":\"Toolbar\"},{\"attributes\":{\"axis\":{\"id\":\"1020\"},\"coordinates\":null,\"dimension\":1,\"group\":null,\"ticker\":null},\"id\":\"1023\",\"type\":\"Grid\"}],\"root_ids\":[\"1005\"]},\"title\":\"Bokeh Application\",\"version\":\"2.4.2\"}};\n",
       "  const render_items = [{\"docid\":\"28f31b6b-d8d4-4f27-bd17-0d6dc7b37f62\",\"root_ids\":[\"1005\"],\"roots\":{\"1005\":\"d9e018e9-485b-4dc1-9820-1b0b018ce568\"}}];\n",
       "  root.Bokeh.embed.embed_items_notebook(docs_json, render_items);\n",
       "\n",
       "  }\n",
       "  if (root.Bokeh !== undefined) {\n",
       "    embed_document(root);\n",
       "  } else {\n",
       "    let attempts = 0;\n",
       "    const timer = setInterval(function(root) {\n",
       "      if (root.Bokeh !== undefined) {\n",
       "        clearInterval(timer);\n",
       "        embed_document(root);\n",
       "      } else {\n",
       "        attempts++;\n",
       "        if (attempts > 100) {\n",
       "          clearInterval(timer);\n",
       "          console.log(\"Bokeh: ERROR: Unable to run BokehJS code because BokehJS library is missing\");\n",
       "        }\n",
       "      }\n",
       "    }, 10, root)\n",
       "  }\n",
       "})(window);"
      ],
      "application/vnd.bokehjs_exec.v0+json": ""
     },
     "metadata": {
      "application/vnd.bokehjs_exec.v0+json": {
       "id": "1005"
      }
     },
     "output_type": "display_data"
    }
   ],
   "source": [
    "show(plot)"
   ]
  },
  {
   "cell_type": "markdown",
   "metadata": {},
   "source": [
    "### Adding a Slider to the Static Plot "
   ]
  },
  {
   "cell_type": "code",
   "execution_count": 16,
   "metadata": {},
   "outputs": [],
   "source": [
    "slider = Slider(start=min(data1.Year), end=max(data1.Year), step=1,\n",
    "value=min(data1.Year), title='Year') "
   ]
  },
  {
   "cell_type": "code",
   "execution_count": 17,
   "metadata": {},
   "outputs": [],
   "source": [
    "def update_plot(attr, old, new):\n",
    "    yr = slider.value\n",
    "    new_data = {\n",
    "     'x': data1.Milk[data1['Year']], \n",
    "     'y': data1.Cow[data1['Year']],\n",
    "     'country': data1.Country[data['year'] == yr],\n",
    "    }\n",
    "    source.data = new_data\n",
    "    plot.title.text = 'CO2 Emissions vs GDP in %d' % yr "
   ]
  },
  {
   "cell_type": "code",
   "execution_count": 18,
   "metadata": {},
   "outputs": [],
   "source": [
    "slider.on_change('value', update_plot)"
   ]
  },
  {
   "cell_type": "code",
   "execution_count": 19,
   "metadata": {},
   "outputs": [
    {
     "name": "stderr",
     "output_type": "stream",
     "text": [
      "BokehDeprecationWarning: 'WidgetBox' is deprecated and will be removed in Bokeh 3.0, use 'bokeh.models.Column' instead\n"
     ]
    }
   ],
   "source": [
    "layout = row(widgetbox(slider), plot) "
   ]
  },
  {
   "cell_type": "code",
   "execution_count": 20,
   "metadata": {},
   "outputs": [],
   "source": [
    "curdoc().add_root(layout) "
   ]
  },
  {
   "cell_type": "markdown",
   "metadata": {},
   "source": [
    "### Adding a Hover Tool "
   ]
  },
  {
   "cell_type": "code",
   "execution_count": 30,
   "metadata": {},
   "outputs": [],
   "source": [
    "hover = HoverTool(tooltips=[('Country', '@country'), ('Milk', '@x'), ('Cow','@y')]) "
   ]
  },
  {
   "cell_type": "code",
   "execution_count": 31,
   "metadata": {},
   "outputs": [],
   "source": [
    "plot.add_tools(hover) "
   ]
  },
  {
   "cell_type": "code",
   "execution_count": 32,
   "metadata": {},
   "outputs": [
    {
     "name": "stderr",
     "output_type": "stream",
     "text": [
      "2023-01-02 15:25:55,452 Starting Bokeh server version 2.4.2 (running on Tornado 6.1)\n",
      "2023-01-02 15:25:55,452 Cannot start Bokeh server, port 5006 is already in use\n"
     ]
    }
   ],
   "source": [
    "!bokeh serve --show Milk_Bovine_Interactive.ipynb"
   ]
  },
  {
   "cell_type": "markdown",
   "metadata": {},
   "source": [
    "## Interactive Data Visualization with Plotly Express "
   ]
  },
  {
   "cell_type": "code",
   "execution_count": 33,
   "metadata": {},
   "outputs": [],
   "source": [
    "import pandas as pd\n",
    "import plotly.express as px "
   ]
  },
  {
   "cell_type": "code",
   "execution_count": 34,
   "metadata": {},
   "outputs": [
    {
     "data": {
      "text/html": [
       "<div>\n",
       "<style scoped>\n",
       "    .dataframe tbody tr th:only-of-type {\n",
       "        vertical-align: middle;\n",
       "    }\n",
       "\n",
       "    .dataframe tbody tr th {\n",
       "        vertical-align: top;\n",
       "    }\n",
       "\n",
       "    .dataframe thead th {\n",
       "        text-align: right;\n",
       "    }\n",
       "</style>\n",
       "<table border=\"1\" class=\"dataframe\">\n",
       "  <thead>\n",
       "    <tr style=\"text-align: right;\">\n",
       "      <th></th>\n",
       "      <th>Country</th>\n",
       "      <th>Year</th>\n",
       "      <th>Milk</th>\n",
       "      <th>Cows</th>\n",
       "    </tr>\n",
       "  </thead>\n",
       "  <tbody>\n",
       "    <tr>\n",
       "      <th>0</th>\n",
       "      <td>Belgium</td>\n",
       "      <td>2011</td>\n",
       "      <td>3151.00</td>\n",
       "      <td>510.65</td>\n",
       "    </tr>\n",
       "    <tr>\n",
       "      <th>1</th>\n",
       "      <td>Bulgaria</td>\n",
       "      <td>2011</td>\n",
       "      <td>1126.00</td>\n",
       "      <td>313.18</td>\n",
       "    </tr>\n",
       "    <tr>\n",
       "      <th>2</th>\n",
       "      <td>Czechia</td>\n",
       "      <td>2011</td>\n",
       "      <td>2735.93</td>\n",
       "      <td>374.07</td>\n",
       "    </tr>\n",
       "    <tr>\n",
       "      <th>3</th>\n",
       "      <td>Denmark</td>\n",
       "      <td>2011</td>\n",
       "      <td>4879.50</td>\n",
       "      <td>579.00</td>\n",
       "    </tr>\n",
       "    <tr>\n",
       "      <th>4</th>\n",
       "      <td>Germany</td>\n",
       "      <td>2011</td>\n",
       "      <td>30301.36</td>\n",
       "      <td>4190.10</td>\n",
       "    </tr>\n",
       "  </tbody>\n",
       "</table>\n",
       "</div>"
      ],
      "text/plain": [
       "    Country  Year      Milk     Cows\n",
       "0   Belgium  2011   3151.00   510.65\n",
       "1  Bulgaria  2011   1126.00   313.18\n",
       "2   Czechia  2011   2735.93   374.07\n",
       "3   Denmark  2011   4879.50   579.00\n",
       "4   Germany  2011  30301.36  4190.10"
      ]
     },
     "execution_count": 34,
     "metadata": {},
     "output_type": "execute_result"
    }
   ],
   "source": [
    "data1.head() \n"
   ]
  },
  {
   "cell_type": "code",
   "execution_count": 35,
   "metadata": {},
   "outputs": [],
   "source": [
    "xmin, xmax = min(data1.Milk), max(data1.Milk) "
   ]
  },
  {
   "cell_type": "code",
   "execution_count": 36,
   "metadata": {},
   "outputs": [],
   "source": [
    "ymin, ymax = min(data1.Cows), max(data1.Cows) "
   ]
  },
  {
   "cell_type": "code",
   "execution_count": 37,
   "metadata": {},
   "outputs": [],
   "source": [
    "fig = px.scatter(data1, x=\"Milk\", y=\"Cows\", animation_frame=\"Country\",\n",
    "animation_group=\"Year\", color=\"Country\", hover_name=\"Country\",\n",
    "facet_col=\"Year\", width=1579, height=400, log_x=True, size_max=30,\n",
    "range_x=[xmin,xmax], range_y=[ymin,ymax]) \n"
   ]
  },
  {
   "cell_type": "code",
   "execution_count": 38,
   "metadata": {},
   "outputs": [
    {
     "data": {
      "application/vnd.plotly.v1+json": {
       "config": {
        "plotlyServerURL": "https://plot.ly"
       },
       "data": [
        {
         "hovertemplate": "<b>%{hovertext}</b><br><br>Country=Belgium<br>Year=2011<br>Milk=%{x}<br>Cows=%{y}<extra></extra>",
         "hovertext": [
          "Belgium"
         ],
         "ids": [
          2011
         ],
         "legendgroup": "Belgium",
         "marker": {
          "color": "#636efa",
          "symbol": "circle"
         },
         "mode": "markers",
         "name": "Belgium",
         "orientation": "v",
         "showlegend": true,
         "type": "scatter",
         "x": [
          3151
         ],
         "xaxis": "x",
         "y": [
          510.65
         ],
         "yaxis": "y"
        },
        {
         "hovertemplate": "<b>%{hovertext}</b><br><br>Country=Belgium<br>Year=2012<br>Milk=%{x}<br>Cows=%{y}<extra></extra>",
         "hovertext": [
          "Belgium"
         ],
         "ids": [
          2012
         ],
         "legendgroup": "Belgium",
         "marker": {
          "color": "#636efa",
          "symbol": "circle"
         },
         "mode": "markers",
         "name": "Belgium",
         "orientation": "v",
         "showlegend": false,
         "type": "scatter",
         "x": [
          3116
         ],
         "xaxis": "x2",
         "y": [
          503.54
         ],
         "yaxis": "y2"
        },
        {
         "hovertemplate": "<b>%{hovertext}</b><br><br>Country=Belgium<br>Year=2013<br>Milk=%{x}<br>Cows=%{y}<extra></extra>",
         "hovertext": [
          "Belgium"
         ],
         "ids": [
          2013
         ],
         "legendgroup": "Belgium",
         "marker": {
          "color": "#636efa",
          "symbol": "circle"
         },
         "mode": "markers",
         "name": "Belgium",
         "orientation": "v",
         "showlegend": false,
         "type": "scatter",
         "x": [
          3529
         ],
         "xaxis": "x3",
         "y": [
          515.99
         ],
         "yaxis": "y3"
        },
        {
         "hovertemplate": "<b>%{hovertext}</b><br><br>Country=Belgium<br>Year=2014<br>Milk=%{x}<br>Cows=%{y}<extra></extra>",
         "hovertext": [
          "Belgium"
         ],
         "ids": [
          2014
         ],
         "legendgroup": "Belgium",
         "marker": {
          "color": "#636efa",
          "symbol": "circle"
         },
         "mode": "markers",
         "name": "Belgium",
         "orientation": "v",
         "showlegend": false,
         "type": "scatter",
         "x": [
          3710
         ],
         "xaxis": "x4",
         "y": [
          519.09
         ],
         "yaxis": "y4"
        },
        {
         "hovertemplate": "<b>%{hovertext}</b><br><br>Country=Belgium<br>Year=2015<br>Milk=%{x}<br>Cows=%{y}<extra></extra>",
         "hovertext": [
          "Belgium"
         ],
         "ids": [
          2015
         ],
         "legendgroup": "Belgium",
         "marker": {
          "color": "#636efa",
          "symbol": "circle"
         },
         "mode": "markers",
         "name": "Belgium",
         "orientation": "v",
         "showlegend": false,
         "type": "scatter",
         "x": [
          3826
         ],
         "xaxis": "x5",
         "y": [
          528.78
         ],
         "yaxis": "y5"
        },
        {
         "hovertemplate": "<b>%{hovertext}</b><br><br>Country=Belgium<br>Year=2016<br>Milk=%{x}<br>Cows=%{y}<extra></extra>",
         "hovertext": [
          "Belgium"
         ],
         "ids": [
          2016
         ],
         "legendgroup": "Belgium",
         "marker": {
          "color": "#636efa",
          "symbol": "circle"
         },
         "mode": "markers",
         "name": "Belgium",
         "orientation": "v",
         "showlegend": false,
         "type": "scatter",
         "x": [
          3933
         ],
         "xaxis": "x6",
         "y": [
          530.59
         ],
         "yaxis": "y6"
        },
        {
         "hovertemplate": "<b>%{hovertext}</b><br><br>Country=Belgium<br>Year=2017<br>Milk=%{x}<br>Cows=%{y}<extra></extra>",
         "hovertext": [
          "Belgium"
         ],
         "ids": [
          2017
         ],
         "legendgroup": "Belgium",
         "marker": {
          "color": "#636efa",
          "symbol": "circle"
         },
         "mode": "markers",
         "name": "Belgium",
         "orientation": "v",
         "showlegend": false,
         "type": "scatter",
         "x": [
          4060
         ],
         "xaxis": "x7",
         "y": [
          519.16
         ],
         "yaxis": "y7"
        },
        {
         "hovertemplate": "<b>%{hovertext}</b><br><br>Country=Belgium<br>Year=2018<br>Milk=%{x}<br>Cows=%{y}<extra></extra>",
         "hovertext": [
          "Belgium"
         ],
         "ids": [
          2018
         ],
         "legendgroup": "Belgium",
         "marker": {
          "color": "#636efa",
          "symbol": "circle"
         },
         "mode": "markers",
         "name": "Belgium",
         "orientation": "v",
         "showlegend": false,
         "type": "scatter",
         "x": [
          4195
         ],
         "xaxis": "x8",
         "y": [
          529.25
         ],
         "yaxis": "y8"
        },
        {
         "hovertemplate": "<b>%{hovertext}</b><br><br>Country=Belgium<br>Year=2019<br>Milk=%{x}<br>Cows=%{y}<extra></extra>",
         "hovertext": [
          "Belgium"
         ],
         "ids": [
          2019
         ],
         "legendgroup": "Belgium",
         "marker": {
          "color": "#636efa",
          "symbol": "circle"
         },
         "mode": "markers",
         "name": "Belgium",
         "orientation": "v",
         "showlegend": false,
         "type": "scatter",
         "x": [
          4293
         ],
         "xaxis": "x9",
         "y": [
          537.96
         ],
         "yaxis": "y9"
        },
        {
         "hovertemplate": "<b>%{hovertext}</b><br><br>Country=Belgium<br>Year=2020<br>Milk=%{x}<br>Cows=%{y}<extra></extra>",
         "hovertext": [
          "Belgium"
         ],
         "ids": [
          2020
         ],
         "legendgroup": "Belgium",
         "marker": {
          "color": "#636efa",
          "symbol": "circle"
         },
         "mode": "markers",
         "name": "Belgium",
         "orientation": "v",
         "showlegend": false,
         "type": "scatter",
         "x": [
          4449
         ],
         "xaxis": "x10",
         "y": [
          537.94
         ],
         "yaxis": "y10"
        },
        {
         "hovertemplate": "<b>%{hovertext}</b><br><br>Country=Belgium<br>Year=2021<br>Milk=%{x}<br>Cows=%{y}<extra></extra>",
         "hovertext": [
          "Belgium"
         ],
         "ids": [
          2021
         ],
         "legendgroup": "Belgium",
         "marker": {
          "color": "#636efa",
          "symbol": "circle"
         },
         "mode": "markers",
         "name": "Belgium",
         "orientation": "v",
         "showlegend": false,
         "type": "scatter",
         "x": [
          4434
         ],
         "xaxis": "x11",
         "y": [
          537.25
         ],
         "yaxis": "y11"
        }
       ],
       "frames": [
        {
         "data": [
          {
           "hovertemplate": "<b>%{hovertext}</b><br><br>Country=Belgium<br>Year=2011<br>Milk=%{x}<br>Cows=%{y}<extra></extra>",
           "hovertext": [
            "Belgium"
           ],
           "ids": [
            2011
           ],
           "legendgroup": "Belgium",
           "marker": {
            "color": "#636efa",
            "symbol": "circle"
           },
           "mode": "markers",
           "name": "Belgium",
           "orientation": "v",
           "showlegend": true,
           "type": "scatter",
           "x": [
            3151
           ],
           "xaxis": "x",
           "y": [
            510.65
           ],
           "yaxis": "y"
          },
          {
           "hovertemplate": "<b>%{hovertext}</b><br><br>Country=Belgium<br>Year=2012<br>Milk=%{x}<br>Cows=%{y}<extra></extra>",
           "hovertext": [
            "Belgium"
           ],
           "ids": [
            2012
           ],
           "legendgroup": "Belgium",
           "marker": {
            "color": "#636efa",
            "symbol": "circle"
           },
           "mode": "markers",
           "name": "Belgium",
           "orientation": "v",
           "showlegend": false,
           "type": "scatter",
           "x": [
            3116
           ],
           "xaxis": "x2",
           "y": [
            503.54
           ],
           "yaxis": "y2"
          },
          {
           "hovertemplate": "<b>%{hovertext}</b><br><br>Country=Belgium<br>Year=2013<br>Milk=%{x}<br>Cows=%{y}<extra></extra>",
           "hovertext": [
            "Belgium"
           ],
           "ids": [
            2013
           ],
           "legendgroup": "Belgium",
           "marker": {
            "color": "#636efa",
            "symbol": "circle"
           },
           "mode": "markers",
           "name": "Belgium",
           "orientation": "v",
           "showlegend": false,
           "type": "scatter",
           "x": [
            3529
           ],
           "xaxis": "x3",
           "y": [
            515.99
           ],
           "yaxis": "y3"
          },
          {
           "hovertemplate": "<b>%{hovertext}</b><br><br>Country=Belgium<br>Year=2014<br>Milk=%{x}<br>Cows=%{y}<extra></extra>",
           "hovertext": [
            "Belgium"
           ],
           "ids": [
            2014
           ],
           "legendgroup": "Belgium",
           "marker": {
            "color": "#636efa",
            "symbol": "circle"
           },
           "mode": "markers",
           "name": "Belgium",
           "orientation": "v",
           "showlegend": false,
           "type": "scatter",
           "x": [
            3710
           ],
           "xaxis": "x4",
           "y": [
            519.09
           ],
           "yaxis": "y4"
          },
          {
           "hovertemplate": "<b>%{hovertext}</b><br><br>Country=Belgium<br>Year=2015<br>Milk=%{x}<br>Cows=%{y}<extra></extra>",
           "hovertext": [
            "Belgium"
           ],
           "ids": [
            2015
           ],
           "legendgroup": "Belgium",
           "marker": {
            "color": "#636efa",
            "symbol": "circle"
           },
           "mode": "markers",
           "name": "Belgium",
           "orientation": "v",
           "showlegend": false,
           "type": "scatter",
           "x": [
            3826
           ],
           "xaxis": "x5",
           "y": [
            528.78
           ],
           "yaxis": "y5"
          },
          {
           "hovertemplate": "<b>%{hovertext}</b><br><br>Country=Belgium<br>Year=2016<br>Milk=%{x}<br>Cows=%{y}<extra></extra>",
           "hovertext": [
            "Belgium"
           ],
           "ids": [
            2016
           ],
           "legendgroup": "Belgium",
           "marker": {
            "color": "#636efa",
            "symbol": "circle"
           },
           "mode": "markers",
           "name": "Belgium",
           "orientation": "v",
           "showlegend": false,
           "type": "scatter",
           "x": [
            3933
           ],
           "xaxis": "x6",
           "y": [
            530.59
           ],
           "yaxis": "y6"
          },
          {
           "hovertemplate": "<b>%{hovertext}</b><br><br>Country=Belgium<br>Year=2017<br>Milk=%{x}<br>Cows=%{y}<extra></extra>",
           "hovertext": [
            "Belgium"
           ],
           "ids": [
            2017
           ],
           "legendgroup": "Belgium",
           "marker": {
            "color": "#636efa",
            "symbol": "circle"
           },
           "mode": "markers",
           "name": "Belgium",
           "orientation": "v",
           "showlegend": false,
           "type": "scatter",
           "x": [
            4060
           ],
           "xaxis": "x7",
           "y": [
            519.16
           ],
           "yaxis": "y7"
          },
          {
           "hovertemplate": "<b>%{hovertext}</b><br><br>Country=Belgium<br>Year=2018<br>Milk=%{x}<br>Cows=%{y}<extra></extra>",
           "hovertext": [
            "Belgium"
           ],
           "ids": [
            2018
           ],
           "legendgroup": "Belgium",
           "marker": {
            "color": "#636efa",
            "symbol": "circle"
           },
           "mode": "markers",
           "name": "Belgium",
           "orientation": "v",
           "showlegend": false,
           "type": "scatter",
           "x": [
            4195
           ],
           "xaxis": "x8",
           "y": [
            529.25
           ],
           "yaxis": "y8"
          },
          {
           "hovertemplate": "<b>%{hovertext}</b><br><br>Country=Belgium<br>Year=2019<br>Milk=%{x}<br>Cows=%{y}<extra></extra>",
           "hovertext": [
            "Belgium"
           ],
           "ids": [
            2019
           ],
           "legendgroup": "Belgium",
           "marker": {
            "color": "#636efa",
            "symbol": "circle"
           },
           "mode": "markers",
           "name": "Belgium",
           "orientation": "v",
           "showlegend": false,
           "type": "scatter",
           "x": [
            4293
           ],
           "xaxis": "x9",
           "y": [
            537.96
           ],
           "yaxis": "y9"
          },
          {
           "hovertemplate": "<b>%{hovertext}</b><br><br>Country=Belgium<br>Year=2020<br>Milk=%{x}<br>Cows=%{y}<extra></extra>",
           "hovertext": [
            "Belgium"
           ],
           "ids": [
            2020
           ],
           "legendgroup": "Belgium",
           "marker": {
            "color": "#636efa",
            "symbol": "circle"
           },
           "mode": "markers",
           "name": "Belgium",
           "orientation": "v",
           "showlegend": false,
           "type": "scatter",
           "x": [
            4449
           ],
           "xaxis": "x10",
           "y": [
            537.94
           ],
           "yaxis": "y10"
          },
          {
           "hovertemplate": "<b>%{hovertext}</b><br><br>Country=Belgium<br>Year=2021<br>Milk=%{x}<br>Cows=%{y}<extra></extra>",
           "hovertext": [
            "Belgium"
           ],
           "ids": [
            2021
           ],
           "legendgroup": "Belgium",
           "marker": {
            "color": "#636efa",
            "symbol": "circle"
           },
           "mode": "markers",
           "name": "Belgium",
           "orientation": "v",
           "showlegend": false,
           "type": "scatter",
           "x": [
            4434
           ],
           "xaxis": "x11",
           "y": [
            537.25
           ],
           "yaxis": "y11"
          }
         ],
         "name": "Belgium"
        },
        {
         "data": [
          {
           "hovertemplate": "<b>%{hovertext}</b><br><br>Country=Bulgaria<br>Year=2011<br>Milk=%{x}<br>Cows=%{y}<extra></extra>",
           "hovertext": [
            "Bulgaria"
           ],
           "ids": [
            2011
           ],
           "legendgroup": "Bulgaria",
           "marker": {
            "color": "#EF553B",
            "symbol": "circle"
           },
           "mode": "markers",
           "name": "Bulgaria",
           "orientation": "v",
           "showlegend": true,
           "type": "scatter",
           "x": [
            1126
           ],
           "xaxis": "x",
           "y": [
            313.18
           ],
           "yaxis": "y"
          },
          {
           "hovertemplate": "<b>%{hovertext}</b><br><br>Country=Bulgaria<br>Year=2012<br>Milk=%{x}<br>Cows=%{y}<extra></extra>",
           "hovertext": [
            "Bulgaria"
           ],
           "ids": [
            2012
           ],
           "legendgroup": "Bulgaria",
           "marker": {
            "color": "#EF553B",
            "symbol": "circle"
           },
           "mode": "markers",
           "name": "Bulgaria",
           "orientation": "v",
           "showlegend": false,
           "type": "scatter",
           "x": [
            1093
           ],
           "xaxis": "x2",
           "y": [
            294.49
           ],
           "yaxis": "y2"
          },
          {
           "hovertemplate": "<b>%{hovertext}</b><br><br>Country=Bulgaria<br>Year=2013<br>Milk=%{x}<br>Cows=%{y}<extra></extra>",
           "hovertext": [
            "Bulgaria"
           ],
           "ids": [
            2013
           ],
           "legendgroup": "Bulgaria",
           "marker": {
            "color": "#EF553B",
            "symbol": "circle"
           },
           "mode": "markers",
           "name": "Bulgaria",
           "orientation": "v",
           "showlegend": false,
           "type": "scatter",
           "x": [
            1149
           ],
           "xaxis": "x3",
           "y": [
            313.25
           ],
           "yaxis": "y3"
          },
          {
           "hovertemplate": "<b>%{hovertext}</b><br><br>Country=Bulgaria<br>Year=2014<br>Milk=%{x}<br>Cows=%{y}<extra></extra>",
           "hovertext": [
            "Bulgaria"
           ],
           "ids": [
            2014
           ],
           "legendgroup": "Bulgaria",
           "marker": {
            "color": "#EF553B",
            "symbol": "circle"
           },
           "mode": "markers",
           "name": "Bulgaria",
           "orientation": "v",
           "showlegend": false,
           "type": "scatter",
           "x": [
            1103
           ],
           "xaxis": "x4",
           "y": [
            301.71
           ],
           "yaxis": "y4"
          },
          {
           "hovertemplate": "<b>%{hovertext}</b><br><br>Country=Bulgaria<br>Year=2015<br>Milk=%{x}<br>Cows=%{y}<extra></extra>",
           "hovertext": [
            "Bulgaria"
           ],
           "ids": [
            2015
           ],
           "legendgroup": "Bulgaria",
           "marker": {
            "color": "#EF553B",
            "symbol": "circle"
           },
           "mode": "markers",
           "name": "Bulgaria",
           "orientation": "v",
           "showlegend": false,
           "type": "scatter",
           "x": [
            1028.04
           ],
           "xaxis": "x5",
           "y": [
            282.96
           ],
           "yaxis": "y5"
          },
          {
           "hovertemplate": "<b>%{hovertext}</b><br><br>Country=Bulgaria<br>Year=2016<br>Milk=%{x}<br>Cows=%{y}<extra></extra>",
           "hovertext": [
            "Bulgaria"
           ],
           "ids": [
            2016
           ],
           "legendgroup": "Bulgaria",
           "marker": {
            "color": "#EF553B",
            "symbol": "circle"
           },
           "mode": "markers",
           "name": "Bulgaria",
           "orientation": "v",
           "showlegend": false,
           "type": "scatter",
           "x": [
            1018.58
           ],
           "xaxis": "x6",
           "y": [
            278.92
           ],
           "yaxis": "y6"
          },
          {
           "hovertemplate": "<b>%{hovertext}</b><br><br>Country=Bulgaria<br>Year=2017<br>Milk=%{x}<br>Cows=%{y}<extra></extra>",
           "hovertext": [
            "Bulgaria"
           ],
           "ids": [
            2017
           ],
           "legendgroup": "Bulgaria",
           "marker": {
            "color": "#EF553B",
            "symbol": "circle"
           },
           "mode": "markers",
           "name": "Bulgaria",
           "orientation": "v",
           "showlegend": false,
           "type": "scatter",
           "x": [
            968.18
           ],
           "xaxis": "x7",
           "y": [
            260.78
           ],
           "yaxis": "y7"
          },
          {
           "hovertemplate": "<b>%{hovertext}</b><br><br>Country=Bulgaria<br>Year=2018<br>Milk=%{x}<br>Cows=%{y}<extra></extra>",
           "hovertext": [
            "Bulgaria"
           ],
           "ids": [
            2018
           ],
           "legendgroup": "Bulgaria",
           "marker": {
            "color": "#EF553B",
            "symbol": "circle"
           },
           "mode": "markers",
           "name": "Bulgaria",
           "orientation": "v",
           "showlegend": false,
           "type": "scatter",
           "x": [
            898.77
           ],
           "xaxis": "x8",
           "y": [
            244.36
           ],
           "yaxis": "y8"
          },
          {
           "hovertemplate": "<b>%{hovertext}</b><br><br>Country=Bulgaria<br>Year=2019<br>Milk=%{x}<br>Cows=%{y}<extra></extra>",
           "hovertext": [
            "Bulgaria"
           ],
           "ids": [
            2019
           ],
           "legendgroup": "Bulgaria",
           "marker": {
            "color": "#EF553B",
            "symbol": "circle"
           },
           "mode": "markers",
           "name": "Bulgaria",
           "orientation": "v",
           "showlegend": false,
           "type": "scatter",
           "x": [
            822.3
           ],
           "xaxis": "x9",
           "y": [
            226.69
           ],
           "yaxis": "y9"
          },
          {
           "hovertemplate": "<b>%{hovertext}</b><br><br>Country=Bulgaria<br>Year=2020<br>Milk=%{x}<br>Cows=%{y}<extra></extra>",
           "hovertext": [
            "Bulgaria"
           ],
           "ids": [
            2020
           ],
           "legendgroup": "Bulgaria",
           "marker": {
            "color": "#EF553B",
            "symbol": "circle"
           },
           "mode": "markers",
           "name": "Bulgaria",
           "orientation": "v",
           "showlegend": false,
           "type": "scatter",
           "x": [
            881.76
           ],
           "xaxis": "x10",
           "y": [
            241.94
           ],
           "yaxis": "y10"
          },
          {
           "hovertemplate": "<b>%{hovertext}</b><br><br>Country=Bulgaria<br>Year=2021<br>Milk=%{x}<br>Cows=%{y}<extra></extra>",
           "hovertext": [
            "Bulgaria"
           ],
           "ids": [
            2021
           ],
           "legendgroup": "Bulgaria",
           "marker": {
            "color": "#EF553B",
            "symbol": "circle"
           },
           "mode": "markers",
           "name": "Bulgaria",
           "orientation": "v",
           "showlegend": false,
           "type": "scatter",
           "x": [
            835.78
           ],
           "xaxis": "x11",
           "y": [
            230.34
           ],
           "yaxis": "y11"
          }
         ],
         "name": "Bulgaria"
        },
        {
         "data": [
          {
           "hovertemplate": "<b>%{hovertext}</b><br><br>Country=Czechia<br>Year=2011<br>Milk=%{x}<br>Cows=%{y}<extra></extra>",
           "hovertext": [
            "Czechia"
           ],
           "ids": [
            2011
           ],
           "legendgroup": "Czechia",
           "marker": {
            "color": "#00cc96",
            "symbol": "circle"
           },
           "mode": "markers",
           "name": "Czechia",
           "orientation": "v",
           "showlegend": true,
           "type": "scatter",
           "x": [
            2735.93
           ],
           "xaxis": "x",
           "y": [
            374.07
           ],
           "yaxis": "y"
          },
          {
           "hovertemplate": "<b>%{hovertext}</b><br><br>Country=Czechia<br>Year=2012<br>Milk=%{x}<br>Cows=%{y}<extra></extra>",
           "hovertext": [
            "Czechia"
           ],
           "ids": [
            2012
           ],
           "legendgroup": "Czechia",
           "marker": {
            "color": "#00cc96",
            "symbol": "circle"
           },
           "mode": "markers",
           "name": "Czechia",
           "orientation": "v",
           "showlegend": false,
           "type": "scatter",
           "x": [
            2814.68
           ],
           "xaxis": "x2",
           "y": [
            367.07
           ],
           "yaxis": "y2"
          },
          {
           "hovertemplate": "<b>%{hovertext}</b><br><br>Country=Czechia<br>Year=2013<br>Milk=%{x}<br>Cows=%{y}<extra></extra>",
           "hovertext": [
            "Czechia"
           ],
           "ids": [
            2013
           ],
           "legendgroup": "Czechia",
           "marker": {
            "color": "#00cc96",
            "symbol": "circle"
           },
           "mode": "markers",
           "name": "Czechia",
           "orientation": "v",
           "showlegend": false,
           "type": "scatter",
           "x": [
            2849.43
           ],
           "xaxis": "x3",
           "y": [
            375.33
           ],
           "yaxis": "y3"
          },
          {
           "hovertemplate": "<b>%{hovertext}</b><br><br>Country=Czechia<br>Year=2014<br>Milk=%{x}<br>Cows=%{y}<extra></extra>",
           "hovertext": [
            "Czechia"
           ],
           "ids": [
            2014
           ],
           "legendgroup": "Czechia",
           "marker": {
            "color": "#00cc96",
            "symbol": "circle"
           },
           "mode": "markers",
           "name": "Czechia",
           "orientation": "v",
           "showlegend": false,
           "type": "scatter",
           "x": [
            2933.46
           ],
           "xaxis": "x4",
           "y": [
            372.39
           ],
           "yaxis": "y4"
          },
          {
           "hovertemplate": "<b>%{hovertext}</b><br><br>Country=Czechia<br>Year=2015<br>Milk=%{x}<br>Cows=%{y}<extra></extra>",
           "hovertext": [
            "Czechia"
           ],
           "ids": [
            2015
           ],
           "legendgroup": "Czechia",
           "marker": {
            "color": "#00cc96",
            "symbol": "circle"
           },
           "mode": "markers",
           "name": "Czechia",
           "orientation": "v",
           "showlegend": false,
           "type": "scatter",
           "x": [
            3025.88
           ],
           "xaxis": "x5",
           "y": [
            369.06
           ],
           "yaxis": "y5"
          },
          {
           "hovertemplate": "<b>%{hovertext}</b><br><br>Country=Czechia<br>Year=2016<br>Milk=%{x}<br>Cows=%{y}<extra></extra>",
           "hovertext": [
            "Czechia"
           ],
           "ids": [
            2016
           ],
           "legendgroup": "Czechia",
           "marker": {
            "color": "#00cc96",
            "symbol": "circle"
           },
           "mode": "markers",
           "name": "Czechia",
           "orientation": "v",
           "showlegend": false,
           "type": "scatter",
           "x": [
            3064.73
           ],
           "xaxis": "x6",
           "y": [
            367.31
           ],
           "yaxis": "y6"
          },
          {
           "hovertemplate": "<b>%{hovertext}</b><br><br>Country=Czechia<br>Year=2017<br>Milk=%{x}<br>Cows=%{y}<extra></extra>",
           "hovertext": [
            "Czechia"
           ],
           "ids": [
            2017
           ],
           "legendgroup": "Czechia",
           "marker": {
            "color": "#00cc96",
            "symbol": "circle"
           },
           "mode": "markers",
           "name": "Czechia",
           "orientation": "v",
           "showlegend": false,
           "type": "scatter",
           "x": [
            3079.21
           ],
           "xaxis": "x7",
           "y": [
            365.46
           ],
           "yaxis": "y7"
          },
          {
           "hovertemplate": "<b>%{hovertext}</b><br><br>Country=Czechia<br>Year=2018<br>Milk=%{x}<br>Cows=%{y}<extra></extra>",
           "hovertext": [
            "Czechia"
           ],
           "ids": [
            2018
           ],
           "legendgroup": "Czechia",
           "marker": {
            "color": "#00cc96",
            "symbol": "circle"
           },
           "mode": "markers",
           "name": "Czechia",
           "orientation": "v",
           "showlegend": false,
           "type": "scatter",
           "x": [
            3161.51
           ],
           "xaxis": "x8",
           "y": [
            358.6
           ],
           "yaxis": "y8"
          },
          {
           "hovertemplate": "<b>%{hovertext}</b><br><br>Country=Czechia<br>Year=2019<br>Milk=%{x}<br>Cows=%{y}<extra></extra>",
           "hovertext": [
            "Czechia"
           ],
           "ids": [
            2019
           ],
           "legendgroup": "Czechia",
           "marker": {
            "color": "#00cc96",
            "symbol": "circle"
           },
           "mode": "markers",
           "name": "Czechia",
           "orientation": "v",
           "showlegend": false,
           "type": "scatter",
           "x": [
            3155.79
           ],
           "xaxis": "x9",
           "y": [
            361.43
           ],
           "yaxis": "y9"
          },
          {
           "hovertemplate": "<b>%{hovertext}</b><br><br>Country=Czechia<br>Year=2020<br>Milk=%{x}<br>Cows=%{y}<extra></extra>",
           "hovertext": [
            "Czechia"
           ],
           "ids": [
            2020
           ],
           "legendgroup": "Czechia",
           "marker": {
            "color": "#00cc96",
            "symbol": "circle"
           },
           "mode": "markers",
           "name": "Czechia",
           "orientation": "v",
           "showlegend": false,
           "type": "scatter",
           "x": [
            3267.73
           ],
           "xaxis": "x10",
           "y": [
            357.01
           ],
           "yaxis": "y10"
          },
          {
           "hovertemplate": "<b>%{hovertext}</b><br><br>Country=Czechia<br>Year=2021<br>Milk=%{x}<br>Cows=%{y}<extra></extra>",
           "hovertext": [
            "Czechia"
           ],
           "ids": [
            2021
           ],
           "legendgroup": "Czechia",
           "marker": {
            "color": "#00cc96",
            "symbol": "circle"
           },
           "mode": "markers",
           "name": "Czechia",
           "orientation": "v",
           "showlegend": false,
           "type": "scatter",
           "x": [
            3309.91
           ],
           "xaxis": "x11",
           "y": [
            362.35
           ],
           "yaxis": "y11"
          }
         ],
         "name": "Czechia"
        },
        {
         "data": [
          {
           "hovertemplate": "<b>%{hovertext}</b><br><br>Country=Denmark<br>Year=2011<br>Milk=%{x}<br>Cows=%{y}<extra></extra>",
           "hovertext": [
            "Denmark"
           ],
           "ids": [
            2011
           ],
           "legendgroup": "Denmark",
           "marker": {
            "color": "#ab63fa",
            "symbol": "circle"
           },
           "mode": "markers",
           "name": "Denmark",
           "orientation": "v",
           "showlegend": true,
           "type": "scatter",
           "x": [
            4879.5
           ],
           "xaxis": "x",
           "y": [
            579
           ],
           "yaxis": "y"
          },
          {
           "hovertemplate": "<b>%{hovertext}</b><br><br>Country=Denmark<br>Year=2012<br>Milk=%{x}<br>Cows=%{y}<extra></extra>",
           "hovertext": [
            "Denmark"
           ],
           "ids": [
            2012
           ],
           "legendgroup": "Denmark",
           "marker": {
            "color": "#ab63fa",
            "symbol": "circle"
           },
           "mode": "markers",
           "name": "Denmark",
           "orientation": "v",
           "showlegend": false,
           "type": "scatter",
           "x": [
            5006.4
           ],
           "xaxis": "x2",
           "y": [
            579
           ],
           "yaxis": "y2"
          },
          {
           "hovertemplate": "<b>%{hovertext}</b><br><br>Country=Denmark<br>Year=2013<br>Milk=%{x}<br>Cows=%{y}<extra></extra>",
           "hovertext": [
            "Denmark"
           ],
           "ids": [
            2013
           ],
           "legendgroup": "Denmark",
           "marker": {
            "color": "#ab63fa",
            "symbol": "circle"
           },
           "mode": "markers",
           "name": "Denmark",
           "orientation": "v",
           "showlegend": false,
           "type": "scatter",
           "x": [
            5081.8
           ],
           "xaxis": "x3",
           "y": [
            567
           ],
           "yaxis": "y3"
          },
          {
           "hovertemplate": "<b>%{hovertext}</b><br><br>Country=Denmark<br>Year=2014<br>Milk=%{x}<br>Cows=%{y}<extra></extra>",
           "hovertext": [
            "Denmark"
           ],
           "ids": [
            2014
           ],
           "legendgroup": "Denmark",
           "marker": {
            "color": "#ab63fa",
            "symbol": "circle"
           },
           "mode": "markers",
           "name": "Denmark",
           "orientation": "v",
           "showlegend": false,
           "type": "scatter",
           "x": [
            5162
           ],
           "xaxis": "x4",
           "y": [
            547
           ],
           "yaxis": "y4"
          },
          {
           "hovertemplate": "<b>%{hovertext}</b><br><br>Country=Denmark<br>Year=2015<br>Milk=%{x}<br>Cows=%{y}<extra></extra>",
           "hovertext": [
            "Denmark"
           ],
           "ids": [
            2015
           ],
           "legendgroup": "Denmark",
           "marker": {
            "color": "#ab63fa",
            "symbol": "circle"
           },
           "mode": "markers",
           "name": "Denmark",
           "orientation": "v",
           "showlegend": false,
           "type": "scatter",
           "x": [
            5335.7
           ],
           "xaxis": "x5",
           "y": [
            570
           ],
           "yaxis": "y5"
          },
          {
           "hovertemplate": "<b>%{hovertext}</b><br><br>Country=Denmark<br>Year=2016<br>Milk=%{x}<br>Cows=%{y}<extra></extra>",
           "hovertext": [
            "Denmark"
           ],
           "ids": [
            2016
           ],
           "legendgroup": "Denmark",
           "marker": {
            "color": "#ab63fa",
            "symbol": "circle"
           },
           "mode": "markers",
           "name": "Denmark",
           "orientation": "v",
           "showlegend": false,
           "type": "scatter",
           "x": [
            5435.7
           ],
           "xaxis": "x6",
           "y": [
            565
           ],
           "yaxis": "y6"
          },
          {
           "hovertemplate": "<b>%{hovertext}</b><br><br>Country=Denmark<br>Year=2017<br>Milk=%{x}<br>Cows=%{y}<extra></extra>",
           "hovertext": [
            "Denmark"
           ],
           "ids": [
            2017
           ],
           "legendgroup": "Denmark",
           "marker": {
            "color": "#ab63fa",
            "symbol": "circle"
           },
           "mode": "markers",
           "name": "Denmark",
           "orientation": "v",
           "showlegend": false,
           "type": "scatter",
           "x": [
            5502.2
           ],
           "xaxis": "x7",
           "y": [
            575
           ],
           "yaxis": "y7"
          },
          {
           "hovertemplate": "<b>%{hovertext}</b><br><br>Country=Denmark<br>Year=2018<br>Milk=%{x}<br>Cows=%{y}<extra></extra>",
           "hovertext": [
            "Denmark"
           ],
           "ids": [
            2018
           ],
           "legendgroup": "Denmark",
           "marker": {
            "color": "#ab63fa",
            "symbol": "circle"
           },
           "mode": "markers",
           "name": "Denmark",
           "orientation": "v",
           "showlegend": false,
           "type": "scatter",
           "x": [
            5615.2
           ],
           "xaxis": "x8",
           "y": [
            570
           ],
           "yaxis": "y8"
          },
          {
           "hovertemplate": "<b>%{hovertext}</b><br><br>Country=Denmark<br>Year=2019<br>Milk=%{x}<br>Cows=%{y}<extra></extra>",
           "hovertext": [
            "Denmark"
           ],
           "ids": [
            2019
           ],
           "legendgroup": "Denmark",
           "marker": {
            "color": "#ab63fa",
            "symbol": "circle"
           },
           "mode": "markers",
           "name": "Denmark",
           "orientation": "v",
           "showlegend": false,
           "type": "scatter",
           "x": [
            5615
           ],
           "xaxis": "x9",
           "y": [
            563
           ],
           "yaxis": "y9"
          },
          {
           "hovertemplate": "<b>%{hovertext}</b><br><br>Country=Denmark<br>Year=2020<br>Milk=%{x}<br>Cows=%{y}<extra></extra>",
           "hovertext": [
            "Denmark"
           ],
           "ids": [
            2020
           ],
           "legendgroup": "Denmark",
           "marker": {
            "color": "#ab63fa",
            "symbol": "circle"
           },
           "mode": "markers",
           "name": "Denmark",
           "orientation": "v",
           "showlegend": false,
           "type": "scatter",
           "x": [
            5666
           ],
           "xaxis": "x10",
           "y": [
            565
           ],
           "yaxis": "y10"
          },
          {
           "hovertemplate": "<b>%{hovertext}</b><br><br>Country=Denmark<br>Year=2021<br>Milk=%{x}<br>Cows=%{y}<extra></extra>",
           "hovertext": [
            "Denmark"
           ],
           "ids": [
            2021
           ],
           "legendgroup": "Denmark",
           "marker": {
            "color": "#ab63fa",
            "symbol": "circle"
           },
           "mode": "markers",
           "name": "Denmark",
           "orientation": "v",
           "showlegend": false,
           "type": "scatter",
           "x": [
            5644
           ],
           "xaxis": "x11",
           "y": [
            559
           ],
           "yaxis": "y11"
          }
         ],
         "name": "Denmark"
        },
        {
         "data": [
          {
           "hovertemplate": "<b>%{hovertext}</b><br><br>Country=Germany<br>Year=2011<br>Milk=%{x}<br>Cows=%{y}<extra></extra>",
           "hovertext": [
            "Germany"
           ],
           "ids": [
            2011
           ],
           "legendgroup": "Germany",
           "marker": {
            "color": "#FFA15A",
            "symbol": "circle"
           },
           "mode": "markers",
           "name": "Germany",
           "orientation": "v",
           "showlegend": true,
           "type": "scatter",
           "x": [
            30301.36
           ],
           "xaxis": "x",
           "y": [
            4190.1
           ],
           "yaxis": "y"
          },
          {
           "hovertemplate": "<b>%{hovertext}</b><br><br>Country=Germany<br>Year=2012<br>Milk=%{x}<br>Cows=%{y}<extra></extra>",
           "hovertext": [
            "Germany"
           ],
           "ids": [
            2012
           ],
           "legendgroup": "Germany",
           "marker": {
            "color": "#FFA15A",
            "symbol": "circle"
           },
           "mode": "markers",
           "name": "Germany",
           "orientation": "v",
           "showlegend": false,
           "type": "scatter",
           "x": [
            30672.15
           ],
           "xaxis": "x2",
           "y": [
            4190.49
           ],
           "yaxis": "y2"
          },
          {
           "hovertemplate": "<b>%{hovertext}</b><br><br>Country=Germany<br>Year=2013<br>Milk=%{x}<br>Cows=%{y}<extra></extra>",
           "hovertext": [
            "Germany"
           ],
           "ids": [
            2013
           ],
           "legendgroup": "Germany",
           "marker": {
            "color": "#FFA15A",
            "symbol": "circle"
           },
           "mode": "markers",
           "name": "Germany",
           "orientation": "v",
           "showlegend": false,
           "type": "scatter",
           "x": [
            31324.24
           ],
           "xaxis": "x3",
           "y": [
            4267.61
           ],
           "yaxis": "y3"
          },
          {
           "hovertemplate": "<b>%{hovertext}</b><br><br>Country=Germany<br>Year=2014<br>Milk=%{x}<br>Cows=%{y}<extra></extra>",
           "hovertext": [
            "Germany"
           ],
           "ids": [
            2014
           ],
           "legendgroup": "Germany",
           "marker": {
            "color": "#FFA15A",
            "symbol": "circle"
           },
           "mode": "markers",
           "name": "Germany",
           "orientation": "v",
           "showlegend": false,
           "type": "scatter",
           "x": [
            32381.06
           ],
           "xaxis": "x4",
           "y": [
            4295.68
           ],
           "yaxis": "y4"
          },
          {
           "hovertemplate": "<b>%{hovertext}</b><br><br>Country=Germany<br>Year=2015<br>Milk=%{x}<br>Cows=%{y}<extra></extra>",
           "hovertext": [
            "Germany"
           ],
           "ids": [
            2015
           ],
           "legendgroup": "Germany",
           "marker": {
            "color": "#FFA15A",
            "symbol": "circle"
           },
           "mode": "markers",
           "name": "Germany",
           "orientation": "v",
           "showlegend": false,
           "type": "scatter",
           "x": [
            32670.88
           ],
           "xaxis": "x5",
           "y": [
            4284.64
           ],
           "yaxis": "y5"
          },
          {
           "hovertemplate": "<b>%{hovertext}</b><br><br>Country=Germany<br>Year=2016<br>Milk=%{x}<br>Cows=%{y}<extra></extra>",
           "hovertext": [
            "Germany"
           ],
           "ids": [
            2016
           ],
           "legendgroup": "Germany",
           "marker": {
            "color": "#FFA15A",
            "symbol": "circle"
           },
           "mode": "markers",
           "name": "Germany",
           "orientation": "v",
           "showlegend": false,
           "type": "scatter",
           "x": [
            32672.34
           ],
           "xaxis": "x6",
           "y": [
            4217.7
           ],
           "yaxis": "y6"
          },
          {
           "hovertemplate": "<b>%{hovertext}</b><br><br>Country=Germany<br>Year=2017<br>Milk=%{x}<br>Cows=%{y}<extra></extra>",
           "hovertext": [
            "Germany"
           ],
           "ids": [
            2017
           ],
           "legendgroup": "Germany",
           "marker": {
            "color": "#FFA15A",
            "symbol": "circle"
           },
           "mode": "markers",
           "name": "Germany",
           "orientation": "v",
           "showlegend": false,
           "type": "scatter",
           "x": [
            32598.2
           ],
           "xaxis": "x7",
           "y": [
            4199.01
           ],
           "yaxis": "y7"
          },
          {
           "hovertemplate": "<b>%{hovertext}</b><br><br>Country=Germany<br>Year=2018<br>Milk=%{x}<br>Cows=%{y}<extra></extra>",
           "hovertext": [
            "Germany"
           ],
           "ids": [
            2018
           ],
           "legendgroup": "Germany",
           "marker": {
            "color": "#FFA15A",
            "symbol": "circle"
           },
           "mode": "markers",
           "name": "Germany",
           "orientation": "v",
           "showlegend": false,
           "type": "scatter",
           "x": [
            33086.81
           ],
           "xaxis": "x8",
           "y": [
            4100.86
           ],
           "yaxis": "y8"
          },
          {
           "hovertemplate": "<b>%{hovertext}</b><br><br>Country=Germany<br>Year=2019<br>Milk=%{x}<br>Cows=%{y}<extra></extra>",
           "hovertext": [
            "Germany"
           ],
           "ids": [
            2019
           ],
           "legendgroup": "Germany",
           "marker": {
            "color": "#FFA15A",
            "symbol": "circle"
           },
           "mode": "markers",
           "name": "Germany",
           "orientation": "v",
           "showlegend": false,
           "type": "scatter",
           "x": [
            33080.18
           ],
           "xaxis": "x9",
           "y": [
            4011.67
           ],
           "yaxis": "y9"
          },
          {
           "hovertemplate": "<b>%{hovertext}</b><br><br>Country=Germany<br>Year=2020<br>Milk=%{x}<br>Cows=%{y}<extra></extra>",
           "hovertext": [
            "Germany"
           ],
           "ids": [
            2020
           ],
           "legendgroup": "Germany",
           "marker": {
            "color": "#FFA15A",
            "symbol": "circle"
           },
           "mode": "markers",
           "name": "Germany",
           "orientation": "v",
           "showlegend": false,
           "type": "scatter",
           "x": [
            33164.91
           ],
           "xaxis": "x10",
           "y": [
            3921.41
           ],
           "yaxis": "y10"
          },
          {
           "hovertemplate": "<b>%{hovertext}</b><br><br>Country=Germany<br>Year=2021<br>Milk=%{x}<br>Cows=%{y}<extra></extra>",
           "hovertext": [
            "Germany"
           ],
           "ids": [
            2021
           ],
           "legendgroup": "Germany",
           "marker": {
            "color": "#FFA15A",
            "symbol": "circle"
           },
           "mode": "markers",
           "name": "Germany",
           "orientation": "v",
           "showlegend": false,
           "type": "scatter",
           "x": [
            32506.91
           ],
           "xaxis": "x11",
           "y": [
            3832.72
           ],
           "yaxis": "y11"
          }
         ],
         "name": "Germany"
        },
        {
         "data": [
          {
           "hovertemplate": "<b>%{hovertext}</b><br><br>Country=Estonia<br>Year=2011<br>Milk=%{x}<br>Cows=%{y}<extra></extra>",
           "hovertext": [
            "Estonia"
           ],
           "ids": [
            2011
           ],
           "legendgroup": "Estonia",
           "marker": {
            "color": "#19d3f3",
            "symbol": "circle"
           },
           "mode": "markers",
           "name": "Estonia",
           "orientation": "v",
           "showlegend": true,
           "type": "scatter",
           "x": [
            692.4
           ],
           "xaxis": "x",
           "y": [
            96.2
           ],
           "yaxis": "y"
          },
          {
           "hovertemplate": "<b>%{hovertext}</b><br><br>Country=Estonia<br>Year=2012<br>Milk=%{x}<br>Cows=%{y}<extra></extra>",
           "hovertext": [
            "Estonia"
           ],
           "ids": [
            2012
           ],
           "legendgroup": "Estonia",
           "marker": {
            "color": "#19d3f3",
            "symbol": "circle"
           },
           "mode": "markers",
           "name": "Estonia",
           "orientation": "v",
           "showlegend": false,
           "type": "scatter",
           "x": [
            720.7
           ],
           "xaxis": "x2",
           "y": [
            96.8
           ],
           "yaxis": "y2"
          },
          {
           "hovertemplate": "<b>%{hovertext}</b><br><br>Country=Estonia<br>Year=2013<br>Milk=%{x}<br>Cows=%{y}<extra></extra>",
           "hovertext": [
            "Estonia"
           ],
           "ids": [
            2013
           ],
           "legendgroup": "Estonia",
           "marker": {
            "color": "#19d3f3",
            "symbol": "circle"
           },
           "mode": "markers",
           "name": "Estonia",
           "orientation": "v",
           "showlegend": false,
           "type": "scatter",
           "x": [
            771.6
           ],
           "xaxis": "x3",
           "y": [
            97.9
           ],
           "yaxis": "y3"
          },
          {
           "hovertemplate": "<b>%{hovertext}</b><br><br>Country=Estonia<br>Year=2014<br>Milk=%{x}<br>Cows=%{y}<extra></extra>",
           "hovertext": [
            "Estonia"
           ],
           "ids": [
            2014
           ],
           "legendgroup": "Estonia",
           "marker": {
            "color": "#19d3f3",
            "symbol": "circle"
           },
           "mode": "markers",
           "name": "Estonia",
           "orientation": "v",
           "showlegend": false,
           "type": "scatter",
           "x": [
            804.8
           ],
           "xaxis": "x4",
           "y": [
            95.6
           ],
           "yaxis": "y4"
          },
          {
           "hovertemplate": "<b>%{hovertext}</b><br><br>Country=Estonia<br>Year=2015<br>Milk=%{x}<br>Cows=%{y}<extra></extra>",
           "hovertext": [
            "Estonia"
           ],
           "ids": [
            2015
           ],
           "legendgroup": "Estonia",
           "marker": {
            "color": "#19d3f3",
            "symbol": "circle"
           },
           "mode": "markers",
           "name": "Estonia",
           "orientation": "v",
           "showlegend": false,
           "type": "scatter",
           "x": [
            782.7
           ],
           "xaxis": "x5",
           "y": [
            90.6
           ],
           "yaxis": "y5"
          },
          {
           "hovertemplate": "<b>%{hovertext}</b><br><br>Country=Estonia<br>Year=2016<br>Milk=%{x}<br>Cows=%{y}<extra></extra>",
           "hovertext": [
            "Estonia"
           ],
           "ids": [
            2016
           ],
           "legendgroup": "Estonia",
           "marker": {
            "color": "#19d3f3",
            "symbol": "circle"
           },
           "mode": "markers",
           "name": "Estonia",
           "orientation": "v",
           "showlegend": false,
           "type": "scatter",
           "x": [
            782.7
           ],
           "xaxis": "x6",
           "y": [
            86.1
           ],
           "yaxis": "y6"
          },
          {
           "hovertemplate": "<b>%{hovertext}</b><br><br>Country=Estonia<br>Year=2017<br>Milk=%{x}<br>Cows=%{y}<extra></extra>",
           "hovertext": [
            "Estonia"
           ],
           "ids": [
            2017
           ],
           "legendgroup": "Estonia",
           "marker": {
            "color": "#19d3f3",
            "symbol": "circle"
           },
           "mode": "markers",
           "name": "Estonia",
           "orientation": "v",
           "showlegend": false,
           "type": "scatter",
           "x": [
            790
           ],
           "xaxis": "x7",
           "y": [
            86.4
           ],
           "yaxis": "y7"
          },
          {
           "hovertemplate": "<b>%{hovertext}</b><br><br>Country=Estonia<br>Year=2018<br>Milk=%{x}<br>Cows=%{y}<extra></extra>",
           "hovertext": [
            "Estonia"
           ],
           "ids": [
            2018
           ],
           "legendgroup": "Estonia",
           "marker": {
            "color": "#19d3f3",
            "symbol": "circle"
           },
           "mode": "markers",
           "name": "Estonia",
           "orientation": "v",
           "showlegend": false,
           "type": "scatter",
           "x": [
            796.9
           ],
           "xaxis": "x8",
           "y": [
            85.2
           ],
           "yaxis": "y8"
          },
          {
           "hovertemplate": "<b>%{hovertext}</b><br><br>Country=Estonia<br>Year=2019<br>Milk=%{x}<br>Cows=%{y}<extra></extra>",
           "hovertext": [
            "Estonia"
           ],
           "ids": [
            2019
           ],
           "legendgroup": "Estonia",
           "marker": {
            "color": "#19d3f3",
            "symbol": "circle"
           },
           "mode": "markers",
           "name": "Estonia",
           "orientation": "v",
           "showlegend": false,
           "type": "scatter",
           "x": [
            820.8
           ],
           "xaxis": "x9",
           "y": [
            85
           ],
           "yaxis": "y9"
          },
          {
           "hovertemplate": "<b>%{hovertext}</b><br><br>Country=Estonia<br>Year=2020<br>Milk=%{x}<br>Cows=%{y}<extra></extra>",
           "hovertext": [
            "Estonia"
           ],
           "ids": [
            2020
           ],
           "legendgroup": "Estonia",
           "marker": {
            "color": "#19d3f3",
            "symbol": "circle"
           },
           "mode": "markers",
           "name": "Estonia",
           "orientation": "v",
           "showlegend": false,
           "type": "scatter",
           "x": [
            848.3
           ],
           "xaxis": "x10",
           "y": [
            84.3
           ],
           "yaxis": "y10"
          },
          {
           "hovertemplate": "<b>%{hovertext}</b><br><br>Country=Estonia<br>Year=2021<br>Milk=%{x}<br>Cows=%{y}<extra></extra>",
           "hovertext": [
            "Estonia"
           ],
           "ids": [
            2021
           ],
           "legendgroup": "Estonia",
           "marker": {
            "color": "#19d3f3",
            "symbol": "circle"
           },
           "mode": "markers",
           "name": "Estonia",
           "orientation": "v",
           "showlegend": false,
           "type": "scatter",
           "x": [
            838.7
           ],
           "xaxis": "x11",
           "y": [
            83.7
           ],
           "yaxis": "y11"
          }
         ],
         "name": "Estonia"
        },
        {
         "data": [
          {
           "hovertemplate": "<b>%{hovertext}</b><br><br>Country=Ireland<br>Year=2011<br>Milk=%{x}<br>Cows=%{y}<extra></extra>",
           "hovertext": [
            "Ireland"
           ],
           "ids": [
            2011
           ],
           "legendgroup": "Ireland",
           "marker": {
            "color": "#FF6692",
            "symbol": "circle"
           },
           "mode": "markers",
           "name": "Ireland",
           "orientation": "v",
           "showlegend": true,
           "type": "scatter",
           "x": [
            5556.2
           ],
           "xaxis": "x",
           "y": [
            1035.64
           ],
           "yaxis": "y"
          },
          {
           "hovertemplate": "<b>%{hovertext}</b><br><br>Country=Ireland<br>Year=2012<br>Milk=%{x}<br>Cows=%{y}<extra></extra>",
           "hovertext": [
            "Ireland"
           ],
           "ids": [
            2012
           ],
           "legendgroup": "Ireland",
           "marker": {
            "color": "#FF6692",
            "symbol": "circle"
           },
           "mode": "markers",
           "name": "Ireland",
           "orientation": "v",
           "showlegend": false,
           "type": "scatter",
           "x": [
            5399.3
           ],
           "xaxis": "x2",
           "y": [
            1060.26
           ],
           "yaxis": "y2"
          },
          {
           "hovertemplate": "<b>%{hovertext}</b><br><br>Country=Ireland<br>Year=2013<br>Milk=%{x}<br>Cows=%{y}<extra></extra>",
           "hovertext": [
            "Ireland"
           ],
           "ids": [
            2013
           ],
           "legendgroup": "Ireland",
           "marker": {
            "color": "#FF6692",
            "symbol": "circle"
           },
           "mode": "markers",
           "name": "Ireland",
           "orientation": "v",
           "showlegend": false,
           "type": "scatter",
           "x": [
            5600.7
           ],
           "xaxis": "x3",
           "y": [
            1082.46
           ],
           "yaxis": "y3"
          },
          {
           "hovertemplate": "<b>%{hovertext}</b><br><br>Country=Ireland<br>Year=2014<br>Milk=%{x}<br>Cows=%{y}<extra></extra>",
           "hovertext": [
            "Ireland"
           ],
           "ids": [
            2014
           ],
           "legendgroup": "Ireland",
           "marker": {
            "color": "#FF6692",
            "symbol": "circle"
           },
           "mode": "markers",
           "name": "Ireland",
           "orientation": "v",
           "showlegend": false,
           "type": "scatter",
           "x": [
            5821.3
           ],
           "xaxis": "x4",
           "y": [
            1127.72
           ],
           "yaxis": "y4"
          },
          {
           "hovertemplate": "<b>%{hovertext}</b><br><br>Country=Ireland<br>Year=2015<br>Milk=%{x}<br>Cows=%{y}<extra></extra>",
           "hovertext": [
            "Ireland"
           ],
           "ids": [
            2015
           ],
           "legendgroup": "Ireland",
           "marker": {
            "color": "#FF6692",
            "symbol": "circle"
           },
           "mode": "markers",
           "name": "Ireland",
           "orientation": "v",
           "showlegend": false,
           "type": "scatter",
           "x": [
            6604.41
           ],
           "xaxis": "x5",
           "y": [
            1239.89
           ],
           "yaxis": "y5"
          },
          {
           "hovertemplate": "<b>%{hovertext}</b><br><br>Country=Ireland<br>Year=2016<br>Milk=%{x}<br>Cows=%{y}<extra></extra>",
           "hovertext": [
            "Ireland"
           ],
           "ids": [
            2016
           ],
           "legendgroup": "Ireland",
           "marker": {
            "color": "#FF6692",
            "symbol": "circle"
           },
           "mode": "markers",
           "name": "Ireland",
           "orientation": "v",
           "showlegend": false,
           "type": "scatter",
           "x": [
            6871.94
           ],
           "xaxis": "x6",
           "y": [
            1295.23
           ],
           "yaxis": "y6"
          },
          {
           "hovertemplate": "<b>%{hovertext}</b><br><br>Country=Ireland<br>Year=2017<br>Milk=%{x}<br>Cows=%{y}<extra></extra>",
           "hovertext": [
            "Ireland"
           ],
           "ids": [
            2017
           ],
           "legendgroup": "Ireland",
           "marker": {
            "color": "#FF6692",
            "symbol": "circle"
           },
           "mode": "markers",
           "name": "Ireland",
           "orientation": "v",
           "showlegend": false,
           "type": "scatter",
           "x": [
            7498.94
           ],
           "xaxis": "x7",
           "y": [
            1343.3
           ],
           "yaxis": "y7"
          },
          {
           "hovertemplate": "<b>%{hovertext}</b><br><br>Country=Ireland<br>Year=2018<br>Milk=%{x}<br>Cows=%{y}<extra></extra>",
           "hovertext": [
            "Ireland"
           ],
           "ids": [
            2018
           ],
           "legendgroup": "Ireland",
           "marker": {
            "color": "#FF6692",
            "symbol": "circle"
           },
           "mode": "markers",
           "name": "Ireland",
           "orientation": "v",
           "showlegend": false,
           "type": "scatter",
           "x": [
            7831.25
           ],
           "xaxis": "x8",
           "y": [
            1369.1
           ],
           "yaxis": "y8"
          },
          {
           "hovertemplate": "<b>%{hovertext}</b><br><br>Country=Ireland<br>Year=2019<br>Milk=%{x}<br>Cows=%{y}<extra></extra>",
           "hovertext": [
            "Ireland"
           ],
           "ids": [
            2019
           ],
           "legendgroup": "Ireland",
           "marker": {
            "color": "#FF6692",
            "symbol": "circle"
           },
           "mode": "markers",
           "name": "Ireland",
           "orientation": "v",
           "showlegend": false,
           "type": "scatter",
           "x": [
            8244.87
           ],
           "xaxis": "x9",
           "y": [
            1425.76
           ],
           "yaxis": "y9"
          },
          {
           "hovertemplate": "<b>%{hovertext}</b><br><br>Country=Ireland<br>Year=2020<br>Milk=%{x}<br>Cows=%{y}<extra></extra>",
           "hovertext": [
            "Ireland"
           ],
           "ids": [
            2020
           ],
           "legendgroup": "Ireland",
           "marker": {
            "color": "#FF6692",
            "symbol": "circle"
           },
           "mode": "markers",
           "name": "Ireland",
           "orientation": "v",
           "showlegend": false,
           "type": "scatter",
           "x": [
            8561.47
           ],
           "xaxis": "x10",
           "y": [
            1456.05
           ],
           "yaxis": "y10"
          },
          {
           "hovertemplate": "<b>%{hovertext}</b><br><br>Country=Ireland<br>Year=2021<br>Milk=%{x}<br>Cows=%{y}<extra></extra>",
           "hovertext": [
            "Ireland"
           ],
           "ids": [
            2021
           ],
           "legendgroup": "Ireland",
           "marker": {
            "color": "#FF6692",
            "symbol": "circle"
           },
           "mode": "markers",
           "name": "Ireland",
           "orientation": "v",
           "showlegend": false,
           "type": "scatter",
           "x": [
            9039.99
           ],
           "xaxis": "x11",
           "y": [
            1505.27
           ],
           "yaxis": "y11"
          }
         ],
         "name": "Ireland"
        },
        {
         "data": [
          {
           "hovertemplate": "<b>%{hovertext}</b><br><br>Country=Greece<br>Year=2011<br>Milk=%{x}<br>Cows=%{y}<extra></extra>",
           "hovertext": [
            "Greece"
           ],
           "ids": [
            2011
           ],
           "legendgroup": "Greece",
           "marker": {
            "color": "#B6E880",
            "symbol": "circle"
           },
           "mode": "markers",
           "name": "Greece",
           "orientation": "v",
           "showlegend": true,
           "type": "scatter",
           "x": [
            757
           ],
           "xaxis": "x",
           "y": [
            130
           ],
           "yaxis": "y"
          },
          {
           "hovertemplate": "<b>%{hovertext}</b><br><br>Country=Greece<br>Year=2012<br>Milk=%{x}<br>Cows=%{y}<extra></extra>",
           "hovertext": [
            "Greece"
           ],
           "ids": [
            2012
           ],
           "legendgroup": "Greece",
           "marker": {
            "color": "#B6E880",
            "symbol": "circle"
           },
           "mode": "markers",
           "name": "Greece",
           "orientation": "v",
           "showlegend": false,
           "type": "scatter",
           "x": [
            765.5
           ],
           "xaxis": "x2",
           "y": [
            132
           ],
           "yaxis": "y2"
          },
          {
           "hovertemplate": "<b>%{hovertext}</b><br><br>Country=Greece<br>Year=2013<br>Milk=%{x}<br>Cows=%{y}<extra></extra>",
           "hovertext": [
            "Greece"
           ],
           "ids": [
            2013
           ],
           "legendgroup": "Greece",
           "marker": {
            "color": "#B6E880",
            "symbol": "circle"
           },
           "mode": "markers",
           "name": "Greece",
           "orientation": "v",
           "showlegend": false,
           "type": "scatter",
           "x": [
            730.6
           ],
           "xaxis": "x3",
           "y": [
            130
           ],
           "yaxis": "y3"
          },
          {
           "hovertemplate": "<b>%{hovertext}</b><br><br>Country=Greece<br>Year=2014<br>Milk=%{x}<br>Cows=%{y}<extra></extra>",
           "hovertext": [
            "Greece"
           ],
           "ids": [
            2014
           ],
           "legendgroup": "Greece",
           "marker": {
            "color": "#B6E880",
            "symbol": "circle"
           },
           "mode": "markers",
           "name": "Greece",
           "orientation": "v",
           "showlegend": false,
           "type": "scatter",
           "x": [
            769
           ],
           "xaxis": "x4",
           "y": [
            135
           ],
           "yaxis": "y4"
          },
          {
           "hovertemplate": "<b>%{hovertext}</b><br><br>Country=Greece<br>Year=2015<br>Milk=%{x}<br>Cows=%{y}<extra></extra>",
           "hovertext": [
            "Greece"
           ],
           "ids": [
            2015
           ],
           "legendgroup": "Greece",
           "marker": {
            "color": "#B6E880",
            "symbol": "circle"
           },
           "mode": "markers",
           "name": "Greece",
           "orientation": "v",
           "showlegend": false,
           "type": "scatter",
           "x": [
            770
           ],
           "xaxis": "x5",
           "y": [
            111
           ],
           "yaxis": "y5"
          },
          {
           "hovertemplate": "<b>%{hovertext}</b><br><br>Country=Greece<br>Year=2016<br>Milk=%{x}<br>Cows=%{y}<extra></extra>",
           "hovertext": [
            "Greece"
           ],
           "ids": [
            2016
           ],
           "legendgroup": "Greece",
           "marker": {
            "color": "#B6E880",
            "symbol": "circle"
           },
           "mode": "markers",
           "name": "Greece",
           "orientation": "v",
           "showlegend": false,
           "type": "scatter",
           "x": [
            706
           ],
           "xaxis": "x6",
           "y": [
            106
           ],
           "yaxis": "y6"
          },
          {
           "hovertemplate": "<b>%{hovertext}</b><br><br>Country=Greece<br>Year=2017<br>Milk=%{x}<br>Cows=%{y}<extra></extra>",
           "hovertext": [
            "Greece"
           ],
           "ids": [
            2017
           ],
           "legendgroup": "Greece",
           "marker": {
            "color": "#B6E880",
            "symbol": "circle"
           },
           "mode": "markers",
           "name": "Greece",
           "orientation": "v",
           "showlegend": false,
           "type": "scatter",
           "x": [
            670
           ],
           "xaxis": "x7",
           "y": [
            97
           ],
           "yaxis": "y7"
          },
          {
           "hovertemplate": "<b>%{hovertext}</b><br><br>Country=Greece<br>Year=2018<br>Milk=%{x}<br>Cows=%{y}<extra></extra>",
           "hovertext": [
            "Greece"
           ],
           "ids": [
            2018
           ],
           "legendgroup": "Greece",
           "marker": {
            "color": "#B6E880",
            "symbol": "circle"
           },
           "mode": "markers",
           "name": "Greece",
           "orientation": "v",
           "showlegend": false,
           "type": "scatter",
           "x": [
            654.8
           ],
           "xaxis": "x8",
           "y": [
            95
           ],
           "yaxis": "y8"
          },
          {
           "hovertemplate": "<b>%{hovertext}</b><br><br>Country=Greece<br>Year=2019<br>Milk=%{x}<br>Cows=%{y}<extra></extra>",
           "hovertext": [
            "Greece"
           ],
           "ids": [
            2019
           ],
           "legendgroup": "Greece",
           "marker": {
            "color": "#B6E880",
            "symbol": "circle"
           },
           "mode": "markers",
           "name": "Greece",
           "orientation": "v",
           "showlegend": false,
           "type": "scatter",
           "x": [
            659.38
           ],
           "xaxis": "x9",
           "y": [
            86
           ],
           "yaxis": "y9"
          },
          {
           "hovertemplate": "<b>%{hovertext}</b><br><br>Country=Greece<br>Year=2020<br>Milk=%{x}<br>Cows=%{y}<extra></extra>",
           "hovertext": [
            "Greece"
           ],
           "ids": [
            2020
           ],
           "legendgroup": "Greece",
           "marker": {
            "color": "#B6E880",
            "symbol": "circle"
           },
           "mode": "markers",
           "name": "Greece",
           "orientation": "v",
           "showlegend": false,
           "type": "scatter",
           "x": [
            683.46
           ],
           "xaxis": "x10",
           "y": [
            82
           ],
           "yaxis": "y10"
          },
          {
           "hovertemplate": "<b>%{hovertext}</b><br><br>Country=Greece<br>Year=2021<br>Milk=%{x}<br>Cows=%{y}<extra></extra>",
           "hovertext": [
            "Greece"
           ],
           "ids": [
            2021
           ],
           "legendgroup": "Greece",
           "marker": {
            "color": "#B6E880",
            "symbol": "circle"
           },
           "mode": "markers",
           "name": "Greece",
           "orientation": "v",
           "showlegend": false,
           "type": "scatter",
           "x": [
            710.93
           ],
           "xaxis": "x11",
           "y": [
            83
           ],
           "yaxis": "y11"
          }
         ],
         "name": "Greece"
        },
        {
         "data": [
          {
           "hovertemplate": "<b>%{hovertext}</b><br><br>Country=Spain<br>Year=2011<br>Milk=%{x}<br>Cows=%{y}<extra></extra>",
           "hovertext": [
            "Spain"
           ],
           "ids": [
            2011
           ],
           "legendgroup": "Spain",
           "marker": {
            "color": "#FF97FF",
            "symbol": "circle"
           },
           "mode": "markers",
           "name": "Spain",
           "orientation": "v",
           "showlegend": true,
           "type": "scatter",
           "x": [
            6487.68
           ],
           "xaxis": "x",
           "y": [
            797.89
           ],
           "yaxis": "y"
          },
          {
           "hovertemplate": "<b>%{hovertext}</b><br><br>Country=Spain<br>Year=2012<br>Milk=%{x}<br>Cows=%{y}<extra></extra>",
           "hovertext": [
            "Spain"
           ],
           "ids": [
            2012
           ],
           "legendgroup": "Spain",
           "marker": {
            "color": "#FF97FF",
            "symbol": "circle"
           },
           "mode": "markers",
           "name": "Spain",
           "orientation": "v",
           "showlegend": false,
           "type": "scatter",
           "x": [
            6502.41
           ],
           "xaxis": "x2",
           "y": [
            827.21
           ],
           "yaxis": "y2"
          },
          {
           "hovertemplate": "<b>%{hovertext}</b><br><br>Country=Spain<br>Year=2013<br>Milk=%{x}<br>Cows=%{y}<extra></extra>",
           "hovertext": [
            "Spain"
           ],
           "ids": [
            2013
           ],
           "legendgroup": "Spain",
           "marker": {
            "color": "#FF97FF",
            "symbol": "circle"
           },
           "mode": "markers",
           "name": "Spain",
           "orientation": "v",
           "showlegend": false,
           "type": "scatter",
           "x": [
            6559.18
           ],
           "xaxis": "x3",
           "y": [
            844.06
           ],
           "yaxis": "y3"
          },
          {
           "hovertemplate": "<b>%{hovertext}</b><br><br>Country=Spain<br>Year=2014<br>Milk=%{x}<br>Cows=%{y}<extra></extra>",
           "hovertext": [
            "Spain"
           ],
           "ids": [
            2014
           ],
           "legendgroup": "Spain",
           "marker": {
            "color": "#FF97FF",
            "symbol": "circle"
           },
           "mode": "markers",
           "name": "Spain",
           "orientation": "v",
           "showlegend": false,
           "type": "scatter",
           "x": [
            6779.75
           ],
           "xaxis": "x4",
           "y": [
            844.79
           ],
           "yaxis": "y4"
          },
          {
           "hovertemplate": "<b>%{hovertext}</b><br><br>Country=Spain<br>Year=2015<br>Milk=%{x}<br>Cows=%{y}<extra></extra>",
           "hovertext": [
            "Spain"
           ],
           "ids": [
            2015
           ],
           "legendgroup": "Spain",
           "marker": {
            "color": "#FF97FF",
            "symbol": "circle"
           },
           "mode": "markers",
           "name": "Spain",
           "orientation": "v",
           "showlegend": false,
           "type": "scatter",
           "x": [
            7029.48
           ],
           "xaxis": "x5",
           "y": [
            844.11
           ],
           "yaxis": "y5"
          },
          {
           "hovertemplate": "<b>%{hovertext}</b><br><br>Country=Spain<br>Year=2016<br>Milk=%{x}<br>Cows=%{y}<extra></extra>",
           "hovertext": [
            "Spain"
           ],
           "ids": [
            2016
           ],
           "legendgroup": "Spain",
           "marker": {
            "color": "#FF97FF",
            "symbol": "circle"
           },
           "mode": "markers",
           "name": "Spain",
           "orientation": "v",
           "showlegend": false,
           "type": "scatter",
           "x": [
            7123.77
           ],
           "xaxis": "x6",
           "y": [
            834.45
           ],
           "yaxis": "y6"
          },
          {
           "hovertemplate": "<b>%{hovertext}</b><br><br>Country=Spain<br>Year=2017<br>Milk=%{x}<br>Cows=%{y}<extra></extra>",
           "hovertext": [
            "Spain"
           ],
           "ids": [
            2017
           ],
           "legendgroup": "Spain",
           "marker": {
            "color": "#FF97FF",
            "symbol": "circle"
           },
           "mode": "markers",
           "name": "Spain",
           "orientation": "v",
           "showlegend": false,
           "type": "scatter",
           "x": [
            7229.35
           ],
           "xaxis": "x7",
           "y": [
            823.39
           ],
           "yaxis": "y7"
          },
          {
           "hovertemplate": "<b>%{hovertext}</b><br><br>Country=Spain<br>Year=2018<br>Milk=%{x}<br>Cows=%{y}<extra></extra>",
           "hovertext": [
            "Spain"
           ],
           "ids": [
            2018
           ],
           "legendgroup": "Spain",
           "marker": {
            "color": "#FF97FF",
            "symbol": "circle"
           },
           "mode": "markers",
           "name": "Spain",
           "orientation": "v",
           "showlegend": false,
           "type": "scatter",
           "x": [
            7335.62
           ],
           "xaxis": "x8",
           "y": [
            816.69
           ],
           "yaxis": "y8"
          },
          {
           "hovertemplate": "<b>%{hovertext}</b><br><br>Country=Spain<br>Year=2019<br>Milk=%{x}<br>Cows=%{y}<extra></extra>",
           "hovertext": [
            "Spain"
           ],
           "ids": [
            2019
           ],
           "legendgroup": "Spain",
           "marker": {
            "color": "#FF97FF",
            "symbol": "circle"
           },
           "mode": "markers",
           "name": "Spain",
           "orientation": "v",
           "showlegend": false,
           "type": "scatter",
           "x": [
            7460.36
           ],
           "xaxis": "x9",
           "y": [
            812.87
           ],
           "yaxis": "y9"
          },
          {
           "hovertemplate": "<b>%{hovertext}</b><br><br>Country=Spain<br>Year=2020<br>Milk=%{x}<br>Cows=%{y}<extra></extra>",
           "hovertext": [
            "Spain"
           ],
           "ids": [
            2020
           ],
           "legendgroup": "Spain",
           "marker": {
            "color": "#FF97FF",
            "symbol": "circle"
           },
           "mode": "markers",
           "name": "Spain",
           "orientation": "v",
           "showlegend": false,
           "type": "scatter",
           "x": [
            7606.07
           ],
           "xaxis": "x10",
           "y": [
            810.74
           ],
           "yaxis": "y10"
          },
          {
           "hovertemplate": "<b>%{hovertext}</b><br><br>Country=Spain<br>Year=2021<br>Milk=%{x}<br>Cows=%{y}<extra></extra>",
           "hovertext": [
            "Spain"
           ],
           "ids": [
            2021
           ],
           "legendgroup": "Spain",
           "marker": {
            "color": "#FF97FF",
            "symbol": "circle"
           },
           "mode": "markers",
           "name": "Spain",
           "orientation": "v",
           "showlegend": false,
           "type": "scatter",
           "x": [
            7623.09
           ],
           "xaxis": "x11",
           "y": [
            808.86
           ],
           "yaxis": "y11"
          }
         ],
         "name": "Spain"
        },
        {
         "data": [
          {
           "hovertemplate": "<b>%{hovertext}</b><br><br>Country=France<br>Year=2011<br>Milk=%{x}<br>Cows=%{y}<extra></extra>",
           "hovertext": [
            "France"
           ],
           "ids": [
            2011
           ],
           "legendgroup": "France",
           "marker": {
            "color": "#FECB52",
            "symbol": "circle"
           },
           "mode": "markers",
           "name": "France",
           "orientation": "v",
           "showlegend": true,
           "type": "scatter",
           "x": [
            25091.93
           ],
           "xaxis": "x",
           "y": [
            3664
           ],
           "yaxis": "y"
          },
          {
           "hovertemplate": "<b>%{hovertext}</b><br><br>Country=France<br>Year=2012<br>Milk=%{x}<br>Cows=%{y}<extra></extra>",
           "hovertext": [
            "France"
           ],
           "ids": [
            2012
           ],
           "legendgroup": "France",
           "marker": {
            "color": "#FECB52",
            "symbol": "circle"
           },
           "mode": "markers",
           "name": "France",
           "orientation": "v",
           "showlegend": false,
           "type": "scatter",
           "x": [
            24718.38
           ],
           "xaxis": "x2",
           "y": [
            3644
           ],
           "yaxis": "y2"
          },
          {
           "hovertemplate": "<b>%{hovertext}</b><br><br>Country=France<br>Year=2013<br>Milk=%{x}<br>Cows=%{y}<extra></extra>",
           "hovertext": [
            "France"
           ],
           "ids": [
            2013
           ],
           "legendgroup": "France",
           "marker": {
            "color": "#FECB52",
            "symbol": "circle"
           },
           "mode": "markers",
           "name": "France",
           "orientation": "v",
           "showlegend": false,
           "type": "scatter",
           "x": [
            24459.76
           ],
           "xaxis": "x3",
           "y": [
            3698.45
           ],
           "yaxis": "y3"
          },
          {
           "hovertemplate": "<b>%{hovertext}</b><br><br>Country=France<br>Year=2014<br>Milk=%{x}<br>Cows=%{y}<extra></extra>",
           "hovertext": [
            "France"
           ],
           "ids": [
            2014
           ],
           "legendgroup": "France",
           "marker": {
            "color": "#FECB52",
            "symbol": "circle"
           },
           "mode": "markers",
           "name": "France",
           "orientation": "v",
           "showlegend": false,
           "type": "scatter",
           "x": [
            25728.32
           ],
           "xaxis": "x4",
           "y": [
            3661.18
           ],
           "yaxis": "y4"
          },
          {
           "hovertemplate": "<b>%{hovertext}</b><br><br>Country=France<br>Year=2015<br>Milk=%{x}<br>Cows=%{y}<extra></extra>",
           "hovertext": [
            "France"
           ],
           "ids": [
            2015
           ],
           "legendgroup": "France",
           "marker": {
            "color": "#FECB52",
            "symbol": "circle"
           },
           "mode": "markers",
           "name": "France",
           "orientation": "v",
           "showlegend": false,
           "type": "scatter",
           "x": [
            25820.27
           ],
           "xaxis": "x5",
           "y": [
            3637.02
           ],
           "yaxis": "y5"
          },
          {
           "hovertemplate": "<b>%{hovertext}</b><br><br>Country=France<br>Year=2016<br>Milk=%{x}<br>Cows=%{y}<extra></extra>",
           "hovertext": [
            "France"
           ],
           "ids": [
            2016
           ],
           "legendgroup": "France",
           "marker": {
            "color": "#FECB52",
            "symbol": "circle"
           },
           "mode": "markers",
           "name": "France",
           "orientation": "v",
           "showlegend": false,
           "type": "scatter",
           "x": [
            25138.93
           ],
           "xaxis": "x6",
           "y": [
            3637.02
           ],
           "yaxis": "y6"
          },
          {
           "hovertemplate": "<b>%{hovertext}</b><br><br>Country=France<br>Year=2017<br>Milk=%{x}<br>Cows=%{y}<extra></extra>",
           "hovertext": [
            "France"
           ],
           "ids": [
            2017
           ],
           "legendgroup": "France",
           "marker": {
            "color": "#FECB52",
            "symbol": "circle"
           },
           "mode": "markers",
           "name": "France",
           "orientation": "v",
           "showlegend": false,
           "type": "scatter",
           "x": [
            25055.2
           ],
           "xaxis": "x7",
           "y": [
            3596.84
           ],
           "yaxis": "y7"
          },
          {
           "hovertemplate": "<b>%{hovertext}</b><br><br>Country=France<br>Year=2018<br>Milk=%{x}<br>Cows=%{y}<extra></extra>",
           "hovertext": [
            "France"
           ],
           "ids": [
            2018
           ],
           "legendgroup": "France",
           "marker": {
            "color": "#FECB52",
            "symbol": "circle"
           },
           "mode": "markers",
           "name": "France",
           "orientation": "v",
           "showlegend": false,
           "type": "scatter",
           "x": [
            25055.1
           ],
           "xaxis": "x8",
           "y": [
            3554.23
           ],
           "yaxis": "y8"
          },
          {
           "hovertemplate": "<b>%{hovertext}</b><br><br>Country=France<br>Year=2019<br>Milk=%{x}<br>Cows=%{y}<extra></extra>",
           "hovertext": [
            "France"
           ],
           "ids": [
            2019
           ],
           "legendgroup": "France",
           "marker": {
            "color": "#FECB52",
            "symbol": "circle"
           },
           "mode": "markers",
           "name": "France",
           "orientation": "v",
           "showlegend": false,
           "type": "scatter",
           "x": [
            25062
           ],
           "xaxis": "x9",
           "y": [
            3490.81
           ],
           "yaxis": "y9"
          },
          {
           "hovertemplate": "<b>%{hovertext}</b><br><br>Country=France<br>Year=2020<br>Milk=%{x}<br>Cows=%{y}<extra></extra>",
           "hovertext": [
            "France"
           ],
           "ids": [
            2020
           ],
           "legendgroup": "France",
           "marker": {
            "color": "#FECB52",
            "symbol": "circle"
           },
           "mode": "markers",
           "name": "France",
           "orientation": "v",
           "showlegend": false,
           "type": "scatter",
           "x": [
            25234.84
           ],
           "xaxis": "x10",
           "y": [
            3405.68
           ],
           "yaxis": "y10"
          },
          {
           "hovertemplate": "<b>%{hovertext}</b><br><br>Country=France<br>Year=2021<br>Milk=%{x}<br>Cows=%{y}<extra></extra>",
           "hovertext": [
            "France"
           ],
           "ids": [
            2021
           ],
           "legendgroup": "France",
           "marker": {
            "color": "#FECB52",
            "symbol": "circle"
           },
           "mode": "markers",
           "name": "France",
           "orientation": "v",
           "showlegend": false,
           "type": "scatter",
           "x": [
            24778.84
           ],
           "xaxis": "x11",
           "y": [
            3322.03
           ],
           "yaxis": "y11"
          }
         ],
         "name": "France"
        },
        {
         "data": [
          {
           "hovertemplate": "<b>%{hovertext}</b><br><br>Country=Croatia<br>Year=2011<br>Milk=%{x}<br>Cows=%{y}<extra></extra>",
           "hovertext": [
            "Croatia"
           ],
           "ids": [
            2011
           ],
           "legendgroup": "Croatia",
           "marker": {
            "color": "#636efa",
            "symbol": "circle"
           },
           "mode": "markers",
           "name": "Croatia",
           "orientation": "v",
           "showlegend": true,
           "type": "scatter",
           "x": [
            804
           ],
           "xaxis": "x",
           "y": [
            184.7
           ],
           "yaxis": "y"
          },
          {
           "hovertemplate": "<b>%{hovertext}</b><br><br>Country=Croatia<br>Year=2012<br>Milk=%{x}<br>Cows=%{y}<extra></extra>",
           "hovertext": [
            "Croatia"
           ],
           "ids": [
            2012
           ],
           "legendgroup": "Croatia",
           "marker": {
            "color": "#636efa",
            "symbol": "circle"
           },
           "mode": "markers",
           "name": "Croatia",
           "orientation": "v",
           "showlegend": false,
           "type": "scatter",
           "x": [
            810
           ],
           "xaxis": "x2",
           "y": [
            181
           ],
           "yaxis": "y2"
          },
          {
           "hovertemplate": "<b>%{hovertext}</b><br><br>Country=Croatia<br>Year=2013<br>Milk=%{x}<br>Cows=%{y}<extra></extra>",
           "hovertext": [
            "Croatia"
           ],
           "ids": [
            2013
           ],
           "legendgroup": "Croatia",
           "marker": {
            "color": "#636efa",
            "symbol": "circle"
           },
           "mode": "markers",
           "name": "Croatia",
           "orientation": "v",
           "showlegend": false,
           "type": "scatter",
           "x": [
            717
           ],
           "xaxis": "x3",
           "y": [
            168
           ],
           "yaxis": "y3"
          },
          {
           "hovertemplate": "<b>%{hovertext}</b><br><br>Country=Croatia<br>Year=2014<br>Milk=%{x}<br>Cows=%{y}<extra></extra>",
           "hovertext": [
            "Croatia"
           ],
           "ids": [
            2014
           ],
           "legendgroup": "Croatia",
           "marker": {
            "color": "#636efa",
            "symbol": "circle"
           },
           "mode": "markers",
           "name": "Croatia",
           "orientation": "v",
           "showlegend": false,
           "type": "scatter",
           "x": [
            712
           ],
           "xaxis": "x4",
           "y": [
            159
           ],
           "yaxis": "y4"
          },
          {
           "hovertemplate": "<b>%{hovertext}</b><br><br>Country=Croatia<br>Year=2015<br>Milk=%{x}<br>Cows=%{y}<extra></extra>",
           "hovertext": [
            "Croatia"
           ],
           "ids": [
            2015
           ],
           "legendgroup": "Croatia",
           "marker": {
            "color": "#636efa",
            "symbol": "circle"
           },
           "mode": "markers",
           "name": "Croatia",
           "orientation": "v",
           "showlegend": false,
           "type": "scatter",
           "x": [
            694
           ],
           "xaxis": "x5",
           "y": [
            152
           ],
           "yaxis": "y5"
          },
          {
           "hovertemplate": "<b>%{hovertext}</b><br><br>Country=Croatia<br>Year=2016<br>Milk=%{x}<br>Cows=%{y}<extra></extra>",
           "hovertext": [
            "Croatia"
           ],
           "ids": [
            2016
           ],
           "legendgroup": "Croatia",
           "marker": {
            "color": "#636efa",
            "symbol": "circle"
           },
           "mode": "markers",
           "name": "Croatia",
           "orientation": "v",
           "showlegend": false,
           "type": "scatter",
           "x": [
            671
           ],
           "xaxis": "x6",
           "y": [
            147
           ],
           "yaxis": "y6"
          },
          {
           "hovertemplate": "<b>%{hovertext}</b><br><br>Country=Croatia<br>Year=2017<br>Milk=%{x}<br>Cows=%{y}<extra></extra>",
           "hovertext": [
            "Croatia"
           ],
           "ids": [
            2017
           ],
           "legendgroup": "Croatia",
           "marker": {
            "color": "#636efa",
            "symbol": "circle"
           },
           "mode": "markers",
           "name": "Croatia",
           "orientation": "v",
           "showlegend": false,
           "type": "scatter",
           "x": [
            648
           ],
           "xaxis": "x7",
           "y": [
            139
           ],
           "yaxis": "y7"
          },
          {
           "hovertemplate": "<b>%{hovertext}</b><br><br>Country=Croatia<br>Year=2018<br>Milk=%{x}<br>Cows=%{y}<extra></extra>",
           "hovertext": [
            "Croatia"
           ],
           "ids": [
            2018
           ],
           "legendgroup": "Croatia",
           "marker": {
            "color": "#636efa",
            "symbol": "circle"
           },
           "mode": "markers",
           "name": "Croatia",
           "orientation": "v",
           "showlegend": false,
           "type": "scatter",
           "x": [
            618
           ],
           "xaxis": "x8",
           "y": [
            136
           ],
           "yaxis": "y8"
          },
          {
           "hovertemplate": "<b>%{hovertext}</b><br><br>Country=Croatia<br>Year=2019<br>Milk=%{x}<br>Cows=%{y}<extra></extra>",
           "hovertext": [
            "Croatia"
           ],
           "ids": [
            2019
           ],
           "legendgroup": "Croatia",
           "marker": {
            "color": "#636efa",
            "symbol": "circle"
           },
           "mode": "markers",
           "name": "Croatia",
           "orientation": "v",
           "showlegend": false,
           "type": "scatter",
           "x": [
            599
           ],
           "xaxis": "x9",
           "y": [
            130
           ],
           "yaxis": "y9"
          },
          {
           "hovertemplate": "<b>%{hovertext}</b><br><br>Country=Croatia<br>Year=2020<br>Milk=%{x}<br>Cows=%{y}<extra></extra>",
           "hovertext": [
            "Croatia"
           ],
           "ids": [
            2020
           ],
           "legendgroup": "Croatia",
           "marker": {
            "color": "#636efa",
            "symbol": "circle"
           },
           "mode": "markers",
           "name": "Croatia",
           "orientation": "v",
           "showlegend": false,
           "type": "scatter",
           "x": [
            596
           ],
           "xaxis": "x10",
           "y": [
            110
           ],
           "yaxis": "y10"
          },
          {
           "hovertemplate": "<b>%{hovertext}</b><br><br>Country=Croatia<br>Year=2021<br>Milk=%{x}<br>Cows=%{y}<extra></extra>",
           "hovertext": [
            "Croatia"
           ],
           "ids": [
            2021
           ],
           "legendgroup": "Croatia",
           "marker": {
            "color": "#636efa",
            "symbol": "circle"
           },
           "mode": "markers",
           "name": "Croatia",
           "orientation": "v",
           "showlegend": false,
           "type": "scatter",
           "x": [
            558
           ],
           "xaxis": "x11",
           "y": [
            102
           ],
           "yaxis": "y11"
          }
         ],
         "name": "Croatia"
        },
        {
         "data": [
          {
           "hovertemplate": "<b>%{hovertext}</b><br><br>Country=Italy<br>Year=2011<br>Milk=%{x}<br>Cows=%{y}<extra></extra>",
           "hovertext": [
            "Italy"
           ],
           "ids": [
            2011
           ],
           "legendgroup": "Italy",
           "marker": {
            "color": "#EF553B",
            "symbol": "circle"
           },
           "mode": "markers",
           "name": "Italy",
           "orientation": "v",
           "showlegend": true,
           "type": "scatter",
           "x": [
            11298.61
           ],
           "xaxis": "x",
           "y": [
            1754.98
           ],
           "yaxis": "y"
          },
          {
           "hovertemplate": "<b>%{hovertext}</b><br><br>Country=Italy<br>Year=2012<br>Milk=%{x}<br>Cows=%{y}<extra></extra>",
           "hovertext": [
            "Italy"
           ],
           "ids": [
            2012
           ],
           "legendgroup": "Italy",
           "marker": {
            "color": "#EF553B",
            "symbol": "circle"
           },
           "mode": "markers",
           "name": "Italy",
           "orientation": "v",
           "showlegend": false,
           "type": "scatter",
           "x": [
            11500
           ],
           "xaxis": "x2",
           "y": [
            2009.07
           ],
           "yaxis": "y2"
          },
          {
           "hovertemplate": "<b>%{hovertext}</b><br><br>Country=Italy<br>Year=2013<br>Milk=%{x}<br>Cows=%{y}<extra></extra>",
           "hovertext": [
            "Italy"
           ],
           "ids": [
            2013
           ],
           "legendgroup": "Italy",
           "marker": {
            "color": "#EF553B",
            "symbol": "circle"
           },
           "mode": "markers",
           "name": "Italy",
           "orientation": "v",
           "showlegend": false,
           "type": "scatter",
           "x": [
            11281.26
           ],
           "xaxis": "x3",
           "y": [
            2074.54
           ],
           "yaxis": "y3"
          },
          {
           "hovertemplate": "<b>%{hovertext}</b><br><br>Country=Italy<br>Year=2014<br>Milk=%{x}<br>Cows=%{y}<extra></extra>",
           "hovertext": [
            "Italy"
           ],
           "ids": [
            2014
           ],
           "legendgroup": "Italy",
           "marker": {
            "color": "#EF553B",
            "symbol": "circle"
           },
           "mode": "markers",
           "name": "Italy",
           "orientation": "v",
           "showlegend": false,
           "type": "scatter",
           "x": [
            11500
           ],
           "xaxis": "x4",
           "y": [
            2069.39
           ],
           "yaxis": "y4"
          },
          {
           "hovertemplate": "<b>%{hovertext}</b><br><br>Country=Italy<br>Year=2015<br>Milk=%{x}<br>Cows=%{y}<extra></extra>",
           "hovertext": [
            "Italy"
           ],
           "ids": [
            2015
           ],
           "legendgroup": "Italy",
           "marker": {
            "color": "#EF553B",
            "symbol": "circle"
           },
           "mode": "markers",
           "name": "Italy",
           "orientation": "v",
           "showlegend": false,
           "type": "scatter",
           "x": [
            11425.94
           ],
           "xaxis": "x5",
           "y": [
            2056.81
           ],
           "yaxis": "y5"
          },
          {
           "hovertemplate": "<b>%{hovertext}</b><br><br>Country=Italy<br>Year=2016<br>Milk=%{x}<br>Cows=%{y}<extra></extra>",
           "hovertext": [
            "Italy"
           ],
           "ids": [
            2016
           ],
           "legendgroup": "Italy",
           "marker": {
            "color": "#EF553B",
            "symbol": "circle"
           },
           "mode": "markers",
           "name": "Italy",
           "orientation": "v",
           "showlegend": false,
           "type": "scatter",
           "x": [
            11886.04
           ],
           "xaxis": "x6",
           "y": [
            2060.47
           ],
           "yaxis": "y6"
          },
          {
           "hovertemplate": "<b>%{hovertext}</b><br><br>Country=Italy<br>Year=2017<br>Milk=%{x}<br>Cows=%{y}<extra></extra>",
           "hovertext": [
            "Italy"
           ],
           "ids": [
            2017
           ],
           "legendgroup": "Italy",
           "marker": {
            "color": "#EF553B",
            "symbol": "circle"
           },
           "mode": "markers",
           "name": "Italy",
           "orientation": "v",
           "showlegend": false,
           "type": "scatter",
           "x": [
            12198.88
           ],
           "xaxis": "x7",
           "y": [
            2040.11
           ],
           "yaxis": "y7"
          },
          {
           "hovertemplate": "<b>%{hovertext}</b><br><br>Country=Italy<br>Year=2018<br>Milk=%{x}<br>Cows=%{y}<extra></extra>",
           "hovertext": [
            "Italy"
           ],
           "ids": [
            2018
           ],
           "legendgroup": "Italy",
           "marker": {
            "color": "#EF553B",
            "symbol": "circle"
           },
           "mode": "markers",
           "name": "Italy",
           "orientation": "v",
           "showlegend": false,
           "type": "scatter",
           "x": [
            12339.75
           ],
           "xaxis": "x8",
           "y": [
            1939.48
           ],
           "yaxis": "y8"
          },
          {
           "hovertemplate": "<b>%{hovertext}</b><br><br>Country=Italy<br>Year=2019<br>Milk=%{x}<br>Cows=%{y}<extra></extra>",
           "hovertext": [
            "Italy"
           ],
           "ids": [
            2019
           ],
           "legendgroup": "Italy",
           "marker": {
            "color": "#EF553B",
            "symbol": "circle"
           },
           "mode": "markers",
           "name": "Italy",
           "orientation": "v",
           "showlegend": false,
           "type": "scatter",
           "x": [
            12494.4
           ],
           "xaxis": "x9",
           "y": [
            1875.72
           ],
           "yaxis": "y9"
          },
          {
           "hovertemplate": "<b>%{hovertext}</b><br><br>Country=Italy<br>Year=2020<br>Milk=%{x}<br>Cows=%{y}<extra></extra>",
           "hovertext": [
            "Italy"
           ],
           "ids": [
            2020
           ],
           "legendgroup": "Italy",
           "marker": {
            "color": "#EF553B",
            "symbol": "circle"
           },
           "mode": "markers",
           "name": "Italy",
           "orientation": "v",
           "showlegend": false,
           "type": "scatter",
           "x": [
            12712.48
           ],
           "xaxis": "x10",
           "y": [
            1871.27
           ],
           "yaxis": "y10"
          },
          {
           "hovertemplate": "<b>%{hovertext}</b><br><br>Country=Italy<br>Year=2021<br>Milk=%{x}<br>Cows=%{y}<extra></extra>",
           "hovertext": [
            "Italy"
           ],
           "ids": [
            2021
           ],
           "legendgroup": "Italy",
           "marker": {
            "color": "#EF553B",
            "symbol": "circle"
           },
           "mode": "markers",
           "name": "Italy",
           "orientation": "v",
           "showlegend": false,
           "type": "scatter",
           "x": [
            13202.45
           ],
           "xaxis": "x11",
           "y": [
            1844.37
           ],
           "yaxis": "y11"
          }
         ],
         "name": "Italy"
        },
        {
         "data": [
          {
           "hovertemplate": "<b>%{hovertext}</b><br><br>Country=Cyprus<br>Year=2011<br>Milk=%{x}<br>Cows=%{y}<extra></extra>",
           "hovertext": [
            "Cyprus"
           ],
           "ids": [
            2011
           ],
           "legendgroup": "Cyprus",
           "marker": {
            "color": "#00cc96",
            "symbol": "circle"
           },
           "mode": "markers",
           "name": "Cyprus",
           "orientation": "v",
           "showlegend": true,
           "type": "scatter",
           "x": [
            156.02
           ],
           "xaxis": "x",
           "y": [
            24.07
           ],
           "yaxis": "y"
          },
          {
           "hovertemplate": "<b>%{hovertext}</b><br><br>Country=Cyprus<br>Year=2012<br>Milk=%{x}<br>Cows=%{y}<extra></extra>",
           "hovertext": [
            "Cyprus"
           ],
           "ids": [
            2012
           ],
           "legendgroup": "Cyprus",
           "marker": {
            "color": "#00cc96",
            "symbol": "circle"
           },
           "mode": "markers",
           "name": "Cyprus",
           "orientation": "v",
           "showlegend": false,
           "type": "scatter",
           "x": [
            153.74
           ],
           "xaxis": "x2",
           "y": [
            24.2
           ],
           "yaxis": "y2"
          },
          {
           "hovertemplate": "<b>%{hovertext}</b><br><br>Country=Cyprus<br>Year=2013<br>Milk=%{x}<br>Cows=%{y}<extra></extra>",
           "hovertext": [
            "Cyprus"
           ],
           "ids": [
            2013
           ],
           "legendgroup": "Cyprus",
           "marker": {
            "color": "#00cc96",
            "symbol": "circle"
           },
           "mode": "markers",
           "name": "Cyprus",
           "orientation": "v",
           "showlegend": false,
           "type": "scatter",
           "x": [
            163.27
           ],
           "xaxis": "x3",
           "y": [
            24.55
           ],
           "yaxis": "y3"
          },
          {
           "hovertemplate": "<b>%{hovertext}</b><br><br>Country=Cyprus<br>Year=2014<br>Milk=%{x}<br>Cows=%{y}<extra></extra>",
           "hovertext": [
            "Cyprus"
           ],
           "ids": [
            2014
           ],
           "legendgroup": "Cyprus",
           "marker": {
            "color": "#00cc96",
            "symbol": "circle"
           },
           "mode": "markers",
           "name": "Cyprus",
           "orientation": "v",
           "showlegend": false,
           "type": "scatter",
           "x": [
            164.64
           ],
           "xaxis": "x4",
           "y": [
            25.33
           ],
           "yaxis": "y4"
          },
          {
           "hovertemplate": "<b>%{hovertext}</b><br><br>Country=Cyprus<br>Year=2015<br>Milk=%{x}<br>Cows=%{y}<extra></extra>",
           "hovertext": [
            "Cyprus"
           ],
           "ids": [
            2015
           ],
           "legendgroup": "Cyprus",
           "marker": {
            "color": "#00cc96",
            "symbol": "circle"
           },
           "mode": "markers",
           "name": "Cyprus",
           "orientation": "v",
           "showlegend": false,
           "type": "scatter",
           "x": [
            165.3
           ],
           "xaxis": "x5",
           "y": [
            26.19
           ],
           "yaxis": "y5"
          },
          {
           "hovertemplate": "<b>%{hovertext}</b><br><br>Country=Cyprus<br>Year=2016<br>Milk=%{x}<br>Cows=%{y}<extra></extra>",
           "hovertext": [
            "Cyprus"
           ],
           "ids": [
            2016
           ],
           "legendgroup": "Cyprus",
           "marker": {
            "color": "#00cc96",
            "symbol": "circle"
           },
           "mode": "markers",
           "name": "Cyprus",
           "orientation": "v",
           "showlegend": false,
           "type": "scatter",
           "x": [
            186.02
           ],
           "xaxis": "x6",
           "y": [
            28.46
           ],
           "yaxis": "y6"
          },
          {
           "hovertemplate": "<b>%{hovertext}</b><br><br>Country=Cyprus<br>Year=2017<br>Milk=%{x}<br>Cows=%{y}<extra></extra>",
           "hovertext": [
            "Cyprus"
           ],
           "ids": [
            2017
           ],
           "legendgroup": "Cyprus",
           "marker": {
            "color": "#00cc96",
            "symbol": "circle"
           },
           "mode": "markers",
           "name": "Cyprus",
           "orientation": "v",
           "showlegend": false,
           "type": "scatter",
           "x": [
            216.39
           ],
           "xaxis": "x7",
           "y": [
            30.16
           ],
           "yaxis": "y7"
          },
          {
           "hovertemplate": "<b>%{hovertext}</b><br><br>Country=Cyprus<br>Year=2018<br>Milk=%{x}<br>Cows=%{y}<extra></extra>",
           "hovertext": [
            "Cyprus"
           ],
           "ids": [
            2018
           ],
           "legendgroup": "Cyprus",
           "marker": {
            "color": "#00cc96",
            "symbol": "circle"
           },
           "mode": "markers",
           "name": "Cyprus",
           "orientation": "v",
           "showlegend": false,
           "type": "scatter",
           "x": [
            228.08
           ],
           "xaxis": "x8",
           "y": [
            31.88
           ],
           "yaxis": "y8"
          },
          {
           "hovertemplate": "<b>%{hovertext}</b><br><br>Country=Cyprus<br>Year=2019<br>Milk=%{x}<br>Cows=%{y}<extra></extra>",
           "hovertext": [
            "Cyprus"
           ],
           "ids": [
            2019
           ],
           "legendgroup": "Cyprus",
           "marker": {
            "color": "#00cc96",
            "symbol": "circle"
           },
           "mode": "markers",
           "name": "Cyprus",
           "orientation": "v",
           "showlegend": false,
           "type": "scatter",
           "x": [
            238.76
           ],
           "xaxis": "x9",
           "y": [
            35.02
           ],
           "yaxis": "y9"
          },
          {
           "hovertemplate": "<b>%{hovertext}</b><br><br>Country=Cyprus<br>Year=2020<br>Milk=%{x}<br>Cows=%{y}<extra></extra>",
           "hovertext": [
            "Cyprus"
           ],
           "ids": [
            2020
           ],
           "legendgroup": "Cyprus",
           "marker": {
            "color": "#00cc96",
            "symbol": "circle"
           },
           "mode": "markers",
           "name": "Cyprus",
           "orientation": "v",
           "showlegend": false,
           "type": "scatter",
           "x": [
            275.16
           ],
           "xaxis": "x10",
           "y": [
            39.49
           ],
           "yaxis": "y10"
          },
          {
           "hovertemplate": "<b>%{hovertext}</b><br><br>Country=Cyprus<br>Year=2021<br>Milk=%{x}<br>Cows=%{y}<extra></extra>",
           "hovertext": [
            "Cyprus"
           ],
           "ids": [
            2021
           ],
           "legendgroup": "Cyprus",
           "marker": {
            "color": "#00cc96",
            "symbol": "circle"
           },
           "mode": "markers",
           "name": "Cyprus",
           "orientation": "v",
           "showlegend": false,
           "type": "scatter",
           "x": [
            298.14
           ],
           "xaxis": "x11",
           "y": [
            38.92
           ],
           "yaxis": "y11"
          }
         ],
         "name": "Cyprus"
        },
        {
         "data": [
          {
           "hovertemplate": "<b>%{hovertext}</b><br><br>Country=Latvia<br>Year=2011<br>Milk=%{x}<br>Cows=%{y}<extra></extra>",
           "hovertext": [
            "Latvia"
           ],
           "ids": [
            2011
           ],
           "legendgroup": "Latvia",
           "marker": {
            "color": "#ab63fa",
            "symbol": "circle"
           },
           "mode": "markers",
           "name": "Latvia",
           "orientation": "v",
           "showlegend": true,
           "type": "scatter",
           "x": [
            841.7
           ],
           "xaxis": "x",
           "y": [
            164.1
           ],
           "yaxis": "y"
          },
          {
           "hovertemplate": "<b>%{hovertext}</b><br><br>Country=Latvia<br>Year=2012<br>Milk=%{x}<br>Cows=%{y}<extra></extra>",
           "hovertext": [
            "Latvia"
           ],
           "ids": [
            2012
           ],
           "legendgroup": "Latvia",
           "marker": {
            "color": "#ab63fa",
            "symbol": "circle"
           },
           "mode": "markers",
           "name": "Latvia",
           "orientation": "v",
           "showlegend": false,
           "type": "scatter",
           "x": [
            870.6
           ],
           "xaxis": "x2",
           "y": [
            164.56
           ],
           "yaxis": "y2"
          },
          {
           "hovertemplate": "<b>%{hovertext}</b><br><br>Country=Latvia<br>Year=2013<br>Milk=%{x}<br>Cows=%{y}<extra></extra>",
           "hovertext": [
            "Latvia"
           ],
           "ids": [
            2013
           ],
           "legendgroup": "Latvia",
           "marker": {
            "color": "#ab63fa",
            "symbol": "circle"
           },
           "mode": "markers",
           "name": "Latvia",
           "orientation": "v",
           "showlegend": false,
           "type": "scatter",
           "x": [
            912
           ],
           "xaxis": "x3",
           "y": [
            165.01
           ],
           "yaxis": "y3"
          },
          {
           "hovertemplate": "<b>%{hovertext}</b><br><br>Country=Latvia<br>Year=2014<br>Milk=%{x}<br>Cows=%{y}<extra></extra>",
           "hovertext": [
            "Latvia"
           ],
           "ids": [
            2014
           ],
           "legendgroup": "Latvia",
           "marker": {
            "color": "#ab63fa",
            "symbol": "circle"
           },
           "mode": "markers",
           "name": "Latvia",
           "orientation": "v",
           "showlegend": false,
           "type": "scatter",
           "x": [
            968.9
           ],
           "xaxis": "x4",
           "y": [
            165.87
           ],
           "yaxis": "y4"
          },
          {
           "hovertemplate": "<b>%{hovertext}</b><br><br>Country=Latvia<br>Year=2015<br>Milk=%{x}<br>Cows=%{y}<extra></extra>",
           "hovertext": [
            "Latvia"
           ],
           "ids": [
            2015
           ],
           "legendgroup": "Latvia",
           "marker": {
            "color": "#ab63fa",
            "symbol": "circle"
           },
           "mode": "markers",
           "name": "Latvia",
           "orientation": "v",
           "showlegend": false,
           "type": "scatter",
           "x": [
            975.4
           ],
           "xaxis": "x5",
           "y": [
            162.41
           ],
           "yaxis": "y5"
          },
          {
           "hovertemplate": "<b>%{hovertext}</b><br><br>Country=Latvia<br>Year=2016<br>Milk=%{x}<br>Cows=%{y}<extra></extra>",
           "hovertext": [
            "Latvia"
           ],
           "ids": [
            2016
           ],
           "legendgroup": "Latvia",
           "marker": {
            "color": "#ab63fa",
            "symbol": "circle"
           },
           "mode": "markers",
           "name": "Latvia",
           "orientation": "v",
           "showlegend": false,
           "type": "scatter",
           "x": [
            983.5
           ],
           "xaxis": "x6",
           "y": [
            154.02
           ],
           "yaxis": "y6"
          },
          {
           "hovertemplate": "<b>%{hovertext}</b><br><br>Country=Latvia<br>Year=2017<br>Milk=%{x}<br>Cows=%{y}<extra></extra>",
           "hovertext": [
            "Latvia"
           ],
           "ids": [
            2017
           ],
           "legendgroup": "Latvia",
           "marker": {
            "color": "#ab63fa",
            "symbol": "circle"
           },
           "mode": "markers",
           "name": "Latvia",
           "orientation": "v",
           "showlegend": false,
           "type": "scatter",
           "x": [
            998
           ],
           "xaxis": "x7",
           "y": [
            150.36
           ],
           "yaxis": "y7"
          },
          {
           "hovertemplate": "<b>%{hovertext}</b><br><br>Country=Latvia<br>Year=2018<br>Milk=%{x}<br>Cows=%{y}<extra></extra>",
           "hovertext": [
            "Latvia"
           ],
           "ids": [
            2018
           ],
           "legendgroup": "Latvia",
           "marker": {
            "color": "#ab63fa",
            "symbol": "circle"
           },
           "mode": "markers",
           "name": "Latvia",
           "orientation": "v",
           "showlegend": false,
           "type": "scatter",
           "x": [
            980.2
           ],
           "xaxis": "x8",
           "y": [
            144.47
           ],
           "yaxis": "y8"
          },
          {
           "hovertemplate": "<b>%{hovertext}</b><br><br>Country=Latvia<br>Year=2019<br>Milk=%{x}<br>Cows=%{y}<extra></extra>",
           "hovertext": [
            "Latvia"
           ],
           "ids": [
            2019
           ],
           "legendgroup": "Latvia",
           "marker": {
            "color": "#ab63fa",
            "symbol": "circle"
           },
           "mode": "markers",
           "name": "Latvia",
           "orientation": "v",
           "showlegend": false,
           "type": "scatter",
           "x": [
            978.9
           ],
           "xaxis": "x9",
           "y": [
            138.41
           ],
           "yaxis": "y9"
          },
          {
           "hovertemplate": "<b>%{hovertext}</b><br><br>Country=Latvia<br>Year=2020<br>Milk=%{x}<br>Cows=%{y}<extra></extra>",
           "hovertext": [
            "Latvia"
           ],
           "ids": [
            2020
           ],
           "legendgroup": "Latvia",
           "marker": {
            "color": "#ab63fa",
            "symbol": "circle"
           },
           "mode": "markers",
           "name": "Latvia",
           "orientation": "v",
           "showlegend": false,
           "type": "scatter",
           "x": [
            988.2
           ],
           "xaxis": "x10",
           "y": [
            136.04
           ],
           "yaxis": "y10"
          },
          {
           "hovertemplate": "<b>%{hovertext}</b><br><br>Country=Latvia<br>Year=2021<br>Milk=%{x}<br>Cows=%{y}<extra></extra>",
           "hovertext": [
            "Latvia"
           ],
           "ids": [
            2021
           ],
           "legendgroup": "Latvia",
           "marker": {
            "color": "#ab63fa",
            "symbol": "circle"
           },
           "mode": "markers",
           "name": "Latvia",
           "orientation": "v",
           "showlegend": false,
           "type": "scatter",
           "x": [
            990.31
           ],
           "xaxis": "x11",
           "y": [
            131.2
           ],
           "yaxis": "y11"
          }
         ],
         "name": "Latvia"
        },
        {
         "data": [
          {
           "hovertemplate": "<b>%{hovertext}</b><br><br>Country=Lithuania<br>Year=2011<br>Milk=%{x}<br>Cows=%{y}<extra></extra>",
           "hovertext": [
            "Lithuania"
           ],
           "ids": [
            2011
           ],
           "legendgroup": "Lithuania",
           "marker": {
            "color": "#FFA15A",
            "symbol": "circle"
           },
           "mode": "markers",
           "name": "Lithuania",
           "orientation": "v",
           "showlegend": true,
           "type": "scatter",
           "x": [
            1782.32
           ],
           "xaxis": "x",
           "y": [
            349.5
           ],
           "yaxis": "y"
          },
          {
           "hovertemplate": "<b>%{hovertext}</b><br><br>Country=Lithuania<br>Year=2012<br>Milk=%{x}<br>Cows=%{y}<extra></extra>",
           "hovertext": [
            "Lithuania"
           ],
           "ids": [
            2012
           ],
           "legendgroup": "Lithuania",
           "marker": {
            "color": "#FFA15A",
            "symbol": "circle"
           },
           "mode": "markers",
           "name": "Lithuania",
           "orientation": "v",
           "showlegend": false,
           "type": "scatter",
           "x": [
            1774.53
           ],
           "xaxis": "x2",
           "y": [
            331
           ],
           "yaxis": "y2"
          },
          {
           "hovertemplate": "<b>%{hovertext}</b><br><br>Country=Lithuania<br>Year=2013<br>Milk=%{x}<br>Cows=%{y}<extra></extra>",
           "hovertext": [
            "Lithuania"
           ],
           "ids": [
            2013
           ],
           "legendgroup": "Lithuania",
           "marker": {
            "color": "#FFA15A",
            "symbol": "circle"
           },
           "mode": "markers",
           "name": "Lithuania",
           "orientation": "v",
           "showlegend": false,
           "type": "scatter",
           "x": [
            1719.51
           ],
           "xaxis": "x3",
           "y": [
            315.7
           ],
           "yaxis": "y3"
          },
          {
           "hovertemplate": "<b>%{hovertext}</b><br><br>Country=Lithuania<br>Year=2014<br>Milk=%{x}<br>Cows=%{y}<extra></extra>",
           "hovertext": [
            "Lithuania"
           ],
           "ids": [
            2014
           ],
           "legendgroup": "Lithuania",
           "marker": {
            "color": "#FFA15A",
            "symbol": "circle"
           },
           "mode": "markers",
           "name": "Lithuania",
           "orientation": "v",
           "showlegend": false,
           "type": "scatter",
           "x": [
            1791.13
           ],
           "xaxis": "x4",
           "y": [
            314
           ],
           "yaxis": "y4"
          },
          {
           "hovertemplate": "<b>%{hovertext}</b><br><br>Country=Lithuania<br>Year=2015<br>Milk=%{x}<br>Cows=%{y}<extra></extra>",
           "hovertext": [
            "Lithuania"
           ],
           "ids": [
            2015
           ],
           "legendgroup": "Lithuania",
           "marker": {
            "color": "#FFA15A",
            "symbol": "circle"
           },
           "mode": "markers",
           "name": "Lithuania",
           "orientation": "v",
           "showlegend": false,
           "type": "scatter",
           "x": [
            1734.73
           ],
           "xaxis": "x5",
           "y": [
            300.5
           ],
           "yaxis": "y5"
          },
          {
           "hovertemplate": "<b>%{hovertext}</b><br><br>Country=Lithuania<br>Year=2016<br>Milk=%{x}<br>Cows=%{y}<extra></extra>",
           "hovertext": [
            "Lithuania"
           ],
           "ids": [
            2016
           ],
           "legendgroup": "Lithuania",
           "marker": {
            "color": "#FFA15A",
            "symbol": "circle"
           },
           "mode": "markers",
           "name": "Lithuania",
           "orientation": "v",
           "showlegend": false,
           "type": "scatter",
           "x": [
            1623.87
           ],
           "xaxis": "x6",
           "y": [
            285.8
           ],
           "yaxis": "y6"
          },
          {
           "hovertemplate": "<b>%{hovertext}</b><br><br>Country=Lithuania<br>Year=2017<br>Milk=%{x}<br>Cows=%{y}<extra></extra>",
           "hovertext": [
            "Lithuania"
           ],
           "ids": [
            2017
           ],
           "legendgroup": "Lithuania",
           "marker": {
            "color": "#FFA15A",
            "symbol": "circle"
           },
           "mode": "markers",
           "name": "Lithuania",
           "orientation": "v",
           "showlegend": false,
           "type": "scatter",
           "x": [
            1566.65
           ],
           "xaxis": "x7",
           "y": [
            272.8
           ],
           "yaxis": "y7"
          },
          {
           "hovertemplate": "<b>%{hovertext}</b><br><br>Country=Lithuania<br>Year=2018<br>Milk=%{x}<br>Cows=%{y}<extra></extra>",
           "hovertext": [
            "Lithuania"
           ],
           "ids": [
            2018
           ],
           "legendgroup": "Lithuania",
           "marker": {
            "color": "#FFA15A",
            "symbol": "circle"
           },
           "mode": "markers",
           "name": "Lithuania",
           "orientation": "v",
           "showlegend": false,
           "type": "scatter",
           "x": [
            1568.01
           ],
           "xaxis": "x8",
           "y": [
            256.2
           ],
           "yaxis": "y8"
          },
          {
           "hovertemplate": "<b>%{hovertext}</b><br><br>Country=Lithuania<br>Year=2019<br>Milk=%{x}<br>Cows=%{y}<extra></extra>",
           "hovertext": [
            "Lithuania"
           ],
           "ids": [
            2019
           ],
           "legendgroup": "Lithuania",
           "marker": {
            "color": "#FFA15A",
            "symbol": "circle"
           },
           "mode": "markers",
           "name": "Lithuania",
           "orientation": "v",
           "showlegend": false,
           "type": "scatter",
           "x": [
            1547.43
           ],
           "xaxis": "x9",
           "y": [
            240.9
           ],
           "yaxis": "y9"
          },
          {
           "hovertemplate": "<b>%{hovertext}</b><br><br>Country=Lithuania<br>Year=2020<br>Milk=%{x}<br>Cows=%{y}<extra></extra>",
           "hovertext": [
            "Lithuania"
           ],
           "ids": [
            2020
           ],
           "legendgroup": "Lithuania",
           "marker": {
            "color": "#FFA15A",
            "symbol": "circle"
           },
           "mode": "markers",
           "name": "Lithuania",
           "orientation": "v",
           "showlegend": false,
           "type": "scatter",
           "x": [
            1488
           ],
           "xaxis": "x10",
           "y": [
            232.9
           ],
           "yaxis": "y10"
          },
          {
           "hovertemplate": "<b>%{hovertext}</b><br><br>Country=Lithuania<br>Year=2021<br>Milk=%{x}<br>Cows=%{y}<extra></extra>",
           "hovertext": [
            "Lithuania"
           ],
           "ids": [
            2021
           ],
           "legendgroup": "Lithuania",
           "marker": {
            "color": "#FFA15A",
            "symbol": "circle"
           },
           "mode": "markers",
           "name": "Lithuania",
           "orientation": "v",
           "showlegend": false,
           "type": "scatter",
           "x": [
            1473.28
           ],
           "xaxis": "x11",
           "y": [
            225.2
           ],
           "yaxis": "y11"
          }
         ],
         "name": "Lithuania"
        },
        {
         "data": [
          {
           "hovertemplate": "<b>%{hovertext}</b><br><br>Country=Luxembourg<br>Year=2011<br>Milk=%{x}<br>Cows=%{y}<extra></extra>",
           "hovertext": [
            "Luxembourg"
           ],
           "ids": [
            2011
           ],
           "legendgroup": "Luxembourg",
           "marker": {
            "color": "#19d3f3",
            "symbol": "circle"
           },
           "mode": "markers",
           "name": "Luxembourg",
           "orientation": "v",
           "showlegend": true,
           "type": "scatter",
           "x": [
            292.25
           ],
           "xaxis": "x",
           "y": [
            44.48
           ],
           "yaxis": "y"
          },
          {
           "hovertemplate": "<b>%{hovertext}</b><br><br>Country=Luxembourg<br>Year=2012<br>Milk=%{x}<br>Cows=%{y}<extra></extra>",
           "hovertext": [
            "Luxembourg"
           ],
           "ids": [
            2012
           ],
           "legendgroup": "Luxembourg",
           "marker": {
            "color": "#19d3f3",
            "symbol": "circle"
           },
           "mode": "markers",
           "name": "Luxembourg",
           "orientation": "v",
           "showlegend": false,
           "type": "scatter",
           "x": [
            289.4
           ],
           "xaxis": "x2",
           "y": [
            45
           ],
           "yaxis": "y2"
          },
          {
           "hovertemplate": "<b>%{hovertext}</b><br><br>Country=Luxembourg<br>Year=2013<br>Milk=%{x}<br>Cows=%{y}<extra></extra>",
           "hovertext": [
            "Luxembourg"
           ],
           "ids": [
            2013
           ],
           "legendgroup": "Luxembourg",
           "marker": {
            "color": "#19d3f3",
            "symbol": "circle"
           },
           "mode": "markers",
           "name": "Luxembourg",
           "orientation": "v",
           "showlegend": false,
           "type": "scatter",
           "x": [
            295.86
           ],
           "xaxis": "x3",
           "y": [
            48.27
           ],
           "yaxis": "y3"
          },
          {
           "hovertemplate": "<b>%{hovertext}</b><br><br>Country=Luxembourg<br>Year=2014<br>Milk=%{x}<br>Cows=%{y}<extra></extra>",
           "hovertext": [
            "Luxembourg"
           ],
           "ids": [
            2014
           ],
           "legendgroup": "Luxembourg",
           "marker": {
            "color": "#19d3f3",
            "symbol": "circle"
           },
           "mode": "markers",
           "name": "Luxembourg",
           "orientation": "v",
           "showlegend": false,
           "type": "scatter",
           "x": [
            317.05
           ],
           "xaxis": "x4",
           "y": [
            46.78
           ],
           "yaxis": "y4"
          },
          {
           "hovertemplate": "<b>%{hovertext}</b><br><br>Country=Luxembourg<br>Year=2015<br>Milk=%{x}<br>Cows=%{y}<extra></extra>",
           "hovertext": [
            "Luxembourg"
           ],
           "ids": [
            2015
           ],
           "legendgroup": "Luxembourg",
           "marker": {
            "color": "#19d3f3",
            "symbol": "circle"
           },
           "mode": "markers",
           "name": "Luxembourg",
           "orientation": "v",
           "showlegend": false,
           "type": "scatter",
           "x": [
            346.25
           ],
           "xaxis": "x5",
           "y": [
            49.13
           ],
           "yaxis": "y5"
          },
          {
           "hovertemplate": "<b>%{hovertext}</b><br><br>Country=Luxembourg<br>Year=2016<br>Milk=%{x}<br>Cows=%{y}<extra></extra>",
           "hovertext": [
            "Luxembourg"
           ],
           "ids": [
            2016
           ],
           "legendgroup": "Luxembourg",
           "marker": {
            "color": "#19d3f3",
            "symbol": "circle"
           },
           "mode": "markers",
           "name": "Luxembourg",
           "orientation": "v",
           "showlegend": false,
           "type": "scatter",
           "x": [
            376.22
           ],
           "xaxis": "x6",
           "y": [
            51.97
           ],
           "yaxis": "y6"
          },
          {
           "hovertemplate": "<b>%{hovertext}</b><br><br>Country=Luxembourg<br>Year=2017<br>Milk=%{x}<br>Cows=%{y}<extra></extra>",
           "hovertext": [
            "Luxembourg"
           ],
           "ids": [
            2017
           ],
           "legendgroup": "Luxembourg",
           "marker": {
            "color": "#19d3f3",
            "symbol": "circle"
           },
           "mode": "markers",
           "name": "Luxembourg",
           "orientation": "v",
           "showlegend": false,
           "type": "scatter",
           "x": [
            387.18
           ],
           "xaxis": "x7",
           "y": [
            52.12
           ],
           "yaxis": "y7"
          },
          {
           "hovertemplate": "<b>%{hovertext}</b><br><br>Country=Luxembourg<br>Year=2018<br>Milk=%{x}<br>Cows=%{y}<extra></extra>",
           "hovertext": [
            "Luxembourg"
           ],
           "ids": [
            2018
           ],
           "legendgroup": "Luxembourg",
           "marker": {
            "color": "#19d3f3",
            "symbol": "circle"
           },
           "mode": "markers",
           "name": "Luxembourg",
           "orientation": "v",
           "showlegend": false,
           "type": "scatter",
           "x": [
            407.62
           ],
           "xaxis": "x8",
           "y": [
            53
           ],
           "yaxis": "y8"
          },
          {
           "hovertemplate": "<b>%{hovertext}</b><br><br>Country=Luxembourg<br>Year=2019<br>Milk=%{x}<br>Cows=%{y}<extra></extra>",
           "hovertext": [
            "Luxembourg"
           ],
           "ids": [
            2019
           ],
           "legendgroup": "Luxembourg",
           "marker": {
            "color": "#19d3f3",
            "symbol": "circle"
           },
           "mode": "markers",
           "name": "Luxembourg",
           "orientation": "v",
           "showlegend": false,
           "type": "scatter",
           "x": [
            421.26
           ],
           "xaxis": "x9",
           "y": [
            54.15
           ],
           "yaxis": "y9"
          },
          {
           "hovertemplate": "<b>%{hovertext}</b><br><br>Country=Luxembourg<br>Year=2020<br>Milk=%{x}<br>Cows=%{y}<extra></extra>",
           "hovertext": [
            "Luxembourg"
           ],
           "ids": [
            2020
           ],
           "legendgroup": "Luxembourg",
           "marker": {
            "color": "#19d3f3",
            "symbol": "circle"
           },
           "mode": "markers",
           "name": "Luxembourg",
           "orientation": "v",
           "showlegend": false,
           "type": "scatter",
           "x": [
            447.34
           ],
           "xaxis": "x10",
           "y": [
            54.23
           ],
           "yaxis": "y10"
          },
          {
           "hovertemplate": "<b>%{hovertext}</b><br><br>Country=Luxembourg<br>Year=2021<br>Milk=%{x}<br>Cows=%{y}<extra></extra>",
           "hovertext": [
            "Luxembourg"
           ],
           "ids": [
            2021
           ],
           "legendgroup": "Luxembourg",
           "marker": {
            "color": "#19d3f3",
            "symbol": "circle"
           },
           "mode": "markers",
           "name": "Luxembourg",
           "orientation": "v",
           "showlegend": false,
           "type": "scatter",
           "x": [
            443.28
           ],
           "xaxis": "x11",
           "y": [
            54.57
           ],
           "yaxis": "y11"
          }
         ],
         "name": "Luxembourg"
        },
        {
         "data": [
          {
           "hovertemplate": "<b>%{hovertext}</b><br><br>Country=Hungary<br>Year=2011<br>Milk=%{x}<br>Cows=%{y}<extra></extra>",
           "hovertext": [
            "Hungary"
           ],
           "ids": [
            2011
           ],
           "legendgroup": "Hungary",
           "marker": {
            "color": "#FF6692",
            "symbol": "circle"
           },
           "mode": "markers",
           "name": "Hungary",
           "orientation": "v",
           "showlegend": true,
           "type": "scatter",
           "x": [
            1712.48
           ],
           "xaxis": "x",
           "y": [
            252
           ],
           "yaxis": "y"
          },
          {
           "hovertemplate": "<b>%{hovertext}</b><br><br>Country=Hungary<br>Year=2012<br>Milk=%{x}<br>Cows=%{y}<extra></extra>",
           "hovertext": [
            "Hungary"
           ],
           "ids": [
            2012
           ],
           "legendgroup": "Hungary",
           "marker": {
            "color": "#FF6692",
            "symbol": "circle"
           },
           "mode": "markers",
           "name": "Hungary",
           "orientation": "v",
           "showlegend": false,
           "type": "scatter",
           "x": [
            1812.85
           ],
           "xaxis": "x2",
           "y": [
            255
           ],
           "yaxis": "y2"
          },
          {
           "hovertemplate": "<b>%{hovertext}</b><br><br>Country=Hungary<br>Year=2013<br>Milk=%{x}<br>Cows=%{y}<extra></extra>",
           "hovertext": [
            "Hungary"
           ],
           "ids": [
            2013
           ],
           "legendgroup": "Hungary",
           "marker": {
            "color": "#FF6692",
            "symbol": "circle"
           },
           "mode": "markers",
           "name": "Hungary",
           "orientation": "v",
           "showlegend": false,
           "type": "scatter",
           "x": [
            1772.76
           ],
           "xaxis": "x3",
           "y": [
            250
           ],
           "yaxis": "y3"
          },
          {
           "hovertemplate": "<b>%{hovertext}</b><br><br>Country=Hungary<br>Year=2014<br>Milk=%{x}<br>Cows=%{y}<extra></extra>",
           "hovertext": [
            "Hungary"
           ],
           "ids": [
            2014
           ],
           "legendgroup": "Hungary",
           "marker": {
            "color": "#FF6692",
            "symbol": "circle"
           },
           "mode": "markers",
           "name": "Hungary",
           "orientation": "v",
           "showlegend": false,
           "type": "scatter",
           "x": [
            1875.72
           ],
           "xaxis": "x4",
           "y": [
            255
           ],
           "yaxis": "y4"
          },
          {
           "hovertemplate": "<b>%{hovertext}</b><br><br>Country=Hungary<br>Year=2015<br>Milk=%{x}<br>Cows=%{y}<extra></extra>",
           "hovertext": [
            "Hungary"
           ],
           "ids": [
            2015
           ],
           "legendgroup": "Hungary",
           "marker": {
            "color": "#FF6692",
            "symbol": "circle"
           },
           "mode": "markers",
           "name": "Hungary",
           "orientation": "v",
           "showlegend": false,
           "type": "scatter",
           "x": [
            1941.33
           ],
           "xaxis": "x5",
           "y": [
            250
           ],
           "yaxis": "y5"
          },
          {
           "hovertemplate": "<b>%{hovertext}</b><br><br>Country=Hungary<br>Year=2016<br>Milk=%{x}<br>Cows=%{y}<extra></extra>",
           "hovertext": [
            "Hungary"
           ],
           "ids": [
            2016
           ],
           "legendgroup": "Hungary",
           "marker": {
            "color": "#FF6692",
            "symbol": "circle"
           },
           "mode": "markers",
           "name": "Hungary",
           "orientation": "v",
           "showlegend": false,
           "type": "scatter",
           "x": [
            1918.23
           ],
           "xaxis": "x6",
           "y": [
            244
           ],
           "yaxis": "y6"
          },
          {
           "hovertemplate": "<b>%{hovertext}</b><br><br>Country=Hungary<br>Year=2017<br>Milk=%{x}<br>Cows=%{y}<extra></extra>",
           "hovertext": [
            "Hungary"
           ],
           "ids": [
            2017
           ],
           "legendgroup": "Hungary",
           "marker": {
            "color": "#FF6692",
            "symbol": "circle"
           },
           "mode": "markers",
           "name": "Hungary",
           "orientation": "v",
           "showlegend": false,
           "type": "scatter",
           "x": [
            1967.5
           ],
           "xaxis": "x7",
           "y": [
            244
           ],
           "yaxis": "y7"
          },
          {
           "hovertemplate": "<b>%{hovertext}</b><br><br>Country=Hungary<br>Year=2018<br>Milk=%{x}<br>Cows=%{y}<extra></extra>",
           "hovertext": [
            "Hungary"
           ],
           "ids": [
            2018
           ],
           "legendgroup": "Hungary",
           "marker": {
            "color": "#FF6692",
            "symbol": "circle"
           },
           "mode": "markers",
           "name": "Hungary",
           "orientation": "v",
           "showlegend": false,
           "type": "scatter",
           "x": [
            1948.83
           ],
           "xaxis": "x8",
           "y": [
            239
           ],
           "yaxis": "y8"
          },
          {
           "hovertemplate": "<b>%{hovertext}</b><br><br>Country=Hungary<br>Year=2019<br>Milk=%{x}<br>Cows=%{y}<extra></extra>",
           "hovertext": [
            "Hungary"
           ],
           "ids": [
            2019
           ],
           "legendgroup": "Hungary",
           "marker": {
            "color": "#FF6692",
            "symbol": "circle"
           },
           "mode": "markers",
           "name": "Hungary",
           "orientation": "v",
           "showlegend": false,
           "type": "scatter",
           "x": [
            1962.78
           ],
           "xaxis": "x9",
           "y": [
            243
           ],
           "yaxis": "y9"
          },
          {
           "hovertemplate": "<b>%{hovertext}</b><br><br>Country=Hungary<br>Year=2020<br>Milk=%{x}<br>Cows=%{y}<extra></extra>",
           "hovertext": [
            "Hungary"
           ],
           "ids": [
            2020
           ],
           "legendgroup": "Hungary",
           "marker": {
            "color": "#FF6692",
            "symbol": "circle"
           },
           "mode": "markers",
           "name": "Hungary",
           "orientation": "v",
           "showlegend": false,
           "type": "scatter",
           "x": [
            2014.33
           ],
           "xaxis": "x10",
           "y": [
            246.6
           ],
           "yaxis": "y10"
          },
          {
           "hovertemplate": "<b>%{hovertext}</b><br><br>Country=Hungary<br>Year=2021<br>Milk=%{x}<br>Cows=%{y}<extra></extra>",
           "hovertext": [
            "Hungary"
           ],
           "ids": [
            2021
           ],
           "legendgroup": "Hungary",
           "marker": {
            "color": "#FF6692",
            "symbol": "circle"
           },
           "mode": "markers",
           "name": "Hungary",
           "orientation": "v",
           "showlegend": false,
           "type": "scatter",
           "x": [
            2080.23
           ],
           "xaxis": "x11",
           "y": [
            280.9
           ],
           "yaxis": "y11"
          }
         ],
         "name": "Hungary"
        },
        {
         "data": [
          {
           "hovertemplate": "<b>%{hovertext}</b><br><br>Country=Malta<br>Year=2011<br>Milk=%{x}<br>Cows=%{y}<extra></extra>",
           "hovertext": [
            "Malta"
           ],
           "ids": [
            2011
           ],
           "legendgroup": "Malta",
           "marker": {
            "color": "#B6E880",
            "symbol": "circle"
           },
           "mode": "markers",
           "name": "Malta",
           "orientation": "v",
           "showlegend": true,
           "type": "scatter",
           "x": [
            33.89
           ],
           "xaxis": "x",
           "y": [
            6.31
           ],
           "yaxis": "y"
          },
          {
           "hovertemplate": "<b>%{hovertext}</b><br><br>Country=Malta<br>Year=2012<br>Milk=%{x}<br>Cows=%{y}<extra></extra>",
           "hovertext": [
            "Malta"
           ],
           "ids": [
            2012
           ],
           "legendgroup": "Malta",
           "marker": {
            "color": "#B6E880",
            "symbol": "circle"
           },
           "mode": "markers",
           "name": "Malta",
           "orientation": "v",
           "showlegend": false,
           "type": "scatter",
           "x": [
            33.89
           ],
           "xaxis": "x2",
           "y": [
            6.32
           ],
           "yaxis": "y2"
          },
          {
           "hovertemplate": "<b>%{hovertext}</b><br><br>Country=Malta<br>Year=2013<br>Milk=%{x}<br>Cows=%{y}<extra></extra>",
           "hovertext": [
            "Malta"
           ],
           "ids": [
            2013
           ],
           "legendgroup": "Malta",
           "marker": {
            "color": "#B6E880",
            "symbol": "circle"
           },
           "mode": "markers",
           "name": "Malta",
           "orientation": "v",
           "showlegend": false,
           "type": "scatter",
           "x": [
            40.92
           ],
           "xaxis": "x3",
           "y": [
            6.33
           ],
           "yaxis": "y3"
          },
          {
           "hovertemplate": "<b>%{hovertext}</b><br><br>Country=Malta<br>Year=2014<br>Milk=%{x}<br>Cows=%{y}<extra></extra>",
           "hovertext": [
            "Malta"
           ],
           "ids": [
            2014
           ],
           "legendgroup": "Malta",
           "marker": {
            "color": "#B6E880",
            "symbol": "circle"
           },
           "mode": "markers",
           "name": "Malta",
           "orientation": "v",
           "showlegend": false,
           "type": "scatter",
           "x": [
            42.77
           ],
           "xaxis": "x4",
           "y": [
            6.5
           ],
           "yaxis": "y4"
          },
          {
           "hovertemplate": "<b>%{hovertext}</b><br><br>Country=Malta<br>Year=2015<br>Milk=%{x}<br>Cows=%{y}<extra></extra>",
           "hovertext": [
            "Malta"
           ],
           "ids": [
            2015
           ],
           "legendgroup": "Malta",
           "marker": {
            "color": "#B6E880",
            "symbol": "circle"
           },
           "mode": "markers",
           "name": "Malta",
           "orientation": "v",
           "showlegend": false,
           "type": "scatter",
           "x": [
            41.57
           ],
           "xaxis": "x5",
           "y": [
            6.37
           ],
           "yaxis": "y5"
          },
          {
           "hovertemplate": "<b>%{hovertext}</b><br><br>Country=Malta<br>Year=2016<br>Milk=%{x}<br>Cows=%{y}<extra></extra>",
           "hovertext": [
            "Malta"
           ],
           "ids": [
            2016
           ],
           "legendgroup": "Malta",
           "marker": {
            "color": "#B6E880",
            "symbol": "circle"
           },
           "mode": "markers",
           "name": "Malta",
           "orientation": "v",
           "showlegend": false,
           "type": "scatter",
           "x": [
            43.13
           ],
           "xaxis": "x6",
           "y": [
            6.5
           ],
           "yaxis": "y6"
          },
          {
           "hovertemplate": "<b>%{hovertext}</b><br><br>Country=Malta<br>Year=2017<br>Milk=%{x}<br>Cows=%{y}<extra></extra>",
           "hovertext": [
            "Malta"
           ],
           "ids": [
            2017
           ],
           "legendgroup": "Malta",
           "marker": {
            "color": "#B6E880",
            "symbol": "circle"
           },
           "mode": "markers",
           "name": "Malta",
           "orientation": "v",
           "showlegend": false,
           "type": "scatter",
           "x": [
            41.03
           ],
           "xaxis": "x7",
           "y": [
            6.14
           ],
           "yaxis": "y7"
          },
          {
           "hovertemplate": "<b>%{hovertext}</b><br><br>Country=Malta<br>Year=2018<br>Milk=%{x}<br>Cows=%{y}<extra></extra>",
           "hovertext": [
            "Malta"
           ],
           "ids": [
            2018
           ],
           "legendgroup": "Malta",
           "marker": {
            "color": "#B6E880",
            "symbol": "circle"
           },
           "mode": "markers",
           "name": "Malta",
           "orientation": "v",
           "showlegend": false,
           "type": "scatter",
           "x": [
            40.41
           ],
           "xaxis": "x8",
           "y": [
            6.23
           ],
           "yaxis": "y8"
          },
          {
           "hovertemplate": "<b>%{hovertext}</b><br><br>Country=Malta<br>Year=2019<br>Milk=%{x}<br>Cows=%{y}<extra></extra>",
           "hovertext": [
            "Malta"
           ],
           "ids": [
            2019
           ],
           "legendgroup": "Malta",
           "marker": {
            "color": "#B6E880",
            "symbol": "circle"
           },
           "mode": "markers",
           "name": "Malta",
           "orientation": "v",
           "showlegend": false,
           "type": "scatter",
           "x": [
            41.27
           ],
           "xaxis": "x9",
           "y": [
            6.12
           ],
           "yaxis": "y9"
          },
          {
           "hovertemplate": "<b>%{hovertext}</b><br><br>Country=Malta<br>Year=2020<br>Milk=%{x}<br>Cows=%{y}<extra></extra>",
           "hovertext": [
            "Malta"
           ],
           "ids": [
            2020
           ],
           "legendgroup": "Malta",
           "marker": {
            "color": "#B6E880",
            "symbol": "circle"
           },
           "mode": "markers",
           "name": "Malta",
           "orientation": "v",
           "showlegend": false,
           "type": "scatter",
           "x": [
            42.11
           ],
           "xaxis": "x10",
           "y": [
            6.06
           ],
           "yaxis": "y10"
          },
          {
           "hovertemplate": "<b>%{hovertext}</b><br><br>Country=Malta<br>Year=2021<br>Milk=%{x}<br>Cows=%{y}<extra></extra>",
           "hovertext": [
            "Malta"
           ],
           "ids": [
            2021
           ],
           "legendgroup": "Malta",
           "marker": {
            "color": "#B6E880",
            "symbol": "circle"
           },
           "mode": "markers",
           "name": "Malta",
           "orientation": "v",
           "showlegend": false,
           "type": "scatter",
           "x": [
            39.54
           ],
           "xaxis": "x11",
           "y": [
            5.87
           ],
           "yaxis": "y11"
          }
         ],
         "name": "Malta"
        },
        {
         "data": [
          {
           "hovertemplate": "<b>%{hovertext}</b><br><br>Country=Netherlands<br>Year=2011<br>Milk=%{x}<br>Cows=%{y}<extra></extra>",
           "hovertext": [
            "Netherlands"
           ],
           "ids": [
            2011
           ],
           "legendgroup": "Netherlands",
           "marker": {
            "color": "#FF97FF",
            "symbol": "circle"
           },
           "mode": "markers",
           "name": "Netherlands",
           "orientation": "v",
           "showlegend": true,
           "type": "scatter",
           "x": [
            11850.72
           ],
           "xaxis": "x",
           "y": [
            1504
           ],
           "yaxis": "y"
          },
          {
           "hovertemplate": "<b>%{hovertext}</b><br><br>Country=Netherlands<br>Year=2012<br>Milk=%{x}<br>Cows=%{y}<extra></extra>",
           "hovertext": [
            "Netherlands"
           ],
           "ids": [
            2012
           ],
           "legendgroup": "Netherlands",
           "marker": {
            "color": "#FF97FF",
            "symbol": "circle"
           },
           "mode": "markers",
           "name": "Netherlands",
           "orientation": "v",
           "showlegend": false,
           "type": "scatter",
           "x": [
            11880.95
           ],
           "xaxis": "x2",
           "y": [
            1541
           ],
           "yaxis": "y2"
          },
          {
           "hovertemplate": "<b>%{hovertext}</b><br><br>Country=Netherlands<br>Year=2013<br>Milk=%{x}<br>Cows=%{y}<extra></extra>",
           "hovertext": [
            "Netherlands"
           ],
           "ids": [
            2013
           ],
           "legendgroup": "Netherlands",
           "marker": {
            "color": "#FF97FF",
            "symbol": "circle"
           },
           "mode": "markers",
           "name": "Netherlands",
           "orientation": "v",
           "showlegend": false,
           "type": "scatter",
           "x": [
            12407.69
           ],
           "xaxis": "x3",
           "y": [
            1597
           ],
           "yaxis": "y3"
          },
          {
           "hovertemplate": "<b>%{hovertext}</b><br><br>Country=Netherlands<br>Year=2014<br>Milk=%{x}<br>Cows=%{y}<extra></extra>",
           "hovertext": [
            "Netherlands"
           ],
           "ids": [
            2014
           ],
           "legendgroup": "Netherlands",
           "marker": {
            "color": "#FF97FF",
            "symbol": "circle"
           },
           "mode": "markers",
           "name": "Netherlands",
           "orientation": "v",
           "showlegend": false,
           "type": "scatter",
           "x": [
            12660.35
           ],
           "xaxis": "x4",
           "y": [
            1610
           ],
           "yaxis": "y4"
          },
          {
           "hovertemplate": "<b>%{hovertext}</b><br><br>Country=Netherlands<br>Year=2015<br>Milk=%{x}<br>Cows=%{y}<extra></extra>",
           "hovertext": [
            "Netherlands"
           ],
           "ids": [
            2015
           ],
           "legendgroup": "Netherlands",
           "marker": {
            "color": "#FF97FF",
            "symbol": "circle"
           },
           "mode": "markers",
           "name": "Netherlands",
           "orientation": "v",
           "showlegend": false,
           "type": "scatter",
           "x": [
            13522.12
           ],
           "xaxis": "x5",
           "y": [
            1717
           ],
           "yaxis": "y5"
          },
          {
           "hovertemplate": "<b>%{hovertext}</b><br><br>Country=Netherlands<br>Year=2016<br>Milk=%{x}<br>Cows=%{y}<extra></extra>",
           "hovertext": [
            "Netherlands"
           ],
           "ids": [
            2016
           ],
           "legendgroup": "Netherlands",
           "marker": {
            "color": "#FF97FF",
            "symbol": "circle"
           },
           "mode": "markers",
           "name": "Netherlands",
           "orientation": "v",
           "showlegend": false,
           "type": "scatter",
           "x": [
            14531
           ],
           "xaxis": "x6",
           "y": [
            1794
           ],
           "yaxis": "y6"
          },
          {
           "hovertemplate": "<b>%{hovertext}</b><br><br>Country=Netherlands<br>Year=2017<br>Milk=%{x}<br>Cows=%{y}<extra></extra>",
           "hovertext": [
            "Netherlands"
           ],
           "ids": [
            2017
           ],
           "legendgroup": "Netherlands",
           "marker": {
            "color": "#FF97FF",
            "symbol": "circle"
           },
           "mode": "markers",
           "name": "Netherlands",
           "orientation": "v",
           "showlegend": false,
           "type": "scatter",
           "x": [
            14501
           ],
           "xaxis": "x7",
           "y": [
            1665
           ],
           "yaxis": "y7"
          },
          {
           "hovertemplate": "<b>%{hovertext}</b><br><br>Country=Netherlands<br>Year=2018<br>Milk=%{x}<br>Cows=%{y}<extra></extra>",
           "hovertext": [
            "Netherlands"
           ],
           "ids": [
            2018
           ],
           "legendgroup": "Netherlands",
           "marker": {
            "color": "#FF97FF",
            "symbol": "circle"
           },
           "mode": "markers",
           "name": "Netherlands",
           "orientation": "v",
           "showlegend": false,
           "type": "scatter",
           "x": [
            14090
           ],
           "xaxis": "x8",
           "y": [
            1552
           ],
           "yaxis": "y8"
          },
          {
           "hovertemplate": "<b>%{hovertext}</b><br><br>Country=Netherlands<br>Year=2019<br>Milk=%{x}<br>Cows=%{y}<extra></extra>",
           "hovertext": [
            "Netherlands"
           ],
           "ids": [
            2019
           ],
           "legendgroup": "Netherlands",
           "marker": {
            "color": "#FF97FF",
            "symbol": "circle"
           },
           "mode": "markers",
           "name": "Netherlands",
           "orientation": "v",
           "showlegend": false,
           "type": "scatter",
           "x": [
            14555
           ],
           "xaxis": "x9",
           "y": [
            1590
           ],
           "yaxis": "y9"
          },
          {
           "hovertemplate": "<b>%{hovertext}</b><br><br>Country=Netherlands<br>Year=2020<br>Milk=%{x}<br>Cows=%{y}<extra></extra>",
           "hovertext": [
            "Netherlands"
           ],
           "ids": [
            2020
           ],
           "legendgroup": "Netherlands",
           "marker": {
            "color": "#FF97FF",
            "symbol": "circle"
           },
           "mode": "markers",
           "name": "Netherlands",
           "orientation": "v",
           "showlegend": false,
           "type": "scatter",
           "x": [
            14522
           ],
           "xaxis": "x10",
           "y": [
            1569
           ],
           "yaxis": "y10"
          },
          {
           "hovertemplate": "<b>%{hovertext}</b><br><br>Country=Netherlands<br>Year=2021<br>Milk=%{x}<br>Cows=%{y}<extra></extra>",
           "hovertext": [
            "Netherlands"
           ],
           "ids": [
            2021
           ],
           "legendgroup": "Netherlands",
           "marker": {
            "color": "#FF97FF",
            "symbol": "circle"
           },
           "mode": "markers",
           "name": "Netherlands",
           "orientation": "v",
           "showlegend": false,
           "type": "scatter",
           "x": [
            14217.25
           ],
           "xaxis": "x11",
           "y": [
            1554
           ],
           "yaxis": "y11"
          }
         ],
         "name": "Netherlands"
        },
        {
         "data": [
          {
           "hovertemplate": "<b>%{hovertext}</b><br><br>Country=Austria<br>Year=2011<br>Milk=%{x}<br>Cows=%{y}<extra></extra>",
           "hovertext": [
            "Austria"
           ],
           "ids": [
            2011
           ],
           "legendgroup": "Austria",
           "marker": {
            "color": "#FECB52",
            "symbol": "circle"
           },
           "mode": "markers",
           "name": "Austria",
           "orientation": "v",
           "showlegend": true,
           "type": "scatter",
           "x": [
            3307.13
           ],
           "xaxis": "x",
           "y": [
            527.39
           ],
           "yaxis": "y"
          },
          {
           "hovertemplate": "<b>%{hovertext}</b><br><br>Country=Austria<br>Year=2012<br>Milk=%{x}<br>Cows=%{y}<extra></extra>",
           "hovertext": [
            "Austria"
           ],
           "ids": [
            2012
           ],
           "legendgroup": "Austria",
           "marker": {
            "color": "#FECB52",
            "symbol": "circle"
           },
           "mode": "markers",
           "name": "Austria",
           "orientation": "v",
           "showlegend": false,
           "type": "scatter",
           "x": [
            3382.1
           ],
           "xaxis": "x2",
           "y": [
            523.37
           ],
           "yaxis": "y2"
          },
          {
           "hovertemplate": "<b>%{hovertext}</b><br><br>Country=Austria<br>Year=2013<br>Milk=%{x}<br>Cows=%{y}<extra></extra>",
           "hovertext": [
            "Austria"
           ],
           "ids": [
            2013
           ],
           "legendgroup": "Austria",
           "marker": {
            "color": "#FECB52",
            "symbol": "circle"
           },
           "mode": "markers",
           "name": "Austria",
           "orientation": "v",
           "showlegend": false,
           "type": "scatter",
           "x": [
            3393.06
           ],
           "xaxis": "x3",
           "y": [
            529.56
           ],
           "yaxis": "y3"
          },
          {
           "hovertemplate": "<b>%{hovertext}</b><br><br>Country=Austria<br>Year=2014<br>Milk=%{x}<br>Cows=%{y}<extra></extra>",
           "hovertext": [
            "Austria"
           ],
           "ids": [
            2014
           ],
           "legendgroup": "Austria",
           "marker": {
            "color": "#FECB52",
            "symbol": "circle"
           },
           "mode": "markers",
           "name": "Austria",
           "orientation": "v",
           "showlegend": false,
           "type": "scatter",
           "x": [
            3493.86
           ],
           "xaxis": "x4",
           "y": [
            537.74
           ],
           "yaxis": "y4"
          },
          {
           "hovertemplate": "<b>%{hovertext}</b><br><br>Country=Austria<br>Year=2015<br>Milk=%{x}<br>Cows=%{y}<extra></extra>",
           "hovertext": [
            "Austria"
           ],
           "ids": [
            2015
           ],
           "legendgroup": "Austria",
           "marker": {
            "color": "#FECB52",
            "symbol": "circle"
           },
           "mode": "markers",
           "name": "Austria",
           "orientation": "v",
           "showlegend": false,
           "type": "scatter",
           "x": [
            3537.76
           ],
           "xaxis": "x5",
           "y": [
            534.1
           ],
           "yaxis": "y5"
          },
          {
           "hovertemplate": "<b>%{hovertext}</b><br><br>Country=Austria<br>Year=2016<br>Milk=%{x}<br>Cows=%{y}<extra></extra>",
           "hovertext": [
            "Austria"
           ],
           "ids": [
            2016
           ],
           "legendgroup": "Austria",
           "marker": {
            "color": "#FECB52",
            "symbol": "circle"
           },
           "mode": "markers",
           "name": "Austria",
           "orientation": "v",
           "showlegend": false,
           "type": "scatter",
           "x": [
            3627.61
           ],
           "xaxis": "x6",
           "y": [
            539.87
           ],
           "yaxis": "y6"
          },
          {
           "hovertemplate": "<b>%{hovertext}</b><br><br>Country=Austria<br>Year=2017<br>Milk=%{x}<br>Cows=%{y}<extra></extra>",
           "hovertext": [
            "Austria"
           ],
           "ids": [
            2017
           ],
           "legendgroup": "Austria",
           "marker": {
            "color": "#FECB52",
            "symbol": "circle"
           },
           "mode": "markers",
           "name": "Austria",
           "orientation": "v",
           "showlegend": false,
           "type": "scatter",
           "x": [
            3712.73
           ],
           "xaxis": "x7",
           "y": [
            543.42
           ],
           "yaxis": "y7"
          },
          {
           "hovertemplate": "<b>%{hovertext}</b><br><br>Country=Austria<br>Year=2018<br>Milk=%{x}<br>Cows=%{y}<extra></extra>",
           "hovertext": [
            "Austria"
           ],
           "ids": [
            2018
           ],
           "legendgroup": "Austria",
           "marker": {
            "color": "#FECB52",
            "symbol": "circle"
           },
           "mode": "markers",
           "name": "Austria",
           "orientation": "v",
           "showlegend": false,
           "type": "scatter",
           "x": [
            3821.19
           ],
           "xaxis": "x8",
           "y": [
            532.87
           ],
           "yaxis": "y8"
          },
          {
           "hovertemplate": "<b>%{hovertext}</b><br><br>Country=Austria<br>Year=2019<br>Milk=%{x}<br>Cows=%{y}<extra></extra>",
           "hovertext": [
            "Austria"
           ],
           "ids": [
            2019
           ],
           "legendgroup": "Austria",
           "marker": {
            "color": "#FECB52",
            "symbol": "circle"
           },
           "mode": "markers",
           "name": "Austria",
           "orientation": "v",
           "showlegend": false,
           "type": "scatter",
           "x": [
            3781.34
           ],
           "xaxis": "x9",
           "y": [
            524.07
           ],
           "yaxis": "y9"
          },
          {
           "hovertemplate": "<b>%{hovertext}</b><br><br>Country=Austria<br>Year=2020<br>Milk=%{x}<br>Cows=%{y}<extra></extra>",
           "hovertext": [
            "Austria"
           ],
           "ids": [
            2020
           ],
           "legendgroup": "Austria",
           "marker": {
            "color": "#FECB52",
            "symbol": "circle"
           },
           "mode": "markers",
           "name": "Austria",
           "orientation": "v",
           "showlegend": false,
           "type": "scatter",
           "x": [
            3815.47
           ],
           "xaxis": "x10",
           "y": [
            524.78
           ],
           "yaxis": "y10"
          },
          {
           "hovertemplate": "<b>%{hovertext}</b><br><br>Country=Austria<br>Year=2021<br>Milk=%{x}<br>Cows=%{y}<extra></extra>",
           "hovertext": [
            "Austria"
           ],
           "ids": [
            2021
           ],
           "legendgroup": "Austria",
           "marker": {
            "color": "#FECB52",
            "symbol": "circle"
           },
           "mode": "markers",
           "name": "Austria",
           "orientation": "v",
           "showlegend": false,
           "type": "scatter",
           "x": [
            3830.14
           ],
           "xaxis": "x11",
           "y": [
            526.46
           ],
           "yaxis": "y11"
          }
         ],
         "name": "Austria"
        },
        {
         "data": [
          {
           "hovertemplate": "<b>%{hovertext}</b><br><br>Country=Poland<br>Year=2011<br>Milk=%{x}<br>Cows=%{y}<extra></extra>",
           "hovertext": [
            "Poland"
           ],
           "ids": [
            2011
           ],
           "legendgroup": "Poland",
           "marker": {
            "color": "#636efa",
            "symbol": "circle"
           },
           "mode": "markers",
           "name": "Poland",
           "orientation": "v",
           "showlegend": true,
           "type": "scatter",
           "x": [
            12414
           ],
           "xaxis": "x",
           "y": [
            2446.14
           ],
           "yaxis": "y"
          },
          {
           "hovertemplate": "<b>%{hovertext}</b><br><br>Country=Poland<br>Year=2012<br>Milk=%{x}<br>Cows=%{y}<extra></extra>",
           "hovertext": [
            "Poland"
           ],
           "ids": [
            2012
           ],
           "legendgroup": "Poland",
           "marker": {
            "color": "#636efa",
            "symbol": "circle"
           },
           "mode": "markers",
           "name": "Poland",
           "orientation": "v",
           "showlegend": false,
           "type": "scatter",
           "x": [
            12668
           ],
           "xaxis": "x2",
           "y": [
            2346.1
           ],
           "yaxis": "y2"
          },
          {
           "hovertemplate": "<b>%{hovertext}</b><br><br>Country=Poland<br>Year=2013<br>Milk=%{x}<br>Cows=%{y}<extra></extra>",
           "hovertext": [
            "Poland"
           ],
           "ids": [
            2013
           ],
           "legendgroup": "Poland",
           "marker": {
            "color": "#636efa",
            "symbol": "circle"
           },
           "mode": "markers",
           "name": "Poland",
           "orientation": "v",
           "showlegend": false,
           "type": "scatter",
           "x": [
            12718
           ],
           "xaxis": "x3",
           "y": [
            2299.08
           ],
           "yaxis": "y3"
          },
          {
           "hovertemplate": "<b>%{hovertext}</b><br><br>Country=Poland<br>Year=2014<br>Milk=%{x}<br>Cows=%{y}<extra></extra>",
           "hovertext": [
            "Poland"
           ],
           "ids": [
            2014
           ],
           "legendgroup": "Poland",
           "marker": {
            "color": "#636efa",
            "symbol": "circle"
           },
           "mode": "markers",
           "name": "Poland",
           "orientation": "v",
           "showlegend": false,
           "type": "scatter",
           "x": [
            12986
           ],
           "xaxis": "x4",
           "y": [
            2247.8
           ],
           "yaxis": "y4"
          },
          {
           "hovertemplate": "<b>%{hovertext}</b><br><br>Country=Poland<br>Year=2015<br>Milk=%{x}<br>Cows=%{y}<extra></extra>",
           "hovertext": [
            "Poland"
           ],
           "ids": [
            2015
           ],
           "legendgroup": "Poland",
           "marker": {
            "color": "#636efa",
            "symbol": "circle"
           },
           "mode": "markers",
           "name": "Poland",
           "orientation": "v",
           "showlegend": false,
           "type": "scatter",
           "x": [
            13236.23
           ],
           "xaxis": "x5",
           "y": [
            2134.1
           ],
           "yaxis": "y5"
          },
          {
           "hovertemplate": "<b>%{hovertext}</b><br><br>Country=Poland<br>Year=2016<br>Milk=%{x}<br>Cows=%{y}<extra></extra>",
           "hovertext": [
            "Poland"
           ],
           "ids": [
            2016
           ],
           "legendgroup": "Poland",
           "marker": {
            "color": "#636efa",
            "symbol": "circle"
           },
           "mode": "markers",
           "name": "Poland",
           "orientation": "v",
           "showlegend": false,
           "type": "scatter",
           "x": [
            13244.17
           ],
           "xaxis": "x6",
           "y": [
            2129.9
           ],
           "yaxis": "y6"
          },
          {
           "hovertemplate": "<b>%{hovertext}</b><br><br>Country=Poland<br>Year=2017<br>Milk=%{x}<br>Cows=%{y}<extra></extra>",
           "hovertext": [
            "Poland"
           ],
           "ids": [
            2017
           ],
           "legendgroup": "Poland",
           "marker": {
            "color": "#636efa",
            "symbol": "circle"
           },
           "mode": "markers",
           "name": "Poland",
           "orientation": "v",
           "showlegend": false,
           "type": "scatter",
           "x": [
            13694.47
           ],
           "xaxis": "x7",
           "y": [
            2152.9
           ],
           "yaxis": "y7"
          },
          {
           "hovertemplate": "<b>%{hovertext}</b><br><br>Country=Poland<br>Year=2018<br>Milk=%{x}<br>Cows=%{y}<extra></extra>",
           "hovertext": [
            "Poland"
           ],
           "ids": [
            2018
           ],
           "legendgroup": "Poland",
           "marker": {
            "color": "#636efa",
            "symbol": "circle"
           },
           "mode": "markers",
           "name": "Poland",
           "orientation": "v",
           "showlegend": false,
           "type": "scatter",
           "x": [
            14171.15
           ],
           "xaxis": "x8",
           "y": [
            2214.1
           ],
           "yaxis": "y8"
          },
          {
           "hovertemplate": "<b>%{hovertext}</b><br><br>Country=Poland<br>Year=2019<br>Milk=%{x}<br>Cows=%{y}<extra></extra>",
           "hovertext": [
            "Poland"
           ],
           "ids": [
            2019
           ],
           "legendgroup": "Poland",
           "marker": {
            "color": "#636efa",
            "symbol": "circle"
           },
           "mode": "markers",
           "name": "Poland",
           "orientation": "v",
           "showlegend": false,
           "type": "scatter",
           "x": [
            14502.76
           ],
           "xaxis": "x9",
           "y": [
            2166.9
           ],
           "yaxis": "y9"
          },
          {
           "hovertemplate": "<b>%{hovertext}</b><br><br>Country=Poland<br>Year=2020<br>Milk=%{x}<br>Cows=%{y}<extra></extra>",
           "hovertext": [
            "Poland"
           ],
           "ids": [
            2020
           ],
           "legendgroup": "Poland",
           "marker": {
            "color": "#636efa",
            "symbol": "circle"
           },
           "mode": "markers",
           "name": "Poland",
           "orientation": "v",
           "showlegend": false,
           "type": "scatter",
           "x": [
            14821.82
           ],
           "xaxis": "x10",
           "y": [
            2125.7
           ],
           "yaxis": "y10"
          },
          {
           "hovertemplate": "<b>%{hovertext}</b><br><br>Country=Poland<br>Year=2021<br>Milk=%{x}<br>Cows=%{y}<extra></extra>",
           "hovertext": [
            "Poland"
           ],
           "ids": [
            2021
           ],
           "legendgroup": "Poland",
           "marker": {
            "color": "#636efa",
            "symbol": "circle"
           },
           "mode": "markers",
           "name": "Poland",
           "orientation": "v",
           "showlegend": false,
           "type": "scatter",
           "x": [
            14881.11
           ],
           "xaxis": "x11",
           "y": [
            2035.2
           ],
           "yaxis": "y11"
          }
         ],
         "name": "Poland"
        },
        {
         "data": [
          {
           "hovertemplate": "<b>%{hovertext}</b><br><br>Country=Portugal<br>Year=2011<br>Milk=%{x}<br>Cows=%{y}<extra></extra>",
           "hovertext": [
            "Portugal"
           ],
           "ids": [
            2011
           ],
           "legendgroup": "Portugal",
           "marker": {
            "color": "#EF553B",
            "symbol": "circle"
           },
           "mode": "markers",
           "name": "Portugal",
           "orientation": "v",
           "showlegend": true,
           "type": "scatter",
           "x": [
            1918.52
           ],
           "xaxis": "x",
           "y": [
            241.95
           ],
           "yaxis": "y"
          },
          {
           "hovertemplate": "<b>%{hovertext}</b><br><br>Country=Portugal<br>Year=2012<br>Milk=%{x}<br>Cows=%{y}<extra></extra>",
           "hovertext": [
            "Portugal"
           ],
           "ids": [
            2012
           ],
           "legendgroup": "Portugal",
           "marker": {
            "color": "#EF553B",
            "symbol": "circle"
           },
           "mode": "markers",
           "name": "Portugal",
           "orientation": "v",
           "showlegend": false,
           "type": "scatter",
           "x": [
            1938.13
           ],
           "xaxis": "x2",
           "y": [
            236.56
           ],
           "yaxis": "y2"
          },
          {
           "hovertemplate": "<b>%{hovertext}</b><br><br>Country=Portugal<br>Year=2013<br>Milk=%{x}<br>Cows=%{y}<extra></extra>",
           "hovertext": [
            "Portugal"
           ],
           "ids": [
            2013
           ],
           "legendgroup": "Portugal",
           "marker": {
            "color": "#EF553B",
            "symbol": "circle"
           },
           "mode": "markers",
           "name": "Portugal",
           "orientation": "v",
           "showlegend": false,
           "type": "scatter",
           "x": [
            1847.98
           ],
           "xaxis": "x3",
           "y": [
            230.84
           ],
           "yaxis": "y3"
          },
          {
           "hovertemplate": "<b>%{hovertext}</b><br><br>Country=Portugal<br>Year=2014<br>Milk=%{x}<br>Cows=%{y}<extra></extra>",
           "hovertext": [
            "Portugal"
           ],
           "ids": [
            2014
           ],
           "legendgroup": "Portugal",
           "marker": {
            "color": "#EF553B",
            "symbol": "circle"
           },
           "mode": "markers",
           "name": "Portugal",
           "orientation": "v",
           "showlegend": false,
           "type": "scatter",
           "x": [
            1942.78
           ],
           "xaxis": "x4",
           "y": [
            233.83
           ],
           "yaxis": "y4"
          },
          {
           "hovertemplate": "<b>%{hovertext}</b><br><br>Country=Portugal<br>Year=2015<br>Milk=%{x}<br>Cows=%{y}<extra></extra>",
           "hovertext": [
            "Portugal"
           ],
           "ids": [
            2015
           ],
           "legendgroup": "Portugal",
           "marker": {
            "color": "#EF553B",
            "symbol": "circle"
           },
           "mode": "markers",
           "name": "Portugal",
           "orientation": "v",
           "showlegend": false,
           "type": "scatter",
           "x": [
            2013.78
           ],
           "xaxis": "x5",
           "y": [
            243.26
           ],
           "yaxis": "y5"
          },
          {
           "hovertemplate": "<b>%{hovertext}</b><br><br>Country=Portugal<br>Year=2016<br>Milk=%{x}<br>Cows=%{y}<extra></extra>",
           "hovertext": [
            "Portugal"
           ],
           "ids": [
            2016
           ],
           "legendgroup": "Portugal",
           "marker": {
            "color": "#EF553B",
            "symbol": "circle"
           },
           "mode": "markers",
           "name": "Portugal",
           "orientation": "v",
           "showlegend": false,
           "type": "scatter",
           "x": [
            1922.97
           ],
           "xaxis": "x6",
           "y": [
            238.91
           ],
           "yaxis": "y6"
          },
          {
           "hovertemplate": "<b>%{hovertext}</b><br><br>Country=Portugal<br>Year=2017<br>Milk=%{x}<br>Cows=%{y}<extra></extra>",
           "hovertext": [
            "Portugal"
           ],
           "ids": [
            2017
           ],
           "legendgroup": "Portugal",
           "marker": {
            "color": "#EF553B",
            "symbol": "circle"
           },
           "mode": "markers",
           "name": "Portugal",
           "orientation": "v",
           "showlegend": false,
           "type": "scatter",
           "x": [
            1921.21
           ],
           "xaxis": "x7",
           "y": [
            238.63
           ],
           "yaxis": "y7"
          },
          {
           "hovertemplate": "<b>%{hovertext}</b><br><br>Country=Portugal<br>Year=2018<br>Milk=%{x}<br>Cows=%{y}<extra></extra>",
           "hovertext": [
            "Portugal"
           ],
           "ids": [
            2018
           ],
           "legendgroup": "Portugal",
           "marker": {
            "color": "#EF553B",
            "symbol": "circle"
           },
           "mode": "markers",
           "name": "Portugal",
           "orientation": "v",
           "showlegend": false,
           "type": "scatter",
           "x": [
            1939.67
           ],
           "xaxis": "x8",
           "y": [
            235.47
           ],
           "yaxis": "y8"
          },
          {
           "hovertemplate": "<b>%{hovertext}</b><br><br>Country=Portugal<br>Year=2019<br>Milk=%{x}<br>Cows=%{y}<extra></extra>",
           "hovertext": [
            "Portugal"
           ],
           "ids": [
            2019
           ],
           "legendgroup": "Portugal",
           "marker": {
            "color": "#EF553B",
            "symbol": "circle"
           },
           "mode": "markers",
           "name": "Portugal",
           "orientation": "v",
           "showlegend": false,
           "type": "scatter",
           "x": [
            1975.49
           ],
           "xaxis": "x9",
           "y": [
            234.23
           ],
           "yaxis": "y9"
          },
          {
           "hovertemplate": "<b>%{hovertext}</b><br><br>Country=Portugal<br>Year=2020<br>Milk=%{x}<br>Cows=%{y}<extra></extra>",
           "hovertext": [
            "Portugal"
           ],
           "ids": [
            2020
           ],
           "legendgroup": "Portugal",
           "marker": {
            "color": "#EF553B",
            "symbol": "circle"
           },
           "mode": "markers",
           "name": "Portugal",
           "orientation": "v",
           "showlegend": false,
           "type": "scatter",
           "x": [
            1993.61
           ],
           "xaxis": "x10",
           "y": [
            232.75
           ],
           "yaxis": "y10"
          },
          {
           "hovertemplate": "<b>%{hovertext}</b><br><br>Country=Portugal<br>Year=2021<br>Milk=%{x}<br>Cows=%{y}<extra></extra>",
           "hovertext": [
            "Portugal"
           ],
           "ids": [
            2021
           ],
           "legendgroup": "Portugal",
           "marker": {
            "color": "#EF553B",
            "symbol": "circle"
           },
           "mode": "markers",
           "name": "Portugal",
           "orientation": "v",
           "showlegend": false,
           "type": "scatter",
           "x": [
            1995.55
           ],
           "xaxis": "x11",
           "y": [
            230.02
           ],
           "yaxis": "y11"
          }
         ],
         "name": "Portugal"
        },
        {
         "data": [
          {
           "hovertemplate": "<b>%{hovertext}</b><br><br>Country=Romania<br>Year=2011<br>Milk=%{x}<br>Cows=%{y}<extra></extra>",
           "hovertext": [
            "Romania"
           ],
           "ids": [
            2011
           ],
           "legendgroup": "Romania",
           "marker": {
            "color": "#00cc96",
            "symbol": "circle"
           },
           "mode": "markers",
           "name": "Romania",
           "orientation": "v",
           "showlegend": true,
           "type": "scatter",
           "x": [
            4075
           ],
           "xaxis": "x",
           "y": [
            1170
           ],
           "yaxis": "y"
          },
          {
           "hovertemplate": "<b>%{hovertext}</b><br><br>Country=Romania<br>Year=2012<br>Milk=%{x}<br>Cows=%{y}<extra></extra>",
           "hovertext": [
            "Romania"
           ],
           "ids": [
            2012
           ],
           "legendgroup": "Romania",
           "marker": {
            "color": "#00cc96",
            "symbol": "circle"
           },
           "mode": "markers",
           "name": "Romania",
           "orientation": "v",
           "showlegend": false,
           "type": "scatter",
           "x": [
            3881
           ],
           "xaxis": "x2",
           "y": [
            1162.7
           ],
           "yaxis": "y2"
          },
          {
           "hovertemplate": "<b>%{hovertext}</b><br><br>Country=Romania<br>Year=2013<br>Milk=%{x}<br>Cows=%{y}<extra></extra>",
           "hovertext": [
            "Romania"
           ],
           "ids": [
            2013
           ],
           "legendgroup": "Romania",
           "marker": {
            "color": "#00cc96",
            "symbol": "circle"
           },
           "mode": "markers",
           "name": "Romania",
           "orientation": "v",
           "showlegend": false,
           "type": "scatter",
           "x": [
            3966
           ],
           "xaxis": "x3",
           "y": [
            1168.9
           ],
           "yaxis": "y3"
          },
          {
           "hovertemplate": "<b>%{hovertext}</b><br><br>Country=Romania<br>Year=2014<br>Milk=%{x}<br>Cows=%{y}<extra></extra>",
           "hovertext": [
            "Romania"
           ],
           "ids": [
            2014
           ],
           "legendgroup": "Romania",
           "marker": {
            "color": "#00cc96",
            "symbol": "circle"
           },
           "mode": "markers",
           "name": "Romania",
           "orientation": "v",
           "showlegend": false,
           "type": "scatter",
           "x": [
            4101
           ],
           "xaxis": "x4",
           "y": [
            1188.4
           ],
           "yaxis": "y4"
          },
          {
           "hovertemplate": "<b>%{hovertext}</b><br><br>Country=Romania<br>Year=2015<br>Milk=%{x}<br>Cows=%{y}<extra></extra>",
           "hovertext": [
            "Romania"
           ],
           "ids": [
            2015
           ],
           "legendgroup": "Romania",
           "marker": {
            "color": "#00cc96",
            "symbol": "circle"
           },
           "mode": "markers",
           "name": "Romania",
           "orientation": "v",
           "showlegend": false,
           "type": "scatter",
           "x": [
            3981
           ],
           "xaxis": "x5",
           "y": [
            1190.7
           ],
           "yaxis": "y5"
          },
          {
           "hovertemplate": "<b>%{hovertext}</b><br><br>Country=Romania<br>Year=2016<br>Milk=%{x}<br>Cows=%{y}<extra></extra>",
           "hovertext": [
            "Romania"
           ],
           "ids": [
            2016
           ],
           "legendgroup": "Romania",
           "marker": {
            "color": "#00cc96",
            "symbol": "circle"
           },
           "mode": "markers",
           "name": "Romania",
           "orientation": "v",
           "showlegend": false,
           "type": "scatter",
           "x": [
            3934
           ],
           "xaxis": "x6",
           "y": [
            1192.6
           ],
           "yaxis": "y6"
          },
          {
           "hovertemplate": "<b>%{hovertext}</b><br><br>Country=Romania<br>Year=2017<br>Milk=%{x}<br>Cows=%{y}<extra></extra>",
           "hovertext": [
            "Romania"
           ],
           "ids": [
            2017
           ],
           "legendgroup": "Romania",
           "marker": {
            "color": "#00cc96",
            "symbol": "circle"
           },
           "mode": "markers",
           "name": "Romania",
           "orientation": "v",
           "showlegend": false,
           "type": "scatter",
           "x": [
            3797.7
           ],
           "xaxis": "x7",
           "y": [
            1175.4
           ],
           "yaxis": "y7"
          },
          {
           "hovertemplate": "<b>%{hovertext}</b><br><br>Country=Romania<br>Year=2018<br>Milk=%{x}<br>Cows=%{y}<extra></extra>",
           "hovertext": [
            "Romania"
           ],
           "ids": [
            2018
           ],
           "legendgroup": "Romania",
           "marker": {
            "color": "#00cc96",
            "symbol": "circle"
           },
           "mode": "markers",
           "name": "Romania",
           "orientation": "v",
           "showlegend": false,
           "type": "scatter",
           "x": [
            3797.6
           ],
           "xaxis": "x8",
           "y": [
            1158.2
           ],
           "yaxis": "y8"
          },
          {
           "hovertemplate": "<b>%{hovertext}</b><br><br>Country=Romania<br>Year=2019<br>Milk=%{x}<br>Cows=%{y}<extra></extra>",
           "hovertext": [
            "Romania"
           ],
           "ids": [
            2019
           ],
           "legendgroup": "Romania",
           "marker": {
            "color": "#00cc96",
            "symbol": "circle"
           },
           "mode": "markers",
           "name": "Romania",
           "orientation": "v",
           "showlegend": false,
           "type": "scatter",
           "x": [
            3663.2
           ],
           "xaxis": "x9",
           "y": [
            1138.8
           ],
           "yaxis": "y9"
          },
          {
           "hovertemplate": "<b>%{hovertext}</b><br><br>Country=Romania<br>Year=2020<br>Milk=%{x}<br>Cows=%{y}<extra></extra>",
           "hovertext": [
            "Romania"
           ],
           "ids": [
            2020
           ],
           "legendgroup": "Romania",
           "marker": {
            "color": "#00cc96",
            "symbol": "circle"
           },
           "mode": "markers",
           "name": "Romania",
           "orientation": "v",
           "showlegend": false,
           "type": "scatter",
           "x": [
            3679.6
           ],
           "xaxis": "x10",
           "y": [
            1121.9
           ],
           "yaxis": "y10"
          },
          {
           "hovertemplate": "<b>%{hovertext}</b><br><br>Country=Romania<br>Year=2021<br>Milk=%{x}<br>Cows=%{y}<extra></extra>",
           "hovertext": [
            "Romania"
           ],
           "ids": [
            2021
           ],
           "legendgroup": "Romania",
           "marker": {
            "color": "#00cc96",
            "symbol": "circle"
           },
           "mode": "markers",
           "name": "Romania",
           "orientation": "v",
           "showlegend": false,
           "type": "scatter",
           "x": [
            3637
           ],
           "xaxis": "x11",
           "y": [
            1081.9
           ],
           "yaxis": "y11"
          }
         ],
         "name": "Romania"
        },
        {
         "data": [
          {
           "hovertemplate": "<b>%{hovertext}</b><br><br>Country=Slovenia<br>Year=2011<br>Milk=%{x}<br>Cows=%{y}<extra></extra>",
           "hovertext": [
            "Slovenia"
           ],
           "ids": [
            2011
           ],
           "legendgroup": "Slovenia",
           "marker": {
            "color": "#ab63fa",
            "symbol": "circle"
           },
           "mode": "markers",
           "name": "Slovenia",
           "orientation": "v",
           "showlegend": true,
           "type": "scatter",
           "x": [
            601.59
           ],
           "xaxis": "x",
           "y": [
            109.07
           ],
           "yaxis": "y"
          },
          {
           "hovertemplate": "<b>%{hovertext}</b><br><br>Country=Slovenia<br>Year=2012<br>Milk=%{x}<br>Cows=%{y}<extra></extra>",
           "hovertext": [
            "Slovenia"
           ],
           "ids": [
            2012
           ],
           "legendgroup": "Slovenia",
           "marker": {
            "color": "#ab63fa",
            "symbol": "circle"
           },
           "mode": "markers",
           "name": "Slovenia",
           "orientation": "v",
           "showlegend": false,
           "type": "scatter",
           "x": [
            620.94
           ],
           "xaxis": "x2",
           "y": [
            111.02
           ],
           "yaxis": "y2"
          },
          {
           "hovertemplate": "<b>%{hovertext}</b><br><br>Country=Slovenia<br>Year=2013<br>Milk=%{x}<br>Cows=%{y}<extra></extra>",
           "hovertext": [
            "Slovenia"
           ],
           "ids": [
            2013
           ],
           "legendgroup": "Slovenia",
           "marker": {
            "color": "#ab63fa",
            "symbol": "circle"
           },
           "mode": "markers",
           "name": "Slovenia",
           "orientation": "v",
           "showlegend": false,
           "type": "scatter",
           "x": [
            595.5
           ],
           "xaxis": "x3",
           "y": [
            109.57
           ],
           "yaxis": "y3"
          },
          {
           "hovertemplate": "<b>%{hovertext}</b><br><br>Country=Slovenia<br>Year=2014<br>Milk=%{x}<br>Cows=%{y}<extra></extra>",
           "hovertext": [
            "Slovenia"
           ],
           "ids": [
            2014
           ],
           "legendgroup": "Slovenia",
           "marker": {
            "color": "#ab63fa",
            "symbol": "circle"
           },
           "mode": "markers",
           "name": "Slovenia",
           "orientation": "v",
           "showlegend": false,
           "type": "scatter",
           "x": [
            616.58
           ],
           "xaxis": "x4",
           "y": [
            107.84
           ],
           "yaxis": "y4"
          },
          {
           "hovertemplate": "<b>%{hovertext}</b><br><br>Country=Slovenia<br>Year=2015<br>Milk=%{x}<br>Cows=%{y}<extra></extra>",
           "hovertext": [
            "Slovenia"
           ],
           "ids": [
            2015
           ],
           "legendgroup": "Slovenia",
           "marker": {
            "color": "#ab63fa",
            "symbol": "circle"
           },
           "mode": "markers",
           "name": "Slovenia",
           "orientation": "v",
           "showlegend": false,
           "type": "scatter",
           "x": [
            631.67
           ],
           "xaxis": "x5",
           "y": [
            112.84
           ],
           "yaxis": "y5"
          },
          {
           "hovertemplate": "<b>%{hovertext}</b><br><br>Country=Slovenia<br>Year=2016<br>Milk=%{x}<br>Cows=%{y}<extra></extra>",
           "hovertext": [
            "Slovenia"
           ],
           "ids": [
            2016
           ],
           "legendgroup": "Slovenia",
           "marker": {
            "color": "#ab63fa",
            "symbol": "circle"
           },
           "mode": "markers",
           "name": "Slovenia",
           "orientation": "v",
           "showlegend": false,
           "type": "scatter",
           "x": [
            649.68
           ],
           "xaxis": "x6",
           "y": [
            107.84
           ],
           "yaxis": "y6"
          },
          {
           "hovertemplate": "<b>%{hovertext}</b><br><br>Country=Slovenia<br>Year=2017<br>Milk=%{x}<br>Cows=%{y}<extra></extra>",
           "hovertext": [
            "Slovenia"
           ],
           "ids": [
            2017
           ],
           "legendgroup": "Slovenia",
           "marker": {
            "color": "#ab63fa",
            "symbol": "circle"
           },
           "mode": "markers",
           "name": "Slovenia",
           "orientation": "v",
           "showlegend": false,
           "type": "scatter",
           "x": [
            647.99
           ],
           "xaxis": "x7",
           "y": [
            108.83
           ],
           "yaxis": "y7"
          },
          {
           "hovertemplate": "<b>%{hovertext}</b><br><br>Country=Slovenia<br>Year=2018<br>Milk=%{x}<br>Cows=%{y}<extra></extra>",
           "hovertext": [
            "Slovenia"
           ],
           "ids": [
            2018
           ],
           "legendgroup": "Slovenia",
           "marker": {
            "color": "#ab63fa",
            "symbol": "circle"
           },
           "mode": "markers",
           "name": "Slovenia",
           "orientation": "v",
           "showlegend": false,
           "type": "scatter",
           "x": [
            628.93
           ],
           "xaxis": "x8",
           "y": [
            102.71
           ],
           "yaxis": "y8"
          },
          {
           "hovertemplate": "<b>%{hovertext}</b><br><br>Country=Slovenia<br>Year=2019<br>Milk=%{x}<br>Cows=%{y}<extra></extra>",
           "hovertext": [
            "Slovenia"
           ],
           "ids": [
            2019
           ],
           "legendgroup": "Slovenia",
           "marker": {
            "color": "#ab63fa",
            "symbol": "circle"
           },
           "mode": "markers",
           "name": "Slovenia",
           "orientation": "v",
           "showlegend": false,
           "type": "scatter",
           "x": [
            623.02
           ],
           "xaxis": "x9",
           "y": [
            100.84
           ],
           "yaxis": "y9"
          },
          {
           "hovertemplate": "<b>%{hovertext}</b><br><br>Country=Slovenia<br>Year=2020<br>Milk=%{x}<br>Cows=%{y}<extra></extra>",
           "hovertext": [
            "Slovenia"
           ],
           "ids": [
            2020
           ],
           "legendgroup": "Slovenia",
           "marker": {
            "color": "#ab63fa",
            "symbol": "circle"
           },
           "mode": "markers",
           "name": "Slovenia",
           "orientation": "v",
           "showlegend": false,
           "type": "scatter",
           "x": [
            630.65
           ],
           "xaxis": "x10",
           "y": [
            99.21
           ],
           "yaxis": "y10"
          },
          {
           "hovertemplate": "<b>%{hovertext}</b><br><br>Country=Slovenia<br>Year=2021<br>Milk=%{x}<br>Cows=%{y}<extra></extra>",
           "hovertext": [
            "Slovenia"
           ],
           "ids": [
            2021
           ],
           "legendgroup": "Slovenia",
           "marker": {
            "color": "#ab63fa",
            "symbol": "circle"
           },
           "mode": "markers",
           "name": "Slovenia",
           "orientation": "v",
           "showlegend": false,
           "type": "scatter",
           "x": [
            639.93
           ],
           "xaxis": "x11",
           "y": [
            100.92
           ],
           "yaxis": "y11"
          }
         ],
         "name": "Slovenia"
        },
        {
         "data": [
          {
           "hovertemplate": "<b>%{hovertext}</b><br><br>Country=Slovakia<br>Year=2011<br>Milk=%{x}<br>Cows=%{y}<extra></extra>",
           "hovertext": [
            "Slovakia"
           ],
           "ids": [
            2011
           ],
           "legendgroup": "Slovakia",
           "marker": {
            "color": "#FFA15A",
            "symbol": "circle"
           },
           "mode": "markers",
           "name": "Slovakia",
           "orientation": "v",
           "showlegend": true,
           "type": "scatter",
           "x": [
            928.32
           ],
           "xaxis": "x",
           "y": [
            154.11
           ],
           "yaxis": "y"
          },
          {
           "hovertemplate": "<b>%{hovertext}</b><br><br>Country=Slovakia<br>Year=2012<br>Milk=%{x}<br>Cows=%{y}<extra></extra>",
           "hovertext": [
            "Slovakia"
           ],
           "ids": [
            2012
           ],
           "legendgroup": "Slovakia",
           "marker": {
            "color": "#FFA15A",
            "symbol": "circle"
           },
           "mode": "markers",
           "name": "Slovakia",
           "orientation": "v",
           "showlegend": false,
           "type": "scatter",
           "x": [
            932.71
           ],
           "xaxis": "x2",
           "y": [
            149.79
           ],
           "yaxis": "y2"
          },
          {
           "hovertemplate": "<b>%{hovertext}</b><br><br>Country=Slovakia<br>Year=2013<br>Milk=%{x}<br>Cows=%{y}<extra></extra>",
           "hovertext": [
            "Slovakia"
           ],
           "ids": [
            2013
           ],
           "legendgroup": "Slovakia",
           "marker": {
            "color": "#FFA15A",
            "symbol": "circle"
           },
           "mode": "markers",
           "name": "Slovakia",
           "orientation": "v",
           "showlegend": false,
           "type": "scatter",
           "x": [
            911.96
           ],
           "xaxis": "x3",
           "y": [
            144.88
           ],
           "yaxis": "y3"
          },
          {
           "hovertemplate": "<b>%{hovertext}</b><br><br>Country=Slovakia<br>Year=2014<br>Milk=%{x}<br>Cows=%{y}<extra></extra>",
           "hovertext": [
            "Slovakia"
           ],
           "ids": [
            2014
           ],
           "legendgroup": "Slovakia",
           "marker": {
            "color": "#FFA15A",
            "symbol": "circle"
           },
           "mode": "markers",
           "name": "Slovakia",
           "orientation": "v",
           "showlegend": false,
           "type": "scatter",
           "x": [
            930.71
           ],
           "xaxis": "x4",
           "y": [
            143.08
           ],
           "yaxis": "y4"
          },
          {
           "hovertemplate": "<b>%{hovertext}</b><br><br>Country=Slovakia<br>Year=2015<br>Milk=%{x}<br>Cows=%{y}<extra></extra>",
           "hovertext": [
            "Slovakia"
           ],
           "ids": [
            2015
           ],
           "legendgroup": "Slovakia",
           "marker": {
            "color": "#FFA15A",
            "symbol": "circle"
           },
           "mode": "markers",
           "name": "Slovakia",
           "orientation": "v",
           "showlegend": false,
           "type": "scatter",
           "x": [
            930.98
           ],
           "xaxis": "x5",
           "y": [
            139.26
           ],
           "yaxis": "y5"
          },
          {
           "hovertemplate": "<b>%{hovertext}</b><br><br>Country=Slovakia<br>Year=2016<br>Milk=%{x}<br>Cows=%{y}<extra></extra>",
           "hovertext": [
            "Slovakia"
           ],
           "ids": [
            2016
           ],
           "legendgroup": "Slovakia",
           "marker": {
            "color": "#FFA15A",
            "symbol": "circle"
           },
           "mode": "markers",
           "name": "Slovakia",
           "orientation": "v",
           "showlegend": false,
           "type": "scatter",
           "x": [
            905.26
           ],
           "xaxis": "x6",
           "y": [
            132.61
           ],
           "yaxis": "y6"
          },
          {
           "hovertemplate": "<b>%{hovertext}</b><br><br>Country=Slovakia<br>Year=2017<br>Milk=%{x}<br>Cows=%{y}<extra></extra>",
           "hovertext": [
            "Slovakia"
           ],
           "ids": [
            2017
           ],
           "legendgroup": "Slovakia",
           "marker": {
            "color": "#FFA15A",
            "symbol": "circle"
           },
           "mode": "markers",
           "name": "Slovakia",
           "orientation": "v",
           "showlegend": false,
           "type": "scatter",
           "x": [
            911.73
           ],
           "xaxis": "x7",
           "y": [
            129.86
           ],
           "yaxis": "y7"
          },
          {
           "hovertemplate": "<b>%{hovertext}</b><br><br>Country=Slovakia<br>Year=2018<br>Milk=%{x}<br>Cows=%{y}<extra></extra>",
           "hovertext": [
            "Slovakia"
           ],
           "ids": [
            2018
           ],
           "legendgroup": "Slovakia",
           "marker": {
            "color": "#FFA15A",
            "symbol": "circle"
           },
           "mode": "markers",
           "name": "Slovakia",
           "orientation": "v",
           "showlegend": false,
           "type": "scatter",
           "x": [
            904.62
           ],
           "xaxis": "x8",
           "y": [
            127.87
           ],
           "yaxis": "y8"
          },
          {
           "hovertemplate": "<b>%{hovertext}</b><br><br>Country=Slovakia<br>Year=2019<br>Milk=%{x}<br>Cows=%{y}<extra></extra>",
           "hovertext": [
            "Slovakia"
           ],
           "ids": [
            2019
           ],
           "legendgroup": "Slovakia",
           "marker": {
            "color": "#FFA15A",
            "symbol": "circle"
           },
           "mode": "markers",
           "name": "Slovakia",
           "orientation": "v",
           "showlegend": false,
           "type": "scatter",
           "x": [
            904.26
           ],
           "xaxis": "x9",
           "y": [
            125.85
           ],
           "yaxis": "y9"
          },
          {
           "hovertemplate": "<b>%{hovertext}</b><br><br>Country=Slovakia<br>Year=2020<br>Milk=%{x}<br>Cows=%{y}<extra></extra>",
           "hovertext": [
            "Slovakia"
           ],
           "ids": [
            2020
           ],
           "legendgroup": "Slovakia",
           "marker": {
            "color": "#FFA15A",
            "symbol": "circle"
           },
           "mode": "markers",
           "name": "Slovakia",
           "orientation": "v",
           "showlegend": false,
           "type": "scatter",
           "x": [
            917.69
           ],
           "xaxis": "x10",
           "y": [
            122.05
           ],
           "yaxis": "y10"
          },
          {
           "hovertemplate": "<b>%{hovertext}</b><br><br>Country=Slovakia<br>Year=2021<br>Milk=%{x}<br>Cows=%{y}<extra></extra>",
           "hovertext": [
            "Slovakia"
           ],
           "ids": [
            2021
           ],
           "legendgroup": "Slovakia",
           "marker": {
            "color": "#FFA15A",
            "symbol": "circle"
           },
           "mode": "markers",
           "name": "Slovakia",
           "orientation": "v",
           "showlegend": false,
           "type": "scatter",
           "x": [
            902.64
           ],
           "xaxis": "x11",
           "y": [
            120.07
           ],
           "yaxis": "y11"
          }
         ],
         "name": "Slovakia"
        },
        {
         "data": [
          {
           "hovertemplate": "<b>%{hovertext}</b><br><br>Country=Finland<br>Year=2011<br>Milk=%{x}<br>Cows=%{y}<extra></extra>",
           "hovertext": [
            "Finland"
           ],
           "ids": [
            2011
           ],
           "legendgroup": "Finland",
           "marker": {
            "color": "#19d3f3",
            "symbol": "circle"
           },
           "mode": "markers",
           "name": "Finland",
           "orientation": "v",
           "showlegend": true,
           "type": "scatter",
           "x": [
            2300.73
           ],
           "xaxis": "x",
           "y": [
            281.53
           ],
           "yaxis": "y"
          },
          {
           "hovertemplate": "<b>%{hovertext}</b><br><br>Country=Finland<br>Year=2012<br>Milk=%{x}<br>Cows=%{y}<extra></extra>",
           "hovertext": [
            "Finland"
           ],
           "ids": [
            2012
           ],
           "legendgroup": "Finland",
           "marker": {
            "color": "#19d3f3",
            "symbol": "circle"
           },
           "mode": "markers",
           "name": "Finland",
           "orientation": "v",
           "showlegend": false,
           "type": "scatter",
           "x": [
            2296.68
           ],
           "xaxis": "x2",
           "y": [
            279.87
           ],
           "yaxis": "y2"
          },
          {
           "hovertemplate": "<b>%{hovertext}</b><br><br>Country=Finland<br>Year=2013<br>Milk=%{x}<br>Cows=%{y}<extra></extra>",
           "hovertext": [
            "Finland"
           ],
           "ids": [
            2013
           ],
           "legendgroup": "Finland",
           "marker": {
            "color": "#19d3f3",
            "symbol": "circle"
           },
           "mode": "markers",
           "name": "Finland",
           "orientation": "v",
           "showlegend": false,
           "type": "scatter",
           "x": [
            2327.8
           ],
           "xaxis": "x3",
           "y": [
            282.01
           ],
           "yaxis": "y3"
          },
          {
           "hovertemplate": "<b>%{hovertext}</b><br><br>Country=Finland<br>Year=2014<br>Milk=%{x}<br>Cows=%{y}<extra></extra>",
           "hovertext": [
            "Finland"
           ],
           "ids": [
            2014
           ],
           "legendgroup": "Finland",
           "marker": {
            "color": "#19d3f3",
            "symbol": "circle"
           },
           "mode": "markers",
           "name": "Finland",
           "orientation": "v",
           "showlegend": false,
           "type": "scatter",
           "x": [
            2400.01
           ],
           "xaxis": "x4",
           "y": [
            282.91
           ],
           "yaxis": "y4"
          },
          {
           "hovertemplate": "<b>%{hovertext}</b><br><br>Country=Finland<br>Year=2015<br>Milk=%{x}<br>Cows=%{y}<extra></extra>",
           "hovertext": [
            "Finland"
           ],
           "ids": [
            2015
           ],
           "legendgroup": "Finland",
           "marker": {
            "color": "#19d3f3",
            "symbol": "circle"
           },
           "mode": "markers",
           "name": "Finland",
           "orientation": "v",
           "showlegend": false,
           "type": "scatter",
           "x": [
            2436.76
           ],
           "xaxis": "x5",
           "y": [
            282.23
           ],
           "yaxis": "y5"
          },
          {
           "hovertemplate": "<b>%{hovertext}</b><br><br>Country=Finland<br>Year=2016<br>Milk=%{x}<br>Cows=%{y}<extra></extra>",
           "hovertext": [
            "Finland"
           ],
           "ids": [
            2016
           ],
           "legendgroup": "Finland",
           "marker": {
            "color": "#19d3f3",
            "symbol": "circle"
           },
           "mode": "markers",
           "name": "Finland",
           "orientation": "v",
           "showlegend": false,
           "type": "scatter",
           "x": [
            2429.59
           ],
           "xaxis": "x6",
           "y": [
            275.38
           ],
           "yaxis": "y6"
          },
          {
           "hovertemplate": "<b>%{hovertext}</b><br><br>Country=Finland<br>Year=2017<br>Milk=%{x}<br>Cows=%{y}<extra></extra>",
           "hovertext": [
            "Finland"
           ],
           "ids": [
            2017
           ],
           "legendgroup": "Finland",
           "marker": {
            "color": "#19d3f3",
            "symbol": "circle"
           },
           "mode": "markers",
           "name": "Finland",
           "orientation": "v",
           "showlegend": false,
           "type": "scatter",
           "x": [
            2405.76
           ],
           "xaxis": "x7",
           "y": [
            270.64
           ],
           "yaxis": "y7"
          },
          {
           "hovertemplate": "<b>%{hovertext}</b><br><br>Country=Finland<br>Year=2018<br>Milk=%{x}<br>Cows=%{y}<extra></extra>",
           "hovertext": [
            "Finland"
           ],
           "ids": [
            2018
           ],
           "legendgroup": "Finland",
           "marker": {
            "color": "#19d3f3",
            "symbol": "circle"
           },
           "mode": "markers",
           "name": "Finland",
           "orientation": "v",
           "showlegend": false,
           "type": "scatter",
           "x": [
            2397.88
           ],
           "xaxis": "x8",
           "y": [
            263.64
           ],
           "yaxis": "y8"
          },
          {
           "hovertemplate": "<b>%{hovertext}</b><br><br>Country=Finland<br>Year=2019<br>Milk=%{x}<br>Cows=%{y}<extra></extra>",
           "hovertext": [
            "Finland"
           ],
           "ids": [
            2019
           ],
           "legendgroup": "Finland",
           "marker": {
            "color": "#19d3f3",
            "symbol": "circle"
           },
           "mode": "markers",
           "name": "Finland",
           "orientation": "v",
           "showlegend": false,
           "type": "scatter",
           "x": [
            2374.36
           ],
           "xaxis": "x9",
           "y": [
            258.94
           ],
           "yaxis": "y9"
          },
          {
           "hovertemplate": "<b>%{hovertext}</b><br><br>Country=Finland<br>Year=2020<br>Milk=%{x}<br>Cows=%{y}<extra></extra>",
           "hovertext": [
            "Finland"
           ],
           "ids": [
            2020
           ],
           "legendgroup": "Finland",
           "marker": {
            "color": "#19d3f3",
            "symbol": "circle"
           },
           "mode": "markers",
           "name": "Finland",
           "orientation": "v",
           "showlegend": false,
           "type": "scatter",
           "x": [
            2406.52
           ],
           "xaxis": "x10",
           "y": [
            255.62
           ],
           "yaxis": "y10"
          },
          {
           "hovertemplate": "<b>%{hovertext}</b><br><br>Country=Finland<br>Year=2021<br>Milk=%{x}<br>Cows=%{y}<extra></extra>",
           "hovertext": [
            "Finland"
           ],
           "ids": [
            2021
           ],
           "legendgroup": "Finland",
           "marker": {
            "color": "#19d3f3",
            "symbol": "circle"
           },
           "mode": "markers",
           "name": "Finland",
           "orientation": "v",
           "showlegend": false,
           "type": "scatter",
           "x": [
            2161.46
           ],
           "xaxis": "x11",
           "y": [
            248.53
           ],
           "yaxis": "y11"
          }
         ],
         "name": "Finland"
        },
        {
         "data": [
          {
           "hovertemplate": "<b>%{hovertext}</b><br><br>Country=Sweden<br>Year=2011<br>Milk=%{x}<br>Cows=%{y}<extra></extra>",
           "hovertext": [
            "Sweden"
           ],
           "ids": [
            2011
           ],
           "legendgroup": "Sweden",
           "marker": {
            "color": "#FF6692",
            "symbol": "circle"
           },
           "mode": "markers",
           "name": "Sweden",
           "orientation": "v",
           "showlegend": true,
           "type": "scatter",
           "x": [
            2850.4
           ],
           "xaxis": "x",
           "y": [
            347.65
           ],
           "yaxis": "y"
          },
          {
           "hovertemplate": "<b>%{hovertext}</b><br><br>Country=Sweden<br>Year=2012<br>Milk=%{x}<br>Cows=%{y}<extra></extra>",
           "hovertext": [
            "Sweden"
           ],
           "ids": [
            2012
           ],
           "legendgroup": "Sweden",
           "marker": {
            "color": "#FF6692",
            "symbol": "circle"
           },
           "mode": "markers",
           "name": "Sweden",
           "orientation": "v",
           "showlegend": false,
           "type": "scatter",
           "x": [
            2861.17
           ],
           "xaxis": "x2",
           "y": [
            345.53
           ],
           "yaxis": "y2"
          },
          {
           "hovertemplate": "<b>%{hovertext}</b><br><br>Country=Sweden<br>Year=2013<br>Milk=%{x}<br>Cows=%{y}<extra></extra>",
           "hovertext": [
            "Sweden"
           ],
           "ids": [
            2013
           ],
           "legendgroup": "Sweden",
           "marker": {
            "color": "#FF6692",
            "symbol": "circle"
           },
           "mode": "markers",
           "name": "Sweden",
           "orientation": "v",
           "showlegend": false,
           "type": "scatter",
           "x": [
            2869.58
           ],
           "xaxis": "x3",
           "y": [
            346.12
           ],
           "yaxis": "y3"
          },
          {
           "hovertemplate": "<b>%{hovertext}</b><br><br>Country=Sweden<br>Year=2014<br>Milk=%{x}<br>Cows=%{y}<extra></extra>",
           "hovertext": [
            "Sweden"
           ],
           "ids": [
            2014
           ],
           "legendgroup": "Sweden",
           "marker": {
            "color": "#FF6692",
            "symbol": "circle"
           },
           "mode": "markers",
           "name": "Sweden",
           "orientation": "v",
           "showlegend": false,
           "type": "scatter",
           "x": [
            2931.65
           ],
           "xaxis": "x4",
           "y": [
            344.19
           ],
           "yaxis": "y4"
          },
          {
           "hovertemplate": "<b>%{hovertext}</b><br><br>Country=Sweden<br>Year=2015<br>Milk=%{x}<br>Cows=%{y}<extra></extra>",
           "hovertext": [
            "Sweden"
           ],
           "ids": [
            2015
           ],
           "legendgroup": "Sweden",
           "marker": {
            "color": "#FF6692",
            "symbol": "circle"
           },
           "mode": "markers",
           "name": "Sweden",
           "orientation": "v",
           "showlegend": false,
           "type": "scatter",
           "x": [
            2933.16
           ],
           "xaxis": "x5",
           "y": [
            336.8
           ],
           "yaxis": "y5"
          },
          {
           "hovertemplate": "<b>%{hovertext}</b><br><br>Country=Sweden<br>Year=2016<br>Milk=%{x}<br>Cows=%{y}<extra></extra>",
           "hovertext": [
            "Sweden"
           ],
           "ids": [
            2016
           ],
           "legendgroup": "Sweden",
           "marker": {
            "color": "#FF6692",
            "symbol": "circle"
           },
           "mode": "markers",
           "name": "Sweden",
           "orientation": "v",
           "showlegend": false,
           "type": "scatter",
           "x": [
            2862.23
           ],
           "xaxis": "x6",
           "y": [
            326.12
           ],
           "yaxis": "y6"
          },
          {
           "hovertemplate": "<b>%{hovertext}</b><br><br>Country=Sweden<br>Year=2017<br>Milk=%{x}<br>Cows=%{y}<extra></extra>",
           "hovertext": [
            "Sweden"
           ],
           "ids": [
            2017
           ],
           "legendgroup": "Sweden",
           "marker": {
            "color": "#FF6692",
            "symbol": "circle"
           },
           "mode": "markers",
           "name": "Sweden",
           "orientation": "v",
           "showlegend": false,
           "type": "scatter",
           "x": [
            2816.66
           ],
           "xaxis": "x7",
           "y": [
            323.44
           ],
           "yaxis": "y7"
          },
          {
           "hovertemplate": "<b>%{hovertext}</b><br><br>Country=Sweden<br>Year=2018<br>Milk=%{x}<br>Cows=%{y}<extra></extra>",
           "hovertext": [
            "Sweden"
           ],
           "ids": [
            2018
           ],
           "legendgroup": "Sweden",
           "marker": {
            "color": "#FF6692",
            "symbol": "circle"
           },
           "mode": "markers",
           "name": "Sweden",
           "orientation": "v",
           "showlegend": false,
           "type": "scatter",
           "x": [
            2760.23
           ],
           "xaxis": "x8",
           "y": [
            313.05
           ],
           "yaxis": "y8"
          },
          {
           "hovertemplate": "<b>%{hovertext}</b><br><br>Country=Sweden<br>Year=2019<br>Milk=%{x}<br>Cows=%{y}<extra></extra>",
           "hovertext": [
            "Sweden"
           ],
           "ids": [
            2019
           ],
           "legendgroup": "Sweden",
           "marker": {
            "color": "#FF6692",
            "symbol": "circle"
           },
           "mode": "markers",
           "name": "Sweden",
           "orientation": "v",
           "showlegend": false,
           "type": "scatter",
           "x": [
            2704.39
           ],
           "xaxis": "x9",
           "y": [
            301.38
           ],
           "yaxis": "y9"
          },
          {
           "hovertemplate": "<b>%{hovertext}</b><br><br>Country=Sweden<br>Year=2020<br>Milk=%{x}<br>Cows=%{y}<extra></extra>",
           "hovertext": [
            "Sweden"
           ],
           "ids": [
            2020
           ],
           "legendgroup": "Sweden",
           "marker": {
            "color": "#FF6692",
            "symbol": "circle"
           },
           "mode": "markers",
           "name": "Sweden",
           "orientation": "v",
           "showlegend": false,
           "type": "scatter",
           "x": [
            2772.74
           ],
           "xaxis": "x10",
           "y": [
            304.4
           ],
           "yaxis": "y10"
          },
          {
           "hovertemplate": "<b>%{hovertext}</b><br><br>Country=Sweden<br>Year=2021<br>Milk=%{x}<br>Cows=%{y}<extra></extra>",
           "hovertext": [
            "Sweden"
           ],
           "ids": [
            2021
           ],
           "legendgroup": "Sweden",
           "marker": {
            "color": "#FF6692",
            "symbol": "circle"
           },
           "mode": "markers",
           "name": "Sweden",
           "orientation": "v",
           "showlegend": false,
           "type": "scatter",
           "x": [
            2782.22
           ],
           "xaxis": "x11",
           "y": [
            299.6
           ],
           "yaxis": "y11"
          }
         ],
         "name": "Sweden"
        }
       ],
       "layout": {
        "annotations": [
         {
          "font": {},
          "showarrow": false,
          "text": "Year=2011",
          "x": 0.03636363636363637,
          "xanchor": "center",
          "xref": "paper",
          "y": 1,
          "yanchor": "bottom",
          "yref": "paper"
         },
         {
          "font": {},
          "showarrow": false,
          "text": "Year=2012",
          "x": 0.1290909090909091,
          "xanchor": "center",
          "xref": "paper",
          "y": 1,
          "yanchor": "bottom",
          "yref": "paper"
         },
         {
          "font": {},
          "showarrow": false,
          "text": "Year=2013",
          "x": 0.22181818181818186,
          "xanchor": "center",
          "xref": "paper",
          "y": 1,
          "yanchor": "bottom",
          "yref": "paper"
         },
         {
          "font": {},
          "showarrow": false,
          "text": "Year=2014",
          "x": 0.3145454545454546,
          "xanchor": "center",
          "xref": "paper",
          "y": 1,
          "yanchor": "bottom",
          "yref": "paper"
         },
         {
          "font": {},
          "showarrow": false,
          "text": "Year=2015",
          "x": 0.40727272727272734,
          "xanchor": "center",
          "xref": "paper",
          "y": 1,
          "yanchor": "bottom",
          "yref": "paper"
         },
         {
          "font": {},
          "showarrow": false,
          "text": "Year=2016",
          "x": 0.5000000000000001,
          "xanchor": "center",
          "xref": "paper",
          "y": 1,
          "yanchor": "bottom",
          "yref": "paper"
         },
         {
          "font": {},
          "showarrow": false,
          "text": "Year=2017",
          "x": 0.5927272727272728,
          "xanchor": "center",
          "xref": "paper",
          "y": 1,
          "yanchor": "bottom",
          "yref": "paper"
         },
         {
          "font": {},
          "showarrow": false,
          "text": "Year=2018",
          "x": 0.6854545454545455,
          "xanchor": "center",
          "xref": "paper",
          "y": 1,
          "yanchor": "bottom",
          "yref": "paper"
         },
         {
          "font": {},
          "showarrow": false,
          "text": "Year=2019",
          "x": 0.7781818181818183,
          "xanchor": "center",
          "xref": "paper",
          "y": 1,
          "yanchor": "bottom",
          "yref": "paper"
         },
         {
          "font": {},
          "showarrow": false,
          "text": "Year=2020",
          "x": 0.8709090909090911,
          "xanchor": "center",
          "xref": "paper",
          "y": 1,
          "yanchor": "bottom",
          "yref": "paper"
         },
         {
          "font": {},
          "showarrow": false,
          "text": "Year=2021",
          "x": 0.9636363636363638,
          "xanchor": "center",
          "xref": "paper",
          "y": 1,
          "yanchor": "bottom",
          "yref": "paper"
         }
        ],
        "height": 400,
        "legend": {
         "title": {
          "text": "Country"
         },
         "tracegroupgap": 0
        },
        "margin": {
         "t": 60
        },
        "sliders": [
         {
          "active": 0,
          "currentvalue": {
           "prefix": "Country="
          },
          "len": 0.9,
          "pad": {
           "b": 10,
           "t": 60
          },
          "steps": [
           {
            "args": [
             [
              "Belgium"
             ],
             {
              "frame": {
               "duration": 0,
               "redraw": false
              },
              "fromcurrent": true,
              "mode": "immediate",
              "transition": {
               "duration": 0,
               "easing": "linear"
              }
             }
            ],
            "label": "Belgium",
            "method": "animate"
           },
           {
            "args": [
             [
              "Bulgaria"
             ],
             {
              "frame": {
               "duration": 0,
               "redraw": false
              },
              "fromcurrent": true,
              "mode": "immediate",
              "transition": {
               "duration": 0,
               "easing": "linear"
              }
             }
            ],
            "label": "Bulgaria",
            "method": "animate"
           },
           {
            "args": [
             [
              "Czechia"
             ],
             {
              "frame": {
               "duration": 0,
               "redraw": false
              },
              "fromcurrent": true,
              "mode": "immediate",
              "transition": {
               "duration": 0,
               "easing": "linear"
              }
             }
            ],
            "label": "Czechia",
            "method": "animate"
           },
           {
            "args": [
             [
              "Denmark"
             ],
             {
              "frame": {
               "duration": 0,
               "redraw": false
              },
              "fromcurrent": true,
              "mode": "immediate",
              "transition": {
               "duration": 0,
               "easing": "linear"
              }
             }
            ],
            "label": "Denmark",
            "method": "animate"
           },
           {
            "args": [
             [
              "Germany"
             ],
             {
              "frame": {
               "duration": 0,
               "redraw": false
              },
              "fromcurrent": true,
              "mode": "immediate",
              "transition": {
               "duration": 0,
               "easing": "linear"
              }
             }
            ],
            "label": "Germany",
            "method": "animate"
           },
           {
            "args": [
             [
              "Estonia"
             ],
             {
              "frame": {
               "duration": 0,
               "redraw": false
              },
              "fromcurrent": true,
              "mode": "immediate",
              "transition": {
               "duration": 0,
               "easing": "linear"
              }
             }
            ],
            "label": "Estonia",
            "method": "animate"
           },
           {
            "args": [
             [
              "Ireland"
             ],
             {
              "frame": {
               "duration": 0,
               "redraw": false
              },
              "fromcurrent": true,
              "mode": "immediate",
              "transition": {
               "duration": 0,
               "easing": "linear"
              }
             }
            ],
            "label": "Ireland",
            "method": "animate"
           },
           {
            "args": [
             [
              "Greece"
             ],
             {
              "frame": {
               "duration": 0,
               "redraw": false
              },
              "fromcurrent": true,
              "mode": "immediate",
              "transition": {
               "duration": 0,
               "easing": "linear"
              }
             }
            ],
            "label": "Greece",
            "method": "animate"
           },
           {
            "args": [
             [
              "Spain"
             ],
             {
              "frame": {
               "duration": 0,
               "redraw": false
              },
              "fromcurrent": true,
              "mode": "immediate",
              "transition": {
               "duration": 0,
               "easing": "linear"
              }
             }
            ],
            "label": "Spain",
            "method": "animate"
           },
           {
            "args": [
             [
              "France"
             ],
             {
              "frame": {
               "duration": 0,
               "redraw": false
              },
              "fromcurrent": true,
              "mode": "immediate",
              "transition": {
               "duration": 0,
               "easing": "linear"
              }
             }
            ],
            "label": "France",
            "method": "animate"
           },
           {
            "args": [
             [
              "Croatia"
             ],
             {
              "frame": {
               "duration": 0,
               "redraw": false
              },
              "fromcurrent": true,
              "mode": "immediate",
              "transition": {
               "duration": 0,
               "easing": "linear"
              }
             }
            ],
            "label": "Croatia",
            "method": "animate"
           },
           {
            "args": [
             [
              "Italy"
             ],
             {
              "frame": {
               "duration": 0,
               "redraw": false
              },
              "fromcurrent": true,
              "mode": "immediate",
              "transition": {
               "duration": 0,
               "easing": "linear"
              }
             }
            ],
            "label": "Italy",
            "method": "animate"
           },
           {
            "args": [
             [
              "Cyprus"
             ],
             {
              "frame": {
               "duration": 0,
               "redraw": false
              },
              "fromcurrent": true,
              "mode": "immediate",
              "transition": {
               "duration": 0,
               "easing": "linear"
              }
             }
            ],
            "label": "Cyprus",
            "method": "animate"
           },
           {
            "args": [
             [
              "Latvia"
             ],
             {
              "frame": {
               "duration": 0,
               "redraw": false
              },
              "fromcurrent": true,
              "mode": "immediate",
              "transition": {
               "duration": 0,
               "easing": "linear"
              }
             }
            ],
            "label": "Latvia",
            "method": "animate"
           },
           {
            "args": [
             [
              "Lithuania"
             ],
             {
              "frame": {
               "duration": 0,
               "redraw": false
              },
              "fromcurrent": true,
              "mode": "immediate",
              "transition": {
               "duration": 0,
               "easing": "linear"
              }
             }
            ],
            "label": "Lithuania",
            "method": "animate"
           },
           {
            "args": [
             [
              "Luxembourg"
             ],
             {
              "frame": {
               "duration": 0,
               "redraw": false
              },
              "fromcurrent": true,
              "mode": "immediate",
              "transition": {
               "duration": 0,
               "easing": "linear"
              }
             }
            ],
            "label": "Luxembourg",
            "method": "animate"
           },
           {
            "args": [
             [
              "Hungary"
             ],
             {
              "frame": {
               "duration": 0,
               "redraw": false
              },
              "fromcurrent": true,
              "mode": "immediate",
              "transition": {
               "duration": 0,
               "easing": "linear"
              }
             }
            ],
            "label": "Hungary",
            "method": "animate"
           },
           {
            "args": [
             [
              "Malta"
             ],
             {
              "frame": {
               "duration": 0,
               "redraw": false
              },
              "fromcurrent": true,
              "mode": "immediate",
              "transition": {
               "duration": 0,
               "easing": "linear"
              }
             }
            ],
            "label": "Malta",
            "method": "animate"
           },
           {
            "args": [
             [
              "Netherlands"
             ],
             {
              "frame": {
               "duration": 0,
               "redraw": false
              },
              "fromcurrent": true,
              "mode": "immediate",
              "transition": {
               "duration": 0,
               "easing": "linear"
              }
             }
            ],
            "label": "Netherlands",
            "method": "animate"
           },
           {
            "args": [
             [
              "Austria"
             ],
             {
              "frame": {
               "duration": 0,
               "redraw": false
              },
              "fromcurrent": true,
              "mode": "immediate",
              "transition": {
               "duration": 0,
               "easing": "linear"
              }
             }
            ],
            "label": "Austria",
            "method": "animate"
           },
           {
            "args": [
             [
              "Poland"
             ],
             {
              "frame": {
               "duration": 0,
               "redraw": false
              },
              "fromcurrent": true,
              "mode": "immediate",
              "transition": {
               "duration": 0,
               "easing": "linear"
              }
             }
            ],
            "label": "Poland",
            "method": "animate"
           },
           {
            "args": [
             [
              "Portugal"
             ],
             {
              "frame": {
               "duration": 0,
               "redraw": false
              },
              "fromcurrent": true,
              "mode": "immediate",
              "transition": {
               "duration": 0,
               "easing": "linear"
              }
             }
            ],
            "label": "Portugal",
            "method": "animate"
           },
           {
            "args": [
             [
              "Romania"
             ],
             {
              "frame": {
               "duration": 0,
               "redraw": false
              },
              "fromcurrent": true,
              "mode": "immediate",
              "transition": {
               "duration": 0,
               "easing": "linear"
              }
             }
            ],
            "label": "Romania",
            "method": "animate"
           },
           {
            "args": [
             [
              "Slovenia"
             ],
             {
              "frame": {
               "duration": 0,
               "redraw": false
              },
              "fromcurrent": true,
              "mode": "immediate",
              "transition": {
               "duration": 0,
               "easing": "linear"
              }
             }
            ],
            "label": "Slovenia",
            "method": "animate"
           },
           {
            "args": [
             [
              "Slovakia"
             ],
             {
              "frame": {
               "duration": 0,
               "redraw": false
              },
              "fromcurrent": true,
              "mode": "immediate",
              "transition": {
               "duration": 0,
               "easing": "linear"
              }
             }
            ],
            "label": "Slovakia",
            "method": "animate"
           },
           {
            "args": [
             [
              "Finland"
             ],
             {
              "frame": {
               "duration": 0,
               "redraw": false
              },
              "fromcurrent": true,
              "mode": "immediate",
              "transition": {
               "duration": 0,
               "easing": "linear"
              }
             }
            ],
            "label": "Finland",
            "method": "animate"
           },
           {
            "args": [
             [
              "Sweden"
             ],
             {
              "frame": {
               "duration": 0,
               "redraw": false
              },
              "fromcurrent": true,
              "mode": "immediate",
              "transition": {
               "duration": 0,
               "easing": "linear"
              }
             }
            ],
            "label": "Sweden",
            "method": "animate"
           }
          ],
          "x": 0.1,
          "xanchor": "left",
          "y": 0,
          "yanchor": "top"
         }
        ],
        "template": {
         "data": {
          "bar": [
           {
            "error_x": {
             "color": "#2a3f5f"
            },
            "error_y": {
             "color": "#2a3f5f"
            },
            "marker": {
             "line": {
              "color": "#E5ECF6",
              "width": 0.5
             },
             "pattern": {
              "fillmode": "overlay",
              "size": 10,
              "solidity": 0.2
             }
            },
            "type": "bar"
           }
          ],
          "barpolar": [
           {
            "marker": {
             "line": {
              "color": "#E5ECF6",
              "width": 0.5
             },
             "pattern": {
              "fillmode": "overlay",
              "size": 10,
              "solidity": 0.2
             }
            },
            "type": "barpolar"
           }
          ],
          "carpet": [
           {
            "aaxis": {
             "endlinecolor": "#2a3f5f",
             "gridcolor": "white",
             "linecolor": "white",
             "minorgridcolor": "white",
             "startlinecolor": "#2a3f5f"
            },
            "baxis": {
             "endlinecolor": "#2a3f5f",
             "gridcolor": "white",
             "linecolor": "white",
             "minorgridcolor": "white",
             "startlinecolor": "#2a3f5f"
            },
            "type": "carpet"
           }
          ],
          "choropleth": [
           {
            "colorbar": {
             "outlinewidth": 0,
             "ticks": ""
            },
            "type": "choropleth"
           }
          ],
          "contour": [
           {
            "colorbar": {
             "outlinewidth": 0,
             "ticks": ""
            },
            "colorscale": [
             [
              0,
              "#0d0887"
             ],
             [
              0.1111111111111111,
              "#46039f"
             ],
             [
              0.2222222222222222,
              "#7201a8"
             ],
             [
              0.3333333333333333,
              "#9c179e"
             ],
             [
              0.4444444444444444,
              "#bd3786"
             ],
             [
              0.5555555555555556,
              "#d8576b"
             ],
             [
              0.6666666666666666,
              "#ed7953"
             ],
             [
              0.7777777777777778,
              "#fb9f3a"
             ],
             [
              0.8888888888888888,
              "#fdca26"
             ],
             [
              1,
              "#f0f921"
             ]
            ],
            "type": "contour"
           }
          ],
          "contourcarpet": [
           {
            "colorbar": {
             "outlinewidth": 0,
             "ticks": ""
            },
            "type": "contourcarpet"
           }
          ],
          "heatmap": [
           {
            "colorbar": {
             "outlinewidth": 0,
             "ticks": ""
            },
            "colorscale": [
             [
              0,
              "#0d0887"
             ],
             [
              0.1111111111111111,
              "#46039f"
             ],
             [
              0.2222222222222222,
              "#7201a8"
             ],
             [
              0.3333333333333333,
              "#9c179e"
             ],
             [
              0.4444444444444444,
              "#bd3786"
             ],
             [
              0.5555555555555556,
              "#d8576b"
             ],
             [
              0.6666666666666666,
              "#ed7953"
             ],
             [
              0.7777777777777778,
              "#fb9f3a"
             ],
             [
              0.8888888888888888,
              "#fdca26"
             ],
             [
              1,
              "#f0f921"
             ]
            ],
            "type": "heatmap"
           }
          ],
          "heatmapgl": [
           {
            "colorbar": {
             "outlinewidth": 0,
             "ticks": ""
            },
            "colorscale": [
             [
              0,
              "#0d0887"
             ],
             [
              0.1111111111111111,
              "#46039f"
             ],
             [
              0.2222222222222222,
              "#7201a8"
             ],
             [
              0.3333333333333333,
              "#9c179e"
             ],
             [
              0.4444444444444444,
              "#bd3786"
             ],
             [
              0.5555555555555556,
              "#d8576b"
             ],
             [
              0.6666666666666666,
              "#ed7953"
             ],
             [
              0.7777777777777778,
              "#fb9f3a"
             ],
             [
              0.8888888888888888,
              "#fdca26"
             ],
             [
              1,
              "#f0f921"
             ]
            ],
            "type": "heatmapgl"
           }
          ],
          "histogram": [
           {
            "marker": {
             "pattern": {
              "fillmode": "overlay",
              "size": 10,
              "solidity": 0.2
             }
            },
            "type": "histogram"
           }
          ],
          "histogram2d": [
           {
            "colorbar": {
             "outlinewidth": 0,
             "ticks": ""
            },
            "colorscale": [
             [
              0,
              "#0d0887"
             ],
             [
              0.1111111111111111,
              "#46039f"
             ],
             [
              0.2222222222222222,
              "#7201a8"
             ],
             [
              0.3333333333333333,
              "#9c179e"
             ],
             [
              0.4444444444444444,
              "#bd3786"
             ],
             [
              0.5555555555555556,
              "#d8576b"
             ],
             [
              0.6666666666666666,
              "#ed7953"
             ],
             [
              0.7777777777777778,
              "#fb9f3a"
             ],
             [
              0.8888888888888888,
              "#fdca26"
             ],
             [
              1,
              "#f0f921"
             ]
            ],
            "type": "histogram2d"
           }
          ],
          "histogram2dcontour": [
           {
            "colorbar": {
             "outlinewidth": 0,
             "ticks": ""
            },
            "colorscale": [
             [
              0,
              "#0d0887"
             ],
             [
              0.1111111111111111,
              "#46039f"
             ],
             [
              0.2222222222222222,
              "#7201a8"
             ],
             [
              0.3333333333333333,
              "#9c179e"
             ],
             [
              0.4444444444444444,
              "#bd3786"
             ],
             [
              0.5555555555555556,
              "#d8576b"
             ],
             [
              0.6666666666666666,
              "#ed7953"
             ],
             [
              0.7777777777777778,
              "#fb9f3a"
             ],
             [
              0.8888888888888888,
              "#fdca26"
             ],
             [
              1,
              "#f0f921"
             ]
            ],
            "type": "histogram2dcontour"
           }
          ],
          "mesh3d": [
           {
            "colorbar": {
             "outlinewidth": 0,
             "ticks": ""
            },
            "type": "mesh3d"
           }
          ],
          "parcoords": [
           {
            "line": {
             "colorbar": {
              "outlinewidth": 0,
              "ticks": ""
             }
            },
            "type": "parcoords"
           }
          ],
          "pie": [
           {
            "automargin": true,
            "type": "pie"
           }
          ],
          "scatter": [
           {
            "marker": {
             "colorbar": {
              "outlinewidth": 0,
              "ticks": ""
             }
            },
            "type": "scatter"
           }
          ],
          "scatter3d": [
           {
            "line": {
             "colorbar": {
              "outlinewidth": 0,
              "ticks": ""
             }
            },
            "marker": {
             "colorbar": {
              "outlinewidth": 0,
              "ticks": ""
             }
            },
            "type": "scatter3d"
           }
          ],
          "scattercarpet": [
           {
            "marker": {
             "colorbar": {
              "outlinewidth": 0,
              "ticks": ""
             }
            },
            "type": "scattercarpet"
           }
          ],
          "scattergeo": [
           {
            "marker": {
             "colorbar": {
              "outlinewidth": 0,
              "ticks": ""
             }
            },
            "type": "scattergeo"
           }
          ],
          "scattergl": [
           {
            "marker": {
             "colorbar": {
              "outlinewidth": 0,
              "ticks": ""
             }
            },
            "type": "scattergl"
           }
          ],
          "scattermapbox": [
           {
            "marker": {
             "colorbar": {
              "outlinewidth": 0,
              "ticks": ""
             }
            },
            "type": "scattermapbox"
           }
          ],
          "scatterpolar": [
           {
            "marker": {
             "colorbar": {
              "outlinewidth": 0,
              "ticks": ""
             }
            },
            "type": "scatterpolar"
           }
          ],
          "scatterpolargl": [
           {
            "marker": {
             "colorbar": {
              "outlinewidth": 0,
              "ticks": ""
             }
            },
            "type": "scatterpolargl"
           }
          ],
          "scatterternary": [
           {
            "marker": {
             "colorbar": {
              "outlinewidth": 0,
              "ticks": ""
             }
            },
            "type": "scatterternary"
           }
          ],
          "surface": [
           {
            "colorbar": {
             "outlinewidth": 0,
             "ticks": ""
            },
            "colorscale": [
             [
              0,
              "#0d0887"
             ],
             [
              0.1111111111111111,
              "#46039f"
             ],
             [
              0.2222222222222222,
              "#7201a8"
             ],
             [
              0.3333333333333333,
              "#9c179e"
             ],
             [
              0.4444444444444444,
              "#bd3786"
             ],
             [
              0.5555555555555556,
              "#d8576b"
             ],
             [
              0.6666666666666666,
              "#ed7953"
             ],
             [
              0.7777777777777778,
              "#fb9f3a"
             ],
             [
              0.8888888888888888,
              "#fdca26"
             ],
             [
              1,
              "#f0f921"
             ]
            ],
            "type": "surface"
           }
          ],
          "table": [
           {
            "cells": {
             "fill": {
              "color": "#EBF0F8"
             },
             "line": {
              "color": "white"
             }
            },
            "header": {
             "fill": {
              "color": "#C8D4E3"
             },
             "line": {
              "color": "white"
             }
            },
            "type": "table"
           }
          ]
         },
         "layout": {
          "annotationdefaults": {
           "arrowcolor": "#2a3f5f",
           "arrowhead": 0,
           "arrowwidth": 1
          },
          "autotypenumbers": "strict",
          "coloraxis": {
           "colorbar": {
            "outlinewidth": 0,
            "ticks": ""
           }
          },
          "colorscale": {
           "diverging": [
            [
             0,
             "#8e0152"
            ],
            [
             0.1,
             "#c51b7d"
            ],
            [
             0.2,
             "#de77ae"
            ],
            [
             0.3,
             "#f1b6da"
            ],
            [
             0.4,
             "#fde0ef"
            ],
            [
             0.5,
             "#f7f7f7"
            ],
            [
             0.6,
             "#e6f5d0"
            ],
            [
             0.7,
             "#b8e186"
            ],
            [
             0.8,
             "#7fbc41"
            ],
            [
             0.9,
             "#4d9221"
            ],
            [
             1,
             "#276419"
            ]
           ],
           "sequential": [
            [
             0,
             "#0d0887"
            ],
            [
             0.1111111111111111,
             "#46039f"
            ],
            [
             0.2222222222222222,
             "#7201a8"
            ],
            [
             0.3333333333333333,
             "#9c179e"
            ],
            [
             0.4444444444444444,
             "#bd3786"
            ],
            [
             0.5555555555555556,
             "#d8576b"
            ],
            [
             0.6666666666666666,
             "#ed7953"
            ],
            [
             0.7777777777777778,
             "#fb9f3a"
            ],
            [
             0.8888888888888888,
             "#fdca26"
            ],
            [
             1,
             "#f0f921"
            ]
           ],
           "sequentialminus": [
            [
             0,
             "#0d0887"
            ],
            [
             0.1111111111111111,
             "#46039f"
            ],
            [
             0.2222222222222222,
             "#7201a8"
            ],
            [
             0.3333333333333333,
             "#9c179e"
            ],
            [
             0.4444444444444444,
             "#bd3786"
            ],
            [
             0.5555555555555556,
             "#d8576b"
            ],
            [
             0.6666666666666666,
             "#ed7953"
            ],
            [
             0.7777777777777778,
             "#fb9f3a"
            ],
            [
             0.8888888888888888,
             "#fdca26"
            ],
            [
             1,
             "#f0f921"
            ]
           ]
          },
          "colorway": [
           "#636efa",
           "#EF553B",
           "#00cc96",
           "#ab63fa",
           "#FFA15A",
           "#19d3f3",
           "#FF6692",
           "#B6E880",
           "#FF97FF",
           "#FECB52"
          ],
          "font": {
           "color": "#2a3f5f"
          },
          "geo": {
           "bgcolor": "white",
           "lakecolor": "white",
           "landcolor": "#E5ECF6",
           "showlakes": true,
           "showland": true,
           "subunitcolor": "white"
          },
          "hoverlabel": {
           "align": "left"
          },
          "hovermode": "closest",
          "mapbox": {
           "style": "light"
          },
          "paper_bgcolor": "white",
          "plot_bgcolor": "#E5ECF6",
          "polar": {
           "angularaxis": {
            "gridcolor": "white",
            "linecolor": "white",
            "ticks": ""
           },
           "bgcolor": "#E5ECF6",
           "radialaxis": {
            "gridcolor": "white",
            "linecolor": "white",
            "ticks": ""
           }
          },
          "scene": {
           "xaxis": {
            "backgroundcolor": "#E5ECF6",
            "gridcolor": "white",
            "gridwidth": 2,
            "linecolor": "white",
            "showbackground": true,
            "ticks": "",
            "zerolinecolor": "white"
           },
           "yaxis": {
            "backgroundcolor": "#E5ECF6",
            "gridcolor": "white",
            "gridwidth": 2,
            "linecolor": "white",
            "showbackground": true,
            "ticks": "",
            "zerolinecolor": "white"
           },
           "zaxis": {
            "backgroundcolor": "#E5ECF6",
            "gridcolor": "white",
            "gridwidth": 2,
            "linecolor": "white",
            "showbackground": true,
            "ticks": "",
            "zerolinecolor": "white"
           }
          },
          "shapedefaults": {
           "line": {
            "color": "#2a3f5f"
           }
          },
          "ternary": {
           "aaxis": {
            "gridcolor": "white",
            "linecolor": "white",
            "ticks": ""
           },
           "baxis": {
            "gridcolor": "white",
            "linecolor": "white",
            "ticks": ""
           },
           "bgcolor": "#E5ECF6",
           "caxis": {
            "gridcolor": "white",
            "linecolor": "white",
            "ticks": ""
           }
          },
          "title": {
           "x": 0.05
          },
          "xaxis": {
           "automargin": true,
           "gridcolor": "white",
           "linecolor": "white",
           "ticks": "",
           "title": {
            "standoff": 15
           },
           "zerolinecolor": "white",
           "zerolinewidth": 2
          },
          "yaxis": {
           "automargin": true,
           "gridcolor": "white",
           "linecolor": "white",
           "ticks": "",
           "title": {
            "standoff": 15
           },
           "zerolinecolor": "white",
           "zerolinewidth": 2
          }
         }
        },
        "updatemenus": [
         {
          "buttons": [
           {
            "args": [
             null,
             {
              "frame": {
               "duration": 500,
               "redraw": false
              },
              "fromcurrent": true,
              "mode": "immediate",
              "transition": {
               "duration": 500,
               "easing": "linear"
              }
             }
            ],
            "label": "&#9654;",
            "method": "animate"
           },
           {
            "args": [
             [
              null
             ],
             {
              "frame": {
               "duration": 0,
               "redraw": false
              },
              "fromcurrent": true,
              "mode": "immediate",
              "transition": {
               "duration": 0,
               "easing": "linear"
              }
             }
            ],
            "label": "&#9724;",
            "method": "animate"
           }
          ],
          "direction": "left",
          "pad": {
           "r": 10,
           "t": 70
          },
          "showactive": false,
          "type": "buttons",
          "x": 0.1,
          "xanchor": "right",
          "y": 0,
          "yanchor": "top"
         }
        ],
        "width": 1579,
        "xaxis": {
         "anchor": "y",
         "domain": [
          0,
          0.07272727272727274
         ],
         "range": [
          1.5300715688373783,
          4.520678823086033
         ],
         "title": {
          "text": "Milk"
         },
         "type": "log"
        },
        "xaxis10": {
         "anchor": "y10",
         "domain": [
          0.8345454545454547,
          0.9072727272727275
         ],
         "matches": "x",
         "range": [
          1.5300715688373783,
          4.520678823086033
         ],
         "title": {
          "text": "Milk"
         },
         "type": "log"
        },
        "xaxis11": {
         "anchor": "y11",
         "domain": [
          0.9272727272727275,
          1
         ],
         "matches": "x",
         "range": [
          1.5300715688373783,
          4.520678823086033
         ],
         "title": {
          "text": "Milk"
         },
         "type": "log"
        },
        "xaxis2": {
         "anchor": "y2",
         "domain": [
          0.09272727272727274,
          0.16545454545454547
         ],
         "matches": "x",
         "range": [
          1.5300715688373783,
          4.520678823086033
         ],
         "title": {
          "text": "Milk"
         },
         "type": "log"
        },
        "xaxis3": {
         "anchor": "y3",
         "domain": [
          0.18545454545454548,
          0.25818181818181823
         ],
         "matches": "x",
         "range": [
          1.5300715688373783,
          4.520678823086033
         ],
         "title": {
          "text": "Milk"
         },
         "type": "log"
        },
        "xaxis4": {
         "anchor": "y4",
         "domain": [
          0.2781818181818182,
          0.35090909090909095
         ],
         "matches": "x",
         "range": [
          1.5300715688373783,
          4.520678823086033
         ],
         "title": {
          "text": "Milk"
         },
         "type": "log"
        },
        "xaxis5": {
         "anchor": "y5",
         "domain": [
          0.37090909090909097,
          0.4436363636363637
         ],
         "matches": "x",
         "range": [
          1.5300715688373783,
          4.520678823086033
         ],
         "title": {
          "text": "Milk"
         },
         "type": "log"
        },
        "xaxis6": {
         "anchor": "y6",
         "domain": [
          0.46363636363636374,
          0.5363636363636365
         ],
         "matches": "x",
         "range": [
          1.5300715688373783,
          4.520678823086033
         ],
         "title": {
          "text": "Milk"
         },
         "type": "log"
        },
        "xaxis7": {
         "anchor": "y7",
         "domain": [
          0.5563636363636364,
          0.6290909090909091
         ],
         "matches": "x",
         "range": [
          1.5300715688373783,
          4.520678823086033
         ],
         "title": {
          "text": "Milk"
         },
         "type": "log"
        },
        "xaxis8": {
         "anchor": "y8",
         "domain": [
          0.6490909090909092,
          0.7218181818181819
         ],
         "matches": "x",
         "range": [
          1.5300715688373783,
          4.520678823086033
         ],
         "title": {
          "text": "Milk"
         },
         "type": "log"
        },
        "xaxis9": {
         "anchor": "y9",
         "domain": [
          0.7418181818181819,
          0.8145454545454547
         ],
         "matches": "x",
         "range": [
          1.5300715688373783,
          4.520678823086033
         ],
         "title": {
          "text": "Milk"
         },
         "type": "log"
        },
        "yaxis": {
         "anchor": "x",
         "domain": [
          0,
          1
         ],
         "range": [
          5.87,
          4295.68
         ],
         "title": {
          "text": "Cows"
         }
        },
        "yaxis10": {
         "anchor": "x10",
         "domain": [
          0,
          1
         ],
         "matches": "y",
         "showticklabels": false
        },
        "yaxis11": {
         "anchor": "x11",
         "domain": [
          0,
          1
         ],
         "matches": "y",
         "showticklabels": false
        },
        "yaxis2": {
         "anchor": "x2",
         "domain": [
          0,
          1
         ],
         "matches": "y",
         "showticklabels": false
        },
        "yaxis3": {
         "anchor": "x3",
         "domain": [
          0,
          1
         ],
         "matches": "y",
         "showticklabels": false
        },
        "yaxis4": {
         "anchor": "x4",
         "domain": [
          0,
          1
         ],
         "matches": "y",
         "showticklabels": false
        },
        "yaxis5": {
         "anchor": "x5",
         "domain": [
          0,
          1
         ],
         "matches": "y",
         "showticklabels": false
        },
        "yaxis6": {
         "anchor": "x6",
         "domain": [
          0,
          1
         ],
         "matches": "y",
         "showticklabels": false
        },
        "yaxis7": {
         "anchor": "x7",
         "domain": [
          0,
          1
         ],
         "matches": "y",
         "showticklabels": false
        },
        "yaxis8": {
         "anchor": "x8",
         "domain": [
          0,
          1
         ],
         "matches": "y",
         "showticklabels": false
        },
        "yaxis9": {
         "anchor": "x9",
         "domain": [
          0,
          1
         ],
         "matches": "y",
         "showticklabels": false
        }
       }
      },
      "text/html": [
       "<div>                            <div id=\"c370132d-9c0a-41b5-8b88-7e08437657c0\" class=\"plotly-graph-div\" style=\"height:400px; width:1579px;\"></div>            <script type=\"text/javascript\">                require([\"plotly\"], function(Plotly) {                    window.PLOTLYENV=window.PLOTLYENV || {};                                    if (document.getElementById(\"c370132d-9c0a-41b5-8b88-7e08437657c0\")) {                    Plotly.newPlot(                        \"c370132d-9c0a-41b5-8b88-7e08437657c0\",                        [{\"hovertemplate\":\"<b>%{hovertext}</b><br><br>Country=Belgium<br>Year=2011<br>Milk=%{x}<br>Cows=%{y}<extra></extra>\",\"hovertext\":[\"Belgium\"],\"ids\":[2011],\"legendgroup\":\"Belgium\",\"marker\":{\"color\":\"#636efa\",\"symbol\":\"circle\"},\"mode\":\"markers\",\"name\":\"Belgium\",\"orientation\":\"v\",\"showlegend\":true,\"x\":[3151.0],\"xaxis\":\"x\",\"y\":[510.65],\"yaxis\":\"y\",\"type\":\"scatter\"},{\"hovertemplate\":\"<b>%{hovertext}</b><br><br>Country=Belgium<br>Year=2012<br>Milk=%{x}<br>Cows=%{y}<extra></extra>\",\"hovertext\":[\"Belgium\"],\"ids\":[2012],\"legendgroup\":\"Belgium\",\"marker\":{\"color\":\"#636efa\",\"symbol\":\"circle\"},\"mode\":\"markers\",\"name\":\"Belgium\",\"orientation\":\"v\",\"showlegend\":false,\"x\":[3116.0],\"xaxis\":\"x2\",\"y\":[503.54],\"yaxis\":\"y2\",\"type\":\"scatter\"},{\"hovertemplate\":\"<b>%{hovertext}</b><br><br>Country=Belgium<br>Year=2013<br>Milk=%{x}<br>Cows=%{y}<extra></extra>\",\"hovertext\":[\"Belgium\"],\"ids\":[2013],\"legendgroup\":\"Belgium\",\"marker\":{\"color\":\"#636efa\",\"symbol\":\"circle\"},\"mode\":\"markers\",\"name\":\"Belgium\",\"orientation\":\"v\",\"showlegend\":false,\"x\":[3529.0],\"xaxis\":\"x3\",\"y\":[515.99],\"yaxis\":\"y3\",\"type\":\"scatter\"},{\"hovertemplate\":\"<b>%{hovertext}</b><br><br>Country=Belgium<br>Year=2014<br>Milk=%{x}<br>Cows=%{y}<extra></extra>\",\"hovertext\":[\"Belgium\"],\"ids\":[2014],\"legendgroup\":\"Belgium\",\"marker\":{\"color\":\"#636efa\",\"symbol\":\"circle\"},\"mode\":\"markers\",\"name\":\"Belgium\",\"orientation\":\"v\",\"showlegend\":false,\"x\":[3710.0],\"xaxis\":\"x4\",\"y\":[519.09],\"yaxis\":\"y4\",\"type\":\"scatter\"},{\"hovertemplate\":\"<b>%{hovertext}</b><br><br>Country=Belgium<br>Year=2015<br>Milk=%{x}<br>Cows=%{y}<extra></extra>\",\"hovertext\":[\"Belgium\"],\"ids\":[2015],\"legendgroup\":\"Belgium\",\"marker\":{\"color\":\"#636efa\",\"symbol\":\"circle\"},\"mode\":\"markers\",\"name\":\"Belgium\",\"orientation\":\"v\",\"showlegend\":false,\"x\":[3826.0],\"xaxis\":\"x5\",\"y\":[528.78],\"yaxis\":\"y5\",\"type\":\"scatter\"},{\"hovertemplate\":\"<b>%{hovertext}</b><br><br>Country=Belgium<br>Year=2016<br>Milk=%{x}<br>Cows=%{y}<extra></extra>\",\"hovertext\":[\"Belgium\"],\"ids\":[2016],\"legendgroup\":\"Belgium\",\"marker\":{\"color\":\"#636efa\",\"symbol\":\"circle\"},\"mode\":\"markers\",\"name\":\"Belgium\",\"orientation\":\"v\",\"showlegend\":false,\"x\":[3933.0],\"xaxis\":\"x6\",\"y\":[530.59],\"yaxis\":\"y6\",\"type\":\"scatter\"},{\"hovertemplate\":\"<b>%{hovertext}</b><br><br>Country=Belgium<br>Year=2017<br>Milk=%{x}<br>Cows=%{y}<extra></extra>\",\"hovertext\":[\"Belgium\"],\"ids\":[2017],\"legendgroup\":\"Belgium\",\"marker\":{\"color\":\"#636efa\",\"symbol\":\"circle\"},\"mode\":\"markers\",\"name\":\"Belgium\",\"orientation\":\"v\",\"showlegend\":false,\"x\":[4060.0],\"xaxis\":\"x7\",\"y\":[519.16],\"yaxis\":\"y7\",\"type\":\"scatter\"},{\"hovertemplate\":\"<b>%{hovertext}</b><br><br>Country=Belgium<br>Year=2018<br>Milk=%{x}<br>Cows=%{y}<extra></extra>\",\"hovertext\":[\"Belgium\"],\"ids\":[2018],\"legendgroup\":\"Belgium\",\"marker\":{\"color\":\"#636efa\",\"symbol\":\"circle\"},\"mode\":\"markers\",\"name\":\"Belgium\",\"orientation\":\"v\",\"showlegend\":false,\"x\":[4195.0],\"xaxis\":\"x8\",\"y\":[529.25],\"yaxis\":\"y8\",\"type\":\"scatter\"},{\"hovertemplate\":\"<b>%{hovertext}</b><br><br>Country=Belgium<br>Year=2019<br>Milk=%{x}<br>Cows=%{y}<extra></extra>\",\"hovertext\":[\"Belgium\"],\"ids\":[2019],\"legendgroup\":\"Belgium\",\"marker\":{\"color\":\"#636efa\",\"symbol\":\"circle\"},\"mode\":\"markers\",\"name\":\"Belgium\",\"orientation\":\"v\",\"showlegend\":false,\"x\":[4293.0],\"xaxis\":\"x9\",\"y\":[537.96],\"yaxis\":\"y9\",\"type\":\"scatter\"},{\"hovertemplate\":\"<b>%{hovertext}</b><br><br>Country=Belgium<br>Year=2020<br>Milk=%{x}<br>Cows=%{y}<extra></extra>\",\"hovertext\":[\"Belgium\"],\"ids\":[2020],\"legendgroup\":\"Belgium\",\"marker\":{\"color\":\"#636efa\",\"symbol\":\"circle\"},\"mode\":\"markers\",\"name\":\"Belgium\",\"orientation\":\"v\",\"showlegend\":false,\"x\":[4449.0],\"xaxis\":\"x10\",\"y\":[537.94],\"yaxis\":\"y10\",\"type\":\"scatter\"},{\"hovertemplate\":\"<b>%{hovertext}</b><br><br>Country=Belgium<br>Year=2021<br>Milk=%{x}<br>Cows=%{y}<extra></extra>\",\"hovertext\":[\"Belgium\"],\"ids\":[2021],\"legendgroup\":\"Belgium\",\"marker\":{\"color\":\"#636efa\",\"symbol\":\"circle\"},\"mode\":\"markers\",\"name\":\"Belgium\",\"orientation\":\"v\",\"showlegend\":false,\"x\":[4434.0],\"xaxis\":\"x11\",\"y\":[537.25],\"yaxis\":\"y11\",\"type\":\"scatter\"}],                        {\"template\":{\"data\":{\"bar\":[{\"error_x\":{\"color\":\"#2a3f5f\"},\"error_y\":{\"color\":\"#2a3f5f\"},\"marker\":{\"line\":{\"color\":\"#E5ECF6\",\"width\":0.5},\"pattern\":{\"fillmode\":\"overlay\",\"size\":10,\"solidity\":0.2}},\"type\":\"bar\"}],\"barpolar\":[{\"marker\":{\"line\":{\"color\":\"#E5ECF6\",\"width\":0.5},\"pattern\":{\"fillmode\":\"overlay\",\"size\":10,\"solidity\":0.2}},\"type\":\"barpolar\"}],\"carpet\":[{\"aaxis\":{\"endlinecolor\":\"#2a3f5f\",\"gridcolor\":\"white\",\"linecolor\":\"white\",\"minorgridcolor\":\"white\",\"startlinecolor\":\"#2a3f5f\"},\"baxis\":{\"endlinecolor\":\"#2a3f5f\",\"gridcolor\":\"white\",\"linecolor\":\"white\",\"minorgridcolor\":\"white\",\"startlinecolor\":\"#2a3f5f\"},\"type\":\"carpet\"}],\"choropleth\":[{\"colorbar\":{\"outlinewidth\":0,\"ticks\":\"\"},\"type\":\"choropleth\"}],\"contour\":[{\"colorbar\":{\"outlinewidth\":0,\"ticks\":\"\"},\"colorscale\":[[0.0,\"#0d0887\"],[0.1111111111111111,\"#46039f\"],[0.2222222222222222,\"#7201a8\"],[0.3333333333333333,\"#9c179e\"],[0.4444444444444444,\"#bd3786\"],[0.5555555555555556,\"#d8576b\"],[0.6666666666666666,\"#ed7953\"],[0.7777777777777778,\"#fb9f3a\"],[0.8888888888888888,\"#fdca26\"],[1.0,\"#f0f921\"]],\"type\":\"contour\"}],\"contourcarpet\":[{\"colorbar\":{\"outlinewidth\":0,\"ticks\":\"\"},\"type\":\"contourcarpet\"}],\"heatmap\":[{\"colorbar\":{\"outlinewidth\":0,\"ticks\":\"\"},\"colorscale\":[[0.0,\"#0d0887\"],[0.1111111111111111,\"#46039f\"],[0.2222222222222222,\"#7201a8\"],[0.3333333333333333,\"#9c179e\"],[0.4444444444444444,\"#bd3786\"],[0.5555555555555556,\"#d8576b\"],[0.6666666666666666,\"#ed7953\"],[0.7777777777777778,\"#fb9f3a\"],[0.8888888888888888,\"#fdca26\"],[1.0,\"#f0f921\"]],\"type\":\"heatmap\"}],\"heatmapgl\":[{\"colorbar\":{\"outlinewidth\":0,\"ticks\":\"\"},\"colorscale\":[[0.0,\"#0d0887\"],[0.1111111111111111,\"#46039f\"],[0.2222222222222222,\"#7201a8\"],[0.3333333333333333,\"#9c179e\"],[0.4444444444444444,\"#bd3786\"],[0.5555555555555556,\"#d8576b\"],[0.6666666666666666,\"#ed7953\"],[0.7777777777777778,\"#fb9f3a\"],[0.8888888888888888,\"#fdca26\"],[1.0,\"#f0f921\"]],\"type\":\"heatmapgl\"}],\"histogram\":[{\"marker\":{\"pattern\":{\"fillmode\":\"overlay\",\"size\":10,\"solidity\":0.2}},\"type\":\"histogram\"}],\"histogram2d\":[{\"colorbar\":{\"outlinewidth\":0,\"ticks\":\"\"},\"colorscale\":[[0.0,\"#0d0887\"],[0.1111111111111111,\"#46039f\"],[0.2222222222222222,\"#7201a8\"],[0.3333333333333333,\"#9c179e\"],[0.4444444444444444,\"#bd3786\"],[0.5555555555555556,\"#d8576b\"],[0.6666666666666666,\"#ed7953\"],[0.7777777777777778,\"#fb9f3a\"],[0.8888888888888888,\"#fdca26\"],[1.0,\"#f0f921\"]],\"type\":\"histogram2d\"}],\"histogram2dcontour\":[{\"colorbar\":{\"outlinewidth\":0,\"ticks\":\"\"},\"colorscale\":[[0.0,\"#0d0887\"],[0.1111111111111111,\"#46039f\"],[0.2222222222222222,\"#7201a8\"],[0.3333333333333333,\"#9c179e\"],[0.4444444444444444,\"#bd3786\"],[0.5555555555555556,\"#d8576b\"],[0.6666666666666666,\"#ed7953\"],[0.7777777777777778,\"#fb9f3a\"],[0.8888888888888888,\"#fdca26\"],[1.0,\"#f0f921\"]],\"type\":\"histogram2dcontour\"}],\"mesh3d\":[{\"colorbar\":{\"outlinewidth\":0,\"ticks\":\"\"},\"type\":\"mesh3d\"}],\"parcoords\":[{\"line\":{\"colorbar\":{\"outlinewidth\":0,\"ticks\":\"\"}},\"type\":\"parcoords\"}],\"pie\":[{\"automargin\":true,\"type\":\"pie\"}],\"scatter\":[{\"marker\":{\"colorbar\":{\"outlinewidth\":0,\"ticks\":\"\"}},\"type\":\"scatter\"}],\"scatter3d\":[{\"line\":{\"colorbar\":{\"outlinewidth\":0,\"ticks\":\"\"}},\"marker\":{\"colorbar\":{\"outlinewidth\":0,\"ticks\":\"\"}},\"type\":\"scatter3d\"}],\"scattercarpet\":[{\"marker\":{\"colorbar\":{\"outlinewidth\":0,\"ticks\":\"\"}},\"type\":\"scattercarpet\"}],\"scattergeo\":[{\"marker\":{\"colorbar\":{\"outlinewidth\":0,\"ticks\":\"\"}},\"type\":\"scattergeo\"}],\"scattergl\":[{\"marker\":{\"colorbar\":{\"outlinewidth\":0,\"ticks\":\"\"}},\"type\":\"scattergl\"}],\"scattermapbox\":[{\"marker\":{\"colorbar\":{\"outlinewidth\":0,\"ticks\":\"\"}},\"type\":\"scattermapbox\"}],\"scatterpolar\":[{\"marker\":{\"colorbar\":{\"outlinewidth\":0,\"ticks\":\"\"}},\"type\":\"scatterpolar\"}],\"scatterpolargl\":[{\"marker\":{\"colorbar\":{\"outlinewidth\":0,\"ticks\":\"\"}},\"type\":\"scatterpolargl\"}],\"scatterternary\":[{\"marker\":{\"colorbar\":{\"outlinewidth\":0,\"ticks\":\"\"}},\"type\":\"scatterternary\"}],\"surface\":[{\"colorbar\":{\"outlinewidth\":0,\"ticks\":\"\"},\"colorscale\":[[0.0,\"#0d0887\"],[0.1111111111111111,\"#46039f\"],[0.2222222222222222,\"#7201a8\"],[0.3333333333333333,\"#9c179e\"],[0.4444444444444444,\"#bd3786\"],[0.5555555555555556,\"#d8576b\"],[0.6666666666666666,\"#ed7953\"],[0.7777777777777778,\"#fb9f3a\"],[0.8888888888888888,\"#fdca26\"],[1.0,\"#f0f921\"]],\"type\":\"surface\"}],\"table\":[{\"cells\":{\"fill\":{\"color\":\"#EBF0F8\"},\"line\":{\"color\":\"white\"}},\"header\":{\"fill\":{\"color\":\"#C8D4E3\"},\"line\":{\"color\":\"white\"}},\"type\":\"table\"}]},\"layout\":{\"annotationdefaults\":{\"arrowcolor\":\"#2a3f5f\",\"arrowhead\":0,\"arrowwidth\":1},\"autotypenumbers\":\"strict\",\"coloraxis\":{\"colorbar\":{\"outlinewidth\":0,\"ticks\":\"\"}},\"colorscale\":{\"diverging\":[[0,\"#8e0152\"],[0.1,\"#c51b7d\"],[0.2,\"#de77ae\"],[0.3,\"#f1b6da\"],[0.4,\"#fde0ef\"],[0.5,\"#f7f7f7\"],[0.6,\"#e6f5d0\"],[0.7,\"#b8e186\"],[0.8,\"#7fbc41\"],[0.9,\"#4d9221\"],[1,\"#276419\"]],\"sequential\":[[0.0,\"#0d0887\"],[0.1111111111111111,\"#46039f\"],[0.2222222222222222,\"#7201a8\"],[0.3333333333333333,\"#9c179e\"],[0.4444444444444444,\"#bd3786\"],[0.5555555555555556,\"#d8576b\"],[0.6666666666666666,\"#ed7953\"],[0.7777777777777778,\"#fb9f3a\"],[0.8888888888888888,\"#fdca26\"],[1.0,\"#f0f921\"]],\"sequentialminus\":[[0.0,\"#0d0887\"],[0.1111111111111111,\"#46039f\"],[0.2222222222222222,\"#7201a8\"],[0.3333333333333333,\"#9c179e\"],[0.4444444444444444,\"#bd3786\"],[0.5555555555555556,\"#d8576b\"],[0.6666666666666666,\"#ed7953\"],[0.7777777777777778,\"#fb9f3a\"],[0.8888888888888888,\"#fdca26\"],[1.0,\"#f0f921\"]]},\"colorway\":[\"#636efa\",\"#EF553B\",\"#00cc96\",\"#ab63fa\",\"#FFA15A\",\"#19d3f3\",\"#FF6692\",\"#B6E880\",\"#FF97FF\",\"#FECB52\"],\"font\":{\"color\":\"#2a3f5f\"},\"geo\":{\"bgcolor\":\"white\",\"lakecolor\":\"white\",\"landcolor\":\"#E5ECF6\",\"showlakes\":true,\"showland\":true,\"subunitcolor\":\"white\"},\"hoverlabel\":{\"align\":\"left\"},\"hovermode\":\"closest\",\"mapbox\":{\"style\":\"light\"},\"paper_bgcolor\":\"white\",\"plot_bgcolor\":\"#E5ECF6\",\"polar\":{\"angularaxis\":{\"gridcolor\":\"white\",\"linecolor\":\"white\",\"ticks\":\"\"},\"bgcolor\":\"#E5ECF6\",\"radialaxis\":{\"gridcolor\":\"white\",\"linecolor\":\"white\",\"ticks\":\"\"}},\"scene\":{\"xaxis\":{\"backgroundcolor\":\"#E5ECF6\",\"gridcolor\":\"white\",\"gridwidth\":2,\"linecolor\":\"white\",\"showbackground\":true,\"ticks\":\"\",\"zerolinecolor\":\"white\"},\"yaxis\":{\"backgroundcolor\":\"#E5ECF6\",\"gridcolor\":\"white\",\"gridwidth\":2,\"linecolor\":\"white\",\"showbackground\":true,\"ticks\":\"\",\"zerolinecolor\":\"white\"},\"zaxis\":{\"backgroundcolor\":\"#E5ECF6\",\"gridcolor\":\"white\",\"gridwidth\":2,\"linecolor\":\"white\",\"showbackground\":true,\"ticks\":\"\",\"zerolinecolor\":\"white\"}},\"shapedefaults\":{\"line\":{\"color\":\"#2a3f5f\"}},\"ternary\":{\"aaxis\":{\"gridcolor\":\"white\",\"linecolor\":\"white\",\"ticks\":\"\"},\"baxis\":{\"gridcolor\":\"white\",\"linecolor\":\"white\",\"ticks\":\"\"},\"bgcolor\":\"#E5ECF6\",\"caxis\":{\"gridcolor\":\"white\",\"linecolor\":\"white\",\"ticks\":\"\"}},\"title\":{\"x\":0.05},\"xaxis\":{\"automargin\":true,\"gridcolor\":\"white\",\"linecolor\":\"white\",\"ticks\":\"\",\"title\":{\"standoff\":15},\"zerolinecolor\":\"white\",\"zerolinewidth\":2},\"yaxis\":{\"automargin\":true,\"gridcolor\":\"white\",\"linecolor\":\"white\",\"ticks\":\"\",\"title\":{\"standoff\":15},\"zerolinecolor\":\"white\",\"zerolinewidth\":2}}},\"xaxis\":{\"anchor\":\"y\",\"domain\":[0.0,0.07272727272727274],\"title\":{\"text\":\"Milk\"},\"type\":\"log\",\"range\":[1.5300715688373783,4.520678823086033]},\"yaxis\":{\"anchor\":\"x\",\"domain\":[0.0,1.0],\"title\":{\"text\":\"Cows\"},\"range\":[5.87,4295.68]},\"xaxis2\":{\"anchor\":\"y2\",\"domain\":[0.09272727272727274,0.16545454545454547],\"matches\":\"x\",\"title\":{\"text\":\"Milk\"},\"type\":\"log\",\"range\":[1.5300715688373783,4.520678823086033]},\"yaxis2\":{\"anchor\":\"x2\",\"domain\":[0.0,1.0],\"matches\":\"y\",\"showticklabels\":false},\"xaxis3\":{\"anchor\":\"y3\",\"domain\":[0.18545454545454548,0.25818181818181823],\"matches\":\"x\",\"title\":{\"text\":\"Milk\"},\"type\":\"log\",\"range\":[1.5300715688373783,4.520678823086033]},\"yaxis3\":{\"anchor\":\"x3\",\"domain\":[0.0,1.0],\"matches\":\"y\",\"showticklabels\":false},\"xaxis4\":{\"anchor\":\"y4\",\"domain\":[0.2781818181818182,0.35090909090909095],\"matches\":\"x\",\"title\":{\"text\":\"Milk\"},\"type\":\"log\",\"range\":[1.5300715688373783,4.520678823086033]},\"yaxis4\":{\"anchor\":\"x4\",\"domain\":[0.0,1.0],\"matches\":\"y\",\"showticklabels\":false},\"xaxis5\":{\"anchor\":\"y5\",\"domain\":[0.37090909090909097,0.4436363636363637],\"matches\":\"x\",\"title\":{\"text\":\"Milk\"},\"type\":\"log\",\"range\":[1.5300715688373783,4.520678823086033]},\"yaxis5\":{\"anchor\":\"x5\",\"domain\":[0.0,1.0],\"matches\":\"y\",\"showticklabels\":false},\"xaxis6\":{\"anchor\":\"y6\",\"domain\":[0.46363636363636374,0.5363636363636365],\"matches\":\"x\",\"title\":{\"text\":\"Milk\"},\"type\":\"log\",\"range\":[1.5300715688373783,4.520678823086033]},\"yaxis6\":{\"anchor\":\"x6\",\"domain\":[0.0,1.0],\"matches\":\"y\",\"showticklabels\":false},\"xaxis7\":{\"anchor\":\"y7\",\"domain\":[0.5563636363636364,0.6290909090909091],\"matches\":\"x\",\"title\":{\"text\":\"Milk\"},\"type\":\"log\",\"range\":[1.5300715688373783,4.520678823086033]},\"yaxis7\":{\"anchor\":\"x7\",\"domain\":[0.0,1.0],\"matches\":\"y\",\"showticklabels\":false},\"xaxis8\":{\"anchor\":\"y8\",\"domain\":[0.6490909090909092,0.7218181818181819],\"matches\":\"x\",\"title\":{\"text\":\"Milk\"},\"type\":\"log\",\"range\":[1.5300715688373783,4.520678823086033]},\"yaxis8\":{\"anchor\":\"x8\",\"domain\":[0.0,1.0],\"matches\":\"y\",\"showticklabels\":false},\"xaxis9\":{\"anchor\":\"y9\",\"domain\":[0.7418181818181819,0.8145454545454547],\"matches\":\"x\",\"title\":{\"text\":\"Milk\"},\"type\":\"log\",\"range\":[1.5300715688373783,4.520678823086033]},\"yaxis9\":{\"anchor\":\"x9\",\"domain\":[0.0,1.0],\"matches\":\"y\",\"showticklabels\":false},\"xaxis10\":{\"anchor\":\"y10\",\"domain\":[0.8345454545454547,0.9072727272727275],\"matches\":\"x\",\"title\":{\"text\":\"Milk\"},\"type\":\"log\",\"range\":[1.5300715688373783,4.520678823086033]},\"yaxis10\":{\"anchor\":\"x10\",\"domain\":[0.0,1.0],\"matches\":\"y\",\"showticklabels\":false},\"xaxis11\":{\"anchor\":\"y11\",\"domain\":[0.9272727272727275,1.0],\"matches\":\"x\",\"title\":{\"text\":\"Milk\"},\"type\":\"log\",\"range\":[1.5300715688373783,4.520678823086033]},\"yaxis11\":{\"anchor\":\"x11\",\"domain\":[0.0,1.0],\"matches\":\"y\",\"showticklabels\":false},\"annotations\":[{\"font\":{},\"showarrow\":false,\"text\":\"Year=2011\",\"x\":0.03636363636363637,\"xanchor\":\"center\",\"xref\":\"paper\",\"y\":1.0,\"yanchor\":\"bottom\",\"yref\":\"paper\"},{\"font\":{},\"showarrow\":false,\"text\":\"Year=2012\",\"x\":0.1290909090909091,\"xanchor\":\"center\",\"xref\":\"paper\",\"y\":1.0,\"yanchor\":\"bottom\",\"yref\":\"paper\"},{\"font\":{},\"showarrow\":false,\"text\":\"Year=2013\",\"x\":0.22181818181818186,\"xanchor\":\"center\",\"xref\":\"paper\",\"y\":1.0,\"yanchor\":\"bottom\",\"yref\":\"paper\"},{\"font\":{},\"showarrow\":false,\"text\":\"Year=2014\",\"x\":0.3145454545454546,\"xanchor\":\"center\",\"xref\":\"paper\",\"y\":1.0,\"yanchor\":\"bottom\",\"yref\":\"paper\"},{\"font\":{},\"showarrow\":false,\"text\":\"Year=2015\",\"x\":0.40727272727272734,\"xanchor\":\"center\",\"xref\":\"paper\",\"y\":1.0,\"yanchor\":\"bottom\",\"yref\":\"paper\"},{\"font\":{},\"showarrow\":false,\"text\":\"Year=2016\",\"x\":0.5000000000000001,\"xanchor\":\"center\",\"xref\":\"paper\",\"y\":1.0,\"yanchor\":\"bottom\",\"yref\":\"paper\"},{\"font\":{},\"showarrow\":false,\"text\":\"Year=2017\",\"x\":0.5927272727272728,\"xanchor\":\"center\",\"xref\":\"paper\",\"y\":1.0,\"yanchor\":\"bottom\",\"yref\":\"paper\"},{\"font\":{},\"showarrow\":false,\"text\":\"Year=2018\",\"x\":0.6854545454545455,\"xanchor\":\"center\",\"xref\":\"paper\",\"y\":1.0,\"yanchor\":\"bottom\",\"yref\":\"paper\"},{\"font\":{},\"showarrow\":false,\"text\":\"Year=2019\",\"x\":0.7781818181818183,\"xanchor\":\"center\",\"xref\":\"paper\",\"y\":1.0,\"yanchor\":\"bottom\",\"yref\":\"paper\"},{\"font\":{},\"showarrow\":false,\"text\":\"Year=2020\",\"x\":0.8709090909090911,\"xanchor\":\"center\",\"xref\":\"paper\",\"y\":1.0,\"yanchor\":\"bottom\",\"yref\":\"paper\"},{\"font\":{},\"showarrow\":false,\"text\":\"Year=2021\",\"x\":0.9636363636363638,\"xanchor\":\"center\",\"xref\":\"paper\",\"y\":1.0,\"yanchor\":\"bottom\",\"yref\":\"paper\"}],\"legend\":{\"title\":{\"text\":\"Country\"},\"tracegroupgap\":0},\"margin\":{\"t\":60},\"height\":400,\"width\":1579,\"updatemenus\":[{\"buttons\":[{\"args\":[null,{\"frame\":{\"duration\":500,\"redraw\":false},\"mode\":\"immediate\",\"fromcurrent\":true,\"transition\":{\"duration\":500,\"easing\":\"linear\"}}],\"label\":\"&#9654;\",\"method\":\"animate\"},{\"args\":[[null],{\"frame\":{\"duration\":0,\"redraw\":false},\"mode\":\"immediate\",\"fromcurrent\":true,\"transition\":{\"duration\":0,\"easing\":\"linear\"}}],\"label\":\"&#9724;\",\"method\":\"animate\"}],\"direction\":\"left\",\"pad\":{\"r\":10,\"t\":70},\"showactive\":false,\"type\":\"buttons\",\"x\":0.1,\"xanchor\":\"right\",\"y\":0,\"yanchor\":\"top\"}],\"sliders\":[{\"active\":0,\"currentvalue\":{\"prefix\":\"Country=\"},\"len\":0.9,\"pad\":{\"b\":10,\"t\":60},\"steps\":[{\"args\":[[\"Belgium\"],{\"frame\":{\"duration\":0,\"redraw\":false},\"mode\":\"immediate\",\"fromcurrent\":true,\"transition\":{\"duration\":0,\"easing\":\"linear\"}}],\"label\":\"Belgium\",\"method\":\"animate\"},{\"args\":[[\"Bulgaria\"],{\"frame\":{\"duration\":0,\"redraw\":false},\"mode\":\"immediate\",\"fromcurrent\":true,\"transition\":{\"duration\":0,\"easing\":\"linear\"}}],\"label\":\"Bulgaria\",\"method\":\"animate\"},{\"args\":[[\"Czechia\"],{\"frame\":{\"duration\":0,\"redraw\":false},\"mode\":\"immediate\",\"fromcurrent\":true,\"transition\":{\"duration\":0,\"easing\":\"linear\"}}],\"label\":\"Czechia\",\"method\":\"animate\"},{\"args\":[[\"Denmark\"],{\"frame\":{\"duration\":0,\"redraw\":false},\"mode\":\"immediate\",\"fromcurrent\":true,\"transition\":{\"duration\":0,\"easing\":\"linear\"}}],\"label\":\"Denmark\",\"method\":\"animate\"},{\"args\":[[\"Germany\"],{\"frame\":{\"duration\":0,\"redraw\":false},\"mode\":\"immediate\",\"fromcurrent\":true,\"transition\":{\"duration\":0,\"easing\":\"linear\"}}],\"label\":\"Germany\",\"method\":\"animate\"},{\"args\":[[\"Estonia\"],{\"frame\":{\"duration\":0,\"redraw\":false},\"mode\":\"immediate\",\"fromcurrent\":true,\"transition\":{\"duration\":0,\"easing\":\"linear\"}}],\"label\":\"Estonia\",\"method\":\"animate\"},{\"args\":[[\"Ireland\"],{\"frame\":{\"duration\":0,\"redraw\":false},\"mode\":\"immediate\",\"fromcurrent\":true,\"transition\":{\"duration\":0,\"easing\":\"linear\"}}],\"label\":\"Ireland\",\"method\":\"animate\"},{\"args\":[[\"Greece\"],{\"frame\":{\"duration\":0,\"redraw\":false},\"mode\":\"immediate\",\"fromcurrent\":true,\"transition\":{\"duration\":0,\"easing\":\"linear\"}}],\"label\":\"Greece\",\"method\":\"animate\"},{\"args\":[[\"Spain\"],{\"frame\":{\"duration\":0,\"redraw\":false},\"mode\":\"immediate\",\"fromcurrent\":true,\"transition\":{\"duration\":0,\"easing\":\"linear\"}}],\"label\":\"Spain\",\"method\":\"animate\"},{\"args\":[[\"France\"],{\"frame\":{\"duration\":0,\"redraw\":false},\"mode\":\"immediate\",\"fromcurrent\":true,\"transition\":{\"duration\":0,\"easing\":\"linear\"}}],\"label\":\"France\",\"method\":\"animate\"},{\"args\":[[\"Croatia\"],{\"frame\":{\"duration\":0,\"redraw\":false},\"mode\":\"immediate\",\"fromcurrent\":true,\"transition\":{\"duration\":0,\"easing\":\"linear\"}}],\"label\":\"Croatia\",\"method\":\"animate\"},{\"args\":[[\"Italy\"],{\"frame\":{\"duration\":0,\"redraw\":false},\"mode\":\"immediate\",\"fromcurrent\":true,\"transition\":{\"duration\":0,\"easing\":\"linear\"}}],\"label\":\"Italy\",\"method\":\"animate\"},{\"args\":[[\"Cyprus\"],{\"frame\":{\"duration\":0,\"redraw\":false},\"mode\":\"immediate\",\"fromcurrent\":true,\"transition\":{\"duration\":0,\"easing\":\"linear\"}}],\"label\":\"Cyprus\",\"method\":\"animate\"},{\"args\":[[\"Latvia\"],{\"frame\":{\"duration\":0,\"redraw\":false},\"mode\":\"immediate\",\"fromcurrent\":true,\"transition\":{\"duration\":0,\"easing\":\"linear\"}}],\"label\":\"Latvia\",\"method\":\"animate\"},{\"args\":[[\"Lithuania\"],{\"frame\":{\"duration\":0,\"redraw\":false},\"mode\":\"immediate\",\"fromcurrent\":true,\"transition\":{\"duration\":0,\"easing\":\"linear\"}}],\"label\":\"Lithuania\",\"method\":\"animate\"},{\"args\":[[\"Luxembourg\"],{\"frame\":{\"duration\":0,\"redraw\":false},\"mode\":\"immediate\",\"fromcurrent\":true,\"transition\":{\"duration\":0,\"easing\":\"linear\"}}],\"label\":\"Luxembourg\",\"method\":\"animate\"},{\"args\":[[\"Hungary\"],{\"frame\":{\"duration\":0,\"redraw\":false},\"mode\":\"immediate\",\"fromcurrent\":true,\"transition\":{\"duration\":0,\"easing\":\"linear\"}}],\"label\":\"Hungary\",\"method\":\"animate\"},{\"args\":[[\"Malta\"],{\"frame\":{\"duration\":0,\"redraw\":false},\"mode\":\"immediate\",\"fromcurrent\":true,\"transition\":{\"duration\":0,\"easing\":\"linear\"}}],\"label\":\"Malta\",\"method\":\"animate\"},{\"args\":[[\"Netherlands\"],{\"frame\":{\"duration\":0,\"redraw\":false},\"mode\":\"immediate\",\"fromcurrent\":true,\"transition\":{\"duration\":0,\"easing\":\"linear\"}}],\"label\":\"Netherlands\",\"method\":\"animate\"},{\"args\":[[\"Austria\"],{\"frame\":{\"duration\":0,\"redraw\":false},\"mode\":\"immediate\",\"fromcurrent\":true,\"transition\":{\"duration\":0,\"easing\":\"linear\"}}],\"label\":\"Austria\",\"method\":\"animate\"},{\"args\":[[\"Poland\"],{\"frame\":{\"duration\":0,\"redraw\":false},\"mode\":\"immediate\",\"fromcurrent\":true,\"transition\":{\"duration\":0,\"easing\":\"linear\"}}],\"label\":\"Poland\",\"method\":\"animate\"},{\"args\":[[\"Portugal\"],{\"frame\":{\"duration\":0,\"redraw\":false},\"mode\":\"immediate\",\"fromcurrent\":true,\"transition\":{\"duration\":0,\"easing\":\"linear\"}}],\"label\":\"Portugal\",\"method\":\"animate\"},{\"args\":[[\"Romania\"],{\"frame\":{\"duration\":0,\"redraw\":false},\"mode\":\"immediate\",\"fromcurrent\":true,\"transition\":{\"duration\":0,\"easing\":\"linear\"}}],\"label\":\"Romania\",\"method\":\"animate\"},{\"args\":[[\"Slovenia\"],{\"frame\":{\"duration\":0,\"redraw\":false},\"mode\":\"immediate\",\"fromcurrent\":true,\"transition\":{\"duration\":0,\"easing\":\"linear\"}}],\"label\":\"Slovenia\",\"method\":\"animate\"},{\"args\":[[\"Slovakia\"],{\"frame\":{\"duration\":0,\"redraw\":false},\"mode\":\"immediate\",\"fromcurrent\":true,\"transition\":{\"duration\":0,\"easing\":\"linear\"}}],\"label\":\"Slovakia\",\"method\":\"animate\"},{\"args\":[[\"Finland\"],{\"frame\":{\"duration\":0,\"redraw\":false},\"mode\":\"immediate\",\"fromcurrent\":true,\"transition\":{\"duration\":0,\"easing\":\"linear\"}}],\"label\":\"Finland\",\"method\":\"animate\"},{\"args\":[[\"Sweden\"],{\"frame\":{\"duration\":0,\"redraw\":false},\"mode\":\"immediate\",\"fromcurrent\":true,\"transition\":{\"duration\":0,\"easing\":\"linear\"}}],\"label\":\"Sweden\",\"method\":\"animate\"}],\"x\":0.1,\"xanchor\":\"left\",\"y\":0,\"yanchor\":\"top\"}]},                        {\"responsive\": true}                    ).then(function(){\n",
       "                            Plotly.addFrames('c370132d-9c0a-41b5-8b88-7e08437657c0', [{\"data\":[{\"hovertemplate\":\"<b>%{hovertext}</b><br><br>Country=Belgium<br>Year=2011<br>Milk=%{x}<br>Cows=%{y}<extra></extra>\",\"hovertext\":[\"Belgium\"],\"ids\":[2011],\"legendgroup\":\"Belgium\",\"marker\":{\"color\":\"#636efa\",\"symbol\":\"circle\"},\"mode\":\"markers\",\"name\":\"Belgium\",\"orientation\":\"v\",\"showlegend\":true,\"x\":[3151.0],\"xaxis\":\"x\",\"y\":[510.65],\"yaxis\":\"y\",\"type\":\"scatter\"},{\"hovertemplate\":\"<b>%{hovertext}</b><br><br>Country=Belgium<br>Year=2012<br>Milk=%{x}<br>Cows=%{y}<extra></extra>\",\"hovertext\":[\"Belgium\"],\"ids\":[2012],\"legendgroup\":\"Belgium\",\"marker\":{\"color\":\"#636efa\",\"symbol\":\"circle\"},\"mode\":\"markers\",\"name\":\"Belgium\",\"orientation\":\"v\",\"showlegend\":false,\"x\":[3116.0],\"xaxis\":\"x2\",\"y\":[503.54],\"yaxis\":\"y2\",\"type\":\"scatter\"},{\"hovertemplate\":\"<b>%{hovertext}</b><br><br>Country=Belgium<br>Year=2013<br>Milk=%{x}<br>Cows=%{y}<extra></extra>\",\"hovertext\":[\"Belgium\"],\"ids\":[2013],\"legendgroup\":\"Belgium\",\"marker\":{\"color\":\"#636efa\",\"symbol\":\"circle\"},\"mode\":\"markers\",\"name\":\"Belgium\",\"orientation\":\"v\",\"showlegend\":false,\"x\":[3529.0],\"xaxis\":\"x3\",\"y\":[515.99],\"yaxis\":\"y3\",\"type\":\"scatter\"},{\"hovertemplate\":\"<b>%{hovertext}</b><br><br>Country=Belgium<br>Year=2014<br>Milk=%{x}<br>Cows=%{y}<extra></extra>\",\"hovertext\":[\"Belgium\"],\"ids\":[2014],\"legendgroup\":\"Belgium\",\"marker\":{\"color\":\"#636efa\",\"symbol\":\"circle\"},\"mode\":\"markers\",\"name\":\"Belgium\",\"orientation\":\"v\",\"showlegend\":false,\"x\":[3710.0],\"xaxis\":\"x4\",\"y\":[519.09],\"yaxis\":\"y4\",\"type\":\"scatter\"},{\"hovertemplate\":\"<b>%{hovertext}</b><br><br>Country=Belgium<br>Year=2015<br>Milk=%{x}<br>Cows=%{y}<extra></extra>\",\"hovertext\":[\"Belgium\"],\"ids\":[2015],\"legendgroup\":\"Belgium\",\"marker\":{\"color\":\"#636efa\",\"symbol\":\"circle\"},\"mode\":\"markers\",\"name\":\"Belgium\",\"orientation\":\"v\",\"showlegend\":false,\"x\":[3826.0],\"xaxis\":\"x5\",\"y\":[528.78],\"yaxis\":\"y5\",\"type\":\"scatter\"},{\"hovertemplate\":\"<b>%{hovertext}</b><br><br>Country=Belgium<br>Year=2016<br>Milk=%{x}<br>Cows=%{y}<extra></extra>\",\"hovertext\":[\"Belgium\"],\"ids\":[2016],\"legendgroup\":\"Belgium\",\"marker\":{\"color\":\"#636efa\",\"symbol\":\"circle\"},\"mode\":\"markers\",\"name\":\"Belgium\",\"orientation\":\"v\",\"showlegend\":false,\"x\":[3933.0],\"xaxis\":\"x6\",\"y\":[530.59],\"yaxis\":\"y6\",\"type\":\"scatter\"},{\"hovertemplate\":\"<b>%{hovertext}</b><br><br>Country=Belgium<br>Year=2017<br>Milk=%{x}<br>Cows=%{y}<extra></extra>\",\"hovertext\":[\"Belgium\"],\"ids\":[2017],\"legendgroup\":\"Belgium\",\"marker\":{\"color\":\"#636efa\",\"symbol\":\"circle\"},\"mode\":\"markers\",\"name\":\"Belgium\",\"orientation\":\"v\",\"showlegend\":false,\"x\":[4060.0],\"xaxis\":\"x7\",\"y\":[519.16],\"yaxis\":\"y7\",\"type\":\"scatter\"},{\"hovertemplate\":\"<b>%{hovertext}</b><br><br>Country=Belgium<br>Year=2018<br>Milk=%{x}<br>Cows=%{y}<extra></extra>\",\"hovertext\":[\"Belgium\"],\"ids\":[2018],\"legendgroup\":\"Belgium\",\"marker\":{\"color\":\"#636efa\",\"symbol\":\"circle\"},\"mode\":\"markers\",\"name\":\"Belgium\",\"orientation\":\"v\",\"showlegend\":false,\"x\":[4195.0],\"xaxis\":\"x8\",\"y\":[529.25],\"yaxis\":\"y8\",\"type\":\"scatter\"},{\"hovertemplate\":\"<b>%{hovertext}</b><br><br>Country=Belgium<br>Year=2019<br>Milk=%{x}<br>Cows=%{y}<extra></extra>\",\"hovertext\":[\"Belgium\"],\"ids\":[2019],\"legendgroup\":\"Belgium\",\"marker\":{\"color\":\"#636efa\",\"symbol\":\"circle\"},\"mode\":\"markers\",\"name\":\"Belgium\",\"orientation\":\"v\",\"showlegend\":false,\"x\":[4293.0],\"xaxis\":\"x9\",\"y\":[537.96],\"yaxis\":\"y9\",\"type\":\"scatter\"},{\"hovertemplate\":\"<b>%{hovertext}</b><br><br>Country=Belgium<br>Year=2020<br>Milk=%{x}<br>Cows=%{y}<extra></extra>\",\"hovertext\":[\"Belgium\"],\"ids\":[2020],\"legendgroup\":\"Belgium\",\"marker\":{\"color\":\"#636efa\",\"symbol\":\"circle\"},\"mode\":\"markers\",\"name\":\"Belgium\",\"orientation\":\"v\",\"showlegend\":false,\"x\":[4449.0],\"xaxis\":\"x10\",\"y\":[537.94],\"yaxis\":\"y10\",\"type\":\"scatter\"},{\"hovertemplate\":\"<b>%{hovertext}</b><br><br>Country=Belgium<br>Year=2021<br>Milk=%{x}<br>Cows=%{y}<extra></extra>\",\"hovertext\":[\"Belgium\"],\"ids\":[2021],\"legendgroup\":\"Belgium\",\"marker\":{\"color\":\"#636efa\",\"symbol\":\"circle\"},\"mode\":\"markers\",\"name\":\"Belgium\",\"orientation\":\"v\",\"showlegend\":false,\"x\":[4434.0],\"xaxis\":\"x11\",\"y\":[537.25],\"yaxis\":\"y11\",\"type\":\"scatter\"}],\"name\":\"Belgium\"},{\"data\":[{\"hovertemplate\":\"<b>%{hovertext}</b><br><br>Country=Bulgaria<br>Year=2011<br>Milk=%{x}<br>Cows=%{y}<extra></extra>\",\"hovertext\":[\"Bulgaria\"],\"ids\":[2011],\"legendgroup\":\"Bulgaria\",\"marker\":{\"color\":\"#EF553B\",\"symbol\":\"circle\"},\"mode\":\"markers\",\"name\":\"Bulgaria\",\"orientation\":\"v\",\"showlegend\":true,\"x\":[1126.0],\"xaxis\":\"x\",\"y\":[313.18],\"yaxis\":\"y\",\"type\":\"scatter\"},{\"hovertemplate\":\"<b>%{hovertext}</b><br><br>Country=Bulgaria<br>Year=2012<br>Milk=%{x}<br>Cows=%{y}<extra></extra>\",\"hovertext\":[\"Bulgaria\"],\"ids\":[2012],\"legendgroup\":\"Bulgaria\",\"marker\":{\"color\":\"#EF553B\",\"symbol\":\"circle\"},\"mode\":\"markers\",\"name\":\"Bulgaria\",\"orientation\":\"v\",\"showlegend\":false,\"x\":[1093.0],\"xaxis\":\"x2\",\"y\":[294.49],\"yaxis\":\"y2\",\"type\":\"scatter\"},{\"hovertemplate\":\"<b>%{hovertext}</b><br><br>Country=Bulgaria<br>Year=2013<br>Milk=%{x}<br>Cows=%{y}<extra></extra>\",\"hovertext\":[\"Bulgaria\"],\"ids\":[2013],\"legendgroup\":\"Bulgaria\",\"marker\":{\"color\":\"#EF553B\",\"symbol\":\"circle\"},\"mode\":\"markers\",\"name\":\"Bulgaria\",\"orientation\":\"v\",\"showlegend\":false,\"x\":[1149.0],\"xaxis\":\"x3\",\"y\":[313.25],\"yaxis\":\"y3\",\"type\":\"scatter\"},{\"hovertemplate\":\"<b>%{hovertext}</b><br><br>Country=Bulgaria<br>Year=2014<br>Milk=%{x}<br>Cows=%{y}<extra></extra>\",\"hovertext\":[\"Bulgaria\"],\"ids\":[2014],\"legendgroup\":\"Bulgaria\",\"marker\":{\"color\":\"#EF553B\",\"symbol\":\"circle\"},\"mode\":\"markers\",\"name\":\"Bulgaria\",\"orientation\":\"v\",\"showlegend\":false,\"x\":[1103.0],\"xaxis\":\"x4\",\"y\":[301.71],\"yaxis\":\"y4\",\"type\":\"scatter\"},{\"hovertemplate\":\"<b>%{hovertext}</b><br><br>Country=Bulgaria<br>Year=2015<br>Milk=%{x}<br>Cows=%{y}<extra></extra>\",\"hovertext\":[\"Bulgaria\"],\"ids\":[2015],\"legendgroup\":\"Bulgaria\",\"marker\":{\"color\":\"#EF553B\",\"symbol\":\"circle\"},\"mode\":\"markers\",\"name\":\"Bulgaria\",\"orientation\":\"v\",\"showlegend\":false,\"x\":[1028.04],\"xaxis\":\"x5\",\"y\":[282.96],\"yaxis\":\"y5\",\"type\":\"scatter\"},{\"hovertemplate\":\"<b>%{hovertext}</b><br><br>Country=Bulgaria<br>Year=2016<br>Milk=%{x}<br>Cows=%{y}<extra></extra>\",\"hovertext\":[\"Bulgaria\"],\"ids\":[2016],\"legendgroup\":\"Bulgaria\",\"marker\":{\"color\":\"#EF553B\",\"symbol\":\"circle\"},\"mode\":\"markers\",\"name\":\"Bulgaria\",\"orientation\":\"v\",\"showlegend\":false,\"x\":[1018.58],\"xaxis\":\"x6\",\"y\":[278.92],\"yaxis\":\"y6\",\"type\":\"scatter\"},{\"hovertemplate\":\"<b>%{hovertext}</b><br><br>Country=Bulgaria<br>Year=2017<br>Milk=%{x}<br>Cows=%{y}<extra></extra>\",\"hovertext\":[\"Bulgaria\"],\"ids\":[2017],\"legendgroup\":\"Bulgaria\",\"marker\":{\"color\":\"#EF553B\",\"symbol\":\"circle\"},\"mode\":\"markers\",\"name\":\"Bulgaria\",\"orientation\":\"v\",\"showlegend\":false,\"x\":[968.18],\"xaxis\":\"x7\",\"y\":[260.78],\"yaxis\":\"y7\",\"type\":\"scatter\"},{\"hovertemplate\":\"<b>%{hovertext}</b><br><br>Country=Bulgaria<br>Year=2018<br>Milk=%{x}<br>Cows=%{y}<extra></extra>\",\"hovertext\":[\"Bulgaria\"],\"ids\":[2018],\"legendgroup\":\"Bulgaria\",\"marker\":{\"color\":\"#EF553B\",\"symbol\":\"circle\"},\"mode\":\"markers\",\"name\":\"Bulgaria\",\"orientation\":\"v\",\"showlegend\":false,\"x\":[898.77],\"xaxis\":\"x8\",\"y\":[244.36],\"yaxis\":\"y8\",\"type\":\"scatter\"},{\"hovertemplate\":\"<b>%{hovertext}</b><br><br>Country=Bulgaria<br>Year=2019<br>Milk=%{x}<br>Cows=%{y}<extra></extra>\",\"hovertext\":[\"Bulgaria\"],\"ids\":[2019],\"legendgroup\":\"Bulgaria\",\"marker\":{\"color\":\"#EF553B\",\"symbol\":\"circle\"},\"mode\":\"markers\",\"name\":\"Bulgaria\",\"orientation\":\"v\",\"showlegend\":false,\"x\":[822.3],\"xaxis\":\"x9\",\"y\":[226.69],\"yaxis\":\"y9\",\"type\":\"scatter\"},{\"hovertemplate\":\"<b>%{hovertext}</b><br><br>Country=Bulgaria<br>Year=2020<br>Milk=%{x}<br>Cows=%{y}<extra></extra>\",\"hovertext\":[\"Bulgaria\"],\"ids\":[2020],\"legendgroup\":\"Bulgaria\",\"marker\":{\"color\":\"#EF553B\",\"symbol\":\"circle\"},\"mode\":\"markers\",\"name\":\"Bulgaria\",\"orientation\":\"v\",\"showlegend\":false,\"x\":[881.76],\"xaxis\":\"x10\",\"y\":[241.94],\"yaxis\":\"y10\",\"type\":\"scatter\"},{\"hovertemplate\":\"<b>%{hovertext}</b><br><br>Country=Bulgaria<br>Year=2021<br>Milk=%{x}<br>Cows=%{y}<extra></extra>\",\"hovertext\":[\"Bulgaria\"],\"ids\":[2021],\"legendgroup\":\"Bulgaria\",\"marker\":{\"color\":\"#EF553B\",\"symbol\":\"circle\"},\"mode\":\"markers\",\"name\":\"Bulgaria\",\"orientation\":\"v\",\"showlegend\":false,\"x\":[835.78],\"xaxis\":\"x11\",\"y\":[230.34],\"yaxis\":\"y11\",\"type\":\"scatter\"}],\"name\":\"Bulgaria\"},{\"data\":[{\"hovertemplate\":\"<b>%{hovertext}</b><br><br>Country=Czechia<br>Year=2011<br>Milk=%{x}<br>Cows=%{y}<extra></extra>\",\"hovertext\":[\"Czechia\"],\"ids\":[2011],\"legendgroup\":\"Czechia\",\"marker\":{\"color\":\"#00cc96\",\"symbol\":\"circle\"},\"mode\":\"markers\",\"name\":\"Czechia\",\"orientation\":\"v\",\"showlegend\":true,\"x\":[2735.93],\"xaxis\":\"x\",\"y\":[374.07],\"yaxis\":\"y\",\"type\":\"scatter\"},{\"hovertemplate\":\"<b>%{hovertext}</b><br><br>Country=Czechia<br>Year=2012<br>Milk=%{x}<br>Cows=%{y}<extra></extra>\",\"hovertext\":[\"Czechia\"],\"ids\":[2012],\"legendgroup\":\"Czechia\",\"marker\":{\"color\":\"#00cc96\",\"symbol\":\"circle\"},\"mode\":\"markers\",\"name\":\"Czechia\",\"orientation\":\"v\",\"showlegend\":false,\"x\":[2814.68],\"xaxis\":\"x2\",\"y\":[367.07],\"yaxis\":\"y2\",\"type\":\"scatter\"},{\"hovertemplate\":\"<b>%{hovertext}</b><br><br>Country=Czechia<br>Year=2013<br>Milk=%{x}<br>Cows=%{y}<extra></extra>\",\"hovertext\":[\"Czechia\"],\"ids\":[2013],\"legendgroup\":\"Czechia\",\"marker\":{\"color\":\"#00cc96\",\"symbol\":\"circle\"},\"mode\":\"markers\",\"name\":\"Czechia\",\"orientation\":\"v\",\"showlegend\":false,\"x\":[2849.43],\"xaxis\":\"x3\",\"y\":[375.33],\"yaxis\":\"y3\",\"type\":\"scatter\"},{\"hovertemplate\":\"<b>%{hovertext}</b><br><br>Country=Czechia<br>Year=2014<br>Milk=%{x}<br>Cows=%{y}<extra></extra>\",\"hovertext\":[\"Czechia\"],\"ids\":[2014],\"legendgroup\":\"Czechia\",\"marker\":{\"color\":\"#00cc96\",\"symbol\":\"circle\"},\"mode\":\"markers\",\"name\":\"Czechia\",\"orientation\":\"v\",\"showlegend\":false,\"x\":[2933.46],\"xaxis\":\"x4\",\"y\":[372.39],\"yaxis\":\"y4\",\"type\":\"scatter\"},{\"hovertemplate\":\"<b>%{hovertext}</b><br><br>Country=Czechia<br>Year=2015<br>Milk=%{x}<br>Cows=%{y}<extra></extra>\",\"hovertext\":[\"Czechia\"],\"ids\":[2015],\"legendgroup\":\"Czechia\",\"marker\":{\"color\":\"#00cc96\",\"symbol\":\"circle\"},\"mode\":\"markers\",\"name\":\"Czechia\",\"orientation\":\"v\",\"showlegend\":false,\"x\":[3025.88],\"xaxis\":\"x5\",\"y\":[369.06],\"yaxis\":\"y5\",\"type\":\"scatter\"},{\"hovertemplate\":\"<b>%{hovertext}</b><br><br>Country=Czechia<br>Year=2016<br>Milk=%{x}<br>Cows=%{y}<extra></extra>\",\"hovertext\":[\"Czechia\"],\"ids\":[2016],\"legendgroup\":\"Czechia\",\"marker\":{\"color\":\"#00cc96\",\"symbol\":\"circle\"},\"mode\":\"markers\",\"name\":\"Czechia\",\"orientation\":\"v\",\"showlegend\":false,\"x\":[3064.73],\"xaxis\":\"x6\",\"y\":[367.31],\"yaxis\":\"y6\",\"type\":\"scatter\"},{\"hovertemplate\":\"<b>%{hovertext}</b><br><br>Country=Czechia<br>Year=2017<br>Milk=%{x}<br>Cows=%{y}<extra></extra>\",\"hovertext\":[\"Czechia\"],\"ids\":[2017],\"legendgroup\":\"Czechia\",\"marker\":{\"color\":\"#00cc96\",\"symbol\":\"circle\"},\"mode\":\"markers\",\"name\":\"Czechia\",\"orientation\":\"v\",\"showlegend\":false,\"x\":[3079.21],\"xaxis\":\"x7\",\"y\":[365.46],\"yaxis\":\"y7\",\"type\":\"scatter\"},{\"hovertemplate\":\"<b>%{hovertext}</b><br><br>Country=Czechia<br>Year=2018<br>Milk=%{x}<br>Cows=%{y}<extra></extra>\",\"hovertext\":[\"Czechia\"],\"ids\":[2018],\"legendgroup\":\"Czechia\",\"marker\":{\"color\":\"#00cc96\",\"symbol\":\"circle\"},\"mode\":\"markers\",\"name\":\"Czechia\",\"orientation\":\"v\",\"showlegend\":false,\"x\":[3161.51],\"xaxis\":\"x8\",\"y\":[358.6],\"yaxis\":\"y8\",\"type\":\"scatter\"},{\"hovertemplate\":\"<b>%{hovertext}</b><br><br>Country=Czechia<br>Year=2019<br>Milk=%{x}<br>Cows=%{y}<extra></extra>\",\"hovertext\":[\"Czechia\"],\"ids\":[2019],\"legendgroup\":\"Czechia\",\"marker\":{\"color\":\"#00cc96\",\"symbol\":\"circle\"},\"mode\":\"markers\",\"name\":\"Czechia\",\"orientation\":\"v\",\"showlegend\":false,\"x\":[3155.79],\"xaxis\":\"x9\",\"y\":[361.43],\"yaxis\":\"y9\",\"type\":\"scatter\"},{\"hovertemplate\":\"<b>%{hovertext}</b><br><br>Country=Czechia<br>Year=2020<br>Milk=%{x}<br>Cows=%{y}<extra></extra>\",\"hovertext\":[\"Czechia\"],\"ids\":[2020],\"legendgroup\":\"Czechia\",\"marker\":{\"color\":\"#00cc96\",\"symbol\":\"circle\"},\"mode\":\"markers\",\"name\":\"Czechia\",\"orientation\":\"v\",\"showlegend\":false,\"x\":[3267.73],\"xaxis\":\"x10\",\"y\":[357.01],\"yaxis\":\"y10\",\"type\":\"scatter\"},{\"hovertemplate\":\"<b>%{hovertext}</b><br><br>Country=Czechia<br>Year=2021<br>Milk=%{x}<br>Cows=%{y}<extra></extra>\",\"hovertext\":[\"Czechia\"],\"ids\":[2021],\"legendgroup\":\"Czechia\",\"marker\":{\"color\":\"#00cc96\",\"symbol\":\"circle\"},\"mode\":\"markers\",\"name\":\"Czechia\",\"orientation\":\"v\",\"showlegend\":false,\"x\":[3309.91],\"xaxis\":\"x11\",\"y\":[362.35],\"yaxis\":\"y11\",\"type\":\"scatter\"}],\"name\":\"Czechia\"},{\"data\":[{\"hovertemplate\":\"<b>%{hovertext}</b><br><br>Country=Denmark<br>Year=2011<br>Milk=%{x}<br>Cows=%{y}<extra></extra>\",\"hovertext\":[\"Denmark\"],\"ids\":[2011],\"legendgroup\":\"Denmark\",\"marker\":{\"color\":\"#ab63fa\",\"symbol\":\"circle\"},\"mode\":\"markers\",\"name\":\"Denmark\",\"orientation\":\"v\",\"showlegend\":true,\"x\":[4879.5],\"xaxis\":\"x\",\"y\":[579.0],\"yaxis\":\"y\",\"type\":\"scatter\"},{\"hovertemplate\":\"<b>%{hovertext}</b><br><br>Country=Denmark<br>Year=2012<br>Milk=%{x}<br>Cows=%{y}<extra></extra>\",\"hovertext\":[\"Denmark\"],\"ids\":[2012],\"legendgroup\":\"Denmark\",\"marker\":{\"color\":\"#ab63fa\",\"symbol\":\"circle\"},\"mode\":\"markers\",\"name\":\"Denmark\",\"orientation\":\"v\",\"showlegend\":false,\"x\":[5006.4],\"xaxis\":\"x2\",\"y\":[579.0],\"yaxis\":\"y2\",\"type\":\"scatter\"},{\"hovertemplate\":\"<b>%{hovertext}</b><br><br>Country=Denmark<br>Year=2013<br>Milk=%{x}<br>Cows=%{y}<extra></extra>\",\"hovertext\":[\"Denmark\"],\"ids\":[2013],\"legendgroup\":\"Denmark\",\"marker\":{\"color\":\"#ab63fa\",\"symbol\":\"circle\"},\"mode\":\"markers\",\"name\":\"Denmark\",\"orientation\":\"v\",\"showlegend\":false,\"x\":[5081.8],\"xaxis\":\"x3\",\"y\":[567.0],\"yaxis\":\"y3\",\"type\":\"scatter\"},{\"hovertemplate\":\"<b>%{hovertext}</b><br><br>Country=Denmark<br>Year=2014<br>Milk=%{x}<br>Cows=%{y}<extra></extra>\",\"hovertext\":[\"Denmark\"],\"ids\":[2014],\"legendgroup\":\"Denmark\",\"marker\":{\"color\":\"#ab63fa\",\"symbol\":\"circle\"},\"mode\":\"markers\",\"name\":\"Denmark\",\"orientation\":\"v\",\"showlegend\":false,\"x\":[5162.0],\"xaxis\":\"x4\",\"y\":[547.0],\"yaxis\":\"y4\",\"type\":\"scatter\"},{\"hovertemplate\":\"<b>%{hovertext}</b><br><br>Country=Denmark<br>Year=2015<br>Milk=%{x}<br>Cows=%{y}<extra></extra>\",\"hovertext\":[\"Denmark\"],\"ids\":[2015],\"legendgroup\":\"Denmark\",\"marker\":{\"color\":\"#ab63fa\",\"symbol\":\"circle\"},\"mode\":\"markers\",\"name\":\"Denmark\",\"orientation\":\"v\",\"showlegend\":false,\"x\":[5335.7],\"xaxis\":\"x5\",\"y\":[570.0],\"yaxis\":\"y5\",\"type\":\"scatter\"},{\"hovertemplate\":\"<b>%{hovertext}</b><br><br>Country=Denmark<br>Year=2016<br>Milk=%{x}<br>Cows=%{y}<extra></extra>\",\"hovertext\":[\"Denmark\"],\"ids\":[2016],\"legendgroup\":\"Denmark\",\"marker\":{\"color\":\"#ab63fa\",\"symbol\":\"circle\"},\"mode\":\"markers\",\"name\":\"Denmark\",\"orientation\":\"v\",\"showlegend\":false,\"x\":[5435.7],\"xaxis\":\"x6\",\"y\":[565.0],\"yaxis\":\"y6\",\"type\":\"scatter\"},{\"hovertemplate\":\"<b>%{hovertext}</b><br><br>Country=Denmark<br>Year=2017<br>Milk=%{x}<br>Cows=%{y}<extra></extra>\",\"hovertext\":[\"Denmark\"],\"ids\":[2017],\"legendgroup\":\"Denmark\",\"marker\":{\"color\":\"#ab63fa\",\"symbol\":\"circle\"},\"mode\":\"markers\",\"name\":\"Denmark\",\"orientation\":\"v\",\"showlegend\":false,\"x\":[5502.2],\"xaxis\":\"x7\",\"y\":[575.0],\"yaxis\":\"y7\",\"type\":\"scatter\"},{\"hovertemplate\":\"<b>%{hovertext}</b><br><br>Country=Denmark<br>Year=2018<br>Milk=%{x}<br>Cows=%{y}<extra></extra>\",\"hovertext\":[\"Denmark\"],\"ids\":[2018],\"legendgroup\":\"Denmark\",\"marker\":{\"color\":\"#ab63fa\",\"symbol\":\"circle\"},\"mode\":\"markers\",\"name\":\"Denmark\",\"orientation\":\"v\",\"showlegend\":false,\"x\":[5615.2],\"xaxis\":\"x8\",\"y\":[570.0],\"yaxis\":\"y8\",\"type\":\"scatter\"},{\"hovertemplate\":\"<b>%{hovertext}</b><br><br>Country=Denmark<br>Year=2019<br>Milk=%{x}<br>Cows=%{y}<extra></extra>\",\"hovertext\":[\"Denmark\"],\"ids\":[2019],\"legendgroup\":\"Denmark\",\"marker\":{\"color\":\"#ab63fa\",\"symbol\":\"circle\"},\"mode\":\"markers\",\"name\":\"Denmark\",\"orientation\":\"v\",\"showlegend\":false,\"x\":[5615.0],\"xaxis\":\"x9\",\"y\":[563.0],\"yaxis\":\"y9\",\"type\":\"scatter\"},{\"hovertemplate\":\"<b>%{hovertext}</b><br><br>Country=Denmark<br>Year=2020<br>Milk=%{x}<br>Cows=%{y}<extra></extra>\",\"hovertext\":[\"Denmark\"],\"ids\":[2020],\"legendgroup\":\"Denmark\",\"marker\":{\"color\":\"#ab63fa\",\"symbol\":\"circle\"},\"mode\":\"markers\",\"name\":\"Denmark\",\"orientation\":\"v\",\"showlegend\":false,\"x\":[5666.0],\"xaxis\":\"x10\",\"y\":[565.0],\"yaxis\":\"y10\",\"type\":\"scatter\"},{\"hovertemplate\":\"<b>%{hovertext}</b><br><br>Country=Denmark<br>Year=2021<br>Milk=%{x}<br>Cows=%{y}<extra></extra>\",\"hovertext\":[\"Denmark\"],\"ids\":[2021],\"legendgroup\":\"Denmark\",\"marker\":{\"color\":\"#ab63fa\",\"symbol\":\"circle\"},\"mode\":\"markers\",\"name\":\"Denmark\",\"orientation\":\"v\",\"showlegend\":false,\"x\":[5644.0],\"xaxis\":\"x11\",\"y\":[559.0],\"yaxis\":\"y11\",\"type\":\"scatter\"}],\"name\":\"Denmark\"},{\"data\":[{\"hovertemplate\":\"<b>%{hovertext}</b><br><br>Country=Germany<br>Year=2011<br>Milk=%{x}<br>Cows=%{y}<extra></extra>\",\"hovertext\":[\"Germany\"],\"ids\":[2011],\"legendgroup\":\"Germany\",\"marker\":{\"color\":\"#FFA15A\",\"symbol\":\"circle\"},\"mode\":\"markers\",\"name\":\"Germany\",\"orientation\":\"v\",\"showlegend\":true,\"x\":[30301.36],\"xaxis\":\"x\",\"y\":[4190.1],\"yaxis\":\"y\",\"type\":\"scatter\"},{\"hovertemplate\":\"<b>%{hovertext}</b><br><br>Country=Germany<br>Year=2012<br>Milk=%{x}<br>Cows=%{y}<extra></extra>\",\"hovertext\":[\"Germany\"],\"ids\":[2012],\"legendgroup\":\"Germany\",\"marker\":{\"color\":\"#FFA15A\",\"symbol\":\"circle\"},\"mode\":\"markers\",\"name\":\"Germany\",\"orientation\":\"v\",\"showlegend\":false,\"x\":[30672.15],\"xaxis\":\"x2\",\"y\":[4190.49],\"yaxis\":\"y2\",\"type\":\"scatter\"},{\"hovertemplate\":\"<b>%{hovertext}</b><br><br>Country=Germany<br>Year=2013<br>Milk=%{x}<br>Cows=%{y}<extra></extra>\",\"hovertext\":[\"Germany\"],\"ids\":[2013],\"legendgroup\":\"Germany\",\"marker\":{\"color\":\"#FFA15A\",\"symbol\":\"circle\"},\"mode\":\"markers\",\"name\":\"Germany\",\"orientation\":\"v\",\"showlegend\":false,\"x\":[31324.24],\"xaxis\":\"x3\",\"y\":[4267.61],\"yaxis\":\"y3\",\"type\":\"scatter\"},{\"hovertemplate\":\"<b>%{hovertext}</b><br><br>Country=Germany<br>Year=2014<br>Milk=%{x}<br>Cows=%{y}<extra></extra>\",\"hovertext\":[\"Germany\"],\"ids\":[2014],\"legendgroup\":\"Germany\",\"marker\":{\"color\":\"#FFA15A\",\"symbol\":\"circle\"},\"mode\":\"markers\",\"name\":\"Germany\",\"orientation\":\"v\",\"showlegend\":false,\"x\":[32381.06],\"xaxis\":\"x4\",\"y\":[4295.68],\"yaxis\":\"y4\",\"type\":\"scatter\"},{\"hovertemplate\":\"<b>%{hovertext}</b><br><br>Country=Germany<br>Year=2015<br>Milk=%{x}<br>Cows=%{y}<extra></extra>\",\"hovertext\":[\"Germany\"],\"ids\":[2015],\"legendgroup\":\"Germany\",\"marker\":{\"color\":\"#FFA15A\",\"symbol\":\"circle\"},\"mode\":\"markers\",\"name\":\"Germany\",\"orientation\":\"v\",\"showlegend\":false,\"x\":[32670.88],\"xaxis\":\"x5\",\"y\":[4284.64],\"yaxis\":\"y5\",\"type\":\"scatter\"},{\"hovertemplate\":\"<b>%{hovertext}</b><br><br>Country=Germany<br>Year=2016<br>Milk=%{x}<br>Cows=%{y}<extra></extra>\",\"hovertext\":[\"Germany\"],\"ids\":[2016],\"legendgroup\":\"Germany\",\"marker\":{\"color\":\"#FFA15A\",\"symbol\":\"circle\"},\"mode\":\"markers\",\"name\":\"Germany\",\"orientation\":\"v\",\"showlegend\":false,\"x\":[32672.34],\"xaxis\":\"x6\",\"y\":[4217.7],\"yaxis\":\"y6\",\"type\":\"scatter\"},{\"hovertemplate\":\"<b>%{hovertext}</b><br><br>Country=Germany<br>Year=2017<br>Milk=%{x}<br>Cows=%{y}<extra></extra>\",\"hovertext\":[\"Germany\"],\"ids\":[2017],\"legendgroup\":\"Germany\",\"marker\":{\"color\":\"#FFA15A\",\"symbol\":\"circle\"},\"mode\":\"markers\",\"name\":\"Germany\",\"orientation\":\"v\",\"showlegend\":false,\"x\":[32598.2],\"xaxis\":\"x7\",\"y\":[4199.01],\"yaxis\":\"y7\",\"type\":\"scatter\"},{\"hovertemplate\":\"<b>%{hovertext}</b><br><br>Country=Germany<br>Year=2018<br>Milk=%{x}<br>Cows=%{y}<extra></extra>\",\"hovertext\":[\"Germany\"],\"ids\":[2018],\"legendgroup\":\"Germany\",\"marker\":{\"color\":\"#FFA15A\",\"symbol\":\"circle\"},\"mode\":\"markers\",\"name\":\"Germany\",\"orientation\":\"v\",\"showlegend\":false,\"x\":[33086.81],\"xaxis\":\"x8\",\"y\":[4100.86],\"yaxis\":\"y8\",\"type\":\"scatter\"},{\"hovertemplate\":\"<b>%{hovertext}</b><br><br>Country=Germany<br>Year=2019<br>Milk=%{x}<br>Cows=%{y}<extra></extra>\",\"hovertext\":[\"Germany\"],\"ids\":[2019],\"legendgroup\":\"Germany\",\"marker\":{\"color\":\"#FFA15A\",\"symbol\":\"circle\"},\"mode\":\"markers\",\"name\":\"Germany\",\"orientation\":\"v\",\"showlegend\":false,\"x\":[33080.18],\"xaxis\":\"x9\",\"y\":[4011.67],\"yaxis\":\"y9\",\"type\":\"scatter\"},{\"hovertemplate\":\"<b>%{hovertext}</b><br><br>Country=Germany<br>Year=2020<br>Milk=%{x}<br>Cows=%{y}<extra></extra>\",\"hovertext\":[\"Germany\"],\"ids\":[2020],\"legendgroup\":\"Germany\",\"marker\":{\"color\":\"#FFA15A\",\"symbol\":\"circle\"},\"mode\":\"markers\",\"name\":\"Germany\",\"orientation\":\"v\",\"showlegend\":false,\"x\":[33164.91],\"xaxis\":\"x10\",\"y\":[3921.41],\"yaxis\":\"y10\",\"type\":\"scatter\"},{\"hovertemplate\":\"<b>%{hovertext}</b><br><br>Country=Germany<br>Year=2021<br>Milk=%{x}<br>Cows=%{y}<extra></extra>\",\"hovertext\":[\"Germany\"],\"ids\":[2021],\"legendgroup\":\"Germany\",\"marker\":{\"color\":\"#FFA15A\",\"symbol\":\"circle\"},\"mode\":\"markers\",\"name\":\"Germany\",\"orientation\":\"v\",\"showlegend\":false,\"x\":[32506.91],\"xaxis\":\"x11\",\"y\":[3832.72],\"yaxis\":\"y11\",\"type\":\"scatter\"}],\"name\":\"Germany\"},{\"data\":[{\"hovertemplate\":\"<b>%{hovertext}</b><br><br>Country=Estonia<br>Year=2011<br>Milk=%{x}<br>Cows=%{y}<extra></extra>\",\"hovertext\":[\"Estonia\"],\"ids\":[2011],\"legendgroup\":\"Estonia\",\"marker\":{\"color\":\"#19d3f3\",\"symbol\":\"circle\"},\"mode\":\"markers\",\"name\":\"Estonia\",\"orientation\":\"v\",\"showlegend\":true,\"x\":[692.4],\"xaxis\":\"x\",\"y\":[96.2],\"yaxis\":\"y\",\"type\":\"scatter\"},{\"hovertemplate\":\"<b>%{hovertext}</b><br><br>Country=Estonia<br>Year=2012<br>Milk=%{x}<br>Cows=%{y}<extra></extra>\",\"hovertext\":[\"Estonia\"],\"ids\":[2012],\"legendgroup\":\"Estonia\",\"marker\":{\"color\":\"#19d3f3\",\"symbol\":\"circle\"},\"mode\":\"markers\",\"name\":\"Estonia\",\"orientation\":\"v\",\"showlegend\":false,\"x\":[720.7],\"xaxis\":\"x2\",\"y\":[96.8],\"yaxis\":\"y2\",\"type\":\"scatter\"},{\"hovertemplate\":\"<b>%{hovertext}</b><br><br>Country=Estonia<br>Year=2013<br>Milk=%{x}<br>Cows=%{y}<extra></extra>\",\"hovertext\":[\"Estonia\"],\"ids\":[2013],\"legendgroup\":\"Estonia\",\"marker\":{\"color\":\"#19d3f3\",\"symbol\":\"circle\"},\"mode\":\"markers\",\"name\":\"Estonia\",\"orientation\":\"v\",\"showlegend\":false,\"x\":[771.6],\"xaxis\":\"x3\",\"y\":[97.9],\"yaxis\":\"y3\",\"type\":\"scatter\"},{\"hovertemplate\":\"<b>%{hovertext}</b><br><br>Country=Estonia<br>Year=2014<br>Milk=%{x}<br>Cows=%{y}<extra></extra>\",\"hovertext\":[\"Estonia\"],\"ids\":[2014],\"legendgroup\":\"Estonia\",\"marker\":{\"color\":\"#19d3f3\",\"symbol\":\"circle\"},\"mode\":\"markers\",\"name\":\"Estonia\",\"orientation\":\"v\",\"showlegend\":false,\"x\":[804.8],\"xaxis\":\"x4\",\"y\":[95.6],\"yaxis\":\"y4\",\"type\":\"scatter\"},{\"hovertemplate\":\"<b>%{hovertext}</b><br><br>Country=Estonia<br>Year=2015<br>Milk=%{x}<br>Cows=%{y}<extra></extra>\",\"hovertext\":[\"Estonia\"],\"ids\":[2015],\"legendgroup\":\"Estonia\",\"marker\":{\"color\":\"#19d3f3\",\"symbol\":\"circle\"},\"mode\":\"markers\",\"name\":\"Estonia\",\"orientation\":\"v\",\"showlegend\":false,\"x\":[782.7],\"xaxis\":\"x5\",\"y\":[90.6],\"yaxis\":\"y5\",\"type\":\"scatter\"},{\"hovertemplate\":\"<b>%{hovertext}</b><br><br>Country=Estonia<br>Year=2016<br>Milk=%{x}<br>Cows=%{y}<extra></extra>\",\"hovertext\":[\"Estonia\"],\"ids\":[2016],\"legendgroup\":\"Estonia\",\"marker\":{\"color\":\"#19d3f3\",\"symbol\":\"circle\"},\"mode\":\"markers\",\"name\":\"Estonia\",\"orientation\":\"v\",\"showlegend\":false,\"x\":[782.7],\"xaxis\":\"x6\",\"y\":[86.1],\"yaxis\":\"y6\",\"type\":\"scatter\"},{\"hovertemplate\":\"<b>%{hovertext}</b><br><br>Country=Estonia<br>Year=2017<br>Milk=%{x}<br>Cows=%{y}<extra></extra>\",\"hovertext\":[\"Estonia\"],\"ids\":[2017],\"legendgroup\":\"Estonia\",\"marker\":{\"color\":\"#19d3f3\",\"symbol\":\"circle\"},\"mode\":\"markers\",\"name\":\"Estonia\",\"orientation\":\"v\",\"showlegend\":false,\"x\":[790.0],\"xaxis\":\"x7\",\"y\":[86.4],\"yaxis\":\"y7\",\"type\":\"scatter\"},{\"hovertemplate\":\"<b>%{hovertext}</b><br><br>Country=Estonia<br>Year=2018<br>Milk=%{x}<br>Cows=%{y}<extra></extra>\",\"hovertext\":[\"Estonia\"],\"ids\":[2018],\"legendgroup\":\"Estonia\",\"marker\":{\"color\":\"#19d3f3\",\"symbol\":\"circle\"},\"mode\":\"markers\",\"name\":\"Estonia\",\"orientation\":\"v\",\"showlegend\":false,\"x\":[796.9],\"xaxis\":\"x8\",\"y\":[85.2],\"yaxis\":\"y8\",\"type\":\"scatter\"},{\"hovertemplate\":\"<b>%{hovertext}</b><br><br>Country=Estonia<br>Year=2019<br>Milk=%{x}<br>Cows=%{y}<extra></extra>\",\"hovertext\":[\"Estonia\"],\"ids\":[2019],\"legendgroup\":\"Estonia\",\"marker\":{\"color\":\"#19d3f3\",\"symbol\":\"circle\"},\"mode\":\"markers\",\"name\":\"Estonia\",\"orientation\":\"v\",\"showlegend\":false,\"x\":[820.8],\"xaxis\":\"x9\",\"y\":[85.0],\"yaxis\":\"y9\",\"type\":\"scatter\"},{\"hovertemplate\":\"<b>%{hovertext}</b><br><br>Country=Estonia<br>Year=2020<br>Milk=%{x}<br>Cows=%{y}<extra></extra>\",\"hovertext\":[\"Estonia\"],\"ids\":[2020],\"legendgroup\":\"Estonia\",\"marker\":{\"color\":\"#19d3f3\",\"symbol\":\"circle\"},\"mode\":\"markers\",\"name\":\"Estonia\",\"orientation\":\"v\",\"showlegend\":false,\"x\":[848.3],\"xaxis\":\"x10\",\"y\":[84.3],\"yaxis\":\"y10\",\"type\":\"scatter\"},{\"hovertemplate\":\"<b>%{hovertext}</b><br><br>Country=Estonia<br>Year=2021<br>Milk=%{x}<br>Cows=%{y}<extra></extra>\",\"hovertext\":[\"Estonia\"],\"ids\":[2021],\"legendgroup\":\"Estonia\",\"marker\":{\"color\":\"#19d3f3\",\"symbol\":\"circle\"},\"mode\":\"markers\",\"name\":\"Estonia\",\"orientation\":\"v\",\"showlegend\":false,\"x\":[838.7],\"xaxis\":\"x11\",\"y\":[83.7],\"yaxis\":\"y11\",\"type\":\"scatter\"}],\"name\":\"Estonia\"},{\"data\":[{\"hovertemplate\":\"<b>%{hovertext}</b><br><br>Country=Ireland<br>Year=2011<br>Milk=%{x}<br>Cows=%{y}<extra></extra>\",\"hovertext\":[\"Ireland\"],\"ids\":[2011],\"legendgroup\":\"Ireland\",\"marker\":{\"color\":\"#FF6692\",\"symbol\":\"circle\"},\"mode\":\"markers\",\"name\":\"Ireland\",\"orientation\":\"v\",\"showlegend\":true,\"x\":[5556.2],\"xaxis\":\"x\",\"y\":[1035.64],\"yaxis\":\"y\",\"type\":\"scatter\"},{\"hovertemplate\":\"<b>%{hovertext}</b><br><br>Country=Ireland<br>Year=2012<br>Milk=%{x}<br>Cows=%{y}<extra></extra>\",\"hovertext\":[\"Ireland\"],\"ids\":[2012],\"legendgroup\":\"Ireland\",\"marker\":{\"color\":\"#FF6692\",\"symbol\":\"circle\"},\"mode\":\"markers\",\"name\":\"Ireland\",\"orientation\":\"v\",\"showlegend\":false,\"x\":[5399.3],\"xaxis\":\"x2\",\"y\":[1060.26],\"yaxis\":\"y2\",\"type\":\"scatter\"},{\"hovertemplate\":\"<b>%{hovertext}</b><br><br>Country=Ireland<br>Year=2013<br>Milk=%{x}<br>Cows=%{y}<extra></extra>\",\"hovertext\":[\"Ireland\"],\"ids\":[2013],\"legendgroup\":\"Ireland\",\"marker\":{\"color\":\"#FF6692\",\"symbol\":\"circle\"},\"mode\":\"markers\",\"name\":\"Ireland\",\"orientation\":\"v\",\"showlegend\":false,\"x\":[5600.7],\"xaxis\":\"x3\",\"y\":[1082.46],\"yaxis\":\"y3\",\"type\":\"scatter\"},{\"hovertemplate\":\"<b>%{hovertext}</b><br><br>Country=Ireland<br>Year=2014<br>Milk=%{x}<br>Cows=%{y}<extra></extra>\",\"hovertext\":[\"Ireland\"],\"ids\":[2014],\"legendgroup\":\"Ireland\",\"marker\":{\"color\":\"#FF6692\",\"symbol\":\"circle\"},\"mode\":\"markers\",\"name\":\"Ireland\",\"orientation\":\"v\",\"showlegend\":false,\"x\":[5821.3],\"xaxis\":\"x4\",\"y\":[1127.72],\"yaxis\":\"y4\",\"type\":\"scatter\"},{\"hovertemplate\":\"<b>%{hovertext}</b><br><br>Country=Ireland<br>Year=2015<br>Milk=%{x}<br>Cows=%{y}<extra></extra>\",\"hovertext\":[\"Ireland\"],\"ids\":[2015],\"legendgroup\":\"Ireland\",\"marker\":{\"color\":\"#FF6692\",\"symbol\":\"circle\"},\"mode\":\"markers\",\"name\":\"Ireland\",\"orientation\":\"v\",\"showlegend\":false,\"x\":[6604.41],\"xaxis\":\"x5\",\"y\":[1239.89],\"yaxis\":\"y5\",\"type\":\"scatter\"},{\"hovertemplate\":\"<b>%{hovertext}</b><br><br>Country=Ireland<br>Year=2016<br>Milk=%{x}<br>Cows=%{y}<extra></extra>\",\"hovertext\":[\"Ireland\"],\"ids\":[2016],\"legendgroup\":\"Ireland\",\"marker\":{\"color\":\"#FF6692\",\"symbol\":\"circle\"},\"mode\":\"markers\",\"name\":\"Ireland\",\"orientation\":\"v\",\"showlegend\":false,\"x\":[6871.94],\"xaxis\":\"x6\",\"y\":[1295.23],\"yaxis\":\"y6\",\"type\":\"scatter\"},{\"hovertemplate\":\"<b>%{hovertext}</b><br><br>Country=Ireland<br>Year=2017<br>Milk=%{x}<br>Cows=%{y}<extra></extra>\",\"hovertext\":[\"Ireland\"],\"ids\":[2017],\"legendgroup\":\"Ireland\",\"marker\":{\"color\":\"#FF6692\",\"symbol\":\"circle\"},\"mode\":\"markers\",\"name\":\"Ireland\",\"orientation\":\"v\",\"showlegend\":false,\"x\":[7498.94],\"xaxis\":\"x7\",\"y\":[1343.3],\"yaxis\":\"y7\",\"type\":\"scatter\"},{\"hovertemplate\":\"<b>%{hovertext}</b><br><br>Country=Ireland<br>Year=2018<br>Milk=%{x}<br>Cows=%{y}<extra></extra>\",\"hovertext\":[\"Ireland\"],\"ids\":[2018],\"legendgroup\":\"Ireland\",\"marker\":{\"color\":\"#FF6692\",\"symbol\":\"circle\"},\"mode\":\"markers\",\"name\":\"Ireland\",\"orientation\":\"v\",\"showlegend\":false,\"x\":[7831.25],\"xaxis\":\"x8\",\"y\":[1369.1],\"yaxis\":\"y8\",\"type\":\"scatter\"},{\"hovertemplate\":\"<b>%{hovertext}</b><br><br>Country=Ireland<br>Year=2019<br>Milk=%{x}<br>Cows=%{y}<extra></extra>\",\"hovertext\":[\"Ireland\"],\"ids\":[2019],\"legendgroup\":\"Ireland\",\"marker\":{\"color\":\"#FF6692\",\"symbol\":\"circle\"},\"mode\":\"markers\",\"name\":\"Ireland\",\"orientation\":\"v\",\"showlegend\":false,\"x\":[8244.87],\"xaxis\":\"x9\",\"y\":[1425.76],\"yaxis\":\"y9\",\"type\":\"scatter\"},{\"hovertemplate\":\"<b>%{hovertext}</b><br><br>Country=Ireland<br>Year=2020<br>Milk=%{x}<br>Cows=%{y}<extra></extra>\",\"hovertext\":[\"Ireland\"],\"ids\":[2020],\"legendgroup\":\"Ireland\",\"marker\":{\"color\":\"#FF6692\",\"symbol\":\"circle\"},\"mode\":\"markers\",\"name\":\"Ireland\",\"orientation\":\"v\",\"showlegend\":false,\"x\":[8561.47],\"xaxis\":\"x10\",\"y\":[1456.05],\"yaxis\":\"y10\",\"type\":\"scatter\"},{\"hovertemplate\":\"<b>%{hovertext}</b><br><br>Country=Ireland<br>Year=2021<br>Milk=%{x}<br>Cows=%{y}<extra></extra>\",\"hovertext\":[\"Ireland\"],\"ids\":[2021],\"legendgroup\":\"Ireland\",\"marker\":{\"color\":\"#FF6692\",\"symbol\":\"circle\"},\"mode\":\"markers\",\"name\":\"Ireland\",\"orientation\":\"v\",\"showlegend\":false,\"x\":[9039.99],\"xaxis\":\"x11\",\"y\":[1505.27],\"yaxis\":\"y11\",\"type\":\"scatter\"}],\"name\":\"Ireland\"},{\"data\":[{\"hovertemplate\":\"<b>%{hovertext}</b><br><br>Country=Greece<br>Year=2011<br>Milk=%{x}<br>Cows=%{y}<extra></extra>\",\"hovertext\":[\"Greece\"],\"ids\":[2011],\"legendgroup\":\"Greece\",\"marker\":{\"color\":\"#B6E880\",\"symbol\":\"circle\"},\"mode\":\"markers\",\"name\":\"Greece\",\"orientation\":\"v\",\"showlegend\":true,\"x\":[757.0],\"xaxis\":\"x\",\"y\":[130.0],\"yaxis\":\"y\",\"type\":\"scatter\"},{\"hovertemplate\":\"<b>%{hovertext}</b><br><br>Country=Greece<br>Year=2012<br>Milk=%{x}<br>Cows=%{y}<extra></extra>\",\"hovertext\":[\"Greece\"],\"ids\":[2012],\"legendgroup\":\"Greece\",\"marker\":{\"color\":\"#B6E880\",\"symbol\":\"circle\"},\"mode\":\"markers\",\"name\":\"Greece\",\"orientation\":\"v\",\"showlegend\":false,\"x\":[765.5],\"xaxis\":\"x2\",\"y\":[132.0],\"yaxis\":\"y2\",\"type\":\"scatter\"},{\"hovertemplate\":\"<b>%{hovertext}</b><br><br>Country=Greece<br>Year=2013<br>Milk=%{x}<br>Cows=%{y}<extra></extra>\",\"hovertext\":[\"Greece\"],\"ids\":[2013],\"legendgroup\":\"Greece\",\"marker\":{\"color\":\"#B6E880\",\"symbol\":\"circle\"},\"mode\":\"markers\",\"name\":\"Greece\",\"orientation\":\"v\",\"showlegend\":false,\"x\":[730.6],\"xaxis\":\"x3\",\"y\":[130.0],\"yaxis\":\"y3\",\"type\":\"scatter\"},{\"hovertemplate\":\"<b>%{hovertext}</b><br><br>Country=Greece<br>Year=2014<br>Milk=%{x}<br>Cows=%{y}<extra></extra>\",\"hovertext\":[\"Greece\"],\"ids\":[2014],\"legendgroup\":\"Greece\",\"marker\":{\"color\":\"#B6E880\",\"symbol\":\"circle\"},\"mode\":\"markers\",\"name\":\"Greece\",\"orientation\":\"v\",\"showlegend\":false,\"x\":[769.0],\"xaxis\":\"x4\",\"y\":[135.0],\"yaxis\":\"y4\",\"type\":\"scatter\"},{\"hovertemplate\":\"<b>%{hovertext}</b><br><br>Country=Greece<br>Year=2015<br>Milk=%{x}<br>Cows=%{y}<extra></extra>\",\"hovertext\":[\"Greece\"],\"ids\":[2015],\"legendgroup\":\"Greece\",\"marker\":{\"color\":\"#B6E880\",\"symbol\":\"circle\"},\"mode\":\"markers\",\"name\":\"Greece\",\"orientation\":\"v\",\"showlegend\":false,\"x\":[770.0],\"xaxis\":\"x5\",\"y\":[111.0],\"yaxis\":\"y5\",\"type\":\"scatter\"},{\"hovertemplate\":\"<b>%{hovertext}</b><br><br>Country=Greece<br>Year=2016<br>Milk=%{x}<br>Cows=%{y}<extra></extra>\",\"hovertext\":[\"Greece\"],\"ids\":[2016],\"legendgroup\":\"Greece\",\"marker\":{\"color\":\"#B6E880\",\"symbol\":\"circle\"},\"mode\":\"markers\",\"name\":\"Greece\",\"orientation\":\"v\",\"showlegend\":false,\"x\":[706.0],\"xaxis\":\"x6\",\"y\":[106.0],\"yaxis\":\"y6\",\"type\":\"scatter\"},{\"hovertemplate\":\"<b>%{hovertext}</b><br><br>Country=Greece<br>Year=2017<br>Milk=%{x}<br>Cows=%{y}<extra></extra>\",\"hovertext\":[\"Greece\"],\"ids\":[2017],\"legendgroup\":\"Greece\",\"marker\":{\"color\":\"#B6E880\",\"symbol\":\"circle\"},\"mode\":\"markers\",\"name\":\"Greece\",\"orientation\":\"v\",\"showlegend\":false,\"x\":[670.0],\"xaxis\":\"x7\",\"y\":[97.0],\"yaxis\":\"y7\",\"type\":\"scatter\"},{\"hovertemplate\":\"<b>%{hovertext}</b><br><br>Country=Greece<br>Year=2018<br>Milk=%{x}<br>Cows=%{y}<extra></extra>\",\"hovertext\":[\"Greece\"],\"ids\":[2018],\"legendgroup\":\"Greece\",\"marker\":{\"color\":\"#B6E880\",\"symbol\":\"circle\"},\"mode\":\"markers\",\"name\":\"Greece\",\"orientation\":\"v\",\"showlegend\":false,\"x\":[654.8],\"xaxis\":\"x8\",\"y\":[95.0],\"yaxis\":\"y8\",\"type\":\"scatter\"},{\"hovertemplate\":\"<b>%{hovertext}</b><br><br>Country=Greece<br>Year=2019<br>Milk=%{x}<br>Cows=%{y}<extra></extra>\",\"hovertext\":[\"Greece\"],\"ids\":[2019],\"legendgroup\":\"Greece\",\"marker\":{\"color\":\"#B6E880\",\"symbol\":\"circle\"},\"mode\":\"markers\",\"name\":\"Greece\",\"orientation\":\"v\",\"showlegend\":false,\"x\":[659.38],\"xaxis\":\"x9\",\"y\":[86.0],\"yaxis\":\"y9\",\"type\":\"scatter\"},{\"hovertemplate\":\"<b>%{hovertext}</b><br><br>Country=Greece<br>Year=2020<br>Milk=%{x}<br>Cows=%{y}<extra></extra>\",\"hovertext\":[\"Greece\"],\"ids\":[2020],\"legendgroup\":\"Greece\",\"marker\":{\"color\":\"#B6E880\",\"symbol\":\"circle\"},\"mode\":\"markers\",\"name\":\"Greece\",\"orientation\":\"v\",\"showlegend\":false,\"x\":[683.46],\"xaxis\":\"x10\",\"y\":[82.0],\"yaxis\":\"y10\",\"type\":\"scatter\"},{\"hovertemplate\":\"<b>%{hovertext}</b><br><br>Country=Greece<br>Year=2021<br>Milk=%{x}<br>Cows=%{y}<extra></extra>\",\"hovertext\":[\"Greece\"],\"ids\":[2021],\"legendgroup\":\"Greece\",\"marker\":{\"color\":\"#B6E880\",\"symbol\":\"circle\"},\"mode\":\"markers\",\"name\":\"Greece\",\"orientation\":\"v\",\"showlegend\":false,\"x\":[710.93],\"xaxis\":\"x11\",\"y\":[83.0],\"yaxis\":\"y11\",\"type\":\"scatter\"}],\"name\":\"Greece\"},{\"data\":[{\"hovertemplate\":\"<b>%{hovertext}</b><br><br>Country=Spain<br>Year=2011<br>Milk=%{x}<br>Cows=%{y}<extra></extra>\",\"hovertext\":[\"Spain\"],\"ids\":[2011],\"legendgroup\":\"Spain\",\"marker\":{\"color\":\"#FF97FF\",\"symbol\":\"circle\"},\"mode\":\"markers\",\"name\":\"Spain\",\"orientation\":\"v\",\"showlegend\":true,\"x\":[6487.68],\"xaxis\":\"x\",\"y\":[797.89],\"yaxis\":\"y\",\"type\":\"scatter\"},{\"hovertemplate\":\"<b>%{hovertext}</b><br><br>Country=Spain<br>Year=2012<br>Milk=%{x}<br>Cows=%{y}<extra></extra>\",\"hovertext\":[\"Spain\"],\"ids\":[2012],\"legendgroup\":\"Spain\",\"marker\":{\"color\":\"#FF97FF\",\"symbol\":\"circle\"},\"mode\":\"markers\",\"name\":\"Spain\",\"orientation\":\"v\",\"showlegend\":false,\"x\":[6502.41],\"xaxis\":\"x2\",\"y\":[827.21],\"yaxis\":\"y2\",\"type\":\"scatter\"},{\"hovertemplate\":\"<b>%{hovertext}</b><br><br>Country=Spain<br>Year=2013<br>Milk=%{x}<br>Cows=%{y}<extra></extra>\",\"hovertext\":[\"Spain\"],\"ids\":[2013],\"legendgroup\":\"Spain\",\"marker\":{\"color\":\"#FF97FF\",\"symbol\":\"circle\"},\"mode\":\"markers\",\"name\":\"Spain\",\"orientation\":\"v\",\"showlegend\":false,\"x\":[6559.18],\"xaxis\":\"x3\",\"y\":[844.06],\"yaxis\":\"y3\",\"type\":\"scatter\"},{\"hovertemplate\":\"<b>%{hovertext}</b><br><br>Country=Spain<br>Year=2014<br>Milk=%{x}<br>Cows=%{y}<extra></extra>\",\"hovertext\":[\"Spain\"],\"ids\":[2014],\"legendgroup\":\"Spain\",\"marker\":{\"color\":\"#FF97FF\",\"symbol\":\"circle\"},\"mode\":\"markers\",\"name\":\"Spain\",\"orientation\":\"v\",\"showlegend\":false,\"x\":[6779.75],\"xaxis\":\"x4\",\"y\":[844.79],\"yaxis\":\"y4\",\"type\":\"scatter\"},{\"hovertemplate\":\"<b>%{hovertext}</b><br><br>Country=Spain<br>Year=2015<br>Milk=%{x}<br>Cows=%{y}<extra></extra>\",\"hovertext\":[\"Spain\"],\"ids\":[2015],\"legendgroup\":\"Spain\",\"marker\":{\"color\":\"#FF97FF\",\"symbol\":\"circle\"},\"mode\":\"markers\",\"name\":\"Spain\",\"orientation\":\"v\",\"showlegend\":false,\"x\":[7029.48],\"xaxis\":\"x5\",\"y\":[844.11],\"yaxis\":\"y5\",\"type\":\"scatter\"},{\"hovertemplate\":\"<b>%{hovertext}</b><br><br>Country=Spain<br>Year=2016<br>Milk=%{x}<br>Cows=%{y}<extra></extra>\",\"hovertext\":[\"Spain\"],\"ids\":[2016],\"legendgroup\":\"Spain\",\"marker\":{\"color\":\"#FF97FF\",\"symbol\":\"circle\"},\"mode\":\"markers\",\"name\":\"Spain\",\"orientation\":\"v\",\"showlegend\":false,\"x\":[7123.77],\"xaxis\":\"x6\",\"y\":[834.45],\"yaxis\":\"y6\",\"type\":\"scatter\"},{\"hovertemplate\":\"<b>%{hovertext}</b><br><br>Country=Spain<br>Year=2017<br>Milk=%{x}<br>Cows=%{y}<extra></extra>\",\"hovertext\":[\"Spain\"],\"ids\":[2017],\"legendgroup\":\"Spain\",\"marker\":{\"color\":\"#FF97FF\",\"symbol\":\"circle\"},\"mode\":\"markers\",\"name\":\"Spain\",\"orientation\":\"v\",\"showlegend\":false,\"x\":[7229.35],\"xaxis\":\"x7\",\"y\":[823.39],\"yaxis\":\"y7\",\"type\":\"scatter\"},{\"hovertemplate\":\"<b>%{hovertext}</b><br><br>Country=Spain<br>Year=2018<br>Milk=%{x}<br>Cows=%{y}<extra></extra>\",\"hovertext\":[\"Spain\"],\"ids\":[2018],\"legendgroup\":\"Spain\",\"marker\":{\"color\":\"#FF97FF\",\"symbol\":\"circle\"},\"mode\":\"markers\",\"name\":\"Spain\",\"orientation\":\"v\",\"showlegend\":false,\"x\":[7335.62],\"xaxis\":\"x8\",\"y\":[816.69],\"yaxis\":\"y8\",\"type\":\"scatter\"},{\"hovertemplate\":\"<b>%{hovertext}</b><br><br>Country=Spain<br>Year=2019<br>Milk=%{x}<br>Cows=%{y}<extra></extra>\",\"hovertext\":[\"Spain\"],\"ids\":[2019],\"legendgroup\":\"Spain\",\"marker\":{\"color\":\"#FF97FF\",\"symbol\":\"circle\"},\"mode\":\"markers\",\"name\":\"Spain\",\"orientation\":\"v\",\"showlegend\":false,\"x\":[7460.36],\"xaxis\":\"x9\",\"y\":[812.87],\"yaxis\":\"y9\",\"type\":\"scatter\"},{\"hovertemplate\":\"<b>%{hovertext}</b><br><br>Country=Spain<br>Year=2020<br>Milk=%{x}<br>Cows=%{y}<extra></extra>\",\"hovertext\":[\"Spain\"],\"ids\":[2020],\"legendgroup\":\"Spain\",\"marker\":{\"color\":\"#FF97FF\",\"symbol\":\"circle\"},\"mode\":\"markers\",\"name\":\"Spain\",\"orientation\":\"v\",\"showlegend\":false,\"x\":[7606.07],\"xaxis\":\"x10\",\"y\":[810.74],\"yaxis\":\"y10\",\"type\":\"scatter\"},{\"hovertemplate\":\"<b>%{hovertext}</b><br><br>Country=Spain<br>Year=2021<br>Milk=%{x}<br>Cows=%{y}<extra></extra>\",\"hovertext\":[\"Spain\"],\"ids\":[2021],\"legendgroup\":\"Spain\",\"marker\":{\"color\":\"#FF97FF\",\"symbol\":\"circle\"},\"mode\":\"markers\",\"name\":\"Spain\",\"orientation\":\"v\",\"showlegend\":false,\"x\":[7623.09],\"xaxis\":\"x11\",\"y\":[808.86],\"yaxis\":\"y11\",\"type\":\"scatter\"}],\"name\":\"Spain\"},{\"data\":[{\"hovertemplate\":\"<b>%{hovertext}</b><br><br>Country=France<br>Year=2011<br>Milk=%{x}<br>Cows=%{y}<extra></extra>\",\"hovertext\":[\"France\"],\"ids\":[2011],\"legendgroup\":\"France\",\"marker\":{\"color\":\"#FECB52\",\"symbol\":\"circle\"},\"mode\":\"markers\",\"name\":\"France\",\"orientation\":\"v\",\"showlegend\":true,\"x\":[25091.93],\"xaxis\":\"x\",\"y\":[3664.0],\"yaxis\":\"y\",\"type\":\"scatter\"},{\"hovertemplate\":\"<b>%{hovertext}</b><br><br>Country=France<br>Year=2012<br>Milk=%{x}<br>Cows=%{y}<extra></extra>\",\"hovertext\":[\"France\"],\"ids\":[2012],\"legendgroup\":\"France\",\"marker\":{\"color\":\"#FECB52\",\"symbol\":\"circle\"},\"mode\":\"markers\",\"name\":\"France\",\"orientation\":\"v\",\"showlegend\":false,\"x\":[24718.38],\"xaxis\":\"x2\",\"y\":[3644.0],\"yaxis\":\"y2\",\"type\":\"scatter\"},{\"hovertemplate\":\"<b>%{hovertext}</b><br><br>Country=France<br>Year=2013<br>Milk=%{x}<br>Cows=%{y}<extra></extra>\",\"hovertext\":[\"France\"],\"ids\":[2013],\"legendgroup\":\"France\",\"marker\":{\"color\":\"#FECB52\",\"symbol\":\"circle\"},\"mode\":\"markers\",\"name\":\"France\",\"orientation\":\"v\",\"showlegend\":false,\"x\":[24459.76],\"xaxis\":\"x3\",\"y\":[3698.45],\"yaxis\":\"y3\",\"type\":\"scatter\"},{\"hovertemplate\":\"<b>%{hovertext}</b><br><br>Country=France<br>Year=2014<br>Milk=%{x}<br>Cows=%{y}<extra></extra>\",\"hovertext\":[\"France\"],\"ids\":[2014],\"legendgroup\":\"France\",\"marker\":{\"color\":\"#FECB52\",\"symbol\":\"circle\"},\"mode\":\"markers\",\"name\":\"France\",\"orientation\":\"v\",\"showlegend\":false,\"x\":[25728.32],\"xaxis\":\"x4\",\"y\":[3661.18],\"yaxis\":\"y4\",\"type\":\"scatter\"},{\"hovertemplate\":\"<b>%{hovertext}</b><br><br>Country=France<br>Year=2015<br>Milk=%{x}<br>Cows=%{y}<extra></extra>\",\"hovertext\":[\"France\"],\"ids\":[2015],\"legendgroup\":\"France\",\"marker\":{\"color\":\"#FECB52\",\"symbol\":\"circle\"},\"mode\":\"markers\",\"name\":\"France\",\"orientation\":\"v\",\"showlegend\":false,\"x\":[25820.27],\"xaxis\":\"x5\",\"y\":[3637.02],\"yaxis\":\"y5\",\"type\":\"scatter\"},{\"hovertemplate\":\"<b>%{hovertext}</b><br><br>Country=France<br>Year=2016<br>Milk=%{x}<br>Cows=%{y}<extra></extra>\",\"hovertext\":[\"France\"],\"ids\":[2016],\"legendgroup\":\"France\",\"marker\":{\"color\":\"#FECB52\",\"symbol\":\"circle\"},\"mode\":\"markers\",\"name\":\"France\",\"orientation\":\"v\",\"showlegend\":false,\"x\":[25138.93],\"xaxis\":\"x6\",\"y\":[3637.02],\"yaxis\":\"y6\",\"type\":\"scatter\"},{\"hovertemplate\":\"<b>%{hovertext}</b><br><br>Country=France<br>Year=2017<br>Milk=%{x}<br>Cows=%{y}<extra></extra>\",\"hovertext\":[\"France\"],\"ids\":[2017],\"legendgroup\":\"France\",\"marker\":{\"color\":\"#FECB52\",\"symbol\":\"circle\"},\"mode\":\"markers\",\"name\":\"France\",\"orientation\":\"v\",\"showlegend\":false,\"x\":[25055.2],\"xaxis\":\"x7\",\"y\":[3596.84],\"yaxis\":\"y7\",\"type\":\"scatter\"},{\"hovertemplate\":\"<b>%{hovertext}</b><br><br>Country=France<br>Year=2018<br>Milk=%{x}<br>Cows=%{y}<extra></extra>\",\"hovertext\":[\"France\"],\"ids\":[2018],\"legendgroup\":\"France\",\"marker\":{\"color\":\"#FECB52\",\"symbol\":\"circle\"},\"mode\":\"markers\",\"name\":\"France\",\"orientation\":\"v\",\"showlegend\":false,\"x\":[25055.1],\"xaxis\":\"x8\",\"y\":[3554.23],\"yaxis\":\"y8\",\"type\":\"scatter\"},{\"hovertemplate\":\"<b>%{hovertext}</b><br><br>Country=France<br>Year=2019<br>Milk=%{x}<br>Cows=%{y}<extra></extra>\",\"hovertext\":[\"France\"],\"ids\":[2019],\"legendgroup\":\"France\",\"marker\":{\"color\":\"#FECB52\",\"symbol\":\"circle\"},\"mode\":\"markers\",\"name\":\"France\",\"orientation\":\"v\",\"showlegend\":false,\"x\":[25062.0],\"xaxis\":\"x9\",\"y\":[3490.81],\"yaxis\":\"y9\",\"type\":\"scatter\"},{\"hovertemplate\":\"<b>%{hovertext}</b><br><br>Country=France<br>Year=2020<br>Milk=%{x}<br>Cows=%{y}<extra></extra>\",\"hovertext\":[\"France\"],\"ids\":[2020],\"legendgroup\":\"France\",\"marker\":{\"color\":\"#FECB52\",\"symbol\":\"circle\"},\"mode\":\"markers\",\"name\":\"France\",\"orientation\":\"v\",\"showlegend\":false,\"x\":[25234.84],\"xaxis\":\"x10\",\"y\":[3405.68],\"yaxis\":\"y10\",\"type\":\"scatter\"},{\"hovertemplate\":\"<b>%{hovertext}</b><br><br>Country=France<br>Year=2021<br>Milk=%{x}<br>Cows=%{y}<extra></extra>\",\"hovertext\":[\"France\"],\"ids\":[2021],\"legendgroup\":\"France\",\"marker\":{\"color\":\"#FECB52\",\"symbol\":\"circle\"},\"mode\":\"markers\",\"name\":\"France\",\"orientation\":\"v\",\"showlegend\":false,\"x\":[24778.84],\"xaxis\":\"x11\",\"y\":[3322.03],\"yaxis\":\"y11\",\"type\":\"scatter\"}],\"name\":\"France\"},{\"data\":[{\"hovertemplate\":\"<b>%{hovertext}</b><br><br>Country=Croatia<br>Year=2011<br>Milk=%{x}<br>Cows=%{y}<extra></extra>\",\"hovertext\":[\"Croatia\"],\"ids\":[2011],\"legendgroup\":\"Croatia\",\"marker\":{\"color\":\"#636efa\",\"symbol\":\"circle\"},\"mode\":\"markers\",\"name\":\"Croatia\",\"orientation\":\"v\",\"showlegend\":true,\"x\":[804.0],\"xaxis\":\"x\",\"y\":[184.7],\"yaxis\":\"y\",\"type\":\"scatter\"},{\"hovertemplate\":\"<b>%{hovertext}</b><br><br>Country=Croatia<br>Year=2012<br>Milk=%{x}<br>Cows=%{y}<extra></extra>\",\"hovertext\":[\"Croatia\"],\"ids\":[2012],\"legendgroup\":\"Croatia\",\"marker\":{\"color\":\"#636efa\",\"symbol\":\"circle\"},\"mode\":\"markers\",\"name\":\"Croatia\",\"orientation\":\"v\",\"showlegend\":false,\"x\":[810.0],\"xaxis\":\"x2\",\"y\":[181.0],\"yaxis\":\"y2\",\"type\":\"scatter\"},{\"hovertemplate\":\"<b>%{hovertext}</b><br><br>Country=Croatia<br>Year=2013<br>Milk=%{x}<br>Cows=%{y}<extra></extra>\",\"hovertext\":[\"Croatia\"],\"ids\":[2013],\"legendgroup\":\"Croatia\",\"marker\":{\"color\":\"#636efa\",\"symbol\":\"circle\"},\"mode\":\"markers\",\"name\":\"Croatia\",\"orientation\":\"v\",\"showlegend\":false,\"x\":[717.0],\"xaxis\":\"x3\",\"y\":[168.0],\"yaxis\":\"y3\",\"type\":\"scatter\"},{\"hovertemplate\":\"<b>%{hovertext}</b><br><br>Country=Croatia<br>Year=2014<br>Milk=%{x}<br>Cows=%{y}<extra></extra>\",\"hovertext\":[\"Croatia\"],\"ids\":[2014],\"legendgroup\":\"Croatia\",\"marker\":{\"color\":\"#636efa\",\"symbol\":\"circle\"},\"mode\":\"markers\",\"name\":\"Croatia\",\"orientation\":\"v\",\"showlegend\":false,\"x\":[712.0],\"xaxis\":\"x4\",\"y\":[159.0],\"yaxis\":\"y4\",\"type\":\"scatter\"},{\"hovertemplate\":\"<b>%{hovertext}</b><br><br>Country=Croatia<br>Year=2015<br>Milk=%{x}<br>Cows=%{y}<extra></extra>\",\"hovertext\":[\"Croatia\"],\"ids\":[2015],\"legendgroup\":\"Croatia\",\"marker\":{\"color\":\"#636efa\",\"symbol\":\"circle\"},\"mode\":\"markers\",\"name\":\"Croatia\",\"orientation\":\"v\",\"showlegend\":false,\"x\":[694.0],\"xaxis\":\"x5\",\"y\":[152.0],\"yaxis\":\"y5\",\"type\":\"scatter\"},{\"hovertemplate\":\"<b>%{hovertext}</b><br><br>Country=Croatia<br>Year=2016<br>Milk=%{x}<br>Cows=%{y}<extra></extra>\",\"hovertext\":[\"Croatia\"],\"ids\":[2016],\"legendgroup\":\"Croatia\",\"marker\":{\"color\":\"#636efa\",\"symbol\":\"circle\"},\"mode\":\"markers\",\"name\":\"Croatia\",\"orientation\":\"v\",\"showlegend\":false,\"x\":[671.0],\"xaxis\":\"x6\",\"y\":[147.0],\"yaxis\":\"y6\",\"type\":\"scatter\"},{\"hovertemplate\":\"<b>%{hovertext}</b><br><br>Country=Croatia<br>Year=2017<br>Milk=%{x}<br>Cows=%{y}<extra></extra>\",\"hovertext\":[\"Croatia\"],\"ids\":[2017],\"legendgroup\":\"Croatia\",\"marker\":{\"color\":\"#636efa\",\"symbol\":\"circle\"},\"mode\":\"markers\",\"name\":\"Croatia\",\"orientation\":\"v\",\"showlegend\":false,\"x\":[648.0],\"xaxis\":\"x7\",\"y\":[139.0],\"yaxis\":\"y7\",\"type\":\"scatter\"},{\"hovertemplate\":\"<b>%{hovertext}</b><br><br>Country=Croatia<br>Year=2018<br>Milk=%{x}<br>Cows=%{y}<extra></extra>\",\"hovertext\":[\"Croatia\"],\"ids\":[2018],\"legendgroup\":\"Croatia\",\"marker\":{\"color\":\"#636efa\",\"symbol\":\"circle\"},\"mode\":\"markers\",\"name\":\"Croatia\",\"orientation\":\"v\",\"showlegend\":false,\"x\":[618.0],\"xaxis\":\"x8\",\"y\":[136.0],\"yaxis\":\"y8\",\"type\":\"scatter\"},{\"hovertemplate\":\"<b>%{hovertext}</b><br><br>Country=Croatia<br>Year=2019<br>Milk=%{x}<br>Cows=%{y}<extra></extra>\",\"hovertext\":[\"Croatia\"],\"ids\":[2019],\"legendgroup\":\"Croatia\",\"marker\":{\"color\":\"#636efa\",\"symbol\":\"circle\"},\"mode\":\"markers\",\"name\":\"Croatia\",\"orientation\":\"v\",\"showlegend\":false,\"x\":[599.0],\"xaxis\":\"x9\",\"y\":[130.0],\"yaxis\":\"y9\",\"type\":\"scatter\"},{\"hovertemplate\":\"<b>%{hovertext}</b><br><br>Country=Croatia<br>Year=2020<br>Milk=%{x}<br>Cows=%{y}<extra></extra>\",\"hovertext\":[\"Croatia\"],\"ids\":[2020],\"legendgroup\":\"Croatia\",\"marker\":{\"color\":\"#636efa\",\"symbol\":\"circle\"},\"mode\":\"markers\",\"name\":\"Croatia\",\"orientation\":\"v\",\"showlegend\":false,\"x\":[596.0],\"xaxis\":\"x10\",\"y\":[110.0],\"yaxis\":\"y10\",\"type\":\"scatter\"},{\"hovertemplate\":\"<b>%{hovertext}</b><br><br>Country=Croatia<br>Year=2021<br>Milk=%{x}<br>Cows=%{y}<extra></extra>\",\"hovertext\":[\"Croatia\"],\"ids\":[2021],\"legendgroup\":\"Croatia\",\"marker\":{\"color\":\"#636efa\",\"symbol\":\"circle\"},\"mode\":\"markers\",\"name\":\"Croatia\",\"orientation\":\"v\",\"showlegend\":false,\"x\":[558.0],\"xaxis\":\"x11\",\"y\":[102.0],\"yaxis\":\"y11\",\"type\":\"scatter\"}],\"name\":\"Croatia\"},{\"data\":[{\"hovertemplate\":\"<b>%{hovertext}</b><br><br>Country=Italy<br>Year=2011<br>Milk=%{x}<br>Cows=%{y}<extra></extra>\",\"hovertext\":[\"Italy\"],\"ids\":[2011],\"legendgroup\":\"Italy\",\"marker\":{\"color\":\"#EF553B\",\"symbol\":\"circle\"},\"mode\":\"markers\",\"name\":\"Italy\",\"orientation\":\"v\",\"showlegend\":true,\"x\":[11298.61],\"xaxis\":\"x\",\"y\":[1754.98],\"yaxis\":\"y\",\"type\":\"scatter\"},{\"hovertemplate\":\"<b>%{hovertext}</b><br><br>Country=Italy<br>Year=2012<br>Milk=%{x}<br>Cows=%{y}<extra></extra>\",\"hovertext\":[\"Italy\"],\"ids\":[2012],\"legendgroup\":\"Italy\",\"marker\":{\"color\":\"#EF553B\",\"symbol\":\"circle\"},\"mode\":\"markers\",\"name\":\"Italy\",\"orientation\":\"v\",\"showlegend\":false,\"x\":[11500.0],\"xaxis\":\"x2\",\"y\":[2009.07],\"yaxis\":\"y2\",\"type\":\"scatter\"},{\"hovertemplate\":\"<b>%{hovertext}</b><br><br>Country=Italy<br>Year=2013<br>Milk=%{x}<br>Cows=%{y}<extra></extra>\",\"hovertext\":[\"Italy\"],\"ids\":[2013],\"legendgroup\":\"Italy\",\"marker\":{\"color\":\"#EF553B\",\"symbol\":\"circle\"},\"mode\":\"markers\",\"name\":\"Italy\",\"orientation\":\"v\",\"showlegend\":false,\"x\":[11281.26],\"xaxis\":\"x3\",\"y\":[2074.54],\"yaxis\":\"y3\",\"type\":\"scatter\"},{\"hovertemplate\":\"<b>%{hovertext}</b><br><br>Country=Italy<br>Year=2014<br>Milk=%{x}<br>Cows=%{y}<extra></extra>\",\"hovertext\":[\"Italy\"],\"ids\":[2014],\"legendgroup\":\"Italy\",\"marker\":{\"color\":\"#EF553B\",\"symbol\":\"circle\"},\"mode\":\"markers\",\"name\":\"Italy\",\"orientation\":\"v\",\"showlegend\":false,\"x\":[11500.0],\"xaxis\":\"x4\",\"y\":[2069.39],\"yaxis\":\"y4\",\"type\":\"scatter\"},{\"hovertemplate\":\"<b>%{hovertext}</b><br><br>Country=Italy<br>Year=2015<br>Milk=%{x}<br>Cows=%{y}<extra></extra>\",\"hovertext\":[\"Italy\"],\"ids\":[2015],\"legendgroup\":\"Italy\",\"marker\":{\"color\":\"#EF553B\",\"symbol\":\"circle\"},\"mode\":\"markers\",\"name\":\"Italy\",\"orientation\":\"v\",\"showlegend\":false,\"x\":[11425.94],\"xaxis\":\"x5\",\"y\":[2056.81],\"yaxis\":\"y5\",\"type\":\"scatter\"},{\"hovertemplate\":\"<b>%{hovertext}</b><br><br>Country=Italy<br>Year=2016<br>Milk=%{x}<br>Cows=%{y}<extra></extra>\",\"hovertext\":[\"Italy\"],\"ids\":[2016],\"legendgroup\":\"Italy\",\"marker\":{\"color\":\"#EF553B\",\"symbol\":\"circle\"},\"mode\":\"markers\",\"name\":\"Italy\",\"orientation\":\"v\",\"showlegend\":false,\"x\":[11886.04],\"xaxis\":\"x6\",\"y\":[2060.47],\"yaxis\":\"y6\",\"type\":\"scatter\"},{\"hovertemplate\":\"<b>%{hovertext}</b><br><br>Country=Italy<br>Year=2017<br>Milk=%{x}<br>Cows=%{y}<extra></extra>\",\"hovertext\":[\"Italy\"],\"ids\":[2017],\"legendgroup\":\"Italy\",\"marker\":{\"color\":\"#EF553B\",\"symbol\":\"circle\"},\"mode\":\"markers\",\"name\":\"Italy\",\"orientation\":\"v\",\"showlegend\":false,\"x\":[12198.88],\"xaxis\":\"x7\",\"y\":[2040.11],\"yaxis\":\"y7\",\"type\":\"scatter\"},{\"hovertemplate\":\"<b>%{hovertext}</b><br><br>Country=Italy<br>Year=2018<br>Milk=%{x}<br>Cows=%{y}<extra></extra>\",\"hovertext\":[\"Italy\"],\"ids\":[2018],\"legendgroup\":\"Italy\",\"marker\":{\"color\":\"#EF553B\",\"symbol\":\"circle\"},\"mode\":\"markers\",\"name\":\"Italy\",\"orientation\":\"v\",\"showlegend\":false,\"x\":[12339.75],\"xaxis\":\"x8\",\"y\":[1939.48],\"yaxis\":\"y8\",\"type\":\"scatter\"},{\"hovertemplate\":\"<b>%{hovertext}</b><br><br>Country=Italy<br>Year=2019<br>Milk=%{x}<br>Cows=%{y}<extra></extra>\",\"hovertext\":[\"Italy\"],\"ids\":[2019],\"legendgroup\":\"Italy\",\"marker\":{\"color\":\"#EF553B\",\"symbol\":\"circle\"},\"mode\":\"markers\",\"name\":\"Italy\",\"orientation\":\"v\",\"showlegend\":false,\"x\":[12494.4],\"xaxis\":\"x9\",\"y\":[1875.72],\"yaxis\":\"y9\",\"type\":\"scatter\"},{\"hovertemplate\":\"<b>%{hovertext}</b><br><br>Country=Italy<br>Year=2020<br>Milk=%{x}<br>Cows=%{y}<extra></extra>\",\"hovertext\":[\"Italy\"],\"ids\":[2020],\"legendgroup\":\"Italy\",\"marker\":{\"color\":\"#EF553B\",\"symbol\":\"circle\"},\"mode\":\"markers\",\"name\":\"Italy\",\"orientation\":\"v\",\"showlegend\":false,\"x\":[12712.48],\"xaxis\":\"x10\",\"y\":[1871.27],\"yaxis\":\"y10\",\"type\":\"scatter\"},{\"hovertemplate\":\"<b>%{hovertext}</b><br><br>Country=Italy<br>Year=2021<br>Milk=%{x}<br>Cows=%{y}<extra></extra>\",\"hovertext\":[\"Italy\"],\"ids\":[2021],\"legendgroup\":\"Italy\",\"marker\":{\"color\":\"#EF553B\",\"symbol\":\"circle\"},\"mode\":\"markers\",\"name\":\"Italy\",\"orientation\":\"v\",\"showlegend\":false,\"x\":[13202.45],\"xaxis\":\"x11\",\"y\":[1844.37],\"yaxis\":\"y11\",\"type\":\"scatter\"}],\"name\":\"Italy\"},{\"data\":[{\"hovertemplate\":\"<b>%{hovertext}</b><br><br>Country=Cyprus<br>Year=2011<br>Milk=%{x}<br>Cows=%{y}<extra></extra>\",\"hovertext\":[\"Cyprus\"],\"ids\":[2011],\"legendgroup\":\"Cyprus\",\"marker\":{\"color\":\"#00cc96\",\"symbol\":\"circle\"},\"mode\":\"markers\",\"name\":\"Cyprus\",\"orientation\":\"v\",\"showlegend\":true,\"x\":[156.02],\"xaxis\":\"x\",\"y\":[24.07],\"yaxis\":\"y\",\"type\":\"scatter\"},{\"hovertemplate\":\"<b>%{hovertext}</b><br><br>Country=Cyprus<br>Year=2012<br>Milk=%{x}<br>Cows=%{y}<extra></extra>\",\"hovertext\":[\"Cyprus\"],\"ids\":[2012],\"legendgroup\":\"Cyprus\",\"marker\":{\"color\":\"#00cc96\",\"symbol\":\"circle\"},\"mode\":\"markers\",\"name\":\"Cyprus\",\"orientation\":\"v\",\"showlegend\":false,\"x\":[153.74],\"xaxis\":\"x2\",\"y\":[24.2],\"yaxis\":\"y2\",\"type\":\"scatter\"},{\"hovertemplate\":\"<b>%{hovertext}</b><br><br>Country=Cyprus<br>Year=2013<br>Milk=%{x}<br>Cows=%{y}<extra></extra>\",\"hovertext\":[\"Cyprus\"],\"ids\":[2013],\"legendgroup\":\"Cyprus\",\"marker\":{\"color\":\"#00cc96\",\"symbol\":\"circle\"},\"mode\":\"markers\",\"name\":\"Cyprus\",\"orientation\":\"v\",\"showlegend\":false,\"x\":[163.27],\"xaxis\":\"x3\",\"y\":[24.55],\"yaxis\":\"y3\",\"type\":\"scatter\"},{\"hovertemplate\":\"<b>%{hovertext}</b><br><br>Country=Cyprus<br>Year=2014<br>Milk=%{x}<br>Cows=%{y}<extra></extra>\",\"hovertext\":[\"Cyprus\"],\"ids\":[2014],\"legendgroup\":\"Cyprus\",\"marker\":{\"color\":\"#00cc96\",\"symbol\":\"circle\"},\"mode\":\"markers\",\"name\":\"Cyprus\",\"orientation\":\"v\",\"showlegend\":false,\"x\":[164.64],\"xaxis\":\"x4\",\"y\":[25.33],\"yaxis\":\"y4\",\"type\":\"scatter\"},{\"hovertemplate\":\"<b>%{hovertext}</b><br><br>Country=Cyprus<br>Year=2015<br>Milk=%{x}<br>Cows=%{y}<extra></extra>\",\"hovertext\":[\"Cyprus\"],\"ids\":[2015],\"legendgroup\":\"Cyprus\",\"marker\":{\"color\":\"#00cc96\",\"symbol\":\"circle\"},\"mode\":\"markers\",\"name\":\"Cyprus\",\"orientation\":\"v\",\"showlegend\":false,\"x\":[165.3],\"xaxis\":\"x5\",\"y\":[26.19],\"yaxis\":\"y5\",\"type\":\"scatter\"},{\"hovertemplate\":\"<b>%{hovertext}</b><br><br>Country=Cyprus<br>Year=2016<br>Milk=%{x}<br>Cows=%{y}<extra></extra>\",\"hovertext\":[\"Cyprus\"],\"ids\":[2016],\"legendgroup\":\"Cyprus\",\"marker\":{\"color\":\"#00cc96\",\"symbol\":\"circle\"},\"mode\":\"markers\",\"name\":\"Cyprus\",\"orientation\":\"v\",\"showlegend\":false,\"x\":[186.02],\"xaxis\":\"x6\",\"y\":[28.46],\"yaxis\":\"y6\",\"type\":\"scatter\"},{\"hovertemplate\":\"<b>%{hovertext}</b><br><br>Country=Cyprus<br>Year=2017<br>Milk=%{x}<br>Cows=%{y}<extra></extra>\",\"hovertext\":[\"Cyprus\"],\"ids\":[2017],\"legendgroup\":\"Cyprus\",\"marker\":{\"color\":\"#00cc96\",\"symbol\":\"circle\"},\"mode\":\"markers\",\"name\":\"Cyprus\",\"orientation\":\"v\",\"showlegend\":false,\"x\":[216.39],\"xaxis\":\"x7\",\"y\":[30.16],\"yaxis\":\"y7\",\"type\":\"scatter\"},{\"hovertemplate\":\"<b>%{hovertext}</b><br><br>Country=Cyprus<br>Year=2018<br>Milk=%{x}<br>Cows=%{y}<extra></extra>\",\"hovertext\":[\"Cyprus\"],\"ids\":[2018],\"legendgroup\":\"Cyprus\",\"marker\":{\"color\":\"#00cc96\",\"symbol\":\"circle\"},\"mode\":\"markers\",\"name\":\"Cyprus\",\"orientation\":\"v\",\"showlegend\":false,\"x\":[228.08],\"xaxis\":\"x8\",\"y\":[31.88],\"yaxis\":\"y8\",\"type\":\"scatter\"},{\"hovertemplate\":\"<b>%{hovertext}</b><br><br>Country=Cyprus<br>Year=2019<br>Milk=%{x}<br>Cows=%{y}<extra></extra>\",\"hovertext\":[\"Cyprus\"],\"ids\":[2019],\"legendgroup\":\"Cyprus\",\"marker\":{\"color\":\"#00cc96\",\"symbol\":\"circle\"},\"mode\":\"markers\",\"name\":\"Cyprus\",\"orientation\":\"v\",\"showlegend\":false,\"x\":[238.76],\"xaxis\":\"x9\",\"y\":[35.02],\"yaxis\":\"y9\",\"type\":\"scatter\"},{\"hovertemplate\":\"<b>%{hovertext}</b><br><br>Country=Cyprus<br>Year=2020<br>Milk=%{x}<br>Cows=%{y}<extra></extra>\",\"hovertext\":[\"Cyprus\"],\"ids\":[2020],\"legendgroup\":\"Cyprus\",\"marker\":{\"color\":\"#00cc96\",\"symbol\":\"circle\"},\"mode\":\"markers\",\"name\":\"Cyprus\",\"orientation\":\"v\",\"showlegend\":false,\"x\":[275.16],\"xaxis\":\"x10\",\"y\":[39.49],\"yaxis\":\"y10\",\"type\":\"scatter\"},{\"hovertemplate\":\"<b>%{hovertext}</b><br><br>Country=Cyprus<br>Year=2021<br>Milk=%{x}<br>Cows=%{y}<extra></extra>\",\"hovertext\":[\"Cyprus\"],\"ids\":[2021],\"legendgroup\":\"Cyprus\",\"marker\":{\"color\":\"#00cc96\",\"symbol\":\"circle\"},\"mode\":\"markers\",\"name\":\"Cyprus\",\"orientation\":\"v\",\"showlegend\":false,\"x\":[298.14],\"xaxis\":\"x11\",\"y\":[38.92],\"yaxis\":\"y11\",\"type\":\"scatter\"}],\"name\":\"Cyprus\"},{\"data\":[{\"hovertemplate\":\"<b>%{hovertext}</b><br><br>Country=Latvia<br>Year=2011<br>Milk=%{x}<br>Cows=%{y}<extra></extra>\",\"hovertext\":[\"Latvia\"],\"ids\":[2011],\"legendgroup\":\"Latvia\",\"marker\":{\"color\":\"#ab63fa\",\"symbol\":\"circle\"},\"mode\":\"markers\",\"name\":\"Latvia\",\"orientation\":\"v\",\"showlegend\":true,\"x\":[841.7],\"xaxis\":\"x\",\"y\":[164.1],\"yaxis\":\"y\",\"type\":\"scatter\"},{\"hovertemplate\":\"<b>%{hovertext}</b><br><br>Country=Latvia<br>Year=2012<br>Milk=%{x}<br>Cows=%{y}<extra></extra>\",\"hovertext\":[\"Latvia\"],\"ids\":[2012],\"legendgroup\":\"Latvia\",\"marker\":{\"color\":\"#ab63fa\",\"symbol\":\"circle\"},\"mode\":\"markers\",\"name\":\"Latvia\",\"orientation\":\"v\",\"showlegend\":false,\"x\":[870.6],\"xaxis\":\"x2\",\"y\":[164.56],\"yaxis\":\"y2\",\"type\":\"scatter\"},{\"hovertemplate\":\"<b>%{hovertext}</b><br><br>Country=Latvia<br>Year=2013<br>Milk=%{x}<br>Cows=%{y}<extra></extra>\",\"hovertext\":[\"Latvia\"],\"ids\":[2013],\"legendgroup\":\"Latvia\",\"marker\":{\"color\":\"#ab63fa\",\"symbol\":\"circle\"},\"mode\":\"markers\",\"name\":\"Latvia\",\"orientation\":\"v\",\"showlegend\":false,\"x\":[912.0],\"xaxis\":\"x3\",\"y\":[165.01],\"yaxis\":\"y3\",\"type\":\"scatter\"},{\"hovertemplate\":\"<b>%{hovertext}</b><br><br>Country=Latvia<br>Year=2014<br>Milk=%{x}<br>Cows=%{y}<extra></extra>\",\"hovertext\":[\"Latvia\"],\"ids\":[2014],\"legendgroup\":\"Latvia\",\"marker\":{\"color\":\"#ab63fa\",\"symbol\":\"circle\"},\"mode\":\"markers\",\"name\":\"Latvia\",\"orientation\":\"v\",\"showlegend\":false,\"x\":[968.9],\"xaxis\":\"x4\",\"y\":[165.87],\"yaxis\":\"y4\",\"type\":\"scatter\"},{\"hovertemplate\":\"<b>%{hovertext}</b><br><br>Country=Latvia<br>Year=2015<br>Milk=%{x}<br>Cows=%{y}<extra></extra>\",\"hovertext\":[\"Latvia\"],\"ids\":[2015],\"legendgroup\":\"Latvia\",\"marker\":{\"color\":\"#ab63fa\",\"symbol\":\"circle\"},\"mode\":\"markers\",\"name\":\"Latvia\",\"orientation\":\"v\",\"showlegend\":false,\"x\":[975.4],\"xaxis\":\"x5\",\"y\":[162.41],\"yaxis\":\"y5\",\"type\":\"scatter\"},{\"hovertemplate\":\"<b>%{hovertext}</b><br><br>Country=Latvia<br>Year=2016<br>Milk=%{x}<br>Cows=%{y}<extra></extra>\",\"hovertext\":[\"Latvia\"],\"ids\":[2016],\"legendgroup\":\"Latvia\",\"marker\":{\"color\":\"#ab63fa\",\"symbol\":\"circle\"},\"mode\":\"markers\",\"name\":\"Latvia\",\"orientation\":\"v\",\"showlegend\":false,\"x\":[983.5],\"xaxis\":\"x6\",\"y\":[154.02],\"yaxis\":\"y6\",\"type\":\"scatter\"},{\"hovertemplate\":\"<b>%{hovertext}</b><br><br>Country=Latvia<br>Year=2017<br>Milk=%{x}<br>Cows=%{y}<extra></extra>\",\"hovertext\":[\"Latvia\"],\"ids\":[2017],\"legendgroup\":\"Latvia\",\"marker\":{\"color\":\"#ab63fa\",\"symbol\":\"circle\"},\"mode\":\"markers\",\"name\":\"Latvia\",\"orientation\":\"v\",\"showlegend\":false,\"x\":[998.0],\"xaxis\":\"x7\",\"y\":[150.36],\"yaxis\":\"y7\",\"type\":\"scatter\"},{\"hovertemplate\":\"<b>%{hovertext}</b><br><br>Country=Latvia<br>Year=2018<br>Milk=%{x}<br>Cows=%{y}<extra></extra>\",\"hovertext\":[\"Latvia\"],\"ids\":[2018],\"legendgroup\":\"Latvia\",\"marker\":{\"color\":\"#ab63fa\",\"symbol\":\"circle\"},\"mode\":\"markers\",\"name\":\"Latvia\",\"orientation\":\"v\",\"showlegend\":false,\"x\":[980.2],\"xaxis\":\"x8\",\"y\":[144.47],\"yaxis\":\"y8\",\"type\":\"scatter\"},{\"hovertemplate\":\"<b>%{hovertext}</b><br><br>Country=Latvia<br>Year=2019<br>Milk=%{x}<br>Cows=%{y}<extra></extra>\",\"hovertext\":[\"Latvia\"],\"ids\":[2019],\"legendgroup\":\"Latvia\",\"marker\":{\"color\":\"#ab63fa\",\"symbol\":\"circle\"},\"mode\":\"markers\",\"name\":\"Latvia\",\"orientation\":\"v\",\"showlegend\":false,\"x\":[978.9],\"xaxis\":\"x9\",\"y\":[138.41],\"yaxis\":\"y9\",\"type\":\"scatter\"},{\"hovertemplate\":\"<b>%{hovertext}</b><br><br>Country=Latvia<br>Year=2020<br>Milk=%{x}<br>Cows=%{y}<extra></extra>\",\"hovertext\":[\"Latvia\"],\"ids\":[2020],\"legendgroup\":\"Latvia\",\"marker\":{\"color\":\"#ab63fa\",\"symbol\":\"circle\"},\"mode\":\"markers\",\"name\":\"Latvia\",\"orientation\":\"v\",\"showlegend\":false,\"x\":[988.2],\"xaxis\":\"x10\",\"y\":[136.04],\"yaxis\":\"y10\",\"type\":\"scatter\"},{\"hovertemplate\":\"<b>%{hovertext}</b><br><br>Country=Latvia<br>Year=2021<br>Milk=%{x}<br>Cows=%{y}<extra></extra>\",\"hovertext\":[\"Latvia\"],\"ids\":[2021],\"legendgroup\":\"Latvia\",\"marker\":{\"color\":\"#ab63fa\",\"symbol\":\"circle\"},\"mode\":\"markers\",\"name\":\"Latvia\",\"orientation\":\"v\",\"showlegend\":false,\"x\":[990.31],\"xaxis\":\"x11\",\"y\":[131.2],\"yaxis\":\"y11\",\"type\":\"scatter\"}],\"name\":\"Latvia\"},{\"data\":[{\"hovertemplate\":\"<b>%{hovertext}</b><br><br>Country=Lithuania<br>Year=2011<br>Milk=%{x}<br>Cows=%{y}<extra></extra>\",\"hovertext\":[\"Lithuania\"],\"ids\":[2011],\"legendgroup\":\"Lithuania\",\"marker\":{\"color\":\"#FFA15A\",\"symbol\":\"circle\"},\"mode\":\"markers\",\"name\":\"Lithuania\",\"orientation\":\"v\",\"showlegend\":true,\"x\":[1782.32],\"xaxis\":\"x\",\"y\":[349.5],\"yaxis\":\"y\",\"type\":\"scatter\"},{\"hovertemplate\":\"<b>%{hovertext}</b><br><br>Country=Lithuania<br>Year=2012<br>Milk=%{x}<br>Cows=%{y}<extra></extra>\",\"hovertext\":[\"Lithuania\"],\"ids\":[2012],\"legendgroup\":\"Lithuania\",\"marker\":{\"color\":\"#FFA15A\",\"symbol\":\"circle\"},\"mode\":\"markers\",\"name\":\"Lithuania\",\"orientation\":\"v\",\"showlegend\":false,\"x\":[1774.53],\"xaxis\":\"x2\",\"y\":[331.0],\"yaxis\":\"y2\",\"type\":\"scatter\"},{\"hovertemplate\":\"<b>%{hovertext}</b><br><br>Country=Lithuania<br>Year=2013<br>Milk=%{x}<br>Cows=%{y}<extra></extra>\",\"hovertext\":[\"Lithuania\"],\"ids\":[2013],\"legendgroup\":\"Lithuania\",\"marker\":{\"color\":\"#FFA15A\",\"symbol\":\"circle\"},\"mode\":\"markers\",\"name\":\"Lithuania\",\"orientation\":\"v\",\"showlegend\":false,\"x\":[1719.51],\"xaxis\":\"x3\",\"y\":[315.7],\"yaxis\":\"y3\",\"type\":\"scatter\"},{\"hovertemplate\":\"<b>%{hovertext}</b><br><br>Country=Lithuania<br>Year=2014<br>Milk=%{x}<br>Cows=%{y}<extra></extra>\",\"hovertext\":[\"Lithuania\"],\"ids\":[2014],\"legendgroup\":\"Lithuania\",\"marker\":{\"color\":\"#FFA15A\",\"symbol\":\"circle\"},\"mode\":\"markers\",\"name\":\"Lithuania\",\"orientation\":\"v\",\"showlegend\":false,\"x\":[1791.13],\"xaxis\":\"x4\",\"y\":[314.0],\"yaxis\":\"y4\",\"type\":\"scatter\"},{\"hovertemplate\":\"<b>%{hovertext}</b><br><br>Country=Lithuania<br>Year=2015<br>Milk=%{x}<br>Cows=%{y}<extra></extra>\",\"hovertext\":[\"Lithuania\"],\"ids\":[2015],\"legendgroup\":\"Lithuania\",\"marker\":{\"color\":\"#FFA15A\",\"symbol\":\"circle\"},\"mode\":\"markers\",\"name\":\"Lithuania\",\"orientation\":\"v\",\"showlegend\":false,\"x\":[1734.73],\"xaxis\":\"x5\",\"y\":[300.5],\"yaxis\":\"y5\",\"type\":\"scatter\"},{\"hovertemplate\":\"<b>%{hovertext}</b><br><br>Country=Lithuania<br>Year=2016<br>Milk=%{x}<br>Cows=%{y}<extra></extra>\",\"hovertext\":[\"Lithuania\"],\"ids\":[2016],\"legendgroup\":\"Lithuania\",\"marker\":{\"color\":\"#FFA15A\",\"symbol\":\"circle\"},\"mode\":\"markers\",\"name\":\"Lithuania\",\"orientation\":\"v\",\"showlegend\":false,\"x\":[1623.87],\"xaxis\":\"x6\",\"y\":[285.8],\"yaxis\":\"y6\",\"type\":\"scatter\"},{\"hovertemplate\":\"<b>%{hovertext}</b><br><br>Country=Lithuania<br>Year=2017<br>Milk=%{x}<br>Cows=%{y}<extra></extra>\",\"hovertext\":[\"Lithuania\"],\"ids\":[2017],\"legendgroup\":\"Lithuania\",\"marker\":{\"color\":\"#FFA15A\",\"symbol\":\"circle\"},\"mode\":\"markers\",\"name\":\"Lithuania\",\"orientation\":\"v\",\"showlegend\":false,\"x\":[1566.65],\"xaxis\":\"x7\",\"y\":[272.8],\"yaxis\":\"y7\",\"type\":\"scatter\"},{\"hovertemplate\":\"<b>%{hovertext}</b><br><br>Country=Lithuania<br>Year=2018<br>Milk=%{x}<br>Cows=%{y}<extra></extra>\",\"hovertext\":[\"Lithuania\"],\"ids\":[2018],\"legendgroup\":\"Lithuania\",\"marker\":{\"color\":\"#FFA15A\",\"symbol\":\"circle\"},\"mode\":\"markers\",\"name\":\"Lithuania\",\"orientation\":\"v\",\"showlegend\":false,\"x\":[1568.01],\"xaxis\":\"x8\",\"y\":[256.2],\"yaxis\":\"y8\",\"type\":\"scatter\"},{\"hovertemplate\":\"<b>%{hovertext}</b><br><br>Country=Lithuania<br>Year=2019<br>Milk=%{x}<br>Cows=%{y}<extra></extra>\",\"hovertext\":[\"Lithuania\"],\"ids\":[2019],\"legendgroup\":\"Lithuania\",\"marker\":{\"color\":\"#FFA15A\",\"symbol\":\"circle\"},\"mode\":\"markers\",\"name\":\"Lithuania\",\"orientation\":\"v\",\"showlegend\":false,\"x\":[1547.43],\"xaxis\":\"x9\",\"y\":[240.9],\"yaxis\":\"y9\",\"type\":\"scatter\"},{\"hovertemplate\":\"<b>%{hovertext}</b><br><br>Country=Lithuania<br>Year=2020<br>Milk=%{x}<br>Cows=%{y}<extra></extra>\",\"hovertext\":[\"Lithuania\"],\"ids\":[2020],\"legendgroup\":\"Lithuania\",\"marker\":{\"color\":\"#FFA15A\",\"symbol\":\"circle\"},\"mode\":\"markers\",\"name\":\"Lithuania\",\"orientation\":\"v\",\"showlegend\":false,\"x\":[1488.0],\"xaxis\":\"x10\",\"y\":[232.9],\"yaxis\":\"y10\",\"type\":\"scatter\"},{\"hovertemplate\":\"<b>%{hovertext}</b><br><br>Country=Lithuania<br>Year=2021<br>Milk=%{x}<br>Cows=%{y}<extra></extra>\",\"hovertext\":[\"Lithuania\"],\"ids\":[2021],\"legendgroup\":\"Lithuania\",\"marker\":{\"color\":\"#FFA15A\",\"symbol\":\"circle\"},\"mode\":\"markers\",\"name\":\"Lithuania\",\"orientation\":\"v\",\"showlegend\":false,\"x\":[1473.28],\"xaxis\":\"x11\",\"y\":[225.2],\"yaxis\":\"y11\",\"type\":\"scatter\"}],\"name\":\"Lithuania\"},{\"data\":[{\"hovertemplate\":\"<b>%{hovertext}</b><br><br>Country=Luxembourg<br>Year=2011<br>Milk=%{x}<br>Cows=%{y}<extra></extra>\",\"hovertext\":[\"Luxembourg\"],\"ids\":[2011],\"legendgroup\":\"Luxembourg\",\"marker\":{\"color\":\"#19d3f3\",\"symbol\":\"circle\"},\"mode\":\"markers\",\"name\":\"Luxembourg\",\"orientation\":\"v\",\"showlegend\":true,\"x\":[292.25],\"xaxis\":\"x\",\"y\":[44.48],\"yaxis\":\"y\",\"type\":\"scatter\"},{\"hovertemplate\":\"<b>%{hovertext}</b><br><br>Country=Luxembourg<br>Year=2012<br>Milk=%{x}<br>Cows=%{y}<extra></extra>\",\"hovertext\":[\"Luxembourg\"],\"ids\":[2012],\"legendgroup\":\"Luxembourg\",\"marker\":{\"color\":\"#19d3f3\",\"symbol\":\"circle\"},\"mode\":\"markers\",\"name\":\"Luxembourg\",\"orientation\":\"v\",\"showlegend\":false,\"x\":[289.4],\"xaxis\":\"x2\",\"y\":[45.0],\"yaxis\":\"y2\",\"type\":\"scatter\"},{\"hovertemplate\":\"<b>%{hovertext}</b><br><br>Country=Luxembourg<br>Year=2013<br>Milk=%{x}<br>Cows=%{y}<extra></extra>\",\"hovertext\":[\"Luxembourg\"],\"ids\":[2013],\"legendgroup\":\"Luxembourg\",\"marker\":{\"color\":\"#19d3f3\",\"symbol\":\"circle\"},\"mode\":\"markers\",\"name\":\"Luxembourg\",\"orientation\":\"v\",\"showlegend\":false,\"x\":[295.86],\"xaxis\":\"x3\",\"y\":[48.27],\"yaxis\":\"y3\",\"type\":\"scatter\"},{\"hovertemplate\":\"<b>%{hovertext}</b><br><br>Country=Luxembourg<br>Year=2014<br>Milk=%{x}<br>Cows=%{y}<extra></extra>\",\"hovertext\":[\"Luxembourg\"],\"ids\":[2014],\"legendgroup\":\"Luxembourg\",\"marker\":{\"color\":\"#19d3f3\",\"symbol\":\"circle\"},\"mode\":\"markers\",\"name\":\"Luxembourg\",\"orientation\":\"v\",\"showlegend\":false,\"x\":[317.05],\"xaxis\":\"x4\",\"y\":[46.78],\"yaxis\":\"y4\",\"type\":\"scatter\"},{\"hovertemplate\":\"<b>%{hovertext}</b><br><br>Country=Luxembourg<br>Year=2015<br>Milk=%{x}<br>Cows=%{y}<extra></extra>\",\"hovertext\":[\"Luxembourg\"],\"ids\":[2015],\"legendgroup\":\"Luxembourg\",\"marker\":{\"color\":\"#19d3f3\",\"symbol\":\"circle\"},\"mode\":\"markers\",\"name\":\"Luxembourg\",\"orientation\":\"v\",\"showlegend\":false,\"x\":[346.25],\"xaxis\":\"x5\",\"y\":[49.13],\"yaxis\":\"y5\",\"type\":\"scatter\"},{\"hovertemplate\":\"<b>%{hovertext}</b><br><br>Country=Luxembourg<br>Year=2016<br>Milk=%{x}<br>Cows=%{y}<extra></extra>\",\"hovertext\":[\"Luxembourg\"],\"ids\":[2016],\"legendgroup\":\"Luxembourg\",\"marker\":{\"color\":\"#19d3f3\",\"symbol\":\"circle\"},\"mode\":\"markers\",\"name\":\"Luxembourg\",\"orientation\":\"v\",\"showlegend\":false,\"x\":[376.22],\"xaxis\":\"x6\",\"y\":[51.97],\"yaxis\":\"y6\",\"type\":\"scatter\"},{\"hovertemplate\":\"<b>%{hovertext}</b><br><br>Country=Luxembourg<br>Year=2017<br>Milk=%{x}<br>Cows=%{y}<extra></extra>\",\"hovertext\":[\"Luxembourg\"],\"ids\":[2017],\"legendgroup\":\"Luxembourg\",\"marker\":{\"color\":\"#19d3f3\",\"symbol\":\"circle\"},\"mode\":\"markers\",\"name\":\"Luxembourg\",\"orientation\":\"v\",\"showlegend\":false,\"x\":[387.18],\"xaxis\":\"x7\",\"y\":[52.12],\"yaxis\":\"y7\",\"type\":\"scatter\"},{\"hovertemplate\":\"<b>%{hovertext}</b><br><br>Country=Luxembourg<br>Year=2018<br>Milk=%{x}<br>Cows=%{y}<extra></extra>\",\"hovertext\":[\"Luxembourg\"],\"ids\":[2018],\"legendgroup\":\"Luxembourg\",\"marker\":{\"color\":\"#19d3f3\",\"symbol\":\"circle\"},\"mode\":\"markers\",\"name\":\"Luxembourg\",\"orientation\":\"v\",\"showlegend\":false,\"x\":[407.62],\"xaxis\":\"x8\",\"y\":[53.0],\"yaxis\":\"y8\",\"type\":\"scatter\"},{\"hovertemplate\":\"<b>%{hovertext}</b><br><br>Country=Luxembourg<br>Year=2019<br>Milk=%{x}<br>Cows=%{y}<extra></extra>\",\"hovertext\":[\"Luxembourg\"],\"ids\":[2019],\"legendgroup\":\"Luxembourg\",\"marker\":{\"color\":\"#19d3f3\",\"symbol\":\"circle\"},\"mode\":\"markers\",\"name\":\"Luxembourg\",\"orientation\":\"v\",\"showlegend\":false,\"x\":[421.26],\"xaxis\":\"x9\",\"y\":[54.15],\"yaxis\":\"y9\",\"type\":\"scatter\"},{\"hovertemplate\":\"<b>%{hovertext}</b><br><br>Country=Luxembourg<br>Year=2020<br>Milk=%{x}<br>Cows=%{y}<extra></extra>\",\"hovertext\":[\"Luxembourg\"],\"ids\":[2020],\"legendgroup\":\"Luxembourg\",\"marker\":{\"color\":\"#19d3f3\",\"symbol\":\"circle\"},\"mode\":\"markers\",\"name\":\"Luxembourg\",\"orientation\":\"v\",\"showlegend\":false,\"x\":[447.34],\"xaxis\":\"x10\",\"y\":[54.23],\"yaxis\":\"y10\",\"type\":\"scatter\"},{\"hovertemplate\":\"<b>%{hovertext}</b><br><br>Country=Luxembourg<br>Year=2021<br>Milk=%{x}<br>Cows=%{y}<extra></extra>\",\"hovertext\":[\"Luxembourg\"],\"ids\":[2021],\"legendgroup\":\"Luxembourg\",\"marker\":{\"color\":\"#19d3f3\",\"symbol\":\"circle\"},\"mode\":\"markers\",\"name\":\"Luxembourg\",\"orientation\":\"v\",\"showlegend\":false,\"x\":[443.28],\"xaxis\":\"x11\",\"y\":[54.57],\"yaxis\":\"y11\",\"type\":\"scatter\"}],\"name\":\"Luxembourg\"},{\"data\":[{\"hovertemplate\":\"<b>%{hovertext}</b><br><br>Country=Hungary<br>Year=2011<br>Milk=%{x}<br>Cows=%{y}<extra></extra>\",\"hovertext\":[\"Hungary\"],\"ids\":[2011],\"legendgroup\":\"Hungary\",\"marker\":{\"color\":\"#FF6692\",\"symbol\":\"circle\"},\"mode\":\"markers\",\"name\":\"Hungary\",\"orientation\":\"v\",\"showlegend\":true,\"x\":[1712.48],\"xaxis\":\"x\",\"y\":[252.0],\"yaxis\":\"y\",\"type\":\"scatter\"},{\"hovertemplate\":\"<b>%{hovertext}</b><br><br>Country=Hungary<br>Year=2012<br>Milk=%{x}<br>Cows=%{y}<extra></extra>\",\"hovertext\":[\"Hungary\"],\"ids\":[2012],\"legendgroup\":\"Hungary\",\"marker\":{\"color\":\"#FF6692\",\"symbol\":\"circle\"},\"mode\":\"markers\",\"name\":\"Hungary\",\"orientation\":\"v\",\"showlegend\":false,\"x\":[1812.85],\"xaxis\":\"x2\",\"y\":[255.0],\"yaxis\":\"y2\",\"type\":\"scatter\"},{\"hovertemplate\":\"<b>%{hovertext}</b><br><br>Country=Hungary<br>Year=2013<br>Milk=%{x}<br>Cows=%{y}<extra></extra>\",\"hovertext\":[\"Hungary\"],\"ids\":[2013],\"legendgroup\":\"Hungary\",\"marker\":{\"color\":\"#FF6692\",\"symbol\":\"circle\"},\"mode\":\"markers\",\"name\":\"Hungary\",\"orientation\":\"v\",\"showlegend\":false,\"x\":[1772.76],\"xaxis\":\"x3\",\"y\":[250.0],\"yaxis\":\"y3\",\"type\":\"scatter\"},{\"hovertemplate\":\"<b>%{hovertext}</b><br><br>Country=Hungary<br>Year=2014<br>Milk=%{x}<br>Cows=%{y}<extra></extra>\",\"hovertext\":[\"Hungary\"],\"ids\":[2014],\"legendgroup\":\"Hungary\",\"marker\":{\"color\":\"#FF6692\",\"symbol\":\"circle\"},\"mode\":\"markers\",\"name\":\"Hungary\",\"orientation\":\"v\",\"showlegend\":false,\"x\":[1875.72],\"xaxis\":\"x4\",\"y\":[255.0],\"yaxis\":\"y4\",\"type\":\"scatter\"},{\"hovertemplate\":\"<b>%{hovertext}</b><br><br>Country=Hungary<br>Year=2015<br>Milk=%{x}<br>Cows=%{y}<extra></extra>\",\"hovertext\":[\"Hungary\"],\"ids\":[2015],\"legendgroup\":\"Hungary\",\"marker\":{\"color\":\"#FF6692\",\"symbol\":\"circle\"},\"mode\":\"markers\",\"name\":\"Hungary\",\"orientation\":\"v\",\"showlegend\":false,\"x\":[1941.33],\"xaxis\":\"x5\",\"y\":[250.0],\"yaxis\":\"y5\",\"type\":\"scatter\"},{\"hovertemplate\":\"<b>%{hovertext}</b><br><br>Country=Hungary<br>Year=2016<br>Milk=%{x}<br>Cows=%{y}<extra></extra>\",\"hovertext\":[\"Hungary\"],\"ids\":[2016],\"legendgroup\":\"Hungary\",\"marker\":{\"color\":\"#FF6692\",\"symbol\":\"circle\"},\"mode\":\"markers\",\"name\":\"Hungary\",\"orientation\":\"v\",\"showlegend\":false,\"x\":[1918.23],\"xaxis\":\"x6\",\"y\":[244.0],\"yaxis\":\"y6\",\"type\":\"scatter\"},{\"hovertemplate\":\"<b>%{hovertext}</b><br><br>Country=Hungary<br>Year=2017<br>Milk=%{x}<br>Cows=%{y}<extra></extra>\",\"hovertext\":[\"Hungary\"],\"ids\":[2017],\"legendgroup\":\"Hungary\",\"marker\":{\"color\":\"#FF6692\",\"symbol\":\"circle\"},\"mode\":\"markers\",\"name\":\"Hungary\",\"orientation\":\"v\",\"showlegend\":false,\"x\":[1967.5],\"xaxis\":\"x7\",\"y\":[244.0],\"yaxis\":\"y7\",\"type\":\"scatter\"},{\"hovertemplate\":\"<b>%{hovertext}</b><br><br>Country=Hungary<br>Year=2018<br>Milk=%{x}<br>Cows=%{y}<extra></extra>\",\"hovertext\":[\"Hungary\"],\"ids\":[2018],\"legendgroup\":\"Hungary\",\"marker\":{\"color\":\"#FF6692\",\"symbol\":\"circle\"},\"mode\":\"markers\",\"name\":\"Hungary\",\"orientation\":\"v\",\"showlegend\":false,\"x\":[1948.83],\"xaxis\":\"x8\",\"y\":[239.0],\"yaxis\":\"y8\",\"type\":\"scatter\"},{\"hovertemplate\":\"<b>%{hovertext}</b><br><br>Country=Hungary<br>Year=2019<br>Milk=%{x}<br>Cows=%{y}<extra></extra>\",\"hovertext\":[\"Hungary\"],\"ids\":[2019],\"legendgroup\":\"Hungary\",\"marker\":{\"color\":\"#FF6692\",\"symbol\":\"circle\"},\"mode\":\"markers\",\"name\":\"Hungary\",\"orientation\":\"v\",\"showlegend\":false,\"x\":[1962.78],\"xaxis\":\"x9\",\"y\":[243.0],\"yaxis\":\"y9\",\"type\":\"scatter\"},{\"hovertemplate\":\"<b>%{hovertext}</b><br><br>Country=Hungary<br>Year=2020<br>Milk=%{x}<br>Cows=%{y}<extra></extra>\",\"hovertext\":[\"Hungary\"],\"ids\":[2020],\"legendgroup\":\"Hungary\",\"marker\":{\"color\":\"#FF6692\",\"symbol\":\"circle\"},\"mode\":\"markers\",\"name\":\"Hungary\",\"orientation\":\"v\",\"showlegend\":false,\"x\":[2014.33],\"xaxis\":\"x10\",\"y\":[246.6],\"yaxis\":\"y10\",\"type\":\"scatter\"},{\"hovertemplate\":\"<b>%{hovertext}</b><br><br>Country=Hungary<br>Year=2021<br>Milk=%{x}<br>Cows=%{y}<extra></extra>\",\"hovertext\":[\"Hungary\"],\"ids\":[2021],\"legendgroup\":\"Hungary\",\"marker\":{\"color\":\"#FF6692\",\"symbol\":\"circle\"},\"mode\":\"markers\",\"name\":\"Hungary\",\"orientation\":\"v\",\"showlegend\":false,\"x\":[2080.23],\"xaxis\":\"x11\",\"y\":[280.9],\"yaxis\":\"y11\",\"type\":\"scatter\"}],\"name\":\"Hungary\"},{\"data\":[{\"hovertemplate\":\"<b>%{hovertext}</b><br><br>Country=Malta<br>Year=2011<br>Milk=%{x}<br>Cows=%{y}<extra></extra>\",\"hovertext\":[\"Malta\"],\"ids\":[2011],\"legendgroup\":\"Malta\",\"marker\":{\"color\":\"#B6E880\",\"symbol\":\"circle\"},\"mode\":\"markers\",\"name\":\"Malta\",\"orientation\":\"v\",\"showlegend\":true,\"x\":[33.89],\"xaxis\":\"x\",\"y\":[6.31],\"yaxis\":\"y\",\"type\":\"scatter\"},{\"hovertemplate\":\"<b>%{hovertext}</b><br><br>Country=Malta<br>Year=2012<br>Milk=%{x}<br>Cows=%{y}<extra></extra>\",\"hovertext\":[\"Malta\"],\"ids\":[2012],\"legendgroup\":\"Malta\",\"marker\":{\"color\":\"#B6E880\",\"symbol\":\"circle\"},\"mode\":\"markers\",\"name\":\"Malta\",\"orientation\":\"v\",\"showlegend\":false,\"x\":[33.89],\"xaxis\":\"x2\",\"y\":[6.32],\"yaxis\":\"y2\",\"type\":\"scatter\"},{\"hovertemplate\":\"<b>%{hovertext}</b><br><br>Country=Malta<br>Year=2013<br>Milk=%{x}<br>Cows=%{y}<extra></extra>\",\"hovertext\":[\"Malta\"],\"ids\":[2013],\"legendgroup\":\"Malta\",\"marker\":{\"color\":\"#B6E880\",\"symbol\":\"circle\"},\"mode\":\"markers\",\"name\":\"Malta\",\"orientation\":\"v\",\"showlegend\":false,\"x\":[40.92],\"xaxis\":\"x3\",\"y\":[6.33],\"yaxis\":\"y3\",\"type\":\"scatter\"},{\"hovertemplate\":\"<b>%{hovertext}</b><br><br>Country=Malta<br>Year=2014<br>Milk=%{x}<br>Cows=%{y}<extra></extra>\",\"hovertext\":[\"Malta\"],\"ids\":[2014],\"legendgroup\":\"Malta\",\"marker\":{\"color\":\"#B6E880\",\"symbol\":\"circle\"},\"mode\":\"markers\",\"name\":\"Malta\",\"orientation\":\"v\",\"showlegend\":false,\"x\":[42.77],\"xaxis\":\"x4\",\"y\":[6.5],\"yaxis\":\"y4\",\"type\":\"scatter\"},{\"hovertemplate\":\"<b>%{hovertext}</b><br><br>Country=Malta<br>Year=2015<br>Milk=%{x}<br>Cows=%{y}<extra></extra>\",\"hovertext\":[\"Malta\"],\"ids\":[2015],\"legendgroup\":\"Malta\",\"marker\":{\"color\":\"#B6E880\",\"symbol\":\"circle\"},\"mode\":\"markers\",\"name\":\"Malta\",\"orientation\":\"v\",\"showlegend\":false,\"x\":[41.57],\"xaxis\":\"x5\",\"y\":[6.37],\"yaxis\":\"y5\",\"type\":\"scatter\"},{\"hovertemplate\":\"<b>%{hovertext}</b><br><br>Country=Malta<br>Year=2016<br>Milk=%{x}<br>Cows=%{y}<extra></extra>\",\"hovertext\":[\"Malta\"],\"ids\":[2016],\"legendgroup\":\"Malta\",\"marker\":{\"color\":\"#B6E880\",\"symbol\":\"circle\"},\"mode\":\"markers\",\"name\":\"Malta\",\"orientation\":\"v\",\"showlegend\":false,\"x\":[43.13],\"xaxis\":\"x6\",\"y\":[6.5],\"yaxis\":\"y6\",\"type\":\"scatter\"},{\"hovertemplate\":\"<b>%{hovertext}</b><br><br>Country=Malta<br>Year=2017<br>Milk=%{x}<br>Cows=%{y}<extra></extra>\",\"hovertext\":[\"Malta\"],\"ids\":[2017],\"legendgroup\":\"Malta\",\"marker\":{\"color\":\"#B6E880\",\"symbol\":\"circle\"},\"mode\":\"markers\",\"name\":\"Malta\",\"orientation\":\"v\",\"showlegend\":false,\"x\":[41.03],\"xaxis\":\"x7\",\"y\":[6.14],\"yaxis\":\"y7\",\"type\":\"scatter\"},{\"hovertemplate\":\"<b>%{hovertext}</b><br><br>Country=Malta<br>Year=2018<br>Milk=%{x}<br>Cows=%{y}<extra></extra>\",\"hovertext\":[\"Malta\"],\"ids\":[2018],\"legendgroup\":\"Malta\",\"marker\":{\"color\":\"#B6E880\",\"symbol\":\"circle\"},\"mode\":\"markers\",\"name\":\"Malta\",\"orientation\":\"v\",\"showlegend\":false,\"x\":[40.41],\"xaxis\":\"x8\",\"y\":[6.23],\"yaxis\":\"y8\",\"type\":\"scatter\"},{\"hovertemplate\":\"<b>%{hovertext}</b><br><br>Country=Malta<br>Year=2019<br>Milk=%{x}<br>Cows=%{y}<extra></extra>\",\"hovertext\":[\"Malta\"],\"ids\":[2019],\"legendgroup\":\"Malta\",\"marker\":{\"color\":\"#B6E880\",\"symbol\":\"circle\"},\"mode\":\"markers\",\"name\":\"Malta\",\"orientation\":\"v\",\"showlegend\":false,\"x\":[41.27],\"xaxis\":\"x9\",\"y\":[6.12],\"yaxis\":\"y9\",\"type\":\"scatter\"},{\"hovertemplate\":\"<b>%{hovertext}</b><br><br>Country=Malta<br>Year=2020<br>Milk=%{x}<br>Cows=%{y}<extra></extra>\",\"hovertext\":[\"Malta\"],\"ids\":[2020],\"legendgroup\":\"Malta\",\"marker\":{\"color\":\"#B6E880\",\"symbol\":\"circle\"},\"mode\":\"markers\",\"name\":\"Malta\",\"orientation\":\"v\",\"showlegend\":false,\"x\":[42.11],\"xaxis\":\"x10\",\"y\":[6.06],\"yaxis\":\"y10\",\"type\":\"scatter\"},{\"hovertemplate\":\"<b>%{hovertext}</b><br><br>Country=Malta<br>Year=2021<br>Milk=%{x}<br>Cows=%{y}<extra></extra>\",\"hovertext\":[\"Malta\"],\"ids\":[2021],\"legendgroup\":\"Malta\",\"marker\":{\"color\":\"#B6E880\",\"symbol\":\"circle\"},\"mode\":\"markers\",\"name\":\"Malta\",\"orientation\":\"v\",\"showlegend\":false,\"x\":[39.54],\"xaxis\":\"x11\",\"y\":[5.87],\"yaxis\":\"y11\",\"type\":\"scatter\"}],\"name\":\"Malta\"},{\"data\":[{\"hovertemplate\":\"<b>%{hovertext}</b><br><br>Country=Netherlands<br>Year=2011<br>Milk=%{x}<br>Cows=%{y}<extra></extra>\",\"hovertext\":[\"Netherlands\"],\"ids\":[2011],\"legendgroup\":\"Netherlands\",\"marker\":{\"color\":\"#FF97FF\",\"symbol\":\"circle\"},\"mode\":\"markers\",\"name\":\"Netherlands\",\"orientation\":\"v\",\"showlegend\":true,\"x\":[11850.72],\"xaxis\":\"x\",\"y\":[1504.0],\"yaxis\":\"y\",\"type\":\"scatter\"},{\"hovertemplate\":\"<b>%{hovertext}</b><br><br>Country=Netherlands<br>Year=2012<br>Milk=%{x}<br>Cows=%{y}<extra></extra>\",\"hovertext\":[\"Netherlands\"],\"ids\":[2012],\"legendgroup\":\"Netherlands\",\"marker\":{\"color\":\"#FF97FF\",\"symbol\":\"circle\"},\"mode\":\"markers\",\"name\":\"Netherlands\",\"orientation\":\"v\",\"showlegend\":false,\"x\":[11880.95],\"xaxis\":\"x2\",\"y\":[1541.0],\"yaxis\":\"y2\",\"type\":\"scatter\"},{\"hovertemplate\":\"<b>%{hovertext}</b><br><br>Country=Netherlands<br>Year=2013<br>Milk=%{x}<br>Cows=%{y}<extra></extra>\",\"hovertext\":[\"Netherlands\"],\"ids\":[2013],\"legendgroup\":\"Netherlands\",\"marker\":{\"color\":\"#FF97FF\",\"symbol\":\"circle\"},\"mode\":\"markers\",\"name\":\"Netherlands\",\"orientation\":\"v\",\"showlegend\":false,\"x\":[12407.69],\"xaxis\":\"x3\",\"y\":[1597.0],\"yaxis\":\"y3\",\"type\":\"scatter\"},{\"hovertemplate\":\"<b>%{hovertext}</b><br><br>Country=Netherlands<br>Year=2014<br>Milk=%{x}<br>Cows=%{y}<extra></extra>\",\"hovertext\":[\"Netherlands\"],\"ids\":[2014],\"legendgroup\":\"Netherlands\",\"marker\":{\"color\":\"#FF97FF\",\"symbol\":\"circle\"},\"mode\":\"markers\",\"name\":\"Netherlands\",\"orientation\":\"v\",\"showlegend\":false,\"x\":[12660.35],\"xaxis\":\"x4\",\"y\":[1610.0],\"yaxis\":\"y4\",\"type\":\"scatter\"},{\"hovertemplate\":\"<b>%{hovertext}</b><br><br>Country=Netherlands<br>Year=2015<br>Milk=%{x}<br>Cows=%{y}<extra></extra>\",\"hovertext\":[\"Netherlands\"],\"ids\":[2015],\"legendgroup\":\"Netherlands\",\"marker\":{\"color\":\"#FF97FF\",\"symbol\":\"circle\"},\"mode\":\"markers\",\"name\":\"Netherlands\",\"orientation\":\"v\",\"showlegend\":false,\"x\":[13522.12],\"xaxis\":\"x5\",\"y\":[1717.0],\"yaxis\":\"y5\",\"type\":\"scatter\"},{\"hovertemplate\":\"<b>%{hovertext}</b><br><br>Country=Netherlands<br>Year=2016<br>Milk=%{x}<br>Cows=%{y}<extra></extra>\",\"hovertext\":[\"Netherlands\"],\"ids\":[2016],\"legendgroup\":\"Netherlands\",\"marker\":{\"color\":\"#FF97FF\",\"symbol\":\"circle\"},\"mode\":\"markers\",\"name\":\"Netherlands\",\"orientation\":\"v\",\"showlegend\":false,\"x\":[14531.0],\"xaxis\":\"x6\",\"y\":[1794.0],\"yaxis\":\"y6\",\"type\":\"scatter\"},{\"hovertemplate\":\"<b>%{hovertext}</b><br><br>Country=Netherlands<br>Year=2017<br>Milk=%{x}<br>Cows=%{y}<extra></extra>\",\"hovertext\":[\"Netherlands\"],\"ids\":[2017],\"legendgroup\":\"Netherlands\",\"marker\":{\"color\":\"#FF97FF\",\"symbol\":\"circle\"},\"mode\":\"markers\",\"name\":\"Netherlands\",\"orientation\":\"v\",\"showlegend\":false,\"x\":[14501.0],\"xaxis\":\"x7\",\"y\":[1665.0],\"yaxis\":\"y7\",\"type\":\"scatter\"},{\"hovertemplate\":\"<b>%{hovertext}</b><br><br>Country=Netherlands<br>Year=2018<br>Milk=%{x}<br>Cows=%{y}<extra></extra>\",\"hovertext\":[\"Netherlands\"],\"ids\":[2018],\"legendgroup\":\"Netherlands\",\"marker\":{\"color\":\"#FF97FF\",\"symbol\":\"circle\"},\"mode\":\"markers\",\"name\":\"Netherlands\",\"orientation\":\"v\",\"showlegend\":false,\"x\":[14090.0],\"xaxis\":\"x8\",\"y\":[1552.0],\"yaxis\":\"y8\",\"type\":\"scatter\"},{\"hovertemplate\":\"<b>%{hovertext}</b><br><br>Country=Netherlands<br>Year=2019<br>Milk=%{x}<br>Cows=%{y}<extra></extra>\",\"hovertext\":[\"Netherlands\"],\"ids\":[2019],\"legendgroup\":\"Netherlands\",\"marker\":{\"color\":\"#FF97FF\",\"symbol\":\"circle\"},\"mode\":\"markers\",\"name\":\"Netherlands\",\"orientation\":\"v\",\"showlegend\":false,\"x\":[14555.0],\"xaxis\":\"x9\",\"y\":[1590.0],\"yaxis\":\"y9\",\"type\":\"scatter\"},{\"hovertemplate\":\"<b>%{hovertext}</b><br><br>Country=Netherlands<br>Year=2020<br>Milk=%{x}<br>Cows=%{y}<extra></extra>\",\"hovertext\":[\"Netherlands\"],\"ids\":[2020],\"legendgroup\":\"Netherlands\",\"marker\":{\"color\":\"#FF97FF\",\"symbol\":\"circle\"},\"mode\":\"markers\",\"name\":\"Netherlands\",\"orientation\":\"v\",\"showlegend\":false,\"x\":[14522.0],\"xaxis\":\"x10\",\"y\":[1569.0],\"yaxis\":\"y10\",\"type\":\"scatter\"},{\"hovertemplate\":\"<b>%{hovertext}</b><br><br>Country=Netherlands<br>Year=2021<br>Milk=%{x}<br>Cows=%{y}<extra></extra>\",\"hovertext\":[\"Netherlands\"],\"ids\":[2021],\"legendgroup\":\"Netherlands\",\"marker\":{\"color\":\"#FF97FF\",\"symbol\":\"circle\"},\"mode\":\"markers\",\"name\":\"Netherlands\",\"orientation\":\"v\",\"showlegend\":false,\"x\":[14217.25],\"xaxis\":\"x11\",\"y\":[1554.0],\"yaxis\":\"y11\",\"type\":\"scatter\"}],\"name\":\"Netherlands\"},{\"data\":[{\"hovertemplate\":\"<b>%{hovertext}</b><br><br>Country=Austria<br>Year=2011<br>Milk=%{x}<br>Cows=%{y}<extra></extra>\",\"hovertext\":[\"Austria\"],\"ids\":[2011],\"legendgroup\":\"Austria\",\"marker\":{\"color\":\"#FECB52\",\"symbol\":\"circle\"},\"mode\":\"markers\",\"name\":\"Austria\",\"orientation\":\"v\",\"showlegend\":true,\"x\":[3307.13],\"xaxis\":\"x\",\"y\":[527.39],\"yaxis\":\"y\",\"type\":\"scatter\"},{\"hovertemplate\":\"<b>%{hovertext}</b><br><br>Country=Austria<br>Year=2012<br>Milk=%{x}<br>Cows=%{y}<extra></extra>\",\"hovertext\":[\"Austria\"],\"ids\":[2012],\"legendgroup\":\"Austria\",\"marker\":{\"color\":\"#FECB52\",\"symbol\":\"circle\"},\"mode\":\"markers\",\"name\":\"Austria\",\"orientation\":\"v\",\"showlegend\":false,\"x\":[3382.1],\"xaxis\":\"x2\",\"y\":[523.37],\"yaxis\":\"y2\",\"type\":\"scatter\"},{\"hovertemplate\":\"<b>%{hovertext}</b><br><br>Country=Austria<br>Year=2013<br>Milk=%{x}<br>Cows=%{y}<extra></extra>\",\"hovertext\":[\"Austria\"],\"ids\":[2013],\"legendgroup\":\"Austria\",\"marker\":{\"color\":\"#FECB52\",\"symbol\":\"circle\"},\"mode\":\"markers\",\"name\":\"Austria\",\"orientation\":\"v\",\"showlegend\":false,\"x\":[3393.06],\"xaxis\":\"x3\",\"y\":[529.56],\"yaxis\":\"y3\",\"type\":\"scatter\"},{\"hovertemplate\":\"<b>%{hovertext}</b><br><br>Country=Austria<br>Year=2014<br>Milk=%{x}<br>Cows=%{y}<extra></extra>\",\"hovertext\":[\"Austria\"],\"ids\":[2014],\"legendgroup\":\"Austria\",\"marker\":{\"color\":\"#FECB52\",\"symbol\":\"circle\"},\"mode\":\"markers\",\"name\":\"Austria\",\"orientation\":\"v\",\"showlegend\":false,\"x\":[3493.86],\"xaxis\":\"x4\",\"y\":[537.74],\"yaxis\":\"y4\",\"type\":\"scatter\"},{\"hovertemplate\":\"<b>%{hovertext}</b><br><br>Country=Austria<br>Year=2015<br>Milk=%{x}<br>Cows=%{y}<extra></extra>\",\"hovertext\":[\"Austria\"],\"ids\":[2015],\"legendgroup\":\"Austria\",\"marker\":{\"color\":\"#FECB52\",\"symbol\":\"circle\"},\"mode\":\"markers\",\"name\":\"Austria\",\"orientation\":\"v\",\"showlegend\":false,\"x\":[3537.76],\"xaxis\":\"x5\",\"y\":[534.1],\"yaxis\":\"y5\",\"type\":\"scatter\"},{\"hovertemplate\":\"<b>%{hovertext}</b><br><br>Country=Austria<br>Year=2016<br>Milk=%{x}<br>Cows=%{y}<extra></extra>\",\"hovertext\":[\"Austria\"],\"ids\":[2016],\"legendgroup\":\"Austria\",\"marker\":{\"color\":\"#FECB52\",\"symbol\":\"circle\"},\"mode\":\"markers\",\"name\":\"Austria\",\"orientation\":\"v\",\"showlegend\":false,\"x\":[3627.61],\"xaxis\":\"x6\",\"y\":[539.87],\"yaxis\":\"y6\",\"type\":\"scatter\"},{\"hovertemplate\":\"<b>%{hovertext}</b><br><br>Country=Austria<br>Year=2017<br>Milk=%{x}<br>Cows=%{y}<extra></extra>\",\"hovertext\":[\"Austria\"],\"ids\":[2017],\"legendgroup\":\"Austria\",\"marker\":{\"color\":\"#FECB52\",\"symbol\":\"circle\"},\"mode\":\"markers\",\"name\":\"Austria\",\"orientation\":\"v\",\"showlegend\":false,\"x\":[3712.73],\"xaxis\":\"x7\",\"y\":[543.42],\"yaxis\":\"y7\",\"type\":\"scatter\"},{\"hovertemplate\":\"<b>%{hovertext}</b><br><br>Country=Austria<br>Year=2018<br>Milk=%{x}<br>Cows=%{y}<extra></extra>\",\"hovertext\":[\"Austria\"],\"ids\":[2018],\"legendgroup\":\"Austria\",\"marker\":{\"color\":\"#FECB52\",\"symbol\":\"circle\"},\"mode\":\"markers\",\"name\":\"Austria\",\"orientation\":\"v\",\"showlegend\":false,\"x\":[3821.19],\"xaxis\":\"x8\",\"y\":[532.87],\"yaxis\":\"y8\",\"type\":\"scatter\"},{\"hovertemplate\":\"<b>%{hovertext}</b><br><br>Country=Austria<br>Year=2019<br>Milk=%{x}<br>Cows=%{y}<extra></extra>\",\"hovertext\":[\"Austria\"],\"ids\":[2019],\"legendgroup\":\"Austria\",\"marker\":{\"color\":\"#FECB52\",\"symbol\":\"circle\"},\"mode\":\"markers\",\"name\":\"Austria\",\"orientation\":\"v\",\"showlegend\":false,\"x\":[3781.34],\"xaxis\":\"x9\",\"y\":[524.07],\"yaxis\":\"y9\",\"type\":\"scatter\"},{\"hovertemplate\":\"<b>%{hovertext}</b><br><br>Country=Austria<br>Year=2020<br>Milk=%{x}<br>Cows=%{y}<extra></extra>\",\"hovertext\":[\"Austria\"],\"ids\":[2020],\"legendgroup\":\"Austria\",\"marker\":{\"color\":\"#FECB52\",\"symbol\":\"circle\"},\"mode\":\"markers\",\"name\":\"Austria\",\"orientation\":\"v\",\"showlegend\":false,\"x\":[3815.47],\"xaxis\":\"x10\",\"y\":[524.78],\"yaxis\":\"y10\",\"type\":\"scatter\"},{\"hovertemplate\":\"<b>%{hovertext}</b><br><br>Country=Austria<br>Year=2021<br>Milk=%{x}<br>Cows=%{y}<extra></extra>\",\"hovertext\":[\"Austria\"],\"ids\":[2021],\"legendgroup\":\"Austria\",\"marker\":{\"color\":\"#FECB52\",\"symbol\":\"circle\"},\"mode\":\"markers\",\"name\":\"Austria\",\"orientation\":\"v\",\"showlegend\":false,\"x\":[3830.14],\"xaxis\":\"x11\",\"y\":[526.46],\"yaxis\":\"y11\",\"type\":\"scatter\"}],\"name\":\"Austria\"},{\"data\":[{\"hovertemplate\":\"<b>%{hovertext}</b><br><br>Country=Poland<br>Year=2011<br>Milk=%{x}<br>Cows=%{y}<extra></extra>\",\"hovertext\":[\"Poland\"],\"ids\":[2011],\"legendgroup\":\"Poland\",\"marker\":{\"color\":\"#636efa\",\"symbol\":\"circle\"},\"mode\":\"markers\",\"name\":\"Poland\",\"orientation\":\"v\",\"showlegend\":true,\"x\":[12414.0],\"xaxis\":\"x\",\"y\":[2446.14],\"yaxis\":\"y\",\"type\":\"scatter\"},{\"hovertemplate\":\"<b>%{hovertext}</b><br><br>Country=Poland<br>Year=2012<br>Milk=%{x}<br>Cows=%{y}<extra></extra>\",\"hovertext\":[\"Poland\"],\"ids\":[2012],\"legendgroup\":\"Poland\",\"marker\":{\"color\":\"#636efa\",\"symbol\":\"circle\"},\"mode\":\"markers\",\"name\":\"Poland\",\"orientation\":\"v\",\"showlegend\":false,\"x\":[12668.0],\"xaxis\":\"x2\",\"y\":[2346.1],\"yaxis\":\"y2\",\"type\":\"scatter\"},{\"hovertemplate\":\"<b>%{hovertext}</b><br><br>Country=Poland<br>Year=2013<br>Milk=%{x}<br>Cows=%{y}<extra></extra>\",\"hovertext\":[\"Poland\"],\"ids\":[2013],\"legendgroup\":\"Poland\",\"marker\":{\"color\":\"#636efa\",\"symbol\":\"circle\"},\"mode\":\"markers\",\"name\":\"Poland\",\"orientation\":\"v\",\"showlegend\":false,\"x\":[12718.0],\"xaxis\":\"x3\",\"y\":[2299.08],\"yaxis\":\"y3\",\"type\":\"scatter\"},{\"hovertemplate\":\"<b>%{hovertext}</b><br><br>Country=Poland<br>Year=2014<br>Milk=%{x}<br>Cows=%{y}<extra></extra>\",\"hovertext\":[\"Poland\"],\"ids\":[2014],\"legendgroup\":\"Poland\",\"marker\":{\"color\":\"#636efa\",\"symbol\":\"circle\"},\"mode\":\"markers\",\"name\":\"Poland\",\"orientation\":\"v\",\"showlegend\":false,\"x\":[12986.0],\"xaxis\":\"x4\",\"y\":[2247.8],\"yaxis\":\"y4\",\"type\":\"scatter\"},{\"hovertemplate\":\"<b>%{hovertext}</b><br><br>Country=Poland<br>Year=2015<br>Milk=%{x}<br>Cows=%{y}<extra></extra>\",\"hovertext\":[\"Poland\"],\"ids\":[2015],\"legendgroup\":\"Poland\",\"marker\":{\"color\":\"#636efa\",\"symbol\":\"circle\"},\"mode\":\"markers\",\"name\":\"Poland\",\"orientation\":\"v\",\"showlegend\":false,\"x\":[13236.23],\"xaxis\":\"x5\",\"y\":[2134.1],\"yaxis\":\"y5\",\"type\":\"scatter\"},{\"hovertemplate\":\"<b>%{hovertext}</b><br><br>Country=Poland<br>Year=2016<br>Milk=%{x}<br>Cows=%{y}<extra></extra>\",\"hovertext\":[\"Poland\"],\"ids\":[2016],\"legendgroup\":\"Poland\",\"marker\":{\"color\":\"#636efa\",\"symbol\":\"circle\"},\"mode\":\"markers\",\"name\":\"Poland\",\"orientation\":\"v\",\"showlegend\":false,\"x\":[13244.17],\"xaxis\":\"x6\",\"y\":[2129.9],\"yaxis\":\"y6\",\"type\":\"scatter\"},{\"hovertemplate\":\"<b>%{hovertext}</b><br><br>Country=Poland<br>Year=2017<br>Milk=%{x}<br>Cows=%{y}<extra></extra>\",\"hovertext\":[\"Poland\"],\"ids\":[2017],\"legendgroup\":\"Poland\",\"marker\":{\"color\":\"#636efa\",\"symbol\":\"circle\"},\"mode\":\"markers\",\"name\":\"Poland\",\"orientation\":\"v\",\"showlegend\":false,\"x\":[13694.47],\"xaxis\":\"x7\",\"y\":[2152.9],\"yaxis\":\"y7\",\"type\":\"scatter\"},{\"hovertemplate\":\"<b>%{hovertext}</b><br><br>Country=Poland<br>Year=2018<br>Milk=%{x}<br>Cows=%{y}<extra></extra>\",\"hovertext\":[\"Poland\"],\"ids\":[2018],\"legendgroup\":\"Poland\",\"marker\":{\"color\":\"#636efa\",\"symbol\":\"circle\"},\"mode\":\"markers\",\"name\":\"Poland\",\"orientation\":\"v\",\"showlegend\":false,\"x\":[14171.15],\"xaxis\":\"x8\",\"y\":[2214.1],\"yaxis\":\"y8\",\"type\":\"scatter\"},{\"hovertemplate\":\"<b>%{hovertext}</b><br><br>Country=Poland<br>Year=2019<br>Milk=%{x}<br>Cows=%{y}<extra></extra>\",\"hovertext\":[\"Poland\"],\"ids\":[2019],\"legendgroup\":\"Poland\",\"marker\":{\"color\":\"#636efa\",\"symbol\":\"circle\"},\"mode\":\"markers\",\"name\":\"Poland\",\"orientation\":\"v\",\"showlegend\":false,\"x\":[14502.76],\"xaxis\":\"x9\",\"y\":[2166.9],\"yaxis\":\"y9\",\"type\":\"scatter\"},{\"hovertemplate\":\"<b>%{hovertext}</b><br><br>Country=Poland<br>Year=2020<br>Milk=%{x}<br>Cows=%{y}<extra></extra>\",\"hovertext\":[\"Poland\"],\"ids\":[2020],\"legendgroup\":\"Poland\",\"marker\":{\"color\":\"#636efa\",\"symbol\":\"circle\"},\"mode\":\"markers\",\"name\":\"Poland\",\"orientation\":\"v\",\"showlegend\":false,\"x\":[14821.82],\"xaxis\":\"x10\",\"y\":[2125.7],\"yaxis\":\"y10\",\"type\":\"scatter\"},{\"hovertemplate\":\"<b>%{hovertext}</b><br><br>Country=Poland<br>Year=2021<br>Milk=%{x}<br>Cows=%{y}<extra></extra>\",\"hovertext\":[\"Poland\"],\"ids\":[2021],\"legendgroup\":\"Poland\",\"marker\":{\"color\":\"#636efa\",\"symbol\":\"circle\"},\"mode\":\"markers\",\"name\":\"Poland\",\"orientation\":\"v\",\"showlegend\":false,\"x\":[14881.11],\"xaxis\":\"x11\",\"y\":[2035.2],\"yaxis\":\"y11\",\"type\":\"scatter\"}],\"name\":\"Poland\"},{\"data\":[{\"hovertemplate\":\"<b>%{hovertext}</b><br><br>Country=Portugal<br>Year=2011<br>Milk=%{x}<br>Cows=%{y}<extra></extra>\",\"hovertext\":[\"Portugal\"],\"ids\":[2011],\"legendgroup\":\"Portugal\",\"marker\":{\"color\":\"#EF553B\",\"symbol\":\"circle\"},\"mode\":\"markers\",\"name\":\"Portugal\",\"orientation\":\"v\",\"showlegend\":true,\"x\":[1918.52],\"xaxis\":\"x\",\"y\":[241.95],\"yaxis\":\"y\",\"type\":\"scatter\"},{\"hovertemplate\":\"<b>%{hovertext}</b><br><br>Country=Portugal<br>Year=2012<br>Milk=%{x}<br>Cows=%{y}<extra></extra>\",\"hovertext\":[\"Portugal\"],\"ids\":[2012],\"legendgroup\":\"Portugal\",\"marker\":{\"color\":\"#EF553B\",\"symbol\":\"circle\"},\"mode\":\"markers\",\"name\":\"Portugal\",\"orientation\":\"v\",\"showlegend\":false,\"x\":[1938.13],\"xaxis\":\"x2\",\"y\":[236.56],\"yaxis\":\"y2\",\"type\":\"scatter\"},{\"hovertemplate\":\"<b>%{hovertext}</b><br><br>Country=Portugal<br>Year=2013<br>Milk=%{x}<br>Cows=%{y}<extra></extra>\",\"hovertext\":[\"Portugal\"],\"ids\":[2013],\"legendgroup\":\"Portugal\",\"marker\":{\"color\":\"#EF553B\",\"symbol\":\"circle\"},\"mode\":\"markers\",\"name\":\"Portugal\",\"orientation\":\"v\",\"showlegend\":false,\"x\":[1847.98],\"xaxis\":\"x3\",\"y\":[230.84],\"yaxis\":\"y3\",\"type\":\"scatter\"},{\"hovertemplate\":\"<b>%{hovertext}</b><br><br>Country=Portugal<br>Year=2014<br>Milk=%{x}<br>Cows=%{y}<extra></extra>\",\"hovertext\":[\"Portugal\"],\"ids\":[2014],\"legendgroup\":\"Portugal\",\"marker\":{\"color\":\"#EF553B\",\"symbol\":\"circle\"},\"mode\":\"markers\",\"name\":\"Portugal\",\"orientation\":\"v\",\"showlegend\":false,\"x\":[1942.78],\"xaxis\":\"x4\",\"y\":[233.83],\"yaxis\":\"y4\",\"type\":\"scatter\"},{\"hovertemplate\":\"<b>%{hovertext}</b><br><br>Country=Portugal<br>Year=2015<br>Milk=%{x}<br>Cows=%{y}<extra></extra>\",\"hovertext\":[\"Portugal\"],\"ids\":[2015],\"legendgroup\":\"Portugal\",\"marker\":{\"color\":\"#EF553B\",\"symbol\":\"circle\"},\"mode\":\"markers\",\"name\":\"Portugal\",\"orientation\":\"v\",\"showlegend\":false,\"x\":[2013.78],\"xaxis\":\"x5\",\"y\":[243.26],\"yaxis\":\"y5\",\"type\":\"scatter\"},{\"hovertemplate\":\"<b>%{hovertext}</b><br><br>Country=Portugal<br>Year=2016<br>Milk=%{x}<br>Cows=%{y}<extra></extra>\",\"hovertext\":[\"Portugal\"],\"ids\":[2016],\"legendgroup\":\"Portugal\",\"marker\":{\"color\":\"#EF553B\",\"symbol\":\"circle\"},\"mode\":\"markers\",\"name\":\"Portugal\",\"orientation\":\"v\",\"showlegend\":false,\"x\":[1922.97],\"xaxis\":\"x6\",\"y\":[238.91],\"yaxis\":\"y6\",\"type\":\"scatter\"},{\"hovertemplate\":\"<b>%{hovertext}</b><br><br>Country=Portugal<br>Year=2017<br>Milk=%{x}<br>Cows=%{y}<extra></extra>\",\"hovertext\":[\"Portugal\"],\"ids\":[2017],\"legendgroup\":\"Portugal\",\"marker\":{\"color\":\"#EF553B\",\"symbol\":\"circle\"},\"mode\":\"markers\",\"name\":\"Portugal\",\"orientation\":\"v\",\"showlegend\":false,\"x\":[1921.21],\"xaxis\":\"x7\",\"y\":[238.63],\"yaxis\":\"y7\",\"type\":\"scatter\"},{\"hovertemplate\":\"<b>%{hovertext}</b><br><br>Country=Portugal<br>Year=2018<br>Milk=%{x}<br>Cows=%{y}<extra></extra>\",\"hovertext\":[\"Portugal\"],\"ids\":[2018],\"legendgroup\":\"Portugal\",\"marker\":{\"color\":\"#EF553B\",\"symbol\":\"circle\"},\"mode\":\"markers\",\"name\":\"Portugal\",\"orientation\":\"v\",\"showlegend\":false,\"x\":[1939.67],\"xaxis\":\"x8\",\"y\":[235.47],\"yaxis\":\"y8\",\"type\":\"scatter\"},{\"hovertemplate\":\"<b>%{hovertext}</b><br><br>Country=Portugal<br>Year=2019<br>Milk=%{x}<br>Cows=%{y}<extra></extra>\",\"hovertext\":[\"Portugal\"],\"ids\":[2019],\"legendgroup\":\"Portugal\",\"marker\":{\"color\":\"#EF553B\",\"symbol\":\"circle\"},\"mode\":\"markers\",\"name\":\"Portugal\",\"orientation\":\"v\",\"showlegend\":false,\"x\":[1975.49],\"xaxis\":\"x9\",\"y\":[234.23],\"yaxis\":\"y9\",\"type\":\"scatter\"},{\"hovertemplate\":\"<b>%{hovertext}</b><br><br>Country=Portugal<br>Year=2020<br>Milk=%{x}<br>Cows=%{y}<extra></extra>\",\"hovertext\":[\"Portugal\"],\"ids\":[2020],\"legendgroup\":\"Portugal\",\"marker\":{\"color\":\"#EF553B\",\"symbol\":\"circle\"},\"mode\":\"markers\",\"name\":\"Portugal\",\"orientation\":\"v\",\"showlegend\":false,\"x\":[1993.61],\"xaxis\":\"x10\",\"y\":[232.75],\"yaxis\":\"y10\",\"type\":\"scatter\"},{\"hovertemplate\":\"<b>%{hovertext}</b><br><br>Country=Portugal<br>Year=2021<br>Milk=%{x}<br>Cows=%{y}<extra></extra>\",\"hovertext\":[\"Portugal\"],\"ids\":[2021],\"legendgroup\":\"Portugal\",\"marker\":{\"color\":\"#EF553B\",\"symbol\":\"circle\"},\"mode\":\"markers\",\"name\":\"Portugal\",\"orientation\":\"v\",\"showlegend\":false,\"x\":[1995.55],\"xaxis\":\"x11\",\"y\":[230.02],\"yaxis\":\"y11\",\"type\":\"scatter\"}],\"name\":\"Portugal\"},{\"data\":[{\"hovertemplate\":\"<b>%{hovertext}</b><br><br>Country=Romania<br>Year=2011<br>Milk=%{x}<br>Cows=%{y}<extra></extra>\",\"hovertext\":[\"Romania\"],\"ids\":[2011],\"legendgroup\":\"Romania\",\"marker\":{\"color\":\"#00cc96\",\"symbol\":\"circle\"},\"mode\":\"markers\",\"name\":\"Romania\",\"orientation\":\"v\",\"showlegend\":true,\"x\":[4075.0],\"xaxis\":\"x\",\"y\":[1170.0],\"yaxis\":\"y\",\"type\":\"scatter\"},{\"hovertemplate\":\"<b>%{hovertext}</b><br><br>Country=Romania<br>Year=2012<br>Milk=%{x}<br>Cows=%{y}<extra></extra>\",\"hovertext\":[\"Romania\"],\"ids\":[2012],\"legendgroup\":\"Romania\",\"marker\":{\"color\":\"#00cc96\",\"symbol\":\"circle\"},\"mode\":\"markers\",\"name\":\"Romania\",\"orientation\":\"v\",\"showlegend\":false,\"x\":[3881.0],\"xaxis\":\"x2\",\"y\":[1162.7],\"yaxis\":\"y2\",\"type\":\"scatter\"},{\"hovertemplate\":\"<b>%{hovertext}</b><br><br>Country=Romania<br>Year=2013<br>Milk=%{x}<br>Cows=%{y}<extra></extra>\",\"hovertext\":[\"Romania\"],\"ids\":[2013],\"legendgroup\":\"Romania\",\"marker\":{\"color\":\"#00cc96\",\"symbol\":\"circle\"},\"mode\":\"markers\",\"name\":\"Romania\",\"orientation\":\"v\",\"showlegend\":false,\"x\":[3966.0],\"xaxis\":\"x3\",\"y\":[1168.9],\"yaxis\":\"y3\",\"type\":\"scatter\"},{\"hovertemplate\":\"<b>%{hovertext}</b><br><br>Country=Romania<br>Year=2014<br>Milk=%{x}<br>Cows=%{y}<extra></extra>\",\"hovertext\":[\"Romania\"],\"ids\":[2014],\"legendgroup\":\"Romania\",\"marker\":{\"color\":\"#00cc96\",\"symbol\":\"circle\"},\"mode\":\"markers\",\"name\":\"Romania\",\"orientation\":\"v\",\"showlegend\":false,\"x\":[4101.0],\"xaxis\":\"x4\",\"y\":[1188.4],\"yaxis\":\"y4\",\"type\":\"scatter\"},{\"hovertemplate\":\"<b>%{hovertext}</b><br><br>Country=Romania<br>Year=2015<br>Milk=%{x}<br>Cows=%{y}<extra></extra>\",\"hovertext\":[\"Romania\"],\"ids\":[2015],\"legendgroup\":\"Romania\",\"marker\":{\"color\":\"#00cc96\",\"symbol\":\"circle\"},\"mode\":\"markers\",\"name\":\"Romania\",\"orientation\":\"v\",\"showlegend\":false,\"x\":[3981.0],\"xaxis\":\"x5\",\"y\":[1190.7],\"yaxis\":\"y5\",\"type\":\"scatter\"},{\"hovertemplate\":\"<b>%{hovertext}</b><br><br>Country=Romania<br>Year=2016<br>Milk=%{x}<br>Cows=%{y}<extra></extra>\",\"hovertext\":[\"Romania\"],\"ids\":[2016],\"legendgroup\":\"Romania\",\"marker\":{\"color\":\"#00cc96\",\"symbol\":\"circle\"},\"mode\":\"markers\",\"name\":\"Romania\",\"orientation\":\"v\",\"showlegend\":false,\"x\":[3934.0],\"xaxis\":\"x6\",\"y\":[1192.6],\"yaxis\":\"y6\",\"type\":\"scatter\"},{\"hovertemplate\":\"<b>%{hovertext}</b><br><br>Country=Romania<br>Year=2017<br>Milk=%{x}<br>Cows=%{y}<extra></extra>\",\"hovertext\":[\"Romania\"],\"ids\":[2017],\"legendgroup\":\"Romania\",\"marker\":{\"color\":\"#00cc96\",\"symbol\":\"circle\"},\"mode\":\"markers\",\"name\":\"Romania\",\"orientation\":\"v\",\"showlegend\":false,\"x\":[3797.7],\"xaxis\":\"x7\",\"y\":[1175.4],\"yaxis\":\"y7\",\"type\":\"scatter\"},{\"hovertemplate\":\"<b>%{hovertext}</b><br><br>Country=Romania<br>Year=2018<br>Milk=%{x}<br>Cows=%{y}<extra></extra>\",\"hovertext\":[\"Romania\"],\"ids\":[2018],\"legendgroup\":\"Romania\",\"marker\":{\"color\":\"#00cc96\",\"symbol\":\"circle\"},\"mode\":\"markers\",\"name\":\"Romania\",\"orientation\":\"v\",\"showlegend\":false,\"x\":[3797.6],\"xaxis\":\"x8\",\"y\":[1158.2],\"yaxis\":\"y8\",\"type\":\"scatter\"},{\"hovertemplate\":\"<b>%{hovertext}</b><br><br>Country=Romania<br>Year=2019<br>Milk=%{x}<br>Cows=%{y}<extra></extra>\",\"hovertext\":[\"Romania\"],\"ids\":[2019],\"legendgroup\":\"Romania\",\"marker\":{\"color\":\"#00cc96\",\"symbol\":\"circle\"},\"mode\":\"markers\",\"name\":\"Romania\",\"orientation\":\"v\",\"showlegend\":false,\"x\":[3663.2],\"xaxis\":\"x9\",\"y\":[1138.8],\"yaxis\":\"y9\",\"type\":\"scatter\"},{\"hovertemplate\":\"<b>%{hovertext}</b><br><br>Country=Romania<br>Year=2020<br>Milk=%{x}<br>Cows=%{y}<extra></extra>\",\"hovertext\":[\"Romania\"],\"ids\":[2020],\"legendgroup\":\"Romania\",\"marker\":{\"color\":\"#00cc96\",\"symbol\":\"circle\"},\"mode\":\"markers\",\"name\":\"Romania\",\"orientation\":\"v\",\"showlegend\":false,\"x\":[3679.6],\"xaxis\":\"x10\",\"y\":[1121.9],\"yaxis\":\"y10\",\"type\":\"scatter\"},{\"hovertemplate\":\"<b>%{hovertext}</b><br><br>Country=Romania<br>Year=2021<br>Milk=%{x}<br>Cows=%{y}<extra></extra>\",\"hovertext\":[\"Romania\"],\"ids\":[2021],\"legendgroup\":\"Romania\",\"marker\":{\"color\":\"#00cc96\",\"symbol\":\"circle\"},\"mode\":\"markers\",\"name\":\"Romania\",\"orientation\":\"v\",\"showlegend\":false,\"x\":[3637.0],\"xaxis\":\"x11\",\"y\":[1081.9],\"yaxis\":\"y11\",\"type\":\"scatter\"}],\"name\":\"Romania\"},{\"data\":[{\"hovertemplate\":\"<b>%{hovertext}</b><br><br>Country=Slovenia<br>Year=2011<br>Milk=%{x}<br>Cows=%{y}<extra></extra>\",\"hovertext\":[\"Slovenia\"],\"ids\":[2011],\"legendgroup\":\"Slovenia\",\"marker\":{\"color\":\"#ab63fa\",\"symbol\":\"circle\"},\"mode\":\"markers\",\"name\":\"Slovenia\",\"orientation\":\"v\",\"showlegend\":true,\"x\":[601.59],\"xaxis\":\"x\",\"y\":[109.07],\"yaxis\":\"y\",\"type\":\"scatter\"},{\"hovertemplate\":\"<b>%{hovertext}</b><br><br>Country=Slovenia<br>Year=2012<br>Milk=%{x}<br>Cows=%{y}<extra></extra>\",\"hovertext\":[\"Slovenia\"],\"ids\":[2012],\"legendgroup\":\"Slovenia\",\"marker\":{\"color\":\"#ab63fa\",\"symbol\":\"circle\"},\"mode\":\"markers\",\"name\":\"Slovenia\",\"orientation\":\"v\",\"showlegend\":false,\"x\":[620.94],\"xaxis\":\"x2\",\"y\":[111.02],\"yaxis\":\"y2\",\"type\":\"scatter\"},{\"hovertemplate\":\"<b>%{hovertext}</b><br><br>Country=Slovenia<br>Year=2013<br>Milk=%{x}<br>Cows=%{y}<extra></extra>\",\"hovertext\":[\"Slovenia\"],\"ids\":[2013],\"legendgroup\":\"Slovenia\",\"marker\":{\"color\":\"#ab63fa\",\"symbol\":\"circle\"},\"mode\":\"markers\",\"name\":\"Slovenia\",\"orientation\":\"v\",\"showlegend\":false,\"x\":[595.5],\"xaxis\":\"x3\",\"y\":[109.57],\"yaxis\":\"y3\",\"type\":\"scatter\"},{\"hovertemplate\":\"<b>%{hovertext}</b><br><br>Country=Slovenia<br>Year=2014<br>Milk=%{x}<br>Cows=%{y}<extra></extra>\",\"hovertext\":[\"Slovenia\"],\"ids\":[2014],\"legendgroup\":\"Slovenia\",\"marker\":{\"color\":\"#ab63fa\",\"symbol\":\"circle\"},\"mode\":\"markers\",\"name\":\"Slovenia\",\"orientation\":\"v\",\"showlegend\":false,\"x\":[616.58],\"xaxis\":\"x4\",\"y\":[107.84],\"yaxis\":\"y4\",\"type\":\"scatter\"},{\"hovertemplate\":\"<b>%{hovertext}</b><br><br>Country=Slovenia<br>Year=2015<br>Milk=%{x}<br>Cows=%{y}<extra></extra>\",\"hovertext\":[\"Slovenia\"],\"ids\":[2015],\"legendgroup\":\"Slovenia\",\"marker\":{\"color\":\"#ab63fa\",\"symbol\":\"circle\"},\"mode\":\"markers\",\"name\":\"Slovenia\",\"orientation\":\"v\",\"showlegend\":false,\"x\":[631.67],\"xaxis\":\"x5\",\"y\":[112.84],\"yaxis\":\"y5\",\"type\":\"scatter\"},{\"hovertemplate\":\"<b>%{hovertext}</b><br><br>Country=Slovenia<br>Year=2016<br>Milk=%{x}<br>Cows=%{y}<extra></extra>\",\"hovertext\":[\"Slovenia\"],\"ids\":[2016],\"legendgroup\":\"Slovenia\",\"marker\":{\"color\":\"#ab63fa\",\"symbol\":\"circle\"},\"mode\":\"markers\",\"name\":\"Slovenia\",\"orientation\":\"v\",\"showlegend\":false,\"x\":[649.68],\"xaxis\":\"x6\",\"y\":[107.84],\"yaxis\":\"y6\",\"type\":\"scatter\"},{\"hovertemplate\":\"<b>%{hovertext}</b><br><br>Country=Slovenia<br>Year=2017<br>Milk=%{x}<br>Cows=%{y}<extra></extra>\",\"hovertext\":[\"Slovenia\"],\"ids\":[2017],\"legendgroup\":\"Slovenia\",\"marker\":{\"color\":\"#ab63fa\",\"symbol\":\"circle\"},\"mode\":\"markers\",\"name\":\"Slovenia\",\"orientation\":\"v\",\"showlegend\":false,\"x\":[647.99],\"xaxis\":\"x7\",\"y\":[108.83],\"yaxis\":\"y7\",\"type\":\"scatter\"},{\"hovertemplate\":\"<b>%{hovertext}</b><br><br>Country=Slovenia<br>Year=2018<br>Milk=%{x}<br>Cows=%{y}<extra></extra>\",\"hovertext\":[\"Slovenia\"],\"ids\":[2018],\"legendgroup\":\"Slovenia\",\"marker\":{\"color\":\"#ab63fa\",\"symbol\":\"circle\"},\"mode\":\"markers\",\"name\":\"Slovenia\",\"orientation\":\"v\",\"showlegend\":false,\"x\":[628.93],\"xaxis\":\"x8\",\"y\":[102.71],\"yaxis\":\"y8\",\"type\":\"scatter\"},{\"hovertemplate\":\"<b>%{hovertext}</b><br><br>Country=Slovenia<br>Year=2019<br>Milk=%{x}<br>Cows=%{y}<extra></extra>\",\"hovertext\":[\"Slovenia\"],\"ids\":[2019],\"legendgroup\":\"Slovenia\",\"marker\":{\"color\":\"#ab63fa\",\"symbol\":\"circle\"},\"mode\":\"markers\",\"name\":\"Slovenia\",\"orientation\":\"v\",\"showlegend\":false,\"x\":[623.02],\"xaxis\":\"x9\",\"y\":[100.84],\"yaxis\":\"y9\",\"type\":\"scatter\"},{\"hovertemplate\":\"<b>%{hovertext}</b><br><br>Country=Slovenia<br>Year=2020<br>Milk=%{x}<br>Cows=%{y}<extra></extra>\",\"hovertext\":[\"Slovenia\"],\"ids\":[2020],\"legendgroup\":\"Slovenia\",\"marker\":{\"color\":\"#ab63fa\",\"symbol\":\"circle\"},\"mode\":\"markers\",\"name\":\"Slovenia\",\"orientation\":\"v\",\"showlegend\":false,\"x\":[630.65],\"xaxis\":\"x10\",\"y\":[99.21],\"yaxis\":\"y10\",\"type\":\"scatter\"},{\"hovertemplate\":\"<b>%{hovertext}</b><br><br>Country=Slovenia<br>Year=2021<br>Milk=%{x}<br>Cows=%{y}<extra></extra>\",\"hovertext\":[\"Slovenia\"],\"ids\":[2021],\"legendgroup\":\"Slovenia\",\"marker\":{\"color\":\"#ab63fa\",\"symbol\":\"circle\"},\"mode\":\"markers\",\"name\":\"Slovenia\",\"orientation\":\"v\",\"showlegend\":false,\"x\":[639.93],\"xaxis\":\"x11\",\"y\":[100.92],\"yaxis\":\"y11\",\"type\":\"scatter\"}],\"name\":\"Slovenia\"},{\"data\":[{\"hovertemplate\":\"<b>%{hovertext}</b><br><br>Country=Slovakia<br>Year=2011<br>Milk=%{x}<br>Cows=%{y}<extra></extra>\",\"hovertext\":[\"Slovakia\"],\"ids\":[2011],\"legendgroup\":\"Slovakia\",\"marker\":{\"color\":\"#FFA15A\",\"symbol\":\"circle\"},\"mode\":\"markers\",\"name\":\"Slovakia\",\"orientation\":\"v\",\"showlegend\":true,\"x\":[928.32],\"xaxis\":\"x\",\"y\":[154.11],\"yaxis\":\"y\",\"type\":\"scatter\"},{\"hovertemplate\":\"<b>%{hovertext}</b><br><br>Country=Slovakia<br>Year=2012<br>Milk=%{x}<br>Cows=%{y}<extra></extra>\",\"hovertext\":[\"Slovakia\"],\"ids\":[2012],\"legendgroup\":\"Slovakia\",\"marker\":{\"color\":\"#FFA15A\",\"symbol\":\"circle\"},\"mode\":\"markers\",\"name\":\"Slovakia\",\"orientation\":\"v\",\"showlegend\":false,\"x\":[932.71],\"xaxis\":\"x2\",\"y\":[149.79],\"yaxis\":\"y2\",\"type\":\"scatter\"},{\"hovertemplate\":\"<b>%{hovertext}</b><br><br>Country=Slovakia<br>Year=2013<br>Milk=%{x}<br>Cows=%{y}<extra></extra>\",\"hovertext\":[\"Slovakia\"],\"ids\":[2013],\"legendgroup\":\"Slovakia\",\"marker\":{\"color\":\"#FFA15A\",\"symbol\":\"circle\"},\"mode\":\"markers\",\"name\":\"Slovakia\",\"orientation\":\"v\",\"showlegend\":false,\"x\":[911.96],\"xaxis\":\"x3\",\"y\":[144.88],\"yaxis\":\"y3\",\"type\":\"scatter\"},{\"hovertemplate\":\"<b>%{hovertext}</b><br><br>Country=Slovakia<br>Year=2014<br>Milk=%{x}<br>Cows=%{y}<extra></extra>\",\"hovertext\":[\"Slovakia\"],\"ids\":[2014],\"legendgroup\":\"Slovakia\",\"marker\":{\"color\":\"#FFA15A\",\"symbol\":\"circle\"},\"mode\":\"markers\",\"name\":\"Slovakia\",\"orientation\":\"v\",\"showlegend\":false,\"x\":[930.71],\"xaxis\":\"x4\",\"y\":[143.08],\"yaxis\":\"y4\",\"type\":\"scatter\"},{\"hovertemplate\":\"<b>%{hovertext}</b><br><br>Country=Slovakia<br>Year=2015<br>Milk=%{x}<br>Cows=%{y}<extra></extra>\",\"hovertext\":[\"Slovakia\"],\"ids\":[2015],\"legendgroup\":\"Slovakia\",\"marker\":{\"color\":\"#FFA15A\",\"symbol\":\"circle\"},\"mode\":\"markers\",\"name\":\"Slovakia\",\"orientation\":\"v\",\"showlegend\":false,\"x\":[930.98],\"xaxis\":\"x5\",\"y\":[139.26],\"yaxis\":\"y5\",\"type\":\"scatter\"},{\"hovertemplate\":\"<b>%{hovertext}</b><br><br>Country=Slovakia<br>Year=2016<br>Milk=%{x}<br>Cows=%{y}<extra></extra>\",\"hovertext\":[\"Slovakia\"],\"ids\":[2016],\"legendgroup\":\"Slovakia\",\"marker\":{\"color\":\"#FFA15A\",\"symbol\":\"circle\"},\"mode\":\"markers\",\"name\":\"Slovakia\",\"orientation\":\"v\",\"showlegend\":false,\"x\":[905.26],\"xaxis\":\"x6\",\"y\":[132.61],\"yaxis\":\"y6\",\"type\":\"scatter\"},{\"hovertemplate\":\"<b>%{hovertext}</b><br><br>Country=Slovakia<br>Year=2017<br>Milk=%{x}<br>Cows=%{y}<extra></extra>\",\"hovertext\":[\"Slovakia\"],\"ids\":[2017],\"legendgroup\":\"Slovakia\",\"marker\":{\"color\":\"#FFA15A\",\"symbol\":\"circle\"},\"mode\":\"markers\",\"name\":\"Slovakia\",\"orientation\":\"v\",\"showlegend\":false,\"x\":[911.73],\"xaxis\":\"x7\",\"y\":[129.86],\"yaxis\":\"y7\",\"type\":\"scatter\"},{\"hovertemplate\":\"<b>%{hovertext}</b><br><br>Country=Slovakia<br>Year=2018<br>Milk=%{x}<br>Cows=%{y}<extra></extra>\",\"hovertext\":[\"Slovakia\"],\"ids\":[2018],\"legendgroup\":\"Slovakia\",\"marker\":{\"color\":\"#FFA15A\",\"symbol\":\"circle\"},\"mode\":\"markers\",\"name\":\"Slovakia\",\"orientation\":\"v\",\"showlegend\":false,\"x\":[904.62],\"xaxis\":\"x8\",\"y\":[127.87],\"yaxis\":\"y8\",\"type\":\"scatter\"},{\"hovertemplate\":\"<b>%{hovertext}</b><br><br>Country=Slovakia<br>Year=2019<br>Milk=%{x}<br>Cows=%{y}<extra></extra>\",\"hovertext\":[\"Slovakia\"],\"ids\":[2019],\"legendgroup\":\"Slovakia\",\"marker\":{\"color\":\"#FFA15A\",\"symbol\":\"circle\"},\"mode\":\"markers\",\"name\":\"Slovakia\",\"orientation\":\"v\",\"showlegend\":false,\"x\":[904.26],\"xaxis\":\"x9\",\"y\":[125.85],\"yaxis\":\"y9\",\"type\":\"scatter\"},{\"hovertemplate\":\"<b>%{hovertext}</b><br><br>Country=Slovakia<br>Year=2020<br>Milk=%{x}<br>Cows=%{y}<extra></extra>\",\"hovertext\":[\"Slovakia\"],\"ids\":[2020],\"legendgroup\":\"Slovakia\",\"marker\":{\"color\":\"#FFA15A\",\"symbol\":\"circle\"},\"mode\":\"markers\",\"name\":\"Slovakia\",\"orientation\":\"v\",\"showlegend\":false,\"x\":[917.69],\"xaxis\":\"x10\",\"y\":[122.05],\"yaxis\":\"y10\",\"type\":\"scatter\"},{\"hovertemplate\":\"<b>%{hovertext}</b><br><br>Country=Slovakia<br>Year=2021<br>Milk=%{x}<br>Cows=%{y}<extra></extra>\",\"hovertext\":[\"Slovakia\"],\"ids\":[2021],\"legendgroup\":\"Slovakia\",\"marker\":{\"color\":\"#FFA15A\",\"symbol\":\"circle\"},\"mode\":\"markers\",\"name\":\"Slovakia\",\"orientation\":\"v\",\"showlegend\":false,\"x\":[902.64],\"xaxis\":\"x11\",\"y\":[120.07],\"yaxis\":\"y11\",\"type\":\"scatter\"}],\"name\":\"Slovakia\"},{\"data\":[{\"hovertemplate\":\"<b>%{hovertext}</b><br><br>Country=Finland<br>Year=2011<br>Milk=%{x}<br>Cows=%{y}<extra></extra>\",\"hovertext\":[\"Finland\"],\"ids\":[2011],\"legendgroup\":\"Finland\",\"marker\":{\"color\":\"#19d3f3\",\"symbol\":\"circle\"},\"mode\":\"markers\",\"name\":\"Finland\",\"orientation\":\"v\",\"showlegend\":true,\"x\":[2300.73],\"xaxis\":\"x\",\"y\":[281.53],\"yaxis\":\"y\",\"type\":\"scatter\"},{\"hovertemplate\":\"<b>%{hovertext}</b><br><br>Country=Finland<br>Year=2012<br>Milk=%{x}<br>Cows=%{y}<extra></extra>\",\"hovertext\":[\"Finland\"],\"ids\":[2012],\"legendgroup\":\"Finland\",\"marker\":{\"color\":\"#19d3f3\",\"symbol\":\"circle\"},\"mode\":\"markers\",\"name\":\"Finland\",\"orientation\":\"v\",\"showlegend\":false,\"x\":[2296.68],\"xaxis\":\"x2\",\"y\":[279.87],\"yaxis\":\"y2\",\"type\":\"scatter\"},{\"hovertemplate\":\"<b>%{hovertext}</b><br><br>Country=Finland<br>Year=2013<br>Milk=%{x}<br>Cows=%{y}<extra></extra>\",\"hovertext\":[\"Finland\"],\"ids\":[2013],\"legendgroup\":\"Finland\",\"marker\":{\"color\":\"#19d3f3\",\"symbol\":\"circle\"},\"mode\":\"markers\",\"name\":\"Finland\",\"orientation\":\"v\",\"showlegend\":false,\"x\":[2327.8],\"xaxis\":\"x3\",\"y\":[282.01],\"yaxis\":\"y3\",\"type\":\"scatter\"},{\"hovertemplate\":\"<b>%{hovertext}</b><br><br>Country=Finland<br>Year=2014<br>Milk=%{x}<br>Cows=%{y}<extra></extra>\",\"hovertext\":[\"Finland\"],\"ids\":[2014],\"legendgroup\":\"Finland\",\"marker\":{\"color\":\"#19d3f3\",\"symbol\":\"circle\"},\"mode\":\"markers\",\"name\":\"Finland\",\"orientation\":\"v\",\"showlegend\":false,\"x\":[2400.01],\"xaxis\":\"x4\",\"y\":[282.91],\"yaxis\":\"y4\",\"type\":\"scatter\"},{\"hovertemplate\":\"<b>%{hovertext}</b><br><br>Country=Finland<br>Year=2015<br>Milk=%{x}<br>Cows=%{y}<extra></extra>\",\"hovertext\":[\"Finland\"],\"ids\":[2015],\"legendgroup\":\"Finland\",\"marker\":{\"color\":\"#19d3f3\",\"symbol\":\"circle\"},\"mode\":\"markers\",\"name\":\"Finland\",\"orientation\":\"v\",\"showlegend\":false,\"x\":[2436.76],\"xaxis\":\"x5\",\"y\":[282.23],\"yaxis\":\"y5\",\"type\":\"scatter\"},{\"hovertemplate\":\"<b>%{hovertext}</b><br><br>Country=Finland<br>Year=2016<br>Milk=%{x}<br>Cows=%{y}<extra></extra>\",\"hovertext\":[\"Finland\"],\"ids\":[2016],\"legendgroup\":\"Finland\",\"marker\":{\"color\":\"#19d3f3\",\"symbol\":\"circle\"},\"mode\":\"markers\",\"name\":\"Finland\",\"orientation\":\"v\",\"showlegend\":false,\"x\":[2429.59],\"xaxis\":\"x6\",\"y\":[275.38],\"yaxis\":\"y6\",\"type\":\"scatter\"},{\"hovertemplate\":\"<b>%{hovertext}</b><br><br>Country=Finland<br>Year=2017<br>Milk=%{x}<br>Cows=%{y}<extra></extra>\",\"hovertext\":[\"Finland\"],\"ids\":[2017],\"legendgroup\":\"Finland\",\"marker\":{\"color\":\"#19d3f3\",\"symbol\":\"circle\"},\"mode\":\"markers\",\"name\":\"Finland\",\"orientation\":\"v\",\"showlegend\":false,\"x\":[2405.76],\"xaxis\":\"x7\",\"y\":[270.64],\"yaxis\":\"y7\",\"type\":\"scatter\"},{\"hovertemplate\":\"<b>%{hovertext}</b><br><br>Country=Finland<br>Year=2018<br>Milk=%{x}<br>Cows=%{y}<extra></extra>\",\"hovertext\":[\"Finland\"],\"ids\":[2018],\"legendgroup\":\"Finland\",\"marker\":{\"color\":\"#19d3f3\",\"symbol\":\"circle\"},\"mode\":\"markers\",\"name\":\"Finland\",\"orientation\":\"v\",\"showlegend\":false,\"x\":[2397.88],\"xaxis\":\"x8\",\"y\":[263.64],\"yaxis\":\"y8\",\"type\":\"scatter\"},{\"hovertemplate\":\"<b>%{hovertext}</b><br><br>Country=Finland<br>Year=2019<br>Milk=%{x}<br>Cows=%{y}<extra></extra>\",\"hovertext\":[\"Finland\"],\"ids\":[2019],\"legendgroup\":\"Finland\",\"marker\":{\"color\":\"#19d3f3\",\"symbol\":\"circle\"},\"mode\":\"markers\",\"name\":\"Finland\",\"orientation\":\"v\",\"showlegend\":false,\"x\":[2374.36],\"xaxis\":\"x9\",\"y\":[258.94],\"yaxis\":\"y9\",\"type\":\"scatter\"},{\"hovertemplate\":\"<b>%{hovertext}</b><br><br>Country=Finland<br>Year=2020<br>Milk=%{x}<br>Cows=%{y}<extra></extra>\",\"hovertext\":[\"Finland\"],\"ids\":[2020],\"legendgroup\":\"Finland\",\"marker\":{\"color\":\"#19d3f3\",\"symbol\":\"circle\"},\"mode\":\"markers\",\"name\":\"Finland\",\"orientation\":\"v\",\"showlegend\":false,\"x\":[2406.52],\"xaxis\":\"x10\",\"y\":[255.62],\"yaxis\":\"y10\",\"type\":\"scatter\"},{\"hovertemplate\":\"<b>%{hovertext}</b><br><br>Country=Finland<br>Year=2021<br>Milk=%{x}<br>Cows=%{y}<extra></extra>\",\"hovertext\":[\"Finland\"],\"ids\":[2021],\"legendgroup\":\"Finland\",\"marker\":{\"color\":\"#19d3f3\",\"symbol\":\"circle\"},\"mode\":\"markers\",\"name\":\"Finland\",\"orientation\":\"v\",\"showlegend\":false,\"x\":[2161.46],\"xaxis\":\"x11\",\"y\":[248.53],\"yaxis\":\"y11\",\"type\":\"scatter\"}],\"name\":\"Finland\"},{\"data\":[{\"hovertemplate\":\"<b>%{hovertext}</b><br><br>Country=Sweden<br>Year=2011<br>Milk=%{x}<br>Cows=%{y}<extra></extra>\",\"hovertext\":[\"Sweden\"],\"ids\":[2011],\"legendgroup\":\"Sweden\",\"marker\":{\"color\":\"#FF6692\",\"symbol\":\"circle\"},\"mode\":\"markers\",\"name\":\"Sweden\",\"orientation\":\"v\",\"showlegend\":true,\"x\":[2850.4],\"xaxis\":\"x\",\"y\":[347.65],\"yaxis\":\"y\",\"type\":\"scatter\"},{\"hovertemplate\":\"<b>%{hovertext}</b><br><br>Country=Sweden<br>Year=2012<br>Milk=%{x}<br>Cows=%{y}<extra></extra>\",\"hovertext\":[\"Sweden\"],\"ids\":[2012],\"legendgroup\":\"Sweden\",\"marker\":{\"color\":\"#FF6692\",\"symbol\":\"circle\"},\"mode\":\"markers\",\"name\":\"Sweden\",\"orientation\":\"v\",\"showlegend\":false,\"x\":[2861.17],\"xaxis\":\"x2\",\"y\":[345.53],\"yaxis\":\"y2\",\"type\":\"scatter\"},{\"hovertemplate\":\"<b>%{hovertext}</b><br><br>Country=Sweden<br>Year=2013<br>Milk=%{x}<br>Cows=%{y}<extra></extra>\",\"hovertext\":[\"Sweden\"],\"ids\":[2013],\"legendgroup\":\"Sweden\",\"marker\":{\"color\":\"#FF6692\",\"symbol\":\"circle\"},\"mode\":\"markers\",\"name\":\"Sweden\",\"orientation\":\"v\",\"showlegend\":false,\"x\":[2869.58],\"xaxis\":\"x3\",\"y\":[346.12],\"yaxis\":\"y3\",\"type\":\"scatter\"},{\"hovertemplate\":\"<b>%{hovertext}</b><br><br>Country=Sweden<br>Year=2014<br>Milk=%{x}<br>Cows=%{y}<extra></extra>\",\"hovertext\":[\"Sweden\"],\"ids\":[2014],\"legendgroup\":\"Sweden\",\"marker\":{\"color\":\"#FF6692\",\"symbol\":\"circle\"},\"mode\":\"markers\",\"name\":\"Sweden\",\"orientation\":\"v\",\"showlegend\":false,\"x\":[2931.65],\"xaxis\":\"x4\",\"y\":[344.19],\"yaxis\":\"y4\",\"type\":\"scatter\"},{\"hovertemplate\":\"<b>%{hovertext}</b><br><br>Country=Sweden<br>Year=2015<br>Milk=%{x}<br>Cows=%{y}<extra></extra>\",\"hovertext\":[\"Sweden\"],\"ids\":[2015],\"legendgroup\":\"Sweden\",\"marker\":{\"color\":\"#FF6692\",\"symbol\":\"circle\"},\"mode\":\"markers\",\"name\":\"Sweden\",\"orientation\":\"v\",\"showlegend\":false,\"x\":[2933.16],\"xaxis\":\"x5\",\"y\":[336.8],\"yaxis\":\"y5\",\"type\":\"scatter\"},{\"hovertemplate\":\"<b>%{hovertext}</b><br><br>Country=Sweden<br>Year=2016<br>Milk=%{x}<br>Cows=%{y}<extra></extra>\",\"hovertext\":[\"Sweden\"],\"ids\":[2016],\"legendgroup\":\"Sweden\",\"marker\":{\"color\":\"#FF6692\",\"symbol\":\"circle\"},\"mode\":\"markers\",\"name\":\"Sweden\",\"orientation\":\"v\",\"showlegend\":false,\"x\":[2862.23],\"xaxis\":\"x6\",\"y\":[326.12],\"yaxis\":\"y6\",\"type\":\"scatter\"},{\"hovertemplate\":\"<b>%{hovertext}</b><br><br>Country=Sweden<br>Year=2017<br>Milk=%{x}<br>Cows=%{y}<extra></extra>\",\"hovertext\":[\"Sweden\"],\"ids\":[2017],\"legendgroup\":\"Sweden\",\"marker\":{\"color\":\"#FF6692\",\"symbol\":\"circle\"},\"mode\":\"markers\",\"name\":\"Sweden\",\"orientation\":\"v\",\"showlegend\":false,\"x\":[2816.66],\"xaxis\":\"x7\",\"y\":[323.44],\"yaxis\":\"y7\",\"type\":\"scatter\"},{\"hovertemplate\":\"<b>%{hovertext}</b><br><br>Country=Sweden<br>Year=2018<br>Milk=%{x}<br>Cows=%{y}<extra></extra>\",\"hovertext\":[\"Sweden\"],\"ids\":[2018],\"legendgroup\":\"Sweden\",\"marker\":{\"color\":\"#FF6692\",\"symbol\":\"circle\"},\"mode\":\"markers\",\"name\":\"Sweden\",\"orientation\":\"v\",\"showlegend\":false,\"x\":[2760.23],\"xaxis\":\"x8\",\"y\":[313.05],\"yaxis\":\"y8\",\"type\":\"scatter\"},{\"hovertemplate\":\"<b>%{hovertext}</b><br><br>Country=Sweden<br>Year=2019<br>Milk=%{x}<br>Cows=%{y}<extra></extra>\",\"hovertext\":[\"Sweden\"],\"ids\":[2019],\"legendgroup\":\"Sweden\",\"marker\":{\"color\":\"#FF6692\",\"symbol\":\"circle\"},\"mode\":\"markers\",\"name\":\"Sweden\",\"orientation\":\"v\",\"showlegend\":false,\"x\":[2704.39],\"xaxis\":\"x9\",\"y\":[301.38],\"yaxis\":\"y9\",\"type\":\"scatter\"},{\"hovertemplate\":\"<b>%{hovertext}</b><br><br>Country=Sweden<br>Year=2020<br>Milk=%{x}<br>Cows=%{y}<extra></extra>\",\"hovertext\":[\"Sweden\"],\"ids\":[2020],\"legendgroup\":\"Sweden\",\"marker\":{\"color\":\"#FF6692\",\"symbol\":\"circle\"},\"mode\":\"markers\",\"name\":\"Sweden\",\"orientation\":\"v\",\"showlegend\":false,\"x\":[2772.74],\"xaxis\":\"x10\",\"y\":[304.4],\"yaxis\":\"y10\",\"type\":\"scatter\"},{\"hovertemplate\":\"<b>%{hovertext}</b><br><br>Country=Sweden<br>Year=2021<br>Milk=%{x}<br>Cows=%{y}<extra></extra>\",\"hovertext\":[\"Sweden\"],\"ids\":[2021],\"legendgroup\":\"Sweden\",\"marker\":{\"color\":\"#FF6692\",\"symbol\":\"circle\"},\"mode\":\"markers\",\"name\":\"Sweden\",\"orientation\":\"v\",\"showlegend\":false,\"x\":[2782.22],\"xaxis\":\"x11\",\"y\":[299.6],\"yaxis\":\"y11\",\"type\":\"scatter\"}],\"name\":\"Sweden\"}]);\n",
       "                        }).then(function(){\n",
       "                            \n",
       "var gd = document.getElementById('c370132d-9c0a-41b5-8b88-7e08437657c0');\n",
       "var x = new MutationObserver(function (mutations, observer) {{\n",
       "        var display = window.getComputedStyle(gd).display;\n",
       "        if (!display || display === 'none') {{\n",
       "            console.log([gd, 'removed!']);\n",
       "            Plotly.purge(gd);\n",
       "            observer.disconnect();\n",
       "        }}\n",
       "}});\n",
       "\n",
       "// Listen for the removal of the full notebook cells\n",
       "var notebookContainer = gd.closest('#notebook-container');\n",
       "if (notebookContainer) {{\n",
       "    x.observe(notebookContainer, {childList: true});\n",
       "}}\n",
       "\n",
       "// Listen for the clearing of the current output cell\n",
       "var outputEl = gd.closest('.output');\n",
       "if (outputEl) {{\n",
       "    x.observe(outputEl, {childList: true});\n",
       "}}\n",
       "\n",
       "                        })                };                });            </script>        </div>"
      ]
     },
     "metadata": {},
     "output_type": "display_data"
    }
   ],
   "source": [
    "fig.show() "
   ]
  },
  {
   "cell_type": "code",
   "execution_count": null,
   "metadata": {},
   "outputs": [],
   "source": []
  }
 ],
 "metadata": {
  "kernelspec": {
   "display_name": "Python 3 (ipykernel)",
   "language": "python",
   "name": "python3"
  },
  "language_info": {
   "codemirror_mode": {
    "name": "ipython",
    "version": 3
   },
   "file_extension": ".py",
   "mimetype": "text/x-python",
   "name": "python",
   "nbconvert_exporter": "python",
   "pygments_lexer": "ipython3",
   "version": "3.9.12"
  }
 },
 "nbformat": 4,
 "nbformat_minor": 2
}
