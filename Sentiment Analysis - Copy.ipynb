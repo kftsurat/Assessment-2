{
 "cells": [
  {
   "cell_type": "markdown",
   "id": "15d4dcba",
   "metadata": {},
   "source": [
    "# Sentiment Analysis"
   ]
  },
  {
   "cell_type": "code",
   "execution_count": 1,
   "id": "98c3b090",
   "metadata": {},
   "outputs": [
    {
     "name": "stdout",
     "output_type": "stream",
     "text": [
      "Requirement already satisfied: python-dotenv in c:\\users\\kftsu\\anaconda3\\lib\\site-packages (0.21.0)\n"
     ]
    }
   ],
   "source": [
    "!pip install python-dotenv"
   ]
  },
  {
   "cell_type": "code",
   "execution_count": 2,
   "id": "839a3569",
   "metadata": {},
   "outputs": [],
   "source": [
    "from dotenv import dotenv_values\n",
    "\n",
    "config = dotenv_values('.env')"
   ]
  },
  {
   "cell_type": "code",
   "execution_count": 3,
   "id": "257b49d3",
   "metadata": {},
   "outputs": [
    {
     "name": "stdout",
     "output_type": "stream",
     "text": [
      "Requirement already satisfied: requests in c:\\users\\kftsu\\anaconda3\\lib\\site-packages (2.25.0)\n",
      "Requirement already satisfied: certifi>=2017.4.17 in c:\\users\\kftsu\\anaconda3\\lib\\site-packages (from requests) (2021.10.8)\n",
      "Requirement already satisfied: urllib3<1.27,>=1.21.1 in c:\\users\\kftsu\\anaconda3\\lib\\site-packages (from requests) (1.26.9)\n",
      "Requirement already satisfied: idna<3,>=2.5 in c:\\users\\kftsu\\anaconda3\\lib\\site-packages (from requests) (2.10)\n",
      "Requirement already satisfied: chardet<4,>=3.0.2 in c:\\users\\kftsu\\anaconda3\\lib\\site-packages (from requests) (3.0.4)\n"
     ]
    }
   ],
   "source": [
    "!pip install requests"
   ]
  },
  {
   "cell_type": "code",
   "execution_count": 4,
   "id": "2ddaa04b",
   "metadata": {},
   "outputs": [],
   "source": [
    "import requests\n",
    "import json"
   ]
  },
  {
   "cell_type": "code",
   "execution_count": 9,
   "id": "820c35d4",
   "metadata": {},
   "outputs": [
    {
     "name": "stdout",
     "output_type": "stream",
     "text": [
      "{\n",
      "   \"data\": [\n",
      "      {\n",
      "         \"text\": \"@JustineClaire65 And black is white and up is down. And Johnson isn't a pathological liar, Farage is an honorable man, and Rees Mogg doesn't keep his money in the Cayman islands and moved his business to Ireland. Oh, and the moon's made of cheese.\",\n",
      "         \"id\": \"1608571082461560837\",\n",
      "         \"author_id\": \"1085889301232173061\",\n",
      "         \"edit_history_tweet_ids\": [\n",
      "            \"1608571082461560837\"\n",
      "         ]\n",
      "      },\n",
      "      {\n",
      "         \"text\": \"We are spending a few days in Ireland with Neasa's family &amp; friends, sharing a few bottles from our Irish wine collection. Solas rosé paired with charcuterie and cheese is perfect after a few days of heavy meals! \\n\\nHow do you spend the week between Christmas and New Year? https://t.co/VubKFyTI53\",\n",
      "         \"id\": \"1608372605555298307\",\n",
      "         \"author_id\": \"213212254\",\n",
      "         \"edit_history_tweet_ids\": [\n",
      "            \"1608372605555298307\"\n",
      "         ]\n",
      "      },\n",
      "      {\n",
      "         \"text\": \"@Sandra46427493 @historyinmemes Maybe read a book on the subject before making inane comments - there was plenty of other food in Ireland to feed the population four times over (cows, pigs, wheat, oats, cheese, etc) but it was exported to Great Britain, leaving the poor who relied on the potato to starve\",\n",
      "         \"id\": \"1608345442877673473\",\n",
      "         \"author_id\": \"1391819827623469060\",\n",
      "         \"edit_history_tweet_ids\": [\n",
      "            \"1608345442877673473\"\n",
      "         ]\n",
      "      },\n",
      "      {\n",
      "         \"text\": \"I just had cheese and crackers for the first time since I was in #Ireland and it wasn't as good\",\n",
      "         \"id\": \"1608278061148946436\",\n",
      "         \"author_id\": \"1389339805658632204\",\n",
      "         \"edit_history_tweet_ids\": [\n",
      "            \"1608278061148946436\"\n",
      "         ]\n",
      "      },\n",
      "      {\n",
      "         \"text\": \"@Goosey30111568 @MatthewStadlen 6 cont) means we are able to hold sewage polluters to accoun\\n7) £40bn more a year in tax revenue, so taxes don't have to go up\\n8) Cheese sandwiches aren't confiscated at the border\\n9) Peace in N Ireland\\n10) Britain no longer looks like a small-minded, bigoted country\",\n",
      "         \"id\": \"1608162720028696579\",\n",
      "         \"author_id\": \"710746848\",\n",
      "         \"edit_history_tweet_ids\": [\n",
      "            \"1608162720028696579\"\n",
      "         ]\n",
      "      },\n",
      "      {\n",
      "         \"text\": \"i open smash scotland for 60 seconds and i see people saying wolf has no cheese.\\n\\ni give smash ireland a lot of slack but its not that bad\",\n",
      "         \"id\": \"1608152564478152704\",\n",
      "         \"author_id\": \"972876620297064448\",\n",
      "         \"edit_history_tweet_ids\": [\n",
      "            \"1608152564478152704\"\n",
      "         ]\n",
      "      },\n",
      "      {\n",
      "         \"text\": \"Spending between Xmas and NYE in Northern Ireland with family. Controversial family favourite toastie. Banana and Cheese - grilled to perfection. I think it’s time to finally share this pinnacle of sweet/savoury cuisine. 🍌🧀 https://t.co/M4dluohe2z\",\n",
      "         \"id\": \"1608069355526316033\",\n",
      "         \"author_id\": \"1425376244875546624\",\n",
      "         \"edit_history_tweet_ids\": [\n",
      "            \"1608069355526316033\"\n",
      "         ]\n",
      "      },\n",
      "      {\n",
      "         \"text\": \"@punchedmonet_ @alannah_siobhan Wasn't it an important port for the Brits to provision their ships? Butter, wheat &amp; cheese, whisky etc, flowed out of the midlands &amp; out of Ireland through Cork; also the Irish Oak that the brit navy sailed in? \\nThat's why Cork has notions still?\",\n",
      "         \"id\": \"1608042608009547776\",\n",
      "         \"author_id\": \"3871294456\",\n",
      "         \"edit_history_tweet_ids\": [\n",
      "            \"1608042608009547776\"\n",
      "         ]\n",
      "      },\n",
      "      {\n",
      "         \"text\": \"Ireland has had curry cheese chips for decades, ahead of the curve I guess https://t.co/FY3gfGviUN\",\n",
      "         \"id\": \"1608023930052444160\",\n",
      "         \"author_id\": \"256131713\",\n",
      "         \"edit_history_tweet_ids\": [\n",
      "            \"1608023930052444160\"\n",
      "         ]\n",
      "      },\n",
      "      {\n",
      "         \"text\": \"@JLHGameArt Just a flavor you're not used to. It's also in parmesan cheese. I had some chocos in Ireland, soft and bland to my palette.\",\n",
      "         \"id\": \"1607901716212482048\",\n",
      "         \"author_id\": \"20154732\",\n",
      "         \"edit_history_tweet_ids\": [\n",
      "            \"1607901716212482048\"\n",
      "         ]\n",
      "      },\n",
      "      {\n",
      "         \"text\": \"@sineadcunningha @RobertCheeke It's weird that McD has been so bad about this - the plant based burgers in Ireland have been popular but when it came time to roll them out in the US they only did so in (weird) test markets and without the recycled packaging, vegan cheese and vegan mayo.\",\n",
      "         \"id\": \"1607899966974095362\",\n",
      "         \"author_id\": \"1479321660721225730\",\n",
      "         \"edit_history_tweet_ids\": [\n",
      "            \"1607899966974095362\"\n",
      "         ]\n",
      "      },\n",
      "      {\n",
      "         \"text\": \"@RedGabcsika @lecanardnoir The Bonnet goats cheese from Ireland went down a storm. The wine washed rind Formaggio Ubriaco Rosso, a new delicious taste sensation, special reserve aged Gouda magnificent. The gorgonzola at its peak and an Alp Blossom always a pleaser. An excellent Lincolnshire poacher too.\",\n",
      "         \"id\": \"1607855505871077377\",\n",
      "         \"author_id\": \"2773366109\",\n",
      "         \"edit_history_tweet_ids\": [\n",
      "            \"1607855505871077377\"\n",
      "         ]\n",
      "      },\n",
      "      {\n",
      "         \"text\": \"The St-Stephen's day meet-cute no-one asked for. It's Teen and Up, it's a stand-alone first meeting fic and it's a love letter to Ireland, selection boxes and cheese and onion crisps. #ofmd #blackbonnet #gentlebeard #OurFlagMeansDeath https://t.co/XMAZJQVKCD\",\n",
      "         \"id\": \"1607802073738891266\",\n",
      "         \"author_id\": \"1575916969659883520\",\n",
      "         \"edit_history_tweet_ids\": [\n",
      "            \"1607802073738891266\"\n",
      "         ]\n",
      "      },\n",
      "      {\n",
      "         \"text\": \"🚨Coming out of a cheese &amp; mince-pie coma just in time to realise i'm on tv today &amp; tomorrow! First up this evening 6:30pm: 'How Ireland Rocked The 80s'💚 @RTEOne @u2 @hothouseflowers @tomhappens @MickPuck @poguesofficial @DeargFilms #Ireland https://t.co/mCOR21gLGV\",\n",
      "         \"id\": \"1607756605579464704\",\n",
      "         \"author_id\": \"1357204375\",\n",
      "         \"edit_history_tweet_ids\": [\n",
      "            \"1607756605579464704\"\n",
      "         ]\n",
      "      },\n",
      "      {\n",
      "         \"text\": \"@Ianhwatkins Hello from Ireland, where we love Cheese. What is tour favourite cheese, please?\",\n",
      "         \"id\": \"1607503960042082306\",\n",
      "         \"author_id\": \"1241531260998242304\",\n",
      "         \"edit_history_tweet_ids\": [\n",
      "            \"1607503960042082306\"\n",
      "         ]\n",
      "      },\n",
      "      {\n",
      "         \"text\": \"Somewhere in Ireland there’s an auld lad finishing off his cheese and onion crisps muttering ‘That’s it all over now for another year.’\\n\\nIn Spain they don’t exchange gifts for another 12 days 🤣 The festivities are spread out over 2 weeks, easing everyone into January. It’s nice.\",\n",
      "         \"id\": \"1607085410643238912\",\n",
      "         \"author_id\": \"239418784\",\n",
      "         \"edit_history_tweet_ids\": [\n",
      "            \"1607085410643238912\"\n",
      "         ]\n",
      "      },\n",
      "      {\n",
      "         \"text\": \"@HillaryMonahan True story, you can't really get kerrygold cheese in Ireland. They're known here for their butter instead. The cheese is only for export (but it is tasty af)\",\n",
      "         \"id\": \"1606982005480382465\",\n",
      "         \"author_id\": \"15359018\",\n",
      "         \"edit_history_tweet_ids\": [\n",
      "            \"1606982005480382465\"\n",
      "         ]\n",
      "      },\n",
      "      {\n",
      "         \"text\": \"BREAKING: Father Christmas has been to Ireland, and his favourite Tayto flavour is cheese and onion. 🎄 https://t.co/BXtMmQfCT5\",\n",
      "         \"id\": \"1606937348075556865\",\n",
      "         \"author_id\": \"14671775\",\n",
      "         \"edit_history_tweet_ids\": [\n",
      "            \"1606937348075556865\"\n",
      "         ]\n",
      "      },\n",
      "      {\n",
      "         \"text\": \"Merry Christmas everybody. My sincere condolences to those of you in Ireland who have not got any Cavanbert for your cheese board tomorrow.\",\n",
      "         \"id\": \"1606795192132042754\",\n",
      "         \"author_id\": \"85187949\",\n",
      "         \"edit_history_tweet_ids\": [\n",
      "            \"1606795192132042754\"\n",
      "         ]\n",
      "      },\n",
      "      {\n",
      "         \"text\": \"Home in Ireland all of 3 minutes and i’ve already got Irish smoked salmon and brown bread and a cheese board. Merry Christmas 🎄🎄🤣🧀 https://t.co/mozY3lYGHx\",\n",
      "         \"id\": \"1606646872126300160\",\n",
      "         \"author_id\": \"1426491187863728129\",\n",
      "         \"edit_history_tweet_ids\": [\n",
      "            \"1606646872126300160\"\n",
      "         ]\n",
      "      },\n",
      "      {\n",
      "         \"text\": \"@Antifa_VP Agree Ireland should be way down list, but why are US, UK and NL in the top 50. Burgers, Pork Pies and shite cheese???? The best foods in these 3 countries are the stolen colonial ones.\",\n",
      "         \"id\": \"1606479980610953216\",\n",
      "         \"author_id\": \"20893045\",\n",
      "         \"edit_history_tweet_ids\": [\n",
      "            \"1606479980610953216\"\n",
      "         ]\n",
      "      },\n",
      "      {\n",
      "         \"text\": \"'Roach Coach (?) @SpainFoodWineUS Ireland Armenia India Korea @TacoBellAus delivery of sort creative idea work and progress @FoodNetwork \\n\\nNew individual fast food order - 3 (or 2?) and a half pounds (?)\\n\\n. Philly cheese steak \\n. 4 cheese \\n. Noodle side https://t.co/BSf9P0D9Lm\",\n",
      "         \"id\": \"1606419730927321088\",\n",
      "         \"author_id\": \"1602780644064444416\",\n",
      "         \"edit_history_tweet_ids\": [\n",
      "            \"1606419730927321088\"\n",
      "         ]\n",
      "      },\n",
      "      {\n",
      "         \"text\": \"@FootyScran @GalwayUnitedFC Cheese and curry sauce? FFS, this is why we don't have a United Ireland\",\n",
      "         \"id\": \"1606372831104798728\",\n",
      "         \"author_id\": \"20075900\",\n",
      "         \"edit_history_tweet_ids\": [\n",
      "            \"1606372831104798728\"\n",
      "         ]\n",
      "      },\n",
      "      {\n",
      "         \"text\": \"@itshoneylive Yes and it was at some tiny little pub in a little Ireland farm town. And it had beets, goat cheese, arugula, tomato, and some other stuff. And it was the best sandwich I’ve ever had and I can’t recreate it if my life depended on it\",\n",
      "         \"id\": \"1606324665261195266\",\n",
      "         \"author_id\": \"1338620203228422155\",\n",
      "         \"edit_history_tweet_ids\": [\n",
      "            \"1606324665261195266\"\n",
      "         ]\n",
      "      },\n",
      "      {\n",
      "         \"text\": \"Three FP Logue cases listed in @IrishLegalNews review of 2022 (all Supreme Court)\\n\\n➡️An Taisce v An Bord Pleanála (Kilkenny Cheese)\\n➡️Right to Know v Commissioner for Env Info (Président and Council of State)\\n➡️ Costello v Ireland (CETA)\\n\\nhttps://t.co/iKsLzIWE7M\",\n",
      "         \"id\": \"1606301053338537984\",\n",
      "         \"author_id\": \"3216294682\",\n",
      "         \"edit_history_tweet_ids\": [\n",
      "            \"1606301053338537984\"\n",
      "         ]\n",
      "      },\n",
      "      {\n",
      "         \"text\": \"When we were in the very northern tip of Ireland, we went to an Italian/Irish pub. 11yo ordered lasagne, which wound up being nearly cheese-free (no ricotta, minimal mozzarella &amp; Parmesan). He was so happy (he doesn’t like cheese), and now his Irish Lasagne comes up so often.\",\n",
      "         \"id\": \"1606124226431160321\",\n",
      "         \"author_id\": \"432134884\",\n",
      "         \"edit_history_tweet_ids\": [\n",
      "            \"1606124226431160321\"\n",
      "         ]\n",
      "      },\n",
      "      {\n",
      "         \"text\": \"He will be joining his brothers, Honey Mustard the sloth and Cream Cheese the snail, when I get back to Ireland\",\n",
      "         \"id\": \"1606060476487462913\",\n",
      "         \"author_id\": \"1547598734384459778\",\n",
      "         \"edit_history_tweet_ids\": [\n",
      "            \"1606060476487462913\"\n",
      "         ]\n",
      "      }\n",
      "   ],\n",
      "   \"meta\": {\n",
      "      \"newest_id\": \"1608571082461560837\",\n",
      "      \"oldest_id\": \"1606060476487462913\",\n",
      "      \"result_count\": 27\n",
      "   }\n",
      "}\n"
     ]
    }
   ],
   "source": [
    "bearer_token = config[\"BEARER_TOKEN\"]\n",
    "\n",
    "search_url = \"https://api.twitter.com/2/tweets/search/recent\"\n",
    "\n",
    "query_params = {\n",
    "    'query' : \"\\\"Cheese\\\"Ireland -is:retweet\",\n",
    "    'max_results' : '50',\n",
    "    'tweet.fields': 'author_id',\n",
    "    'user.fields': 'name'\n",
    "}\n",
    "\n",
    "def bearer_oauth(r):\n",
    "    r.headers[\"Authorization\"] = f\"Bearer {bearer_token}\"\n",
    "    r.headers[\"User-Agent\"] = \"v2RecentSearchPython\"\n",
    "    return r\n",
    "\n",
    "def connect_to_endpoint(url, params):\n",
    "    response = requests.get(url, auth=bearer_oauth, params=params)\n",
    "    response.status_code\n",
    "    return response.json()\n",
    "\n",
    "json_response = connect_to_endpoint(search_url, query_params)\n",
    "\n",
    "parsedRes = json.dumps(json_response, indent=3, ensure_ascii=False)\n",
    "print(parsedRes)"
   ]
  },
  {
   "cell_type": "code",
   "execution_count": 6,
   "id": "16cd4045",
   "metadata": {},
   "outputs": [
    {
     "ename": "IndexError",
     "evalue": "list index out of range",
     "output_type": "error",
     "traceback": [
      "\u001b[1;31m---------------------------------------------------------------------------\u001b[0m",
      "\u001b[1;31mIndexError\u001b[0m                                Traceback (most recent call last)",
      "Input \u001b[1;32mIn [6]\u001b[0m, in \u001b[0;36m<cell line: 1>\u001b[1;34m()\u001b[0m\n\u001b[1;32m----> 1\u001b[0m \u001b[43mjson_response\u001b[49m\u001b[43m[\u001b[49m\u001b[38;5;124;43m'\u001b[39;49m\u001b[38;5;124;43mdata\u001b[39;49m\u001b[38;5;124;43m'\u001b[39;49m\u001b[43m]\u001b[49m\u001b[43m[\u001b[49m\u001b[38;5;241;43m20\u001b[39;49m\u001b[43m]\u001b[49m[\u001b[38;5;124m'\u001b[39m\u001b[38;5;124mtext\u001b[39m\u001b[38;5;124m'\u001b[39m]\n",
      "\u001b[1;31mIndexError\u001b[0m: list index out of range"
     ]
    }
   ],
   "source": [
    "json_response['data'][20]['text']"
   ]
  },
  {
   "cell_type": "code",
   "execution_count": null,
   "id": "e48e8df2",
   "metadata": {},
   "outputs": [],
   "source": [
    "!pip install twitter-stream.py"
   ]
  },
  {
   "cell_type": "code",
   "execution_count": null,
   "id": "fa87fd62",
   "metadata": {},
   "outputs": [],
   "source": [
    "twitter_keys=f'''keys:\n",
    "    access_token: {config[\"API_KEY\"]}\n",
    "    access_token_secret: {config[\"API_KEY_SECRET\"]}\n",
    "    bearer_token: {config[\"BEARER_TOKEN\"]}\n",
    "'''\n",
    "with open(\"C:/Users/kftsu/.twitter-keys.yaml\", \"w\") as file:\n",
    "    file.write(twitter_keys)\n",
    "with open(\"C:/Users/kftsu/.twitter_keys.yaml\", \"w\") as file:\n",
    "    file.write(twitter_keys)  "
   ]
  },
  {
   "cell_type": "code",
   "execution_count": null,
   "id": "8296903c",
   "metadata": {},
   "outputs": [],
   "source": [
    "import pandas as pd\n",
    "#import json\n",
    "import csv"
   ]
  },
  {
   "cell_type": "code",
   "execution_count": null,
   "id": "8b63f9c2",
   "metadata": {},
   "outputs": [],
   "source": [
    "# import json\n",
    "from twitter_stream import FilteredStream\n",
    "from time import time\n",
    "\n",
    "start = time()\n",
    "stream = FilteredStream()\n",
    "rule = {\n",
    "    \"add\" : [\n",
    "        {\n",
    "            \"value\": '\"Butter\" \"Cheese\" \"Cow\" -is:retweet ', \n",
    "             \"tag\": \"Ireland\"\n",
    "        }\n",
    "    ]\n",
    "}\n",
    "\n",
    "stream.add_rule(data=rule)\n",
    "tweetList = []\n",
    "for tweet in stream.connect():\n",
    "    parsedTweet = json.dumps(tweet, indent=4, ensure_ascii=False)\n",
    "    tweetList.append(parsedTweet)\n",
    "    print(parsedTweet)\n",
    "    print(f\"There are: {len(tweetList)} tweets, about {len(tweetList)/(time()-start)} tweets per second.\")"
   ]
  },
  {
   "cell_type": "code",
   "execution_count": null,
   "id": "9ebce624",
   "metadata": {},
   "outputs": [],
   "source": [
    "#with open ('Milk_ie.json', 'r', encoding='utf-8') as f:\n",
    "    data= json.load(f)\n",
    "    data = data['data']\n",
    "\n",
    "#with open ('Milk_ie.csv', 'w', encoding='utf-8') as f:\n",
    "    fieldnames = data[0].keys()\n",
    "    writer= csv.DictWriter(f, fieldnames=fieldnames)\n",
    "    writer.writeheader()\n",
    "    for text in data:\n",
    "        writer.writerow(text)"
   ]
  },
  {
   "cell_type": "code",
   "execution_count": null,
   "id": "66624a6a",
   "metadata": {},
   "outputs": [],
   "source": [
    "#with open ('Cow_ie.json', 'r', encoding='utf-8') as f:\n",
    "    data= json.load(f)\n",
    "    data = data['data']\n",
    "\n",
    "#with open ('Cow_ie.csv', 'w', encoding='utf-8') as f:\n",
    "    fieldnames = data[0].keys()\n",
    "    writer= csv.DictWriter(f, fieldnames=fieldnames)\n",
    "    writer.writeheader()\n",
    "    for text in data:\n",
    "        writer.writerow(text)"
   ]
  },
  {
   "cell_type": "markdown",
   "id": "d703002b",
   "metadata": {},
   "source": [
    "I want to combine tweets about Milk, Dairy, and Cow in In Ireland."
   ]
  },
  {
   "cell_type": "code",
   "execution_count": null,
   "id": "33d2fe99",
   "metadata": {},
   "outputs": [],
   "source": [
    "#import pandas as pd\n",
    "#import seaborn as sns\n",
    "%config InlineBackend.figure_format = 'retina'\n",
    "sns.set_context('talk')\n",
    "#import warnings\n",
    "warnings.filterwarnings('ignore')\n",
    "#from IPython.core.interactiveshell import InteractiveShell\n",
    "InteractiveShell.ast_node_interactivity = 'all' "
   ]
  },
  {
   "cell_type": "code",
   "execution_count": null,
   "id": "f0f88221",
   "metadata": {},
   "outputs": [],
   "source": [
    "#Milk_text_ie = pd.read_csv(\"Milk_ie.csv\")\n",
    "#Cow_text_ie= pd.read_csv(\"Cow_ie.csv\")"
   ]
  },
  {
   "cell_type": "code",
   "execution_count": null,
   "id": "2a2fa4d2",
   "metadata": {},
   "outputs": [],
   "source": [
    "#Milk_text_ie.head()"
   ]
  },
  {
   "cell_type": "code",
   "execution_count": null,
   "id": "e6604aa2",
   "metadata": {},
   "outputs": [],
   "source": [
    "#Cow_text_ie.head()"
   ]
  },
  {
   "cell_type": "code",
   "execution_count": null,
   "id": "3d140ec4",
   "metadata": {},
   "outputs": [],
   "source": [
    "#Milk_text_ie.shape\n",
    "#Cow_text_ie.shape"
   ]
  },
  {
   "cell_type": "code",
   "execution_count": null,
   "id": "6c2f4db2",
   "metadata": {},
   "outputs": [],
   "source": [
    "#Milk_text_ie['Tweet']='Milk'\n",
    "#Milk_text_ie"
   ]
  },
  {
   "cell_type": "code",
   "execution_count": null,
   "id": "7ff45872",
   "metadata": {},
   "outputs": [],
   "source": [
    "#Cow_text_ie['Tweet']='Cow'\n",
    "#Cow_text_ie"
   ]
  },
  {
   "cell_type": "code",
   "execution_count": null,
   "id": "36e15d94",
   "metadata": {},
   "outputs": [],
   "source": [
    "#Milk_Cow_Tweets = pd.merge(Milk_text_ie, Cow_text_ie, how=\"outer\")"
   ]
  },
  {
   "cell_type": "code",
   "execution_count": null,
   "id": "35e83fa5",
   "metadata": {},
   "outputs": [],
   "source": [
    "#Milk_Cow_Tweets.shape"
   ]
  },
  {
   "cell_type": "code",
   "execution_count": null,
   "id": "50713274",
   "metadata": {},
   "outputs": [],
   "source": [
    "#Milk_Cow_Tweets"
   ]
  },
  {
   "cell_type": "code",
   "execution_count": null,
   "id": "d21f9dfc",
   "metadata": {},
   "outputs": [],
   "source": [
    "#Milk_Cow_Tweets.to_excel('Milk_Cow_Tweets.xlsx', index = False)"
   ]
  },
  {
   "cell_type": "code",
   "execution_count": null,
   "id": "2696fd0a",
   "metadata": {},
   "outputs": [],
   "source": []
  }
 ],
 "metadata": {
  "kernelspec": {
   "display_name": "Python 3 (ipykernel)",
   "language": "python",
   "name": "python3"
  },
  "language_info": {
   "codemirror_mode": {
    "name": "ipython",
    "version": 3
   },
   "file_extension": ".py",
   "mimetype": "text/x-python",
   "name": "python",
   "nbconvert_exporter": "python",
   "pygments_lexer": "ipython3",
   "version": "3.9.12"
  }
 },
 "nbformat": 4,
 "nbformat_minor": 5
}
