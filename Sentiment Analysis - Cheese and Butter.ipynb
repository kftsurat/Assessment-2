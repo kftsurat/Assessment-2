{
 "cells": [
  {
   "cell_type": "markdown",
   "id": "15d4dcba",
   "metadata": {},
   "source": [
    "# Sentiment Analysis"
   ]
  },
  {
   "cell_type": "code",
   "execution_count": 1,
   "id": "98c3b090",
   "metadata": {},
   "outputs": [
    {
     "name": "stdout",
     "output_type": "stream",
     "text": [
      "Requirement already satisfied: python-dotenv in c:\\users\\kftsu\\anaconda3\\lib\\site-packages (0.21.0)\n"
     ]
    }
   ],
   "source": [
    "!pip install python-dotenv"
   ]
  },
  {
   "cell_type": "code",
   "execution_count": 2,
   "id": "839a3569",
   "metadata": {},
   "outputs": [],
   "source": [
    "from dotenv import dotenv_values\n",
    "\n",
    "config = dotenv_values('.env')"
   ]
  },
  {
   "cell_type": "code",
   "execution_count": 3,
   "id": "257b49d3",
   "metadata": {},
   "outputs": [
    {
     "name": "stdout",
     "output_type": "stream",
     "text": [
      "Requirement already satisfied: requests in c:\\users\\kftsu\\anaconda3\\lib\\site-packages (2.25.0)\n",
      "Requirement already satisfied: urllib3<1.27,>=1.21.1 in c:\\users\\kftsu\\anaconda3\\lib\\site-packages (from requests) (1.26.9)\n",
      "Requirement already satisfied: certifi>=2017.4.17 in c:\\users\\kftsu\\anaconda3\\lib\\site-packages (from requests) (2021.10.8)\n",
      "Requirement already satisfied: idna<3,>=2.5 in c:\\users\\kftsu\\anaconda3\\lib\\site-packages (from requests) (2.10)\n",
      "Requirement already satisfied: chardet<4,>=3.0.2 in c:\\users\\kftsu\\anaconda3\\lib\\site-packages (from requests) (3.0.4)\n"
     ]
    }
   ],
   "source": [
    "!pip install requests"
   ]
  },
  {
   "cell_type": "code",
   "execution_count": 4,
   "id": "2ddaa04b",
   "metadata": {},
   "outputs": [],
   "source": [
    "import requests\n",
    "import json"
   ]
  },
  {
   "cell_type": "code",
   "execution_count": 5,
   "id": "820c35d4",
   "metadata": {},
   "outputs": [
    {
     "name": "stdout",
     "output_type": "stream",
     "text": [
      "{\n",
      "   \"data\": [\n",
      "      {\n",
      "         \"id\": \"1608553799244992512\",\n",
      "         \"author_id\": \"251500395\",\n",
      "         \"edit_history_tweet_ids\": [\n",
      "            \"1608553799244992512\"\n",
      "         ],\n",
      "         \"text\": \"@JackLombardi @AdamKinzinger We are all “globalists” whether we like it or not. We live in a “global” economy where we purchase oil from the Arabs, iPhones from the Chinese, vegetables from Mexico and Butter from Ireland. We travel globally. If we burn coal in our back yard it affects the globe. Get it?\"\n",
      "      },\n",
      "      {\n",
      "         \"id\": \"1608493257683603456\",\n",
      "         \"author_id\": \"732941099849912320\",\n",
      "         \"edit_history_tweet_ids\": [\n",
      "            \"1608493257683603456\"\n",
      "         ],\n",
      "         \"text\": \"Enjoy 🇮🇪 McCambridge soda bread mix across the water in USA 🇺🇸\\nA taste of Ireland that is hard to beat! We love our soda bread fresh from the oven, with lashings of real butter and your favourite jam! 😋\\nOrder now from @amazon\\n\\nhttps://t.co/vvXd1nI8r6\\n\\n#IrishMade https://t.co/TUxr7pAXsv\"\n",
      "      },\n",
      "      {\n",
      "         \"id\": \"1608349591920934914\",\n",
      "         \"author_id\": \"1569070813\",\n",
      "         \"edit_history_tweet_ids\": [\n",
      "            \"1608349591920934914\"\n",
      "         ],\n",
      "         \"text\": \"https://t.co/ZPm4YMdViV Lot of 4, Noritake #Ireland Tipperary Bread &amp; Butt https://t.co/fPxsMYaAOv\"\n",
      "      },\n",
      "      {\n",
      "         \"id\": \"1608294795796955136\",\n",
      "         \"author_id\": \"15258782\",\n",
      "         \"edit_history_tweet_ids\": [\n",
      "            \"1608294795796955136\"\n",
      "         ],\n",
      "         \"text\": \"@plentyofalcoves the things I saw them do with butter while I was in Ireland… I’ll be intimately involved with a slice of toast at a diner in Albany, but I remember the Irish breakfasts and it turns to ash in my mouth\"\n",
      "      },\n",
      "      {\n",
      "         \"id\": \"1608184326499274752\",\n",
      "         \"author_id\": \"1569070813\",\n",
      "         \"edit_history_tweet_ids\": [\n",
      "            \"1608184326499274752\"\n",
      "         ],\n",
      "         \"text\": \"https://t.co/ZPm4YMdViV Lot of 4, Noritake #Ireland Tipperary Bread &amp; Butt https://t.co/GI4EvbU6lt\"\n",
      "      },\n",
      "      {\n",
      "         \"id\": \"1608080492280135681\",\n",
      "         \"author_id\": \"1569070813\",\n",
      "         \"edit_history_tweet_ids\": [\n",
      "            \"1608080492280135681\"\n",
      "         ],\n",
      "         \"text\": \"https://t.co/ZPm4YMdViV Lot of 4, Noritake #Ireland Tipperary Bread &amp; Butt https://t.co/uQyG6YysyH\"\n",
      "      },\n",
      "      {\n",
      "         \"id\": \"1608073307923906563\",\n",
      "         \"author_id\": \"1478727624432173057\",\n",
      "         \"edit_history_tweet_ids\": [\n",
      "            \"1608073307923906563\"\n",
      "         ],\n",
      "         \"text\": \"Lots of #Brexit problems. About 2:09: An order for 35 gift boxes of River Café goods to go to Ireland \\\"and FedEx told us we couldn't send in the boxes the linen napkins...couldn't send any chocolates because they had butter and we couldn't send my cookbooks - don't ask me why!\\\" https://t.co/YiAp9eCSDM\"\n",
      "      },\n",
      "      {\n",
      "         \"id\": \"1608056702103863298\",\n",
      "         \"author_id\": \"45626088\",\n",
      "         \"edit_history_tweet_ids\": [\n",
      "            \"1608056702103863298\"\n",
      "         ],\n",
      "         \"text\": \"I went from not having cows milk in few years and rarely eating a breakfast to coming home having full bowl of cereal with cows milk, toast with butter all before 11am. Food hits different in Ireland ❤️\"\n",
      "      },\n",
      "      {\n",
      "         \"id\": \"1608042608009547776\",\n",
      "         \"author_id\": \"3871294456\",\n",
      "         \"edit_history_tweet_ids\": [\n",
      "            \"1608042608009547776\"\n",
      "         ],\n",
      "         \"text\": \"@punchedmonet_ @alannah_siobhan Wasn't it an important port for the Brits to provision their ships? Butter, wheat &amp; cheese, whisky etc, flowed out of the midlands &amp; out of Ireland through Cork; also the Irish Oak that the brit navy sailed in? \\nThat's why Cork has notions still?\"\n",
      "      },\n",
      "      {\n",
      "         \"id\": \"1607779250463191040\",\n",
      "         \"author_id\": \"14441449\",\n",
      "         \"edit_history_tweet_ids\": [\n",
      "            \"1607779250463191040\"\n",
      "         ],\n",
      "         \"text\": \"@DanKaszeta In Ireland \\\"green bacon\\\" refers to a whole joint of cured unsmoked pork. I was totally confused by this when visiting Ireland with my girlfriend in the 90s. Green bacon and cabbage with floury boiled potatoes and a ton of butter seems to be almost a national dish. https://t.co/TP6U3cnMyM\"\n",
      "      },\n",
      "      {\n",
      "         \"id\": \"1607774097663983619\",\n",
      "         \"author_id\": \"1569070813\",\n",
      "         \"edit_history_tweet_ids\": [\n",
      "            \"1607774097663983619\"\n",
      "         ],\n",
      "         \"text\": \"https://t.co/ZPm4YMdViV Lot of 4, Noritake #Ireland Tipperary Bread &amp; Butt https://t.co/nQPn4dXnJU\"\n",
      "      },\n",
      "      {\n",
      "         \"id\": \"1607677796033110016\",\n",
      "         \"author_id\": \"806436971832889344\",\n",
      "         \"edit_history_tweet_ids\": [\n",
      "            \"1607677796033110016\"\n",
      "         ],\n",
      "         \"text\": \"Flaky, buttery, crispy...and tasty! We're looking forward to celebrating #NationalCroissantDay on the 30th of January and making the perfect croissants thanks to our rich, creamy butter gently churned in Ireland. #Butter #Croissants #LakelandDairies #Dairy https://t.co/P1iwYO9DIt\"\n",
      "      },\n",
      "      {\n",
      "         \"id\": \"1607676232266563584\",\n",
      "         \"author_id\": \"22124420\",\n",
      "         \"edit_history_tweet_ids\": [\n",
      "            \"1607676232266563584\"\n",
      "         ],\n",
      "         \"text\": \"Veronica Molloy from @crossoguep is one of Ireland's top producers of jams and preserves. She shares with us her special Brandy Butter Short Bread Biscuits. 👩‍🍳\\n\\n✨Start cooking! 👉 https://t.co/QYJuuIqAYr\\n\\n#goodfoodireland #goodfoodirelandrecipe #biscuitrecipe#christmasrecipe https://t.co/RaTAre944X\"\n",
      "      },\n",
      "      {\n",
      "         \"id\": \"1607535648159809537\",\n",
      "         \"author_id\": \"1569070813\",\n",
      "         \"edit_history_tweet_ids\": [\n",
      "            \"1607535648159809537\"\n",
      "         ],\n",
      "         \"text\": \"https://t.co/ZPm4YMdViV Lot of 4, Noritake #Ireland Tipperary Bread &amp; Butt https://t.co/4BU86IY4GV\"\n",
      "      },\n",
      "      {\n",
      "         \"id\": \"1607422394477543426\",\n",
      "         \"author_id\": \"1569070813\",\n",
      "         \"edit_history_tweet_ids\": [\n",
      "            \"1607422394477543426\"\n",
      "         ],\n",
      "         \"text\": \"https://t.co/ZPm4YMdViV Lot of 4, Noritake #Ireland Tipperary Bread &amp; Butt https://t.co/c1LC01iFqr\"\n",
      "      },\n",
      "      {\n",
      "         \"id\": \"1607234249278513152\",\n",
      "         \"author_id\": \"1569070813\",\n",
      "         \"edit_history_tweet_ids\": [\n",
      "            \"1607234249278513152\"\n",
      "         ],\n",
      "         \"text\": \"https://t.co/ZPm4YMdViV Lot of 4, Noritake #Ireland Tipperary Bread &amp; Butt https://t.co/34BNZOZJnZ\"\n",
      "      },\n",
      "      {\n",
      "         \"id\": \"1607144496239677441\",\n",
      "         \"author_id\": \"1569070813\",\n",
      "         \"edit_history_tweet_ids\": [\n",
      "            \"1607144496239677441\"\n",
      "         ],\n",
      "         \"text\": \"https://t.co/ZPm4YMdViV Lot of 4, Noritake #Ireland Tipperary Bread &amp; Butt https://t.co/U3eUIX9TEF\"\n",
      "      },\n",
      "      {\n",
      "         \"id\": \"1607116164748152832\",\n",
      "         \"author_id\": \"16693774\",\n",
      "         \"edit_history_tweet_ids\": [\n",
      "            \"1607116164748152832\"\n",
      "         ],\n",
      "         \"text\": \"@cookdrinkfeast @solomonmissouri One time I was on a road trip in Ireland. Bought up so much butter there and took it back across the ferry to England. They have the good stuff.\"\n",
      "      },\n",
      "      {\n",
      "         \"id\": \"1606982005480382465\",\n",
      "         \"author_id\": \"15359018\",\n",
      "         \"edit_history_tweet_ids\": [\n",
      "            \"1606982005480382465\"\n",
      "         ],\n",
      "         \"text\": \"@HillaryMonahan True story, you can't really get kerrygold cheese in Ireland. They're known here for their butter instead. The cheese is only for export (but it is tasty af)\"\n",
      "      },\n",
      "      {\n",
      "         \"id\": \"1606980450270019584\",\n",
      "         \"author_id\": \"1415277783874428929\",\n",
      "         \"edit_history_tweet_ids\": [\n",
      "            \"1606980450270019584\"\n",
      "         ],\n",
      "         \"text\": \"Happy Christmas to all from the Ór-Real Irish Butter &amp; North Cork Creameries team.   Wishing all our customers, suppliers and community a happy and traditionally tasty Christmas!   \\n#northcorkcreameries #órbutter #realirish #grassfed #ireland #irishdairy https://t.co/h5oERoGdQj\"\n",
      "      },\n",
      "      {\n",
      "         \"id\": \"1606716988272812032\",\n",
      "         \"author_id\": \"1464258911637282822\",\n",
      "         \"edit_history_tweet_ids\": [\n",
      "            \"1606716988272812032\"\n",
      "         ],\n",
      "         \"text\": \"Ireland, we are under cuisine attack!!\\n\\nSoda Bread, Colcannon, Irish Stew, Best Beef in the World, Butter like no other, Sausages, pudding, Granny’s homemade jam, McDonnells curry sauce, yet we don’t even list??\\n\\nWhat exactly is our army for? https://t.co/5iemx9qpOH\"\n",
      "      },\n",
      "      {\n",
      "         \"id\": \"1606702316878430209\",\n",
      "         \"author_id\": \"22124420\",\n",
      "         \"edit_history_tweet_ids\": [\n",
      "            \"1606702316878430209\"\n",
      "         ],\n",
      "         \"text\": \"Veronica Molloy from @crossoguep is one of Ireland's top producers of jams and preserves. She shares with us her special Brandy Butter Short Bread Biscuits. 👩‍🍳\\n\\n✨Start cooking! 👉 https://t.co/QYJuuIqAYr\\n\\n#goodfoodireland #goodfoodirelandrecipe #biscuitrecipe#christmasrecipe https://t.co/r15YImEIBh\"\n",
      "      },\n",
      "      {\n",
      "         \"id\": \"1606688650489729024\",\n",
      "         \"author_id\": \"1569070813\",\n",
      "         \"edit_history_tweet_ids\": [\n",
      "            \"1606688650489729024\"\n",
      "         ],\n",
      "         \"text\": \"https://t.co/ZPm4YMdViV Lot of 4, Noritake #Ireland Tipperary Bread &amp; Butt https://t.co/nawyN4PQXn\"\n",
      "      },\n",
      "      {\n",
      "         \"id\": \"1606592072508592128\",\n",
      "         \"author_id\": \"2156045139\",\n",
      "         \"edit_history_tweet_ids\": [\n",
      "            \"1606592072508592128\"\n",
      "         ],\n",
      "         \"text\": \"@shahmiruk 😒 Ireland doesn’t even make the list. The land of Kerry Gold butter. \\nRidiculous.\"\n",
      "      },\n",
      "      {\n",
      "         \"id\": \"1606310553110061056\",\n",
      "         \"author_id\": \"1569070813\",\n",
      "         \"edit_history_tweet_ids\": [\n",
      "            \"1606310553110061056\"\n",
      "         ],\n",
      "         \"text\": \"https://t.co/ZPm4YMdViV Lot of 4, Noritake #Ireland Tipperary Bread &amp; Butt https://t.co/PbPESnpv6b\"\n",
      "      },\n",
      "      {\n",
      "         \"id\": \"1606304663761870849\",\n",
      "         \"author_id\": \"76678715\",\n",
      "         \"edit_history_tweet_ids\": [\n",
      "            \"1606304663761870849\"\n",
      "         ],\n",
      "         \"text\": \"@SocksWearer like, why wouldn't i?  Also: Kerry Gold butter in the US is all old and stale.  Buy Land O'Lakes or any local creamery butter. Support local farmers! \\nhttps://t.co/CW3LkyfT7f\"\n",
      "      },\n",
      "      {\n",
      "         \"id\": \"1606303725395460101\",\n",
      "         \"author_id\": \"1183069363915644929\",\n",
      "         \"edit_history_tweet_ids\": [\n",
      "            \"1606303725395460101\"\n",
      "         ],\n",
      "         \"text\": \"@NoContextBrits Eh, Ireland has Kerrygold butter and Ballymaloe relish. They can make anything taste delicious.\"\n",
      "      },\n",
      "      {\n",
      "         \"id\": \"1606250342110220288\",\n",
      "         \"author_id\": \"906758154\",\n",
      "         \"edit_history_tweet_ids\": [\n",
      "            \"1606250342110220288\"\n",
      "         ],\n",
      "         \"text\": \"@AyoCaesar Absolutely. Where the feck is Ireland?! Cabbage and potato mashed with @KerrygoldIRL butter beats tasteless pasta pebbledashed with bolognaise any day of the week.\"\n",
      "      },\n",
      "      {\n",
      "         \"id\": \"1606132788025036804\",\n",
      "         \"author_id\": \"86675268\",\n",
      "         \"edit_history_tweet_ids\": [\n",
      "            \"1606132788025036804\"\n",
      "         ],\n",
      "         \"text\": \"@lawlorlara @DrSamiSchalk @TriciaBaron I will always remember my Kerrygold initiation. Dinner on a flight to Ireland for New Years, they had individual pads of Kerrygold butter for the rolls. I've been spreading the word ever since.\"\n",
      "      },\n",
      "      {\n",
      "         \"id\": \"1606123029448138753\",\n",
      "         \"author_id\": \"30828102\",\n",
      "         \"edit_history_tweet_ids\": [\n",
      "            \"1606123029448138753\"\n",
      "         ],\n",
      "         \"text\": \"@David_JWest Just bought some imported pure Irish butter, haven’t had since I lived in Ireland. Super delicious.\"\n",
      "      },\n",
      "      {\n",
      "         \"id\": \"1606116533679243264\",\n",
      "         \"author_id\": \"1408631071214772230\",\n",
      "         \"edit_history_tweet_ids\": [\n",
      "            \"1606116533679243264\"\n",
      "         ],\n",
      "         \"text\": \"@Cpaul_J Butter from Ireland.\"\n",
      "      },\n",
      "      {\n",
      "         \"id\": \"1606074351417266179\",\n",
      "         \"author_id\": \"1569070813\",\n",
      "         \"edit_history_tweet_ids\": [\n",
      "            \"1606074351417266179\"\n",
      "         ],\n",
      "         \"text\": \"https://t.co/ZPm4YMdViV Lot of 4, Noritake #Ireland Tipperary Bread &amp; Butt https://t.co/jZ4qMX0hLN\"\n",
      "      },\n",
      "      {\n",
      "         \"id\": \"1606056272750555136\",\n",
      "         \"author_id\": \"1016011410\",\n",
      "         \"edit_history_tweet_ids\": [\n",
      "            \"1606056272750555136\"\n",
      "         ],\n",
      "         \"text\": \"@DrBHJugs Ooh, I would really appreciate that! Thank you. If you like I'll send you mine, it has had twenty years of nurturing and changing times and measurements to go with Ireland and I think that stuff really makes a difference (humidity, butter, heat sources etc).\"\n",
      "      }\n",
      "   ],\n",
      "   \"meta\": {\n",
      "      \"newest_id\": \"1608553799244992512\",\n",
      "      \"oldest_id\": \"1606056272750555136\",\n",
      "      \"result_count\": 33\n",
      "   }\n",
      "}\n"
     ]
    }
   ],
   "source": [
    "bearer_token = config[\"BEARER_TOKEN\"]\n",
    "\n",
    "search_url = \"https://api.twitter.com/2/tweets/search/recent\"\n",
    "\n",
    "query_params = {\n",
    "    'query' : \"\\\"Butter\\\"Ireland -is:retweet\",\n",
    "    'max_results' : '50',\n",
    "    'tweet.fields': 'author_id',\n",
    "    'user.fields': 'name'\n",
    "}\n",
    "\n",
    "def bearer_oauth(r):\n",
    "    r.headers[\"Authorization\"] = f\"Bearer {bearer_token}\"\n",
    "    r.headers[\"User-Agent\"] = \"v2RecentSearchPython\"\n",
    "    return r\n",
    "\n",
    "def connect_to_endpoint(url, params):\n",
    "    response = requests.get(url, auth=bearer_oauth, params=params)\n",
    "    response.status_code\n",
    "    return response.json()\n",
    "\n",
    "json_response = connect_to_endpoint(search_url, query_params)\n",
    "\n",
    "parsedRes = json.dumps(json_response, indent=3, ensure_ascii=False)\n",
    "print(parsedRes)"
   ]
  },
  {
   "cell_type": "code",
   "execution_count": 6,
   "id": "16cd4045",
   "metadata": {},
   "outputs": [
    {
     "data": {
      "text/plain": [
       "'Ireland, we are under cuisine attack!!\\n\\nSoda Bread, Colcannon, Irish Stew, Best Beef in the World, Butter like no other, Sausages, pudding, Granny’s homemade jam, McDonnells curry sauce, yet we don’t even list??\\n\\nWhat exactly is our army for? https://t.co/5iemx9qpOH'"
      ]
     },
     "execution_count": 6,
     "metadata": {},
     "output_type": "execute_result"
    }
   ],
   "source": [
    "json_response['data'][20]['text']"
   ]
  },
  {
   "cell_type": "code",
   "execution_count": 7,
   "id": "e48e8df2",
   "metadata": {},
   "outputs": [
    {
     "name": "stdout",
     "output_type": "stream",
     "text": [
      "Requirement already satisfied: twitter-stream.py in c:\\users\\kftsu\\anaconda3\\lib\\site-packages (0.8.8)\n",
      "Requirement already satisfied: PyYAML==5.4.1 in c:\\users\\kftsu\\anaconda3\\lib\\site-packages (from twitter-stream.py) (5.4.1)\n",
      "Requirement already satisfied: requests-oauthlib==1.3.0 in c:\\users\\kftsu\\anaconda3\\lib\\site-packages (from twitter-stream.py) (1.3.0)\n",
      "Requirement already satisfied: requests==2.25.0 in c:\\users\\kftsu\\anaconda3\\lib\\site-packages (from twitter-stream.py) (2.25.0)\n",
      "Requirement already satisfied: certifi>=2017.4.17 in c:\\users\\kftsu\\anaconda3\\lib\\site-packages (from requests==2.25.0->twitter-stream.py) (2021.10.8)\n",
      "Requirement already satisfied: chardet<4,>=3.0.2 in c:\\users\\kftsu\\anaconda3\\lib\\site-packages (from requests==2.25.0->twitter-stream.py) (3.0.4)\n",
      "Requirement already satisfied: urllib3<1.27,>=1.21.1 in c:\\users\\kftsu\\anaconda3\\lib\\site-packages (from requests==2.25.0->twitter-stream.py) (1.26.9)\n",
      "Requirement already satisfied: idna<3,>=2.5 in c:\\users\\kftsu\\anaconda3\\lib\\site-packages (from requests==2.25.0->twitter-stream.py) (2.10)\n",
      "Requirement already satisfied: oauthlib>=3.0.0 in c:\\users\\kftsu\\anaconda3\\lib\\site-packages (from requests-oauthlib==1.3.0->twitter-stream.py) (3.2.2)\n"
     ]
    }
   ],
   "source": [
    "!pip install twitter-stream.py"
   ]
  },
  {
   "cell_type": "code",
   "execution_count": 8,
   "id": "fa87fd62",
   "metadata": {},
   "outputs": [],
   "source": [
    "twitter_keys=f'''keys:\n",
    "    access_token: {config[\"API_KEY\"]}\n",
    "    access_token_secret: {config[\"API_KEY_SECRET\"]}\n",
    "    bearer_token: {config[\"BEARER_TOKEN\"]}\n",
    "'''\n",
    "with open(\"C:/Users/kftsu/.twitter-keys.yaml\", \"w\") as file:\n",
    "    file.write(twitter_keys)\n",
    "with open(\"C:/Users/kftsu/.twitter_keys.yaml\", \"w\") as file:\n",
    "    file.write(twitter_keys)  "
   ]
  },
  {
   "cell_type": "code",
   "execution_count": 9,
   "id": "8296903c",
   "metadata": {},
   "outputs": [],
   "source": [
    "import pandas as pd\n",
    "#import json\n",
    "import csv"
   ]
  },
  {
   "cell_type": "code",
   "execution_count": 10,
   "id": "c3f5e40f",
   "metadata": {},
   "outputs": [],
   "source": [
    "with open ('Cheese_ie.json', 'r', encoding='utf-8') as f:\n",
    "    data= json.load(f)\n",
    "    data = data['data']\n",
    "\n",
    "with open ('Cheese_ie.csv', 'w', encoding='utf-8') as f:\n",
    "    fieldnames = data[0].keys()\n",
    "    writer= csv.DictWriter(f, fieldnames=fieldnames)\n",
    "    writer.writeheader()\n",
    "    for text in data:\n",
    "        writer.writerow(text)"
   ]
  },
  {
   "cell_type": "code",
   "execution_count": 11,
   "id": "66624a6a",
   "metadata": {},
   "outputs": [],
   "source": [
    "with open ('Butter_ie.json', 'r', encoding='utf-8') as f:\n",
    "    data= json.load(f)\n",
    "    data = data['data']\n",
    "\n",
    "with open ('Butter_ie.csv', 'w', encoding='utf-8') as f:\n",
    "    fieldnames = data[0].keys()\n",
    "    writer= csv.DictWriter(f, fieldnames=fieldnames)\n",
    "    writer.writeheader()\n",
    "    for text in data:\n",
    "        writer.writerow(text)"
   ]
  },
  {
   "cell_type": "markdown",
   "id": "d703002b",
   "metadata": {},
   "source": [
    "I want to combine tweets about Cheese and Butter in Ireland."
   ]
  },
  {
   "cell_type": "code",
   "execution_count": 12,
   "id": "33d2fe99",
   "metadata": {},
   "outputs": [],
   "source": [
    "import pandas as pd\n",
    "import seaborn as sns\n",
    "%config InlineBackend.figure_format = 'retina'\n",
    "sns.set_context('talk')\n",
    "import warnings\n",
    "warnings.filterwarnings('ignore')\n",
    "from IPython.core.interactiveshell import InteractiveShell\n",
    "InteractiveShell.ast_node_interactivity = 'all' "
   ]
  },
  {
   "cell_type": "code",
   "execution_count": 13,
   "id": "f0f88221",
   "metadata": {},
   "outputs": [],
   "source": [
    "Butter_text_ie = pd.read_csv(\"Butter_ie.csv\")\n",
    "Cheese_text_ie= pd.read_csv(\"Cheese_ie.csv\")"
   ]
  },
  {
   "cell_type": "code",
   "execution_count": 14,
   "id": "2a2fa4d2",
   "metadata": {},
   "outputs": [
    {
     "data": {
      "text/html": [
       "<div>\n",
       "<style scoped>\n",
       "    .dataframe tbody tr th:only-of-type {\n",
       "        vertical-align: middle;\n",
       "    }\n",
       "\n",
       "    .dataframe tbody tr th {\n",
       "        vertical-align: top;\n",
       "    }\n",
       "\n",
       "    .dataframe thead th {\n",
       "        text-align: right;\n",
       "    }\n",
       "</style>\n",
       "<table border=\"1\" class=\"dataframe\">\n",
       "  <thead>\n",
       "    <tr style=\"text-align: right;\">\n",
       "      <th></th>\n",
       "      <th>edit_history_tweet_ids</th>\n",
       "      <th>author_id</th>\n",
       "      <th>id</th>\n",
       "      <th>text</th>\n",
       "    </tr>\n",
       "  </thead>\n",
       "  <tbody>\n",
       "    <tr>\n",
       "      <th>0</th>\n",
       "      <td>['1608080492280135681']</td>\n",
       "      <td>1569070813</td>\n",
       "      <td>1608080492280135681</td>\n",
       "      <td>https://t.co/ZPm4YMdViV Lot of 4, Noritake #Ir...</td>\n",
       "    </tr>\n",
       "    <tr>\n",
       "      <th>1</th>\n",
       "      <td>['1608073307923906563']</td>\n",
       "      <td>1478727624432173057</td>\n",
       "      <td>1608073307923906563</td>\n",
       "      <td>Lots of #Brexit problems. About 2:09: An order...</td>\n",
       "    </tr>\n",
       "    <tr>\n",
       "      <th>2</th>\n",
       "      <td>['1608056702103863298']</td>\n",
       "      <td>45626088</td>\n",
       "      <td>1608056702103863298</td>\n",
       "      <td>I went from not having cows milk in few years ...</td>\n",
       "    </tr>\n",
       "    <tr>\n",
       "      <th>3</th>\n",
       "      <td>['1608042608009547776']</td>\n",
       "      <td>3871294456</td>\n",
       "      <td>1608042608009547776</td>\n",
       "      <td>@punchedmonet_ @alannah_siobhan Wasn't it an i...</td>\n",
       "    </tr>\n",
       "    <tr>\n",
       "      <th>4</th>\n",
       "      <td>['1607779250463191040']</td>\n",
       "      <td>14441449</td>\n",
       "      <td>1607779250463191040</td>\n",
       "      <td>@DanKaszeta In Ireland \"green bacon\" refers to...</td>\n",
       "    </tr>\n",
       "  </tbody>\n",
       "</table>\n",
       "</div>"
      ],
      "text/plain": [
       "    edit_history_tweet_ids            author_id                   id  \\\n",
       "0  ['1608080492280135681']           1569070813  1608080492280135681   \n",
       "1  ['1608073307923906563']  1478727624432173057  1608073307923906563   \n",
       "2  ['1608056702103863298']             45626088  1608056702103863298   \n",
       "3  ['1608042608009547776']           3871294456  1608042608009547776   \n",
       "4  ['1607779250463191040']             14441449  1607779250463191040   \n",
       "\n",
       "                                                text  \n",
       "0  https://t.co/ZPm4YMdViV Lot of 4, Noritake #Ir...  \n",
       "1  Lots of #Brexit problems. About 2:09: An order...  \n",
       "2  I went from not having cows milk in few years ...  \n",
       "3  @punchedmonet_ @alannah_siobhan Wasn't it an i...  \n",
       "4  @DanKaszeta In Ireland \"green bacon\" refers to...  "
      ]
     },
     "execution_count": 14,
     "metadata": {},
     "output_type": "execute_result"
    }
   ],
   "source": [
    "Butter_text_ie.head()"
   ]
  },
  {
   "cell_type": "code",
   "execution_count": 15,
   "id": "e6604aa2",
   "metadata": {},
   "outputs": [
    {
     "data": {
      "text/html": [
       "<div>\n",
       "<style scoped>\n",
       "    .dataframe tbody tr th:only-of-type {\n",
       "        vertical-align: middle;\n",
       "    }\n",
       "\n",
       "    .dataframe tbody tr th {\n",
       "        vertical-align: top;\n",
       "    }\n",
       "\n",
       "    .dataframe thead th {\n",
       "        text-align: right;\n",
       "    }\n",
       "</style>\n",
       "<table border=\"1\" class=\"dataframe\">\n",
       "  <thead>\n",
       "    <tr style=\"text-align: right;\">\n",
       "      <th></th>\n",
       "      <th>edit_history_tweet_ids</th>\n",
       "      <th>text</th>\n",
       "      <th>id</th>\n",
       "      <th>author_id</th>\n",
       "    </tr>\n",
       "  </thead>\n",
       "  <tbody>\n",
       "    <tr>\n",
       "      <th>0</th>\n",
       "      <td>['1608069355526316033']</td>\n",
       "      <td>Spending between Xmas and NYE in Northern Irel...</td>\n",
       "      <td>1608069355526316033</td>\n",
       "      <td>1425376244875546624</td>\n",
       "    </tr>\n",
       "    <tr>\n",
       "      <th>1</th>\n",
       "      <td>['1608042608009547776']</td>\n",
       "      <td>@punchedmonet_ @alannah_siobhan Wasn't it an i...</td>\n",
       "      <td>1608042608009547776</td>\n",
       "      <td>3871294456</td>\n",
       "    </tr>\n",
       "    <tr>\n",
       "      <th>2</th>\n",
       "      <td>['1608023930052444160']</td>\n",
       "      <td>Ireland has had curry cheese chips for decades...</td>\n",
       "      <td>1608023930052444160</td>\n",
       "      <td>256131713</td>\n",
       "    </tr>\n",
       "    <tr>\n",
       "      <th>3</th>\n",
       "      <td>['1607901716212482048']</td>\n",
       "      <td>@JLHGameArt Just a flavor you're not used to. ...</td>\n",
       "      <td>1607901716212482048</td>\n",
       "      <td>20154732</td>\n",
       "    </tr>\n",
       "    <tr>\n",
       "      <th>4</th>\n",
       "      <td>['1607899966974095362']</td>\n",
       "      <td>@sineadcunningha @RobertCheeke It's weird that...</td>\n",
       "      <td>1607899966974095362</td>\n",
       "      <td>1479321660721225730</td>\n",
       "    </tr>\n",
       "  </tbody>\n",
       "</table>\n",
       "</div>"
      ],
      "text/plain": [
       "    edit_history_tweet_ids                                               text  \\\n",
       "0  ['1608069355526316033']  Spending between Xmas and NYE in Northern Irel...   \n",
       "1  ['1608042608009547776']  @punchedmonet_ @alannah_siobhan Wasn't it an i...   \n",
       "2  ['1608023930052444160']  Ireland has had curry cheese chips for decades...   \n",
       "3  ['1607901716212482048']  @JLHGameArt Just a flavor you're not used to. ...   \n",
       "4  ['1607899966974095362']  @sineadcunningha @RobertCheeke It's weird that...   \n",
       "\n",
       "                    id            author_id  \n",
       "0  1608069355526316033  1425376244875546624  \n",
       "1  1608042608009547776           3871294456  \n",
       "2  1608023930052444160            256131713  \n",
       "3  1607901716212482048             20154732  \n",
       "4  1607899966974095362  1479321660721225730  "
      ]
     },
     "execution_count": 15,
     "metadata": {},
     "output_type": "execute_result"
    }
   ],
   "source": [
    "Cheese_text_ie.head()"
   ]
  },
  {
   "cell_type": "code",
   "execution_count": 16,
   "id": "3d140ec4",
   "metadata": {},
   "outputs": [
    {
     "data": {
      "text/plain": [
       "(35, 4)"
      ]
     },
     "execution_count": 16,
     "metadata": {},
     "output_type": "execute_result"
    },
    {
     "data": {
      "text/plain": [
       "(27, 4)"
      ]
     },
     "execution_count": 16,
     "metadata": {},
     "output_type": "execute_result"
    }
   ],
   "source": [
    "Butter_text_ie.shape\n",
    "Cheese_text_ie.shape"
   ]
  },
  {
   "cell_type": "code",
   "execution_count": 44,
   "id": "6c2f4db2",
   "metadata": {},
   "outputs": [
    {
     "data": {
      "text/html": [
       "<div>\n",
       "<style scoped>\n",
       "    .dataframe tbody tr th:only-of-type {\n",
       "        vertical-align: middle;\n",
       "    }\n",
       "\n",
       "    .dataframe tbody tr th {\n",
       "        vertical-align: top;\n",
       "    }\n",
       "\n",
       "    .dataframe thead th {\n",
       "        text-align: right;\n",
       "    }\n",
       "</style>\n",
       "<table border=\"1\" class=\"dataframe\">\n",
       "  <thead>\n",
       "    <tr style=\"text-align: right;\">\n",
       "      <th></th>\n",
       "      <th>edit_history_tweet_ids</th>\n",
       "      <th>author_id</th>\n",
       "      <th>text</th>\n",
       "      <th>id</th>\n",
       "      <th>Tweet</th>\n",
       "    </tr>\n",
       "  </thead>\n",
       "  <tbody>\n",
       "    <tr>\n",
       "      <th>0</th>\n",
       "      <td>['1608553799244992512']</td>\n",
       "      <td>251500395</td>\n",
       "      <td>@JackLombardi @AdamKinzinger We are all “globa...</td>\n",
       "      <td>1608553799244992512</td>\n",
       "      <td>Butter</td>\n",
       "    </tr>\n",
       "    <tr>\n",
       "      <th>1</th>\n",
       "      <td>['1608493257683603456']</td>\n",
       "      <td>732941099849912320</td>\n",
       "      <td>Enjoy 🇮🇪 McCambridge soda bread mix across the...</td>\n",
       "      <td>1608493257683603456</td>\n",
       "      <td>Butter</td>\n",
       "    </tr>\n",
       "    <tr>\n",
       "      <th>2</th>\n",
       "      <td>['1608349591920934914']</td>\n",
       "      <td>1569070813</td>\n",
       "      <td>https://t.co/ZPm4YMdViV Lot of 4, Noritake #Ir...</td>\n",
       "      <td>1608349591920934914</td>\n",
       "      <td>Butter</td>\n",
       "    </tr>\n",
       "    <tr>\n",
       "      <th>3</th>\n",
       "      <td>['1608294795796955136']</td>\n",
       "      <td>15258782</td>\n",
       "      <td>@plentyofalcoves the things I saw them do with...</td>\n",
       "      <td>1608294795796955136</td>\n",
       "      <td>Butter</td>\n",
       "    </tr>\n",
       "    <tr>\n",
       "      <th>4</th>\n",
       "      <td>['1608184326499274752']</td>\n",
       "      <td>1569070813</td>\n",
       "      <td>https://t.co/ZPm4YMdViV Lot of 4, Noritake #Ir...</td>\n",
       "      <td>1608184326499274752</td>\n",
       "      <td>Butter</td>\n",
       "    </tr>\n",
       "  </tbody>\n",
       "</table>\n",
       "</div>"
      ],
      "text/plain": [
       "    edit_history_tweet_ids           author_id  \\\n",
       "0  ['1608553799244992512']           251500395   \n",
       "1  ['1608493257683603456']  732941099849912320   \n",
       "2  ['1608349591920934914']          1569070813   \n",
       "3  ['1608294795796955136']            15258782   \n",
       "4  ['1608184326499274752']          1569070813   \n",
       "\n",
       "                                                text                   id  \\\n",
       "0  @JackLombardi @AdamKinzinger We are all “globa...  1608553799244992512   \n",
       "1  Enjoy 🇮🇪 McCambridge soda bread mix across the...  1608493257683603456   \n",
       "2  https://t.co/ZPm4YMdViV Lot of 4, Noritake #Ir...  1608349591920934914   \n",
       "3  @plentyofalcoves the things I saw them do with...  1608294795796955136   \n",
       "4  https://t.co/ZPm4YMdViV Lot of 4, Noritake #Ir...  1608184326499274752   \n",
       "\n",
       "    Tweet  \n",
       "0  Butter  \n",
       "1  Butter  \n",
       "2  Butter  \n",
       "3  Butter  \n",
       "4  Butter  "
      ]
     },
     "execution_count": 44,
     "metadata": {},
     "output_type": "execute_result"
    }
   ],
   "source": [
    "Butter_text_ie['Tweet']='Butter'\n",
    "Butter_text_ie.head()"
   ]
  },
  {
   "cell_type": "code",
   "execution_count": 45,
   "id": "7ff45872",
   "metadata": {},
   "outputs": [
    {
     "data": {
      "text/html": [
       "<div>\n",
       "<style scoped>\n",
       "    .dataframe tbody tr th:only-of-type {\n",
       "        vertical-align: middle;\n",
       "    }\n",
       "\n",
       "    .dataframe tbody tr th {\n",
       "        vertical-align: top;\n",
       "    }\n",
       "\n",
       "    .dataframe thead th {\n",
       "        text-align: right;\n",
       "    }\n",
       "</style>\n",
       "<table border=\"1\" class=\"dataframe\">\n",
       "  <thead>\n",
       "    <tr style=\"text-align: right;\">\n",
       "      <th></th>\n",
       "      <th>text</th>\n",
       "      <th>id</th>\n",
       "      <th>author_id</th>\n",
       "      <th>edit_history_tweet_ids</th>\n",
       "      <th>Tweet</th>\n",
       "    </tr>\n",
       "  </thead>\n",
       "  <tbody>\n",
       "    <tr>\n",
       "      <th>0</th>\n",
       "      <td>@JustineClaire65 And black is white and up is ...</td>\n",
       "      <td>1608571082461560837</td>\n",
       "      <td>1085889301232173061</td>\n",
       "      <td>['1608571082461560837']</td>\n",
       "      <td>Cheese</td>\n",
       "    </tr>\n",
       "    <tr>\n",
       "      <th>1</th>\n",
       "      <td>We are spending a few days in Ireland with Nea...</td>\n",
       "      <td>1608372605555298307</td>\n",
       "      <td>213212254</td>\n",
       "      <td>['1608372605555298307']</td>\n",
       "      <td>Cheese</td>\n",
       "    </tr>\n",
       "    <tr>\n",
       "      <th>2</th>\n",
       "      <td>@Sandra46427493 @historyinmemes Maybe read a b...</td>\n",
       "      <td>1608345442877673473</td>\n",
       "      <td>1391819827623469060</td>\n",
       "      <td>['1608345442877673473']</td>\n",
       "      <td>Cheese</td>\n",
       "    </tr>\n",
       "    <tr>\n",
       "      <th>3</th>\n",
       "      <td>I just had cheese and crackers for the first t...</td>\n",
       "      <td>1608278061148946436</td>\n",
       "      <td>1389339805658632204</td>\n",
       "      <td>['1608278061148946436']</td>\n",
       "      <td>Cheese</td>\n",
       "    </tr>\n",
       "    <tr>\n",
       "      <th>4</th>\n",
       "      <td>@Goosey30111568 @MatthewStadlen 6 cont) means ...</td>\n",
       "      <td>1608162720028696579</td>\n",
       "      <td>710746848</td>\n",
       "      <td>['1608162720028696579']</td>\n",
       "      <td>Cheese</td>\n",
       "    </tr>\n",
       "  </tbody>\n",
       "</table>\n",
       "</div>"
      ],
      "text/plain": [
       "                                                text                   id  \\\n",
       "0  @JustineClaire65 And black is white and up is ...  1608571082461560837   \n",
       "1  We are spending a few days in Ireland with Nea...  1608372605555298307   \n",
       "2  @Sandra46427493 @historyinmemes Maybe read a b...  1608345442877673473   \n",
       "3  I just had cheese and crackers for the first t...  1608278061148946436   \n",
       "4  @Goosey30111568 @MatthewStadlen 6 cont) means ...  1608162720028696579   \n",
       "\n",
       "             author_id   edit_history_tweet_ids   Tweet  \n",
       "0  1085889301232173061  ['1608571082461560837']  Cheese  \n",
       "1            213212254  ['1608372605555298307']  Cheese  \n",
       "2  1391819827623469060  ['1608345442877673473']  Cheese  \n",
       "3  1389339805658632204  ['1608278061148946436']  Cheese  \n",
       "4            710746848  ['1608162720028696579']  Cheese  "
      ]
     },
     "execution_count": 45,
     "metadata": {},
     "output_type": "execute_result"
    }
   ],
   "source": [
    "Cheese_text_ie['Tweet']='Cheese'\n",
    "Cheese_text_ie.head()"
   ]
  },
  {
   "cell_type": "code",
   "execution_count": 19,
   "id": "36e15d94",
   "metadata": {},
   "outputs": [],
   "source": [
    "Butter_Cheese_Tweets = pd.merge(Butter_text_ie, Cheese_text_ie, how=\"outer\")"
   ]
  },
  {
   "cell_type": "code",
   "execution_count": 20,
   "id": "35e83fa5",
   "metadata": {},
   "outputs": [
    {
     "data": {
      "text/plain": [
       "(62, 5)"
      ]
     },
     "execution_count": 20,
     "metadata": {},
     "output_type": "execute_result"
    }
   ],
   "source": [
    "Butter_Cheese_Tweets.shape"
   ]
  },
  {
   "cell_type": "code",
   "execution_count": 21,
   "id": "50713274",
   "metadata": {},
   "outputs": [
    {
     "data": {
      "text/html": [
       "<div>\n",
       "<style scoped>\n",
       "    .dataframe tbody tr th:only-of-type {\n",
       "        vertical-align: middle;\n",
       "    }\n",
       "\n",
       "    .dataframe tbody tr th {\n",
       "        vertical-align: top;\n",
       "    }\n",
       "\n",
       "    .dataframe thead th {\n",
       "        text-align: right;\n",
       "    }\n",
       "</style>\n",
       "<table border=\"1\" class=\"dataframe\">\n",
       "  <thead>\n",
       "    <tr style=\"text-align: right;\">\n",
       "      <th></th>\n",
       "      <th>edit_history_tweet_ids</th>\n",
       "      <th>author_id</th>\n",
       "      <th>id</th>\n",
       "      <th>text</th>\n",
       "      <th>Tweet</th>\n",
       "    </tr>\n",
       "  </thead>\n",
       "  <tbody>\n",
       "    <tr>\n",
       "      <th>0</th>\n",
       "      <td>['1608080492280135681']</td>\n",
       "      <td>1569070813</td>\n",
       "      <td>1608080492280135681</td>\n",
       "      <td>https://t.co/ZPm4YMdViV Lot of 4, Noritake #Ir...</td>\n",
       "      <td>Butter</td>\n",
       "    </tr>\n",
       "    <tr>\n",
       "      <th>1</th>\n",
       "      <td>['1608073307923906563']</td>\n",
       "      <td>1478727624432173057</td>\n",
       "      <td>1608073307923906563</td>\n",
       "      <td>Lots of #Brexit problems. About 2:09: An order...</td>\n",
       "      <td>Butter</td>\n",
       "    </tr>\n",
       "    <tr>\n",
       "      <th>2</th>\n",
       "      <td>['1608056702103863298']</td>\n",
       "      <td>45626088</td>\n",
       "      <td>1608056702103863298</td>\n",
       "      <td>I went from not having cows milk in few years ...</td>\n",
       "      <td>Butter</td>\n",
       "    </tr>\n",
       "    <tr>\n",
       "      <th>3</th>\n",
       "      <td>['1608042608009547776']</td>\n",
       "      <td>3871294456</td>\n",
       "      <td>1608042608009547776</td>\n",
       "      <td>@punchedmonet_ @alannah_siobhan Wasn't it an i...</td>\n",
       "      <td>Butter</td>\n",
       "    </tr>\n",
       "    <tr>\n",
       "      <th>4</th>\n",
       "      <td>['1607779250463191040']</td>\n",
       "      <td>14441449</td>\n",
       "      <td>1607779250463191040</td>\n",
       "      <td>@DanKaszeta In Ireland \"green bacon\" refers to...</td>\n",
       "      <td>Butter</td>\n",
       "    </tr>\n",
       "    <tr>\n",
       "      <th>...</th>\n",
       "      <td>...</td>\n",
       "      <td>...</td>\n",
       "      <td>...</td>\n",
       "      <td>...</td>\n",
       "      <td>...</td>\n",
       "    </tr>\n",
       "    <tr>\n",
       "      <th>57</th>\n",
       "      <td>['1605961378589577217']</td>\n",
       "      <td>584482727</td>\n",
       "      <td>1605961378589577217</td>\n",
       "      <td>@morane_bertrand @BritainElects Being in the S...</td>\n",
       "      <td>Cheese</td>\n",
       "    </tr>\n",
       "    <tr>\n",
       "      <th>58</th>\n",
       "      <td>['1605939096001531904']</td>\n",
       "      <td>1530456764923236353</td>\n",
       "      <td>1605939096001531904</td>\n",
       "      <td>@Cryptorat2022 @Donald_I_2022 This is an adver...</td>\n",
       "      <td>Cheese</td>\n",
       "    </tr>\n",
       "    <tr>\n",
       "      <th>59</th>\n",
       "      <td>['1605639751322767361']</td>\n",
       "      <td>1600006860979015680</td>\n",
       "      <td>1605639751322767361</td>\n",
       "      <td>Today I learned that Cheese and Onion Tayto’s ...</td>\n",
       "      <td>Cheese</td>\n",
       "    </tr>\n",
       "    <tr>\n",
       "      <th>60</th>\n",
       "      <td>['1605599934840901632']</td>\n",
       "      <td>1596261078111064064</td>\n",
       "      <td>1605599934840901632</td>\n",
       "      <td>@RaJahOHara @SummerWalkerSon queen we do garli...</td>\n",
       "      <td>Cheese</td>\n",
       "    </tr>\n",
       "    <tr>\n",
       "      <th>61</th>\n",
       "      <td>['1605597031417929728']</td>\n",
       "      <td>2310027304</td>\n",
       "      <td>1605597031417929728</td>\n",
       "      <td>Christmas has come early for me 🎄with my Chees...</td>\n",
       "      <td>Cheese</td>\n",
       "    </tr>\n",
       "  </tbody>\n",
       "</table>\n",
       "<p>62 rows × 5 columns</p>\n",
       "</div>"
      ],
      "text/plain": [
       "     edit_history_tweet_ids            author_id                   id  \\\n",
       "0   ['1608080492280135681']           1569070813  1608080492280135681   \n",
       "1   ['1608073307923906563']  1478727624432173057  1608073307923906563   \n",
       "2   ['1608056702103863298']             45626088  1608056702103863298   \n",
       "3   ['1608042608009547776']           3871294456  1608042608009547776   \n",
       "4   ['1607779250463191040']             14441449  1607779250463191040   \n",
       "..                      ...                  ...                  ...   \n",
       "57  ['1605961378589577217']            584482727  1605961378589577217   \n",
       "58  ['1605939096001531904']  1530456764923236353  1605939096001531904   \n",
       "59  ['1605639751322767361']  1600006860979015680  1605639751322767361   \n",
       "60  ['1605599934840901632']  1596261078111064064  1605599934840901632   \n",
       "61  ['1605597031417929728']           2310027304  1605597031417929728   \n",
       "\n",
       "                                                 text   Tweet  \n",
       "0   https://t.co/ZPm4YMdViV Lot of 4, Noritake #Ir...  Butter  \n",
       "1   Lots of #Brexit problems. About 2:09: An order...  Butter  \n",
       "2   I went from not having cows milk in few years ...  Butter  \n",
       "3   @punchedmonet_ @alannah_siobhan Wasn't it an i...  Butter  \n",
       "4   @DanKaszeta In Ireland \"green bacon\" refers to...  Butter  \n",
       "..                                                ...     ...  \n",
       "57  @morane_bertrand @BritainElects Being in the S...  Cheese  \n",
       "58  @Cryptorat2022 @Donald_I_2022 This is an adver...  Cheese  \n",
       "59  Today I learned that Cheese and Onion Tayto’s ...  Cheese  \n",
       "60  @RaJahOHara @SummerWalkerSon queen we do garli...  Cheese  \n",
       "61  Christmas has come early for me 🎄with my Chees...  Cheese  \n",
       "\n",
       "[62 rows x 5 columns]"
      ]
     },
     "execution_count": 21,
     "metadata": {},
     "output_type": "execute_result"
    }
   ],
   "source": [
    "Butter_Cheese_Tweets"
   ]
  },
  {
   "cell_type": "code",
   "execution_count": 22,
   "id": "d21f9dfc",
   "metadata": {},
   "outputs": [],
   "source": [
    "Butter_Cheese_Tweets.to_excel('Butter_Cheese_Tweets.xlsx', index = False)"
   ]
  },
  {
   "cell_type": "markdown",
   "id": "1212549d",
   "metadata": {},
   "source": [
    "### Data for Testing"
   ]
  },
  {
   "cell_type": "code",
   "execution_count": 36,
   "id": "2696fd0a",
   "metadata": {},
   "outputs": [
    {
     "data": {
      "text/plain": [
       "42"
      ]
     },
     "execution_count": 36,
     "metadata": {},
     "output_type": "execute_result"
    },
    {
     "data": {
      "text/plain": [
       "362"
      ]
     },
     "execution_count": 36,
     "metadata": {},
     "output_type": "execute_result"
    },
    {
     "data": {
      "text/plain": [
       "353"
      ]
     },
     "execution_count": 36,
     "metadata": {},
     "output_type": "execute_result"
    },
    {
     "data": {
      "text/plain": [
       "161"
      ]
     },
     "execution_count": 36,
     "metadata": {},
     "output_type": "execute_result"
    },
    {
     "data": {
      "text/plain": [
       "274"
      ]
     },
     "execution_count": 36,
     "metadata": {},
     "output_type": "execute_result"
    },
    {
     "data": {
      "text/plain": [
       "161"
      ]
     },
     "execution_count": 36,
     "metadata": {},
     "output_type": "execute_result"
    },
    {
     "data": {
      "text/plain": [
       "161"
      ]
     },
     "execution_count": 36,
     "metadata": {},
     "output_type": "execute_result"
    },
    {
     "data": {
      "text/plain": [
       "372"
      ]
     },
     "execution_count": 36,
     "metadata": {},
     "output_type": "execute_result"
    },
    {
     "data": {
      "text/plain": [
       "259"
      ]
     },
     "execution_count": 36,
     "metadata": {},
     "output_type": "execute_result"
    },
    {
     "data": {
      "text/plain": [
       "345"
      ]
     },
     "execution_count": 36,
     "metadata": {},
     "output_type": "execute_result"
    },
    {
     "data": {
      "text/plain": [
       "359"
      ]
     },
     "execution_count": 36,
     "metadata": {},
     "output_type": "execute_result"
    },
    {
     "data": {
      "text/plain": [
       "161"
      ]
     },
     "execution_count": 36,
     "metadata": {},
     "output_type": "execute_result"
    },
    {
     "data": {
      "text/plain": [
       "347"
      ]
     },
     "execution_count": 36,
     "metadata": {},
     "output_type": "execute_result"
    },
    {
     "data": {
      "text/plain": [
       "356"
      ]
     },
     "execution_count": 36,
     "metadata": {},
     "output_type": "execute_result"
    },
    {
     "data": {
      "text/plain": [
       "161"
      ]
     },
     "execution_count": 36,
     "metadata": {},
     "output_type": "execute_result"
    },
    {
     "data": {
      "text/plain": [
       "161"
      ]
     },
     "execution_count": 36,
     "metadata": {},
     "output_type": "execute_result"
    },
    {
     "data": {
      "text/plain": [
       "161"
      ]
     },
     "execution_count": 36,
     "metadata": {},
     "output_type": "execute_result"
    },
    {
     "data": {
      "text/plain": [
       "161"
      ]
     },
     "execution_count": 36,
     "metadata": {},
     "output_type": "execute_result"
    },
    {
     "data": {
      "text/plain": [
       "232"
      ]
     },
     "execution_count": 36,
     "metadata": {},
     "output_type": "execute_result"
    },
    {
     "data": {
      "text/plain": [
       "230"
      ]
     },
     "execution_count": 36,
     "metadata": {},
     "output_type": "execute_result"
    },
    {
     "data": {
      "text/plain": [
       "350"
      ]
     },
     "execution_count": 36,
     "metadata": {},
     "output_type": "execute_result"
    },
    {
     "data": {
      "text/plain": [
       "334"
      ]
     },
     "execution_count": 36,
     "metadata": {},
     "output_type": "execute_result"
    },
    {
     "data": {
      "text/plain": [
       "356"
      ]
     },
     "execution_count": 36,
     "metadata": {},
     "output_type": "execute_result"
    },
    {
     "data": {
      "text/plain": [
       "161"
      ]
     },
     "execution_count": 36,
     "metadata": {},
     "output_type": "execute_result"
    },
    {
     "data": {
      "text/plain": [
       "151"
      ]
     },
     "execution_count": 36,
     "metadata": {},
     "output_type": "execute_result"
    },
    {
     "data": {
      "text/plain": [
       "161"
      ]
     },
     "execution_count": 36,
     "metadata": {},
     "output_type": "execute_result"
    },
    {
     "data": {
      "text/plain": [
       "244"
      ]
     },
     "execution_count": 36,
     "metadata": {},
     "output_type": "execute_result"
    },
    {
     "data": {
      "text/plain": [
       "179"
      ]
     },
     "execution_count": 36,
     "metadata": {},
     "output_type": "execute_result"
    },
    {
     "data": {
      "text/plain": [
       "230"
      ]
     },
     "execution_count": 36,
     "metadata": {},
     "output_type": "execute_result"
    },
    {
     "data": {
      "text/plain": [
       "289"
      ]
     },
     "execution_count": 36,
     "metadata": {},
     "output_type": "execute_result"
    },
    {
     "data": {
      "text/plain": [
       "169"
      ]
     },
     "execution_count": 36,
     "metadata": {},
     "output_type": "execute_result"
    },
    {
     "data": {
      "text/plain": [
       "95"
      ]
     },
     "execution_count": 36,
     "metadata": {},
     "output_type": "execute_result"
    },
    {
     "data": {
      "text/plain": [
       "161"
      ]
     },
     "execution_count": 36,
     "metadata": {},
     "output_type": "execute_result"
    },
    {
     "data": {
      "text/plain": [
       "327"
      ]
     },
     "execution_count": 36,
     "metadata": {},
     "output_type": "execute_result"
    }
   ],
   "source": [
    "with open ('Butter_ie_test.json', 'r', encoding='utf-8') as f:\n",
    "    data= json.load(f)\n",
    "    data = data['data']\n",
    "            \n",
    "with open ('Butter_ie_test.csv', 'w', encoding='utf-8') as f:\n",
    "    fieldnames = data[0].keys()\n",
    "    writer= csv.DictWriter(f, fieldnames=fieldnames)\n",
    "    writer.writeheader()\n",
    "    for text in data:\n",
    "        writer.writerow(text);"
   ]
  },
  {
   "cell_type": "code",
   "execution_count": 35,
   "id": "aecb7ee5",
   "metadata": {},
   "outputs": [
    {
     "data": {
      "text/plain": [
       "42"
      ]
     },
     "execution_count": 35,
     "metadata": {},
     "output_type": "execute_result"
    },
    {
     "data": {
      "text/plain": [
       "315"
      ]
     },
     "execution_count": 35,
     "metadata": {},
     "output_type": "execute_result"
    },
    {
     "data": {
      "text/plain": [
       "358"
      ]
     },
     "execution_count": 35,
     "metadata": {},
     "output_type": "execute_result"
    },
    {
     "data": {
      "text/plain": [
       "373"
      ]
     },
     "execution_count": 35,
     "metadata": {},
     "output_type": "execute_result"
    },
    {
     "data": {
      "text/plain": [
       "161"
      ]
     },
     "execution_count": 35,
     "metadata": {},
     "output_type": "execute_result"
    },
    {
     "data": {
      "text/plain": [
       "357"
      ]
     },
     "execution_count": 35,
     "metadata": {},
     "output_type": "execute_result"
    },
    {
     "data": {
      "text/plain": [
       "205"
      ]
     },
     "execution_count": 35,
     "metadata": {},
     "output_type": "execute_result"
    },
    {
     "data": {
      "text/plain": [
       "313"
      ]
     },
     "execution_count": 35,
     "metadata": {},
     "output_type": "execute_result"
    },
    {
     "data": {
      "text/plain": [
       "345"
      ]
     },
     "execution_count": 35,
     "metadata": {},
     "output_type": "execute_result"
    },
    {
     "data": {
      "text/plain": [
       "156"
      ]
     },
     "execution_count": 35,
     "metadata": {},
     "output_type": "execute_result"
    },
    {
     "data": {
      "text/plain": [
       "192"
      ]
     },
     "execution_count": 35,
     "metadata": {},
     "output_type": "execute_result"
    },
    {
     "data": {
      "text/plain": [
       "355"
      ]
     },
     "execution_count": 35,
     "metadata": {},
     "output_type": "execute_result"
    },
    {
     "data": {
      "text/plain": [
       "363"
      ]
     },
     "execution_count": 35,
     "metadata": {},
     "output_type": "execute_result"
    },
    {
     "data": {
      "text/plain": [
       "326"
      ]
     },
     "execution_count": 35,
     "metadata": {},
     "output_type": "execute_result"
    },
    {
     "data": {
      "text/plain": [
       "329"
      ]
     },
     "execution_count": 35,
     "metadata": {},
     "output_type": "execute_result"
    },
    {
     "data": {
      "text/plain": [
       "161"
      ]
     },
     "execution_count": 35,
     "metadata": {},
     "output_type": "execute_result"
    },
    {
     "data": {
      "text/plain": [
       "337"
      ]
     },
     "execution_count": 35,
     "metadata": {},
     "output_type": "execute_result"
    },
    {
     "data": {
      "text/plain": [
       "230"
      ]
     },
     "execution_count": 35,
     "metadata": {},
     "output_type": "execute_result"
    },
    {
     "data": {
      "text/plain": [
       "183"
      ]
     },
     "execution_count": 35,
     "metadata": {},
     "output_type": "execute_result"
    },
    {
     "data": {
      "text/plain": [
       "194"
      ]
     },
     "execution_count": 35,
     "metadata": {},
     "output_type": "execute_result"
    },
    {
     "data": {
      "text/plain": [
       "220"
      ]
     },
     "execution_count": 35,
     "metadata": {},
     "output_type": "execute_result"
    },
    {
     "data": {
      "text/plain": [
       "253"
      ]
     },
     "execution_count": 35,
     "metadata": {},
     "output_type": "execute_result"
    },
    {
     "data": {
      "text/plain": [
       "345"
      ]
     },
     "execution_count": 35,
     "metadata": {},
     "output_type": "execute_result"
    },
    {
     "data": {
      "text/plain": [
       "156"
      ]
     },
     "execution_count": 35,
     "metadata": {},
     "output_type": "execute_result"
    },
    {
     "data": {
      "text/plain": [
       "314"
      ]
     },
     "execution_count": 35,
     "metadata": {},
     "output_type": "execute_result"
    },
    {
     "data": {
      "text/plain": [
       "321"
      ]
     },
     "execution_count": 35,
     "metadata": {},
     "output_type": "execute_result"
    },
    {
     "data": {
      "text/plain": [
       "338"
      ]
     },
     "execution_count": 35,
     "metadata": {},
     "output_type": "execute_result"
    },
    {
     "data": {
      "text/plain": [
       "179"
      ]
     },
     "execution_count": 35,
     "metadata": {},
     "output_type": "execute_result"
    }
   ],
   "source": [
    "with open ('Cheese_ie_test.json', 'r', encoding='utf-8') as f:\n",
    "    data= json.loads(f.read())\n",
    "    data = data['data']\n",
    "            \n",
    "with open ('Cheese_ie_test.csv', 'w', encoding='utf-8') as f:\n",
    "    fieldnames = data[0].keys()\n",
    "    writer= csv.DictWriter(f, fieldnames=fieldnames)\n",
    "    writer.writeheader()\n",
    "    for text in data:\n",
    "        writer.writerow(text);"
   ]
  },
  {
   "cell_type": "code",
   "execution_count": 38,
   "id": "30587df4",
   "metadata": {},
   "outputs": [],
   "source": [
    "Butter_test_ie = pd.read_csv(\"Butter_ie_test.csv\")\n",
    "Cheese_test_ie= pd.read_csv(\"Cheese_ie_test.csv\")"
   ]
  },
  {
   "cell_type": "code",
   "execution_count": 39,
   "id": "2a37c0bf",
   "metadata": {},
   "outputs": [
    {
     "data": {
      "text/html": [
       "<div>\n",
       "<style scoped>\n",
       "    .dataframe tbody tr th:only-of-type {\n",
       "        vertical-align: middle;\n",
       "    }\n",
       "\n",
       "    .dataframe tbody tr th {\n",
       "        vertical-align: top;\n",
       "    }\n",
       "\n",
       "    .dataframe thead th {\n",
       "        text-align: right;\n",
       "    }\n",
       "</style>\n",
       "<table border=\"1\" class=\"dataframe\">\n",
       "  <thead>\n",
       "    <tr style=\"text-align: right;\">\n",
       "      <th></th>\n",
       "      <th>edit_history_tweet_ids</th>\n",
       "      <th>author_id</th>\n",
       "      <th>text</th>\n",
       "      <th>id</th>\n",
       "    </tr>\n",
       "  </thead>\n",
       "  <tbody>\n",
       "    <tr>\n",
       "      <th>0</th>\n",
       "      <td>['1608553799244992512']</td>\n",
       "      <td>251500395</td>\n",
       "      <td>@JackLombardi @AdamKinzinger We are all “globa...</td>\n",
       "      <td>1608553799244992512</td>\n",
       "    </tr>\n",
       "    <tr>\n",
       "      <th>1</th>\n",
       "      <td>['1608493257683603456']</td>\n",
       "      <td>732941099849912320</td>\n",
       "      <td>Enjoy 🇮🇪 McCambridge soda bread mix across the...</td>\n",
       "      <td>1608493257683603456</td>\n",
       "    </tr>\n",
       "    <tr>\n",
       "      <th>2</th>\n",
       "      <td>['1608349591920934914']</td>\n",
       "      <td>1569070813</td>\n",
       "      <td>https://t.co/ZPm4YMdViV Lot of 4, Noritake #Ir...</td>\n",
       "      <td>1608349591920934914</td>\n",
       "    </tr>\n",
       "    <tr>\n",
       "      <th>3</th>\n",
       "      <td>['1608294795796955136']</td>\n",
       "      <td>15258782</td>\n",
       "      <td>@plentyofalcoves the things I saw them do with...</td>\n",
       "      <td>1608294795796955136</td>\n",
       "    </tr>\n",
       "    <tr>\n",
       "      <th>4</th>\n",
       "      <td>['1608184326499274752']</td>\n",
       "      <td>1569070813</td>\n",
       "      <td>https://t.co/ZPm4YMdViV Lot of 4, Noritake #Ir...</td>\n",
       "      <td>1608184326499274752</td>\n",
       "    </tr>\n",
       "  </tbody>\n",
       "</table>\n",
       "</div>"
      ],
      "text/plain": [
       "    edit_history_tweet_ids           author_id  \\\n",
       "0  ['1608553799244992512']           251500395   \n",
       "1  ['1608493257683603456']  732941099849912320   \n",
       "2  ['1608349591920934914']          1569070813   \n",
       "3  ['1608294795796955136']            15258782   \n",
       "4  ['1608184326499274752']          1569070813   \n",
       "\n",
       "                                                text                   id  \n",
       "0  @JackLombardi @AdamKinzinger We are all “globa...  1608553799244992512  \n",
       "1  Enjoy 🇮🇪 McCambridge soda bread mix across the...  1608493257683603456  \n",
       "2  https://t.co/ZPm4YMdViV Lot of 4, Noritake #Ir...  1608349591920934914  \n",
       "3  @plentyofalcoves the things I saw them do with...  1608294795796955136  \n",
       "4  https://t.co/ZPm4YMdViV Lot of 4, Noritake #Ir...  1608184326499274752  "
      ]
     },
     "execution_count": 39,
     "metadata": {},
     "output_type": "execute_result"
    }
   ],
   "source": [
    "Butter_test_ie.head()"
   ]
  },
  {
   "cell_type": "code",
   "execution_count": 40,
   "id": "0be64708",
   "metadata": {},
   "outputs": [
    {
     "data": {
      "text/html": [
       "<div>\n",
       "<style scoped>\n",
       "    .dataframe tbody tr th:only-of-type {\n",
       "        vertical-align: middle;\n",
       "    }\n",
       "\n",
       "    .dataframe tbody tr th {\n",
       "        vertical-align: top;\n",
       "    }\n",
       "\n",
       "    .dataframe thead th {\n",
       "        text-align: right;\n",
       "    }\n",
       "</style>\n",
       "<table border=\"1\" class=\"dataframe\">\n",
       "  <thead>\n",
       "    <tr style=\"text-align: right;\">\n",
       "      <th></th>\n",
       "      <th>text</th>\n",
       "      <th>id</th>\n",
       "      <th>author_id</th>\n",
       "      <th>edit_history_tweet_ids</th>\n",
       "    </tr>\n",
       "  </thead>\n",
       "  <tbody>\n",
       "    <tr>\n",
       "      <th>0</th>\n",
       "      <td>@JustineClaire65 And black is white and up is ...</td>\n",
       "      <td>1608571082461560837</td>\n",
       "      <td>1085889301232173061</td>\n",
       "      <td>['1608571082461560837']</td>\n",
       "    </tr>\n",
       "    <tr>\n",
       "      <th>1</th>\n",
       "      <td>We are spending a few days in Ireland with Nea...</td>\n",
       "      <td>1608372605555298307</td>\n",
       "      <td>213212254</td>\n",
       "      <td>['1608372605555298307']</td>\n",
       "    </tr>\n",
       "    <tr>\n",
       "      <th>2</th>\n",
       "      <td>@Sandra46427493 @historyinmemes Maybe read a b...</td>\n",
       "      <td>1608345442877673473</td>\n",
       "      <td>1391819827623469060</td>\n",
       "      <td>['1608345442877673473']</td>\n",
       "    </tr>\n",
       "    <tr>\n",
       "      <th>3</th>\n",
       "      <td>I just had cheese and crackers for the first t...</td>\n",
       "      <td>1608278061148946436</td>\n",
       "      <td>1389339805658632204</td>\n",
       "      <td>['1608278061148946436']</td>\n",
       "    </tr>\n",
       "    <tr>\n",
       "      <th>4</th>\n",
       "      <td>@Goosey30111568 @MatthewStadlen 6 cont) means ...</td>\n",
       "      <td>1608162720028696579</td>\n",
       "      <td>710746848</td>\n",
       "      <td>['1608162720028696579']</td>\n",
       "    </tr>\n",
       "  </tbody>\n",
       "</table>\n",
       "</div>"
      ],
      "text/plain": [
       "                                                text                   id  \\\n",
       "0  @JustineClaire65 And black is white and up is ...  1608571082461560837   \n",
       "1  We are spending a few days in Ireland with Nea...  1608372605555298307   \n",
       "2  @Sandra46427493 @historyinmemes Maybe read a b...  1608345442877673473   \n",
       "3  I just had cheese and crackers for the first t...  1608278061148946436   \n",
       "4  @Goosey30111568 @MatthewStadlen 6 cont) means ...  1608162720028696579   \n",
       "\n",
       "             author_id   edit_history_tweet_ids  \n",
       "0  1085889301232173061  ['1608571082461560837']  \n",
       "1            213212254  ['1608372605555298307']  \n",
       "2  1391819827623469060  ['1608345442877673473']  \n",
       "3  1389339805658632204  ['1608278061148946436']  \n",
       "4            710746848  ['1608162720028696579']  "
      ]
     },
     "execution_count": 40,
     "metadata": {},
     "output_type": "execute_result"
    }
   ],
   "source": [
    "Cheese_test_ie.head()"
   ]
  },
  {
   "cell_type": "code",
   "execution_count": 41,
   "id": "7cfa111f",
   "metadata": {},
   "outputs": [
    {
     "data": {
      "text/plain": [
       "(33, 4)"
      ]
     },
     "execution_count": 41,
     "metadata": {},
     "output_type": "execute_result"
    },
    {
     "data": {
      "text/plain": [
       "(27, 4)"
      ]
     },
     "execution_count": 41,
     "metadata": {},
     "output_type": "execute_result"
    }
   ],
   "source": [
    "Butter_test_ie.shape\n",
    "Cheese_test_ie.shape"
   ]
  },
  {
   "cell_type": "code",
   "execution_count": 43,
   "id": "6efcb5de",
   "metadata": {},
   "outputs": [
    {
     "data": {
      "text/html": [
       "<div>\n",
       "<style scoped>\n",
       "    .dataframe tbody tr th:only-of-type {\n",
       "        vertical-align: middle;\n",
       "    }\n",
       "\n",
       "    .dataframe tbody tr th {\n",
       "        vertical-align: top;\n",
       "    }\n",
       "\n",
       "    .dataframe thead th {\n",
       "        text-align: right;\n",
       "    }\n",
       "</style>\n",
       "<table border=\"1\" class=\"dataframe\">\n",
       "  <thead>\n",
       "    <tr style=\"text-align: right;\">\n",
       "      <th></th>\n",
       "      <th>edit_history_tweet_ids</th>\n",
       "      <th>author_id</th>\n",
       "      <th>text</th>\n",
       "      <th>id</th>\n",
       "      <th>Tweet</th>\n",
       "    </tr>\n",
       "  </thead>\n",
       "  <tbody>\n",
       "    <tr>\n",
       "      <th>0</th>\n",
       "      <td>['1608553799244992512']</td>\n",
       "      <td>251500395</td>\n",
       "      <td>@JackLombardi @AdamKinzinger We are all “globa...</td>\n",
       "      <td>1608553799244992512</td>\n",
       "      <td>Butter</td>\n",
       "    </tr>\n",
       "    <tr>\n",
       "      <th>1</th>\n",
       "      <td>['1608493257683603456']</td>\n",
       "      <td>732941099849912320</td>\n",
       "      <td>Enjoy 🇮🇪 McCambridge soda bread mix across the...</td>\n",
       "      <td>1608493257683603456</td>\n",
       "      <td>Butter</td>\n",
       "    </tr>\n",
       "    <tr>\n",
       "      <th>2</th>\n",
       "      <td>['1608349591920934914']</td>\n",
       "      <td>1569070813</td>\n",
       "      <td>https://t.co/ZPm4YMdViV Lot of 4, Noritake #Ir...</td>\n",
       "      <td>1608349591920934914</td>\n",
       "      <td>Butter</td>\n",
       "    </tr>\n",
       "    <tr>\n",
       "      <th>3</th>\n",
       "      <td>['1608294795796955136']</td>\n",
       "      <td>15258782</td>\n",
       "      <td>@plentyofalcoves the things I saw them do with...</td>\n",
       "      <td>1608294795796955136</td>\n",
       "      <td>Butter</td>\n",
       "    </tr>\n",
       "    <tr>\n",
       "      <th>4</th>\n",
       "      <td>['1608184326499274752']</td>\n",
       "      <td>1569070813</td>\n",
       "      <td>https://t.co/ZPm4YMdViV Lot of 4, Noritake #Ir...</td>\n",
       "      <td>1608184326499274752</td>\n",
       "      <td>Butter</td>\n",
       "    </tr>\n",
       "  </tbody>\n",
       "</table>\n",
       "</div>"
      ],
      "text/plain": [
       "    edit_history_tweet_ids           author_id  \\\n",
       "0  ['1608553799244992512']           251500395   \n",
       "1  ['1608493257683603456']  732941099849912320   \n",
       "2  ['1608349591920934914']          1569070813   \n",
       "3  ['1608294795796955136']            15258782   \n",
       "4  ['1608184326499274752']          1569070813   \n",
       "\n",
       "                                                text                   id  \\\n",
       "0  @JackLombardi @AdamKinzinger We are all “globa...  1608553799244992512   \n",
       "1  Enjoy 🇮🇪 McCambridge soda bread mix across the...  1608493257683603456   \n",
       "2  https://t.co/ZPm4YMdViV Lot of 4, Noritake #Ir...  1608349591920934914   \n",
       "3  @plentyofalcoves the things I saw them do with...  1608294795796955136   \n",
       "4  https://t.co/ZPm4YMdViV Lot of 4, Noritake #Ir...  1608184326499274752   \n",
       "\n",
       "    Tweet  \n",
       "0  Butter  \n",
       "1  Butter  \n",
       "2  Butter  \n",
       "3  Butter  \n",
       "4  Butter  "
      ]
     },
     "execution_count": 43,
     "metadata": {},
     "output_type": "execute_result"
    }
   ],
   "source": [
    "Butter_test_ie['Tweet']='Butter'\n",
    "Butter_test_ie.head()"
   ]
  },
  {
   "cell_type": "code",
   "execution_count": 46,
   "id": "78850b7a",
   "metadata": {},
   "outputs": [
    {
     "data": {
      "text/html": [
       "<div>\n",
       "<style scoped>\n",
       "    .dataframe tbody tr th:only-of-type {\n",
       "        vertical-align: middle;\n",
       "    }\n",
       "\n",
       "    .dataframe tbody tr th {\n",
       "        vertical-align: top;\n",
       "    }\n",
       "\n",
       "    .dataframe thead th {\n",
       "        text-align: right;\n",
       "    }\n",
       "</style>\n",
       "<table border=\"1\" class=\"dataframe\">\n",
       "  <thead>\n",
       "    <tr style=\"text-align: right;\">\n",
       "      <th></th>\n",
       "      <th>text</th>\n",
       "      <th>id</th>\n",
       "      <th>author_id</th>\n",
       "      <th>edit_history_tweet_ids</th>\n",
       "      <th>Tweet</th>\n",
       "    </tr>\n",
       "  </thead>\n",
       "  <tbody>\n",
       "    <tr>\n",
       "      <th>0</th>\n",
       "      <td>@JustineClaire65 And black is white and up is ...</td>\n",
       "      <td>1608571082461560837</td>\n",
       "      <td>1085889301232173061</td>\n",
       "      <td>['1608571082461560837']</td>\n",
       "      <td>Cheese</td>\n",
       "    </tr>\n",
       "    <tr>\n",
       "      <th>1</th>\n",
       "      <td>We are spending a few days in Ireland with Nea...</td>\n",
       "      <td>1608372605555298307</td>\n",
       "      <td>213212254</td>\n",
       "      <td>['1608372605555298307']</td>\n",
       "      <td>Cheese</td>\n",
       "    </tr>\n",
       "    <tr>\n",
       "      <th>2</th>\n",
       "      <td>@Sandra46427493 @historyinmemes Maybe read a b...</td>\n",
       "      <td>1608345442877673473</td>\n",
       "      <td>1391819827623469060</td>\n",
       "      <td>['1608345442877673473']</td>\n",
       "      <td>Cheese</td>\n",
       "    </tr>\n",
       "    <tr>\n",
       "      <th>3</th>\n",
       "      <td>I just had cheese and crackers for the first t...</td>\n",
       "      <td>1608278061148946436</td>\n",
       "      <td>1389339805658632204</td>\n",
       "      <td>['1608278061148946436']</td>\n",
       "      <td>Cheese</td>\n",
       "    </tr>\n",
       "    <tr>\n",
       "      <th>4</th>\n",
       "      <td>@Goosey30111568 @MatthewStadlen 6 cont) means ...</td>\n",
       "      <td>1608162720028696579</td>\n",
       "      <td>710746848</td>\n",
       "      <td>['1608162720028696579']</td>\n",
       "      <td>Cheese</td>\n",
       "    </tr>\n",
       "  </tbody>\n",
       "</table>\n",
       "</div>"
      ],
      "text/plain": [
       "                                                text                   id  \\\n",
       "0  @JustineClaire65 And black is white and up is ...  1608571082461560837   \n",
       "1  We are spending a few days in Ireland with Nea...  1608372605555298307   \n",
       "2  @Sandra46427493 @historyinmemes Maybe read a b...  1608345442877673473   \n",
       "3  I just had cheese and crackers for the first t...  1608278061148946436   \n",
       "4  @Goosey30111568 @MatthewStadlen 6 cont) means ...  1608162720028696579   \n",
       "\n",
       "             author_id   edit_history_tweet_ids   Tweet  \n",
       "0  1085889301232173061  ['1608571082461560837']  Cheese  \n",
       "1            213212254  ['1608372605555298307']  Cheese  \n",
       "2  1391819827623469060  ['1608345442877673473']  Cheese  \n",
       "3  1389339805658632204  ['1608278061148946436']  Cheese  \n",
       "4            710746848  ['1608162720028696579']  Cheese  "
      ]
     },
     "execution_count": 46,
     "metadata": {},
     "output_type": "execute_result"
    }
   ],
   "source": [
    "Cheese_test_ie['Tweet']='Cheese'\n",
    "Cheese_test_ie.head()"
   ]
  },
  {
   "cell_type": "code",
   "execution_count": 47,
   "id": "eb8ecfeb",
   "metadata": {},
   "outputs": [],
   "source": [
    "Butter_Cheese_Tweets_test = pd.merge(Butter_test_ie, Cheese_test_ie, how=\"outer\")"
   ]
  },
  {
   "cell_type": "code",
   "execution_count": 48,
   "id": "f8e0dc9c",
   "metadata": {},
   "outputs": [
    {
     "data": {
      "text/plain": [
       "(60, 5)"
      ]
     },
     "execution_count": 48,
     "metadata": {},
     "output_type": "execute_result"
    }
   ],
   "source": [
    "Butter_Cheese_Tweets_test.shape"
   ]
  },
  {
   "cell_type": "code",
   "execution_count": 52,
   "id": "f7fed892",
   "metadata": {},
   "outputs": [
    {
     "data": {
      "text/html": [
       "<div>\n",
       "<style scoped>\n",
       "    .dataframe tbody tr th:only-of-type {\n",
       "        vertical-align: middle;\n",
       "    }\n",
       "\n",
       "    .dataframe tbody tr th {\n",
       "        vertical-align: top;\n",
       "    }\n",
       "\n",
       "    .dataframe thead th {\n",
       "        text-align: right;\n",
       "    }\n",
       "</style>\n",
       "<table border=\"1\" class=\"dataframe\">\n",
       "  <thead>\n",
       "    <tr style=\"text-align: right;\">\n",
       "      <th></th>\n",
       "      <th>edit_history_tweet_ids</th>\n",
       "      <th>author_id</th>\n",
       "      <th>text</th>\n",
       "      <th>id</th>\n",
       "      <th>Tweet</th>\n",
       "    </tr>\n",
       "  </thead>\n",
       "  <tbody>\n",
       "    <tr>\n",
       "      <th>0</th>\n",
       "      <td>['1608553799244992512']</td>\n",
       "      <td>251500395</td>\n",
       "      <td>@JackLombardi @AdamKinzinger We are all “globa...</td>\n",
       "      <td>1608553799244992512</td>\n",
       "      <td>Butter</td>\n",
       "    </tr>\n",
       "    <tr>\n",
       "      <th>1</th>\n",
       "      <td>['1608493257683603456']</td>\n",
       "      <td>732941099849912320</td>\n",
       "      <td>Enjoy 🇮🇪 McCambridge soda bread mix across the...</td>\n",
       "      <td>1608493257683603456</td>\n",
       "      <td>Butter</td>\n",
       "    </tr>\n",
       "    <tr>\n",
       "      <th>2</th>\n",
       "      <td>['1608349591920934914']</td>\n",
       "      <td>1569070813</td>\n",
       "      <td>https://t.co/ZPm4YMdViV Lot of 4, Noritake #Ir...</td>\n",
       "      <td>1608349591920934914</td>\n",
       "      <td>Butter</td>\n",
       "    </tr>\n",
       "    <tr>\n",
       "      <th>3</th>\n",
       "      <td>['1608294795796955136']</td>\n",
       "      <td>15258782</td>\n",
       "      <td>@plentyofalcoves the things I saw them do with...</td>\n",
       "      <td>1608294795796955136</td>\n",
       "      <td>Butter</td>\n",
       "    </tr>\n",
       "    <tr>\n",
       "      <th>4</th>\n",
       "      <td>['1608184326499274752']</td>\n",
       "      <td>1569070813</td>\n",
       "      <td>https://t.co/ZPm4YMdViV Lot of 4, Noritake #Ir...</td>\n",
       "      <td>1608184326499274752</td>\n",
       "      <td>Butter</td>\n",
       "    </tr>\n",
       "  </tbody>\n",
       "</table>\n",
       "</div>"
      ],
      "text/plain": [
       "    edit_history_tweet_ids           author_id  \\\n",
       "0  ['1608553799244992512']           251500395   \n",
       "1  ['1608493257683603456']  732941099849912320   \n",
       "2  ['1608349591920934914']          1569070813   \n",
       "3  ['1608294795796955136']            15258782   \n",
       "4  ['1608184326499274752']          1569070813   \n",
       "\n",
       "                                                text                   id  \\\n",
       "0  @JackLombardi @AdamKinzinger We are all “globa...  1608553799244992512   \n",
       "1  Enjoy 🇮🇪 McCambridge soda bread mix across the...  1608493257683603456   \n",
       "2  https://t.co/ZPm4YMdViV Lot of 4, Noritake #Ir...  1608349591920934914   \n",
       "3  @plentyofalcoves the things I saw them do with...  1608294795796955136   \n",
       "4  https://t.co/ZPm4YMdViV Lot of 4, Noritake #Ir...  1608184326499274752   \n",
       "\n",
       "    Tweet  \n",
       "0  Butter  \n",
       "1  Butter  \n",
       "2  Butter  \n",
       "3  Butter  \n",
       "4  Butter  "
      ]
     },
     "execution_count": 52,
     "metadata": {},
     "output_type": "execute_result"
    },
    {
     "data": {
      "text/html": [
       "<div>\n",
       "<style scoped>\n",
       "    .dataframe tbody tr th:only-of-type {\n",
       "        vertical-align: middle;\n",
       "    }\n",
       "\n",
       "    .dataframe tbody tr th {\n",
       "        vertical-align: top;\n",
       "    }\n",
       "\n",
       "    .dataframe thead th {\n",
       "        text-align: right;\n",
       "    }\n",
       "</style>\n",
       "<table border=\"1\" class=\"dataframe\">\n",
       "  <thead>\n",
       "    <tr style=\"text-align: right;\">\n",
       "      <th></th>\n",
       "      <th>edit_history_tweet_ids</th>\n",
       "      <th>author_id</th>\n",
       "      <th>text</th>\n",
       "      <th>id</th>\n",
       "      <th>Tweet</th>\n",
       "    </tr>\n",
       "  </thead>\n",
       "  <tbody>\n",
       "    <tr>\n",
       "      <th>55</th>\n",
       "      <td>['1606372831104798728']</td>\n",
       "      <td>20075900</td>\n",
       "      <td>@FootyScran @GalwayUnitedFC Cheese and curry s...</td>\n",
       "      <td>1606372831104798728</td>\n",
       "      <td>Cheese</td>\n",
       "    </tr>\n",
       "    <tr>\n",
       "      <th>56</th>\n",
       "      <td>['1606324665261195266']</td>\n",
       "      <td>1338620203228422155</td>\n",
       "      <td>@itshoneylive Yes and it was at some tiny litt...</td>\n",
       "      <td>1606324665261195266</td>\n",
       "      <td>Cheese</td>\n",
       "    </tr>\n",
       "    <tr>\n",
       "      <th>57</th>\n",
       "      <td>['1606301053338537984']</td>\n",
       "      <td>3216294682</td>\n",
       "      <td>Three FP Logue cases listed in @IrishLegalNews...</td>\n",
       "      <td>1606301053338537984</td>\n",
       "      <td>Cheese</td>\n",
       "    </tr>\n",
       "    <tr>\n",
       "      <th>58</th>\n",
       "      <td>['1606124226431160321']</td>\n",
       "      <td>432134884</td>\n",
       "      <td>When we were in the very northern tip of Irela...</td>\n",
       "      <td>1606124226431160321</td>\n",
       "      <td>Cheese</td>\n",
       "    </tr>\n",
       "    <tr>\n",
       "      <th>59</th>\n",
       "      <td>['1606060476487462913']</td>\n",
       "      <td>1547598734384459778</td>\n",
       "      <td>He will be joining his brothers, Honey Mustard...</td>\n",
       "      <td>1606060476487462913</td>\n",
       "      <td>Cheese</td>\n",
       "    </tr>\n",
       "  </tbody>\n",
       "</table>\n",
       "</div>"
      ],
      "text/plain": [
       "     edit_history_tweet_ids            author_id  \\\n",
       "55  ['1606372831104798728']             20075900   \n",
       "56  ['1606324665261195266']  1338620203228422155   \n",
       "57  ['1606301053338537984']           3216294682   \n",
       "58  ['1606124226431160321']            432134884   \n",
       "59  ['1606060476487462913']  1547598734384459778   \n",
       "\n",
       "                                                 text                   id  \\\n",
       "55  @FootyScran @GalwayUnitedFC Cheese and curry s...  1606372831104798728   \n",
       "56  @itshoneylive Yes and it was at some tiny litt...  1606324665261195266   \n",
       "57  Three FP Logue cases listed in @IrishLegalNews...  1606301053338537984   \n",
       "58  When we were in the very northern tip of Irela...  1606124226431160321   \n",
       "59  He will be joining his brothers, Honey Mustard...  1606060476487462913   \n",
       "\n",
       "     Tweet  \n",
       "55  Cheese  \n",
       "56  Cheese  \n",
       "57  Cheese  \n",
       "58  Cheese  \n",
       "59  Cheese  "
      ]
     },
     "execution_count": 52,
     "metadata": {},
     "output_type": "execute_result"
    }
   ],
   "source": [
    "Butter_Cheese_Tweets_test.head()\n",
    "Butter_Cheese_Tweets_test.tail()"
   ]
  },
  {
   "cell_type": "code",
   "execution_count": 53,
   "id": "ab5366d0",
   "metadata": {},
   "outputs": [],
   "source": [
    "Butter_Cheese_Tweets_test.to_excel('Butter_Cheese_Tweets_test.xlsx', index = False)"
   ]
  },
  {
   "cell_type": "code",
   "execution_count": null,
   "id": "1ac2494d",
   "metadata": {},
   "outputs": [],
   "source": []
  }
 ],
 "metadata": {
  "kernelspec": {
   "display_name": "Python 3 (ipykernel)",
   "language": "python",
   "name": "python3"
  },
  "language_info": {
   "codemirror_mode": {
    "name": "ipython",
    "version": 3
   },
   "file_extension": ".py",
   "mimetype": "text/x-python",
   "name": "python",
   "nbconvert_exporter": "python",
   "pygments_lexer": "ipython3",
   "version": "3.9.12"
  }
 },
 "nbformat": 4,
 "nbformat_minor": 5
}
