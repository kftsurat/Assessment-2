{
 "cells": [
  {
   "cell_type": "markdown",
   "id": "94217149",
   "metadata": {},
   "source": [
    "## Interactive Visualization of Geographical Data"
   ]
  },
  {
   "cell_type": "markdown",
   "id": "41425379",
   "metadata": {},
   "source": [
    "### A. Milk Production in  EU"
   ]
  },
  {
   "cell_type": "code",
   "execution_count": 31,
   "id": "0e7bae22",
   "metadata": {},
   "outputs": [
    {
     "data": {
      "text/html": [
       "<div>\n",
       "<style scoped>\n",
       "    .dataframe tbody tr th:only-of-type {\n",
       "        vertical-align: middle;\n",
       "    }\n",
       "\n",
       "    .dataframe tbody tr th {\n",
       "        vertical-align: top;\n",
       "    }\n",
       "\n",
       "    .dataframe thead th {\n",
       "        text-align: right;\n",
       "    }\n",
       "</style>\n",
       "<table border=\"1\" class=\"dataframe\">\n",
       "  <thead>\n",
       "    <tr style=\"text-align: right;\">\n",
       "      <th></th>\n",
       "      <th>Country</th>\n",
       "      <th>Year</th>\n",
       "      <th>Amount</th>\n",
       "    </tr>\n",
       "  </thead>\n",
       "  <tbody>\n",
       "    <tr>\n",
       "      <th>0</th>\n",
       "      <td>Belgium</td>\n",
       "      <td>2011</td>\n",
       "      <td>3151.00</td>\n",
       "    </tr>\n",
       "    <tr>\n",
       "      <th>1</th>\n",
       "      <td>Bulgaria</td>\n",
       "      <td>2011</td>\n",
       "      <td>1126.00</td>\n",
       "    </tr>\n",
       "    <tr>\n",
       "      <th>2</th>\n",
       "      <td>Czechia</td>\n",
       "      <td>2011</td>\n",
       "      <td>2735.93</td>\n",
       "    </tr>\n",
       "    <tr>\n",
       "      <th>3</th>\n",
       "      <td>Denmark</td>\n",
       "      <td>2011</td>\n",
       "      <td>4879.50</td>\n",
       "    </tr>\n",
       "    <tr>\n",
       "      <th>4</th>\n",
       "      <td>Germany</td>\n",
       "      <td>2011</td>\n",
       "      <td>30301.36</td>\n",
       "    </tr>\n",
       "    <tr>\n",
       "      <th>...</th>\n",
       "      <td>...</td>\n",
       "      <td>...</td>\n",
       "      <td>...</td>\n",
       "    </tr>\n",
       "    <tr>\n",
       "      <th>292</th>\n",
       "      <td>Romania</td>\n",
       "      <td>2021</td>\n",
       "      <td>3637.00</td>\n",
       "    </tr>\n",
       "    <tr>\n",
       "      <th>293</th>\n",
       "      <td>Slovenia</td>\n",
       "      <td>2021</td>\n",
       "      <td>639.93</td>\n",
       "    </tr>\n",
       "    <tr>\n",
       "      <th>294</th>\n",
       "      <td>Slovakia</td>\n",
       "      <td>2021</td>\n",
       "      <td>902.64</td>\n",
       "    </tr>\n",
       "    <tr>\n",
       "      <th>295</th>\n",
       "      <td>Finland</td>\n",
       "      <td>2021</td>\n",
       "      <td>2161.46</td>\n",
       "    </tr>\n",
       "    <tr>\n",
       "      <th>296</th>\n",
       "      <td>Sweden</td>\n",
       "      <td>2021</td>\n",
       "      <td>2782.22</td>\n",
       "    </tr>\n",
       "  </tbody>\n",
       "</table>\n",
       "<p>297 rows × 3 columns</p>\n",
       "</div>"
      ],
      "text/plain": [
       "      Country  Year    Amount\n",
       "0     Belgium  2011   3151.00\n",
       "1    Bulgaria  2011   1126.00\n",
       "2     Czechia  2011   2735.93\n",
       "3     Denmark  2011   4879.50\n",
       "4     Germany  2011  30301.36\n",
       "..        ...   ...       ...\n",
       "292   Romania  2021   3637.00\n",
       "293  Slovenia  2021    639.93\n",
       "294  Slovakia  2021    902.64\n",
       "295   Finland  2021   2161.46\n",
       "296    Sweden  2021   2782.22\n",
       "\n",
       "[297 rows x 3 columns]"
      ]
     },
     "execution_count": 31,
     "metadata": {},
     "output_type": "execute_result"
    }
   ],
   "source": [
    "import pandas as pd\n",
    "Milk_Production_EU = pd.read_csv(\"Milk_Production_new_data.csv\")\n",
    "Milk_Production_EU"
   ]
  },
  {
   "attachments": {},
   "cell_type": "markdown",
   "id": "a1be3d00",
   "metadata": {},
   "source": [
    "I want to add a column for a country code using ISO 3166-1 Alpha-3 code (iso3)"
   ]
  },
  {
   "cell_type": "code",
   "execution_count": 32,
   "id": "718cc3e2",
   "metadata": {},
   "outputs": [
    {
     "name": "stdout",
     "output_type": "stream",
     "text": [
      "      Country  Year    Amount Code\n",
      "0     Belgium  2011   3151.00  BEL\n",
      "1    Bulgaria  2011   1126.00  BGR\n",
      "2     Czechia  2011   2735.93  CZE\n",
      "3     Denmark  2011   4879.50  DNK\n",
      "4     Germany  2011  30301.36  DEU\n",
      "..        ...   ...       ...  ...\n",
      "292   Romania  2021   3637.00  ROU\n",
      "293  Slovenia  2021    639.93  SVN\n",
      "294  Slovakia  2021    902.64  SVK\n",
      "295   Finland  2021   2161.46  FIN\n",
      "296    Sweden  2021   2782.22  SWE\n",
      "\n",
      "[297 rows x 4 columns]\n"
     ]
    }
   ],
   "source": [
    "#Create copy of country column as alpha-3\n",
    "Milk_Production_EU['Code'] = Milk_Production_EU['Country']\n",
    "\n",
    "#Create a look up with required values\n",
    "lookup_table = {'Belgium': 'BEL' , 'Bulgaria': 'BGR' , 'Czechia': 'CZE' , 'Denmark': 'DNK' , 'Germany': 'DEU' , 'Estonia' : 'EST' , 'Ireland': 'IRL' , 'Greece': 'GRC', 'Spain': 'ESP', 'France': 'FRA' , 'Croatia': 'HRV' , 'Italy': 'ITA' , 'Cyprus': 'CYP' , 'Latvia': 'LVA' , 'Lithuania': 'LTU' , 'Luxembourg': 'LUX' , 'Hungary': 'HUN', 'Malta': 'MLT' , 'Netherlands': 'NLD' , 'Austria': 'AUT', 'Poland': 'POL', 'Portugal':'PRT' , 'Romania':'ROU', 'Slovenia': 'SVN', 'Slovakia': 'SVK', 'Finland' :'FIN', 'Sweden':'SWE'}\n",
    "\n",
    "#replace the alpha-3 column with lookup values.\n",
    "Milk_Production_EU = Milk_Production_EU.replace({'Code':lookup_table})\n",
    "print(Milk_Production_EU)"
   ]
  },
  {
   "cell_type": "code",
   "execution_count": 33,
   "id": "fbadfd12",
   "metadata": {},
   "outputs": [
    {
     "data": {
      "text/html": [
       "<div>\n",
       "<style scoped>\n",
       "    .dataframe tbody tr th:only-of-type {\n",
       "        vertical-align: middle;\n",
       "    }\n",
       "\n",
       "    .dataframe tbody tr th {\n",
       "        vertical-align: top;\n",
       "    }\n",
       "\n",
       "    .dataframe thead th {\n",
       "        text-align: right;\n",
       "    }\n",
       "</style>\n",
       "<table border=\"1\" class=\"dataframe\">\n",
       "  <thead>\n",
       "    <tr style=\"text-align: right;\">\n",
       "      <th></th>\n",
       "      <th>Country</th>\n",
       "      <th>Year</th>\n",
       "      <th>Amount</th>\n",
       "      <th>Code</th>\n",
       "    </tr>\n",
       "  </thead>\n",
       "  <tbody>\n",
       "    <tr>\n",
       "      <th>0</th>\n",
       "      <td>Belgium</td>\n",
       "      <td>2011</td>\n",
       "      <td>3151.00</td>\n",
       "      <td>BEL</td>\n",
       "    </tr>\n",
       "    <tr>\n",
       "      <th>1</th>\n",
       "      <td>Bulgaria</td>\n",
       "      <td>2011</td>\n",
       "      <td>1126.00</td>\n",
       "      <td>BGR</td>\n",
       "    </tr>\n",
       "    <tr>\n",
       "      <th>2</th>\n",
       "      <td>Czechia</td>\n",
       "      <td>2011</td>\n",
       "      <td>2735.93</td>\n",
       "      <td>CZE</td>\n",
       "    </tr>\n",
       "    <tr>\n",
       "      <th>3</th>\n",
       "      <td>Denmark</td>\n",
       "      <td>2011</td>\n",
       "      <td>4879.50</td>\n",
       "      <td>DNK</td>\n",
       "    </tr>\n",
       "    <tr>\n",
       "      <th>4</th>\n",
       "      <td>Germany</td>\n",
       "      <td>2011</td>\n",
       "      <td>30301.36</td>\n",
       "      <td>DEU</td>\n",
       "    </tr>\n",
       "    <tr>\n",
       "      <th>...</th>\n",
       "      <td>...</td>\n",
       "      <td>...</td>\n",
       "      <td>...</td>\n",
       "      <td>...</td>\n",
       "    </tr>\n",
       "    <tr>\n",
       "      <th>292</th>\n",
       "      <td>Romania</td>\n",
       "      <td>2021</td>\n",
       "      <td>3637.00</td>\n",
       "      <td>ROU</td>\n",
       "    </tr>\n",
       "    <tr>\n",
       "      <th>293</th>\n",
       "      <td>Slovenia</td>\n",
       "      <td>2021</td>\n",
       "      <td>639.93</td>\n",
       "      <td>SVN</td>\n",
       "    </tr>\n",
       "    <tr>\n",
       "      <th>294</th>\n",
       "      <td>Slovakia</td>\n",
       "      <td>2021</td>\n",
       "      <td>902.64</td>\n",
       "      <td>SVK</td>\n",
       "    </tr>\n",
       "    <tr>\n",
       "      <th>295</th>\n",
       "      <td>Finland</td>\n",
       "      <td>2021</td>\n",
       "      <td>2161.46</td>\n",
       "      <td>FIN</td>\n",
       "    </tr>\n",
       "    <tr>\n",
       "      <th>296</th>\n",
       "      <td>Sweden</td>\n",
       "      <td>2021</td>\n",
       "      <td>2782.22</td>\n",
       "      <td>SWE</td>\n",
       "    </tr>\n",
       "  </tbody>\n",
       "</table>\n",
       "<p>297 rows × 4 columns</p>\n",
       "</div>"
      ],
      "text/plain": [
       "      Country  Year    Amount Code\n",
       "0     Belgium  2011   3151.00  BEL\n",
       "1    Bulgaria  2011   1126.00  BGR\n",
       "2     Czechia  2011   2735.93  CZE\n",
       "3     Denmark  2011   4879.50  DNK\n",
       "4     Germany  2011  30301.36  DEU\n",
       "..        ...   ...       ...  ...\n",
       "292   Romania  2021   3637.00  ROU\n",
       "293  Slovenia  2021    639.93  SVN\n",
       "294  Slovakia  2021    902.64  SVK\n",
       "295   Finland  2021   2161.46  FIN\n",
       "296    Sweden  2021   2782.22  SWE\n",
       "\n",
       "[297 rows x 4 columns]"
      ]
     },
     "execution_count": 33,
     "metadata": {},
     "output_type": "execute_result"
    }
   ],
   "source": [
    "Milk_Production_EU"
   ]
  },
  {
   "cell_type": "code",
   "execution_count": 38,
   "id": "f954ea19",
   "metadata": {},
   "outputs": [
    {
     "data": {
      "application/vnd.plotly.v1+json": {
       "config": {
        "plotlyServerURL": "https://plot.ly"
       },
       "data": [
        {
         "coloraxis": "coloraxis",
         "geo": "geo",
         "hovertemplate": "<b>%{hovertext}</b><br><br>Code=%{location}<br>Amount=%{z}<extra></extra>",
         "hovertext": [
          "Belgium",
          "Bulgaria",
          "Czechia",
          "Denmark",
          "Germany",
          "Estonia",
          "Ireland",
          "Greece",
          "Spain",
          "France",
          "Croatia",
          "Italy",
          "Cyprus",
          "Latvia",
          "Lithuania",
          "Luxembourg",
          "Hungary",
          "Malta",
          "Netherlands",
          "Austria",
          "Poland",
          "Portugal",
          "Romania",
          "Slovenia",
          "Slovakia",
          "Finland",
          "Sweden",
          "Belgium",
          "Bulgaria",
          "Czechia",
          "Denmark",
          "Germany",
          "Estonia",
          "Ireland",
          "Greece",
          "Spain",
          "France",
          "Croatia",
          "Italy",
          "Cyprus",
          "Latvia",
          "Lithuania",
          "Luxembourg",
          "Hungary",
          "Malta",
          "Netherlands",
          "Austria",
          "Poland",
          "Portugal",
          "Romania",
          "Slovenia",
          "Slovakia",
          "Finland",
          "Sweden",
          "Belgium",
          "Bulgaria",
          "Czechia",
          "Denmark",
          "Germany",
          "Estonia",
          "Ireland",
          "Greece",
          "Spain",
          "France",
          "Croatia",
          "Italy",
          "Cyprus",
          "Latvia",
          "Lithuania",
          "Luxembourg",
          "Hungary",
          "Malta",
          "Netherlands",
          "Austria",
          "Poland",
          "Portugal",
          "Romania",
          "Slovenia",
          "Slovakia",
          "Finland",
          "Sweden",
          "Belgium",
          "Bulgaria",
          "Czechia",
          "Denmark",
          "Germany",
          "Estonia",
          "Ireland",
          "Greece",
          "Spain",
          "France",
          "Croatia",
          "Italy",
          "Cyprus",
          "Latvia",
          "Lithuania",
          "Luxembourg",
          "Hungary",
          "Malta",
          "Netherlands",
          "Austria",
          "Poland",
          "Portugal",
          "Romania",
          "Slovenia",
          "Slovakia",
          "Finland",
          "Sweden",
          "Belgium",
          "Bulgaria",
          "Czechia",
          "Denmark",
          "Germany",
          "Estonia",
          "Ireland",
          "Greece",
          "Spain",
          "France",
          "Croatia",
          "Italy",
          "Cyprus",
          "Latvia",
          "Lithuania",
          "Luxembourg",
          "Hungary",
          "Malta",
          "Netherlands",
          "Austria",
          "Poland",
          "Portugal",
          "Romania",
          "Slovenia",
          "Slovakia",
          "Finland",
          "Sweden",
          "Belgium",
          "Bulgaria",
          "Czechia",
          "Denmark",
          "Germany",
          "Estonia",
          "Ireland",
          "Greece",
          "Spain",
          "France",
          "Croatia",
          "Italy",
          "Cyprus",
          "Latvia",
          "Lithuania",
          "Luxembourg",
          "Hungary",
          "Malta",
          "Netherlands",
          "Austria",
          "Poland",
          "Portugal",
          "Romania",
          "Slovenia",
          "Slovakia",
          "Finland",
          "Sweden",
          "Belgium",
          "Bulgaria",
          "Czechia",
          "Denmark",
          "Germany",
          "Estonia",
          "Ireland",
          "Greece",
          "Spain",
          "France",
          "Croatia",
          "Italy",
          "Cyprus",
          "Latvia",
          "Lithuania",
          "Luxembourg",
          "Hungary",
          "Malta",
          "Netherlands",
          "Austria",
          "Poland",
          "Portugal",
          "Romania",
          "Slovenia",
          "Slovakia",
          "Finland",
          "Sweden",
          "Belgium",
          "Bulgaria",
          "Czechia",
          "Denmark",
          "Germany",
          "Estonia",
          "Ireland",
          "Greece",
          "Spain",
          "France",
          "Croatia",
          "Italy",
          "Cyprus",
          "Latvia",
          "Lithuania",
          "Luxembourg",
          "Hungary",
          "Malta",
          "Netherlands",
          "Austria",
          "Poland",
          "Portugal",
          "Romania",
          "Slovenia",
          "Slovakia",
          "Finland",
          "Sweden",
          "Belgium",
          "Bulgaria",
          "Czechia",
          "Denmark",
          "Germany",
          "Estonia",
          "Ireland",
          "Greece",
          "Spain",
          "France",
          "Croatia",
          "Italy",
          "Cyprus",
          "Latvia",
          "Lithuania",
          "Luxembourg",
          "Hungary",
          "Malta",
          "Netherlands",
          "Austria",
          "Poland",
          "Portugal",
          "Romania",
          "Slovenia",
          "Slovakia",
          "Finland",
          "Sweden",
          "Belgium",
          "Bulgaria",
          "Czechia",
          "Denmark",
          "Germany",
          "Estonia",
          "Ireland",
          "Greece",
          "Spain",
          "France",
          "Croatia",
          "Italy",
          "Cyprus",
          "Latvia",
          "Lithuania",
          "Luxembourg",
          "Hungary",
          "Malta",
          "Netherlands",
          "Austria",
          "Poland",
          "Portugal",
          "Romania",
          "Slovenia",
          "Slovakia",
          "Finland",
          "Sweden",
          "Belgium",
          "Bulgaria",
          "Czechia",
          "Denmark",
          "Germany",
          "Estonia",
          "Ireland",
          "Greece",
          "Spain",
          "France",
          "Croatia",
          "Italy",
          "Cyprus",
          "Latvia",
          "Lithuania",
          "Luxembourg",
          "Hungary",
          "Malta",
          "Netherlands",
          "Austria",
          "Poland",
          "Portugal",
          "Romania",
          "Slovenia",
          "Slovakia",
          "Finland",
          "Sweden"
         ],
         "locations": [
          "BEL",
          "BGR",
          "CZE",
          "DNK",
          "DEU",
          "EST",
          "IRL",
          "GRC",
          "ESP",
          "FRA",
          "HRV",
          "ITA",
          "CYP",
          "LVA",
          "LTU",
          "LUX",
          "HUN",
          "MLT",
          "NLD",
          "AUT",
          "POL",
          "PRT",
          "ROU",
          "SVN",
          "SVK",
          "FIN",
          "SWE",
          "BEL",
          "BGR",
          "CZE",
          "DNK",
          "DEU",
          "EST",
          "IRL",
          "GRC",
          "ESP",
          "FRA",
          "HRV",
          "ITA",
          "CYP",
          "LVA",
          "LTU",
          "LUX",
          "HUN",
          "MLT",
          "NLD",
          "AUT",
          "POL",
          "PRT",
          "ROU",
          "SVN",
          "SVK",
          "FIN",
          "SWE",
          "BEL",
          "BGR",
          "CZE",
          "DNK",
          "DEU",
          "EST",
          "IRL",
          "GRC",
          "ESP",
          "FRA",
          "HRV",
          "ITA",
          "CYP",
          "LVA",
          "LTU",
          "LUX",
          "HUN",
          "MLT",
          "NLD",
          "AUT",
          "POL",
          "PRT",
          "ROU",
          "SVN",
          "SVK",
          "FIN",
          "SWE",
          "BEL",
          "BGR",
          "CZE",
          "DNK",
          "DEU",
          "EST",
          "IRL",
          "GRC",
          "ESP",
          "FRA",
          "HRV",
          "ITA",
          "CYP",
          "LVA",
          "LTU",
          "LUX",
          "HUN",
          "MLT",
          "NLD",
          "AUT",
          "POL",
          "PRT",
          "ROU",
          "SVN",
          "SVK",
          "FIN",
          "SWE",
          "BEL",
          "BGR",
          "CZE",
          "DNK",
          "DEU",
          "EST",
          "IRL",
          "GRC",
          "ESP",
          "FRA",
          "HRV",
          "ITA",
          "CYP",
          "LVA",
          "LTU",
          "LUX",
          "HUN",
          "MLT",
          "NLD",
          "AUT",
          "POL",
          "PRT",
          "ROU",
          "SVN",
          "SVK",
          "FIN",
          "SWE",
          "BEL",
          "BGR",
          "CZE",
          "DNK",
          "DEU",
          "EST",
          "IRL",
          "GRC",
          "ESP",
          "FRA",
          "HRV",
          "ITA",
          "CYP",
          "LVA",
          "LTU",
          "LUX",
          "HUN",
          "MLT",
          "NLD",
          "AUT",
          "POL",
          "PRT",
          "ROU",
          "SVN",
          "SVK",
          "FIN",
          "SWE",
          "BEL",
          "BGR",
          "CZE",
          "DNK",
          "DEU",
          "EST",
          "IRL",
          "GRC",
          "ESP",
          "FRA",
          "HRV",
          "ITA",
          "CYP",
          "LVA",
          "LTU",
          "LUX",
          "HUN",
          "MLT",
          "NLD",
          "AUT",
          "POL",
          "PRT",
          "ROU",
          "SVN",
          "SVK",
          "FIN",
          "SWE",
          "BEL",
          "BGR",
          "CZE",
          "DNK",
          "DEU",
          "EST",
          "IRL",
          "GRC",
          "ESP",
          "FRA",
          "HRV",
          "ITA",
          "CYP",
          "LVA",
          "LTU",
          "LUX",
          "HUN",
          "MLT",
          "NLD",
          "AUT",
          "POL",
          "PRT",
          "ROU",
          "SVN",
          "SVK",
          "FIN",
          "SWE",
          "BEL",
          "BGR",
          "CZE",
          "DNK",
          "DEU",
          "EST",
          "IRL",
          "GRC",
          "ESP",
          "FRA",
          "HRV",
          "ITA",
          "CYP",
          "LVA",
          "LTU",
          "LUX",
          "HUN",
          "MLT",
          "NLD",
          "AUT",
          "POL",
          "PRT",
          "ROU",
          "SVN",
          "SVK",
          "FIN",
          "SWE",
          "BEL",
          "BGR",
          "CZE",
          "DNK",
          "DEU",
          "EST",
          "IRL",
          "GRC",
          "ESP",
          "FRA",
          "HRV",
          "ITA",
          "CYP",
          "LVA",
          "LTU",
          "LUX",
          "HUN",
          "MLT",
          "NLD",
          "AUT",
          "POL",
          "PRT",
          "ROU",
          "SVN",
          "SVK",
          "FIN",
          "SWE",
          "BEL",
          "BGR",
          "CZE",
          "DNK",
          "DEU",
          "EST",
          "IRL",
          "GRC",
          "ESP",
          "FRA",
          "HRV",
          "ITA",
          "CYP",
          "LVA",
          "LTU",
          "LUX",
          "HUN",
          "MLT",
          "NLD",
          "AUT",
          "POL",
          "PRT",
          "ROU",
          "SVN",
          "SVK",
          "FIN",
          "SWE"
         ],
         "name": "",
         "type": "choropleth",
         "z": [
          3151,
          1126,
          2735.93,
          4879.5,
          30301.36,
          692.4,
          5556.2,
          757,
          6487.68,
          25091.93,
          804,
          11298.61,
          156.02,
          841.7,
          1782.32,
          292.25,
          1712.48,
          33.89,
          11850.72,
          3307.13,
          12414,
          1918.52,
          4075,
          601.59,
          928.32,
          2300.73,
          2850.4,
          3116,
          1093,
          2814.68,
          5006.4,
          30672.15,
          720.7,
          5399.3,
          765.5,
          6502.41,
          24718.38,
          810,
          11500,
          153.74,
          870.6,
          1774.53,
          289.4,
          1812.85,
          33.89,
          11880.95,
          3382.1,
          12668,
          1938.13,
          3881,
          620.94,
          932.71,
          2296.68,
          2861.17,
          3529,
          1149,
          2849.43,
          5081.8,
          31324.24,
          771.6,
          5600.7,
          730.6,
          6559.18,
          24459.76,
          717,
          11281.26,
          163.27,
          912,
          1719.51,
          295.86,
          1772.76,
          40.92,
          12407.69,
          3393.06,
          12718,
          1847.98,
          3966,
          595.5,
          911.96,
          2327.8,
          2869.58,
          3710,
          1103,
          2933.46,
          5162,
          32381.06,
          804.8,
          5821.3,
          769,
          6779.75,
          25728.32,
          712,
          11500,
          164.64,
          968.9,
          1791.13,
          317.05,
          1875.72,
          42.77,
          12660.35,
          3493.86,
          12986,
          1942.78,
          4101,
          616.58,
          930.71,
          2400.01,
          2931.65,
          3826,
          1028.04,
          3025.88,
          5335.7,
          32670.88,
          782.7,
          6604.41,
          770,
          7029.48,
          25820.27,
          694,
          11425.94,
          165.3,
          975.4,
          1734.73,
          346.25,
          1941.33,
          41.57,
          13522.12,
          3537.76,
          13236.23,
          2013.78,
          3981,
          631.67,
          930.98,
          2436.76,
          2933.16,
          3933,
          1018.58,
          3064.73,
          5435.7,
          32672.34,
          782.7,
          6871.94,
          706,
          7123.77,
          25138.93,
          671,
          11886.04,
          186.02,
          983.5,
          1623.87,
          376.22,
          1918.23,
          43.13,
          14531,
          3627.61,
          13244.17,
          1922.97,
          3934,
          649.68,
          905.26,
          2429.59,
          2862.23,
          4060,
          968.18,
          3079.21,
          5502.2,
          32598.2,
          790,
          7498.94,
          670,
          7229.35,
          25055.2,
          648,
          12198.88,
          216.39,
          998,
          1566.65,
          387.18,
          1967.5,
          41.03,
          14501,
          3712.73,
          13694.47,
          1921.21,
          3797.7,
          647.99,
          911.73,
          2405.76,
          2816.66,
          4195,
          898.77,
          3161.51,
          5615.2,
          33086.81,
          796.9,
          7831.25,
          654.8,
          7335.62,
          25055.1,
          618,
          12339.75,
          228.08,
          980.2,
          1568.01,
          407.62,
          1948.83,
          40.41,
          14090,
          3821.19,
          14171.15,
          1939.67,
          3797.6,
          628.93,
          904.62,
          2397.88,
          2760.23,
          4293,
          822.3,
          3155.79,
          5615,
          33080.18,
          820.8,
          8244.87,
          659.38,
          7460.36,
          25062,
          599,
          12494.4,
          238.76,
          978.9,
          1547.43,
          421.26,
          1962.78,
          41.27,
          14555,
          3781.34,
          14502.76,
          1975.49,
          3663.2,
          623.02,
          904.26,
          2374.36,
          2704.39,
          4449,
          881.76,
          3267.73,
          5666,
          33164.91,
          848.3,
          8561.47,
          683.46,
          7606.07,
          25234.84,
          596,
          12712.48,
          275.16,
          988.2,
          1488,
          447.34,
          2014.33,
          42.11,
          14522,
          3815.47,
          14821.82,
          1993.61,
          3679.6,
          630.65,
          917.69,
          2406.52,
          2772.74,
          4434,
          835.78,
          3309.91,
          5644,
          32506.91,
          838.7,
          9039.99,
          710.93,
          7623.09,
          24778.84,
          558,
          13202.45,
          298.14,
          990.31,
          1473.28,
          443.28,
          2080.23,
          39.54,
          14217.25,
          3830.14,
          14881.11,
          1995.55,
          3637,
          639.93,
          902.64,
          2161.46,
          2782.22
         ]
        }
       ],
       "layout": {
        "coloraxis": {
         "colorbar": {
          "title": {
           "text": "Amount"
          }
         },
         "colorscale": [
          [
           0,
           "#0d0887"
          ],
          [
           0.1111111111111111,
           "#46039f"
          ],
          [
           0.2222222222222222,
           "#7201a8"
          ],
          [
           0.3333333333333333,
           "#9c179e"
          ],
          [
           0.4444444444444444,
           "#bd3786"
          ],
          [
           0.5555555555555556,
           "#d8576b"
          ],
          [
           0.6666666666666666,
           "#ed7953"
          ],
          [
           0.7777777777777778,
           "#fb9f3a"
          ],
          [
           0.8888888888888888,
           "#fdca26"
          ],
          [
           1,
           "#f0f921"
          ]
         ]
        },
        "geo": {
         "center": {},
         "domain": {
          "x": [
           0,
           1
          ],
          "y": [
           0,
           1
          ]
         },
         "scope": "europe"
        },
        "legend": {
         "tracegroupgap": 0
        },
        "margin": {
         "t": 60
        },
        "template": {
         "data": {
          "bar": [
           {
            "error_x": {
             "color": "#2a3f5f"
            },
            "error_y": {
             "color": "#2a3f5f"
            },
            "marker": {
             "line": {
              "color": "#E5ECF6",
              "width": 0.5
             },
             "pattern": {
              "fillmode": "overlay",
              "size": 10,
              "solidity": 0.2
             }
            },
            "type": "bar"
           }
          ],
          "barpolar": [
           {
            "marker": {
             "line": {
              "color": "#E5ECF6",
              "width": 0.5
             },
             "pattern": {
              "fillmode": "overlay",
              "size": 10,
              "solidity": 0.2
             }
            },
            "type": "barpolar"
           }
          ],
          "carpet": [
           {
            "aaxis": {
             "endlinecolor": "#2a3f5f",
             "gridcolor": "white",
             "linecolor": "white",
             "minorgridcolor": "white",
             "startlinecolor": "#2a3f5f"
            },
            "baxis": {
             "endlinecolor": "#2a3f5f",
             "gridcolor": "white",
             "linecolor": "white",
             "minorgridcolor": "white",
             "startlinecolor": "#2a3f5f"
            },
            "type": "carpet"
           }
          ],
          "choropleth": [
           {
            "colorbar": {
             "outlinewidth": 0,
             "ticks": ""
            },
            "type": "choropleth"
           }
          ],
          "contour": [
           {
            "colorbar": {
             "outlinewidth": 0,
             "ticks": ""
            },
            "colorscale": [
             [
              0,
              "#0d0887"
             ],
             [
              0.1111111111111111,
              "#46039f"
             ],
             [
              0.2222222222222222,
              "#7201a8"
             ],
             [
              0.3333333333333333,
              "#9c179e"
             ],
             [
              0.4444444444444444,
              "#bd3786"
             ],
             [
              0.5555555555555556,
              "#d8576b"
             ],
             [
              0.6666666666666666,
              "#ed7953"
             ],
             [
              0.7777777777777778,
              "#fb9f3a"
             ],
             [
              0.8888888888888888,
              "#fdca26"
             ],
             [
              1,
              "#f0f921"
             ]
            ],
            "type": "contour"
           }
          ],
          "contourcarpet": [
           {
            "colorbar": {
             "outlinewidth": 0,
             "ticks": ""
            },
            "type": "contourcarpet"
           }
          ],
          "heatmap": [
           {
            "colorbar": {
             "outlinewidth": 0,
             "ticks": ""
            },
            "colorscale": [
             [
              0,
              "#0d0887"
             ],
             [
              0.1111111111111111,
              "#46039f"
             ],
             [
              0.2222222222222222,
              "#7201a8"
             ],
             [
              0.3333333333333333,
              "#9c179e"
             ],
             [
              0.4444444444444444,
              "#bd3786"
             ],
             [
              0.5555555555555556,
              "#d8576b"
             ],
             [
              0.6666666666666666,
              "#ed7953"
             ],
             [
              0.7777777777777778,
              "#fb9f3a"
             ],
             [
              0.8888888888888888,
              "#fdca26"
             ],
             [
              1,
              "#f0f921"
             ]
            ],
            "type": "heatmap"
           }
          ],
          "heatmapgl": [
           {
            "colorbar": {
             "outlinewidth": 0,
             "ticks": ""
            },
            "colorscale": [
             [
              0,
              "#0d0887"
             ],
             [
              0.1111111111111111,
              "#46039f"
             ],
             [
              0.2222222222222222,
              "#7201a8"
             ],
             [
              0.3333333333333333,
              "#9c179e"
             ],
             [
              0.4444444444444444,
              "#bd3786"
             ],
             [
              0.5555555555555556,
              "#d8576b"
             ],
             [
              0.6666666666666666,
              "#ed7953"
             ],
             [
              0.7777777777777778,
              "#fb9f3a"
             ],
             [
              0.8888888888888888,
              "#fdca26"
             ],
             [
              1,
              "#f0f921"
             ]
            ],
            "type": "heatmapgl"
           }
          ],
          "histogram": [
           {
            "marker": {
             "pattern": {
              "fillmode": "overlay",
              "size": 10,
              "solidity": 0.2
             }
            },
            "type": "histogram"
           }
          ],
          "histogram2d": [
           {
            "colorbar": {
             "outlinewidth": 0,
             "ticks": ""
            },
            "colorscale": [
             [
              0,
              "#0d0887"
             ],
             [
              0.1111111111111111,
              "#46039f"
             ],
             [
              0.2222222222222222,
              "#7201a8"
             ],
             [
              0.3333333333333333,
              "#9c179e"
             ],
             [
              0.4444444444444444,
              "#bd3786"
             ],
             [
              0.5555555555555556,
              "#d8576b"
             ],
             [
              0.6666666666666666,
              "#ed7953"
             ],
             [
              0.7777777777777778,
              "#fb9f3a"
             ],
             [
              0.8888888888888888,
              "#fdca26"
             ],
             [
              1,
              "#f0f921"
             ]
            ],
            "type": "histogram2d"
           }
          ],
          "histogram2dcontour": [
           {
            "colorbar": {
             "outlinewidth": 0,
             "ticks": ""
            },
            "colorscale": [
             [
              0,
              "#0d0887"
             ],
             [
              0.1111111111111111,
              "#46039f"
             ],
             [
              0.2222222222222222,
              "#7201a8"
             ],
             [
              0.3333333333333333,
              "#9c179e"
             ],
             [
              0.4444444444444444,
              "#bd3786"
             ],
             [
              0.5555555555555556,
              "#d8576b"
             ],
             [
              0.6666666666666666,
              "#ed7953"
             ],
             [
              0.7777777777777778,
              "#fb9f3a"
             ],
             [
              0.8888888888888888,
              "#fdca26"
             ],
             [
              1,
              "#f0f921"
             ]
            ],
            "type": "histogram2dcontour"
           }
          ],
          "mesh3d": [
           {
            "colorbar": {
             "outlinewidth": 0,
             "ticks": ""
            },
            "type": "mesh3d"
           }
          ],
          "parcoords": [
           {
            "line": {
             "colorbar": {
              "outlinewidth": 0,
              "ticks": ""
             }
            },
            "type": "parcoords"
           }
          ],
          "pie": [
           {
            "automargin": true,
            "type": "pie"
           }
          ],
          "scatter": [
           {
            "marker": {
             "colorbar": {
              "outlinewidth": 0,
              "ticks": ""
             }
            },
            "type": "scatter"
           }
          ],
          "scatter3d": [
           {
            "line": {
             "colorbar": {
              "outlinewidth": 0,
              "ticks": ""
             }
            },
            "marker": {
             "colorbar": {
              "outlinewidth": 0,
              "ticks": ""
             }
            },
            "type": "scatter3d"
           }
          ],
          "scattercarpet": [
           {
            "marker": {
             "colorbar": {
              "outlinewidth": 0,
              "ticks": ""
             }
            },
            "type": "scattercarpet"
           }
          ],
          "scattergeo": [
           {
            "marker": {
             "colorbar": {
              "outlinewidth": 0,
              "ticks": ""
             }
            },
            "type": "scattergeo"
           }
          ],
          "scattergl": [
           {
            "marker": {
             "colorbar": {
              "outlinewidth": 0,
              "ticks": ""
             }
            },
            "type": "scattergl"
           }
          ],
          "scattermapbox": [
           {
            "marker": {
             "colorbar": {
              "outlinewidth": 0,
              "ticks": ""
             }
            },
            "type": "scattermapbox"
           }
          ],
          "scatterpolar": [
           {
            "marker": {
             "colorbar": {
              "outlinewidth": 0,
              "ticks": ""
             }
            },
            "type": "scatterpolar"
           }
          ],
          "scatterpolargl": [
           {
            "marker": {
             "colorbar": {
              "outlinewidth": 0,
              "ticks": ""
             }
            },
            "type": "scatterpolargl"
           }
          ],
          "scatterternary": [
           {
            "marker": {
             "colorbar": {
              "outlinewidth": 0,
              "ticks": ""
             }
            },
            "type": "scatterternary"
           }
          ],
          "surface": [
           {
            "colorbar": {
             "outlinewidth": 0,
             "ticks": ""
            },
            "colorscale": [
             [
              0,
              "#0d0887"
             ],
             [
              0.1111111111111111,
              "#46039f"
             ],
             [
              0.2222222222222222,
              "#7201a8"
             ],
             [
              0.3333333333333333,
              "#9c179e"
             ],
             [
              0.4444444444444444,
              "#bd3786"
             ],
             [
              0.5555555555555556,
              "#d8576b"
             ],
             [
              0.6666666666666666,
              "#ed7953"
             ],
             [
              0.7777777777777778,
              "#fb9f3a"
             ],
             [
              0.8888888888888888,
              "#fdca26"
             ],
             [
              1,
              "#f0f921"
             ]
            ],
            "type": "surface"
           }
          ],
          "table": [
           {
            "cells": {
             "fill": {
              "color": "#EBF0F8"
             },
             "line": {
              "color": "white"
             }
            },
            "header": {
             "fill": {
              "color": "#C8D4E3"
             },
             "line": {
              "color": "white"
             }
            },
            "type": "table"
           }
          ]
         },
         "layout": {
          "annotationdefaults": {
           "arrowcolor": "#2a3f5f",
           "arrowhead": 0,
           "arrowwidth": 1
          },
          "autotypenumbers": "strict",
          "coloraxis": {
           "colorbar": {
            "outlinewidth": 0,
            "ticks": ""
           }
          },
          "colorscale": {
           "diverging": [
            [
             0,
             "#8e0152"
            ],
            [
             0.1,
             "#c51b7d"
            ],
            [
             0.2,
             "#de77ae"
            ],
            [
             0.3,
             "#f1b6da"
            ],
            [
             0.4,
             "#fde0ef"
            ],
            [
             0.5,
             "#f7f7f7"
            ],
            [
             0.6,
             "#e6f5d0"
            ],
            [
             0.7,
             "#b8e186"
            ],
            [
             0.8,
             "#7fbc41"
            ],
            [
             0.9,
             "#4d9221"
            ],
            [
             1,
             "#276419"
            ]
           ],
           "sequential": [
            [
             0,
             "#0d0887"
            ],
            [
             0.1111111111111111,
             "#46039f"
            ],
            [
             0.2222222222222222,
             "#7201a8"
            ],
            [
             0.3333333333333333,
             "#9c179e"
            ],
            [
             0.4444444444444444,
             "#bd3786"
            ],
            [
             0.5555555555555556,
             "#d8576b"
            ],
            [
             0.6666666666666666,
             "#ed7953"
            ],
            [
             0.7777777777777778,
             "#fb9f3a"
            ],
            [
             0.8888888888888888,
             "#fdca26"
            ],
            [
             1,
             "#f0f921"
            ]
           ],
           "sequentialminus": [
            [
             0,
             "#0d0887"
            ],
            [
             0.1111111111111111,
             "#46039f"
            ],
            [
             0.2222222222222222,
             "#7201a8"
            ],
            [
             0.3333333333333333,
             "#9c179e"
            ],
            [
             0.4444444444444444,
             "#bd3786"
            ],
            [
             0.5555555555555556,
             "#d8576b"
            ],
            [
             0.6666666666666666,
             "#ed7953"
            ],
            [
             0.7777777777777778,
             "#fb9f3a"
            ],
            [
             0.8888888888888888,
             "#fdca26"
            ],
            [
             1,
             "#f0f921"
            ]
           ]
          },
          "colorway": [
           "#636efa",
           "#EF553B",
           "#00cc96",
           "#ab63fa",
           "#FFA15A",
           "#19d3f3",
           "#FF6692",
           "#B6E880",
           "#FF97FF",
           "#FECB52"
          ],
          "font": {
           "color": "#2a3f5f"
          },
          "geo": {
           "bgcolor": "white",
           "lakecolor": "white",
           "landcolor": "#E5ECF6",
           "showlakes": true,
           "showland": true,
           "subunitcolor": "white"
          },
          "hoverlabel": {
           "align": "left"
          },
          "hovermode": "closest",
          "mapbox": {
           "style": "light"
          },
          "paper_bgcolor": "white",
          "plot_bgcolor": "#E5ECF6",
          "polar": {
           "angularaxis": {
            "gridcolor": "white",
            "linecolor": "white",
            "ticks": ""
           },
           "bgcolor": "#E5ECF6",
           "radialaxis": {
            "gridcolor": "white",
            "linecolor": "white",
            "ticks": ""
           }
          },
          "scene": {
           "xaxis": {
            "backgroundcolor": "#E5ECF6",
            "gridcolor": "white",
            "gridwidth": 2,
            "linecolor": "white",
            "showbackground": true,
            "ticks": "",
            "zerolinecolor": "white"
           },
           "yaxis": {
            "backgroundcolor": "#E5ECF6",
            "gridcolor": "white",
            "gridwidth": 2,
            "linecolor": "white",
            "showbackground": true,
            "ticks": "",
            "zerolinecolor": "white"
           },
           "zaxis": {
            "backgroundcolor": "#E5ECF6",
            "gridcolor": "white",
            "gridwidth": 2,
            "linecolor": "white",
            "showbackground": true,
            "ticks": "",
            "zerolinecolor": "white"
           }
          },
          "shapedefaults": {
           "line": {
            "color": "#2a3f5f"
           }
          },
          "ternary": {
           "aaxis": {
            "gridcolor": "white",
            "linecolor": "white",
            "ticks": ""
           },
           "baxis": {
            "gridcolor": "white",
            "linecolor": "white",
            "ticks": ""
           },
           "bgcolor": "#E5ECF6",
           "caxis": {
            "gridcolor": "white",
            "linecolor": "white",
            "ticks": ""
           }
          },
          "title": {
           "x": 0.05
          },
          "xaxis": {
           "automargin": true,
           "gridcolor": "white",
           "linecolor": "white",
           "ticks": "",
           "title": {
            "standoff": 15
           },
           "zerolinecolor": "white",
           "zerolinewidth": 2
          },
          "yaxis": {
           "automargin": true,
           "gridcolor": "white",
           "linecolor": "white",
           "ticks": "",
           "title": {
            "standoff": 15
           },
           "zerolinecolor": "white",
           "zerolinewidth": 2
          }
         }
        },
        "title": {
         "text": "Milk Production and Utilisation"
        }
       }
      },
      "text/html": [
       "<div>                            <div id=\"8d25251e-0941-42c8-9bb3-4de14c6d3096\" class=\"plotly-graph-div\" style=\"height:525px; width:100%;\"></div>            <script type=\"text/javascript\">                require([\"plotly\"], function(Plotly) {                    window.PLOTLYENV=window.PLOTLYENV || {};                                    if (document.getElementById(\"8d25251e-0941-42c8-9bb3-4de14c6d3096\")) {                    Plotly.newPlot(                        \"8d25251e-0941-42c8-9bb3-4de14c6d3096\",                        [{\"coloraxis\":\"coloraxis\",\"geo\":\"geo\",\"hovertemplate\":\"<b>%{hovertext}</b><br><br>Code=%{location}<br>Amount=%{z}<extra></extra>\",\"hovertext\":[\"Belgium\",\"Bulgaria\",\"Czechia\",\"Denmark\",\"Germany\",\"Estonia\",\"Ireland\",\"Greece\",\"Spain\",\"France\",\"Croatia\",\"Italy\",\"Cyprus\",\"Latvia\",\"Lithuania\",\"Luxembourg\",\"Hungary\",\"Malta\",\"Netherlands\",\"Austria\",\"Poland\",\"Portugal\",\"Romania\",\"Slovenia\",\"Slovakia\",\"Finland\",\"Sweden\",\"Belgium\",\"Bulgaria\",\"Czechia\",\"Denmark\",\"Germany\",\"Estonia\",\"Ireland\",\"Greece\",\"Spain\",\"France\",\"Croatia\",\"Italy\",\"Cyprus\",\"Latvia\",\"Lithuania\",\"Luxembourg\",\"Hungary\",\"Malta\",\"Netherlands\",\"Austria\",\"Poland\",\"Portugal\",\"Romania\",\"Slovenia\",\"Slovakia\",\"Finland\",\"Sweden\",\"Belgium\",\"Bulgaria\",\"Czechia\",\"Denmark\",\"Germany\",\"Estonia\",\"Ireland\",\"Greece\",\"Spain\",\"France\",\"Croatia\",\"Italy\",\"Cyprus\",\"Latvia\",\"Lithuania\",\"Luxembourg\",\"Hungary\",\"Malta\",\"Netherlands\",\"Austria\",\"Poland\",\"Portugal\",\"Romania\",\"Slovenia\",\"Slovakia\",\"Finland\",\"Sweden\",\"Belgium\",\"Bulgaria\",\"Czechia\",\"Denmark\",\"Germany\",\"Estonia\",\"Ireland\",\"Greece\",\"Spain\",\"France\",\"Croatia\",\"Italy\",\"Cyprus\",\"Latvia\",\"Lithuania\",\"Luxembourg\",\"Hungary\",\"Malta\",\"Netherlands\",\"Austria\",\"Poland\",\"Portugal\",\"Romania\",\"Slovenia\",\"Slovakia\",\"Finland\",\"Sweden\",\"Belgium\",\"Bulgaria\",\"Czechia\",\"Denmark\",\"Germany\",\"Estonia\",\"Ireland\",\"Greece\",\"Spain\",\"France\",\"Croatia\",\"Italy\",\"Cyprus\",\"Latvia\",\"Lithuania\",\"Luxembourg\",\"Hungary\",\"Malta\",\"Netherlands\",\"Austria\",\"Poland\",\"Portugal\",\"Romania\",\"Slovenia\",\"Slovakia\",\"Finland\",\"Sweden\",\"Belgium\",\"Bulgaria\",\"Czechia\",\"Denmark\",\"Germany\",\"Estonia\",\"Ireland\",\"Greece\",\"Spain\",\"France\",\"Croatia\",\"Italy\",\"Cyprus\",\"Latvia\",\"Lithuania\",\"Luxembourg\",\"Hungary\",\"Malta\",\"Netherlands\",\"Austria\",\"Poland\",\"Portugal\",\"Romania\",\"Slovenia\",\"Slovakia\",\"Finland\",\"Sweden\",\"Belgium\",\"Bulgaria\",\"Czechia\",\"Denmark\",\"Germany\",\"Estonia\",\"Ireland\",\"Greece\",\"Spain\",\"France\",\"Croatia\",\"Italy\",\"Cyprus\",\"Latvia\",\"Lithuania\",\"Luxembourg\",\"Hungary\",\"Malta\",\"Netherlands\",\"Austria\",\"Poland\",\"Portugal\",\"Romania\",\"Slovenia\",\"Slovakia\",\"Finland\",\"Sweden\",\"Belgium\",\"Bulgaria\",\"Czechia\",\"Denmark\",\"Germany\",\"Estonia\",\"Ireland\",\"Greece\",\"Spain\",\"France\",\"Croatia\",\"Italy\",\"Cyprus\",\"Latvia\",\"Lithuania\",\"Luxembourg\",\"Hungary\",\"Malta\",\"Netherlands\",\"Austria\",\"Poland\",\"Portugal\",\"Romania\",\"Slovenia\",\"Slovakia\",\"Finland\",\"Sweden\",\"Belgium\",\"Bulgaria\",\"Czechia\",\"Denmark\",\"Germany\",\"Estonia\",\"Ireland\",\"Greece\",\"Spain\",\"France\",\"Croatia\",\"Italy\",\"Cyprus\",\"Latvia\",\"Lithuania\",\"Luxembourg\",\"Hungary\",\"Malta\",\"Netherlands\",\"Austria\",\"Poland\",\"Portugal\",\"Romania\",\"Slovenia\",\"Slovakia\",\"Finland\",\"Sweden\",\"Belgium\",\"Bulgaria\",\"Czechia\",\"Denmark\",\"Germany\",\"Estonia\",\"Ireland\",\"Greece\",\"Spain\",\"France\",\"Croatia\",\"Italy\",\"Cyprus\",\"Latvia\",\"Lithuania\",\"Luxembourg\",\"Hungary\",\"Malta\",\"Netherlands\",\"Austria\",\"Poland\",\"Portugal\",\"Romania\",\"Slovenia\",\"Slovakia\",\"Finland\",\"Sweden\",\"Belgium\",\"Bulgaria\",\"Czechia\",\"Denmark\",\"Germany\",\"Estonia\",\"Ireland\",\"Greece\",\"Spain\",\"France\",\"Croatia\",\"Italy\",\"Cyprus\",\"Latvia\",\"Lithuania\",\"Luxembourg\",\"Hungary\",\"Malta\",\"Netherlands\",\"Austria\",\"Poland\",\"Portugal\",\"Romania\",\"Slovenia\",\"Slovakia\",\"Finland\",\"Sweden\"],\"locations\":[\"BEL\",\"BGR\",\"CZE\",\"DNK\",\"DEU\",\"EST\",\"IRL\",\"GRC\",\"ESP\",\"FRA\",\"HRV\",\"ITA\",\"CYP\",\"LVA\",\"LTU\",\"LUX\",\"HUN\",\"MLT\",\"NLD\",\"AUT\",\"POL\",\"PRT\",\"ROU\",\"SVN\",\"SVK\",\"FIN\",\"SWE\",\"BEL\",\"BGR\",\"CZE\",\"DNK\",\"DEU\",\"EST\",\"IRL\",\"GRC\",\"ESP\",\"FRA\",\"HRV\",\"ITA\",\"CYP\",\"LVA\",\"LTU\",\"LUX\",\"HUN\",\"MLT\",\"NLD\",\"AUT\",\"POL\",\"PRT\",\"ROU\",\"SVN\",\"SVK\",\"FIN\",\"SWE\",\"BEL\",\"BGR\",\"CZE\",\"DNK\",\"DEU\",\"EST\",\"IRL\",\"GRC\",\"ESP\",\"FRA\",\"HRV\",\"ITA\",\"CYP\",\"LVA\",\"LTU\",\"LUX\",\"HUN\",\"MLT\",\"NLD\",\"AUT\",\"POL\",\"PRT\",\"ROU\",\"SVN\",\"SVK\",\"FIN\",\"SWE\",\"BEL\",\"BGR\",\"CZE\",\"DNK\",\"DEU\",\"EST\",\"IRL\",\"GRC\",\"ESP\",\"FRA\",\"HRV\",\"ITA\",\"CYP\",\"LVA\",\"LTU\",\"LUX\",\"HUN\",\"MLT\",\"NLD\",\"AUT\",\"POL\",\"PRT\",\"ROU\",\"SVN\",\"SVK\",\"FIN\",\"SWE\",\"BEL\",\"BGR\",\"CZE\",\"DNK\",\"DEU\",\"EST\",\"IRL\",\"GRC\",\"ESP\",\"FRA\",\"HRV\",\"ITA\",\"CYP\",\"LVA\",\"LTU\",\"LUX\",\"HUN\",\"MLT\",\"NLD\",\"AUT\",\"POL\",\"PRT\",\"ROU\",\"SVN\",\"SVK\",\"FIN\",\"SWE\",\"BEL\",\"BGR\",\"CZE\",\"DNK\",\"DEU\",\"EST\",\"IRL\",\"GRC\",\"ESP\",\"FRA\",\"HRV\",\"ITA\",\"CYP\",\"LVA\",\"LTU\",\"LUX\",\"HUN\",\"MLT\",\"NLD\",\"AUT\",\"POL\",\"PRT\",\"ROU\",\"SVN\",\"SVK\",\"FIN\",\"SWE\",\"BEL\",\"BGR\",\"CZE\",\"DNK\",\"DEU\",\"EST\",\"IRL\",\"GRC\",\"ESP\",\"FRA\",\"HRV\",\"ITA\",\"CYP\",\"LVA\",\"LTU\",\"LUX\",\"HUN\",\"MLT\",\"NLD\",\"AUT\",\"POL\",\"PRT\",\"ROU\",\"SVN\",\"SVK\",\"FIN\",\"SWE\",\"BEL\",\"BGR\",\"CZE\",\"DNK\",\"DEU\",\"EST\",\"IRL\",\"GRC\",\"ESP\",\"FRA\",\"HRV\",\"ITA\",\"CYP\",\"LVA\",\"LTU\",\"LUX\",\"HUN\",\"MLT\",\"NLD\",\"AUT\",\"POL\",\"PRT\",\"ROU\",\"SVN\",\"SVK\",\"FIN\",\"SWE\",\"BEL\",\"BGR\",\"CZE\",\"DNK\",\"DEU\",\"EST\",\"IRL\",\"GRC\",\"ESP\",\"FRA\",\"HRV\",\"ITA\",\"CYP\",\"LVA\",\"LTU\",\"LUX\",\"HUN\",\"MLT\",\"NLD\",\"AUT\",\"POL\",\"PRT\",\"ROU\",\"SVN\",\"SVK\",\"FIN\",\"SWE\",\"BEL\",\"BGR\",\"CZE\",\"DNK\",\"DEU\",\"EST\",\"IRL\",\"GRC\",\"ESP\",\"FRA\",\"HRV\",\"ITA\",\"CYP\",\"LVA\",\"LTU\",\"LUX\",\"HUN\",\"MLT\",\"NLD\",\"AUT\",\"POL\",\"PRT\",\"ROU\",\"SVN\",\"SVK\",\"FIN\",\"SWE\",\"BEL\",\"BGR\",\"CZE\",\"DNK\",\"DEU\",\"EST\",\"IRL\",\"GRC\",\"ESP\",\"FRA\",\"HRV\",\"ITA\",\"CYP\",\"LVA\",\"LTU\",\"LUX\",\"HUN\",\"MLT\",\"NLD\",\"AUT\",\"POL\",\"PRT\",\"ROU\",\"SVN\",\"SVK\",\"FIN\",\"SWE\"],\"name\":\"\",\"z\":[3151.0,1126.0,2735.93,4879.5,30301.36,692.4,5556.2,757.0,6487.68,25091.93,804.0,11298.61,156.02,841.7,1782.32,292.25,1712.48,33.89,11850.72,3307.13,12414.0,1918.52,4075.0,601.59,928.32,2300.73,2850.4,3116.0,1093.0,2814.68,5006.4,30672.15,720.7,5399.3,765.5,6502.41,24718.38,810.0,11500.0,153.74,870.6,1774.53,289.4,1812.85,33.89,11880.95,3382.1,12668.0,1938.13,3881.0,620.94,932.71,2296.68,2861.17,3529.0,1149.0,2849.43,5081.8,31324.24,771.6,5600.7,730.6,6559.18,24459.76,717.0,11281.26,163.27,912.0,1719.51,295.86,1772.76,40.92,12407.69,3393.06,12718.0,1847.98,3966.0,595.5,911.96,2327.8,2869.58,3710.0,1103.0,2933.46,5162.0,32381.06,804.8,5821.3,769.0,6779.75,25728.32,712.0,11500.0,164.64,968.9,1791.13,317.05,1875.72,42.77,12660.35,3493.86,12986.0,1942.78,4101.0,616.58,930.71,2400.01,2931.65,3826.0,1028.04,3025.88,5335.7,32670.88,782.7,6604.41,770.0,7029.48,25820.27,694.0,11425.94,165.3,975.4,1734.73,346.25,1941.33,41.57,13522.12,3537.76,13236.23,2013.78,3981.0,631.67,930.98,2436.76,2933.16,3933.0,1018.58,3064.73,5435.7,32672.34,782.7,6871.94,706.0,7123.77,25138.93,671.0,11886.04,186.02,983.5,1623.87,376.22,1918.23,43.13,14531.0,3627.61,13244.17,1922.97,3934.0,649.68,905.26,2429.59,2862.23,4060.0,968.18,3079.21,5502.2,32598.2,790.0,7498.94,670.0,7229.35,25055.2,648.0,12198.88,216.39,998.0,1566.65,387.18,1967.5,41.03,14501.0,3712.73,13694.47,1921.21,3797.7,647.99,911.73,2405.76,2816.66,4195.0,898.77,3161.51,5615.2,33086.81,796.9,7831.25,654.8,7335.62,25055.1,618.0,12339.75,228.08,980.2,1568.01,407.62,1948.83,40.41,14090.0,3821.19,14171.15,1939.67,3797.6,628.93,904.62,2397.88,2760.23,4293.0,822.3,3155.79,5615.0,33080.18,820.8,8244.87,659.38,7460.36,25062.0,599.0,12494.4,238.76,978.9,1547.43,421.26,1962.78,41.27,14555.0,3781.34,14502.76,1975.49,3663.2,623.02,904.26,2374.36,2704.39,4449.0,881.76,3267.73,5666.0,33164.91,848.3,8561.47,683.46,7606.07,25234.84,596.0,12712.48,275.16,988.2,1488.0,447.34,2014.33,42.11,14522.0,3815.47,14821.82,1993.61,3679.6,630.65,917.69,2406.52,2772.74,4434.0,835.78,3309.91,5644.0,32506.91,838.7,9039.99,710.93,7623.09,24778.84,558.0,13202.45,298.14,990.31,1473.28,443.28,2080.23,39.54,14217.25,3830.14,14881.11,1995.55,3637.0,639.93,902.64,2161.46,2782.22],\"type\":\"choropleth\"}],                        {\"template\":{\"data\":{\"bar\":[{\"error_x\":{\"color\":\"#2a3f5f\"},\"error_y\":{\"color\":\"#2a3f5f\"},\"marker\":{\"line\":{\"color\":\"#E5ECF6\",\"width\":0.5},\"pattern\":{\"fillmode\":\"overlay\",\"size\":10,\"solidity\":0.2}},\"type\":\"bar\"}],\"barpolar\":[{\"marker\":{\"line\":{\"color\":\"#E5ECF6\",\"width\":0.5},\"pattern\":{\"fillmode\":\"overlay\",\"size\":10,\"solidity\":0.2}},\"type\":\"barpolar\"}],\"carpet\":[{\"aaxis\":{\"endlinecolor\":\"#2a3f5f\",\"gridcolor\":\"white\",\"linecolor\":\"white\",\"minorgridcolor\":\"white\",\"startlinecolor\":\"#2a3f5f\"},\"baxis\":{\"endlinecolor\":\"#2a3f5f\",\"gridcolor\":\"white\",\"linecolor\":\"white\",\"minorgridcolor\":\"white\",\"startlinecolor\":\"#2a3f5f\"},\"type\":\"carpet\"}],\"choropleth\":[{\"colorbar\":{\"outlinewidth\":0,\"ticks\":\"\"},\"type\":\"choropleth\"}],\"contour\":[{\"colorbar\":{\"outlinewidth\":0,\"ticks\":\"\"},\"colorscale\":[[0.0,\"#0d0887\"],[0.1111111111111111,\"#46039f\"],[0.2222222222222222,\"#7201a8\"],[0.3333333333333333,\"#9c179e\"],[0.4444444444444444,\"#bd3786\"],[0.5555555555555556,\"#d8576b\"],[0.6666666666666666,\"#ed7953\"],[0.7777777777777778,\"#fb9f3a\"],[0.8888888888888888,\"#fdca26\"],[1.0,\"#f0f921\"]],\"type\":\"contour\"}],\"contourcarpet\":[{\"colorbar\":{\"outlinewidth\":0,\"ticks\":\"\"},\"type\":\"contourcarpet\"}],\"heatmap\":[{\"colorbar\":{\"outlinewidth\":0,\"ticks\":\"\"},\"colorscale\":[[0.0,\"#0d0887\"],[0.1111111111111111,\"#46039f\"],[0.2222222222222222,\"#7201a8\"],[0.3333333333333333,\"#9c179e\"],[0.4444444444444444,\"#bd3786\"],[0.5555555555555556,\"#d8576b\"],[0.6666666666666666,\"#ed7953\"],[0.7777777777777778,\"#fb9f3a\"],[0.8888888888888888,\"#fdca26\"],[1.0,\"#f0f921\"]],\"type\":\"heatmap\"}],\"heatmapgl\":[{\"colorbar\":{\"outlinewidth\":0,\"ticks\":\"\"},\"colorscale\":[[0.0,\"#0d0887\"],[0.1111111111111111,\"#46039f\"],[0.2222222222222222,\"#7201a8\"],[0.3333333333333333,\"#9c179e\"],[0.4444444444444444,\"#bd3786\"],[0.5555555555555556,\"#d8576b\"],[0.6666666666666666,\"#ed7953\"],[0.7777777777777778,\"#fb9f3a\"],[0.8888888888888888,\"#fdca26\"],[1.0,\"#f0f921\"]],\"type\":\"heatmapgl\"}],\"histogram\":[{\"marker\":{\"pattern\":{\"fillmode\":\"overlay\",\"size\":10,\"solidity\":0.2}},\"type\":\"histogram\"}],\"histogram2d\":[{\"colorbar\":{\"outlinewidth\":0,\"ticks\":\"\"},\"colorscale\":[[0.0,\"#0d0887\"],[0.1111111111111111,\"#46039f\"],[0.2222222222222222,\"#7201a8\"],[0.3333333333333333,\"#9c179e\"],[0.4444444444444444,\"#bd3786\"],[0.5555555555555556,\"#d8576b\"],[0.6666666666666666,\"#ed7953\"],[0.7777777777777778,\"#fb9f3a\"],[0.8888888888888888,\"#fdca26\"],[1.0,\"#f0f921\"]],\"type\":\"histogram2d\"}],\"histogram2dcontour\":[{\"colorbar\":{\"outlinewidth\":0,\"ticks\":\"\"},\"colorscale\":[[0.0,\"#0d0887\"],[0.1111111111111111,\"#46039f\"],[0.2222222222222222,\"#7201a8\"],[0.3333333333333333,\"#9c179e\"],[0.4444444444444444,\"#bd3786\"],[0.5555555555555556,\"#d8576b\"],[0.6666666666666666,\"#ed7953\"],[0.7777777777777778,\"#fb9f3a\"],[0.8888888888888888,\"#fdca26\"],[1.0,\"#f0f921\"]],\"type\":\"histogram2dcontour\"}],\"mesh3d\":[{\"colorbar\":{\"outlinewidth\":0,\"ticks\":\"\"},\"type\":\"mesh3d\"}],\"parcoords\":[{\"line\":{\"colorbar\":{\"outlinewidth\":0,\"ticks\":\"\"}},\"type\":\"parcoords\"}],\"pie\":[{\"automargin\":true,\"type\":\"pie\"}],\"scatter\":[{\"marker\":{\"colorbar\":{\"outlinewidth\":0,\"ticks\":\"\"}},\"type\":\"scatter\"}],\"scatter3d\":[{\"line\":{\"colorbar\":{\"outlinewidth\":0,\"ticks\":\"\"}},\"marker\":{\"colorbar\":{\"outlinewidth\":0,\"ticks\":\"\"}},\"type\":\"scatter3d\"}],\"scattercarpet\":[{\"marker\":{\"colorbar\":{\"outlinewidth\":0,\"ticks\":\"\"}},\"type\":\"scattercarpet\"}],\"scattergeo\":[{\"marker\":{\"colorbar\":{\"outlinewidth\":0,\"ticks\":\"\"}},\"type\":\"scattergeo\"}],\"scattergl\":[{\"marker\":{\"colorbar\":{\"outlinewidth\":0,\"ticks\":\"\"}},\"type\":\"scattergl\"}],\"scattermapbox\":[{\"marker\":{\"colorbar\":{\"outlinewidth\":0,\"ticks\":\"\"}},\"type\":\"scattermapbox\"}],\"scatterpolar\":[{\"marker\":{\"colorbar\":{\"outlinewidth\":0,\"ticks\":\"\"}},\"type\":\"scatterpolar\"}],\"scatterpolargl\":[{\"marker\":{\"colorbar\":{\"outlinewidth\":0,\"ticks\":\"\"}},\"type\":\"scatterpolargl\"}],\"scatterternary\":[{\"marker\":{\"colorbar\":{\"outlinewidth\":0,\"ticks\":\"\"}},\"type\":\"scatterternary\"}],\"surface\":[{\"colorbar\":{\"outlinewidth\":0,\"ticks\":\"\"},\"colorscale\":[[0.0,\"#0d0887\"],[0.1111111111111111,\"#46039f\"],[0.2222222222222222,\"#7201a8\"],[0.3333333333333333,\"#9c179e\"],[0.4444444444444444,\"#bd3786\"],[0.5555555555555556,\"#d8576b\"],[0.6666666666666666,\"#ed7953\"],[0.7777777777777778,\"#fb9f3a\"],[0.8888888888888888,\"#fdca26\"],[1.0,\"#f0f921\"]],\"type\":\"surface\"}],\"table\":[{\"cells\":{\"fill\":{\"color\":\"#EBF0F8\"},\"line\":{\"color\":\"white\"}},\"header\":{\"fill\":{\"color\":\"#C8D4E3\"},\"line\":{\"color\":\"white\"}},\"type\":\"table\"}]},\"layout\":{\"annotationdefaults\":{\"arrowcolor\":\"#2a3f5f\",\"arrowhead\":0,\"arrowwidth\":1},\"autotypenumbers\":\"strict\",\"coloraxis\":{\"colorbar\":{\"outlinewidth\":0,\"ticks\":\"\"}},\"colorscale\":{\"diverging\":[[0,\"#8e0152\"],[0.1,\"#c51b7d\"],[0.2,\"#de77ae\"],[0.3,\"#f1b6da\"],[0.4,\"#fde0ef\"],[0.5,\"#f7f7f7\"],[0.6,\"#e6f5d0\"],[0.7,\"#b8e186\"],[0.8,\"#7fbc41\"],[0.9,\"#4d9221\"],[1,\"#276419\"]],\"sequential\":[[0.0,\"#0d0887\"],[0.1111111111111111,\"#46039f\"],[0.2222222222222222,\"#7201a8\"],[0.3333333333333333,\"#9c179e\"],[0.4444444444444444,\"#bd3786\"],[0.5555555555555556,\"#d8576b\"],[0.6666666666666666,\"#ed7953\"],[0.7777777777777778,\"#fb9f3a\"],[0.8888888888888888,\"#fdca26\"],[1.0,\"#f0f921\"]],\"sequentialminus\":[[0.0,\"#0d0887\"],[0.1111111111111111,\"#46039f\"],[0.2222222222222222,\"#7201a8\"],[0.3333333333333333,\"#9c179e\"],[0.4444444444444444,\"#bd3786\"],[0.5555555555555556,\"#d8576b\"],[0.6666666666666666,\"#ed7953\"],[0.7777777777777778,\"#fb9f3a\"],[0.8888888888888888,\"#fdca26\"],[1.0,\"#f0f921\"]]},\"colorway\":[\"#636efa\",\"#EF553B\",\"#00cc96\",\"#ab63fa\",\"#FFA15A\",\"#19d3f3\",\"#FF6692\",\"#B6E880\",\"#FF97FF\",\"#FECB52\"],\"font\":{\"color\":\"#2a3f5f\"},\"geo\":{\"bgcolor\":\"white\",\"lakecolor\":\"white\",\"landcolor\":\"#E5ECF6\",\"showlakes\":true,\"showland\":true,\"subunitcolor\":\"white\"},\"hoverlabel\":{\"align\":\"left\"},\"hovermode\":\"closest\",\"mapbox\":{\"style\":\"light\"},\"paper_bgcolor\":\"white\",\"plot_bgcolor\":\"#E5ECF6\",\"polar\":{\"angularaxis\":{\"gridcolor\":\"white\",\"linecolor\":\"white\",\"ticks\":\"\"},\"bgcolor\":\"#E5ECF6\",\"radialaxis\":{\"gridcolor\":\"white\",\"linecolor\":\"white\",\"ticks\":\"\"}},\"scene\":{\"xaxis\":{\"backgroundcolor\":\"#E5ECF6\",\"gridcolor\":\"white\",\"gridwidth\":2,\"linecolor\":\"white\",\"showbackground\":true,\"ticks\":\"\",\"zerolinecolor\":\"white\"},\"yaxis\":{\"backgroundcolor\":\"#E5ECF6\",\"gridcolor\":\"white\",\"gridwidth\":2,\"linecolor\":\"white\",\"showbackground\":true,\"ticks\":\"\",\"zerolinecolor\":\"white\"},\"zaxis\":{\"backgroundcolor\":\"#E5ECF6\",\"gridcolor\":\"white\",\"gridwidth\":2,\"linecolor\":\"white\",\"showbackground\":true,\"ticks\":\"\",\"zerolinecolor\":\"white\"}},\"shapedefaults\":{\"line\":{\"color\":\"#2a3f5f\"}},\"ternary\":{\"aaxis\":{\"gridcolor\":\"white\",\"linecolor\":\"white\",\"ticks\":\"\"},\"baxis\":{\"gridcolor\":\"white\",\"linecolor\":\"white\",\"ticks\":\"\"},\"bgcolor\":\"#E5ECF6\",\"caxis\":{\"gridcolor\":\"white\",\"linecolor\":\"white\",\"ticks\":\"\"}},\"title\":{\"x\":0.05},\"xaxis\":{\"automargin\":true,\"gridcolor\":\"white\",\"linecolor\":\"white\",\"ticks\":\"\",\"title\":{\"standoff\":15},\"zerolinecolor\":\"white\",\"zerolinewidth\":2},\"yaxis\":{\"automargin\":true,\"gridcolor\":\"white\",\"linecolor\":\"white\",\"ticks\":\"\",\"title\":{\"standoff\":15},\"zerolinecolor\":\"white\",\"zerolinewidth\":2}}},\"geo\":{\"domain\":{\"x\":[0.0,1.0],\"y\":[0.0,1.0]},\"center\":{},\"scope\":\"europe\"},\"coloraxis\":{\"colorbar\":{\"title\":{\"text\":\"Amount\"}},\"colorscale\":[[0.0,\"#0d0887\"],[0.1111111111111111,\"#46039f\"],[0.2222222222222222,\"#7201a8\"],[0.3333333333333333,\"#9c179e\"],[0.4444444444444444,\"#bd3786\"],[0.5555555555555556,\"#d8576b\"],[0.6666666666666666,\"#ed7953\"],[0.7777777777777778,\"#fb9f3a\"],[0.8888888888888888,\"#fdca26\"],[1.0,\"#f0f921\"]]},\"legend\":{\"tracegroupgap\":0},\"margin\":{\"t\":60},\"title\":{\"text\":\"Milk Production and Utilisation\"}},                        {\"responsive\": true}                    ).then(function(){\n",
       "                            \n",
       "var gd = document.getElementById('8d25251e-0941-42c8-9bb3-4de14c6d3096');\n",
       "var x = new MutationObserver(function (mutations, observer) {{\n",
       "        var display = window.getComputedStyle(gd).display;\n",
       "        if (!display || display === 'none') {{\n",
       "            console.log([gd, 'removed!']);\n",
       "            Plotly.purge(gd);\n",
       "            observer.disconnect();\n",
       "        }}\n",
       "}});\n",
       "\n",
       "// Listen for the removal of the full notebook cells\n",
       "var notebookContainer = gd.closest('#notebook-container');\n",
       "if (notebookContainer) {{\n",
       "    x.observe(notebookContainer, {childList: true});\n",
       "}}\n",
       "\n",
       "// Listen for the clearing of the current output cell\n",
       "var outputEl = gd.closest('.output');\n",
       "if (outputEl) {{\n",
       "    x.observe(outputEl, {childList: true});\n",
       "}}\n",
       "\n",
       "                        })                };                });            </script>        </div>"
      ]
     },
     "metadata": {},
     "output_type": "display_data"
    }
   ],
   "source": [
    "fig = px.choropleth(Milk_Production_EU,\n",
    "                    locations=\"Code\",\n",
    "                    color=\"Amount\", \n",
    "                    # column by which to color-code\n",
    "                    hover_name=\"Country\", \n",
    "                    # column to display in hover information\n",
    "                    color_continuous_scale=px.colors.sequential.Plasma)\n",
    "fig.update_layout(\n",
    "    # add a title text for the plot\n",
    "    title_text = 'Milk Production and Utilisation in EU',\n",
    "    geo_scope = 'europe' \n",
    ")\n",
    "fig.show()\n"
   ]
  },
  {
   "cell_type": "code",
   "execution_count": 45,
   "id": "64b137f8",
   "metadata": {
    "scrolled": true
   },
   "outputs": [
    {
     "data": {
      "application/vnd.plotly.v1+json": {
       "config": {
        "plotlyServerURL": "https://plot.ly"
       },
       "data": [
        {
         "coloraxis": "coloraxis",
         "geo": "geo",
         "hovertemplate": "<b>%{hovertext}</b><br><br>Year=2011<br>Code=%{location}<br>Amount=%{z}<extra></extra>",
         "hovertext": [
          "Belgium",
          "Bulgaria",
          "Czechia",
          "Denmark",
          "Germany",
          "Estonia",
          "Ireland",
          "Greece",
          "Spain",
          "France",
          "Croatia",
          "Italy",
          "Cyprus",
          "Latvia",
          "Lithuania",
          "Luxembourg",
          "Hungary",
          "Malta",
          "Netherlands",
          "Austria",
          "Poland",
          "Portugal",
          "Romania",
          "Slovenia",
          "Slovakia",
          "Finland",
          "Sweden"
         ],
         "locations": [
          "BEL",
          "BGR",
          "CZE",
          "DNK",
          "DEU",
          "EST",
          "IRL",
          "GRC",
          "ESP",
          "FRA",
          "HRV",
          "ITA",
          "CYP",
          "LVA",
          "LTU",
          "LUX",
          "HUN",
          "MLT",
          "NLD",
          "AUT",
          "POL",
          "PRT",
          "ROU",
          "SVN",
          "SVK",
          "FIN",
          "SWE"
         ],
         "name": "",
         "type": "choropleth",
         "z": [
          3151,
          1126,
          2735.93,
          4879.5,
          30301.36,
          692.4,
          5556.2,
          757,
          6487.68,
          25091.93,
          804,
          11298.61,
          156.02,
          841.7,
          1782.32,
          292.25,
          1712.48,
          33.89,
          11850.72,
          3307.13,
          12414,
          1918.52,
          4075,
          601.59,
          928.32,
          2300.73,
          2850.4
         ]
        }
       ],
       "frames": [
        {
         "data": [
          {
           "coloraxis": "coloraxis",
           "geo": "geo",
           "hovertemplate": "<b>%{hovertext}</b><br><br>Year=2011<br>Code=%{location}<br>Amount=%{z}<extra></extra>",
           "hovertext": [
            "Belgium",
            "Bulgaria",
            "Czechia",
            "Denmark",
            "Germany",
            "Estonia",
            "Ireland",
            "Greece",
            "Spain",
            "France",
            "Croatia",
            "Italy",
            "Cyprus",
            "Latvia",
            "Lithuania",
            "Luxembourg",
            "Hungary",
            "Malta",
            "Netherlands",
            "Austria",
            "Poland",
            "Portugal",
            "Romania",
            "Slovenia",
            "Slovakia",
            "Finland",
            "Sweden"
           ],
           "locations": [
            "BEL",
            "BGR",
            "CZE",
            "DNK",
            "DEU",
            "EST",
            "IRL",
            "GRC",
            "ESP",
            "FRA",
            "HRV",
            "ITA",
            "CYP",
            "LVA",
            "LTU",
            "LUX",
            "HUN",
            "MLT",
            "NLD",
            "AUT",
            "POL",
            "PRT",
            "ROU",
            "SVN",
            "SVK",
            "FIN",
            "SWE"
           ],
           "name": "",
           "type": "choropleth",
           "z": [
            3151,
            1126,
            2735.93,
            4879.5,
            30301.36,
            692.4,
            5556.2,
            757,
            6487.68,
            25091.93,
            804,
            11298.61,
            156.02,
            841.7,
            1782.32,
            292.25,
            1712.48,
            33.89,
            11850.72,
            3307.13,
            12414,
            1918.52,
            4075,
            601.59,
            928.32,
            2300.73,
            2850.4
           ]
          }
         ],
         "name": "2011"
        },
        {
         "data": [
          {
           "coloraxis": "coloraxis",
           "geo": "geo",
           "hovertemplate": "<b>%{hovertext}</b><br><br>Year=2012<br>Code=%{location}<br>Amount=%{z}<extra></extra>",
           "hovertext": [
            "Belgium",
            "Bulgaria",
            "Czechia",
            "Denmark",
            "Germany",
            "Estonia",
            "Ireland",
            "Greece",
            "Spain",
            "France",
            "Croatia",
            "Italy",
            "Cyprus",
            "Latvia",
            "Lithuania",
            "Luxembourg",
            "Hungary",
            "Malta",
            "Netherlands",
            "Austria",
            "Poland",
            "Portugal",
            "Romania",
            "Slovenia",
            "Slovakia",
            "Finland",
            "Sweden"
           ],
           "locations": [
            "BEL",
            "BGR",
            "CZE",
            "DNK",
            "DEU",
            "EST",
            "IRL",
            "GRC",
            "ESP",
            "FRA",
            "HRV",
            "ITA",
            "CYP",
            "LVA",
            "LTU",
            "LUX",
            "HUN",
            "MLT",
            "NLD",
            "AUT",
            "POL",
            "PRT",
            "ROU",
            "SVN",
            "SVK",
            "FIN",
            "SWE"
           ],
           "name": "",
           "type": "choropleth",
           "z": [
            3116,
            1093,
            2814.68,
            5006.4,
            30672.15,
            720.7,
            5399.3,
            765.5,
            6502.41,
            24718.38,
            810,
            11500,
            153.74,
            870.6,
            1774.53,
            289.4,
            1812.85,
            33.89,
            11880.95,
            3382.1,
            12668,
            1938.13,
            3881,
            620.94,
            932.71,
            2296.68,
            2861.17
           ]
          }
         ],
         "name": "2012"
        },
        {
         "data": [
          {
           "coloraxis": "coloraxis",
           "geo": "geo",
           "hovertemplate": "<b>%{hovertext}</b><br><br>Year=2013<br>Code=%{location}<br>Amount=%{z}<extra></extra>",
           "hovertext": [
            "Belgium",
            "Bulgaria",
            "Czechia",
            "Denmark",
            "Germany",
            "Estonia",
            "Ireland",
            "Greece",
            "Spain",
            "France",
            "Croatia",
            "Italy",
            "Cyprus",
            "Latvia",
            "Lithuania",
            "Luxembourg",
            "Hungary",
            "Malta",
            "Netherlands",
            "Austria",
            "Poland",
            "Portugal",
            "Romania",
            "Slovenia",
            "Slovakia",
            "Finland",
            "Sweden"
           ],
           "locations": [
            "BEL",
            "BGR",
            "CZE",
            "DNK",
            "DEU",
            "EST",
            "IRL",
            "GRC",
            "ESP",
            "FRA",
            "HRV",
            "ITA",
            "CYP",
            "LVA",
            "LTU",
            "LUX",
            "HUN",
            "MLT",
            "NLD",
            "AUT",
            "POL",
            "PRT",
            "ROU",
            "SVN",
            "SVK",
            "FIN",
            "SWE"
           ],
           "name": "",
           "type": "choropleth",
           "z": [
            3529,
            1149,
            2849.43,
            5081.8,
            31324.24,
            771.6,
            5600.7,
            730.6,
            6559.18,
            24459.76,
            717,
            11281.26,
            163.27,
            912,
            1719.51,
            295.86,
            1772.76,
            40.92,
            12407.69,
            3393.06,
            12718,
            1847.98,
            3966,
            595.5,
            911.96,
            2327.8,
            2869.58
           ]
          }
         ],
         "name": "2013"
        },
        {
         "data": [
          {
           "coloraxis": "coloraxis",
           "geo": "geo",
           "hovertemplate": "<b>%{hovertext}</b><br><br>Year=2014<br>Code=%{location}<br>Amount=%{z}<extra></extra>",
           "hovertext": [
            "Belgium",
            "Bulgaria",
            "Czechia",
            "Denmark",
            "Germany",
            "Estonia",
            "Ireland",
            "Greece",
            "Spain",
            "France",
            "Croatia",
            "Italy",
            "Cyprus",
            "Latvia",
            "Lithuania",
            "Luxembourg",
            "Hungary",
            "Malta",
            "Netherlands",
            "Austria",
            "Poland",
            "Portugal",
            "Romania",
            "Slovenia",
            "Slovakia",
            "Finland",
            "Sweden"
           ],
           "locations": [
            "BEL",
            "BGR",
            "CZE",
            "DNK",
            "DEU",
            "EST",
            "IRL",
            "GRC",
            "ESP",
            "FRA",
            "HRV",
            "ITA",
            "CYP",
            "LVA",
            "LTU",
            "LUX",
            "HUN",
            "MLT",
            "NLD",
            "AUT",
            "POL",
            "PRT",
            "ROU",
            "SVN",
            "SVK",
            "FIN",
            "SWE"
           ],
           "name": "",
           "type": "choropleth",
           "z": [
            3710,
            1103,
            2933.46,
            5162,
            32381.06,
            804.8,
            5821.3,
            769,
            6779.75,
            25728.32,
            712,
            11500,
            164.64,
            968.9,
            1791.13,
            317.05,
            1875.72,
            42.77,
            12660.35,
            3493.86,
            12986,
            1942.78,
            4101,
            616.58,
            930.71,
            2400.01,
            2931.65
           ]
          }
         ],
         "name": "2014"
        },
        {
         "data": [
          {
           "coloraxis": "coloraxis",
           "geo": "geo",
           "hovertemplate": "<b>%{hovertext}</b><br><br>Year=2015<br>Code=%{location}<br>Amount=%{z}<extra></extra>",
           "hovertext": [
            "Belgium",
            "Bulgaria",
            "Czechia",
            "Denmark",
            "Germany",
            "Estonia",
            "Ireland",
            "Greece",
            "Spain",
            "France",
            "Croatia",
            "Italy",
            "Cyprus",
            "Latvia",
            "Lithuania",
            "Luxembourg",
            "Hungary",
            "Malta",
            "Netherlands",
            "Austria",
            "Poland",
            "Portugal",
            "Romania",
            "Slovenia",
            "Slovakia",
            "Finland",
            "Sweden"
           ],
           "locations": [
            "BEL",
            "BGR",
            "CZE",
            "DNK",
            "DEU",
            "EST",
            "IRL",
            "GRC",
            "ESP",
            "FRA",
            "HRV",
            "ITA",
            "CYP",
            "LVA",
            "LTU",
            "LUX",
            "HUN",
            "MLT",
            "NLD",
            "AUT",
            "POL",
            "PRT",
            "ROU",
            "SVN",
            "SVK",
            "FIN",
            "SWE"
           ],
           "name": "",
           "type": "choropleth",
           "z": [
            3826,
            1028.04,
            3025.88,
            5335.7,
            32670.88,
            782.7,
            6604.41,
            770,
            7029.48,
            25820.27,
            694,
            11425.94,
            165.3,
            975.4,
            1734.73,
            346.25,
            1941.33,
            41.57,
            13522.12,
            3537.76,
            13236.23,
            2013.78,
            3981,
            631.67,
            930.98,
            2436.76,
            2933.16
           ]
          }
         ],
         "name": "2015"
        },
        {
         "data": [
          {
           "coloraxis": "coloraxis",
           "geo": "geo",
           "hovertemplate": "<b>%{hovertext}</b><br><br>Year=2016<br>Code=%{location}<br>Amount=%{z}<extra></extra>",
           "hovertext": [
            "Belgium",
            "Bulgaria",
            "Czechia",
            "Denmark",
            "Germany",
            "Estonia",
            "Ireland",
            "Greece",
            "Spain",
            "France",
            "Croatia",
            "Italy",
            "Cyprus",
            "Latvia",
            "Lithuania",
            "Luxembourg",
            "Hungary",
            "Malta",
            "Netherlands",
            "Austria",
            "Poland",
            "Portugal",
            "Romania",
            "Slovenia",
            "Slovakia",
            "Finland",
            "Sweden"
           ],
           "locations": [
            "BEL",
            "BGR",
            "CZE",
            "DNK",
            "DEU",
            "EST",
            "IRL",
            "GRC",
            "ESP",
            "FRA",
            "HRV",
            "ITA",
            "CYP",
            "LVA",
            "LTU",
            "LUX",
            "HUN",
            "MLT",
            "NLD",
            "AUT",
            "POL",
            "PRT",
            "ROU",
            "SVN",
            "SVK",
            "FIN",
            "SWE"
           ],
           "name": "",
           "type": "choropleth",
           "z": [
            3933,
            1018.58,
            3064.73,
            5435.7,
            32672.34,
            782.7,
            6871.94,
            706,
            7123.77,
            25138.93,
            671,
            11886.04,
            186.02,
            983.5,
            1623.87,
            376.22,
            1918.23,
            43.13,
            14531,
            3627.61,
            13244.17,
            1922.97,
            3934,
            649.68,
            905.26,
            2429.59,
            2862.23
           ]
          }
         ],
         "name": "2016"
        },
        {
         "data": [
          {
           "coloraxis": "coloraxis",
           "geo": "geo",
           "hovertemplate": "<b>%{hovertext}</b><br><br>Year=2017<br>Code=%{location}<br>Amount=%{z}<extra></extra>",
           "hovertext": [
            "Belgium",
            "Bulgaria",
            "Czechia",
            "Denmark",
            "Germany",
            "Estonia",
            "Ireland",
            "Greece",
            "Spain",
            "France",
            "Croatia",
            "Italy",
            "Cyprus",
            "Latvia",
            "Lithuania",
            "Luxembourg",
            "Hungary",
            "Malta",
            "Netherlands",
            "Austria",
            "Poland",
            "Portugal",
            "Romania",
            "Slovenia",
            "Slovakia",
            "Finland",
            "Sweden"
           ],
           "locations": [
            "BEL",
            "BGR",
            "CZE",
            "DNK",
            "DEU",
            "EST",
            "IRL",
            "GRC",
            "ESP",
            "FRA",
            "HRV",
            "ITA",
            "CYP",
            "LVA",
            "LTU",
            "LUX",
            "HUN",
            "MLT",
            "NLD",
            "AUT",
            "POL",
            "PRT",
            "ROU",
            "SVN",
            "SVK",
            "FIN",
            "SWE"
           ],
           "name": "",
           "type": "choropleth",
           "z": [
            4060,
            968.18,
            3079.21,
            5502.2,
            32598.2,
            790,
            7498.94,
            670,
            7229.35,
            25055.2,
            648,
            12198.88,
            216.39,
            998,
            1566.65,
            387.18,
            1967.5,
            41.03,
            14501,
            3712.73,
            13694.47,
            1921.21,
            3797.7,
            647.99,
            911.73,
            2405.76,
            2816.66
           ]
          }
         ],
         "name": "2017"
        },
        {
         "data": [
          {
           "coloraxis": "coloraxis",
           "geo": "geo",
           "hovertemplate": "<b>%{hovertext}</b><br><br>Year=2018<br>Code=%{location}<br>Amount=%{z}<extra></extra>",
           "hovertext": [
            "Belgium",
            "Bulgaria",
            "Czechia",
            "Denmark",
            "Germany",
            "Estonia",
            "Ireland",
            "Greece",
            "Spain",
            "France",
            "Croatia",
            "Italy",
            "Cyprus",
            "Latvia",
            "Lithuania",
            "Luxembourg",
            "Hungary",
            "Malta",
            "Netherlands",
            "Austria",
            "Poland",
            "Portugal",
            "Romania",
            "Slovenia",
            "Slovakia",
            "Finland",
            "Sweden"
           ],
           "locations": [
            "BEL",
            "BGR",
            "CZE",
            "DNK",
            "DEU",
            "EST",
            "IRL",
            "GRC",
            "ESP",
            "FRA",
            "HRV",
            "ITA",
            "CYP",
            "LVA",
            "LTU",
            "LUX",
            "HUN",
            "MLT",
            "NLD",
            "AUT",
            "POL",
            "PRT",
            "ROU",
            "SVN",
            "SVK",
            "FIN",
            "SWE"
           ],
           "name": "",
           "type": "choropleth",
           "z": [
            4195,
            898.77,
            3161.51,
            5615.2,
            33086.81,
            796.9,
            7831.25,
            654.8,
            7335.62,
            25055.1,
            618,
            12339.75,
            228.08,
            980.2,
            1568.01,
            407.62,
            1948.83,
            40.41,
            14090,
            3821.19,
            14171.15,
            1939.67,
            3797.6,
            628.93,
            904.62,
            2397.88,
            2760.23
           ]
          }
         ],
         "name": "2018"
        },
        {
         "data": [
          {
           "coloraxis": "coloraxis",
           "geo": "geo",
           "hovertemplate": "<b>%{hovertext}</b><br><br>Year=2019<br>Code=%{location}<br>Amount=%{z}<extra></extra>",
           "hovertext": [
            "Belgium",
            "Bulgaria",
            "Czechia",
            "Denmark",
            "Germany",
            "Estonia",
            "Ireland",
            "Greece",
            "Spain",
            "France",
            "Croatia",
            "Italy",
            "Cyprus",
            "Latvia",
            "Lithuania",
            "Luxembourg",
            "Hungary",
            "Malta",
            "Netherlands",
            "Austria",
            "Poland",
            "Portugal",
            "Romania",
            "Slovenia",
            "Slovakia",
            "Finland",
            "Sweden"
           ],
           "locations": [
            "BEL",
            "BGR",
            "CZE",
            "DNK",
            "DEU",
            "EST",
            "IRL",
            "GRC",
            "ESP",
            "FRA",
            "HRV",
            "ITA",
            "CYP",
            "LVA",
            "LTU",
            "LUX",
            "HUN",
            "MLT",
            "NLD",
            "AUT",
            "POL",
            "PRT",
            "ROU",
            "SVN",
            "SVK",
            "FIN",
            "SWE"
           ],
           "name": "",
           "type": "choropleth",
           "z": [
            4293,
            822.3,
            3155.79,
            5615,
            33080.18,
            820.8,
            8244.87,
            659.38,
            7460.36,
            25062,
            599,
            12494.4,
            238.76,
            978.9,
            1547.43,
            421.26,
            1962.78,
            41.27,
            14555,
            3781.34,
            14502.76,
            1975.49,
            3663.2,
            623.02,
            904.26,
            2374.36,
            2704.39
           ]
          }
         ],
         "name": "2019"
        },
        {
         "data": [
          {
           "coloraxis": "coloraxis",
           "geo": "geo",
           "hovertemplate": "<b>%{hovertext}</b><br><br>Year=2020<br>Code=%{location}<br>Amount=%{z}<extra></extra>",
           "hovertext": [
            "Belgium",
            "Bulgaria",
            "Czechia",
            "Denmark",
            "Germany",
            "Estonia",
            "Ireland",
            "Greece",
            "Spain",
            "France",
            "Croatia",
            "Italy",
            "Cyprus",
            "Latvia",
            "Lithuania",
            "Luxembourg",
            "Hungary",
            "Malta",
            "Netherlands",
            "Austria",
            "Poland",
            "Portugal",
            "Romania",
            "Slovenia",
            "Slovakia",
            "Finland",
            "Sweden"
           ],
           "locations": [
            "BEL",
            "BGR",
            "CZE",
            "DNK",
            "DEU",
            "EST",
            "IRL",
            "GRC",
            "ESP",
            "FRA",
            "HRV",
            "ITA",
            "CYP",
            "LVA",
            "LTU",
            "LUX",
            "HUN",
            "MLT",
            "NLD",
            "AUT",
            "POL",
            "PRT",
            "ROU",
            "SVN",
            "SVK",
            "FIN",
            "SWE"
           ],
           "name": "",
           "type": "choropleth",
           "z": [
            4449,
            881.76,
            3267.73,
            5666,
            33164.91,
            848.3,
            8561.47,
            683.46,
            7606.07,
            25234.84,
            596,
            12712.48,
            275.16,
            988.2,
            1488,
            447.34,
            2014.33,
            42.11,
            14522,
            3815.47,
            14821.82,
            1993.61,
            3679.6,
            630.65,
            917.69,
            2406.52,
            2772.74
           ]
          }
         ],
         "name": "2020"
        },
        {
         "data": [
          {
           "coloraxis": "coloraxis",
           "geo": "geo",
           "hovertemplate": "<b>%{hovertext}</b><br><br>Year=2021<br>Code=%{location}<br>Amount=%{z}<extra></extra>",
           "hovertext": [
            "Belgium",
            "Bulgaria",
            "Czechia",
            "Denmark",
            "Germany",
            "Estonia",
            "Ireland",
            "Greece",
            "Spain",
            "France",
            "Croatia",
            "Italy",
            "Cyprus",
            "Latvia",
            "Lithuania",
            "Luxembourg",
            "Hungary",
            "Malta",
            "Netherlands",
            "Austria",
            "Poland",
            "Portugal",
            "Romania",
            "Slovenia",
            "Slovakia",
            "Finland",
            "Sweden"
           ],
           "locations": [
            "BEL",
            "BGR",
            "CZE",
            "DNK",
            "DEU",
            "EST",
            "IRL",
            "GRC",
            "ESP",
            "FRA",
            "HRV",
            "ITA",
            "CYP",
            "LVA",
            "LTU",
            "LUX",
            "HUN",
            "MLT",
            "NLD",
            "AUT",
            "POL",
            "PRT",
            "ROU",
            "SVN",
            "SVK",
            "FIN",
            "SWE"
           ],
           "name": "",
           "type": "choropleth",
           "z": [
            4434,
            835.78,
            3309.91,
            5644,
            32506.91,
            838.7,
            9039.99,
            710.93,
            7623.09,
            24778.84,
            558,
            13202.45,
            298.14,
            990.31,
            1473.28,
            443.28,
            2080.23,
            39.54,
            14217.25,
            3830.14,
            14881.11,
            1995.55,
            3637,
            639.93,
            902.64,
            2161.46,
            2782.22
           ]
          }
         ],
         "name": "2021"
        }
       ],
       "layout": {
        "coloraxis": {
         "colorbar": {
          "title": {
           "text": "Amount"
          }
         },
         "colorscale": [
          [
           0,
           "#0d0887"
          ],
          [
           0.1111111111111111,
           "#46039f"
          ],
          [
           0.2222222222222222,
           "#7201a8"
          ],
          [
           0.3333333333333333,
           "#9c179e"
          ],
          [
           0.4444444444444444,
           "#bd3786"
          ],
          [
           0.5555555555555556,
           "#d8576b"
          ],
          [
           0.6666666666666666,
           "#ed7953"
          ],
          [
           0.7777777777777778,
           "#fb9f3a"
          ],
          [
           0.8888888888888888,
           "#fdca26"
          ],
          [
           1,
           "#f0f921"
          ]
         ]
        },
        "geo": {
         "center": {},
         "domain": {
          "x": [
           0,
           1
          ],
          "y": [
           0,
           1
          ]
         },
         "scope": "europe"
        },
        "legend": {
         "tracegroupgap": 0
        },
        "margin": {
         "t": 60
        },
        "sliders": [
         {
          "active": 0,
          "currentvalue": {
           "prefix": "Year="
          },
          "len": 0.9,
          "pad": {
           "b": 10,
           "t": 60
          },
          "steps": [
           {
            "args": [
             [
              "2011"
             ],
             {
              "frame": {
               "duration": 0,
               "redraw": true
              },
              "fromcurrent": true,
              "mode": "immediate",
              "transition": {
               "duration": 0,
               "easing": "linear"
              }
             }
            ],
            "label": "2011",
            "method": "animate"
           },
           {
            "args": [
             [
              "2012"
             ],
             {
              "frame": {
               "duration": 0,
               "redraw": true
              },
              "fromcurrent": true,
              "mode": "immediate",
              "transition": {
               "duration": 0,
               "easing": "linear"
              }
             }
            ],
            "label": "2012",
            "method": "animate"
           },
           {
            "args": [
             [
              "2013"
             ],
             {
              "frame": {
               "duration": 0,
               "redraw": true
              },
              "fromcurrent": true,
              "mode": "immediate",
              "transition": {
               "duration": 0,
               "easing": "linear"
              }
             }
            ],
            "label": "2013",
            "method": "animate"
           },
           {
            "args": [
             [
              "2014"
             ],
             {
              "frame": {
               "duration": 0,
               "redraw": true
              },
              "fromcurrent": true,
              "mode": "immediate",
              "transition": {
               "duration": 0,
               "easing": "linear"
              }
             }
            ],
            "label": "2014",
            "method": "animate"
           },
           {
            "args": [
             [
              "2015"
             ],
             {
              "frame": {
               "duration": 0,
               "redraw": true
              },
              "fromcurrent": true,
              "mode": "immediate",
              "transition": {
               "duration": 0,
               "easing": "linear"
              }
             }
            ],
            "label": "2015",
            "method": "animate"
           },
           {
            "args": [
             [
              "2016"
             ],
             {
              "frame": {
               "duration": 0,
               "redraw": true
              },
              "fromcurrent": true,
              "mode": "immediate",
              "transition": {
               "duration": 0,
               "easing": "linear"
              }
             }
            ],
            "label": "2016",
            "method": "animate"
           },
           {
            "args": [
             [
              "2017"
             ],
             {
              "frame": {
               "duration": 0,
               "redraw": true
              },
              "fromcurrent": true,
              "mode": "immediate",
              "transition": {
               "duration": 0,
               "easing": "linear"
              }
             }
            ],
            "label": "2017",
            "method": "animate"
           },
           {
            "args": [
             [
              "2018"
             ],
             {
              "frame": {
               "duration": 0,
               "redraw": true
              },
              "fromcurrent": true,
              "mode": "immediate",
              "transition": {
               "duration": 0,
               "easing": "linear"
              }
             }
            ],
            "label": "2018",
            "method": "animate"
           },
           {
            "args": [
             [
              "2019"
             ],
             {
              "frame": {
               "duration": 0,
               "redraw": true
              },
              "fromcurrent": true,
              "mode": "immediate",
              "transition": {
               "duration": 0,
               "easing": "linear"
              }
             }
            ],
            "label": "2019",
            "method": "animate"
           },
           {
            "args": [
             [
              "2020"
             ],
             {
              "frame": {
               "duration": 0,
               "redraw": true
              },
              "fromcurrent": true,
              "mode": "immediate",
              "transition": {
               "duration": 0,
               "easing": "linear"
              }
             }
            ],
            "label": "2020",
            "method": "animate"
           },
           {
            "args": [
             [
              "2021"
             ],
             {
              "frame": {
               "duration": 0,
               "redraw": true
              },
              "fromcurrent": true,
              "mode": "immediate",
              "transition": {
               "duration": 0,
               "easing": "linear"
              }
             }
            ],
            "label": "2021",
            "method": "animate"
           }
          ],
          "x": 0.1,
          "xanchor": "left",
          "y": 0,
          "yanchor": "top"
         }
        ],
        "template": {
         "data": {
          "bar": [
           {
            "error_x": {
             "color": "#2a3f5f"
            },
            "error_y": {
             "color": "#2a3f5f"
            },
            "marker": {
             "line": {
              "color": "#E5ECF6",
              "width": 0.5
             },
             "pattern": {
              "fillmode": "overlay",
              "size": 10,
              "solidity": 0.2
             }
            },
            "type": "bar"
           }
          ],
          "barpolar": [
           {
            "marker": {
             "line": {
              "color": "#E5ECF6",
              "width": 0.5
             },
             "pattern": {
              "fillmode": "overlay",
              "size": 10,
              "solidity": 0.2
             }
            },
            "type": "barpolar"
           }
          ],
          "carpet": [
           {
            "aaxis": {
             "endlinecolor": "#2a3f5f",
             "gridcolor": "white",
             "linecolor": "white",
             "minorgridcolor": "white",
             "startlinecolor": "#2a3f5f"
            },
            "baxis": {
             "endlinecolor": "#2a3f5f",
             "gridcolor": "white",
             "linecolor": "white",
             "minorgridcolor": "white",
             "startlinecolor": "#2a3f5f"
            },
            "type": "carpet"
           }
          ],
          "choropleth": [
           {
            "colorbar": {
             "outlinewidth": 0,
             "ticks": ""
            },
            "type": "choropleth"
           }
          ],
          "contour": [
           {
            "colorbar": {
             "outlinewidth": 0,
             "ticks": ""
            },
            "colorscale": [
             [
              0,
              "#0d0887"
             ],
             [
              0.1111111111111111,
              "#46039f"
             ],
             [
              0.2222222222222222,
              "#7201a8"
             ],
             [
              0.3333333333333333,
              "#9c179e"
             ],
             [
              0.4444444444444444,
              "#bd3786"
             ],
             [
              0.5555555555555556,
              "#d8576b"
             ],
             [
              0.6666666666666666,
              "#ed7953"
             ],
             [
              0.7777777777777778,
              "#fb9f3a"
             ],
             [
              0.8888888888888888,
              "#fdca26"
             ],
             [
              1,
              "#f0f921"
             ]
            ],
            "type": "contour"
           }
          ],
          "contourcarpet": [
           {
            "colorbar": {
             "outlinewidth": 0,
             "ticks": ""
            },
            "type": "contourcarpet"
           }
          ],
          "heatmap": [
           {
            "colorbar": {
             "outlinewidth": 0,
             "ticks": ""
            },
            "colorscale": [
             [
              0,
              "#0d0887"
             ],
             [
              0.1111111111111111,
              "#46039f"
             ],
             [
              0.2222222222222222,
              "#7201a8"
             ],
             [
              0.3333333333333333,
              "#9c179e"
             ],
             [
              0.4444444444444444,
              "#bd3786"
             ],
             [
              0.5555555555555556,
              "#d8576b"
             ],
             [
              0.6666666666666666,
              "#ed7953"
             ],
             [
              0.7777777777777778,
              "#fb9f3a"
             ],
             [
              0.8888888888888888,
              "#fdca26"
             ],
             [
              1,
              "#f0f921"
             ]
            ],
            "type": "heatmap"
           }
          ],
          "heatmapgl": [
           {
            "colorbar": {
             "outlinewidth": 0,
             "ticks": ""
            },
            "colorscale": [
             [
              0,
              "#0d0887"
             ],
             [
              0.1111111111111111,
              "#46039f"
             ],
             [
              0.2222222222222222,
              "#7201a8"
             ],
             [
              0.3333333333333333,
              "#9c179e"
             ],
             [
              0.4444444444444444,
              "#bd3786"
             ],
             [
              0.5555555555555556,
              "#d8576b"
             ],
             [
              0.6666666666666666,
              "#ed7953"
             ],
             [
              0.7777777777777778,
              "#fb9f3a"
             ],
             [
              0.8888888888888888,
              "#fdca26"
             ],
             [
              1,
              "#f0f921"
             ]
            ],
            "type": "heatmapgl"
           }
          ],
          "histogram": [
           {
            "marker": {
             "pattern": {
              "fillmode": "overlay",
              "size": 10,
              "solidity": 0.2
             }
            },
            "type": "histogram"
           }
          ],
          "histogram2d": [
           {
            "colorbar": {
             "outlinewidth": 0,
             "ticks": ""
            },
            "colorscale": [
             [
              0,
              "#0d0887"
             ],
             [
              0.1111111111111111,
              "#46039f"
             ],
             [
              0.2222222222222222,
              "#7201a8"
             ],
             [
              0.3333333333333333,
              "#9c179e"
             ],
             [
              0.4444444444444444,
              "#bd3786"
             ],
             [
              0.5555555555555556,
              "#d8576b"
             ],
             [
              0.6666666666666666,
              "#ed7953"
             ],
             [
              0.7777777777777778,
              "#fb9f3a"
             ],
             [
              0.8888888888888888,
              "#fdca26"
             ],
             [
              1,
              "#f0f921"
             ]
            ],
            "type": "histogram2d"
           }
          ],
          "histogram2dcontour": [
           {
            "colorbar": {
             "outlinewidth": 0,
             "ticks": ""
            },
            "colorscale": [
             [
              0,
              "#0d0887"
             ],
             [
              0.1111111111111111,
              "#46039f"
             ],
             [
              0.2222222222222222,
              "#7201a8"
             ],
             [
              0.3333333333333333,
              "#9c179e"
             ],
             [
              0.4444444444444444,
              "#bd3786"
             ],
             [
              0.5555555555555556,
              "#d8576b"
             ],
             [
              0.6666666666666666,
              "#ed7953"
             ],
             [
              0.7777777777777778,
              "#fb9f3a"
             ],
             [
              0.8888888888888888,
              "#fdca26"
             ],
             [
              1,
              "#f0f921"
             ]
            ],
            "type": "histogram2dcontour"
           }
          ],
          "mesh3d": [
           {
            "colorbar": {
             "outlinewidth": 0,
             "ticks": ""
            },
            "type": "mesh3d"
           }
          ],
          "parcoords": [
           {
            "line": {
             "colorbar": {
              "outlinewidth": 0,
              "ticks": ""
             }
            },
            "type": "parcoords"
           }
          ],
          "pie": [
           {
            "automargin": true,
            "type": "pie"
           }
          ],
          "scatter": [
           {
            "marker": {
             "colorbar": {
              "outlinewidth": 0,
              "ticks": ""
             }
            },
            "type": "scatter"
           }
          ],
          "scatter3d": [
           {
            "line": {
             "colorbar": {
              "outlinewidth": 0,
              "ticks": ""
             }
            },
            "marker": {
             "colorbar": {
              "outlinewidth": 0,
              "ticks": ""
             }
            },
            "type": "scatter3d"
           }
          ],
          "scattercarpet": [
           {
            "marker": {
             "colorbar": {
              "outlinewidth": 0,
              "ticks": ""
             }
            },
            "type": "scattercarpet"
           }
          ],
          "scattergeo": [
           {
            "marker": {
             "colorbar": {
              "outlinewidth": 0,
              "ticks": ""
             }
            },
            "type": "scattergeo"
           }
          ],
          "scattergl": [
           {
            "marker": {
             "colorbar": {
              "outlinewidth": 0,
              "ticks": ""
             }
            },
            "type": "scattergl"
           }
          ],
          "scattermapbox": [
           {
            "marker": {
             "colorbar": {
              "outlinewidth": 0,
              "ticks": ""
             }
            },
            "type": "scattermapbox"
           }
          ],
          "scatterpolar": [
           {
            "marker": {
             "colorbar": {
              "outlinewidth": 0,
              "ticks": ""
             }
            },
            "type": "scatterpolar"
           }
          ],
          "scatterpolargl": [
           {
            "marker": {
             "colorbar": {
              "outlinewidth": 0,
              "ticks": ""
             }
            },
            "type": "scatterpolargl"
           }
          ],
          "scatterternary": [
           {
            "marker": {
             "colorbar": {
              "outlinewidth": 0,
              "ticks": ""
             }
            },
            "type": "scatterternary"
           }
          ],
          "surface": [
           {
            "colorbar": {
             "outlinewidth": 0,
             "ticks": ""
            },
            "colorscale": [
             [
              0,
              "#0d0887"
             ],
             [
              0.1111111111111111,
              "#46039f"
             ],
             [
              0.2222222222222222,
              "#7201a8"
             ],
             [
              0.3333333333333333,
              "#9c179e"
             ],
             [
              0.4444444444444444,
              "#bd3786"
             ],
             [
              0.5555555555555556,
              "#d8576b"
             ],
             [
              0.6666666666666666,
              "#ed7953"
             ],
             [
              0.7777777777777778,
              "#fb9f3a"
             ],
             [
              0.8888888888888888,
              "#fdca26"
             ],
             [
              1,
              "#f0f921"
             ]
            ],
            "type": "surface"
           }
          ],
          "table": [
           {
            "cells": {
             "fill": {
              "color": "#EBF0F8"
             },
             "line": {
              "color": "white"
             }
            },
            "header": {
             "fill": {
              "color": "#C8D4E3"
             },
             "line": {
              "color": "white"
             }
            },
            "type": "table"
           }
          ]
         },
         "layout": {
          "annotationdefaults": {
           "arrowcolor": "#2a3f5f",
           "arrowhead": 0,
           "arrowwidth": 1
          },
          "autotypenumbers": "strict",
          "coloraxis": {
           "colorbar": {
            "outlinewidth": 0,
            "ticks": ""
           }
          },
          "colorscale": {
           "diverging": [
            [
             0,
             "#8e0152"
            ],
            [
             0.1,
             "#c51b7d"
            ],
            [
             0.2,
             "#de77ae"
            ],
            [
             0.3,
             "#f1b6da"
            ],
            [
             0.4,
             "#fde0ef"
            ],
            [
             0.5,
             "#f7f7f7"
            ],
            [
             0.6,
             "#e6f5d0"
            ],
            [
             0.7,
             "#b8e186"
            ],
            [
             0.8,
             "#7fbc41"
            ],
            [
             0.9,
             "#4d9221"
            ],
            [
             1,
             "#276419"
            ]
           ],
           "sequential": [
            [
             0,
             "#0d0887"
            ],
            [
             0.1111111111111111,
             "#46039f"
            ],
            [
             0.2222222222222222,
             "#7201a8"
            ],
            [
             0.3333333333333333,
             "#9c179e"
            ],
            [
             0.4444444444444444,
             "#bd3786"
            ],
            [
             0.5555555555555556,
             "#d8576b"
            ],
            [
             0.6666666666666666,
             "#ed7953"
            ],
            [
             0.7777777777777778,
             "#fb9f3a"
            ],
            [
             0.8888888888888888,
             "#fdca26"
            ],
            [
             1,
             "#f0f921"
            ]
           ],
           "sequentialminus": [
            [
             0,
             "#0d0887"
            ],
            [
             0.1111111111111111,
             "#46039f"
            ],
            [
             0.2222222222222222,
             "#7201a8"
            ],
            [
             0.3333333333333333,
             "#9c179e"
            ],
            [
             0.4444444444444444,
             "#bd3786"
            ],
            [
             0.5555555555555556,
             "#d8576b"
            ],
            [
             0.6666666666666666,
             "#ed7953"
            ],
            [
             0.7777777777777778,
             "#fb9f3a"
            ],
            [
             0.8888888888888888,
             "#fdca26"
            ],
            [
             1,
             "#f0f921"
            ]
           ]
          },
          "colorway": [
           "#636efa",
           "#EF553B",
           "#00cc96",
           "#ab63fa",
           "#FFA15A",
           "#19d3f3",
           "#FF6692",
           "#B6E880",
           "#FF97FF",
           "#FECB52"
          ],
          "font": {
           "color": "#2a3f5f"
          },
          "geo": {
           "bgcolor": "white",
           "lakecolor": "white",
           "landcolor": "#E5ECF6",
           "showlakes": true,
           "showland": true,
           "subunitcolor": "white"
          },
          "hoverlabel": {
           "align": "left"
          },
          "hovermode": "closest",
          "mapbox": {
           "style": "light"
          },
          "paper_bgcolor": "white",
          "plot_bgcolor": "#E5ECF6",
          "polar": {
           "angularaxis": {
            "gridcolor": "white",
            "linecolor": "white",
            "ticks": ""
           },
           "bgcolor": "#E5ECF6",
           "radialaxis": {
            "gridcolor": "white",
            "linecolor": "white",
            "ticks": ""
           }
          },
          "scene": {
           "xaxis": {
            "backgroundcolor": "#E5ECF6",
            "gridcolor": "white",
            "gridwidth": 2,
            "linecolor": "white",
            "showbackground": true,
            "ticks": "",
            "zerolinecolor": "white"
           },
           "yaxis": {
            "backgroundcolor": "#E5ECF6",
            "gridcolor": "white",
            "gridwidth": 2,
            "linecolor": "white",
            "showbackground": true,
            "ticks": "",
            "zerolinecolor": "white"
           },
           "zaxis": {
            "backgroundcolor": "#E5ECF6",
            "gridcolor": "white",
            "gridwidth": 2,
            "linecolor": "white",
            "showbackground": true,
            "ticks": "",
            "zerolinecolor": "white"
           }
          },
          "shapedefaults": {
           "line": {
            "color": "#2a3f5f"
           }
          },
          "ternary": {
           "aaxis": {
            "gridcolor": "white",
            "linecolor": "white",
            "ticks": ""
           },
           "baxis": {
            "gridcolor": "white",
            "linecolor": "white",
            "ticks": ""
           },
           "bgcolor": "#E5ECF6",
           "caxis": {
            "gridcolor": "white",
            "linecolor": "white",
            "ticks": ""
           }
          },
          "title": {
           "x": 0.05
          },
          "xaxis": {
           "automargin": true,
           "gridcolor": "white",
           "linecolor": "white",
           "ticks": "",
           "title": {
            "standoff": 15
           },
           "zerolinecolor": "white",
           "zerolinewidth": 2
          },
          "yaxis": {
           "automargin": true,
           "gridcolor": "white",
           "linecolor": "white",
           "ticks": "",
           "title": {
            "standoff": 15
           },
           "zerolinecolor": "white",
           "zerolinewidth": 2
          }
         }
        },
        "title": {
         "text": "Milk Production and Utilisation"
        },
        "updatemenus": [
         {
          "buttons": [
           {
            "args": [
             null,
             {
              "frame": {
               "duration": 500,
               "redraw": true
              },
              "fromcurrent": true,
              "mode": "immediate",
              "transition": {
               "duration": 500,
               "easing": "linear"
              }
             }
            ],
            "label": "&#9654;",
            "method": "animate"
           },
           {
            "args": [
             [
              null
             ],
             {
              "frame": {
               "duration": 0,
               "redraw": true
              },
              "fromcurrent": true,
              "mode": "immediate",
              "transition": {
               "duration": 0,
               "easing": "linear"
              }
             }
            ],
            "label": "&#9724;",
            "method": "animate"
           }
          ],
          "direction": "left",
          "pad": {
           "r": 10,
           "t": 70
          },
          "showactive": false,
          "type": "buttons",
          "x": 0.1,
          "xanchor": "right",
          "y": 0,
          "yanchor": "top"
         }
        ]
       }
      },
      "text/html": [
       "<div>                            <div id=\"fce1b405-e265-4dc6-9cc4-e63e9d7b8f1e\" class=\"plotly-graph-div\" style=\"height:525px; width:100%;\"></div>            <script type=\"text/javascript\">                require([\"plotly\"], function(Plotly) {                    window.PLOTLYENV=window.PLOTLYENV || {};                                    if (document.getElementById(\"fce1b405-e265-4dc6-9cc4-e63e9d7b8f1e\")) {                    Plotly.newPlot(                        \"fce1b405-e265-4dc6-9cc4-e63e9d7b8f1e\",                        [{\"coloraxis\":\"coloraxis\",\"geo\":\"geo\",\"hovertemplate\":\"<b>%{hovertext}</b><br><br>Year=2011<br>Code=%{location}<br>Amount=%{z}<extra></extra>\",\"hovertext\":[\"Belgium\",\"Bulgaria\",\"Czechia\",\"Denmark\",\"Germany\",\"Estonia\",\"Ireland\",\"Greece\",\"Spain\",\"France\",\"Croatia\",\"Italy\",\"Cyprus\",\"Latvia\",\"Lithuania\",\"Luxembourg\",\"Hungary\",\"Malta\",\"Netherlands\",\"Austria\",\"Poland\",\"Portugal\",\"Romania\",\"Slovenia\",\"Slovakia\",\"Finland\",\"Sweden\"],\"locations\":[\"BEL\",\"BGR\",\"CZE\",\"DNK\",\"DEU\",\"EST\",\"IRL\",\"GRC\",\"ESP\",\"FRA\",\"HRV\",\"ITA\",\"CYP\",\"LVA\",\"LTU\",\"LUX\",\"HUN\",\"MLT\",\"NLD\",\"AUT\",\"POL\",\"PRT\",\"ROU\",\"SVN\",\"SVK\",\"FIN\",\"SWE\"],\"name\":\"\",\"z\":[3151.0,1126.0,2735.93,4879.5,30301.36,692.4,5556.2,757.0,6487.68,25091.93,804.0,11298.61,156.02,841.7,1782.32,292.25,1712.48,33.89,11850.72,3307.13,12414.0,1918.52,4075.0,601.59,928.32,2300.73,2850.4],\"type\":\"choropleth\"}],                        {\"template\":{\"data\":{\"bar\":[{\"error_x\":{\"color\":\"#2a3f5f\"},\"error_y\":{\"color\":\"#2a3f5f\"},\"marker\":{\"line\":{\"color\":\"#E5ECF6\",\"width\":0.5},\"pattern\":{\"fillmode\":\"overlay\",\"size\":10,\"solidity\":0.2}},\"type\":\"bar\"}],\"barpolar\":[{\"marker\":{\"line\":{\"color\":\"#E5ECF6\",\"width\":0.5},\"pattern\":{\"fillmode\":\"overlay\",\"size\":10,\"solidity\":0.2}},\"type\":\"barpolar\"}],\"carpet\":[{\"aaxis\":{\"endlinecolor\":\"#2a3f5f\",\"gridcolor\":\"white\",\"linecolor\":\"white\",\"minorgridcolor\":\"white\",\"startlinecolor\":\"#2a3f5f\"},\"baxis\":{\"endlinecolor\":\"#2a3f5f\",\"gridcolor\":\"white\",\"linecolor\":\"white\",\"minorgridcolor\":\"white\",\"startlinecolor\":\"#2a3f5f\"},\"type\":\"carpet\"}],\"choropleth\":[{\"colorbar\":{\"outlinewidth\":0,\"ticks\":\"\"},\"type\":\"choropleth\"}],\"contour\":[{\"colorbar\":{\"outlinewidth\":0,\"ticks\":\"\"},\"colorscale\":[[0.0,\"#0d0887\"],[0.1111111111111111,\"#46039f\"],[0.2222222222222222,\"#7201a8\"],[0.3333333333333333,\"#9c179e\"],[0.4444444444444444,\"#bd3786\"],[0.5555555555555556,\"#d8576b\"],[0.6666666666666666,\"#ed7953\"],[0.7777777777777778,\"#fb9f3a\"],[0.8888888888888888,\"#fdca26\"],[1.0,\"#f0f921\"]],\"type\":\"contour\"}],\"contourcarpet\":[{\"colorbar\":{\"outlinewidth\":0,\"ticks\":\"\"},\"type\":\"contourcarpet\"}],\"heatmap\":[{\"colorbar\":{\"outlinewidth\":0,\"ticks\":\"\"},\"colorscale\":[[0.0,\"#0d0887\"],[0.1111111111111111,\"#46039f\"],[0.2222222222222222,\"#7201a8\"],[0.3333333333333333,\"#9c179e\"],[0.4444444444444444,\"#bd3786\"],[0.5555555555555556,\"#d8576b\"],[0.6666666666666666,\"#ed7953\"],[0.7777777777777778,\"#fb9f3a\"],[0.8888888888888888,\"#fdca26\"],[1.0,\"#f0f921\"]],\"type\":\"heatmap\"}],\"heatmapgl\":[{\"colorbar\":{\"outlinewidth\":0,\"ticks\":\"\"},\"colorscale\":[[0.0,\"#0d0887\"],[0.1111111111111111,\"#46039f\"],[0.2222222222222222,\"#7201a8\"],[0.3333333333333333,\"#9c179e\"],[0.4444444444444444,\"#bd3786\"],[0.5555555555555556,\"#d8576b\"],[0.6666666666666666,\"#ed7953\"],[0.7777777777777778,\"#fb9f3a\"],[0.8888888888888888,\"#fdca26\"],[1.0,\"#f0f921\"]],\"type\":\"heatmapgl\"}],\"histogram\":[{\"marker\":{\"pattern\":{\"fillmode\":\"overlay\",\"size\":10,\"solidity\":0.2}},\"type\":\"histogram\"}],\"histogram2d\":[{\"colorbar\":{\"outlinewidth\":0,\"ticks\":\"\"},\"colorscale\":[[0.0,\"#0d0887\"],[0.1111111111111111,\"#46039f\"],[0.2222222222222222,\"#7201a8\"],[0.3333333333333333,\"#9c179e\"],[0.4444444444444444,\"#bd3786\"],[0.5555555555555556,\"#d8576b\"],[0.6666666666666666,\"#ed7953\"],[0.7777777777777778,\"#fb9f3a\"],[0.8888888888888888,\"#fdca26\"],[1.0,\"#f0f921\"]],\"type\":\"histogram2d\"}],\"histogram2dcontour\":[{\"colorbar\":{\"outlinewidth\":0,\"ticks\":\"\"},\"colorscale\":[[0.0,\"#0d0887\"],[0.1111111111111111,\"#46039f\"],[0.2222222222222222,\"#7201a8\"],[0.3333333333333333,\"#9c179e\"],[0.4444444444444444,\"#bd3786\"],[0.5555555555555556,\"#d8576b\"],[0.6666666666666666,\"#ed7953\"],[0.7777777777777778,\"#fb9f3a\"],[0.8888888888888888,\"#fdca26\"],[1.0,\"#f0f921\"]],\"type\":\"histogram2dcontour\"}],\"mesh3d\":[{\"colorbar\":{\"outlinewidth\":0,\"ticks\":\"\"},\"type\":\"mesh3d\"}],\"parcoords\":[{\"line\":{\"colorbar\":{\"outlinewidth\":0,\"ticks\":\"\"}},\"type\":\"parcoords\"}],\"pie\":[{\"automargin\":true,\"type\":\"pie\"}],\"scatter\":[{\"marker\":{\"colorbar\":{\"outlinewidth\":0,\"ticks\":\"\"}},\"type\":\"scatter\"}],\"scatter3d\":[{\"line\":{\"colorbar\":{\"outlinewidth\":0,\"ticks\":\"\"}},\"marker\":{\"colorbar\":{\"outlinewidth\":0,\"ticks\":\"\"}},\"type\":\"scatter3d\"}],\"scattercarpet\":[{\"marker\":{\"colorbar\":{\"outlinewidth\":0,\"ticks\":\"\"}},\"type\":\"scattercarpet\"}],\"scattergeo\":[{\"marker\":{\"colorbar\":{\"outlinewidth\":0,\"ticks\":\"\"}},\"type\":\"scattergeo\"}],\"scattergl\":[{\"marker\":{\"colorbar\":{\"outlinewidth\":0,\"ticks\":\"\"}},\"type\":\"scattergl\"}],\"scattermapbox\":[{\"marker\":{\"colorbar\":{\"outlinewidth\":0,\"ticks\":\"\"}},\"type\":\"scattermapbox\"}],\"scatterpolar\":[{\"marker\":{\"colorbar\":{\"outlinewidth\":0,\"ticks\":\"\"}},\"type\":\"scatterpolar\"}],\"scatterpolargl\":[{\"marker\":{\"colorbar\":{\"outlinewidth\":0,\"ticks\":\"\"}},\"type\":\"scatterpolargl\"}],\"scatterternary\":[{\"marker\":{\"colorbar\":{\"outlinewidth\":0,\"ticks\":\"\"}},\"type\":\"scatterternary\"}],\"surface\":[{\"colorbar\":{\"outlinewidth\":0,\"ticks\":\"\"},\"colorscale\":[[0.0,\"#0d0887\"],[0.1111111111111111,\"#46039f\"],[0.2222222222222222,\"#7201a8\"],[0.3333333333333333,\"#9c179e\"],[0.4444444444444444,\"#bd3786\"],[0.5555555555555556,\"#d8576b\"],[0.6666666666666666,\"#ed7953\"],[0.7777777777777778,\"#fb9f3a\"],[0.8888888888888888,\"#fdca26\"],[1.0,\"#f0f921\"]],\"type\":\"surface\"}],\"table\":[{\"cells\":{\"fill\":{\"color\":\"#EBF0F8\"},\"line\":{\"color\":\"white\"}},\"header\":{\"fill\":{\"color\":\"#C8D4E3\"},\"line\":{\"color\":\"white\"}},\"type\":\"table\"}]},\"layout\":{\"annotationdefaults\":{\"arrowcolor\":\"#2a3f5f\",\"arrowhead\":0,\"arrowwidth\":1},\"autotypenumbers\":\"strict\",\"coloraxis\":{\"colorbar\":{\"outlinewidth\":0,\"ticks\":\"\"}},\"colorscale\":{\"diverging\":[[0,\"#8e0152\"],[0.1,\"#c51b7d\"],[0.2,\"#de77ae\"],[0.3,\"#f1b6da\"],[0.4,\"#fde0ef\"],[0.5,\"#f7f7f7\"],[0.6,\"#e6f5d0\"],[0.7,\"#b8e186\"],[0.8,\"#7fbc41\"],[0.9,\"#4d9221\"],[1,\"#276419\"]],\"sequential\":[[0.0,\"#0d0887\"],[0.1111111111111111,\"#46039f\"],[0.2222222222222222,\"#7201a8\"],[0.3333333333333333,\"#9c179e\"],[0.4444444444444444,\"#bd3786\"],[0.5555555555555556,\"#d8576b\"],[0.6666666666666666,\"#ed7953\"],[0.7777777777777778,\"#fb9f3a\"],[0.8888888888888888,\"#fdca26\"],[1.0,\"#f0f921\"]],\"sequentialminus\":[[0.0,\"#0d0887\"],[0.1111111111111111,\"#46039f\"],[0.2222222222222222,\"#7201a8\"],[0.3333333333333333,\"#9c179e\"],[0.4444444444444444,\"#bd3786\"],[0.5555555555555556,\"#d8576b\"],[0.6666666666666666,\"#ed7953\"],[0.7777777777777778,\"#fb9f3a\"],[0.8888888888888888,\"#fdca26\"],[1.0,\"#f0f921\"]]},\"colorway\":[\"#636efa\",\"#EF553B\",\"#00cc96\",\"#ab63fa\",\"#FFA15A\",\"#19d3f3\",\"#FF6692\",\"#B6E880\",\"#FF97FF\",\"#FECB52\"],\"font\":{\"color\":\"#2a3f5f\"},\"geo\":{\"bgcolor\":\"white\",\"lakecolor\":\"white\",\"landcolor\":\"#E5ECF6\",\"showlakes\":true,\"showland\":true,\"subunitcolor\":\"white\"},\"hoverlabel\":{\"align\":\"left\"},\"hovermode\":\"closest\",\"mapbox\":{\"style\":\"light\"},\"paper_bgcolor\":\"white\",\"plot_bgcolor\":\"#E5ECF6\",\"polar\":{\"angularaxis\":{\"gridcolor\":\"white\",\"linecolor\":\"white\",\"ticks\":\"\"},\"bgcolor\":\"#E5ECF6\",\"radialaxis\":{\"gridcolor\":\"white\",\"linecolor\":\"white\",\"ticks\":\"\"}},\"scene\":{\"xaxis\":{\"backgroundcolor\":\"#E5ECF6\",\"gridcolor\":\"white\",\"gridwidth\":2,\"linecolor\":\"white\",\"showbackground\":true,\"ticks\":\"\",\"zerolinecolor\":\"white\"},\"yaxis\":{\"backgroundcolor\":\"#E5ECF6\",\"gridcolor\":\"white\",\"gridwidth\":2,\"linecolor\":\"white\",\"showbackground\":true,\"ticks\":\"\",\"zerolinecolor\":\"white\"},\"zaxis\":{\"backgroundcolor\":\"#E5ECF6\",\"gridcolor\":\"white\",\"gridwidth\":2,\"linecolor\":\"white\",\"showbackground\":true,\"ticks\":\"\",\"zerolinecolor\":\"white\"}},\"shapedefaults\":{\"line\":{\"color\":\"#2a3f5f\"}},\"ternary\":{\"aaxis\":{\"gridcolor\":\"white\",\"linecolor\":\"white\",\"ticks\":\"\"},\"baxis\":{\"gridcolor\":\"white\",\"linecolor\":\"white\",\"ticks\":\"\"},\"bgcolor\":\"#E5ECF6\",\"caxis\":{\"gridcolor\":\"white\",\"linecolor\":\"white\",\"ticks\":\"\"}},\"title\":{\"x\":0.05},\"xaxis\":{\"automargin\":true,\"gridcolor\":\"white\",\"linecolor\":\"white\",\"ticks\":\"\",\"title\":{\"standoff\":15},\"zerolinecolor\":\"white\",\"zerolinewidth\":2},\"yaxis\":{\"automargin\":true,\"gridcolor\":\"white\",\"linecolor\":\"white\",\"ticks\":\"\",\"title\":{\"standoff\":15},\"zerolinecolor\":\"white\",\"zerolinewidth\":2}}},\"geo\":{\"domain\":{\"x\":[0.0,1.0],\"y\":[0.0,1.0]},\"center\":{},\"scope\":\"europe\"},\"coloraxis\":{\"colorbar\":{\"title\":{\"text\":\"Amount\"}},\"colorscale\":[[0.0,\"#0d0887\"],[0.1111111111111111,\"#46039f\"],[0.2222222222222222,\"#7201a8\"],[0.3333333333333333,\"#9c179e\"],[0.4444444444444444,\"#bd3786\"],[0.5555555555555556,\"#d8576b\"],[0.6666666666666666,\"#ed7953\"],[0.7777777777777778,\"#fb9f3a\"],[0.8888888888888888,\"#fdca26\"],[1.0,\"#f0f921\"]]},\"legend\":{\"tracegroupgap\":0},\"margin\":{\"t\":60},\"updatemenus\":[{\"buttons\":[{\"args\":[null,{\"frame\":{\"duration\":500,\"redraw\":true},\"mode\":\"immediate\",\"fromcurrent\":true,\"transition\":{\"duration\":500,\"easing\":\"linear\"}}],\"label\":\"&#9654;\",\"method\":\"animate\"},{\"args\":[[null],{\"frame\":{\"duration\":0,\"redraw\":true},\"mode\":\"immediate\",\"fromcurrent\":true,\"transition\":{\"duration\":0,\"easing\":\"linear\"}}],\"label\":\"&#9724;\",\"method\":\"animate\"}],\"direction\":\"left\",\"pad\":{\"r\":10,\"t\":70},\"showactive\":false,\"type\":\"buttons\",\"x\":0.1,\"xanchor\":\"right\",\"y\":0,\"yanchor\":\"top\"}],\"sliders\":[{\"active\":0,\"currentvalue\":{\"prefix\":\"Year=\"},\"len\":0.9,\"pad\":{\"b\":10,\"t\":60},\"steps\":[{\"args\":[[\"2011\"],{\"frame\":{\"duration\":0,\"redraw\":true},\"mode\":\"immediate\",\"fromcurrent\":true,\"transition\":{\"duration\":0,\"easing\":\"linear\"}}],\"label\":\"2011\",\"method\":\"animate\"},{\"args\":[[\"2012\"],{\"frame\":{\"duration\":0,\"redraw\":true},\"mode\":\"immediate\",\"fromcurrent\":true,\"transition\":{\"duration\":0,\"easing\":\"linear\"}}],\"label\":\"2012\",\"method\":\"animate\"},{\"args\":[[\"2013\"],{\"frame\":{\"duration\":0,\"redraw\":true},\"mode\":\"immediate\",\"fromcurrent\":true,\"transition\":{\"duration\":0,\"easing\":\"linear\"}}],\"label\":\"2013\",\"method\":\"animate\"},{\"args\":[[\"2014\"],{\"frame\":{\"duration\":0,\"redraw\":true},\"mode\":\"immediate\",\"fromcurrent\":true,\"transition\":{\"duration\":0,\"easing\":\"linear\"}}],\"label\":\"2014\",\"method\":\"animate\"},{\"args\":[[\"2015\"],{\"frame\":{\"duration\":0,\"redraw\":true},\"mode\":\"immediate\",\"fromcurrent\":true,\"transition\":{\"duration\":0,\"easing\":\"linear\"}}],\"label\":\"2015\",\"method\":\"animate\"},{\"args\":[[\"2016\"],{\"frame\":{\"duration\":0,\"redraw\":true},\"mode\":\"immediate\",\"fromcurrent\":true,\"transition\":{\"duration\":0,\"easing\":\"linear\"}}],\"label\":\"2016\",\"method\":\"animate\"},{\"args\":[[\"2017\"],{\"frame\":{\"duration\":0,\"redraw\":true},\"mode\":\"immediate\",\"fromcurrent\":true,\"transition\":{\"duration\":0,\"easing\":\"linear\"}}],\"label\":\"2017\",\"method\":\"animate\"},{\"args\":[[\"2018\"],{\"frame\":{\"duration\":0,\"redraw\":true},\"mode\":\"immediate\",\"fromcurrent\":true,\"transition\":{\"duration\":0,\"easing\":\"linear\"}}],\"label\":\"2018\",\"method\":\"animate\"},{\"args\":[[\"2019\"],{\"frame\":{\"duration\":0,\"redraw\":true},\"mode\":\"immediate\",\"fromcurrent\":true,\"transition\":{\"duration\":0,\"easing\":\"linear\"}}],\"label\":\"2019\",\"method\":\"animate\"},{\"args\":[[\"2020\"],{\"frame\":{\"duration\":0,\"redraw\":true},\"mode\":\"immediate\",\"fromcurrent\":true,\"transition\":{\"duration\":0,\"easing\":\"linear\"}}],\"label\":\"2020\",\"method\":\"animate\"},{\"args\":[[\"2021\"],{\"frame\":{\"duration\":0,\"redraw\":true},\"mode\":\"immediate\",\"fromcurrent\":true,\"transition\":{\"duration\":0,\"easing\":\"linear\"}}],\"label\":\"2021\",\"method\":\"animate\"}],\"x\":0.1,\"xanchor\":\"left\",\"y\":0,\"yanchor\":\"top\"}],\"title\":{\"text\":\"Milk Production and Utilisation\"}},                        {\"responsive\": true}                    ).then(function(){\n",
       "                            Plotly.addFrames('fce1b405-e265-4dc6-9cc4-e63e9d7b8f1e', [{\"data\":[{\"coloraxis\":\"coloraxis\",\"geo\":\"geo\",\"hovertemplate\":\"<b>%{hovertext}</b><br><br>Year=2011<br>Code=%{location}<br>Amount=%{z}<extra></extra>\",\"hovertext\":[\"Belgium\",\"Bulgaria\",\"Czechia\",\"Denmark\",\"Germany\",\"Estonia\",\"Ireland\",\"Greece\",\"Spain\",\"France\",\"Croatia\",\"Italy\",\"Cyprus\",\"Latvia\",\"Lithuania\",\"Luxembourg\",\"Hungary\",\"Malta\",\"Netherlands\",\"Austria\",\"Poland\",\"Portugal\",\"Romania\",\"Slovenia\",\"Slovakia\",\"Finland\",\"Sweden\"],\"locations\":[\"BEL\",\"BGR\",\"CZE\",\"DNK\",\"DEU\",\"EST\",\"IRL\",\"GRC\",\"ESP\",\"FRA\",\"HRV\",\"ITA\",\"CYP\",\"LVA\",\"LTU\",\"LUX\",\"HUN\",\"MLT\",\"NLD\",\"AUT\",\"POL\",\"PRT\",\"ROU\",\"SVN\",\"SVK\",\"FIN\",\"SWE\"],\"name\":\"\",\"z\":[3151.0,1126.0,2735.93,4879.5,30301.36,692.4,5556.2,757.0,6487.68,25091.93,804.0,11298.61,156.02,841.7,1782.32,292.25,1712.48,33.89,11850.72,3307.13,12414.0,1918.52,4075.0,601.59,928.32,2300.73,2850.4],\"type\":\"choropleth\"}],\"name\":\"2011\"},{\"data\":[{\"coloraxis\":\"coloraxis\",\"geo\":\"geo\",\"hovertemplate\":\"<b>%{hovertext}</b><br><br>Year=2012<br>Code=%{location}<br>Amount=%{z}<extra></extra>\",\"hovertext\":[\"Belgium\",\"Bulgaria\",\"Czechia\",\"Denmark\",\"Germany\",\"Estonia\",\"Ireland\",\"Greece\",\"Spain\",\"France\",\"Croatia\",\"Italy\",\"Cyprus\",\"Latvia\",\"Lithuania\",\"Luxembourg\",\"Hungary\",\"Malta\",\"Netherlands\",\"Austria\",\"Poland\",\"Portugal\",\"Romania\",\"Slovenia\",\"Slovakia\",\"Finland\",\"Sweden\"],\"locations\":[\"BEL\",\"BGR\",\"CZE\",\"DNK\",\"DEU\",\"EST\",\"IRL\",\"GRC\",\"ESP\",\"FRA\",\"HRV\",\"ITA\",\"CYP\",\"LVA\",\"LTU\",\"LUX\",\"HUN\",\"MLT\",\"NLD\",\"AUT\",\"POL\",\"PRT\",\"ROU\",\"SVN\",\"SVK\",\"FIN\",\"SWE\"],\"name\":\"\",\"z\":[3116.0,1093.0,2814.68,5006.4,30672.15,720.7,5399.3,765.5,6502.41,24718.38,810.0,11500.0,153.74,870.6,1774.53,289.4,1812.85,33.89,11880.95,3382.1,12668.0,1938.13,3881.0,620.94,932.71,2296.68,2861.17],\"type\":\"choropleth\"}],\"name\":\"2012\"},{\"data\":[{\"coloraxis\":\"coloraxis\",\"geo\":\"geo\",\"hovertemplate\":\"<b>%{hovertext}</b><br><br>Year=2013<br>Code=%{location}<br>Amount=%{z}<extra></extra>\",\"hovertext\":[\"Belgium\",\"Bulgaria\",\"Czechia\",\"Denmark\",\"Germany\",\"Estonia\",\"Ireland\",\"Greece\",\"Spain\",\"France\",\"Croatia\",\"Italy\",\"Cyprus\",\"Latvia\",\"Lithuania\",\"Luxembourg\",\"Hungary\",\"Malta\",\"Netherlands\",\"Austria\",\"Poland\",\"Portugal\",\"Romania\",\"Slovenia\",\"Slovakia\",\"Finland\",\"Sweden\"],\"locations\":[\"BEL\",\"BGR\",\"CZE\",\"DNK\",\"DEU\",\"EST\",\"IRL\",\"GRC\",\"ESP\",\"FRA\",\"HRV\",\"ITA\",\"CYP\",\"LVA\",\"LTU\",\"LUX\",\"HUN\",\"MLT\",\"NLD\",\"AUT\",\"POL\",\"PRT\",\"ROU\",\"SVN\",\"SVK\",\"FIN\",\"SWE\"],\"name\":\"\",\"z\":[3529.0,1149.0,2849.43,5081.8,31324.24,771.6,5600.7,730.6,6559.18,24459.76,717.0,11281.26,163.27,912.0,1719.51,295.86,1772.76,40.92,12407.69,3393.06,12718.0,1847.98,3966.0,595.5,911.96,2327.8,2869.58],\"type\":\"choropleth\"}],\"name\":\"2013\"},{\"data\":[{\"coloraxis\":\"coloraxis\",\"geo\":\"geo\",\"hovertemplate\":\"<b>%{hovertext}</b><br><br>Year=2014<br>Code=%{location}<br>Amount=%{z}<extra></extra>\",\"hovertext\":[\"Belgium\",\"Bulgaria\",\"Czechia\",\"Denmark\",\"Germany\",\"Estonia\",\"Ireland\",\"Greece\",\"Spain\",\"France\",\"Croatia\",\"Italy\",\"Cyprus\",\"Latvia\",\"Lithuania\",\"Luxembourg\",\"Hungary\",\"Malta\",\"Netherlands\",\"Austria\",\"Poland\",\"Portugal\",\"Romania\",\"Slovenia\",\"Slovakia\",\"Finland\",\"Sweden\"],\"locations\":[\"BEL\",\"BGR\",\"CZE\",\"DNK\",\"DEU\",\"EST\",\"IRL\",\"GRC\",\"ESP\",\"FRA\",\"HRV\",\"ITA\",\"CYP\",\"LVA\",\"LTU\",\"LUX\",\"HUN\",\"MLT\",\"NLD\",\"AUT\",\"POL\",\"PRT\",\"ROU\",\"SVN\",\"SVK\",\"FIN\",\"SWE\"],\"name\":\"\",\"z\":[3710.0,1103.0,2933.46,5162.0,32381.06,804.8,5821.3,769.0,6779.75,25728.32,712.0,11500.0,164.64,968.9,1791.13,317.05,1875.72,42.77,12660.35,3493.86,12986.0,1942.78,4101.0,616.58,930.71,2400.01,2931.65],\"type\":\"choropleth\"}],\"name\":\"2014\"},{\"data\":[{\"coloraxis\":\"coloraxis\",\"geo\":\"geo\",\"hovertemplate\":\"<b>%{hovertext}</b><br><br>Year=2015<br>Code=%{location}<br>Amount=%{z}<extra></extra>\",\"hovertext\":[\"Belgium\",\"Bulgaria\",\"Czechia\",\"Denmark\",\"Germany\",\"Estonia\",\"Ireland\",\"Greece\",\"Spain\",\"France\",\"Croatia\",\"Italy\",\"Cyprus\",\"Latvia\",\"Lithuania\",\"Luxembourg\",\"Hungary\",\"Malta\",\"Netherlands\",\"Austria\",\"Poland\",\"Portugal\",\"Romania\",\"Slovenia\",\"Slovakia\",\"Finland\",\"Sweden\"],\"locations\":[\"BEL\",\"BGR\",\"CZE\",\"DNK\",\"DEU\",\"EST\",\"IRL\",\"GRC\",\"ESP\",\"FRA\",\"HRV\",\"ITA\",\"CYP\",\"LVA\",\"LTU\",\"LUX\",\"HUN\",\"MLT\",\"NLD\",\"AUT\",\"POL\",\"PRT\",\"ROU\",\"SVN\",\"SVK\",\"FIN\",\"SWE\"],\"name\":\"\",\"z\":[3826.0,1028.04,3025.88,5335.7,32670.88,782.7,6604.41,770.0,7029.48,25820.27,694.0,11425.94,165.3,975.4,1734.73,346.25,1941.33,41.57,13522.12,3537.76,13236.23,2013.78,3981.0,631.67,930.98,2436.76,2933.16],\"type\":\"choropleth\"}],\"name\":\"2015\"},{\"data\":[{\"coloraxis\":\"coloraxis\",\"geo\":\"geo\",\"hovertemplate\":\"<b>%{hovertext}</b><br><br>Year=2016<br>Code=%{location}<br>Amount=%{z}<extra></extra>\",\"hovertext\":[\"Belgium\",\"Bulgaria\",\"Czechia\",\"Denmark\",\"Germany\",\"Estonia\",\"Ireland\",\"Greece\",\"Spain\",\"France\",\"Croatia\",\"Italy\",\"Cyprus\",\"Latvia\",\"Lithuania\",\"Luxembourg\",\"Hungary\",\"Malta\",\"Netherlands\",\"Austria\",\"Poland\",\"Portugal\",\"Romania\",\"Slovenia\",\"Slovakia\",\"Finland\",\"Sweden\"],\"locations\":[\"BEL\",\"BGR\",\"CZE\",\"DNK\",\"DEU\",\"EST\",\"IRL\",\"GRC\",\"ESP\",\"FRA\",\"HRV\",\"ITA\",\"CYP\",\"LVA\",\"LTU\",\"LUX\",\"HUN\",\"MLT\",\"NLD\",\"AUT\",\"POL\",\"PRT\",\"ROU\",\"SVN\",\"SVK\",\"FIN\",\"SWE\"],\"name\":\"\",\"z\":[3933.0,1018.58,3064.73,5435.7,32672.34,782.7,6871.94,706.0,7123.77,25138.93,671.0,11886.04,186.02,983.5,1623.87,376.22,1918.23,43.13,14531.0,3627.61,13244.17,1922.97,3934.0,649.68,905.26,2429.59,2862.23],\"type\":\"choropleth\"}],\"name\":\"2016\"},{\"data\":[{\"coloraxis\":\"coloraxis\",\"geo\":\"geo\",\"hovertemplate\":\"<b>%{hovertext}</b><br><br>Year=2017<br>Code=%{location}<br>Amount=%{z}<extra></extra>\",\"hovertext\":[\"Belgium\",\"Bulgaria\",\"Czechia\",\"Denmark\",\"Germany\",\"Estonia\",\"Ireland\",\"Greece\",\"Spain\",\"France\",\"Croatia\",\"Italy\",\"Cyprus\",\"Latvia\",\"Lithuania\",\"Luxembourg\",\"Hungary\",\"Malta\",\"Netherlands\",\"Austria\",\"Poland\",\"Portugal\",\"Romania\",\"Slovenia\",\"Slovakia\",\"Finland\",\"Sweden\"],\"locations\":[\"BEL\",\"BGR\",\"CZE\",\"DNK\",\"DEU\",\"EST\",\"IRL\",\"GRC\",\"ESP\",\"FRA\",\"HRV\",\"ITA\",\"CYP\",\"LVA\",\"LTU\",\"LUX\",\"HUN\",\"MLT\",\"NLD\",\"AUT\",\"POL\",\"PRT\",\"ROU\",\"SVN\",\"SVK\",\"FIN\",\"SWE\"],\"name\":\"\",\"z\":[4060.0,968.18,3079.21,5502.2,32598.2,790.0,7498.94,670.0,7229.35,25055.2,648.0,12198.88,216.39,998.0,1566.65,387.18,1967.5,41.03,14501.0,3712.73,13694.47,1921.21,3797.7,647.99,911.73,2405.76,2816.66],\"type\":\"choropleth\"}],\"name\":\"2017\"},{\"data\":[{\"coloraxis\":\"coloraxis\",\"geo\":\"geo\",\"hovertemplate\":\"<b>%{hovertext}</b><br><br>Year=2018<br>Code=%{location}<br>Amount=%{z}<extra></extra>\",\"hovertext\":[\"Belgium\",\"Bulgaria\",\"Czechia\",\"Denmark\",\"Germany\",\"Estonia\",\"Ireland\",\"Greece\",\"Spain\",\"France\",\"Croatia\",\"Italy\",\"Cyprus\",\"Latvia\",\"Lithuania\",\"Luxembourg\",\"Hungary\",\"Malta\",\"Netherlands\",\"Austria\",\"Poland\",\"Portugal\",\"Romania\",\"Slovenia\",\"Slovakia\",\"Finland\",\"Sweden\"],\"locations\":[\"BEL\",\"BGR\",\"CZE\",\"DNK\",\"DEU\",\"EST\",\"IRL\",\"GRC\",\"ESP\",\"FRA\",\"HRV\",\"ITA\",\"CYP\",\"LVA\",\"LTU\",\"LUX\",\"HUN\",\"MLT\",\"NLD\",\"AUT\",\"POL\",\"PRT\",\"ROU\",\"SVN\",\"SVK\",\"FIN\",\"SWE\"],\"name\":\"\",\"z\":[4195.0,898.77,3161.51,5615.2,33086.81,796.9,7831.25,654.8,7335.62,25055.1,618.0,12339.75,228.08,980.2,1568.01,407.62,1948.83,40.41,14090.0,3821.19,14171.15,1939.67,3797.6,628.93,904.62,2397.88,2760.23],\"type\":\"choropleth\"}],\"name\":\"2018\"},{\"data\":[{\"coloraxis\":\"coloraxis\",\"geo\":\"geo\",\"hovertemplate\":\"<b>%{hovertext}</b><br><br>Year=2019<br>Code=%{location}<br>Amount=%{z}<extra></extra>\",\"hovertext\":[\"Belgium\",\"Bulgaria\",\"Czechia\",\"Denmark\",\"Germany\",\"Estonia\",\"Ireland\",\"Greece\",\"Spain\",\"France\",\"Croatia\",\"Italy\",\"Cyprus\",\"Latvia\",\"Lithuania\",\"Luxembourg\",\"Hungary\",\"Malta\",\"Netherlands\",\"Austria\",\"Poland\",\"Portugal\",\"Romania\",\"Slovenia\",\"Slovakia\",\"Finland\",\"Sweden\"],\"locations\":[\"BEL\",\"BGR\",\"CZE\",\"DNK\",\"DEU\",\"EST\",\"IRL\",\"GRC\",\"ESP\",\"FRA\",\"HRV\",\"ITA\",\"CYP\",\"LVA\",\"LTU\",\"LUX\",\"HUN\",\"MLT\",\"NLD\",\"AUT\",\"POL\",\"PRT\",\"ROU\",\"SVN\",\"SVK\",\"FIN\",\"SWE\"],\"name\":\"\",\"z\":[4293.0,822.3,3155.79,5615.0,33080.18,820.8,8244.87,659.38,7460.36,25062.0,599.0,12494.4,238.76,978.9,1547.43,421.26,1962.78,41.27,14555.0,3781.34,14502.76,1975.49,3663.2,623.02,904.26,2374.36,2704.39],\"type\":\"choropleth\"}],\"name\":\"2019\"},{\"data\":[{\"coloraxis\":\"coloraxis\",\"geo\":\"geo\",\"hovertemplate\":\"<b>%{hovertext}</b><br><br>Year=2020<br>Code=%{location}<br>Amount=%{z}<extra></extra>\",\"hovertext\":[\"Belgium\",\"Bulgaria\",\"Czechia\",\"Denmark\",\"Germany\",\"Estonia\",\"Ireland\",\"Greece\",\"Spain\",\"France\",\"Croatia\",\"Italy\",\"Cyprus\",\"Latvia\",\"Lithuania\",\"Luxembourg\",\"Hungary\",\"Malta\",\"Netherlands\",\"Austria\",\"Poland\",\"Portugal\",\"Romania\",\"Slovenia\",\"Slovakia\",\"Finland\",\"Sweden\"],\"locations\":[\"BEL\",\"BGR\",\"CZE\",\"DNK\",\"DEU\",\"EST\",\"IRL\",\"GRC\",\"ESP\",\"FRA\",\"HRV\",\"ITA\",\"CYP\",\"LVA\",\"LTU\",\"LUX\",\"HUN\",\"MLT\",\"NLD\",\"AUT\",\"POL\",\"PRT\",\"ROU\",\"SVN\",\"SVK\",\"FIN\",\"SWE\"],\"name\":\"\",\"z\":[4449.0,881.76,3267.73,5666.0,33164.91,848.3,8561.47,683.46,7606.07,25234.84,596.0,12712.48,275.16,988.2,1488.0,447.34,2014.33,42.11,14522.0,3815.47,14821.82,1993.61,3679.6,630.65,917.69,2406.52,2772.74],\"type\":\"choropleth\"}],\"name\":\"2020\"},{\"data\":[{\"coloraxis\":\"coloraxis\",\"geo\":\"geo\",\"hovertemplate\":\"<b>%{hovertext}</b><br><br>Year=2021<br>Code=%{location}<br>Amount=%{z}<extra></extra>\",\"hovertext\":[\"Belgium\",\"Bulgaria\",\"Czechia\",\"Denmark\",\"Germany\",\"Estonia\",\"Ireland\",\"Greece\",\"Spain\",\"France\",\"Croatia\",\"Italy\",\"Cyprus\",\"Latvia\",\"Lithuania\",\"Luxembourg\",\"Hungary\",\"Malta\",\"Netherlands\",\"Austria\",\"Poland\",\"Portugal\",\"Romania\",\"Slovenia\",\"Slovakia\",\"Finland\",\"Sweden\"],\"locations\":[\"BEL\",\"BGR\",\"CZE\",\"DNK\",\"DEU\",\"EST\",\"IRL\",\"GRC\",\"ESP\",\"FRA\",\"HRV\",\"ITA\",\"CYP\",\"LVA\",\"LTU\",\"LUX\",\"HUN\",\"MLT\",\"NLD\",\"AUT\",\"POL\",\"PRT\",\"ROU\",\"SVN\",\"SVK\",\"FIN\",\"SWE\"],\"name\":\"\",\"z\":[4434.0,835.78,3309.91,5644.0,32506.91,838.7,9039.99,710.93,7623.09,24778.84,558.0,13202.45,298.14,990.31,1473.28,443.28,2080.23,39.54,14217.25,3830.14,14881.11,1995.55,3637.0,639.93,902.64,2161.46,2782.22],\"type\":\"choropleth\"}],\"name\":\"2021\"}]);\n",
       "                        }).then(function(){\n",
       "                            \n",
       "var gd = document.getElementById('fce1b405-e265-4dc6-9cc4-e63e9d7b8f1e');\n",
       "var x = new MutationObserver(function (mutations, observer) {{\n",
       "        var display = window.getComputedStyle(gd).display;\n",
       "        if (!display || display === 'none') {{\n",
       "            console.log([gd, 'removed!']);\n",
       "            Plotly.purge(gd);\n",
       "            observer.disconnect();\n",
       "        }}\n",
       "}});\n",
       "\n",
       "// Listen for the removal of the full notebook cells\n",
       "var notebookContainer = gd.closest('#notebook-container');\n",
       "if (notebookContainer) {{\n",
       "    x.observe(notebookContainer, {childList: true});\n",
       "}}\n",
       "\n",
       "// Listen for the clearing of the current output cell\n",
       "var outputEl = gd.closest('.output');\n",
       "if (outputEl) {{\n",
       "    x.observe(outputEl, {childList: true});\n",
       "}}\n",
       "\n",
       "                        })                };                });            </script>        </div>"
      ]
     },
     "metadata": {},
     "output_type": "display_data"
    }
   ],
   "source": [
    "fig = px.choropleth(Milk_Production_EU, locations=\"Code\",\n",
    "                    color=\"Amount\", \n",
    "                    hover_name=\"Country\", \n",
    "                    # column to add to hover information\n",
    "                    animation_frame=\"Year\", \n",
    "                    # column on which to animate\n",
    "                    color_continuous_scale=px.colors.sequential.Plasma)\n",
    "                    \n",
    "fig.update_layout(\n",
    "    # add a title text for the plot\n",
    "    title_text = 'Milk Production and Utilisation in EU',\n",
    "    # set projection style for the plot\n",
    "    geo_scope = 'europe'\n",
    ")\n",
    "fig.show()\n"
   ]
  },
  {
   "cell_type": "markdown",
   "id": "797f205b",
   "metadata": {},
   "source": [
    "### B. Milk Production in  EU"
   ]
  },
  {
   "cell_type": "code",
   "execution_count": 46,
   "id": "101609dd",
   "metadata": {},
   "outputs": [
    {
     "data": {
      "text/html": [
       "<div>\n",
       "<style scoped>\n",
       "    .dataframe tbody tr th:only-of-type {\n",
       "        vertical-align: middle;\n",
       "    }\n",
       "\n",
       "    .dataframe tbody tr th {\n",
       "        vertical-align: top;\n",
       "    }\n",
       "\n",
       "    .dataframe thead th {\n",
       "        text-align: right;\n",
       "    }\n",
       "</style>\n",
       "<table border=\"1\" class=\"dataframe\">\n",
       "  <thead>\n",
       "    <tr style=\"text-align: right;\">\n",
       "      <th></th>\n",
       "      <th>Country</th>\n",
       "      <th>Year</th>\n",
       "      <th>Amount</th>\n",
       "    </tr>\n",
       "  </thead>\n",
       "  <tbody>\n",
       "    <tr>\n",
       "      <th>0</th>\n",
       "      <td>Belgium</td>\n",
       "      <td>2011</td>\n",
       "      <td>510.65</td>\n",
       "    </tr>\n",
       "    <tr>\n",
       "      <th>1</th>\n",
       "      <td>Bulgaria</td>\n",
       "      <td>2011</td>\n",
       "      <td>313.18</td>\n",
       "    </tr>\n",
       "    <tr>\n",
       "      <th>2</th>\n",
       "      <td>Czechia</td>\n",
       "      <td>2011</td>\n",
       "      <td>374.07</td>\n",
       "    </tr>\n",
       "    <tr>\n",
       "      <th>3</th>\n",
       "      <td>Denmark</td>\n",
       "      <td>2011</td>\n",
       "      <td>579.00</td>\n",
       "    </tr>\n",
       "    <tr>\n",
       "      <th>4</th>\n",
       "      <td>Germany</td>\n",
       "      <td>2011</td>\n",
       "      <td>4190.10</td>\n",
       "    </tr>\n",
       "    <tr>\n",
       "      <th>...</th>\n",
       "      <td>...</td>\n",
       "      <td>...</td>\n",
       "      <td>...</td>\n",
       "    </tr>\n",
       "    <tr>\n",
       "      <th>292</th>\n",
       "      <td>Romania</td>\n",
       "      <td>2021</td>\n",
       "      <td>1081.90</td>\n",
       "    </tr>\n",
       "    <tr>\n",
       "      <th>293</th>\n",
       "      <td>Slovenia</td>\n",
       "      <td>2021</td>\n",
       "      <td>100.92</td>\n",
       "    </tr>\n",
       "    <tr>\n",
       "      <th>294</th>\n",
       "      <td>Slovakia</td>\n",
       "      <td>2021</td>\n",
       "      <td>120.07</td>\n",
       "    </tr>\n",
       "    <tr>\n",
       "      <th>295</th>\n",
       "      <td>Finland</td>\n",
       "      <td>2021</td>\n",
       "      <td>248.53</td>\n",
       "    </tr>\n",
       "    <tr>\n",
       "      <th>296</th>\n",
       "      <td>Sweden</td>\n",
       "      <td>2021</td>\n",
       "      <td>299.60</td>\n",
       "    </tr>\n",
       "  </tbody>\n",
       "</table>\n",
       "<p>297 rows × 3 columns</p>\n",
       "</div>"
      ],
      "text/plain": [
       "      Country  Year   Amount\n",
       "0     Belgium  2011   510.65\n",
       "1    Bulgaria  2011   313.18\n",
       "2     Czechia  2011   374.07\n",
       "3     Denmark  2011   579.00\n",
       "4     Germany  2011  4190.10\n",
       "..        ...   ...      ...\n",
       "292   Romania  2021  1081.90\n",
       "293  Slovenia  2021   100.92\n",
       "294  Slovakia  2021   120.07\n",
       "295   Finland  2021   248.53\n",
       "296    Sweden  2021   299.60\n",
       "\n",
       "[297 rows x 3 columns]"
      ]
     },
     "execution_count": 46,
     "metadata": {},
     "output_type": "execute_result"
    }
   ],
   "source": [
    "Bovine_EU = pd.read_csv(\"Bovine_new_data.csv\")\n",
    "Bovine_EU"
   ]
  },
  {
   "cell_type": "markdown",
   "id": "08b80a53",
   "metadata": {},
   "source": [
    "Again, I am adding a column for country codes"
   ]
  },
  {
   "cell_type": "code",
   "execution_count": 47,
   "id": "1998d80b",
   "metadata": {},
   "outputs": [
    {
     "name": "stdout",
     "output_type": "stream",
     "text": [
      "      Country  Year    Amount Code\n",
      "0     Belgium  2011   3151.00  BEL\n",
      "1    Bulgaria  2011   1126.00  BGR\n",
      "2     Czechia  2011   2735.93  CZE\n",
      "3     Denmark  2011   4879.50  DNK\n",
      "4     Germany  2011  30301.36  DEU\n",
      "..        ...   ...       ...  ...\n",
      "292   Romania  2021   3637.00  ROU\n",
      "293  Slovenia  2021    639.93  SVN\n",
      "294  Slovakia  2021    902.64  SVK\n",
      "295   Finland  2021   2161.46  FIN\n",
      "296    Sweden  2021   2782.22  SWE\n",
      "\n",
      "[297 rows x 4 columns]\n"
     ]
    }
   ],
   "source": [
    "#Create copy of country column as alpha-3\n",
    "Bovine_EU['Code'] = Bovine_EU['Country']\n",
    "\n",
    "#Create a look up with required values\n",
    "lookup_table = {'Belgium': 'BEL' , 'Bulgaria': 'BGR' , 'Czechia': 'CZE' , 'Denmark': 'DNK' , 'Germany': 'DEU' , 'Estonia' : 'EST' , 'Ireland': 'IRL' , 'Greece': 'GRC', 'Spain': 'ESP', 'France': 'FRA' , 'Croatia': 'HRV' , 'Italy': 'ITA' , 'Cyprus': 'CYP' , 'Latvia': 'LVA' , 'Lithuania': 'LTU' , 'Luxembourg': 'LUX' , 'Hungary': 'HUN', 'Malta': 'MLT' , 'Netherlands': 'NLD' , 'Austria': 'AUT', 'Poland': 'POL', 'Portugal':'PRT' , 'Romania':'ROU', 'Slovenia': 'SVN', 'Slovakia': 'SVK', 'Finland' :'FIN', 'Sweden':'SWE'}\n",
    "\n",
    "#replace the alpha-3 column with lookup values.\n",
    "Bovine_EU = Milk_Production_EU.replace({'Code':lookup_table})\n",
    "print(Bovine_EU)"
   ]
  },
  {
   "cell_type": "code",
   "execution_count": 48,
   "id": "53faa849",
   "metadata": {},
   "outputs": [
    {
     "data": {
      "application/vnd.plotly.v1+json": {
       "config": {
        "plotlyServerURL": "https://plot.ly"
       },
       "data": [
        {
         "coloraxis": "coloraxis",
         "geo": "geo",
         "hovertemplate": "<b>%{hovertext}</b><br><br>Year=2011<br>Code=%{location}<br>Amount=%{z}<extra></extra>",
         "hovertext": [
          "Belgium",
          "Bulgaria",
          "Czechia",
          "Denmark",
          "Germany",
          "Estonia",
          "Ireland",
          "Greece",
          "Spain",
          "France",
          "Croatia",
          "Italy",
          "Cyprus",
          "Latvia",
          "Lithuania",
          "Luxembourg",
          "Hungary",
          "Malta",
          "Netherlands",
          "Austria",
          "Poland",
          "Portugal",
          "Romania",
          "Slovenia",
          "Slovakia",
          "Finland",
          "Sweden"
         ],
         "locations": [
          "BEL",
          "BGR",
          "CZE",
          "DNK",
          "DEU",
          "EST",
          "IRL",
          "GRC",
          "ESP",
          "FRA",
          "HRV",
          "ITA",
          "CYP",
          "LVA",
          "LTU",
          "LUX",
          "HUN",
          "MLT",
          "NLD",
          "AUT",
          "POL",
          "PRT",
          "ROU",
          "SVN",
          "SVK",
          "FIN",
          "SWE"
         ],
         "name": "",
         "type": "choropleth",
         "z": [
          3151,
          1126,
          2735.93,
          4879.5,
          30301.36,
          692.4,
          5556.2,
          757,
          6487.68,
          25091.93,
          804,
          11298.61,
          156.02,
          841.7,
          1782.32,
          292.25,
          1712.48,
          33.89,
          11850.72,
          3307.13,
          12414,
          1918.52,
          4075,
          601.59,
          928.32,
          2300.73,
          2850.4
         ]
        }
       ],
       "frames": [
        {
         "data": [
          {
           "coloraxis": "coloraxis",
           "geo": "geo",
           "hovertemplate": "<b>%{hovertext}</b><br><br>Year=2011<br>Code=%{location}<br>Amount=%{z}<extra></extra>",
           "hovertext": [
            "Belgium",
            "Bulgaria",
            "Czechia",
            "Denmark",
            "Germany",
            "Estonia",
            "Ireland",
            "Greece",
            "Spain",
            "France",
            "Croatia",
            "Italy",
            "Cyprus",
            "Latvia",
            "Lithuania",
            "Luxembourg",
            "Hungary",
            "Malta",
            "Netherlands",
            "Austria",
            "Poland",
            "Portugal",
            "Romania",
            "Slovenia",
            "Slovakia",
            "Finland",
            "Sweden"
           ],
           "locations": [
            "BEL",
            "BGR",
            "CZE",
            "DNK",
            "DEU",
            "EST",
            "IRL",
            "GRC",
            "ESP",
            "FRA",
            "HRV",
            "ITA",
            "CYP",
            "LVA",
            "LTU",
            "LUX",
            "HUN",
            "MLT",
            "NLD",
            "AUT",
            "POL",
            "PRT",
            "ROU",
            "SVN",
            "SVK",
            "FIN",
            "SWE"
           ],
           "name": "",
           "type": "choropleth",
           "z": [
            3151,
            1126,
            2735.93,
            4879.5,
            30301.36,
            692.4,
            5556.2,
            757,
            6487.68,
            25091.93,
            804,
            11298.61,
            156.02,
            841.7,
            1782.32,
            292.25,
            1712.48,
            33.89,
            11850.72,
            3307.13,
            12414,
            1918.52,
            4075,
            601.59,
            928.32,
            2300.73,
            2850.4
           ]
          }
         ],
         "name": "2011"
        },
        {
         "data": [
          {
           "coloraxis": "coloraxis",
           "geo": "geo",
           "hovertemplate": "<b>%{hovertext}</b><br><br>Year=2012<br>Code=%{location}<br>Amount=%{z}<extra></extra>",
           "hovertext": [
            "Belgium",
            "Bulgaria",
            "Czechia",
            "Denmark",
            "Germany",
            "Estonia",
            "Ireland",
            "Greece",
            "Spain",
            "France",
            "Croatia",
            "Italy",
            "Cyprus",
            "Latvia",
            "Lithuania",
            "Luxembourg",
            "Hungary",
            "Malta",
            "Netherlands",
            "Austria",
            "Poland",
            "Portugal",
            "Romania",
            "Slovenia",
            "Slovakia",
            "Finland",
            "Sweden"
           ],
           "locations": [
            "BEL",
            "BGR",
            "CZE",
            "DNK",
            "DEU",
            "EST",
            "IRL",
            "GRC",
            "ESP",
            "FRA",
            "HRV",
            "ITA",
            "CYP",
            "LVA",
            "LTU",
            "LUX",
            "HUN",
            "MLT",
            "NLD",
            "AUT",
            "POL",
            "PRT",
            "ROU",
            "SVN",
            "SVK",
            "FIN",
            "SWE"
           ],
           "name": "",
           "type": "choropleth",
           "z": [
            3116,
            1093,
            2814.68,
            5006.4,
            30672.15,
            720.7,
            5399.3,
            765.5,
            6502.41,
            24718.38,
            810,
            11500,
            153.74,
            870.6,
            1774.53,
            289.4,
            1812.85,
            33.89,
            11880.95,
            3382.1,
            12668,
            1938.13,
            3881,
            620.94,
            932.71,
            2296.68,
            2861.17
           ]
          }
         ],
         "name": "2012"
        },
        {
         "data": [
          {
           "coloraxis": "coloraxis",
           "geo": "geo",
           "hovertemplate": "<b>%{hovertext}</b><br><br>Year=2013<br>Code=%{location}<br>Amount=%{z}<extra></extra>",
           "hovertext": [
            "Belgium",
            "Bulgaria",
            "Czechia",
            "Denmark",
            "Germany",
            "Estonia",
            "Ireland",
            "Greece",
            "Spain",
            "France",
            "Croatia",
            "Italy",
            "Cyprus",
            "Latvia",
            "Lithuania",
            "Luxembourg",
            "Hungary",
            "Malta",
            "Netherlands",
            "Austria",
            "Poland",
            "Portugal",
            "Romania",
            "Slovenia",
            "Slovakia",
            "Finland",
            "Sweden"
           ],
           "locations": [
            "BEL",
            "BGR",
            "CZE",
            "DNK",
            "DEU",
            "EST",
            "IRL",
            "GRC",
            "ESP",
            "FRA",
            "HRV",
            "ITA",
            "CYP",
            "LVA",
            "LTU",
            "LUX",
            "HUN",
            "MLT",
            "NLD",
            "AUT",
            "POL",
            "PRT",
            "ROU",
            "SVN",
            "SVK",
            "FIN",
            "SWE"
           ],
           "name": "",
           "type": "choropleth",
           "z": [
            3529,
            1149,
            2849.43,
            5081.8,
            31324.24,
            771.6,
            5600.7,
            730.6,
            6559.18,
            24459.76,
            717,
            11281.26,
            163.27,
            912,
            1719.51,
            295.86,
            1772.76,
            40.92,
            12407.69,
            3393.06,
            12718,
            1847.98,
            3966,
            595.5,
            911.96,
            2327.8,
            2869.58
           ]
          }
         ],
         "name": "2013"
        },
        {
         "data": [
          {
           "coloraxis": "coloraxis",
           "geo": "geo",
           "hovertemplate": "<b>%{hovertext}</b><br><br>Year=2014<br>Code=%{location}<br>Amount=%{z}<extra></extra>",
           "hovertext": [
            "Belgium",
            "Bulgaria",
            "Czechia",
            "Denmark",
            "Germany",
            "Estonia",
            "Ireland",
            "Greece",
            "Spain",
            "France",
            "Croatia",
            "Italy",
            "Cyprus",
            "Latvia",
            "Lithuania",
            "Luxembourg",
            "Hungary",
            "Malta",
            "Netherlands",
            "Austria",
            "Poland",
            "Portugal",
            "Romania",
            "Slovenia",
            "Slovakia",
            "Finland",
            "Sweden"
           ],
           "locations": [
            "BEL",
            "BGR",
            "CZE",
            "DNK",
            "DEU",
            "EST",
            "IRL",
            "GRC",
            "ESP",
            "FRA",
            "HRV",
            "ITA",
            "CYP",
            "LVA",
            "LTU",
            "LUX",
            "HUN",
            "MLT",
            "NLD",
            "AUT",
            "POL",
            "PRT",
            "ROU",
            "SVN",
            "SVK",
            "FIN",
            "SWE"
           ],
           "name": "",
           "type": "choropleth",
           "z": [
            3710,
            1103,
            2933.46,
            5162,
            32381.06,
            804.8,
            5821.3,
            769,
            6779.75,
            25728.32,
            712,
            11500,
            164.64,
            968.9,
            1791.13,
            317.05,
            1875.72,
            42.77,
            12660.35,
            3493.86,
            12986,
            1942.78,
            4101,
            616.58,
            930.71,
            2400.01,
            2931.65
           ]
          }
         ],
         "name": "2014"
        },
        {
         "data": [
          {
           "coloraxis": "coloraxis",
           "geo": "geo",
           "hovertemplate": "<b>%{hovertext}</b><br><br>Year=2015<br>Code=%{location}<br>Amount=%{z}<extra></extra>",
           "hovertext": [
            "Belgium",
            "Bulgaria",
            "Czechia",
            "Denmark",
            "Germany",
            "Estonia",
            "Ireland",
            "Greece",
            "Spain",
            "France",
            "Croatia",
            "Italy",
            "Cyprus",
            "Latvia",
            "Lithuania",
            "Luxembourg",
            "Hungary",
            "Malta",
            "Netherlands",
            "Austria",
            "Poland",
            "Portugal",
            "Romania",
            "Slovenia",
            "Slovakia",
            "Finland",
            "Sweden"
           ],
           "locations": [
            "BEL",
            "BGR",
            "CZE",
            "DNK",
            "DEU",
            "EST",
            "IRL",
            "GRC",
            "ESP",
            "FRA",
            "HRV",
            "ITA",
            "CYP",
            "LVA",
            "LTU",
            "LUX",
            "HUN",
            "MLT",
            "NLD",
            "AUT",
            "POL",
            "PRT",
            "ROU",
            "SVN",
            "SVK",
            "FIN",
            "SWE"
           ],
           "name": "",
           "type": "choropleth",
           "z": [
            3826,
            1028.04,
            3025.88,
            5335.7,
            32670.88,
            782.7,
            6604.41,
            770,
            7029.48,
            25820.27,
            694,
            11425.94,
            165.3,
            975.4,
            1734.73,
            346.25,
            1941.33,
            41.57,
            13522.12,
            3537.76,
            13236.23,
            2013.78,
            3981,
            631.67,
            930.98,
            2436.76,
            2933.16
           ]
          }
         ],
         "name": "2015"
        },
        {
         "data": [
          {
           "coloraxis": "coloraxis",
           "geo": "geo",
           "hovertemplate": "<b>%{hovertext}</b><br><br>Year=2016<br>Code=%{location}<br>Amount=%{z}<extra></extra>",
           "hovertext": [
            "Belgium",
            "Bulgaria",
            "Czechia",
            "Denmark",
            "Germany",
            "Estonia",
            "Ireland",
            "Greece",
            "Spain",
            "France",
            "Croatia",
            "Italy",
            "Cyprus",
            "Latvia",
            "Lithuania",
            "Luxembourg",
            "Hungary",
            "Malta",
            "Netherlands",
            "Austria",
            "Poland",
            "Portugal",
            "Romania",
            "Slovenia",
            "Slovakia",
            "Finland",
            "Sweden"
           ],
           "locations": [
            "BEL",
            "BGR",
            "CZE",
            "DNK",
            "DEU",
            "EST",
            "IRL",
            "GRC",
            "ESP",
            "FRA",
            "HRV",
            "ITA",
            "CYP",
            "LVA",
            "LTU",
            "LUX",
            "HUN",
            "MLT",
            "NLD",
            "AUT",
            "POL",
            "PRT",
            "ROU",
            "SVN",
            "SVK",
            "FIN",
            "SWE"
           ],
           "name": "",
           "type": "choropleth",
           "z": [
            3933,
            1018.58,
            3064.73,
            5435.7,
            32672.34,
            782.7,
            6871.94,
            706,
            7123.77,
            25138.93,
            671,
            11886.04,
            186.02,
            983.5,
            1623.87,
            376.22,
            1918.23,
            43.13,
            14531,
            3627.61,
            13244.17,
            1922.97,
            3934,
            649.68,
            905.26,
            2429.59,
            2862.23
           ]
          }
         ],
         "name": "2016"
        },
        {
         "data": [
          {
           "coloraxis": "coloraxis",
           "geo": "geo",
           "hovertemplate": "<b>%{hovertext}</b><br><br>Year=2017<br>Code=%{location}<br>Amount=%{z}<extra></extra>",
           "hovertext": [
            "Belgium",
            "Bulgaria",
            "Czechia",
            "Denmark",
            "Germany",
            "Estonia",
            "Ireland",
            "Greece",
            "Spain",
            "France",
            "Croatia",
            "Italy",
            "Cyprus",
            "Latvia",
            "Lithuania",
            "Luxembourg",
            "Hungary",
            "Malta",
            "Netherlands",
            "Austria",
            "Poland",
            "Portugal",
            "Romania",
            "Slovenia",
            "Slovakia",
            "Finland",
            "Sweden"
           ],
           "locations": [
            "BEL",
            "BGR",
            "CZE",
            "DNK",
            "DEU",
            "EST",
            "IRL",
            "GRC",
            "ESP",
            "FRA",
            "HRV",
            "ITA",
            "CYP",
            "LVA",
            "LTU",
            "LUX",
            "HUN",
            "MLT",
            "NLD",
            "AUT",
            "POL",
            "PRT",
            "ROU",
            "SVN",
            "SVK",
            "FIN",
            "SWE"
           ],
           "name": "",
           "type": "choropleth",
           "z": [
            4060,
            968.18,
            3079.21,
            5502.2,
            32598.2,
            790,
            7498.94,
            670,
            7229.35,
            25055.2,
            648,
            12198.88,
            216.39,
            998,
            1566.65,
            387.18,
            1967.5,
            41.03,
            14501,
            3712.73,
            13694.47,
            1921.21,
            3797.7,
            647.99,
            911.73,
            2405.76,
            2816.66
           ]
          }
         ],
         "name": "2017"
        },
        {
         "data": [
          {
           "coloraxis": "coloraxis",
           "geo": "geo",
           "hovertemplate": "<b>%{hovertext}</b><br><br>Year=2018<br>Code=%{location}<br>Amount=%{z}<extra></extra>",
           "hovertext": [
            "Belgium",
            "Bulgaria",
            "Czechia",
            "Denmark",
            "Germany",
            "Estonia",
            "Ireland",
            "Greece",
            "Spain",
            "France",
            "Croatia",
            "Italy",
            "Cyprus",
            "Latvia",
            "Lithuania",
            "Luxembourg",
            "Hungary",
            "Malta",
            "Netherlands",
            "Austria",
            "Poland",
            "Portugal",
            "Romania",
            "Slovenia",
            "Slovakia",
            "Finland",
            "Sweden"
           ],
           "locations": [
            "BEL",
            "BGR",
            "CZE",
            "DNK",
            "DEU",
            "EST",
            "IRL",
            "GRC",
            "ESP",
            "FRA",
            "HRV",
            "ITA",
            "CYP",
            "LVA",
            "LTU",
            "LUX",
            "HUN",
            "MLT",
            "NLD",
            "AUT",
            "POL",
            "PRT",
            "ROU",
            "SVN",
            "SVK",
            "FIN",
            "SWE"
           ],
           "name": "",
           "type": "choropleth",
           "z": [
            4195,
            898.77,
            3161.51,
            5615.2,
            33086.81,
            796.9,
            7831.25,
            654.8,
            7335.62,
            25055.1,
            618,
            12339.75,
            228.08,
            980.2,
            1568.01,
            407.62,
            1948.83,
            40.41,
            14090,
            3821.19,
            14171.15,
            1939.67,
            3797.6,
            628.93,
            904.62,
            2397.88,
            2760.23
           ]
          }
         ],
         "name": "2018"
        },
        {
         "data": [
          {
           "coloraxis": "coloraxis",
           "geo": "geo",
           "hovertemplate": "<b>%{hovertext}</b><br><br>Year=2019<br>Code=%{location}<br>Amount=%{z}<extra></extra>",
           "hovertext": [
            "Belgium",
            "Bulgaria",
            "Czechia",
            "Denmark",
            "Germany",
            "Estonia",
            "Ireland",
            "Greece",
            "Spain",
            "France",
            "Croatia",
            "Italy",
            "Cyprus",
            "Latvia",
            "Lithuania",
            "Luxembourg",
            "Hungary",
            "Malta",
            "Netherlands",
            "Austria",
            "Poland",
            "Portugal",
            "Romania",
            "Slovenia",
            "Slovakia",
            "Finland",
            "Sweden"
           ],
           "locations": [
            "BEL",
            "BGR",
            "CZE",
            "DNK",
            "DEU",
            "EST",
            "IRL",
            "GRC",
            "ESP",
            "FRA",
            "HRV",
            "ITA",
            "CYP",
            "LVA",
            "LTU",
            "LUX",
            "HUN",
            "MLT",
            "NLD",
            "AUT",
            "POL",
            "PRT",
            "ROU",
            "SVN",
            "SVK",
            "FIN",
            "SWE"
           ],
           "name": "",
           "type": "choropleth",
           "z": [
            4293,
            822.3,
            3155.79,
            5615,
            33080.18,
            820.8,
            8244.87,
            659.38,
            7460.36,
            25062,
            599,
            12494.4,
            238.76,
            978.9,
            1547.43,
            421.26,
            1962.78,
            41.27,
            14555,
            3781.34,
            14502.76,
            1975.49,
            3663.2,
            623.02,
            904.26,
            2374.36,
            2704.39
           ]
          }
         ],
         "name": "2019"
        },
        {
         "data": [
          {
           "coloraxis": "coloraxis",
           "geo": "geo",
           "hovertemplate": "<b>%{hovertext}</b><br><br>Year=2020<br>Code=%{location}<br>Amount=%{z}<extra></extra>",
           "hovertext": [
            "Belgium",
            "Bulgaria",
            "Czechia",
            "Denmark",
            "Germany",
            "Estonia",
            "Ireland",
            "Greece",
            "Spain",
            "France",
            "Croatia",
            "Italy",
            "Cyprus",
            "Latvia",
            "Lithuania",
            "Luxembourg",
            "Hungary",
            "Malta",
            "Netherlands",
            "Austria",
            "Poland",
            "Portugal",
            "Romania",
            "Slovenia",
            "Slovakia",
            "Finland",
            "Sweden"
           ],
           "locations": [
            "BEL",
            "BGR",
            "CZE",
            "DNK",
            "DEU",
            "EST",
            "IRL",
            "GRC",
            "ESP",
            "FRA",
            "HRV",
            "ITA",
            "CYP",
            "LVA",
            "LTU",
            "LUX",
            "HUN",
            "MLT",
            "NLD",
            "AUT",
            "POL",
            "PRT",
            "ROU",
            "SVN",
            "SVK",
            "FIN",
            "SWE"
           ],
           "name": "",
           "type": "choropleth",
           "z": [
            4449,
            881.76,
            3267.73,
            5666,
            33164.91,
            848.3,
            8561.47,
            683.46,
            7606.07,
            25234.84,
            596,
            12712.48,
            275.16,
            988.2,
            1488,
            447.34,
            2014.33,
            42.11,
            14522,
            3815.47,
            14821.82,
            1993.61,
            3679.6,
            630.65,
            917.69,
            2406.52,
            2772.74
           ]
          }
         ],
         "name": "2020"
        },
        {
         "data": [
          {
           "coloraxis": "coloraxis",
           "geo": "geo",
           "hovertemplate": "<b>%{hovertext}</b><br><br>Year=2021<br>Code=%{location}<br>Amount=%{z}<extra></extra>",
           "hovertext": [
            "Belgium",
            "Bulgaria",
            "Czechia",
            "Denmark",
            "Germany",
            "Estonia",
            "Ireland",
            "Greece",
            "Spain",
            "France",
            "Croatia",
            "Italy",
            "Cyprus",
            "Latvia",
            "Lithuania",
            "Luxembourg",
            "Hungary",
            "Malta",
            "Netherlands",
            "Austria",
            "Poland",
            "Portugal",
            "Romania",
            "Slovenia",
            "Slovakia",
            "Finland",
            "Sweden"
           ],
           "locations": [
            "BEL",
            "BGR",
            "CZE",
            "DNK",
            "DEU",
            "EST",
            "IRL",
            "GRC",
            "ESP",
            "FRA",
            "HRV",
            "ITA",
            "CYP",
            "LVA",
            "LTU",
            "LUX",
            "HUN",
            "MLT",
            "NLD",
            "AUT",
            "POL",
            "PRT",
            "ROU",
            "SVN",
            "SVK",
            "FIN",
            "SWE"
           ],
           "name": "",
           "type": "choropleth",
           "z": [
            4434,
            835.78,
            3309.91,
            5644,
            32506.91,
            838.7,
            9039.99,
            710.93,
            7623.09,
            24778.84,
            558,
            13202.45,
            298.14,
            990.31,
            1473.28,
            443.28,
            2080.23,
            39.54,
            14217.25,
            3830.14,
            14881.11,
            1995.55,
            3637,
            639.93,
            902.64,
            2161.46,
            2782.22
           ]
          }
         ],
         "name": "2021"
        }
       ],
       "layout": {
        "coloraxis": {
         "colorbar": {
          "title": {
           "text": "Amount"
          }
         },
         "colorscale": [
          [
           0,
           "#0d0887"
          ],
          [
           0.1111111111111111,
           "#46039f"
          ],
          [
           0.2222222222222222,
           "#7201a8"
          ],
          [
           0.3333333333333333,
           "#9c179e"
          ],
          [
           0.4444444444444444,
           "#bd3786"
          ],
          [
           0.5555555555555556,
           "#d8576b"
          ],
          [
           0.6666666666666666,
           "#ed7953"
          ],
          [
           0.7777777777777778,
           "#fb9f3a"
          ],
          [
           0.8888888888888888,
           "#fdca26"
          ],
          [
           1,
           "#f0f921"
          ]
         ]
        },
        "geo": {
         "center": {},
         "domain": {
          "x": [
           0,
           1
          ],
          "y": [
           0,
           1
          ]
         },
         "scope": "europe"
        },
        "legend": {
         "tracegroupgap": 0
        },
        "margin": {
         "t": 60
        },
        "sliders": [
         {
          "active": 0,
          "currentvalue": {
           "prefix": "Year="
          },
          "len": 0.9,
          "pad": {
           "b": 10,
           "t": 60
          },
          "steps": [
           {
            "args": [
             [
              "2011"
             ],
             {
              "frame": {
               "duration": 0,
               "redraw": true
              },
              "fromcurrent": true,
              "mode": "immediate",
              "transition": {
               "duration": 0,
               "easing": "linear"
              }
             }
            ],
            "label": "2011",
            "method": "animate"
           },
           {
            "args": [
             [
              "2012"
             ],
             {
              "frame": {
               "duration": 0,
               "redraw": true
              },
              "fromcurrent": true,
              "mode": "immediate",
              "transition": {
               "duration": 0,
               "easing": "linear"
              }
             }
            ],
            "label": "2012",
            "method": "animate"
           },
           {
            "args": [
             [
              "2013"
             ],
             {
              "frame": {
               "duration": 0,
               "redraw": true
              },
              "fromcurrent": true,
              "mode": "immediate",
              "transition": {
               "duration": 0,
               "easing": "linear"
              }
             }
            ],
            "label": "2013",
            "method": "animate"
           },
           {
            "args": [
             [
              "2014"
             ],
             {
              "frame": {
               "duration": 0,
               "redraw": true
              },
              "fromcurrent": true,
              "mode": "immediate",
              "transition": {
               "duration": 0,
               "easing": "linear"
              }
             }
            ],
            "label": "2014",
            "method": "animate"
           },
           {
            "args": [
             [
              "2015"
             ],
             {
              "frame": {
               "duration": 0,
               "redraw": true
              },
              "fromcurrent": true,
              "mode": "immediate",
              "transition": {
               "duration": 0,
               "easing": "linear"
              }
             }
            ],
            "label": "2015",
            "method": "animate"
           },
           {
            "args": [
             [
              "2016"
             ],
             {
              "frame": {
               "duration": 0,
               "redraw": true
              },
              "fromcurrent": true,
              "mode": "immediate",
              "transition": {
               "duration": 0,
               "easing": "linear"
              }
             }
            ],
            "label": "2016",
            "method": "animate"
           },
           {
            "args": [
             [
              "2017"
             ],
             {
              "frame": {
               "duration": 0,
               "redraw": true
              },
              "fromcurrent": true,
              "mode": "immediate",
              "transition": {
               "duration": 0,
               "easing": "linear"
              }
             }
            ],
            "label": "2017",
            "method": "animate"
           },
           {
            "args": [
             [
              "2018"
             ],
             {
              "frame": {
               "duration": 0,
               "redraw": true
              },
              "fromcurrent": true,
              "mode": "immediate",
              "transition": {
               "duration": 0,
               "easing": "linear"
              }
             }
            ],
            "label": "2018",
            "method": "animate"
           },
           {
            "args": [
             [
              "2019"
             ],
             {
              "frame": {
               "duration": 0,
               "redraw": true
              },
              "fromcurrent": true,
              "mode": "immediate",
              "transition": {
               "duration": 0,
               "easing": "linear"
              }
             }
            ],
            "label": "2019",
            "method": "animate"
           },
           {
            "args": [
             [
              "2020"
             ],
             {
              "frame": {
               "duration": 0,
               "redraw": true
              },
              "fromcurrent": true,
              "mode": "immediate",
              "transition": {
               "duration": 0,
               "easing": "linear"
              }
             }
            ],
            "label": "2020",
            "method": "animate"
           },
           {
            "args": [
             [
              "2021"
             ],
             {
              "frame": {
               "duration": 0,
               "redraw": true
              },
              "fromcurrent": true,
              "mode": "immediate",
              "transition": {
               "duration": 0,
               "easing": "linear"
              }
             }
            ],
            "label": "2021",
            "method": "animate"
           }
          ],
          "x": 0.1,
          "xanchor": "left",
          "y": 0,
          "yanchor": "top"
         }
        ],
        "template": {
         "data": {
          "bar": [
           {
            "error_x": {
             "color": "#2a3f5f"
            },
            "error_y": {
             "color": "#2a3f5f"
            },
            "marker": {
             "line": {
              "color": "#E5ECF6",
              "width": 0.5
             },
             "pattern": {
              "fillmode": "overlay",
              "size": 10,
              "solidity": 0.2
             }
            },
            "type": "bar"
           }
          ],
          "barpolar": [
           {
            "marker": {
             "line": {
              "color": "#E5ECF6",
              "width": 0.5
             },
             "pattern": {
              "fillmode": "overlay",
              "size": 10,
              "solidity": 0.2
             }
            },
            "type": "barpolar"
           }
          ],
          "carpet": [
           {
            "aaxis": {
             "endlinecolor": "#2a3f5f",
             "gridcolor": "white",
             "linecolor": "white",
             "minorgridcolor": "white",
             "startlinecolor": "#2a3f5f"
            },
            "baxis": {
             "endlinecolor": "#2a3f5f",
             "gridcolor": "white",
             "linecolor": "white",
             "minorgridcolor": "white",
             "startlinecolor": "#2a3f5f"
            },
            "type": "carpet"
           }
          ],
          "choropleth": [
           {
            "colorbar": {
             "outlinewidth": 0,
             "ticks": ""
            },
            "type": "choropleth"
           }
          ],
          "contour": [
           {
            "colorbar": {
             "outlinewidth": 0,
             "ticks": ""
            },
            "colorscale": [
             [
              0,
              "#0d0887"
             ],
             [
              0.1111111111111111,
              "#46039f"
             ],
             [
              0.2222222222222222,
              "#7201a8"
             ],
             [
              0.3333333333333333,
              "#9c179e"
             ],
             [
              0.4444444444444444,
              "#bd3786"
             ],
             [
              0.5555555555555556,
              "#d8576b"
             ],
             [
              0.6666666666666666,
              "#ed7953"
             ],
             [
              0.7777777777777778,
              "#fb9f3a"
             ],
             [
              0.8888888888888888,
              "#fdca26"
             ],
             [
              1,
              "#f0f921"
             ]
            ],
            "type": "contour"
           }
          ],
          "contourcarpet": [
           {
            "colorbar": {
             "outlinewidth": 0,
             "ticks": ""
            },
            "type": "contourcarpet"
           }
          ],
          "heatmap": [
           {
            "colorbar": {
             "outlinewidth": 0,
             "ticks": ""
            },
            "colorscale": [
             [
              0,
              "#0d0887"
             ],
             [
              0.1111111111111111,
              "#46039f"
             ],
             [
              0.2222222222222222,
              "#7201a8"
             ],
             [
              0.3333333333333333,
              "#9c179e"
             ],
             [
              0.4444444444444444,
              "#bd3786"
             ],
             [
              0.5555555555555556,
              "#d8576b"
             ],
             [
              0.6666666666666666,
              "#ed7953"
             ],
             [
              0.7777777777777778,
              "#fb9f3a"
             ],
             [
              0.8888888888888888,
              "#fdca26"
             ],
             [
              1,
              "#f0f921"
             ]
            ],
            "type": "heatmap"
           }
          ],
          "heatmapgl": [
           {
            "colorbar": {
             "outlinewidth": 0,
             "ticks": ""
            },
            "colorscale": [
             [
              0,
              "#0d0887"
             ],
             [
              0.1111111111111111,
              "#46039f"
             ],
             [
              0.2222222222222222,
              "#7201a8"
             ],
             [
              0.3333333333333333,
              "#9c179e"
             ],
             [
              0.4444444444444444,
              "#bd3786"
             ],
             [
              0.5555555555555556,
              "#d8576b"
             ],
             [
              0.6666666666666666,
              "#ed7953"
             ],
             [
              0.7777777777777778,
              "#fb9f3a"
             ],
             [
              0.8888888888888888,
              "#fdca26"
             ],
             [
              1,
              "#f0f921"
             ]
            ],
            "type": "heatmapgl"
           }
          ],
          "histogram": [
           {
            "marker": {
             "pattern": {
              "fillmode": "overlay",
              "size": 10,
              "solidity": 0.2
             }
            },
            "type": "histogram"
           }
          ],
          "histogram2d": [
           {
            "colorbar": {
             "outlinewidth": 0,
             "ticks": ""
            },
            "colorscale": [
             [
              0,
              "#0d0887"
             ],
             [
              0.1111111111111111,
              "#46039f"
             ],
             [
              0.2222222222222222,
              "#7201a8"
             ],
             [
              0.3333333333333333,
              "#9c179e"
             ],
             [
              0.4444444444444444,
              "#bd3786"
             ],
             [
              0.5555555555555556,
              "#d8576b"
             ],
             [
              0.6666666666666666,
              "#ed7953"
             ],
             [
              0.7777777777777778,
              "#fb9f3a"
             ],
             [
              0.8888888888888888,
              "#fdca26"
             ],
             [
              1,
              "#f0f921"
             ]
            ],
            "type": "histogram2d"
           }
          ],
          "histogram2dcontour": [
           {
            "colorbar": {
             "outlinewidth": 0,
             "ticks": ""
            },
            "colorscale": [
             [
              0,
              "#0d0887"
             ],
             [
              0.1111111111111111,
              "#46039f"
             ],
             [
              0.2222222222222222,
              "#7201a8"
             ],
             [
              0.3333333333333333,
              "#9c179e"
             ],
             [
              0.4444444444444444,
              "#bd3786"
             ],
             [
              0.5555555555555556,
              "#d8576b"
             ],
             [
              0.6666666666666666,
              "#ed7953"
             ],
             [
              0.7777777777777778,
              "#fb9f3a"
             ],
             [
              0.8888888888888888,
              "#fdca26"
             ],
             [
              1,
              "#f0f921"
             ]
            ],
            "type": "histogram2dcontour"
           }
          ],
          "mesh3d": [
           {
            "colorbar": {
             "outlinewidth": 0,
             "ticks": ""
            },
            "type": "mesh3d"
           }
          ],
          "parcoords": [
           {
            "line": {
             "colorbar": {
              "outlinewidth": 0,
              "ticks": ""
             }
            },
            "type": "parcoords"
           }
          ],
          "pie": [
           {
            "automargin": true,
            "type": "pie"
           }
          ],
          "scatter": [
           {
            "marker": {
             "colorbar": {
              "outlinewidth": 0,
              "ticks": ""
             }
            },
            "type": "scatter"
           }
          ],
          "scatter3d": [
           {
            "line": {
             "colorbar": {
              "outlinewidth": 0,
              "ticks": ""
             }
            },
            "marker": {
             "colorbar": {
              "outlinewidth": 0,
              "ticks": ""
             }
            },
            "type": "scatter3d"
           }
          ],
          "scattercarpet": [
           {
            "marker": {
             "colorbar": {
              "outlinewidth": 0,
              "ticks": ""
             }
            },
            "type": "scattercarpet"
           }
          ],
          "scattergeo": [
           {
            "marker": {
             "colorbar": {
              "outlinewidth": 0,
              "ticks": ""
             }
            },
            "type": "scattergeo"
           }
          ],
          "scattergl": [
           {
            "marker": {
             "colorbar": {
              "outlinewidth": 0,
              "ticks": ""
             }
            },
            "type": "scattergl"
           }
          ],
          "scattermapbox": [
           {
            "marker": {
             "colorbar": {
              "outlinewidth": 0,
              "ticks": ""
             }
            },
            "type": "scattermapbox"
           }
          ],
          "scatterpolar": [
           {
            "marker": {
             "colorbar": {
              "outlinewidth": 0,
              "ticks": ""
             }
            },
            "type": "scatterpolar"
           }
          ],
          "scatterpolargl": [
           {
            "marker": {
             "colorbar": {
              "outlinewidth": 0,
              "ticks": ""
             }
            },
            "type": "scatterpolargl"
           }
          ],
          "scatterternary": [
           {
            "marker": {
             "colorbar": {
              "outlinewidth": 0,
              "ticks": ""
             }
            },
            "type": "scatterternary"
           }
          ],
          "surface": [
           {
            "colorbar": {
             "outlinewidth": 0,
             "ticks": ""
            },
            "colorscale": [
             [
              0,
              "#0d0887"
             ],
             [
              0.1111111111111111,
              "#46039f"
             ],
             [
              0.2222222222222222,
              "#7201a8"
             ],
             [
              0.3333333333333333,
              "#9c179e"
             ],
             [
              0.4444444444444444,
              "#bd3786"
             ],
             [
              0.5555555555555556,
              "#d8576b"
             ],
             [
              0.6666666666666666,
              "#ed7953"
             ],
             [
              0.7777777777777778,
              "#fb9f3a"
             ],
             [
              0.8888888888888888,
              "#fdca26"
             ],
             [
              1,
              "#f0f921"
             ]
            ],
            "type": "surface"
           }
          ],
          "table": [
           {
            "cells": {
             "fill": {
              "color": "#EBF0F8"
             },
             "line": {
              "color": "white"
             }
            },
            "header": {
             "fill": {
              "color": "#C8D4E3"
             },
             "line": {
              "color": "white"
             }
            },
            "type": "table"
           }
          ]
         },
         "layout": {
          "annotationdefaults": {
           "arrowcolor": "#2a3f5f",
           "arrowhead": 0,
           "arrowwidth": 1
          },
          "autotypenumbers": "strict",
          "coloraxis": {
           "colorbar": {
            "outlinewidth": 0,
            "ticks": ""
           }
          },
          "colorscale": {
           "diverging": [
            [
             0,
             "#8e0152"
            ],
            [
             0.1,
             "#c51b7d"
            ],
            [
             0.2,
             "#de77ae"
            ],
            [
             0.3,
             "#f1b6da"
            ],
            [
             0.4,
             "#fde0ef"
            ],
            [
             0.5,
             "#f7f7f7"
            ],
            [
             0.6,
             "#e6f5d0"
            ],
            [
             0.7,
             "#b8e186"
            ],
            [
             0.8,
             "#7fbc41"
            ],
            [
             0.9,
             "#4d9221"
            ],
            [
             1,
             "#276419"
            ]
           ],
           "sequential": [
            [
             0,
             "#0d0887"
            ],
            [
             0.1111111111111111,
             "#46039f"
            ],
            [
             0.2222222222222222,
             "#7201a8"
            ],
            [
             0.3333333333333333,
             "#9c179e"
            ],
            [
             0.4444444444444444,
             "#bd3786"
            ],
            [
             0.5555555555555556,
             "#d8576b"
            ],
            [
             0.6666666666666666,
             "#ed7953"
            ],
            [
             0.7777777777777778,
             "#fb9f3a"
            ],
            [
             0.8888888888888888,
             "#fdca26"
            ],
            [
             1,
             "#f0f921"
            ]
           ],
           "sequentialminus": [
            [
             0,
             "#0d0887"
            ],
            [
             0.1111111111111111,
             "#46039f"
            ],
            [
             0.2222222222222222,
             "#7201a8"
            ],
            [
             0.3333333333333333,
             "#9c179e"
            ],
            [
             0.4444444444444444,
             "#bd3786"
            ],
            [
             0.5555555555555556,
             "#d8576b"
            ],
            [
             0.6666666666666666,
             "#ed7953"
            ],
            [
             0.7777777777777778,
             "#fb9f3a"
            ],
            [
             0.8888888888888888,
             "#fdca26"
            ],
            [
             1,
             "#f0f921"
            ]
           ]
          },
          "colorway": [
           "#636efa",
           "#EF553B",
           "#00cc96",
           "#ab63fa",
           "#FFA15A",
           "#19d3f3",
           "#FF6692",
           "#B6E880",
           "#FF97FF",
           "#FECB52"
          ],
          "font": {
           "color": "#2a3f5f"
          },
          "geo": {
           "bgcolor": "white",
           "lakecolor": "white",
           "landcolor": "#E5ECF6",
           "showlakes": true,
           "showland": true,
           "subunitcolor": "white"
          },
          "hoverlabel": {
           "align": "left"
          },
          "hovermode": "closest",
          "mapbox": {
           "style": "light"
          },
          "paper_bgcolor": "white",
          "plot_bgcolor": "#E5ECF6",
          "polar": {
           "angularaxis": {
            "gridcolor": "white",
            "linecolor": "white",
            "ticks": ""
           },
           "bgcolor": "#E5ECF6",
           "radialaxis": {
            "gridcolor": "white",
            "linecolor": "white",
            "ticks": ""
           }
          },
          "scene": {
           "xaxis": {
            "backgroundcolor": "#E5ECF6",
            "gridcolor": "white",
            "gridwidth": 2,
            "linecolor": "white",
            "showbackground": true,
            "ticks": "",
            "zerolinecolor": "white"
           },
           "yaxis": {
            "backgroundcolor": "#E5ECF6",
            "gridcolor": "white",
            "gridwidth": 2,
            "linecolor": "white",
            "showbackground": true,
            "ticks": "",
            "zerolinecolor": "white"
           },
           "zaxis": {
            "backgroundcolor": "#E5ECF6",
            "gridcolor": "white",
            "gridwidth": 2,
            "linecolor": "white",
            "showbackground": true,
            "ticks": "",
            "zerolinecolor": "white"
           }
          },
          "shapedefaults": {
           "line": {
            "color": "#2a3f5f"
           }
          },
          "ternary": {
           "aaxis": {
            "gridcolor": "white",
            "linecolor": "white",
            "ticks": ""
           },
           "baxis": {
            "gridcolor": "white",
            "linecolor": "white",
            "ticks": ""
           },
           "bgcolor": "#E5ECF6",
           "caxis": {
            "gridcolor": "white",
            "linecolor": "white",
            "ticks": ""
           }
          },
          "title": {
           "x": 0.05
          },
          "xaxis": {
           "automargin": true,
           "gridcolor": "white",
           "linecolor": "white",
           "ticks": "",
           "title": {
            "standoff": 15
           },
           "zerolinecolor": "white",
           "zerolinewidth": 2
          },
          "yaxis": {
           "automargin": true,
           "gridcolor": "white",
           "linecolor": "white",
           "ticks": "",
           "title": {
            "standoff": 15
           },
           "zerolinecolor": "white",
           "zerolinewidth": 2
          }
         }
        },
        "title": {
         "text": "Bovine Population in EU"
        },
        "updatemenus": [
         {
          "buttons": [
           {
            "args": [
             null,
             {
              "frame": {
               "duration": 500,
               "redraw": true
              },
              "fromcurrent": true,
              "mode": "immediate",
              "transition": {
               "duration": 500,
               "easing": "linear"
              }
             }
            ],
            "label": "&#9654;",
            "method": "animate"
           },
           {
            "args": [
             [
              null
             ],
             {
              "frame": {
               "duration": 0,
               "redraw": true
              },
              "fromcurrent": true,
              "mode": "immediate",
              "transition": {
               "duration": 0,
               "easing": "linear"
              }
             }
            ],
            "label": "&#9724;",
            "method": "animate"
           }
          ],
          "direction": "left",
          "pad": {
           "r": 10,
           "t": 70
          },
          "showactive": false,
          "type": "buttons",
          "x": 0.1,
          "xanchor": "right",
          "y": 0,
          "yanchor": "top"
         }
        ]
       }
      },
      "text/html": [
       "<div>                            <div id=\"51161c6c-eaa1-4bd9-99b8-8ad966f827d4\" class=\"plotly-graph-div\" style=\"height:525px; width:100%;\"></div>            <script type=\"text/javascript\">                require([\"plotly\"], function(Plotly) {                    window.PLOTLYENV=window.PLOTLYENV || {};                                    if (document.getElementById(\"51161c6c-eaa1-4bd9-99b8-8ad966f827d4\")) {                    Plotly.newPlot(                        \"51161c6c-eaa1-4bd9-99b8-8ad966f827d4\",                        [{\"coloraxis\":\"coloraxis\",\"geo\":\"geo\",\"hovertemplate\":\"<b>%{hovertext}</b><br><br>Year=2011<br>Code=%{location}<br>Amount=%{z}<extra></extra>\",\"hovertext\":[\"Belgium\",\"Bulgaria\",\"Czechia\",\"Denmark\",\"Germany\",\"Estonia\",\"Ireland\",\"Greece\",\"Spain\",\"France\",\"Croatia\",\"Italy\",\"Cyprus\",\"Latvia\",\"Lithuania\",\"Luxembourg\",\"Hungary\",\"Malta\",\"Netherlands\",\"Austria\",\"Poland\",\"Portugal\",\"Romania\",\"Slovenia\",\"Slovakia\",\"Finland\",\"Sweden\"],\"locations\":[\"BEL\",\"BGR\",\"CZE\",\"DNK\",\"DEU\",\"EST\",\"IRL\",\"GRC\",\"ESP\",\"FRA\",\"HRV\",\"ITA\",\"CYP\",\"LVA\",\"LTU\",\"LUX\",\"HUN\",\"MLT\",\"NLD\",\"AUT\",\"POL\",\"PRT\",\"ROU\",\"SVN\",\"SVK\",\"FIN\",\"SWE\"],\"name\":\"\",\"z\":[3151.0,1126.0,2735.93,4879.5,30301.36,692.4,5556.2,757.0,6487.68,25091.93,804.0,11298.61,156.02,841.7,1782.32,292.25,1712.48,33.89,11850.72,3307.13,12414.0,1918.52,4075.0,601.59,928.32,2300.73,2850.4],\"type\":\"choropleth\"}],                        {\"template\":{\"data\":{\"bar\":[{\"error_x\":{\"color\":\"#2a3f5f\"},\"error_y\":{\"color\":\"#2a3f5f\"},\"marker\":{\"line\":{\"color\":\"#E5ECF6\",\"width\":0.5},\"pattern\":{\"fillmode\":\"overlay\",\"size\":10,\"solidity\":0.2}},\"type\":\"bar\"}],\"barpolar\":[{\"marker\":{\"line\":{\"color\":\"#E5ECF6\",\"width\":0.5},\"pattern\":{\"fillmode\":\"overlay\",\"size\":10,\"solidity\":0.2}},\"type\":\"barpolar\"}],\"carpet\":[{\"aaxis\":{\"endlinecolor\":\"#2a3f5f\",\"gridcolor\":\"white\",\"linecolor\":\"white\",\"minorgridcolor\":\"white\",\"startlinecolor\":\"#2a3f5f\"},\"baxis\":{\"endlinecolor\":\"#2a3f5f\",\"gridcolor\":\"white\",\"linecolor\":\"white\",\"minorgridcolor\":\"white\",\"startlinecolor\":\"#2a3f5f\"},\"type\":\"carpet\"}],\"choropleth\":[{\"colorbar\":{\"outlinewidth\":0,\"ticks\":\"\"},\"type\":\"choropleth\"}],\"contour\":[{\"colorbar\":{\"outlinewidth\":0,\"ticks\":\"\"},\"colorscale\":[[0.0,\"#0d0887\"],[0.1111111111111111,\"#46039f\"],[0.2222222222222222,\"#7201a8\"],[0.3333333333333333,\"#9c179e\"],[0.4444444444444444,\"#bd3786\"],[0.5555555555555556,\"#d8576b\"],[0.6666666666666666,\"#ed7953\"],[0.7777777777777778,\"#fb9f3a\"],[0.8888888888888888,\"#fdca26\"],[1.0,\"#f0f921\"]],\"type\":\"contour\"}],\"contourcarpet\":[{\"colorbar\":{\"outlinewidth\":0,\"ticks\":\"\"},\"type\":\"contourcarpet\"}],\"heatmap\":[{\"colorbar\":{\"outlinewidth\":0,\"ticks\":\"\"},\"colorscale\":[[0.0,\"#0d0887\"],[0.1111111111111111,\"#46039f\"],[0.2222222222222222,\"#7201a8\"],[0.3333333333333333,\"#9c179e\"],[0.4444444444444444,\"#bd3786\"],[0.5555555555555556,\"#d8576b\"],[0.6666666666666666,\"#ed7953\"],[0.7777777777777778,\"#fb9f3a\"],[0.8888888888888888,\"#fdca26\"],[1.0,\"#f0f921\"]],\"type\":\"heatmap\"}],\"heatmapgl\":[{\"colorbar\":{\"outlinewidth\":0,\"ticks\":\"\"},\"colorscale\":[[0.0,\"#0d0887\"],[0.1111111111111111,\"#46039f\"],[0.2222222222222222,\"#7201a8\"],[0.3333333333333333,\"#9c179e\"],[0.4444444444444444,\"#bd3786\"],[0.5555555555555556,\"#d8576b\"],[0.6666666666666666,\"#ed7953\"],[0.7777777777777778,\"#fb9f3a\"],[0.8888888888888888,\"#fdca26\"],[1.0,\"#f0f921\"]],\"type\":\"heatmapgl\"}],\"histogram\":[{\"marker\":{\"pattern\":{\"fillmode\":\"overlay\",\"size\":10,\"solidity\":0.2}},\"type\":\"histogram\"}],\"histogram2d\":[{\"colorbar\":{\"outlinewidth\":0,\"ticks\":\"\"},\"colorscale\":[[0.0,\"#0d0887\"],[0.1111111111111111,\"#46039f\"],[0.2222222222222222,\"#7201a8\"],[0.3333333333333333,\"#9c179e\"],[0.4444444444444444,\"#bd3786\"],[0.5555555555555556,\"#d8576b\"],[0.6666666666666666,\"#ed7953\"],[0.7777777777777778,\"#fb9f3a\"],[0.8888888888888888,\"#fdca26\"],[1.0,\"#f0f921\"]],\"type\":\"histogram2d\"}],\"histogram2dcontour\":[{\"colorbar\":{\"outlinewidth\":0,\"ticks\":\"\"},\"colorscale\":[[0.0,\"#0d0887\"],[0.1111111111111111,\"#46039f\"],[0.2222222222222222,\"#7201a8\"],[0.3333333333333333,\"#9c179e\"],[0.4444444444444444,\"#bd3786\"],[0.5555555555555556,\"#d8576b\"],[0.6666666666666666,\"#ed7953\"],[0.7777777777777778,\"#fb9f3a\"],[0.8888888888888888,\"#fdca26\"],[1.0,\"#f0f921\"]],\"type\":\"histogram2dcontour\"}],\"mesh3d\":[{\"colorbar\":{\"outlinewidth\":0,\"ticks\":\"\"},\"type\":\"mesh3d\"}],\"parcoords\":[{\"line\":{\"colorbar\":{\"outlinewidth\":0,\"ticks\":\"\"}},\"type\":\"parcoords\"}],\"pie\":[{\"automargin\":true,\"type\":\"pie\"}],\"scatter\":[{\"marker\":{\"colorbar\":{\"outlinewidth\":0,\"ticks\":\"\"}},\"type\":\"scatter\"}],\"scatter3d\":[{\"line\":{\"colorbar\":{\"outlinewidth\":0,\"ticks\":\"\"}},\"marker\":{\"colorbar\":{\"outlinewidth\":0,\"ticks\":\"\"}},\"type\":\"scatter3d\"}],\"scattercarpet\":[{\"marker\":{\"colorbar\":{\"outlinewidth\":0,\"ticks\":\"\"}},\"type\":\"scattercarpet\"}],\"scattergeo\":[{\"marker\":{\"colorbar\":{\"outlinewidth\":0,\"ticks\":\"\"}},\"type\":\"scattergeo\"}],\"scattergl\":[{\"marker\":{\"colorbar\":{\"outlinewidth\":0,\"ticks\":\"\"}},\"type\":\"scattergl\"}],\"scattermapbox\":[{\"marker\":{\"colorbar\":{\"outlinewidth\":0,\"ticks\":\"\"}},\"type\":\"scattermapbox\"}],\"scatterpolar\":[{\"marker\":{\"colorbar\":{\"outlinewidth\":0,\"ticks\":\"\"}},\"type\":\"scatterpolar\"}],\"scatterpolargl\":[{\"marker\":{\"colorbar\":{\"outlinewidth\":0,\"ticks\":\"\"}},\"type\":\"scatterpolargl\"}],\"scatterternary\":[{\"marker\":{\"colorbar\":{\"outlinewidth\":0,\"ticks\":\"\"}},\"type\":\"scatterternary\"}],\"surface\":[{\"colorbar\":{\"outlinewidth\":0,\"ticks\":\"\"},\"colorscale\":[[0.0,\"#0d0887\"],[0.1111111111111111,\"#46039f\"],[0.2222222222222222,\"#7201a8\"],[0.3333333333333333,\"#9c179e\"],[0.4444444444444444,\"#bd3786\"],[0.5555555555555556,\"#d8576b\"],[0.6666666666666666,\"#ed7953\"],[0.7777777777777778,\"#fb9f3a\"],[0.8888888888888888,\"#fdca26\"],[1.0,\"#f0f921\"]],\"type\":\"surface\"}],\"table\":[{\"cells\":{\"fill\":{\"color\":\"#EBF0F8\"},\"line\":{\"color\":\"white\"}},\"header\":{\"fill\":{\"color\":\"#C8D4E3\"},\"line\":{\"color\":\"white\"}},\"type\":\"table\"}]},\"layout\":{\"annotationdefaults\":{\"arrowcolor\":\"#2a3f5f\",\"arrowhead\":0,\"arrowwidth\":1},\"autotypenumbers\":\"strict\",\"coloraxis\":{\"colorbar\":{\"outlinewidth\":0,\"ticks\":\"\"}},\"colorscale\":{\"diverging\":[[0,\"#8e0152\"],[0.1,\"#c51b7d\"],[0.2,\"#de77ae\"],[0.3,\"#f1b6da\"],[0.4,\"#fde0ef\"],[0.5,\"#f7f7f7\"],[0.6,\"#e6f5d0\"],[0.7,\"#b8e186\"],[0.8,\"#7fbc41\"],[0.9,\"#4d9221\"],[1,\"#276419\"]],\"sequential\":[[0.0,\"#0d0887\"],[0.1111111111111111,\"#46039f\"],[0.2222222222222222,\"#7201a8\"],[0.3333333333333333,\"#9c179e\"],[0.4444444444444444,\"#bd3786\"],[0.5555555555555556,\"#d8576b\"],[0.6666666666666666,\"#ed7953\"],[0.7777777777777778,\"#fb9f3a\"],[0.8888888888888888,\"#fdca26\"],[1.0,\"#f0f921\"]],\"sequentialminus\":[[0.0,\"#0d0887\"],[0.1111111111111111,\"#46039f\"],[0.2222222222222222,\"#7201a8\"],[0.3333333333333333,\"#9c179e\"],[0.4444444444444444,\"#bd3786\"],[0.5555555555555556,\"#d8576b\"],[0.6666666666666666,\"#ed7953\"],[0.7777777777777778,\"#fb9f3a\"],[0.8888888888888888,\"#fdca26\"],[1.0,\"#f0f921\"]]},\"colorway\":[\"#636efa\",\"#EF553B\",\"#00cc96\",\"#ab63fa\",\"#FFA15A\",\"#19d3f3\",\"#FF6692\",\"#B6E880\",\"#FF97FF\",\"#FECB52\"],\"font\":{\"color\":\"#2a3f5f\"},\"geo\":{\"bgcolor\":\"white\",\"lakecolor\":\"white\",\"landcolor\":\"#E5ECF6\",\"showlakes\":true,\"showland\":true,\"subunitcolor\":\"white\"},\"hoverlabel\":{\"align\":\"left\"},\"hovermode\":\"closest\",\"mapbox\":{\"style\":\"light\"},\"paper_bgcolor\":\"white\",\"plot_bgcolor\":\"#E5ECF6\",\"polar\":{\"angularaxis\":{\"gridcolor\":\"white\",\"linecolor\":\"white\",\"ticks\":\"\"},\"bgcolor\":\"#E5ECF6\",\"radialaxis\":{\"gridcolor\":\"white\",\"linecolor\":\"white\",\"ticks\":\"\"}},\"scene\":{\"xaxis\":{\"backgroundcolor\":\"#E5ECF6\",\"gridcolor\":\"white\",\"gridwidth\":2,\"linecolor\":\"white\",\"showbackground\":true,\"ticks\":\"\",\"zerolinecolor\":\"white\"},\"yaxis\":{\"backgroundcolor\":\"#E5ECF6\",\"gridcolor\":\"white\",\"gridwidth\":2,\"linecolor\":\"white\",\"showbackground\":true,\"ticks\":\"\",\"zerolinecolor\":\"white\"},\"zaxis\":{\"backgroundcolor\":\"#E5ECF6\",\"gridcolor\":\"white\",\"gridwidth\":2,\"linecolor\":\"white\",\"showbackground\":true,\"ticks\":\"\",\"zerolinecolor\":\"white\"}},\"shapedefaults\":{\"line\":{\"color\":\"#2a3f5f\"}},\"ternary\":{\"aaxis\":{\"gridcolor\":\"white\",\"linecolor\":\"white\",\"ticks\":\"\"},\"baxis\":{\"gridcolor\":\"white\",\"linecolor\":\"white\",\"ticks\":\"\"},\"bgcolor\":\"#E5ECF6\",\"caxis\":{\"gridcolor\":\"white\",\"linecolor\":\"white\",\"ticks\":\"\"}},\"title\":{\"x\":0.05},\"xaxis\":{\"automargin\":true,\"gridcolor\":\"white\",\"linecolor\":\"white\",\"ticks\":\"\",\"title\":{\"standoff\":15},\"zerolinecolor\":\"white\",\"zerolinewidth\":2},\"yaxis\":{\"automargin\":true,\"gridcolor\":\"white\",\"linecolor\":\"white\",\"ticks\":\"\",\"title\":{\"standoff\":15},\"zerolinecolor\":\"white\",\"zerolinewidth\":2}}},\"geo\":{\"domain\":{\"x\":[0.0,1.0],\"y\":[0.0,1.0]},\"center\":{},\"scope\":\"europe\"},\"coloraxis\":{\"colorbar\":{\"title\":{\"text\":\"Amount\"}},\"colorscale\":[[0.0,\"#0d0887\"],[0.1111111111111111,\"#46039f\"],[0.2222222222222222,\"#7201a8\"],[0.3333333333333333,\"#9c179e\"],[0.4444444444444444,\"#bd3786\"],[0.5555555555555556,\"#d8576b\"],[0.6666666666666666,\"#ed7953\"],[0.7777777777777778,\"#fb9f3a\"],[0.8888888888888888,\"#fdca26\"],[1.0,\"#f0f921\"]]},\"legend\":{\"tracegroupgap\":0},\"margin\":{\"t\":60},\"updatemenus\":[{\"buttons\":[{\"args\":[null,{\"frame\":{\"duration\":500,\"redraw\":true},\"mode\":\"immediate\",\"fromcurrent\":true,\"transition\":{\"duration\":500,\"easing\":\"linear\"}}],\"label\":\"&#9654;\",\"method\":\"animate\"},{\"args\":[[null],{\"frame\":{\"duration\":0,\"redraw\":true},\"mode\":\"immediate\",\"fromcurrent\":true,\"transition\":{\"duration\":0,\"easing\":\"linear\"}}],\"label\":\"&#9724;\",\"method\":\"animate\"}],\"direction\":\"left\",\"pad\":{\"r\":10,\"t\":70},\"showactive\":false,\"type\":\"buttons\",\"x\":0.1,\"xanchor\":\"right\",\"y\":0,\"yanchor\":\"top\"}],\"sliders\":[{\"active\":0,\"currentvalue\":{\"prefix\":\"Year=\"},\"len\":0.9,\"pad\":{\"b\":10,\"t\":60},\"steps\":[{\"args\":[[\"2011\"],{\"frame\":{\"duration\":0,\"redraw\":true},\"mode\":\"immediate\",\"fromcurrent\":true,\"transition\":{\"duration\":0,\"easing\":\"linear\"}}],\"label\":\"2011\",\"method\":\"animate\"},{\"args\":[[\"2012\"],{\"frame\":{\"duration\":0,\"redraw\":true},\"mode\":\"immediate\",\"fromcurrent\":true,\"transition\":{\"duration\":0,\"easing\":\"linear\"}}],\"label\":\"2012\",\"method\":\"animate\"},{\"args\":[[\"2013\"],{\"frame\":{\"duration\":0,\"redraw\":true},\"mode\":\"immediate\",\"fromcurrent\":true,\"transition\":{\"duration\":0,\"easing\":\"linear\"}}],\"label\":\"2013\",\"method\":\"animate\"},{\"args\":[[\"2014\"],{\"frame\":{\"duration\":0,\"redraw\":true},\"mode\":\"immediate\",\"fromcurrent\":true,\"transition\":{\"duration\":0,\"easing\":\"linear\"}}],\"label\":\"2014\",\"method\":\"animate\"},{\"args\":[[\"2015\"],{\"frame\":{\"duration\":0,\"redraw\":true},\"mode\":\"immediate\",\"fromcurrent\":true,\"transition\":{\"duration\":0,\"easing\":\"linear\"}}],\"label\":\"2015\",\"method\":\"animate\"},{\"args\":[[\"2016\"],{\"frame\":{\"duration\":0,\"redraw\":true},\"mode\":\"immediate\",\"fromcurrent\":true,\"transition\":{\"duration\":0,\"easing\":\"linear\"}}],\"label\":\"2016\",\"method\":\"animate\"},{\"args\":[[\"2017\"],{\"frame\":{\"duration\":0,\"redraw\":true},\"mode\":\"immediate\",\"fromcurrent\":true,\"transition\":{\"duration\":0,\"easing\":\"linear\"}}],\"label\":\"2017\",\"method\":\"animate\"},{\"args\":[[\"2018\"],{\"frame\":{\"duration\":0,\"redraw\":true},\"mode\":\"immediate\",\"fromcurrent\":true,\"transition\":{\"duration\":0,\"easing\":\"linear\"}}],\"label\":\"2018\",\"method\":\"animate\"},{\"args\":[[\"2019\"],{\"frame\":{\"duration\":0,\"redraw\":true},\"mode\":\"immediate\",\"fromcurrent\":true,\"transition\":{\"duration\":0,\"easing\":\"linear\"}}],\"label\":\"2019\",\"method\":\"animate\"},{\"args\":[[\"2020\"],{\"frame\":{\"duration\":0,\"redraw\":true},\"mode\":\"immediate\",\"fromcurrent\":true,\"transition\":{\"duration\":0,\"easing\":\"linear\"}}],\"label\":\"2020\",\"method\":\"animate\"},{\"args\":[[\"2021\"],{\"frame\":{\"duration\":0,\"redraw\":true},\"mode\":\"immediate\",\"fromcurrent\":true,\"transition\":{\"duration\":0,\"easing\":\"linear\"}}],\"label\":\"2021\",\"method\":\"animate\"}],\"x\":0.1,\"xanchor\":\"left\",\"y\":0,\"yanchor\":\"top\"}],\"title\":{\"text\":\"Bovine Population in EU\"}},                        {\"responsive\": true}                    ).then(function(){\n",
       "                            Plotly.addFrames('51161c6c-eaa1-4bd9-99b8-8ad966f827d4', [{\"data\":[{\"coloraxis\":\"coloraxis\",\"geo\":\"geo\",\"hovertemplate\":\"<b>%{hovertext}</b><br><br>Year=2011<br>Code=%{location}<br>Amount=%{z}<extra></extra>\",\"hovertext\":[\"Belgium\",\"Bulgaria\",\"Czechia\",\"Denmark\",\"Germany\",\"Estonia\",\"Ireland\",\"Greece\",\"Spain\",\"France\",\"Croatia\",\"Italy\",\"Cyprus\",\"Latvia\",\"Lithuania\",\"Luxembourg\",\"Hungary\",\"Malta\",\"Netherlands\",\"Austria\",\"Poland\",\"Portugal\",\"Romania\",\"Slovenia\",\"Slovakia\",\"Finland\",\"Sweden\"],\"locations\":[\"BEL\",\"BGR\",\"CZE\",\"DNK\",\"DEU\",\"EST\",\"IRL\",\"GRC\",\"ESP\",\"FRA\",\"HRV\",\"ITA\",\"CYP\",\"LVA\",\"LTU\",\"LUX\",\"HUN\",\"MLT\",\"NLD\",\"AUT\",\"POL\",\"PRT\",\"ROU\",\"SVN\",\"SVK\",\"FIN\",\"SWE\"],\"name\":\"\",\"z\":[3151.0,1126.0,2735.93,4879.5,30301.36,692.4,5556.2,757.0,6487.68,25091.93,804.0,11298.61,156.02,841.7,1782.32,292.25,1712.48,33.89,11850.72,3307.13,12414.0,1918.52,4075.0,601.59,928.32,2300.73,2850.4],\"type\":\"choropleth\"}],\"name\":\"2011\"},{\"data\":[{\"coloraxis\":\"coloraxis\",\"geo\":\"geo\",\"hovertemplate\":\"<b>%{hovertext}</b><br><br>Year=2012<br>Code=%{location}<br>Amount=%{z}<extra></extra>\",\"hovertext\":[\"Belgium\",\"Bulgaria\",\"Czechia\",\"Denmark\",\"Germany\",\"Estonia\",\"Ireland\",\"Greece\",\"Spain\",\"France\",\"Croatia\",\"Italy\",\"Cyprus\",\"Latvia\",\"Lithuania\",\"Luxembourg\",\"Hungary\",\"Malta\",\"Netherlands\",\"Austria\",\"Poland\",\"Portugal\",\"Romania\",\"Slovenia\",\"Slovakia\",\"Finland\",\"Sweden\"],\"locations\":[\"BEL\",\"BGR\",\"CZE\",\"DNK\",\"DEU\",\"EST\",\"IRL\",\"GRC\",\"ESP\",\"FRA\",\"HRV\",\"ITA\",\"CYP\",\"LVA\",\"LTU\",\"LUX\",\"HUN\",\"MLT\",\"NLD\",\"AUT\",\"POL\",\"PRT\",\"ROU\",\"SVN\",\"SVK\",\"FIN\",\"SWE\"],\"name\":\"\",\"z\":[3116.0,1093.0,2814.68,5006.4,30672.15,720.7,5399.3,765.5,6502.41,24718.38,810.0,11500.0,153.74,870.6,1774.53,289.4,1812.85,33.89,11880.95,3382.1,12668.0,1938.13,3881.0,620.94,932.71,2296.68,2861.17],\"type\":\"choropleth\"}],\"name\":\"2012\"},{\"data\":[{\"coloraxis\":\"coloraxis\",\"geo\":\"geo\",\"hovertemplate\":\"<b>%{hovertext}</b><br><br>Year=2013<br>Code=%{location}<br>Amount=%{z}<extra></extra>\",\"hovertext\":[\"Belgium\",\"Bulgaria\",\"Czechia\",\"Denmark\",\"Germany\",\"Estonia\",\"Ireland\",\"Greece\",\"Spain\",\"France\",\"Croatia\",\"Italy\",\"Cyprus\",\"Latvia\",\"Lithuania\",\"Luxembourg\",\"Hungary\",\"Malta\",\"Netherlands\",\"Austria\",\"Poland\",\"Portugal\",\"Romania\",\"Slovenia\",\"Slovakia\",\"Finland\",\"Sweden\"],\"locations\":[\"BEL\",\"BGR\",\"CZE\",\"DNK\",\"DEU\",\"EST\",\"IRL\",\"GRC\",\"ESP\",\"FRA\",\"HRV\",\"ITA\",\"CYP\",\"LVA\",\"LTU\",\"LUX\",\"HUN\",\"MLT\",\"NLD\",\"AUT\",\"POL\",\"PRT\",\"ROU\",\"SVN\",\"SVK\",\"FIN\",\"SWE\"],\"name\":\"\",\"z\":[3529.0,1149.0,2849.43,5081.8,31324.24,771.6,5600.7,730.6,6559.18,24459.76,717.0,11281.26,163.27,912.0,1719.51,295.86,1772.76,40.92,12407.69,3393.06,12718.0,1847.98,3966.0,595.5,911.96,2327.8,2869.58],\"type\":\"choropleth\"}],\"name\":\"2013\"},{\"data\":[{\"coloraxis\":\"coloraxis\",\"geo\":\"geo\",\"hovertemplate\":\"<b>%{hovertext}</b><br><br>Year=2014<br>Code=%{location}<br>Amount=%{z}<extra></extra>\",\"hovertext\":[\"Belgium\",\"Bulgaria\",\"Czechia\",\"Denmark\",\"Germany\",\"Estonia\",\"Ireland\",\"Greece\",\"Spain\",\"France\",\"Croatia\",\"Italy\",\"Cyprus\",\"Latvia\",\"Lithuania\",\"Luxembourg\",\"Hungary\",\"Malta\",\"Netherlands\",\"Austria\",\"Poland\",\"Portugal\",\"Romania\",\"Slovenia\",\"Slovakia\",\"Finland\",\"Sweden\"],\"locations\":[\"BEL\",\"BGR\",\"CZE\",\"DNK\",\"DEU\",\"EST\",\"IRL\",\"GRC\",\"ESP\",\"FRA\",\"HRV\",\"ITA\",\"CYP\",\"LVA\",\"LTU\",\"LUX\",\"HUN\",\"MLT\",\"NLD\",\"AUT\",\"POL\",\"PRT\",\"ROU\",\"SVN\",\"SVK\",\"FIN\",\"SWE\"],\"name\":\"\",\"z\":[3710.0,1103.0,2933.46,5162.0,32381.06,804.8,5821.3,769.0,6779.75,25728.32,712.0,11500.0,164.64,968.9,1791.13,317.05,1875.72,42.77,12660.35,3493.86,12986.0,1942.78,4101.0,616.58,930.71,2400.01,2931.65],\"type\":\"choropleth\"}],\"name\":\"2014\"},{\"data\":[{\"coloraxis\":\"coloraxis\",\"geo\":\"geo\",\"hovertemplate\":\"<b>%{hovertext}</b><br><br>Year=2015<br>Code=%{location}<br>Amount=%{z}<extra></extra>\",\"hovertext\":[\"Belgium\",\"Bulgaria\",\"Czechia\",\"Denmark\",\"Germany\",\"Estonia\",\"Ireland\",\"Greece\",\"Spain\",\"France\",\"Croatia\",\"Italy\",\"Cyprus\",\"Latvia\",\"Lithuania\",\"Luxembourg\",\"Hungary\",\"Malta\",\"Netherlands\",\"Austria\",\"Poland\",\"Portugal\",\"Romania\",\"Slovenia\",\"Slovakia\",\"Finland\",\"Sweden\"],\"locations\":[\"BEL\",\"BGR\",\"CZE\",\"DNK\",\"DEU\",\"EST\",\"IRL\",\"GRC\",\"ESP\",\"FRA\",\"HRV\",\"ITA\",\"CYP\",\"LVA\",\"LTU\",\"LUX\",\"HUN\",\"MLT\",\"NLD\",\"AUT\",\"POL\",\"PRT\",\"ROU\",\"SVN\",\"SVK\",\"FIN\",\"SWE\"],\"name\":\"\",\"z\":[3826.0,1028.04,3025.88,5335.7,32670.88,782.7,6604.41,770.0,7029.48,25820.27,694.0,11425.94,165.3,975.4,1734.73,346.25,1941.33,41.57,13522.12,3537.76,13236.23,2013.78,3981.0,631.67,930.98,2436.76,2933.16],\"type\":\"choropleth\"}],\"name\":\"2015\"},{\"data\":[{\"coloraxis\":\"coloraxis\",\"geo\":\"geo\",\"hovertemplate\":\"<b>%{hovertext}</b><br><br>Year=2016<br>Code=%{location}<br>Amount=%{z}<extra></extra>\",\"hovertext\":[\"Belgium\",\"Bulgaria\",\"Czechia\",\"Denmark\",\"Germany\",\"Estonia\",\"Ireland\",\"Greece\",\"Spain\",\"France\",\"Croatia\",\"Italy\",\"Cyprus\",\"Latvia\",\"Lithuania\",\"Luxembourg\",\"Hungary\",\"Malta\",\"Netherlands\",\"Austria\",\"Poland\",\"Portugal\",\"Romania\",\"Slovenia\",\"Slovakia\",\"Finland\",\"Sweden\"],\"locations\":[\"BEL\",\"BGR\",\"CZE\",\"DNK\",\"DEU\",\"EST\",\"IRL\",\"GRC\",\"ESP\",\"FRA\",\"HRV\",\"ITA\",\"CYP\",\"LVA\",\"LTU\",\"LUX\",\"HUN\",\"MLT\",\"NLD\",\"AUT\",\"POL\",\"PRT\",\"ROU\",\"SVN\",\"SVK\",\"FIN\",\"SWE\"],\"name\":\"\",\"z\":[3933.0,1018.58,3064.73,5435.7,32672.34,782.7,6871.94,706.0,7123.77,25138.93,671.0,11886.04,186.02,983.5,1623.87,376.22,1918.23,43.13,14531.0,3627.61,13244.17,1922.97,3934.0,649.68,905.26,2429.59,2862.23],\"type\":\"choropleth\"}],\"name\":\"2016\"},{\"data\":[{\"coloraxis\":\"coloraxis\",\"geo\":\"geo\",\"hovertemplate\":\"<b>%{hovertext}</b><br><br>Year=2017<br>Code=%{location}<br>Amount=%{z}<extra></extra>\",\"hovertext\":[\"Belgium\",\"Bulgaria\",\"Czechia\",\"Denmark\",\"Germany\",\"Estonia\",\"Ireland\",\"Greece\",\"Spain\",\"France\",\"Croatia\",\"Italy\",\"Cyprus\",\"Latvia\",\"Lithuania\",\"Luxembourg\",\"Hungary\",\"Malta\",\"Netherlands\",\"Austria\",\"Poland\",\"Portugal\",\"Romania\",\"Slovenia\",\"Slovakia\",\"Finland\",\"Sweden\"],\"locations\":[\"BEL\",\"BGR\",\"CZE\",\"DNK\",\"DEU\",\"EST\",\"IRL\",\"GRC\",\"ESP\",\"FRA\",\"HRV\",\"ITA\",\"CYP\",\"LVA\",\"LTU\",\"LUX\",\"HUN\",\"MLT\",\"NLD\",\"AUT\",\"POL\",\"PRT\",\"ROU\",\"SVN\",\"SVK\",\"FIN\",\"SWE\"],\"name\":\"\",\"z\":[4060.0,968.18,3079.21,5502.2,32598.2,790.0,7498.94,670.0,7229.35,25055.2,648.0,12198.88,216.39,998.0,1566.65,387.18,1967.5,41.03,14501.0,3712.73,13694.47,1921.21,3797.7,647.99,911.73,2405.76,2816.66],\"type\":\"choropleth\"}],\"name\":\"2017\"},{\"data\":[{\"coloraxis\":\"coloraxis\",\"geo\":\"geo\",\"hovertemplate\":\"<b>%{hovertext}</b><br><br>Year=2018<br>Code=%{location}<br>Amount=%{z}<extra></extra>\",\"hovertext\":[\"Belgium\",\"Bulgaria\",\"Czechia\",\"Denmark\",\"Germany\",\"Estonia\",\"Ireland\",\"Greece\",\"Spain\",\"France\",\"Croatia\",\"Italy\",\"Cyprus\",\"Latvia\",\"Lithuania\",\"Luxembourg\",\"Hungary\",\"Malta\",\"Netherlands\",\"Austria\",\"Poland\",\"Portugal\",\"Romania\",\"Slovenia\",\"Slovakia\",\"Finland\",\"Sweden\"],\"locations\":[\"BEL\",\"BGR\",\"CZE\",\"DNK\",\"DEU\",\"EST\",\"IRL\",\"GRC\",\"ESP\",\"FRA\",\"HRV\",\"ITA\",\"CYP\",\"LVA\",\"LTU\",\"LUX\",\"HUN\",\"MLT\",\"NLD\",\"AUT\",\"POL\",\"PRT\",\"ROU\",\"SVN\",\"SVK\",\"FIN\",\"SWE\"],\"name\":\"\",\"z\":[4195.0,898.77,3161.51,5615.2,33086.81,796.9,7831.25,654.8,7335.62,25055.1,618.0,12339.75,228.08,980.2,1568.01,407.62,1948.83,40.41,14090.0,3821.19,14171.15,1939.67,3797.6,628.93,904.62,2397.88,2760.23],\"type\":\"choropleth\"}],\"name\":\"2018\"},{\"data\":[{\"coloraxis\":\"coloraxis\",\"geo\":\"geo\",\"hovertemplate\":\"<b>%{hovertext}</b><br><br>Year=2019<br>Code=%{location}<br>Amount=%{z}<extra></extra>\",\"hovertext\":[\"Belgium\",\"Bulgaria\",\"Czechia\",\"Denmark\",\"Germany\",\"Estonia\",\"Ireland\",\"Greece\",\"Spain\",\"France\",\"Croatia\",\"Italy\",\"Cyprus\",\"Latvia\",\"Lithuania\",\"Luxembourg\",\"Hungary\",\"Malta\",\"Netherlands\",\"Austria\",\"Poland\",\"Portugal\",\"Romania\",\"Slovenia\",\"Slovakia\",\"Finland\",\"Sweden\"],\"locations\":[\"BEL\",\"BGR\",\"CZE\",\"DNK\",\"DEU\",\"EST\",\"IRL\",\"GRC\",\"ESP\",\"FRA\",\"HRV\",\"ITA\",\"CYP\",\"LVA\",\"LTU\",\"LUX\",\"HUN\",\"MLT\",\"NLD\",\"AUT\",\"POL\",\"PRT\",\"ROU\",\"SVN\",\"SVK\",\"FIN\",\"SWE\"],\"name\":\"\",\"z\":[4293.0,822.3,3155.79,5615.0,33080.18,820.8,8244.87,659.38,7460.36,25062.0,599.0,12494.4,238.76,978.9,1547.43,421.26,1962.78,41.27,14555.0,3781.34,14502.76,1975.49,3663.2,623.02,904.26,2374.36,2704.39],\"type\":\"choropleth\"}],\"name\":\"2019\"},{\"data\":[{\"coloraxis\":\"coloraxis\",\"geo\":\"geo\",\"hovertemplate\":\"<b>%{hovertext}</b><br><br>Year=2020<br>Code=%{location}<br>Amount=%{z}<extra></extra>\",\"hovertext\":[\"Belgium\",\"Bulgaria\",\"Czechia\",\"Denmark\",\"Germany\",\"Estonia\",\"Ireland\",\"Greece\",\"Spain\",\"France\",\"Croatia\",\"Italy\",\"Cyprus\",\"Latvia\",\"Lithuania\",\"Luxembourg\",\"Hungary\",\"Malta\",\"Netherlands\",\"Austria\",\"Poland\",\"Portugal\",\"Romania\",\"Slovenia\",\"Slovakia\",\"Finland\",\"Sweden\"],\"locations\":[\"BEL\",\"BGR\",\"CZE\",\"DNK\",\"DEU\",\"EST\",\"IRL\",\"GRC\",\"ESP\",\"FRA\",\"HRV\",\"ITA\",\"CYP\",\"LVA\",\"LTU\",\"LUX\",\"HUN\",\"MLT\",\"NLD\",\"AUT\",\"POL\",\"PRT\",\"ROU\",\"SVN\",\"SVK\",\"FIN\",\"SWE\"],\"name\":\"\",\"z\":[4449.0,881.76,3267.73,5666.0,33164.91,848.3,8561.47,683.46,7606.07,25234.84,596.0,12712.48,275.16,988.2,1488.0,447.34,2014.33,42.11,14522.0,3815.47,14821.82,1993.61,3679.6,630.65,917.69,2406.52,2772.74],\"type\":\"choropleth\"}],\"name\":\"2020\"},{\"data\":[{\"coloraxis\":\"coloraxis\",\"geo\":\"geo\",\"hovertemplate\":\"<b>%{hovertext}</b><br><br>Year=2021<br>Code=%{location}<br>Amount=%{z}<extra></extra>\",\"hovertext\":[\"Belgium\",\"Bulgaria\",\"Czechia\",\"Denmark\",\"Germany\",\"Estonia\",\"Ireland\",\"Greece\",\"Spain\",\"France\",\"Croatia\",\"Italy\",\"Cyprus\",\"Latvia\",\"Lithuania\",\"Luxembourg\",\"Hungary\",\"Malta\",\"Netherlands\",\"Austria\",\"Poland\",\"Portugal\",\"Romania\",\"Slovenia\",\"Slovakia\",\"Finland\",\"Sweden\"],\"locations\":[\"BEL\",\"BGR\",\"CZE\",\"DNK\",\"DEU\",\"EST\",\"IRL\",\"GRC\",\"ESP\",\"FRA\",\"HRV\",\"ITA\",\"CYP\",\"LVA\",\"LTU\",\"LUX\",\"HUN\",\"MLT\",\"NLD\",\"AUT\",\"POL\",\"PRT\",\"ROU\",\"SVN\",\"SVK\",\"FIN\",\"SWE\"],\"name\":\"\",\"z\":[4434.0,835.78,3309.91,5644.0,32506.91,838.7,9039.99,710.93,7623.09,24778.84,558.0,13202.45,298.14,990.31,1473.28,443.28,2080.23,39.54,14217.25,3830.14,14881.11,1995.55,3637.0,639.93,902.64,2161.46,2782.22],\"type\":\"choropleth\"}],\"name\":\"2021\"}]);\n",
       "                        }).then(function(){\n",
       "                            \n",
       "var gd = document.getElementById('51161c6c-eaa1-4bd9-99b8-8ad966f827d4');\n",
       "var x = new MutationObserver(function (mutations, observer) {{\n",
       "        var display = window.getComputedStyle(gd).display;\n",
       "        if (!display || display === 'none') {{\n",
       "            console.log([gd, 'removed!']);\n",
       "            Plotly.purge(gd);\n",
       "            observer.disconnect();\n",
       "        }}\n",
       "}});\n",
       "\n",
       "// Listen for the removal of the full notebook cells\n",
       "var notebookContainer = gd.closest('#notebook-container');\n",
       "if (notebookContainer) {{\n",
       "    x.observe(notebookContainer, {childList: true});\n",
       "}}\n",
       "\n",
       "// Listen for the clearing of the current output cell\n",
       "var outputEl = gd.closest('.output');\n",
       "if (outputEl) {{\n",
       "    x.observe(outputEl, {childList: true});\n",
       "}}\n",
       "\n",
       "                        })                };                });            </script>        </div>"
      ]
     },
     "metadata": {},
     "output_type": "display_data"
    }
   ],
   "source": [
    "fig = px.choropleth(Bovine_EU, locations=\"Code\",\n",
    "                    color=\"Amount\", \n",
    "                    hover_name=\"Country\", \n",
    "                    # column to add to hover information\n",
    "                    animation_frame=\"Year\", \n",
    "                    # column on which to animate\n",
    "                    color_continuous_scale=px.colors.sequential.Plasma)\n",
    "                    \n",
    "fig.update_layout(\n",
    "    # add a title text for the plot\n",
    "    title_text = 'Bovine Population in EU',\n",
    "    # set projection style for the plot\n",
    "    geo_scope = 'europe'\n",
    ")\n",
    "fig.show()\n"
   ]
  },
  {
   "cell_type": "code",
   "execution_count": null,
   "id": "d423f972",
   "metadata": {},
   "outputs": [],
   "source": []
  }
 ],
 "metadata": {
  "kernelspec": {
   "display_name": "Python 3 (ipykernel)",
   "language": "python",
   "name": "python3"
  },
  "language_info": {
   "codemirror_mode": {
    "name": "ipython",
    "version": 3
   },
   "file_extension": ".py",
   "mimetype": "text/x-python",
   "name": "python",
   "nbconvert_exporter": "python",
   "pygments_lexer": "ipython3",
   "version": "3.9.12"
  }
 },
 "nbformat": 4,
 "nbformat_minor": 5
}
