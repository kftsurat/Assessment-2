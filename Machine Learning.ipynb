{
 "cells": [
  {
   "cell_type": "markdown",
   "id": "dbf7be00",
   "metadata": {},
   "source": [
    "## Machine Learning"
   ]
  },
  {
   "cell_type": "markdown",
   "id": "f7f50892",
   "metadata": {},
   "source": [
    "### Cross_ Validation with Linear Regression"
   ]
  },
  {
   "cell_type": "markdown",
   "id": "5b11b2c1",
   "metadata": {},
   "source": [
    "#### A. Experiments to Understand Overfitting"
   ]
  },
  {
   "cell_type": "code",
   "execution_count": 1,
   "id": "e0163c23",
   "metadata": {},
   "outputs": [],
   "source": [
    "# import all libraries\n",
    "import numpy as np\n",
    "import pandas as pd\n",
    "import matplotlib.pyplot as plt \n",
    "import seaborn as sns\n",
    "import re\n",
    "\n",
    "import sklearn\n",
    "from sklearn.model_selection import train_test_split\n",
    "from sklearn.preprocessing import MinMaxScaler\n",
    "from sklearn.preprocessing import PolynomialFeatures\n",
    "from sklearn.preprocessing import scale\n",
    "from sklearn.feature_selection import RFE\n",
    "from sklearn.linear_model import LinearRegression\n",
    "from sklearn.model_selection import cross_val_score\n",
    "from sklearn.model_selection import KFold\n",
    "from sklearn.model_selection import GridSearchCV\n",
    "from sklearn.pipeline import make_pipeline\n",
    "\n",
    "import warnings # supress warnings\n",
    "warnings.filterwarnings('ignore')"
   ]
  },
  {
   "cell_type": "code",
   "execution_count": 2,
   "id": "cacfdf3e",
   "metadata": {},
   "outputs": [
    {
     "data": {
      "text/html": [
       "<div>\n",
       "<style scoped>\n",
       "    .dataframe tbody tr th:only-of-type {\n",
       "        vertical-align: middle;\n",
       "    }\n",
       "\n",
       "    .dataframe tbody tr th {\n",
       "        vertical-align: top;\n",
       "    }\n",
       "\n",
       "    .dataframe thead th {\n",
       "        text-align: right;\n",
       "    }\n",
       "</style>\n",
       "<table border=\"1\" class=\"dataframe\">\n",
       "  <thead>\n",
       "    <tr style=\"text-align: right;\">\n",
       "      <th></th>\n",
       "      <th>Country</th>\n",
       "      <th>Year</th>\n",
       "      <th>Milk Produced</th>\n",
       "      <th>Number of Dairy Cows</th>\n",
       "    </tr>\n",
       "  </thead>\n",
       "  <tbody>\n",
       "    <tr>\n",
       "      <th>0</th>\n",
       "      <td>Belgium</td>\n",
       "      <td>2011</td>\n",
       "      <td>3151.00</td>\n",
       "      <td>510.65</td>\n",
       "    </tr>\n",
       "    <tr>\n",
       "      <th>1</th>\n",
       "      <td>Bulgaria</td>\n",
       "      <td>2011</td>\n",
       "      <td>1126.00</td>\n",
       "      <td>313.18</td>\n",
       "    </tr>\n",
       "    <tr>\n",
       "      <th>2</th>\n",
       "      <td>Czechia</td>\n",
       "      <td>2011</td>\n",
       "      <td>2735.93</td>\n",
       "      <td>374.07</td>\n",
       "    </tr>\n",
       "    <tr>\n",
       "      <th>3</th>\n",
       "      <td>Denmark</td>\n",
       "      <td>2011</td>\n",
       "      <td>4879.50</td>\n",
       "      <td>579.00</td>\n",
       "    </tr>\n",
       "    <tr>\n",
       "      <th>4</th>\n",
       "      <td>Germany</td>\n",
       "      <td>2011</td>\n",
       "      <td>30301.36</td>\n",
       "      <td>4190.10</td>\n",
       "    </tr>\n",
       "  </tbody>\n",
       "</table>\n",
       "</div>"
      ],
      "text/plain": [
       "    Country  Year  Milk Produced  Number of Dairy Cows\n",
       "0   Belgium  2011        3151.00                510.65\n",
       "1  Bulgaria  2011        1126.00                313.18\n",
       "2   Czechia  2011        2735.93                374.07\n",
       "3   Denmark  2011        4879.50                579.00\n",
       "4   Germany  2011       30301.36               4190.10"
      ]
     },
     "execution_count": 2,
     "metadata": {},
     "output_type": "execute_result"
    }
   ],
   "source": [
    "# importing data\n",
    "Milk_Bovine = pd.read_csv('Milk_Bovine.csv')\n",
    "Milk_Bovine.head()"
   ]
  },
  {
   "cell_type": "code",
   "execution_count": 3,
   "id": "b693d941",
   "metadata": {},
   "outputs": [
    {
     "data": {
      "text/plain": [
       "297"
      ]
     },
     "execution_count": 3,
     "metadata": {},
     "output_type": "execute_result"
    }
   ],
   "source": [
    "# number of observations \n",
    "len(Milk_Bovine.index)"
   ]
  },
  {
   "cell_type": "markdown",
   "id": "cdddb3c4",
   "metadata": {},
   "source": [
    "For the first experiment, regression with only one feature by filtering the data so it only contains `Milk Produced` and `Number of Dairy Cows`."
   ]
  },
  {
   "cell_type": "code",
   "execution_count": 4,
   "id": "ee26337f",
   "metadata": {},
   "outputs": [
    {
     "data": {
      "text/html": [
       "<div>\n",
       "<style scoped>\n",
       "    .dataframe tbody tr th:only-of-type {\n",
       "        vertical-align: middle;\n",
       "    }\n",
       "\n",
       "    .dataframe tbody tr th {\n",
       "        vertical-align: top;\n",
       "    }\n",
       "\n",
       "    .dataframe thead th {\n",
       "        text-align: right;\n",
       "    }\n",
       "</style>\n",
       "<table border=\"1\" class=\"dataframe\">\n",
       "  <thead>\n",
       "    <tr style=\"text-align: right;\">\n",
       "      <th></th>\n",
       "      <th>Milk Produced</th>\n",
       "      <th>Number of Dairy Cows</th>\n",
       "    </tr>\n",
       "  </thead>\n",
       "  <tbody>\n",
       "    <tr>\n",
       "      <th>0</th>\n",
       "      <td>3151.00</td>\n",
       "      <td>510.65</td>\n",
       "    </tr>\n",
       "    <tr>\n",
       "      <th>1</th>\n",
       "      <td>1126.00</td>\n",
       "      <td>313.18</td>\n",
       "    </tr>\n",
       "    <tr>\n",
       "      <th>2</th>\n",
       "      <td>2735.93</td>\n",
       "      <td>374.07</td>\n",
       "    </tr>\n",
       "    <tr>\n",
       "      <th>3</th>\n",
       "      <td>4879.50</td>\n",
       "      <td>579.00</td>\n",
       "    </tr>\n",
       "    <tr>\n",
       "      <th>4</th>\n",
       "      <td>30301.36</td>\n",
       "      <td>4190.10</td>\n",
       "    </tr>\n",
       "  </tbody>\n",
       "</table>\n",
       "</div>"
      ],
      "text/plain": [
       "   Milk Produced  Number of Dairy Cows\n",
       "0        3151.00                510.65\n",
       "1        1126.00                313.18\n",
       "2        2735.93                374.07\n",
       "3        4879.50                579.00\n",
       "4       30301.36               4190.10"
      ]
     },
     "execution_count": 4,
     "metadata": {},
     "output_type": "execute_result"
    }
   ],
   "source": [
    "# filter only `Milk Produced` and `Number of Dairy Cows`.\n",
    "df = Milk_Bovine.loc[:, ['Milk Produced', 'Number of Dairy Cows']]\n",
    "df.head()"
   ]
  },
  {
   "cell_type": "code",
   "execution_count": 5,
   "id": "ba6870f0",
   "metadata": {},
   "outputs": [
    {
     "data": {
      "text/html": [
       "<div>\n",
       "<style scoped>\n",
       "    .dataframe tbody tr th:only-of-type {\n",
       "        vertical-align: middle;\n",
       "    }\n",
       "\n",
       "    .dataframe tbody tr th {\n",
       "        vertical-align: top;\n",
       "    }\n",
       "\n",
       "    .dataframe thead th {\n",
       "        text-align: right;\n",
       "    }\n",
       "</style>\n",
       "<table border=\"1\" class=\"dataframe\">\n",
       "  <thead>\n",
       "    <tr style=\"text-align: right;\">\n",
       "      <th></th>\n",
       "      <th>Milk Produced</th>\n",
       "      <th>Number of Dairy Cows</th>\n",
       "    </tr>\n",
       "  </thead>\n",
       "  <tbody>\n",
       "    <tr>\n",
       "      <th>0</th>\n",
       "      <td>0.094084</td>\n",
       "      <td>0.117670</td>\n",
       "    </tr>\n",
       "    <tr>\n",
       "      <th>1</th>\n",
       "      <td>0.032963</td>\n",
       "      <td>0.071637</td>\n",
       "    </tr>\n",
       "    <tr>\n",
       "      <th>2</th>\n",
       "      <td>0.081556</td>\n",
       "      <td>0.085831</td>\n",
       "    </tr>\n",
       "    <tr>\n",
       "      <th>3</th>\n",
       "      <td>0.146256</td>\n",
       "      <td>0.133603</td>\n",
       "    </tr>\n",
       "    <tr>\n",
       "      <th>4</th>\n",
       "      <td>0.913569</td>\n",
       "      <td>0.975388</td>\n",
       "    </tr>\n",
       "  </tbody>\n",
       "</table>\n",
       "</div>"
      ],
      "text/plain": [
       "   Milk Produced  Number of Dairy Cows\n",
       "0       0.094084              0.117670\n",
       "1       0.032963              0.071637\n",
       "2       0.081556              0.085831\n",
       "3       0.146256              0.133603\n",
       "4       0.913569              0.975388"
      ]
     },
     "execution_count": 5,
     "metadata": {},
     "output_type": "execute_result"
    }
   ],
   "source": [
    "# recaling the variables (both)\n",
    "df_columns = df.columns\n",
    "scaler = MinMaxScaler()\n",
    "df = scaler.fit_transform(df)\n",
    "\n",
    "# rename columns (since now its an np array)\n",
    "df = pd.DataFrame(df)\n",
    "df.columns = df_columns\n",
    "\n",
    "df.head()"
   ]
  },
  {
   "cell_type": "code",
   "execution_count": 6,
   "id": "6e7599a2",
   "metadata": {},
   "outputs": [
    {
     "data": {
      "text/plain": [
       "<AxesSubplot:xlabel='Number of Dairy Cows', ylabel='Milk Produced'>"
      ]
     },
     "execution_count": 6,
     "metadata": {},
     "output_type": "execute_result"
    },
    {
     "data": {
      "image/png": "[encoded data removed]",
      "text/plain": [
       "<Figure size 432x288 with 1 Axes>"
      ]
     },
     "metadata": {
      "needs_background": "light"
     },
     "output_type": "display_data"
    }
   ],
   "source": [
    "# visualise Number of cows- Milk produced relationship\n",
    "sns.regplot(x=\"Number of Dairy Cows\", y=\"Milk Produced\", data=df, fit_reg=False)"
   ]
  },
  {
   "cell_type": "code",
   "execution_count": 7,
   "id": "244221f3",
   "metadata": {},
   "outputs": [
    {
     "name": "stdout",
     "output_type": "stream",
     "text": [
      "207\n",
      "90\n"
     ]
    }
   ],
   "source": [
    "# split into train and test\n",
    "df_train, df_test = train_test_split(df, \n",
    "                                     train_size = 0.7, \n",
    "                                     test_size = 0.3, \n",
    "                                     random_state = 10)\n",
    "print(len(df_train))\n",
    "print(len(df_test))"
   ]
  },
  {
   "cell_type": "code",
   "execution_count": 8,
   "id": "0b5b5e39",
   "metadata": {},
   "outputs": [],
   "source": [
    "# split into X and y for both train and test sets\n",
    "# reshaping is required since sklearn requires the data to be in shape\n",
    "# (n, 1), not as a series of shape (n, )\n",
    "X_train = df_train['Number of Dairy Cows']\n",
    "X_train = X_train.values.reshape(-1, 1)\n",
    "y_train = df_train['Milk Produced']\n",
    "\n",
    "X_test = df_test['Number of Dairy Cows']\n",
    "X_test = X_test.values.reshape(-1, 1)\n",
    "y_test = df_test['Milk Produced']"
   ]
  },
  {
   "cell_type": "markdown",
   "id": "8988c22a",
   "metadata": {},
   "source": [
    "#### Polynomial Regression"
   ]
  },
  {
   "cell_type": "code",
   "execution_count": 9,
   "id": "02ea0ce3",
   "metadata": {},
   "outputs": [
    {
     "data": {
      "text/plain": [
       "207"
      ]
     },
     "execution_count": 9,
     "metadata": {},
     "output_type": "execute_result"
    }
   ],
   "source": [
    "len(X_train)"
   ]
  },
  {
   "cell_type": "markdown",
   "id": "220d5511",
   "metadata": {},
   "source": [
    "I want to predict the y labels for both train and test sets"
   ]
  },
  {
   "cell_type": "code",
   "execution_count": 10,
   "id": "581ac236",
   "metadata": {},
   "outputs": [],
   "source": [
    "# fit multiple polynomial features\n",
    "degrees = [1, 2, 3, 6, 10, 20]\n",
    "\n",
    "# initialise y_train_pred and y_test_pred matrices to store the train and test predictions\n",
    "# each row is a data point, each column a prediction using a polynomial of some degree\n",
    "y_train_pred = np.zeros((len(X_train), len(degrees)))\n",
    "y_test_pred = np.zeros((len(X_test), len(degrees)))\n",
    "\n",
    "for i, degree in enumerate(degrees):\n",
    "    \n",
    "    # make pipeline: create features, then feed them to linear_reg model\n",
    "    model = make_pipeline(PolynomialFeatures(degree), LinearRegression())\n",
    "    model.fit(X_train, y_train)\n",
    "    \n",
    "    # predict on test and train data\n",
    "    # store the predictions of each degree in the corresponding column\n",
    "    y_train_pred[:, i] = model.predict(X_train)\n",
    "    y_test_pred[:, i] = model.predict(X_test)"
   ]
  },
  {
   "cell_type": "code",
   "execution_count": 11,
   "id": "0b3b1e6a",
   "metadata": {},
   "outputs": [
    {
     "data": {
      "image/png": "[encoded data removed]",
      "text/plain": [
       "<Figure size 1152x576 with 2 Axes>"
      ]
     },
     "metadata": {
      "needs_background": "light"
     },
     "output_type": "display_data"
    }
   ],
   "source": [
    "# visualise train and test predictions\n",
    "# note that the y axis is on a log scale\n",
    "\n",
    "plt.figure(figsize=(16, 8))\n",
    "\n",
    "# train data\n",
    "plt.subplot(121)\n",
    "plt.scatter(X_train, y_train)\n",
    "plt.yscale('log')\n",
    "plt.title(\"Train data\")\n",
    "for i, degree in enumerate(degrees):    \n",
    "    plt.scatter(X_train, y_train_pred[:, i], s=15, label=str(degree))\n",
    "    plt.legend(loc='upper left')\n",
    "    \n",
    "# test data\n",
    "plt.subplot(122)\n",
    "plt.scatter(X_test, y_test)\n",
    "plt.yscale('log')\n",
    "plt.title(\"Test data\")\n",
    "for i, degree in enumerate(degrees):    \n",
    "    plt.scatter(X_test, y_test_pred[:, i], label=str(degree))\n",
    "    plt.legend(loc='upper left')"
   ]
  },
  {
   "cell_type": "code",
   "execution_count": 12,
   "id": "4ef3871d",
   "metadata": {},
   "outputs": [
    {
     "name": "stdout",
     "output_type": "stream",
     "text": [
      "R-squared values: \n",
      "\n",
      "Polynomial degree 1: train score=0.97, test score=0.95\n",
      "Polynomial degree 2: train score=0.97, test score=0.97\n",
      "Polynomial degree 3: train score=0.97, test score=0.97\n",
      "Polynomial degree 6: train score=0.98, test score=0.97\n",
      "Polynomial degree 10: train score=0.98, test score=0.98\n",
      "Polynomial degree 20: train score=0.99, test score=0.99\n"
     ]
    }
   ],
   "source": [
    "# compare r2 for train and test sets (for all polynomial fits)\n",
    "print(\"R-squared values: \\n\")\n",
    "\n",
    "for i, degree in enumerate(degrees):\n",
    "    train_r2 = round(sklearn.metrics.r2_score(y_train, y_train_pred[:, i]), 2)\n",
    "    test_r2 = round(sklearn.metrics.r2_score(y_test, y_test_pred[:, i]), 2)\n",
    "    print(\"Polynomial degree {0}: train score={1}, test score={2}\".format(degree, \n",
    "                                                                         train_r2, \n",
    "                                                                         test_r2))"
   ]
  },
  {
   "cell_type": "markdown",
   "id": "12d1a5dc",
   "metadata": {},
   "source": [
    "#### B. Building a Model Without Cross-Validation"
   ]
  },
  {
   "cell_type": "code",
   "execution_count": 13,
   "id": "0d3580c9",
   "metadata": {},
   "outputs": [
    {
     "data": {
      "text/html": [
       "<div>\n",
       "<style scoped>\n",
       "    .dataframe tbody tr th:only-of-type {\n",
       "        vertical-align: middle;\n",
       "    }\n",
       "\n",
       "    .dataframe tbody tr th {\n",
       "        vertical-align: top;\n",
       "    }\n",
       "\n",
       "    .dataframe thead th {\n",
       "        text-align: right;\n",
       "    }\n",
       "</style>\n",
       "<table border=\"1\" class=\"dataframe\">\n",
       "  <thead>\n",
       "    <tr style=\"text-align: right;\">\n",
       "      <th></th>\n",
       "      <th>Year</th>\n",
       "      <th>Milk Produced</th>\n",
       "      <th>Number of Dairy Cows</th>\n",
       "    </tr>\n",
       "  </thead>\n",
       "  <tbody>\n",
       "    <tr>\n",
       "      <th>0</th>\n",
       "      <td>2011</td>\n",
       "      <td>3151.00</td>\n",
       "      <td>510.65</td>\n",
       "    </tr>\n",
       "    <tr>\n",
       "      <th>1</th>\n",
       "      <td>2011</td>\n",
       "      <td>1126.00</td>\n",
       "      <td>313.18</td>\n",
       "    </tr>\n",
       "    <tr>\n",
       "      <th>2</th>\n",
       "      <td>2011</td>\n",
       "      <td>2735.93</td>\n",
       "      <td>374.07</td>\n",
       "    </tr>\n",
       "    <tr>\n",
       "      <th>3</th>\n",
       "      <td>2011</td>\n",
       "      <td>4879.50</td>\n",
       "      <td>579.00</td>\n",
       "    </tr>\n",
       "    <tr>\n",
       "      <th>4</th>\n",
       "      <td>2011</td>\n",
       "      <td>30301.36</td>\n",
       "      <td>4190.10</td>\n",
       "    </tr>\n",
       "  </tbody>\n",
       "</table>\n",
       "</div>"
      ],
      "text/plain": [
       "   Year  Milk Produced  Number of Dairy Cows\n",
       "0  2011        3151.00                510.65\n",
       "1  2011        1126.00                313.18\n",
       "2  2011        2735.93                374.07\n",
       "3  2011        4879.50                579.00\n",
       "4  2011       30301.36               4190.10"
      ]
     },
     "execution_count": 13,
     "metadata": {},
     "output_type": "execute_result"
    }
   ],
   "source": [
    "# 'furnishingstatus' since we alreday have the dummy vars\n",
    "Milk_Bovine.drop(['Country'], axis = 1, inplace = True)\n",
    "Milk_Bovine.head()"
   ]
  },
  {
   "cell_type": "markdown",
   "id": "9cf3a6c3",
   "metadata": {},
   "source": [
    "I want to compare multiple regression models. First, I will build a vanilla Multiple Linear Regression (MLR) model without any cross-validation"
   ]
  },
  {
   "cell_type": "code",
   "execution_count": 14,
   "id": "37978119",
   "metadata": {},
   "outputs": [
    {
     "data": {
      "text/html": [
       "<div>\n",
       "<style scoped>\n",
       "    .dataframe tbody tr th:only-of-type {\n",
       "        vertical-align: middle;\n",
       "    }\n",
       "\n",
       "    .dataframe tbody tr th {\n",
       "        vertical-align: top;\n",
       "    }\n",
       "\n",
       "    .dataframe thead th {\n",
       "        text-align: right;\n",
       "    }\n",
       "</style>\n",
       "<table border=\"1\" class=\"dataframe\">\n",
       "  <thead>\n",
       "    <tr style=\"text-align: right;\">\n",
       "      <th></th>\n",
       "      <th>Year</th>\n",
       "      <th>Milk Produced</th>\n",
       "      <th>Number of Dairy Cows</th>\n",
       "    </tr>\n",
       "  </thead>\n",
       "  <tbody>\n",
       "    <tr>\n",
       "      <th>154</th>\n",
       "      <td>2016</td>\n",
       "      <td>0.108726</td>\n",
       "      <td>0.125262</td>\n",
       "    </tr>\n",
       "    <tr>\n",
       "      <th>97</th>\n",
       "      <td>2014</td>\n",
       "      <td>0.055724</td>\n",
       "      <td>0.058415</td>\n",
       "    </tr>\n",
       "    <tr>\n",
       "      <th>273</th>\n",
       "      <td>2021</td>\n",
       "      <td>0.169731</td>\n",
       "      <td>0.129751</td>\n",
       "    </tr>\n",
       "    <tr>\n",
       "      <th>200</th>\n",
       "      <td>2018</td>\n",
       "      <td>0.372308</td>\n",
       "      <td>0.453689</td>\n",
       "    </tr>\n",
       "    <tr>\n",
       "      <th>132</th>\n",
       "      <td>2015</td>\n",
       "      <td>0.027141</td>\n",
       "      <td>0.031256</td>\n",
       "    </tr>\n",
       "  </tbody>\n",
       "</table>\n",
       "</div>"
      ],
      "text/plain": [
       "     Year  Milk Produced  Number of Dairy Cows\n",
       "154  2016       0.108726              0.125262\n",
       "97   2014       0.055724              0.058415\n",
       "273  2021       0.169731              0.129751\n",
       "200  2018       0.372308              0.453689\n",
       "132  2015       0.027141              0.031256"
      ]
     },
     "execution_count": 14,
     "metadata": {},
     "output_type": "execute_result"
    }
   ],
   "source": [
    "# train-test 70-30 split\n",
    "df_train, df_test = train_test_split(Milk_Bovine, \n",
    "                                     train_size = 0.7, \n",
    "                                     test_size = 0.3, \n",
    "                                     random_state = 100)\n",
    "\n",
    "# rescale the features\n",
    "scaler = MinMaxScaler()\n",
    "\n",
    "# apply scaler() to all the numeric columns \n",
    "numeric_vars = ['Milk Produced', 'Number of Dairy Cows']\n",
    "df_train[numeric_vars] = scaler.fit_transform(df_train[numeric_vars])\n",
    "df_train.head()"
   ]
  },
  {
   "cell_type": "code",
   "execution_count": 15,
   "id": "abede22e",
   "metadata": {},
   "outputs": [
    {
     "data": {
      "text/html": [
       "<div>\n",
       "<style scoped>\n",
       "    .dataframe tbody tr th:only-of-type {\n",
       "        vertical-align: middle;\n",
       "    }\n",
       "\n",
       "    .dataframe tbody tr th {\n",
       "        vertical-align: top;\n",
       "    }\n",
       "\n",
       "    .dataframe thead th {\n",
       "        text-align: right;\n",
       "    }\n",
       "</style>\n",
       "<table border=\"1\" class=\"dataframe\">\n",
       "  <thead>\n",
       "    <tr style=\"text-align: right;\">\n",
       "      <th></th>\n",
       "      <th>Year</th>\n",
       "      <th>Milk Produced</th>\n",
       "      <th>Number of Dairy Cows</th>\n",
       "    </tr>\n",
       "  </thead>\n",
       "  <tbody>\n",
       "    <tr>\n",
       "      <th>220</th>\n",
       "      <td>2019</td>\n",
       "      <td>0.997442</td>\n",
       "      <td>0.933794</td>\n",
       "    </tr>\n",
       "    <tr>\n",
       "      <th>139</th>\n",
       "      <td>2016</td>\n",
       "      <td>0.985130</td>\n",
       "      <td>0.981822</td>\n",
       "    </tr>\n",
       "    <tr>\n",
       "      <th>223</th>\n",
       "      <td>2019</td>\n",
       "      <td>0.018712</td>\n",
       "      <td>0.018679</td>\n",
       "    </tr>\n",
       "    <tr>\n",
       "      <th>175</th>\n",
       "      <td>2017</td>\n",
       "      <td>0.028934</td>\n",
       "      <td>0.033682</td>\n",
       "    </tr>\n",
       "    <tr>\n",
       "      <th>229</th>\n",
       "      <td>2019</td>\n",
       "      <td>0.028358</td>\n",
       "      <td>0.030896</td>\n",
       "    </tr>\n",
       "  </tbody>\n",
       "</table>\n",
       "</div>"
      ],
      "text/plain": [
       "     Year  Milk Produced  Number of Dairy Cows\n",
       "220  2019       0.997442              0.933794\n",
       "139  2016       0.985130              0.981822\n",
       "223  2019       0.018712              0.018679\n",
       "175  2017       0.028934              0.033682\n",
       "229  2019       0.028358              0.030896"
      ]
     },
     "execution_count": 15,
     "metadata": {},
     "output_type": "execute_result"
    }
   ],
   "source": [
    "# apply rescaling to the test set also\n",
    "df_test[numeric_vars] = scaler.fit_transform(df_test[numeric_vars])\n",
    "df_test.head()"
   ]
  },
  {
   "cell_type": "code",
   "execution_count": 16,
   "id": "898c1b2b",
   "metadata": {},
   "outputs": [],
   "source": [
    "# divide into X_train, y_train, X_test, y_test\n",
    "y_train = df_train.pop('Milk Produced')\n",
    "X_train = df_train\n",
    "\n",
    "y_test = df_test.pop('Milk Produced')\n",
    "X_test = df_test"
   ]
  },
  {
   "cell_type": "markdown",
   "id": "15690eb8",
   "metadata": {},
   "source": [
    "#### Using Recursice Feature Elimination (RFE)"
   ]
  },
  {
   "cell_type": "code",
   "execution_count": 17,
   "id": "7a55fb2e",
   "metadata": {},
   "outputs": [
    {
     "data": {
      "text/plain": [
       "2"
      ]
     },
     "execution_count": 17,
     "metadata": {},
     "output_type": "execute_result"
    }
   ],
   "source": [
    "# num of max features\n",
    "len(X_train.columns)"
   ]
  },
  {
   "cell_type": "code",
   "execution_count": 18,
   "id": "276bc32d",
   "metadata": {},
   "outputs": [],
   "source": [
    "# first model with an arbitrary choice of n_features\n",
    "# running RFE with number of features=10\n",
    "\n",
    "lm = LinearRegression()\n",
    "lm.fit(X_train, y_train)\n",
    "\n",
    "rfe = RFE(lm, n_features_to_select=10)             \n",
    "rfe = rfe.fit(X_train, y_train)"
   ]
  },
  {
   "cell_type": "code",
   "execution_count": 19,
   "id": "6570261d",
   "metadata": {},
   "outputs": [
    {
     "data": {
      "text/plain": [
       "[('Year', True, 1), ('Number of Dairy Cows', True, 1)]"
      ]
     },
     "execution_count": 19,
     "metadata": {},
     "output_type": "execute_result"
    }
   ],
   "source": [
    "# tuples of (feature name, whether selected, ranking)\n",
    "# note that the 'rank' is > 1 for non-selected features\n",
    "list(zip(X_train.columns,rfe.support_,rfe.ranking_))"
   ]
  },
  {
   "cell_type": "code",
   "execution_count": 20,
   "id": "62051a61",
   "metadata": {},
   "outputs": [
    {
     "name": "stdout",
     "output_type": "stream",
     "text": [
      "0.9781404405453828\n"
     ]
    }
   ],
   "source": [
    "# predict prices of X_test\n",
    "y_pred = rfe.predict(X_test)\n",
    "\n",
    "# evaluate the model on test set\n",
    "r2 = sklearn.metrics.r2_score(y_test, y_pred)\n",
    "print(r2)"
   ]
  },
  {
   "cell_type": "code",
   "execution_count": 21,
   "id": "fe78ca4f",
   "metadata": {},
   "outputs": [
    {
     "name": "stdout",
     "output_type": "stream",
     "text": [
      "0.9781404405453828\n"
     ]
    }
   ],
   "source": [
    "# try with another value of RFE\n",
    "lm = LinearRegression()\n",
    "lm.fit(X_train, y_train)\n",
    "\n",
    "rfe = RFE(lm, n_features_to_select=6)             \n",
    "rfe = rfe.fit(X_train, y_train)\n",
    "\n",
    "# predict prices of X_test\n",
    "y_pred = rfe.predict(X_test)\n",
    "r2 = sklearn.metrics.r2_score(y_test, y_pred)\n",
    "print(r2)"
   ]
  },
  {
   "cell_type": "markdown",
   "id": "ea619143",
   "metadata": {},
   "source": [
    "#### C. Cross Validation"
   ]
  },
  {
   "cell_type": "markdown",
   "id": "c979e2e5",
   "metadata": {},
   "source": [
    "#### C.1. K-Fold CV"
   ]
  },
  {
   "cell_type": "code",
   "execution_count": 22,
   "id": "c368256b",
   "metadata": {},
   "outputs": [
    {
     "data": {
      "text/plain": [
       "array([0.94430419, 0.94985908, 0.96462964, 0.91352873, 0.961549  ])"
      ]
     },
     "execution_count": 22,
     "metadata": {},
     "output_type": "execute_result"
    }
   ],
   "source": [
    "# k-fold CV\n",
    "lm = LinearRegression()\n",
    "scores = cross_val_score(lm, X_train, y_train, scoring='r2', cv=5)\n",
    "scores"
   ]
  },
  {
   "cell_type": "code",
   "execution_count": 23,
   "id": "8ebcaf2e",
   "metadata": {},
   "outputs": [
    {
     "data": {
      "text/plain": [
       "array([0.94725753, 0.96054063, 0.93322491, 0.94406845, 0.96905013])"
      ]
     },
     "execution_count": 23,
     "metadata": {},
     "output_type": "execute_result"
    }
   ],
   "source": [
    "# create a KFold object with 5 splits \n",
    "folds = KFold(n_splits = 5, shuffle = True, random_state = 100)\n",
    "scores = cross_val_score(lm, X_train, y_train, scoring='r2', cv=folds)\n",
    "scores   "
   ]
  },
  {
   "cell_type": "code",
   "execution_count": 24,
   "id": "ad189db0",
   "metadata": {},
   "outputs": [
    {
     "data": {
      "text/plain": [
       "array([-0.00194496, -0.00303835, -0.00125357, -0.001917  , -0.00251077])"
      ]
     },
     "execution_count": 24,
     "metadata": {},
     "output_type": "execute_result"
    }
   ],
   "source": [
    "# tune other metrics, such as MSE\n",
    "scores = cross_val_score(lm, X_train, y_train, scoring='neg_mean_squared_error', cv=5)\n",
    "scores"
   ]
  },
  {
   "cell_type": "markdown",
   "id": "2a43cad5",
   "metadata": {},
   "source": [
    "#### C.2. Hyperparameter Tuning Using Grid Search Cross Validation"
   ]
  },
  {
   "cell_type": "code",
   "execution_count": 25,
   "id": "a197d107",
   "metadata": {},
   "outputs": [
    {
     "data": {
      "text/plain": [
       "2"
      ]
     },
     "execution_count": 25,
     "metadata": {},
     "output_type": "execute_result"
    }
   ],
   "source": [
    "# number of features in X_train\n",
    "len(X_train.columns)"
   ]
  },
  {
   "cell_type": "code",
   "execution_count": 26,
   "id": "03b7036b",
   "metadata": {},
   "outputs": [
    {
     "name": "stdout",
     "output_type": "stream",
     "text": [
      "Fitting 5 folds for each of 13 candidates, totalling 65 fits\n"
     ]
    },
    {
     "data": {
      "text/plain": [
       "GridSearchCV(cv=KFold(n_splits=5, random_state=100, shuffle=True),\n",
       "             estimator=RFE(estimator=LinearRegression()),\n",
       "             param_grid=[{'n_features_to_select': [1, 2, 3, 4, 5, 6, 7, 8, 9,\n",
       "                                                   10, 11, 12, 13]}],\n",
       "             return_train_score=True, scoring='r2', verbose=1)"
      ]
     },
     "execution_count": 26,
     "metadata": {},
     "output_type": "execute_result"
    }
   ],
   "source": [
    "# step-1: create a cross-validation scheme\n",
    "folds = KFold(n_splits = 5, shuffle = True, random_state = 100)\n",
    "\n",
    "# step-2: specify range of hyperparameters to tune\n",
    "hyper_params = [{'n_features_to_select': list(range(1, 14))}]\n",
    "\n",
    "\n",
    "# step-3: perform grid search\n",
    "# 3.1 specify model\n",
    "lm = LinearRegression()\n",
    "lm.fit(X_train, y_train)\n",
    "rfe = RFE(lm)             \n",
    "\n",
    "# 3.2 call GridSearchCV()\n",
    "model_cv = GridSearchCV(estimator = rfe, \n",
    "                        param_grid = hyper_params, \n",
    "                        scoring= 'r2', \n",
    "                        cv = folds, \n",
    "                        verbose = 1,\n",
    "                        return_train_score=True)      \n",
    "\n",
    "# fit the model\n",
    "model_cv.fit(X_train, y_train)                  \n"
   ]
  },
  {
   "cell_type": "code",
   "execution_count": 27,
   "id": "a96cba80",
   "metadata": {},
   "outputs": [
    {
     "data": {
      "text/html": [
       "<div>\n",
       "<style scoped>\n",
       "    .dataframe tbody tr th:only-of-type {\n",
       "        vertical-align: middle;\n",
       "    }\n",
       "\n",
       "    .dataframe tbody tr th {\n",
       "        vertical-align: top;\n",
       "    }\n",
       "\n",
       "    .dataframe thead th {\n",
       "        text-align: right;\n",
       "    }\n",
       "</style>\n",
       "<table border=\"1\" class=\"dataframe\">\n",
       "  <thead>\n",
       "    <tr style=\"text-align: right;\">\n",
       "      <th></th>\n",
       "      <th>mean_fit_time</th>\n",
       "      <th>std_fit_time</th>\n",
       "      <th>mean_score_time</th>\n",
       "      <th>std_score_time</th>\n",
       "      <th>param_n_features_to_select</th>\n",
       "      <th>params</th>\n",
       "      <th>split0_test_score</th>\n",
       "      <th>split1_test_score</th>\n",
       "      <th>split2_test_score</th>\n",
       "      <th>split3_test_score</th>\n",
       "      <th>...</th>\n",
       "      <th>mean_test_score</th>\n",
       "      <th>std_test_score</th>\n",
       "      <th>rank_test_score</th>\n",
       "      <th>split0_train_score</th>\n",
       "      <th>split1_train_score</th>\n",
       "      <th>split2_train_score</th>\n",
       "      <th>split3_train_score</th>\n",
       "      <th>split4_train_score</th>\n",
       "      <th>mean_train_score</th>\n",
       "      <th>std_train_score</th>\n",
       "    </tr>\n",
       "  </thead>\n",
       "  <tbody>\n",
       "    <tr>\n",
       "      <th>0</th>\n",
       "      <td>0.001601</td>\n",
       "      <td>0.003202</td>\n",
       "      <td>0.001640</td>\n",
       "      <td>0.003281</td>\n",
       "      <td>1</td>\n",
       "      <td>{'n_features_to_select': 1}</td>\n",
       "      <td>0.950646</td>\n",
       "      <td>0.960653</td>\n",
       "      <td>0.929022</td>\n",
       "      <td>0.943457</td>\n",
       "      <td>...</td>\n",
       "      <td>0.950843</td>\n",
       "      <td>0.014219</td>\n",
       "      <td>1</td>\n",
       "      <td>0.951948</td>\n",
       "      <td>0.949533</td>\n",
       "      <td>0.958998</td>\n",
       "      <td>0.952447</td>\n",
       "      <td>0.947161</td>\n",
       "      <td>0.952017</td>\n",
       "      <td>0.003967</td>\n",
       "    </tr>\n",
       "    <tr>\n",
       "      <th>1</th>\n",
       "      <td>0.001606</td>\n",
       "      <td>0.003213</td>\n",
       "      <td>0.000000</td>\n",
       "      <td>0.000000</td>\n",
       "      <td>2</td>\n",
       "      <td>{'n_features_to_select': 2}</td>\n",
       "      <td>0.947258</td>\n",
       "      <td>0.960541</td>\n",
       "      <td>0.933225</td>\n",
       "      <td>0.944068</td>\n",
       "      <td>...</td>\n",
       "      <td>0.950828</td>\n",
       "      <td>0.012607</td>\n",
       "      <td>2</td>\n",
       "      <td>0.955467</td>\n",
       "      <td>0.952284</td>\n",
       "      <td>0.959323</td>\n",
       "      <td>0.954912</td>\n",
       "      <td>0.950193</td>\n",
       "      <td>0.954436</td>\n",
       "      <td>0.003092</td>\n",
       "    </tr>\n",
       "    <tr>\n",
       "      <th>2</th>\n",
       "      <td>0.001620</td>\n",
       "      <td>0.003240</td>\n",
       "      <td>0.001640</td>\n",
       "      <td>0.003279</td>\n",
       "      <td>3</td>\n",
       "      <td>{'n_features_to_select': 3}</td>\n",
       "      <td>0.947258</td>\n",
       "      <td>0.960541</td>\n",
       "      <td>0.933225</td>\n",
       "      <td>0.944068</td>\n",
       "      <td>...</td>\n",
       "      <td>0.950828</td>\n",
       "      <td>0.012607</td>\n",
       "      <td>2</td>\n",
       "      <td>0.955467</td>\n",
       "      <td>0.952284</td>\n",
       "      <td>0.959323</td>\n",
       "      <td>0.954912</td>\n",
       "      <td>0.950193</td>\n",
       "      <td>0.954436</td>\n",
       "      <td>0.003092</td>\n",
       "    </tr>\n",
       "    <tr>\n",
       "      <th>3</th>\n",
       "      <td>0.001603</td>\n",
       "      <td>0.003206</td>\n",
       "      <td>0.000000</td>\n",
       "      <td>0.000000</td>\n",
       "      <td>4</td>\n",
       "      <td>{'n_features_to_select': 4}</td>\n",
       "      <td>0.947258</td>\n",
       "      <td>0.960541</td>\n",
       "      <td>0.933225</td>\n",
       "      <td>0.944068</td>\n",
       "      <td>...</td>\n",
       "      <td>0.950828</td>\n",
       "      <td>0.012607</td>\n",
       "      <td>2</td>\n",
       "      <td>0.955467</td>\n",
       "      <td>0.952284</td>\n",
       "      <td>0.959323</td>\n",
       "      <td>0.954912</td>\n",
       "      <td>0.950193</td>\n",
       "      <td>0.954436</td>\n",
       "      <td>0.003092</td>\n",
       "    </tr>\n",
       "    <tr>\n",
       "      <th>4</th>\n",
       "      <td>0.000000</td>\n",
       "      <td>0.000000</td>\n",
       "      <td>0.000000</td>\n",
       "      <td>0.000000</td>\n",
       "      <td>5</td>\n",
       "      <td>{'n_features_to_select': 5}</td>\n",
       "      <td>0.947258</td>\n",
       "      <td>0.960541</td>\n",
       "      <td>0.933225</td>\n",
       "      <td>0.944068</td>\n",
       "      <td>...</td>\n",
       "      <td>0.950828</td>\n",
       "      <td>0.012607</td>\n",
       "      <td>2</td>\n",
       "      <td>0.955467</td>\n",
       "      <td>0.952284</td>\n",
       "      <td>0.959323</td>\n",
       "      <td>0.954912</td>\n",
       "      <td>0.950193</td>\n",
       "      <td>0.954436</td>\n",
       "      <td>0.003092</td>\n",
       "    </tr>\n",
       "    <tr>\n",
       "      <th>5</th>\n",
       "      <td>0.001599</td>\n",
       "      <td>0.003199</td>\n",
       "      <td>0.001599</td>\n",
       "      <td>0.003199</td>\n",
       "      <td>6</td>\n",
       "      <td>{'n_features_to_select': 6}</td>\n",
       "      <td>0.947258</td>\n",
       "      <td>0.960541</td>\n",
       "      <td>0.933225</td>\n",
       "      <td>0.944068</td>\n",
       "      <td>...</td>\n",
       "      <td>0.950828</td>\n",
       "      <td>0.012607</td>\n",
       "      <td>2</td>\n",
       "      <td>0.955467</td>\n",
       "      <td>0.952284</td>\n",
       "      <td>0.959323</td>\n",
       "      <td>0.954912</td>\n",
       "      <td>0.950193</td>\n",
       "      <td>0.954436</td>\n",
       "      <td>0.003092</td>\n",
       "    </tr>\n",
       "    <tr>\n",
       "      <th>6</th>\n",
       "      <td>0.003199</td>\n",
       "      <td>0.003918</td>\n",
       "      <td>0.000000</td>\n",
       "      <td>0.000000</td>\n",
       "      <td>7</td>\n",
       "      <td>{'n_features_to_select': 7}</td>\n",
       "      <td>0.947258</td>\n",
       "      <td>0.960541</td>\n",
       "      <td>0.933225</td>\n",
       "      <td>0.944068</td>\n",
       "      <td>...</td>\n",
       "      <td>0.950828</td>\n",
       "      <td>0.012607</td>\n",
       "      <td>2</td>\n",
       "      <td>0.955467</td>\n",
       "      <td>0.952284</td>\n",
       "      <td>0.959323</td>\n",
       "      <td>0.954912</td>\n",
       "      <td>0.950193</td>\n",
       "      <td>0.954436</td>\n",
       "      <td>0.003092</td>\n",
       "    </tr>\n",
       "    <tr>\n",
       "      <th>7</th>\n",
       "      <td>0.001599</td>\n",
       "      <td>0.003199</td>\n",
       "      <td>0.000000</td>\n",
       "      <td>0.000000</td>\n",
       "      <td>8</td>\n",
       "      <td>{'n_features_to_select': 8}</td>\n",
       "      <td>0.947258</td>\n",
       "      <td>0.960541</td>\n",
       "      <td>0.933225</td>\n",
       "      <td>0.944068</td>\n",
       "      <td>...</td>\n",
       "      <td>0.950828</td>\n",
       "      <td>0.012607</td>\n",
       "      <td>2</td>\n",
       "      <td>0.955467</td>\n",
       "      <td>0.952284</td>\n",
       "      <td>0.959323</td>\n",
       "      <td>0.954912</td>\n",
       "      <td>0.950193</td>\n",
       "      <td>0.954436</td>\n",
       "      <td>0.003092</td>\n",
       "    </tr>\n",
       "    <tr>\n",
       "      <th>8</th>\n",
       "      <td>0.001599</td>\n",
       "      <td>0.003198</td>\n",
       "      <td>0.000000</td>\n",
       "      <td>0.000000</td>\n",
       "      <td>9</td>\n",
       "      <td>{'n_features_to_select': 9}</td>\n",
       "      <td>0.947258</td>\n",
       "      <td>0.960541</td>\n",
       "      <td>0.933225</td>\n",
       "      <td>0.944068</td>\n",
       "      <td>...</td>\n",
       "      <td>0.950828</td>\n",
       "      <td>0.012607</td>\n",
       "      <td>2</td>\n",
       "      <td>0.955467</td>\n",
       "      <td>0.952284</td>\n",
       "      <td>0.959323</td>\n",
       "      <td>0.954912</td>\n",
       "      <td>0.950193</td>\n",
       "      <td>0.954436</td>\n",
       "      <td>0.003092</td>\n",
       "    </tr>\n",
       "    <tr>\n",
       "      <th>9</th>\n",
       "      <td>0.001600</td>\n",
       "      <td>0.003199</td>\n",
       "      <td>0.001599</td>\n",
       "      <td>0.003198</td>\n",
       "      <td>10</td>\n",
       "      <td>{'n_features_to_select': 10}</td>\n",
       "      <td>0.947258</td>\n",
       "      <td>0.960541</td>\n",
       "      <td>0.933225</td>\n",
       "      <td>0.944068</td>\n",
       "      <td>...</td>\n",
       "      <td>0.950828</td>\n",
       "      <td>0.012607</td>\n",
       "      <td>2</td>\n",
       "      <td>0.955467</td>\n",
       "      <td>0.952284</td>\n",
       "      <td>0.959323</td>\n",
       "      <td>0.954912</td>\n",
       "      <td>0.950193</td>\n",
       "      <td>0.954436</td>\n",
       "      <td>0.003092</td>\n",
       "    </tr>\n",
       "    <tr>\n",
       "      <th>10</th>\n",
       "      <td>0.001599</td>\n",
       "      <td>0.003199</td>\n",
       "      <td>0.001599</td>\n",
       "      <td>0.003198</td>\n",
       "      <td>11</td>\n",
       "      <td>{'n_features_to_select': 11}</td>\n",
       "      <td>0.947258</td>\n",
       "      <td>0.960541</td>\n",
       "      <td>0.933225</td>\n",
       "      <td>0.944068</td>\n",
       "      <td>...</td>\n",
       "      <td>0.950828</td>\n",
       "      <td>0.012607</td>\n",
       "      <td>2</td>\n",
       "      <td>0.955467</td>\n",
       "      <td>0.952284</td>\n",
       "      <td>0.959323</td>\n",
       "      <td>0.954912</td>\n",
       "      <td>0.950193</td>\n",
       "      <td>0.954436</td>\n",
       "      <td>0.003092</td>\n",
       "    </tr>\n",
       "    <tr>\n",
       "      <th>11</th>\n",
       "      <td>0.000000</td>\n",
       "      <td>0.000000</td>\n",
       "      <td>0.001599</td>\n",
       "      <td>0.003199</td>\n",
       "      <td>12</td>\n",
       "      <td>{'n_features_to_select': 12}</td>\n",
       "      <td>0.947258</td>\n",
       "      <td>0.960541</td>\n",
       "      <td>0.933225</td>\n",
       "      <td>0.944068</td>\n",
       "      <td>...</td>\n",
       "      <td>0.950828</td>\n",
       "      <td>0.012607</td>\n",
       "      <td>2</td>\n",
       "      <td>0.955467</td>\n",
       "      <td>0.952284</td>\n",
       "      <td>0.959323</td>\n",
       "      <td>0.954912</td>\n",
       "      <td>0.950193</td>\n",
       "      <td>0.954436</td>\n",
       "      <td>0.003092</td>\n",
       "    </tr>\n",
       "    <tr>\n",
       "      <th>12</th>\n",
       "      <td>0.000000</td>\n",
       "      <td>0.000000</td>\n",
       "      <td>0.004798</td>\n",
       "      <td>0.003917</td>\n",
       "      <td>13</td>\n",
       "      <td>{'n_features_to_select': 13}</td>\n",
       "      <td>0.947258</td>\n",
       "      <td>0.960541</td>\n",
       "      <td>0.933225</td>\n",
       "      <td>0.944068</td>\n",
       "      <td>...</td>\n",
       "      <td>0.950828</td>\n",
       "      <td>0.012607</td>\n",
       "      <td>2</td>\n",
       "      <td>0.955467</td>\n",
       "      <td>0.952284</td>\n",
       "      <td>0.959323</td>\n",
       "      <td>0.954912</td>\n",
       "      <td>0.950193</td>\n",
       "      <td>0.954436</td>\n",
       "      <td>0.003092</td>\n",
       "    </tr>\n",
       "  </tbody>\n",
       "</table>\n",
       "<p>13 rows × 21 columns</p>\n",
       "</div>"
      ],
      "text/plain": [
       "    mean_fit_time  std_fit_time  mean_score_time  std_score_time  \\\n",
       "0        0.001601      0.003202         0.001640        0.003281   \n",
       "1        0.001606      0.003213         0.000000        0.000000   \n",
       "2        0.001620      0.003240         0.001640        0.003279   \n",
       "3        0.001603      0.003206         0.000000        0.000000   \n",
       "4        0.000000      0.000000         0.000000        0.000000   \n",
       "5        0.001599      0.003199         0.001599        0.003199   \n",
       "6        0.003199      0.003918         0.000000        0.000000   \n",
       "7        0.001599      0.003199         0.000000        0.000000   \n",
       "8        0.001599      0.003198         0.000000        0.000000   \n",
       "9        0.001600      0.003199         0.001599        0.003198   \n",
       "10       0.001599      0.003199         0.001599        0.003198   \n",
       "11       0.000000      0.000000         0.001599        0.003199   \n",
       "12       0.000000      0.000000         0.004798        0.003917   \n",
       "\n",
       "   param_n_features_to_select                        params  \\\n",
       "0                           1   {'n_features_to_select': 1}   \n",
       "1                           2   {'n_features_to_select': 2}   \n",
       "2                           3   {'n_features_to_select': 3}   \n",
       "3                           4   {'n_features_to_select': 4}   \n",
       "4                           5   {'n_features_to_select': 5}   \n",
       "5                           6   {'n_features_to_select': 6}   \n",
       "6                           7   {'n_features_to_select': 7}   \n",
       "7                           8   {'n_features_to_select': 8}   \n",
       "8                           9   {'n_features_to_select': 9}   \n",
       "9                          10  {'n_features_to_select': 10}   \n",
       "10                         11  {'n_features_to_select': 11}   \n",
       "11                         12  {'n_features_to_select': 12}   \n",
       "12                         13  {'n_features_to_select': 13}   \n",
       "\n",
       "    split0_test_score  split1_test_score  split2_test_score  \\\n",
       "0            0.950646           0.960653           0.929022   \n",
       "1            0.947258           0.960541           0.933225   \n",
       "2            0.947258           0.960541           0.933225   \n",
       "3            0.947258           0.960541           0.933225   \n",
       "4            0.947258           0.960541           0.933225   \n",
       "5            0.947258           0.960541           0.933225   \n",
       "6            0.947258           0.960541           0.933225   \n",
       "7            0.947258           0.960541           0.933225   \n",
       "8            0.947258           0.960541           0.933225   \n",
       "9            0.947258           0.960541           0.933225   \n",
       "10           0.947258           0.960541           0.933225   \n",
       "11           0.947258           0.960541           0.933225   \n",
       "12           0.947258           0.960541           0.933225   \n",
       "\n",
       "    split3_test_score  ...  mean_test_score  std_test_score  rank_test_score  \\\n",
       "0            0.943457  ...         0.950843        0.014219                1   \n",
       "1            0.944068  ...         0.950828        0.012607                2   \n",
       "2            0.944068  ...         0.950828        0.012607                2   \n",
       "3            0.944068  ...         0.950828        0.012607                2   \n",
       "4            0.944068  ...         0.950828        0.012607                2   \n",
       "5            0.944068  ...         0.950828        0.012607                2   \n",
       "6            0.944068  ...         0.950828        0.012607                2   \n",
       "7            0.944068  ...         0.950828        0.012607                2   \n",
       "8            0.944068  ...         0.950828        0.012607                2   \n",
       "9            0.944068  ...         0.950828        0.012607                2   \n",
       "10           0.944068  ...         0.950828        0.012607                2   \n",
       "11           0.944068  ...         0.950828        0.012607                2   \n",
       "12           0.944068  ...         0.950828        0.012607                2   \n",
       "\n",
       "    split0_train_score  split1_train_score  split2_train_score  \\\n",
       "0             0.951948            0.949533            0.958998   \n",
       "1             0.955467            0.952284            0.959323   \n",
       "2             0.955467            0.952284            0.959323   \n",
       "3             0.955467            0.952284            0.959323   \n",
       "4             0.955467            0.952284            0.959323   \n",
       "5             0.955467            0.952284            0.959323   \n",
       "6             0.955467            0.952284            0.959323   \n",
       "7             0.955467            0.952284            0.959323   \n",
       "8             0.955467            0.952284            0.959323   \n",
       "9             0.955467            0.952284            0.959323   \n",
       "10            0.955467            0.952284            0.959323   \n",
       "11            0.955467            0.952284            0.959323   \n",
       "12            0.955467            0.952284            0.959323   \n",
       "\n",
       "    split3_train_score  split4_train_score  mean_train_score  std_train_score  \n",
       "0             0.952447            0.947161          0.952017         0.003967  \n",
       "1             0.954912            0.950193          0.954436         0.003092  \n",
       "2             0.954912            0.950193          0.954436         0.003092  \n",
       "3             0.954912            0.950193          0.954436         0.003092  \n",
       "4             0.954912            0.950193          0.954436         0.003092  \n",
       "5             0.954912            0.950193          0.954436         0.003092  \n",
       "6             0.954912            0.950193          0.954436         0.003092  \n",
       "7             0.954912            0.950193          0.954436         0.003092  \n",
       "8             0.954912            0.950193          0.954436         0.003092  \n",
       "9             0.954912            0.950193          0.954436         0.003092  \n",
       "10            0.954912            0.950193          0.954436         0.003092  \n",
       "11            0.954912            0.950193          0.954436         0.003092  \n",
       "12            0.954912            0.950193          0.954436         0.003092  \n",
       "\n",
       "[13 rows x 21 columns]"
      ]
     },
     "execution_count": 27,
     "metadata": {},
     "output_type": "execute_result"
    }
   ],
   "source": [
    "# cv results\n",
    "cv_results = pd.DataFrame(model_cv.cv_results_)\n",
    "cv_results"
   ]
  },
  {
   "cell_type": "code",
   "execution_count": 28,
   "id": "5391aca6",
   "metadata": {},
   "outputs": [
    {
     "data": {
      "text/plain": [
       "<matplotlib.legend.Legend at 0x1e84ca28eb0>"
      ]
     },
     "execution_count": 28,
     "metadata": {},
     "output_type": "execute_result"
    },
    {
     "data": {
      "image/png": "[encoded data removed]",
      "text/plain": [
       "<Figure size 1152x432 with 1 Axes>"
      ]
     },
     "metadata": {
      "needs_background": "light"
     },
     "output_type": "display_data"
    }
   ],
   "source": [
    "# plotting cv results\n",
    "plt.figure(figsize=(16,6))\n",
    "\n",
    "plt.plot(cv_results[\"param_n_features_to_select\"], cv_results[\"mean_test_score\"])\n",
    "plt.plot(cv_results[\"param_n_features_to_select\"], cv_results[\"mean_train_score\"])\n",
    "plt.xlabel('number of features')\n",
    "plt.ylabel('r-squared')\n",
    "plt.title(\"Optimal Number of Features\")\n",
    "plt.legend(['test score', 'train score'], loc='upper left')"
   ]
  },
  {
   "cell_type": "code",
   "execution_count": 29,
   "id": "d9b712a1",
   "metadata": {},
   "outputs": [
    {
     "name": "stdout",
     "output_type": "stream",
     "text": [
      "0.9781404405453828\n"
     ]
    }
   ],
   "source": [
    "# final model\n",
    "n_features_optimal = 10\n",
    "\n",
    "lm = LinearRegression()\n",
    "lm.fit(X_train, y_train)\n",
    "\n",
    "rfe = RFE(lm, n_features_to_select=n_features_optimal)             \n",
    "rfe = rfe.fit(X_train, y_train)\n",
    "\n",
    "# predict prices of X_test\n",
    "y_pred = lm.predict(X_test)\n",
    "r2 = sklearn.metrics.r2_score(y_test, y_pred)\n",
    "print(r2)"
   ]
  },
  {
   "cell_type": "markdown",
   "id": "72d51147",
   "metadata": {},
   "source": [
    "Notice that the test score is very close to the 'mean test score'."
   ]
  },
  {
   "cell_type": "markdown",
   "id": "0ebe1d16",
   "metadata": {},
   "source": [
    "## Comparison of Machine Learning Models"
   ]
  },
  {
   "cell_type": "code",
   "execution_count": 30,
   "id": "b54518da",
   "metadata": {},
   "outputs": [
    {
     "ename": "ModuleNotFoundError",
     "evalue": "No module named 'mlxtend'",
     "output_type": "error",
     "traceback": [
      "\u001b[1;31m---------------------------------------------------------------------------\u001b[0m",
      "\u001b[1;31mModuleNotFoundError\u001b[0m                       Traceback (most recent call last)",
      "Input \u001b[1;32mIn [30]\u001b[0m, in \u001b[0;36m<cell line: 8>\u001b[1;34m()\u001b[0m\n\u001b[0;32m      6\u001b[0m \u001b[38;5;28;01mfrom\u001b[39;00m \u001b[38;5;21;01msklearn\u001b[39;00m\u001b[38;5;21;01m.\u001b[39;00m\u001b[38;5;21;01msvm\u001b[39;00m \u001b[38;5;28;01mimport\u001b[39;00m SVC\n\u001b[0;32m      7\u001b[0m \u001b[38;5;28;01mfrom\u001b[39;00m \u001b[38;5;21;01msklearn\u001b[39;00m\u001b[38;5;21;01m.\u001b[39;00m\u001b[38;5;21;01mensemble\u001b[39;00m \u001b[38;5;28;01mimport\u001b[39;00m RandomForestClassifier\n\u001b[1;32m----> 8\u001b[0m \u001b[38;5;28;01mfrom\u001b[39;00m \u001b[38;5;21;01mmlxtend\u001b[39;00m\u001b[38;5;21;01m.\u001b[39;00m\u001b[38;5;21;01mclassifier\u001b[39;00m \u001b[38;5;28;01mimport\u001b[39;00m EnsembleVoteClassifier\n\u001b[0;32m      9\u001b[0m \u001b[38;5;28;01mfrom\u001b[39;00m \u001b[38;5;21;01mmlxtend\u001b[39;00m\u001b[38;5;21;01m.\u001b[39;00m\u001b[38;5;21;01mdata\u001b[39;00m \u001b[38;5;28;01mimport\u001b[39;00m iris_data\n\u001b[0;32m     10\u001b[0m \u001b[38;5;28;01mfrom\u001b[39;00m \u001b[38;5;21;01mmlxtend\u001b[39;00m\u001b[38;5;21;01m.\u001b[39;00m\u001b[38;5;21;01mplotting\u001b[39;00m \u001b[38;5;28;01mimport\u001b[39;00m plot_decision_regions\n",
      "\u001b[1;31mModuleNotFoundError\u001b[0m: No module named 'mlxtend'"
     ]
    }
   ],
   "source": [
    "import numpy as np\n",
    "import matplotlib.pyplot as plt\n",
    "import matplotlib.gridspec as gridspec\n",
    "import itertools\n",
    "from sklearn.linear_model import LogisticRegression\n",
    "from sklearn.svm import SVC\n",
    "from sklearn.ensemble import RandomForestClassifier\n",
    "from mlxtend.classifier import EnsembleVoteClassifier\n",
    "from mlxtend.data import iris_data\n",
    "from mlxtend.plotting import plot_decision_regions\n",
    "\n",
    "# Initializing Classifiers\n",
    "clf1 = LogisticRegression(random_state=0)\n",
    "clf2 = RandomForestClassifier(random_state=0)\n",
    "clf3 = SVC(random_state=0, probability=True)\n",
    "eclf = EnsembleVoteClassifier(clfs=[clf1, clf2, clf3], weights=[2, 1, 1], voting='soft')\n",
    "\n",
    "# Loading some example data\n",
    "X, y = Milk_Bovine()\n",
    "X = X[:,[0, 2]]\n",
    "\n",
    "# Plotting Decision Regions\n",
    "gs = gridspec.GridSpec(2, 2)\n",
    "fig = plt.figure(figsize=(10, 8))\n",
    "\n",
    "for clf, lab, grd in zip([clf1, clf2, clf3, eclf],\n",
    "                         ['Logistic Regression', 'Random Forest', 'RBF kernel SVM', 'Ensemble'],\n",
    "                         itertools.product([0, 1], repeat=2)):\n",
    "    clf.fit(X, y)\n",
    "    ax = plt.subplot(gs[grd[0], grd[1]])\n",
    "    fig = plot_decision_regions(X=X, y=y, clf=clf, legend=2)\n",
    "    plt.title(lab)\n",
    "plt.show()"
   ]
  },
  {
   "cell_type": "code",
   "execution_count": null,
   "id": "bfd3c7f9",
   "metadata": {},
   "outputs": [],
   "source": []
  }
 ],
 "metadata": {
  "kernelspec": {
   "display_name": "Python 3 (ipykernel)",
   "language": "python",
   "name": "python3"
  },
  "language_info": {
   "codemirror_mode": {
    "name": "ipython",
    "version": 3
   },
   "file_extension": ".py",
   "mimetype": "text/x-python",
   "name": "python",
   "nbconvert_exporter": "python",
   "pygments_lexer": "ipython3",
   "version": "3.9.12"
  }
 },
 "nbformat": 4,
 "nbformat_minor": 5
}
